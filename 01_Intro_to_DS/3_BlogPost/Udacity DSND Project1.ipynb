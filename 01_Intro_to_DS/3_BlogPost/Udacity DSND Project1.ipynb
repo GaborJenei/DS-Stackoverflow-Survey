{
 "cells": [
  {
   "cell_type": "markdown",
   "metadata": {},
   "source": [
    "# Crash look at UK road traffic accident data"
   ]
  },
  {
   "cell_type": "code",
   "execution_count": 1,
   "metadata": {},
   "outputs": [],
   "source": [
    "# Imports\n",
    "# Data Processing\n",
    "from time import time\n",
    "import numpy as np\n",
    "import pandas as pd\n",
    "\n",
    "# Modelling\n",
    "from sklearn.neighbors import KDTree\n",
    "from sklearn.cluster import DBSCAN, OPTICS\n",
    "from sklearn import metrics\n",
    "from sklearn.preprocessing import StandardScaler\n",
    "\n",
    "import torch\n",
    "import torch.nn as nn\n",
    "\n",
    "# Visualisation Packages\n",
    "import matplotlib.pyplot as plt\n",
    "import seaborn as sns\n",
    "import plotly.express as px"
   ]
  },
  {
   "cell_type": "markdown",
   "metadata": {},
   "source": [
    "## Read up the data"
   ]
  },
  {
   "cell_type": "code",
   "execution_count": 2,
   "metadata": {},
   "outputs": [],
   "source": [
    "######### Read up accidents\n",
    "accidents_2019 = pd.read_csv(r\"http://data.dft.gov.uk/road-accidents-safety-data/DfTRoadSafety_Accidents_2019.zip\",low_memory=False, compression='zip')\n",
    "accidents_2018 = pd.read_csv(r\"http://data.dft.gov.uk/road-accidents-safety-data/dftRoadSafetyData_Accidents_2018.csv\",low_memory=False)\n",
    "accidents_2017 = pd.read_csv(r\"http://data.dft.gov.uk.s3.amazonaws.com/road-accidents-safety-data/dftRoadSafetyData_Accidents_2017.zip\",low_memory=False, compression='zip')\n",
    "accidents_2016 = pd.read_csv(r\"http://data.dft.gov.uk/road-accidents-safety-data/dftRoadSafety_Accidents_2016.zip\",low_memory=False, compression='zip')\n",
    "accidents_2015 = pd.read_csv(r\"http://data.dft.gov.uk/road-accidents-safety-data/RoadSafetyData_Accidents_2015.zip\",low_memory=False, compression='zip')\n",
    "accidents_2014 = pd.read_csv(r\"http://data.dft.gov.uk/road-accidents-safety-data/DfTRoadSafety_Accidents_2014.zip\",low_memory=False)\n",
    "\n",
    "######### Read up casualties\n",
    "casualties_2019 = pd.read_csv(r\"http://data.dft.gov.uk/road-accidents-safety-data/DfTRoadSafety_Casualties_2019.zip\",low_memory=False, compression='zip')\n",
    "casualties_2018 = pd.read_csv(r\"http://data.dft.gov.uk/road-accidents-safety-data/dftRoadSafetyData_Casualties_2018.csv\",low_memory=False)\n",
    "casualties_2017 = pd.read_csv(r\"http://data.dft.gov.uk.s3.amazonaws.com/road-accidents-safety-data/dftRoadSafetyData_Casualties_2017.zip\",low_memory=False, compression='zip')\n",
    "casualties_2016 = pd.read_csv(r\"http://data.dft.gov.uk/road-accidents-safety-data/dftRoadSafetyData_Casualties_2016.zip\",low_memory=False, compression='zip')\n",
    "casualties_2015 = pd.read_csv(r\"http://data.dft.gov.uk/road-accidents-safety-data/RoadSafetyData_Casualties_2015.zip\",low_memory=False, compression='zip')\n",
    "casualties_2014 = pd.read_csv(r\"http://data.dft.gov.uk/road-accidents-safety-data/DfTRoadSafety_Casualties_2014.zip\",low_memory=False, compression='zip')\n",
    "\n",
    "######### Read up vehicles\n",
    "vehicles_2019 = pd.read_csv(r\"http://data.dft.gov.uk/road-accidents-safety-data/DfTRoadSafety_Vehicles_2019.zip\",low_memory=False, compression='zip')\n",
    "vehicles_2018 = pd.read_csv(r\"http://data.dft.gov.uk/road-accidents-safety-data/dftRoadSafetyData_Vehicles_2018.csv\",low_memory=False)\n",
    "vehicles_2017 = pd.read_csv(r\"http://data.dft.gov.uk.s3.amazonaws.com/road-accidents-safety-data/dftRoadSafetyData_Vehicles_2017.zip\",low_memory=False, compression='zip')\n",
    "vehicles_2016 = pd.read_csv(r\"http://data.dft.gov.uk/road-accidents-safety-data/dftRoadSafetyData_Vehicles_2016.zip\",low_memory=False, compression='zip')\n",
    "vehicles_2015 = pd.read_csv(r\"http://data.dft.gov.uk/road-accidents-safety-data/RoadSafetyData_Vehicles_2015.zip\",low_memory=False, compression='zip')\n",
    "vehicles_2014 = pd.read_csv(r\"http://data.dft.gov.uk/road-accidents-safety-data/DfTRoadSafety_Vehicles_2014.zip\",low_memory=False, compression='zip')\n",
    "\n",
    "df_accidents = accidents_2019.append([accidents_2018, accidents_2017, accidents_2016, accidents_2015], sort=False)\n",
    "df_vehicles = vehicles_2019.append([vehicles_2018, vehicles_2017, vehicles_2016, vehicles_2015], sort=False)\n",
    "df_casualties = casualties_2019.append([casualties_2018, casualties_2017, casualties_2016, casualties_2015], sort=False)\n"
   ]
  },
  {
   "cell_type": "code",
   "execution_count": 3,
   "metadata": {},
   "outputs": [
    {
     "data": {
      "text/html": [
       "<div>\n",
       "<style scoped>\n",
       "    .dataframe tbody tr th:only-of-type {\n",
       "        vertical-align: middle;\n",
       "    }\n",
       "\n",
       "    .dataframe tbody tr th {\n",
       "        vertical-align: top;\n",
       "    }\n",
       "\n",
       "    .dataframe thead th {\n",
       "        text-align: right;\n",
       "    }\n",
       "</style>\n",
       "<table border=\"1\" class=\"dataframe\">\n",
       "  <thead>\n",
       "    <tr style=\"text-align: right;\">\n",
       "      <th></th>\n",
       "      <th>Accident_Index</th>\n",
       "      <th>Location_Easting_OSGR</th>\n",
       "      <th>Location_Northing_OSGR</th>\n",
       "      <th>Longitude</th>\n",
       "      <th>Latitude</th>\n",
       "      <th>Police_Force</th>\n",
       "      <th>Accident_Severity</th>\n",
       "      <th>Number_of_Vehicles</th>\n",
       "      <th>Number_of_Casualties</th>\n",
       "      <th>Date</th>\n",
       "      <th>...</th>\n",
       "      <th>Pedestrian_Crossing-Human_Control</th>\n",
       "      <th>Pedestrian_Crossing-Physical_Facilities</th>\n",
       "      <th>Light_Conditions</th>\n",
       "      <th>Weather_Conditions</th>\n",
       "      <th>Road_Surface_Conditions</th>\n",
       "      <th>Special_Conditions_at_Site</th>\n",
       "      <th>Carriageway_Hazards</th>\n",
       "      <th>Urban_or_Rural_Area</th>\n",
       "      <th>Did_Police_Officer_Attend_Scene_of_Accident</th>\n",
       "      <th>LSOA_of_Accident_Location</th>\n",
       "    </tr>\n",
       "  </thead>\n",
       "  <tbody>\n",
       "    <tr>\n",
       "      <th>0</th>\n",
       "      <td>2019010128300</td>\n",
       "      <td>528218.0</td>\n",
       "      <td>180407.0</td>\n",
       "      <td>-0.153842</td>\n",
       "      <td>51.508057</td>\n",
       "      <td>1</td>\n",
       "      <td>3</td>\n",
       "      <td>2</td>\n",
       "      <td>3</td>\n",
       "      <td>18/02/2019</td>\n",
       "      <td>...</td>\n",
       "      <td>0</td>\n",
       "      <td>5</td>\n",
       "      <td>1</td>\n",
       "      <td>1</td>\n",
       "      <td>1</td>\n",
       "      <td>0</td>\n",
       "      <td>0</td>\n",
       "      <td>1</td>\n",
       "      <td>3</td>\n",
       "      <td>E01004762</td>\n",
       "    </tr>\n",
       "    <tr>\n",
       "      <th>1</th>\n",
       "      <td>2019010152270</td>\n",
       "      <td>530219.0</td>\n",
       "      <td>172463.0</td>\n",
       "      <td>-0.127949</td>\n",
       "      <td>51.436208</td>\n",
       "      <td>1</td>\n",
       "      <td>3</td>\n",
       "      <td>2</td>\n",
       "      <td>1</td>\n",
       "      <td>15/01/2019</td>\n",
       "      <td>...</td>\n",
       "      <td>-1</td>\n",
       "      <td>-1</td>\n",
       "      <td>4</td>\n",
       "      <td>1</td>\n",
       "      <td>1</td>\n",
       "      <td>0</td>\n",
       "      <td>0</td>\n",
       "      <td>1</td>\n",
       "      <td>3</td>\n",
       "      <td>E01003117</td>\n",
       "    </tr>\n",
       "  </tbody>\n",
       "</table>\n",
       "<p>2 rows × 32 columns</p>\n",
       "</div>"
      ],
      "text/plain": [
       "  Accident_Index  Location_Easting_OSGR  Location_Northing_OSGR  Longitude  \\\n",
       "0  2019010128300               528218.0                180407.0  -0.153842   \n",
       "1  2019010152270               530219.0                172463.0  -0.127949   \n",
       "\n",
       "    Latitude  Police_Force  Accident_Severity  Number_of_Vehicles  \\\n",
       "0  51.508057             1                  3                   2   \n",
       "1  51.436208             1                  3                   2   \n",
       "\n",
       "   Number_of_Casualties        Date  ...  Pedestrian_Crossing-Human_Control  \\\n",
       "0                     3  18/02/2019  ...                                  0   \n",
       "1                     1  15/01/2019  ...                                 -1   \n",
       "\n",
       "  Pedestrian_Crossing-Physical_Facilities  Light_Conditions  \\\n",
       "0                                       5                 1   \n",
       "1                                      -1                 4   \n",
       "\n",
       "  Weather_Conditions  Road_Surface_Conditions  Special_Conditions_at_Site  \\\n",
       "0                  1                        1                           0   \n",
       "1                  1                        1                           0   \n",
       "\n",
       "   Carriageway_Hazards  Urban_or_Rural_Area  \\\n",
       "0                    0                    1   \n",
       "1                    0                    1   \n",
       "\n",
       "   Did_Police_Officer_Attend_Scene_of_Accident  LSOA_of_Accident_Location  \n",
       "0                                            3                  E01004762  \n",
       "1                                            3                  E01003117  \n",
       "\n",
       "[2 rows x 32 columns]"
      ]
     },
     "execution_count": 3,
     "metadata": {},
     "output_type": "execute_result"
    }
   ],
   "source": [
    "df_accidents.head(2)"
   ]
  },
  {
   "cell_type": "code",
   "execution_count": 4,
   "metadata": {},
   "outputs": [
    {
     "name": "stdout",
     "output_type": "stream",
     "text": [
      "646830\n"
     ]
    },
    {
     "data": {
      "text/html": [
       "<div>\n",
       "<style scoped>\n",
       "    .dataframe tbody tr th:only-of-type {\n",
       "        vertical-align: middle;\n",
       "    }\n",
       "\n",
       "    .dataframe tbody tr th {\n",
       "        vertical-align: top;\n",
       "    }\n",
       "\n",
       "    .dataframe thead th {\n",
       "        text-align: right;\n",
       "    }\n",
       "</style>\n",
       "<table border=\"1\" class=\"dataframe\">\n",
       "  <thead>\n",
       "    <tr style=\"text-align: right;\">\n",
       "      <th></th>\n",
       "      <th>Location_Easting_OSGR</th>\n",
       "      <th>Location_Northing_OSGR</th>\n",
       "      <th>Longitude</th>\n",
       "      <th>Latitude</th>\n",
       "      <th>Police_Force</th>\n",
       "      <th>Accident_Severity</th>\n",
       "      <th>Number_of_Vehicles</th>\n",
       "      <th>Number_of_Casualties</th>\n",
       "      <th>Day_of_Week</th>\n",
       "      <th>Local_Authority_(District)</th>\n",
       "      <th>...</th>\n",
       "      <th>2nd_Road_Number</th>\n",
       "      <th>Pedestrian_Crossing-Human_Control</th>\n",
       "      <th>Pedestrian_Crossing-Physical_Facilities</th>\n",
       "      <th>Light_Conditions</th>\n",
       "      <th>Weather_Conditions</th>\n",
       "      <th>Road_Surface_Conditions</th>\n",
       "      <th>Special_Conditions_at_Site</th>\n",
       "      <th>Carriageway_Hazards</th>\n",
       "      <th>Urban_or_Rural_Area</th>\n",
       "      <th>Did_Police_Officer_Attend_Scene_of_Accident</th>\n",
       "    </tr>\n",
       "  </thead>\n",
       "  <tbody>\n",
       "    <tr>\n",
       "      <th>count</th>\n",
       "      <td>646694.000000</td>\n",
       "      <td>6.466940e+05</td>\n",
       "      <td>646684.000000</td>\n",
       "      <td>646684.000000</td>\n",
       "      <td>646830.000000</td>\n",
       "      <td>646830.00000</td>\n",
       "      <td>646830.000000</td>\n",
       "      <td>646830.000000</td>\n",
       "      <td>646830.000000</td>\n",
       "      <td>646830.000000</td>\n",
       "      <td>...</td>\n",
       "      <td>646830.000000</td>\n",
       "      <td>646830.000000</td>\n",
       "      <td>646830.000000</td>\n",
       "      <td>646830.000000</td>\n",
       "      <td>646830.000000</td>\n",
       "      <td>646830.000000</td>\n",
       "      <td>646830.00000</td>\n",
       "      <td>646830.000000</td>\n",
       "      <td>646830.000000</td>\n",
       "      <td>646830.000000</td>\n",
       "    </tr>\n",
       "    <tr>\n",
       "      <th>mean</th>\n",
       "      <td>449991.668522</td>\n",
       "      <td>2.849132e+05</td>\n",
       "      <td>-1.285440</td>\n",
       "      <td>52.451565</td>\n",
       "      <td>29.014908</td>\n",
       "      <td>2.80286</td>\n",
       "      <td>1.842928</td>\n",
       "      <td>1.317689</td>\n",
       "      <td>4.105054</td>\n",
       "      <td>334.292142</td>\n",
       "      <td>...</td>\n",
       "      <td>318.008089</td>\n",
       "      <td>0.002631</td>\n",
       "      <td>0.841988</td>\n",
       "      <td>2.002769</td>\n",
       "      <td>1.592154</td>\n",
       "      <td>1.287106</td>\n",
       "      <td>0.08193</td>\n",
       "      <td>0.051386</td>\n",
       "      <td>1.335193</td>\n",
       "      <td>1.276924</td>\n",
       "    </tr>\n",
       "    <tr>\n",
       "      <th>std</th>\n",
       "      <td>95113.941751</td>\n",
       "      <td>1.546867e+05</td>\n",
       "      <td>1.395652</td>\n",
       "      <td>1.393169</td>\n",
       "      <td>25.032437</td>\n",
       "      <td>0.42894</td>\n",
       "      <td>0.714437</td>\n",
       "      <td>0.774821</td>\n",
       "      <td>1.920978</td>\n",
       "      <td>258.027429</td>\n",
       "      <td>...</td>\n",
       "      <td>1185.416554</td>\n",
       "      <td>0.217367</td>\n",
       "      <td>1.958599</td>\n",
       "      <td>1.696483</td>\n",
       "      <td>1.728265</td>\n",
       "      <td>0.596729</td>\n",
       "      <td>0.66823</td>\n",
       "      <td>0.551928</td>\n",
       "      <td>0.472396</td>\n",
       "      <td>0.490678</td>\n",
       "    </tr>\n",
       "    <tr>\n",
       "      <th>min</th>\n",
       "      <td>64084.000000</td>\n",
       "      <td>1.023500e+04</td>\n",
       "      <td>-7.525273</td>\n",
       "      <td>49.912362</td>\n",
       "      <td>1.000000</td>\n",
       "      <td>1.00000</td>\n",
       "      <td>1.000000</td>\n",
       "      <td>1.000000</td>\n",
       "      <td>1.000000</td>\n",
       "      <td>1.000000</td>\n",
       "      <td>...</td>\n",
       "      <td>-1.000000</td>\n",
       "      <td>-1.000000</td>\n",
       "      <td>-1.000000</td>\n",
       "      <td>-1.000000</td>\n",
       "      <td>-1.000000</td>\n",
       "      <td>-1.000000</td>\n",
       "      <td>-1.00000</td>\n",
       "      <td>-1.000000</td>\n",
       "      <td>-1.000000</td>\n",
       "      <td>-1.000000</td>\n",
       "    </tr>\n",
       "    <tr>\n",
       "      <th>25%</th>\n",
       "      <td>386786.250000</td>\n",
       "      <td>1.760760e+05</td>\n",
       "      <td>-2.198493</td>\n",
       "      <td>51.471246</td>\n",
       "      <td>5.000000</td>\n",
       "      <td>3.00000</td>\n",
       "      <td>1.000000</td>\n",
       "      <td>1.000000</td>\n",
       "      <td>2.000000</td>\n",
       "      <td>93.000000</td>\n",
       "      <td>...</td>\n",
       "      <td>0.000000</td>\n",
       "      <td>0.000000</td>\n",
       "      <td>0.000000</td>\n",
       "      <td>1.000000</td>\n",
       "      <td>1.000000</td>\n",
       "      <td>1.000000</td>\n",
       "      <td>0.00000</td>\n",
       "      <td>0.000000</td>\n",
       "      <td>1.000000</td>\n",
       "      <td>1.000000</td>\n",
       "    </tr>\n",
       "    <tr>\n",
       "      <th>50%</th>\n",
       "      <td>455964.000000</td>\n",
       "      <td>2.272940e+05</td>\n",
       "      <td>-1.173459</td>\n",
       "      <td>51.928157</td>\n",
       "      <td>23.000000</td>\n",
       "      <td>3.00000</td>\n",
       "      <td>2.000000</td>\n",
       "      <td>1.000000</td>\n",
       "      <td>4.000000</td>\n",
       "      <td>307.000000</td>\n",
       "      <td>...</td>\n",
       "      <td>0.000000</td>\n",
       "      <td>0.000000</td>\n",
       "      <td>0.000000</td>\n",
       "      <td>1.000000</td>\n",
       "      <td>1.000000</td>\n",
       "      <td>1.000000</td>\n",
       "      <td>0.00000</td>\n",
       "      <td>0.000000</td>\n",
       "      <td>1.000000</td>\n",
       "      <td>1.000000</td>\n",
       "    </tr>\n",
       "    <tr>\n",
       "      <th>75%</th>\n",
       "      <td>528380.000000</td>\n",
       "      <td>3.889300e+05</td>\n",
       "      <td>-0.149825</td>\n",
       "      <td>53.394286</td>\n",
       "      <td>45.000000</td>\n",
       "      <td>3.00000</td>\n",
       "      <td>2.000000</td>\n",
       "      <td>1.000000</td>\n",
       "      <td>6.000000</td>\n",
       "      <td>514.000000</td>\n",
       "      <td>...</td>\n",
       "      <td>0.000000</td>\n",
       "      <td>0.000000</td>\n",
       "      <td>0.000000</td>\n",
       "      <td>4.000000</td>\n",
       "      <td>1.000000</td>\n",
       "      <td>2.000000</td>\n",
       "      <td>0.00000</td>\n",
       "      <td>0.000000</td>\n",
       "      <td>2.000000</td>\n",
       "      <td>2.000000</td>\n",
       "    </tr>\n",
       "    <tr>\n",
       "      <th>max</th>\n",
       "      <td>655391.000000</td>\n",
       "      <td>1.209512e+06</td>\n",
       "      <td>1.759641</td>\n",
       "      <td>60.763722</td>\n",
       "      <td>98.000000</td>\n",
       "      <td>3.00000</td>\n",
       "      <td>37.000000</td>\n",
       "      <td>59.000000</td>\n",
       "      <td>7.000000</td>\n",
       "      <td>941.000000</td>\n",
       "      <td>...</td>\n",
       "      <td>9999.000000</td>\n",
       "      <td>2.000000</td>\n",
       "      <td>8.000000</td>\n",
       "      <td>7.000000</td>\n",
       "      <td>9.000000</td>\n",
       "      <td>5.000000</td>\n",
       "      <td>7.00000</td>\n",
       "      <td>7.000000</td>\n",
       "      <td>3.000000</td>\n",
       "      <td>3.000000</td>\n",
       "    </tr>\n",
       "  </tbody>\n",
       "</table>\n",
       "<p>8 rows × 27 columns</p>\n",
       "</div>"
      ],
      "text/plain": [
       "       Location_Easting_OSGR  Location_Northing_OSGR      Longitude  \\\n",
       "count          646694.000000            6.466940e+05  646684.000000   \n",
       "mean           449991.668522            2.849132e+05      -1.285440   \n",
       "std             95113.941751            1.546867e+05       1.395652   \n",
       "min             64084.000000            1.023500e+04      -7.525273   \n",
       "25%            386786.250000            1.760760e+05      -2.198493   \n",
       "50%            455964.000000            2.272940e+05      -1.173459   \n",
       "75%            528380.000000            3.889300e+05      -0.149825   \n",
       "max            655391.000000            1.209512e+06       1.759641   \n",
       "\n",
       "            Latitude   Police_Force  Accident_Severity  Number_of_Vehicles  \\\n",
       "count  646684.000000  646830.000000       646830.00000       646830.000000   \n",
       "mean       52.451565      29.014908            2.80286            1.842928   \n",
       "std         1.393169      25.032437            0.42894            0.714437   \n",
       "min        49.912362       1.000000            1.00000            1.000000   \n",
       "25%        51.471246       5.000000            3.00000            1.000000   \n",
       "50%        51.928157      23.000000            3.00000            2.000000   \n",
       "75%        53.394286      45.000000            3.00000            2.000000   \n",
       "max        60.763722      98.000000            3.00000           37.000000   \n",
       "\n",
       "       Number_of_Casualties    Day_of_Week  Local_Authority_(District)  ...  \\\n",
       "count         646830.000000  646830.000000               646830.000000  ...   \n",
       "mean               1.317689       4.105054                  334.292142  ...   \n",
       "std                0.774821       1.920978                  258.027429  ...   \n",
       "min                1.000000       1.000000                    1.000000  ...   \n",
       "25%                1.000000       2.000000                   93.000000  ...   \n",
       "50%                1.000000       4.000000                  307.000000  ...   \n",
       "75%                1.000000       6.000000                  514.000000  ...   \n",
       "max               59.000000       7.000000                  941.000000  ...   \n",
       "\n",
       "       2nd_Road_Number  Pedestrian_Crossing-Human_Control  \\\n",
       "count    646830.000000                      646830.000000   \n",
       "mean        318.008089                           0.002631   \n",
       "std        1185.416554                           0.217367   \n",
       "min          -1.000000                          -1.000000   \n",
       "25%           0.000000                           0.000000   \n",
       "50%           0.000000                           0.000000   \n",
       "75%           0.000000                           0.000000   \n",
       "max        9999.000000                           2.000000   \n",
       "\n",
       "       Pedestrian_Crossing-Physical_Facilities  Light_Conditions  \\\n",
       "count                            646830.000000     646830.000000   \n",
       "mean                                  0.841988          2.002769   \n",
       "std                                   1.958599          1.696483   \n",
       "min                                  -1.000000         -1.000000   \n",
       "25%                                   0.000000          1.000000   \n",
       "50%                                   0.000000          1.000000   \n",
       "75%                                   0.000000          4.000000   \n",
       "max                                   8.000000          7.000000   \n",
       "\n",
       "       Weather_Conditions  Road_Surface_Conditions  \\\n",
       "count       646830.000000            646830.000000   \n",
       "mean             1.592154                 1.287106   \n",
       "std              1.728265                 0.596729   \n",
       "min             -1.000000                -1.000000   \n",
       "25%              1.000000                 1.000000   \n",
       "50%              1.000000                 1.000000   \n",
       "75%              1.000000                 2.000000   \n",
       "max              9.000000                 5.000000   \n",
       "\n",
       "       Special_Conditions_at_Site  Carriageway_Hazards  Urban_or_Rural_Area  \\\n",
       "count                646830.00000        646830.000000        646830.000000   \n",
       "mean                      0.08193             0.051386             1.335193   \n",
       "std                       0.66823             0.551928             0.472396   \n",
       "min                      -1.00000            -1.000000            -1.000000   \n",
       "25%                       0.00000             0.000000             1.000000   \n",
       "50%                       0.00000             0.000000             1.000000   \n",
       "75%                       0.00000             0.000000             2.000000   \n",
       "max                       7.00000             7.000000             3.000000   \n",
       "\n",
       "       Did_Police_Officer_Attend_Scene_of_Accident  \n",
       "count                                646830.000000  \n",
       "mean                                      1.276924  \n",
       "std                                       0.490678  \n",
       "min                                      -1.000000  \n",
       "25%                                       1.000000  \n",
       "50%                                       1.000000  \n",
       "75%                                       2.000000  \n",
       "max                                       3.000000  \n",
       "\n",
       "[8 rows x 27 columns]"
      ]
     },
     "execution_count": 4,
     "metadata": {},
     "output_type": "execute_result"
    }
   ],
   "source": [
    "print(len(df_accidents))\n",
    "df_accidents.describe()"
   ]
  },
  {
   "cell_type": "code",
   "execution_count": 5,
   "metadata": {},
   "outputs": [],
   "source": [
    "def ToCategorical(df, col_name_list, category_dict_list):\n",
    "    '''\n",
    "    Converts the given columns to categorical data type with the correct categories\n",
    "    used from the category_dict_list\n",
    "    \n",
    "    Parameters:\n",
    "    df (Pandas DataFrame): Input dataframe with columns to convert to categorical type\n",
    "    col_name_list  (list): List of column names from df. These columns will be converted\n",
    "    category_dict_list (list): a list of dictionaries. each dictioanry corresponds to the respective column\n",
    "       and holds the correct category names to use.\n",
    "\n",
    "    Returns:\n",
    "    DataFrame with categorical columns \n",
    "    '''\n",
    "    \n",
    "    df_out = df.copy()\n",
    "    \n",
    "    for i,col in enumerate(col_name_list):\n",
    "        df_out[col] = df_out[col].astype('category')\n",
    "        df_out[col].cat.categories = [category_dict_list[i][j] for j in df_out[col].cat.categories]\n",
    "        \n",
    "    return df_out"
   ]
  },
  {
   "cell_type": "markdown",
   "metadata": {},
   "source": [
    "## 1. Is transport becoming safer?"
   ]
  },
  {
   "cell_type": "code",
   "execution_count": 6,
   "metadata": {},
   "outputs": [],
   "source": [
    "df_accidents[\"Time stamp\"] = pd.DatetimeIndex(df_accidents[\"Date\"] + \" \" + df_accidents[\"Time\"], dayfirst=True)\n",
    "df_accidents[\"Year\"] = df_accidents[\"Time stamp\"].dt.year.astype('Int16')\n",
    "\n",
    "df_casualties_date = df_casualties.merge(df_accidents[[\"Accident_Index\",\"Time stamp\"]], left_on=\"Accident_Index\",right_on=\"Accident_Index\",how='left')\n",
    "df_casualties_date[\"Year\"] = df_casualties_date[\"Time stamp\"].dt.year"
   ]
  },
  {
   "cell_type": "code",
   "execution_count": 7,
   "metadata": {},
   "outputs": [
    {
     "data": {
      "text/plain": [
       "2015    140038\n",
       "2016    136619\n",
       "2017    129979\n",
       "2018    122622\n",
       "2019    117473\n",
       "Name: Year, dtype: Int64"
      ]
     },
     "execution_count": 7,
     "metadata": {},
     "output_type": "execute_result"
    }
   ],
   "source": [
    "df_accidents_by_year = df_accidents[\"Year\"].value_counts()\n",
    "df_accidents_by_year"
   ]
  },
  {
   "cell_type": "code",
   "execution_count": 8,
   "metadata": {},
   "outputs": [
    {
     "data": {
      "image/png": "[encoded data removed]",
      "text/plain": [
       "<Figure size 432x288 with 1 Axes>"
      ]
     },
     "metadata": {
      "needs_background": "light"
     },
     "output_type": "display_data"
    }
   ],
   "source": [
    "sns.barplot(y=df_accidents_by_year.values, x=df_accidents_by_year.index, palette=\"Blues_d\");"
   ]
  },
  {
   "cell_type": "code",
   "execution_count": 9,
   "metadata": {},
   "outputs": [],
   "source": [
    "# How does the number of casualities change\n",
    "severity = {1:'Fatal',2:'Serious',3:'Slight'}\n",
    "df_casualties_date = ToCategorical(df_casualties_date, ['Casualty_Severity'], [severity])\n",
    "\n",
    "df_casualties_by_year = df_casualties_date.groupby(by=['Casualty_Severity','Year'], as_index=False)['Accident_Index'].count()"
   ]
  },
  {
   "cell_type": "code",
   "execution_count": 10,
   "metadata": {},
   "outputs": [
    {
     "data": {
      "text/html": [
       "<div>\n",
       "<style scoped>\n",
       "    .dataframe tbody tr th:only-of-type {\n",
       "        vertical-align: middle;\n",
       "    }\n",
       "\n",
       "    .dataframe tbody tr th {\n",
       "        vertical-align: top;\n",
       "    }\n",
       "\n",
       "    .dataframe thead th {\n",
       "        text-align: right;\n",
       "    }\n",
       "</style>\n",
       "<table border=\"1\" class=\"dataframe\">\n",
       "  <thead>\n",
       "    <tr style=\"text-align: right;\">\n",
       "      <th></th>\n",
       "      <th>Casualty_Severity</th>\n",
       "      <th>Year</th>\n",
       "      <th>Accident_Index</th>\n",
       "    </tr>\n",
       "  </thead>\n",
       "  <tbody>\n",
       "    <tr>\n",
       "      <th>0</th>\n",
       "      <td>Fatal</td>\n",
       "      <td>2015.0</td>\n",
       "      <td>1728</td>\n",
       "    </tr>\n",
       "    <tr>\n",
       "      <th>1</th>\n",
       "      <td>Fatal</td>\n",
       "      <td>2016.0</td>\n",
       "      <td>1792</td>\n",
       "    </tr>\n",
       "  </tbody>\n",
       "</table>\n",
       "</div>"
      ],
      "text/plain": [
       "  Casualty_Severity    Year  Accident_Index\n",
       "0             Fatal  2015.0            1728\n",
       "1             Fatal  2016.0            1792"
      ]
     },
     "execution_count": 10,
     "metadata": {},
     "output_type": "execute_result"
    }
   ],
   "source": [
    "df_casualties_by_year.head(2)"
   ]
  },
  {
   "cell_type": "code",
   "execution_count": 11,
   "metadata": {},
   "outputs": [
    {
     "data": {
      "image/png": "[encoded data removed]",
      "text/plain": [
       "<Figure size 1036.8x288 with 3 Axes>"
      ]
     },
     "metadata": {
      "needs_background": "light"
     },
     "output_type": "display_data"
    }
   ],
   "source": [
    "g = sns.FacetGrid(df_casualties_by_year, col=\"Casualty_Severity\", sharey=False, height=4,\n",
    "    aspect=1.2,)\n",
    "g.map(sns.barplot, \"Year\", \"Accident_Index\", order=[2015,2016,2017,2018,2019])\n",
    "g.set_axis_labels(y_var='Count')\n",
    "g.set_titles(col_template = '{col_name}');"
   ]
  },
  {
   "cell_type": "markdown",
   "metadata": {},
   "source": [
    "## 2. Are young drivers involved in more accidents?"
   ]
  },
  {
   "cell_type": "code",
   "execution_count": 15,
   "metadata": {},
   "outputs": [],
   "source": [
    "df_vehicles_age = df_vehicles[df_vehicles['Age_Band_of_Driver']>0].copy()"
   ]
  },
  {
   "cell_type": "code",
   "execution_count": 16,
   "metadata": {},
   "outputs": [
    {
     "data": {
      "text/plain": [
       "<seaborn.axisgrid.FacetGrid at 0x7fc300f54250>"
      ]
     },
     "execution_count": 16,
     "metadata": {},
     "output_type": "execute_result"
    },
    {
     "data": {
      "image/png": "[encoded data removed]",
      "text/plain": [
       "<Figure size 576x288 with 1 Axes>"
      ]
     },
     "metadata": {},
     "output_type": "display_data"
    }
   ],
   "source": [
    "sns.set(font_scale=1.1)\n",
    "sns.set_style(\"white\")\n",
    "fig = sns.displot(df_vehicles_age, x='Age_of_Driver', kind='hist', bins=list(range(0,110,5)), kde=True,\n",
    "              height=4, aspect=2)\n",
    "fig.set(xlim=(0, 110), xlabel=('Age'), xticks=list(range(0,110,10)))\n"
   ]
  },
  {
   "cell_type": "markdown",
   "metadata": {},
   "source": [
    "## 3. Are female drivers involved in more accidents then men?\n",
    "\n",
    "https://assets.publishing.service.gov.uk/government/uploads/system/uploads/attachment_data/file/905926/nts0206.ods"
   ]
  },
  {
   "cell_type": "code",
   "execution_count": 17,
   "metadata": {},
   "outputs": [
    {
     "data": {
      "text/plain": [
       "Male                            721936\n",
       "Female                          314998\n",
       "Not known                         9327\n",
       "Data missing or out of range         8\n",
       "Name: Sex_of_Driver, dtype: int64"
      ]
     },
     "execution_count": 17,
     "metadata": {},
     "output_type": "execute_result"
    }
   ],
   "source": [
    "# Map ccategories\n",
    "gender = {1:'Male',2:'Female', 3:'Not known', -1:'Data missing or out of range'}\n",
    "df_vehicles_age_sex = ToCategorical(df_vehicles_age, ['Sex_of_Driver'], [gender])\n",
    "\n",
    "df_vehicles_age_sex['Sex_of_Driver'].value_counts()"
   ]
  },
  {
   "cell_type": "code",
   "execution_count": 18,
   "metadata": {},
   "outputs": [],
   "source": [
    "df_vehicles_age_sex['Sex_of_Driver'].cat.remove_categories(['Not known','Data missing or out of range'], inplace=True)"
   ]
  },
  {
   "cell_type": "code",
   "execution_count": 19,
   "metadata": {},
   "outputs": [
    {
     "data": {
      "text/plain": [
       "<seaborn.axisgrid.FacetGrid at 0x7fc3010fefd0>"
      ]
     },
     "execution_count": 19,
     "metadata": {},
     "output_type": "execute_result"
    },
    {
     "data": {
      "image/png": "[encoded data removed]",
      "text/plain": [
       "<Figure size 360x360 with 1 Axes>"
      ]
     },
     "metadata": {},
     "output_type": "display_data"
    }
   ],
   "source": [
    "fig = sns.catplot(x=\"Sex_of_Driver\", kind=\"count\", data=df_vehicles_age_sex)\n",
    "fig.set_xlabels('Sex of Driver') # , fontsize=12"
   ]
  },
  {
   "cell_type": "code",
   "execution_count": 20,
   "metadata": {},
   "outputs": [
    {
     "data": {
      "text/plain": [
       "<seaborn.axisgrid.FacetGrid at 0x7fc300e93af0>"
      ]
     },
     "execution_count": 20,
     "metadata": {},
     "output_type": "execute_result"
    },
    {
     "data": {
      "image/png": "[encoded data removed]",
      "text/plain": [
       "<Figure size 676.68x288 with 1 Axes>"
      ]
     },
     "metadata": {},
     "output_type": "display_data"
    }
   ],
   "source": [
    "fig = sns.displot(df_vehicles_age_sex, x='Age_of_Driver', hue='Sex_of_Driver',\n",
    "                  kind='hist', bins=list(range(0,110,5)), kde=True, height=4, aspect=2)\n",
    "fig.set(xlim=(0, 110), xlabel=('Age'), xticks=list(range(0,110,10)))"
   ]
  },
  {
   "cell_type": "code",
   "execution_count": 21,
   "metadata": {},
   "outputs": [],
   "source": [
    "# Get the number of accidents with 1) only male driver, 2) only female driver, 3) both male and female male driver involved\n",
    "\n",
    "# Filter to accidents where we have data for all vehicles \n",
    "\n",
    "# Groupby to categorise these\n",
    "\n",
    "def gender_cat(array_like):\n",
    "    pass"
   ]
  },
  {
   "cell_type": "markdown",
   "metadata": {},
   "source": [
    "## 3b Are certain road types more dangerous?"
   ]
  },
  {
   "cell_type": "code",
   "execution_count": null,
   "metadata": {},
   "outputs": [],
   "source": []
  },
  {
   "cell_type": "markdown",
   "metadata": {},
   "source": [
    "## 4. Are injuries more severe in certain weather conditions?"
   ]
  },
  {
   "cell_type": "code",
   "execution_count": 23,
   "metadata": {},
   "outputs": [],
   "source": [
    "condition_cols = ['Light_Conditions', 'Weather_Conditions', 'Road_Surface_Conditions']\n",
    "\n",
    "df_casualties_conditions = df_casualties.merge(df_accidents[['Accident_Index'] + condition_cols], on='Accident_Index', how='left')"
   ]
  },
  {
   "cell_type": "code",
   "execution_count": 24,
   "metadata": {},
   "outputs": [],
   "source": [
    "light_dict = {1:'Daylight',4:'Darkness - lights lit',5:'Darkness - lights unlit',6:'Darkness - no lighting',7:'Darkness - lighting unknown',-1:'Data missing or out of range'}\n",
    "weather_dict ={1:'Fine no high winds',2:'Raining no high winds',3:'Snowing no high winds',4:'Fine + high winds',5:'Raining + high winds',6:'Snowing + high winds',7:'Fog or mist',8:'Other',9:'Unknown',-1:'Data missing or out of range'}\n",
    "surface_dict = {1:'Dry',2:'Wet or damp',3:'Snow',4:'Frost or ice',5:'Flood over 3cm. deep',6:'Oil or diesel',7:'Mud',-1:'Data missing or out of range'}\n",
    "\n",
    "df_casualties_conditions = ToCategorical(df_casualties_conditions, condition_cols + ['Casualty_Severity'], [light_dict, weather_dict, surface_dict, severity])\n"
   ]
  },
  {
   "cell_type": "code",
   "execution_count": 25,
   "metadata": {},
   "outputs": [
    {
     "data": {
      "text/plain": [
       "Daylight                        609989\n",
       "Darkness - lights lit           171715\n",
       "Darkness - no lighting           49966\n",
       "Darkness - lighting unknown      14965\n",
       "Darkness - lights unlit           5664\n",
       "Data missing or out of range        22\n",
       "Name: Light_Conditions, dtype: int64"
      ]
     },
     "execution_count": 25,
     "metadata": {},
     "output_type": "execute_result"
    }
   ],
   "source": [
    "df_casualties_conditions['Light_Conditions'].value_counts()"
   ]
  },
  {
   "cell_type": "code",
   "execution_count": 26,
   "metadata": {},
   "outputs": [
    {
     "data": {
      "text/plain": [
       "Fine no high winds              688715\n",
       "Raining no high winds            97149\n",
       "Unknown                          21277\n",
       "Other                            16122\n",
       "Raining + high winds             10247\n",
       "Fine + high winds                 9739\n",
       "Fog or mist                       3983\n",
       "Snowing no high winds             3901\n",
       "Snowing + high winds              1145\n",
       "Data missing or out of range        43\n",
       "Name: Weather_Conditions, dtype: int64"
      ]
     },
     "execution_count": 26,
     "metadata": {},
     "output_type": "execute_result"
    }
   ],
   "source": [
    "df_casualties_conditions['Weather_Conditions'].value_counts()"
   ]
  },
  {
   "cell_type": "code",
   "execution_count": 27,
   "metadata": {},
   "outputs": [
    {
     "data": {
      "text/plain": [
       "Dry                             609801\n",
       "Wet or damp                     220880\n",
       "Frost or ice                     10916\n",
       "Data missing or out of range      6176\n",
       "Snow                              3468\n",
       "Flood over 3cm. deep              1080\n",
       "Name: Road_Surface_Conditions, dtype: int64"
      ]
     },
     "execution_count": 27,
     "metadata": {},
     "output_type": "execute_result"
    }
   ],
   "source": [
    "df_casualties_conditions['Road_Surface_Conditions'].value_counts()"
   ]
  },
  {
   "cell_type": "code",
   "execution_count": 28,
   "metadata": {},
   "outputs": [
    {
     "data": {
      "text/html": [
       "<div>\n",
       "<style scoped>\n",
       "    .dataframe tbody tr th:only-of-type {\n",
       "        vertical-align: middle;\n",
       "    }\n",
       "\n",
       "    .dataframe tbody tr th {\n",
       "        vertical-align: top;\n",
       "    }\n",
       "\n",
       "    .dataframe thead tr th {\n",
       "        text-align: left;\n",
       "    }\n",
       "\n",
       "    .dataframe thead tr:last-of-type th {\n",
       "        text-align: right;\n",
       "    }\n",
       "</style>\n",
       "<table border=\"1\" class=\"dataframe\">\n",
       "  <thead>\n",
       "    <tr>\n",
       "      <th></th>\n",
       "      <th colspan=\"3\" halign=\"left\">Accident_Index</th>\n",
       "    </tr>\n",
       "    <tr>\n",
       "      <th>Casualty_Severity</th>\n",
       "      <th>Fatal</th>\n",
       "      <th>Serious</th>\n",
       "      <th>Slight</th>\n",
       "    </tr>\n",
       "    <tr>\n",
       "      <th>Light_Conditions</th>\n",
       "      <th></th>\n",
       "      <th></th>\n",
       "      <th></th>\n",
       "    </tr>\n",
       "  </thead>\n",
       "  <tbody>\n",
       "    <tr>\n",
       "      <th>Data missing or out of range</th>\n",
       "      <td>1</td>\n",
       "      <td>1</td>\n",
       "      <td>20</td>\n",
       "    </tr>\n",
       "    <tr>\n",
       "      <th>Daylight</th>\n",
       "      <td>5156</td>\n",
       "      <td>83770</td>\n",
       "      <td>521063</td>\n",
       "    </tr>\n",
       "    <tr>\n",
       "      <th>Darkness - lights lit</th>\n",
       "      <td>1750</td>\n",
       "      <td>25836</td>\n",
       "      <td>144129</td>\n",
       "    </tr>\n",
       "    <tr>\n",
       "      <th>Darkness - lights unlit</th>\n",
       "      <td>97</td>\n",
       "      <td>959</td>\n",
       "      <td>4608</td>\n",
       "    </tr>\n",
       "    <tr>\n",
       "      <th>Darkness - no lighting</th>\n",
       "      <td>1677</td>\n",
       "      <td>10040</td>\n",
       "      <td>38249</td>\n",
       "    </tr>\n",
       "    <tr>\n",
       "      <th>Darkness - lighting unknown</th>\n",
       "      <td>170</td>\n",
       "      <td>1926</td>\n",
       "      <td>12869</td>\n",
       "    </tr>\n",
       "  </tbody>\n",
       "</table>\n",
       "</div>"
      ],
      "text/plain": [
       "                             Accident_Index                \n",
       "Casualty_Severity                     Fatal Serious  Slight\n",
       "Light_Conditions                                           \n",
       "Data missing or out of range              1       1      20\n",
       "Daylight                               5156   83770  521063\n",
       "Darkness - lights lit                  1750   25836  144129\n",
       "Darkness - lights unlit                  97     959    4608\n",
       "Darkness - no lighting                 1677   10040   38249\n",
       "Darkness - lighting unknown             170    1926   12869"
      ]
     },
     "execution_count": 28,
     "metadata": {},
     "output_type": "execute_result"
    }
   ],
   "source": [
    "df_casualties_conditions.pivot_table(index=['Light_Conditions'],\n",
    "                                     columns=['Casualty_Severity'],\n",
    "                                     values=['Accident_Index'],aggfunc='count')"
   ]
  },
  {
   "cell_type": "code",
   "execution_count": 29,
   "metadata": {},
   "outputs": [],
   "source": [
    "def KSI_proportion(df, cols):\n",
    "    '''\n",
    "    \n",
    "    '''\n",
    "    df_out = pd.DataFrame(columns=cols + ['KSI'])\n",
    "    \n",
    "    # Single column\n",
    "    for i in range(len(cols)):\n",
    "        \n",
    "        col = cols[i]\n",
    "        \n",
    "        df_counts = df.value_counts(subset=[col, 'Casualty_Severity']).unstack()\n",
    "        df_ksi_props = df_counts[['Fatal', 'Serious']].sum(1) / df_counts.sum(axis=1)\n",
    "        \n",
    "        df_out = df_out.append(df_ksi_props.to_frame(name='KSI').reset_index())\n",
    "        \n",
    "        # Combination of two columns\n",
    "        for col_two in cols[i+1:]:\n",
    "            \n",
    "            df_counts = df.value_counts(subset=[col, col_two, 'Casualty_Severity']).unstack()\n",
    "            df_ksi_props = df_counts[['Fatal', 'Serious']].sum(1) / df_counts.sum(axis=1)\n",
    "\n",
    "            df_out = df_out.append(df_ksi_props.to_frame(name='KSI').reset_index())    \n",
    "    \n",
    "    # All three columns:\n",
    "    df_counts = df.value_counts(subset=cols+['Casualty_Severity']).unstack()\n",
    "    df_ksi_props = df_counts[['Fatal', 'Serious']].sum(1) / df_counts.sum(axis=1)\n",
    "\n",
    "    df_out = df_out.append(df_ksi_props.to_frame(name='KSI').reset_index())\n",
    "            \n",
    "    return df_out"
   ]
  },
  {
   "cell_type": "code",
   "execution_count": 30,
   "metadata": {},
   "outputs": [],
   "source": [
    "# df_casualties_conditions.groupby(by=['Light_Conditions'])['Casualty_Severity'].apply(KSI_Percentage)\n",
    "\n",
    "df_ksi_light = df_casualties_conditions.value_counts(subset=['Light_Conditions', 'Casualty_Severity']).unstack()\n",
    "df_ksi_light[['Fatal', 'Serious']].sum(1) / df_ksi_light.sum(axis=1)\n",
    "\n",
    "df_ksi_weather = df_casualties_conditions.value_counts(subset=['Weather_Conditions', 'Casualty_Severity']).unstack()\n",
    "df_ksi_weather[['Fatal', 'Serious']].sum(1) / df_ksi_weather.sum(axis=1)\n",
    "\n",
    "df_ksi_surface = df_casualties_conditions.value_counts(subset=['Road_Surface_Conditions', 'Casualty_Severity']).unstack()\n",
    "test = df_ksi_surface[['Fatal', 'Serious']].sum(1) / df_ksi_surface.sum(axis=1)"
   ]
  },
  {
   "cell_type": "code",
   "execution_count": 31,
   "metadata": {},
   "outputs": [
    {
     "data": {
      "text/html": [
       "<div>\n",
       "<style scoped>\n",
       "    .dataframe tbody tr th:only-of-type {\n",
       "        vertical-align: middle;\n",
       "    }\n",
       "\n",
       "    .dataframe tbody tr th {\n",
       "        vertical-align: top;\n",
       "    }\n",
       "\n",
       "    .dataframe thead th {\n",
       "        text-align: right;\n",
       "    }\n",
       "</style>\n",
       "<table border=\"1\" class=\"dataframe\">\n",
       "  <thead>\n",
       "    <tr style=\"text-align: right;\">\n",
       "      <th></th>\n",
       "      <th>Light_Conditions</th>\n",
       "      <th>Weather_Conditions</th>\n",
       "      <th>Road_Surface_Conditions</th>\n",
       "      <th>KSI</th>\n",
       "    </tr>\n",
       "  </thead>\n",
       "  <tbody>\n",
       "    <tr>\n",
       "      <th>0</th>\n",
       "      <td>Data missing or out of range</td>\n",
       "      <td>NaN</td>\n",
       "      <td>NaN</td>\n",
       "      <td>0.090909</td>\n",
       "    </tr>\n",
       "    <tr>\n",
       "      <th>1</th>\n",
       "      <td>Daylight</td>\n",
       "      <td>NaN</td>\n",
       "      <td>NaN</td>\n",
       "      <td>0.145783</td>\n",
       "    </tr>\n",
       "    <tr>\n",
       "      <th>2</th>\n",
       "      <td>Darkness - lights lit</td>\n",
       "      <td>NaN</td>\n",
       "      <td>NaN</td>\n",
       "      <td>0.160650</td>\n",
       "    </tr>\n",
       "    <tr>\n",
       "      <th>3</th>\n",
       "      <td>Darkness - lights unlit</td>\n",
       "      <td>NaN</td>\n",
       "      <td>NaN</td>\n",
       "      <td>0.186441</td>\n",
       "    </tr>\n",
       "    <tr>\n",
       "      <th>4</th>\n",
       "      <td>Darkness - no lighting</td>\n",
       "      <td>NaN</td>\n",
       "      <td>NaN</td>\n",
       "      <td>0.234499</td>\n",
       "    </tr>\n",
       "  </tbody>\n",
       "</table>\n",
       "</div>"
      ],
      "text/plain": [
       "               Light_Conditions Weather_Conditions Road_Surface_Conditions  \\\n",
       "0  Data missing or out of range                NaN                     NaN   \n",
       "1                      Daylight                NaN                     NaN   \n",
       "2         Darkness - lights lit                NaN                     NaN   \n",
       "3       Darkness - lights unlit                NaN                     NaN   \n",
       "4        Darkness - no lighting                NaN                     NaN   \n",
       "\n",
       "        KSI  \n",
       "0  0.090909  \n",
       "1  0.145783  \n",
       "2  0.160650  \n",
       "3  0.186441  \n",
       "4  0.234499  "
      ]
     },
     "execution_count": 31,
     "metadata": {},
     "output_type": "execute_result"
    }
   ],
   "source": [
    "df_ksi_props = KSI_proportion(df_casualties_conditions, condition_cols) #.sort_values(by='KSI')\n",
    "df_ksi_props.head()"
   ]
  },
  {
   "cell_type": "code",
   "execution_count": 32,
   "metadata": {},
   "outputs": [
    {
     "data": {
      "image/png": "[encoded data removed]",
      "text/plain": [
       "<Figure size 432x288 with 2 Axes>"
      ]
     },
     "metadata": {},
     "output_type": "display_data"
    }
   ],
   "source": [
    "df_light_weather = df_ksi_props[df_ksi_props['Road_Surface_Conditions'].isnull()].pivot(values='KSI',\n",
    "                   index='Light_Conditions',\n",
    "                   columns='Weather_Conditions')\n",
    "\n",
    "sns.heatmap(df_light_weather, annot=True, cmap=\"YlGnBu\", vmin=0, vmax=1);"
   ]
  },
  {
   "cell_type": "code",
   "execution_count": 33,
   "metadata": {},
   "outputs": [
    {
     "data": {
      "image/png": "[encoded data removed]",
      "text/plain": [
       "<Figure size 432x288 with 2 Axes>"
      ]
     },
     "metadata": {},
     "output_type": "display_data"
    }
   ],
   "source": [
    "df_light_surface = df_ksi_props[df_ksi_props['Weather_Conditions'].isnull()].pivot(values='KSI',\n",
    "                   index='Light_Conditions',\n",
    "                   columns='Road_Surface_Conditions')\n",
    "\n",
    "sns.heatmap(df_light_surface, annot=True, cmap=\"YlGnBu\", vmin=0, vmax=1);"
   ]
  },
  {
   "cell_type": "code",
   "execution_count": 34,
   "metadata": {},
   "outputs": [
    {
     "data": {
      "image/png": "[encoded data removed]",
      "text/plain": [
       "<Figure size 432x288 with 2 Axes>"
      ]
     },
     "metadata": {},
     "output_type": "display_data"
    }
   ],
   "source": [
    "df_weather_surface = df_ksi_props[df_ksi_props['Light_Conditions'].isnull()].pivot(values='KSI',\n",
    "                   index='Weather_Conditions',\n",
    "                   columns='Road_Surface_Conditions')\n",
    "\n",
    "sns.heatmap(df_weather_surface, annot=True, cmap=\"YlGnBu\", vmin=0, vmax=1);"
   ]
  },
  {
   "cell_type": "markdown",
   "metadata": {},
   "source": [
    "## 5. can we find the worst accident hot spot locations?\n",
    "\n",
    "https://towardsdatascience.com/how-to-embed-interactive-charts-on-your-medium-articles-and-website-6987f7b28472#:~:text=Embed%20in%20Medium&text=Using%20Datapane's%20API%2C%20you%20can,and%20embed%20it%20into%20Medium.&text=Once%20you%20have%20logged%20in,single%20Plot%20component%20in%20it.\n",
    "https://andrewpwheeler.com/2015/09/03/using-kdtrees-in-python-to-calculate-neighbor-counts/"
   ]
  },
  {
   "cell_type": "code",
   "execution_count": 35,
   "metadata": {},
   "outputs": [
    {
     "name": "stdout",
     "output_type": "stream",
     "text": [
      "136\n"
     ]
    }
   ],
   "source": [
    "df_accidents_coords = df_accidents[['Accident_Index','Location_Easting_OSGR','Location_Northing_OSGR']].copy()\n",
    "\n",
    "print(len(df_accidents_coords[df_accidents_coords.isnull().any(1)]))\n",
    "df_accidents_coords_complete = df_accidents_coords.dropna().copy()\n",
    "\n",
    "df_accidents_coords_complete[['Location_Easting_OSGR','Location_Northing_OSGR']] = df_accidents_coords_complete[['Location_Easting_OSGR','Location_Northing_OSGR']].astype('Int32')\n",
    "accident_array = df_accidents_coords_complete.values"
   ]
  },
  {
   "cell_type": "code",
   "execution_count": 48,
   "metadata": {},
   "outputs": [],
   "source": [
    "accident_tree = KDTree(accident_array[:,1:3])\n",
    "\n",
    "rank_cols = []\n",
    "\n",
    "for dist in range(50,215,15):\n",
    "    df_accidents_coords_complete.loc[:,'Neighbour ' + str(dist)+ 'm'] = accident_tree.query_radius(accident_array[:,1:3],\n",
    "                                                                                   r=dist,\n",
    "                                                                                   count_only=True)\n",
    "    \n",
    "    df_accidents_coords_complete.loc[:,'Neighbour ' + str(dist) + 'm rank'] = df_accidents_coords_complete.loc[:,'Neighbour ' + str(dist)+ 'm'].rank(ascending=False)\n",
    "    \n",
    "    rank_cols.append('Neighbour ' + str(dist) + 'm rank')\n",
    "#     df_accidents_coords_complete.sort_values(by='NeighbourNO', ascending=False).reset_index()[:20]"
   ]
  },
  {
   "cell_type": "code",
   "execution_count": 49,
   "metadata": {},
   "outputs": [],
   "source": [
    "df_accidents_coords_complete['Av Rank'] = df_accidents_coords_complete[rank_cols].mean(axis=1)"
   ]
  },
  {
   "cell_type": "code",
   "execution_count": 53,
   "metadata": {},
   "outputs": [
    {
     "data": {
      "text/html": [
       "<div>\n",
       "<style scoped>\n",
       "    .dataframe tbody tr th:only-of-type {\n",
       "        vertical-align: middle;\n",
       "    }\n",
       "\n",
       "    .dataframe tbody tr th {\n",
       "        vertical-align: top;\n",
       "    }\n",
       "\n",
       "    .dataframe thead th {\n",
       "        text-align: right;\n",
       "    }\n",
       "</style>\n",
       "<table border=\"1\" class=\"dataframe\">\n",
       "  <thead>\n",
       "    <tr style=\"text-align: right;\">\n",
       "      <th></th>\n",
       "      <th>Accident_Index</th>\n",
       "      <th>Location_Easting_OSGR</th>\n",
       "      <th>Location_Northing_OSGR</th>\n",
       "      <th>NeighbourNO</th>\n",
       "      <th>Neighbour 50m</th>\n",
       "      <th>Neighbour 50m rank</th>\n",
       "      <th>Neighbour 65m</th>\n",
       "      <th>Neighbour 65m rank</th>\n",
       "      <th>Neighbour 80m</th>\n",
       "      <th>Neighbour 80m rank</th>\n",
       "      <th>...</th>\n",
       "      <th>Neighbour 140m rank</th>\n",
       "      <th>Neighbour 155m</th>\n",
       "      <th>Neighbour 155m rank</th>\n",
       "      <th>Neighbour 170m</th>\n",
       "      <th>Neighbour 170m rank</th>\n",
       "      <th>Neighbour 185m</th>\n",
       "      <th>Neighbour 185m rank</th>\n",
       "      <th>Neighbour 200m</th>\n",
       "      <th>Neighbour 200m rank</th>\n",
       "      <th>Av Rank</th>\n",
       "    </tr>\n",
       "  </thead>\n",
       "  <tbody>\n",
       "    <tr>\n",
       "      <th>6436</th>\n",
       "      <td>2018010101667</td>\n",
       "      <td>531950</td>\n",
       "      <td>179110</td>\n",
       "      <td>81</td>\n",
       "      <td>68</td>\n",
       "      <td>196.5</td>\n",
       "      <td>79</td>\n",
       "      <td>153.0</td>\n",
       "      <td>105</td>\n",
       "      <td>6.0</td>\n",
       "      <td>...</td>\n",
       "      <td>40.5</td>\n",
       "      <td>174</td>\n",
       "      <td>69.5</td>\n",
       "      <td>184</td>\n",
       "      <td>116.0</td>\n",
       "      <td>202</td>\n",
       "      <td>93.0</td>\n",
       "      <td>211</td>\n",
       "      <td>126.0</td>\n",
       "      <td>77.272727</td>\n",
       "    </tr>\n",
       "    <tr>\n",
       "      <th>18633</th>\n",
       "      <td>2019010209987</td>\n",
       "      <td>531956</td>\n",
       "      <td>179103</td>\n",
       "      <td>86</td>\n",
       "      <td>62</td>\n",
       "      <td>417.0</td>\n",
       "      <td>78</td>\n",
       "      <td>187.5</td>\n",
       "      <td>107</td>\n",
       "      <td>4.0</td>\n",
       "      <td>...</td>\n",
       "      <td>40.5</td>\n",
       "      <td>175</td>\n",
       "      <td>60.0</td>\n",
       "      <td>190</td>\n",
       "      <td>61.5</td>\n",
       "      <td>204</td>\n",
       "      <td>83.0</td>\n",
       "      <td>212</td>\n",
       "      <td>120.0</td>\n",
       "      <td>90.818182</td>\n",
       "    </tr>\n",
       "    <tr>\n",
       "      <th>7863</th>\n",
       "      <td>2019010179199</td>\n",
       "      <td>531947</td>\n",
       "      <td>179105</td>\n",
       "      <td>89</td>\n",
       "      <td>64</td>\n",
       "      <td>369.5</td>\n",
       "      <td>78</td>\n",
       "      <td>187.5</td>\n",
       "      <td>110</td>\n",
       "      <td>3.0</td>\n",
       "      <td>...</td>\n",
       "      <td>40.5</td>\n",
       "      <td>174</td>\n",
       "      <td>69.5</td>\n",
       "      <td>187</td>\n",
       "      <td>83.0</td>\n",
       "      <td>202</td>\n",
       "      <td>93.0</td>\n",
       "      <td>212</td>\n",
       "      <td>120.0</td>\n",
       "      <td>91.909091</td>\n",
       "    </tr>\n",
       "    <tr>\n",
       "      <th>17177</th>\n",
       "      <td>2017010056466</td>\n",
       "      <td>531960</td>\n",
       "      <td>179110</td>\n",
       "      <td>84</td>\n",
       "      <td>62</td>\n",
       "      <td>417.0</td>\n",
       "      <td>79</td>\n",
       "      <td>153.0</td>\n",
       "      <td>97</td>\n",
       "      <td>25.5</td>\n",
       "      <td>...</td>\n",
       "      <td>40.5</td>\n",
       "      <td>175</td>\n",
       "      <td>60.0</td>\n",
       "      <td>187</td>\n",
       "      <td>83.0</td>\n",
       "      <td>203</td>\n",
       "      <td>88.5</td>\n",
       "      <td>212</td>\n",
       "      <td>120.0</td>\n",
       "      <td>93.818182</td>\n",
       "    </tr>\n",
       "    <tr>\n",
       "      <th>17292</th>\n",
       "      <td>2018010132569</td>\n",
       "      <td>531950</td>\n",
       "      <td>179120</td>\n",
       "      <td>81</td>\n",
       "      <td>67</td>\n",
       "      <td>254.5</td>\n",
       "      <td>80</td>\n",
       "      <td>104.0</td>\n",
       "      <td>91</td>\n",
       "      <td>88.5</td>\n",
       "      <td>...</td>\n",
       "      <td>50.0</td>\n",
       "      <td>171</td>\n",
       "      <td>107.5</td>\n",
       "      <td>185</td>\n",
       "      <td>101.0</td>\n",
       "      <td>197</td>\n",
       "      <td>125.5</td>\n",
       "      <td>210</td>\n",
       "      <td>139.5</td>\n",
       "      <td>94.772727</td>\n",
       "    </tr>\n",
       "  </tbody>\n",
       "</table>\n",
       "<p>5 rows × 27 columns</p>\n",
       "</div>"
      ],
      "text/plain": [
       "      Accident_Index  Location_Easting_OSGR  Location_Northing_OSGR  \\\n",
       "6436   2018010101667                 531950                  179110   \n",
       "18633  2019010209987                 531956                  179103   \n",
       "7863   2019010179199                 531947                  179105   \n",
       "17177  2017010056466                 531960                  179110   \n",
       "17292  2018010132569                 531950                  179120   \n",
       "\n",
       "       NeighbourNO  Neighbour 50m  Neighbour 50m rank  Neighbour 65m  \\\n",
       "6436            81             68               196.5             79   \n",
       "18633           86             62               417.0             78   \n",
       "7863            89             64               369.5             78   \n",
       "17177           84             62               417.0             79   \n",
       "17292           81             67               254.5             80   \n",
       "\n",
       "       Neighbour 65m rank  Neighbour 80m  Neighbour 80m rank  ...  \\\n",
       "6436                153.0            105                 6.0  ...   \n",
       "18633               187.5            107                 4.0  ...   \n",
       "7863                187.5            110                 3.0  ...   \n",
       "17177               153.0             97                25.5  ...   \n",
       "17292               104.0             91                88.5  ...   \n",
       "\n",
       "       Neighbour 140m rank  Neighbour 155m  Neighbour 155m rank  \\\n",
       "6436                  40.5             174                 69.5   \n",
       "18633                 40.5             175                 60.0   \n",
       "7863                  40.5             174                 69.5   \n",
       "17177                 40.5             175                 60.0   \n",
       "17292                 50.0             171                107.5   \n",
       "\n",
       "       Neighbour 170m  Neighbour 170m rank  Neighbour 185m  \\\n",
       "6436              184                116.0             202   \n",
       "18633             190                 61.5             204   \n",
       "7863              187                 83.0             202   \n",
       "17177             187                 83.0             203   \n",
       "17292             185                101.0             197   \n",
       "\n",
       "       Neighbour 185m rank  Neighbour 200m  Neighbour 200m rank    Av Rank  \n",
       "6436                  93.0             211                126.0  77.272727  \n",
       "18633                 83.0             212                120.0  90.818182  \n",
       "7863                  93.0             212                120.0  91.909091  \n",
       "17177                 88.5             212                120.0  93.818182  \n",
       "17292                125.5             210                139.5  94.772727  \n",
       "\n",
       "[5 rows x 27 columns]"
      ]
     },
     "execution_count": 53,
     "metadata": {},
     "output_type": "execute_result"
    }
   ],
   "source": [
    "df_accidents_coords_complete.sort_values(by=['Av Rank'], ascending=True).head()"
   ]
  },
  {
   "cell_type": "code",
   "execution_count": null,
   "metadata": {},
   "outputs": [],
   "source": []
  },
  {
   "cell_type": "code",
   "execution_count": null,
   "metadata": {},
   "outputs": [],
   "source": []
  },
  {
   "cell_type": "markdown",
   "metadata": {},
   "source": [
    "### Try DBSCAN"
   ]
  },
  {
   "cell_type": "code",
   "execution_count": null,
   "metadata": {},
   "outputs": [],
   "source": [
    "X_std = StandardScaler().fit_transform(accident_array[:,1:3])\n",
    "X = np.array(accident_array[:,1:3], dtype='int32')"
   ]
  },
  {
   "cell_type": "code",
   "execution_count": null,
   "metadata": {},
   "outputs": [],
   "source": [
    "sns.scatterplot(x=X[:,0], y=X[:,1])\n",
    "plt.axis('equal')"
   ]
  },
  {
   "cell_type": "code",
   "execution_count": null,
   "metadata": {},
   "outputs": [],
   "source": [
    "# Compute DBSCAN\n",
    "db = DBSCAN(eps=15, min_samples=40, n_jobs=8).fit(X)\n",
    "labels = db.labels_\n",
    "len(np.unique(labels))"
   ]
  },
  {
   "cell_type": "code",
   "execution_count": null,
   "metadata": {},
   "outputs": [],
   "source": [
    "df_accidents_coords_complete['Cluster No'] = labels"
   ]
  },
  {
   "cell_type": "code",
   "execution_count": null,
   "metadata": {},
   "outputs": [],
   "source": [
    "plt.figure(figsize=[25,25])\n",
    "\n",
    "plt.axis('equal')\n",
    "plt.grid()\n",
    "\n",
    "# '#e91e63'\n",
    "plt.scatter(df_accidents_coords_complete[\"Location_Easting_OSGR\"],\n",
    "            df_accidents_coords_complete[\"Location_Northing_OSGR\"],\n",
    "            c='#37474F', s=0.4,\n",
    "            alpha=0.5, label=\"Accidents\")\n",
    "\n",
    "# '#37474F'\n",
    "plt.scatter(df_accidents_coords_complete.loc[df_accidents_coords_complete['Cluster No']>0,\"Location_Easting_OSGR\"],\n",
    "            df_accidents_coords_complete.loc[df_accidents_coords_complete['Cluster No']>0,\"Location_Northing_OSGR\"],\n",
    "            c=df_accidents_coords_complete.loc[df_accidents_coords_complete['Cluster No']>0,'Cluster No'],\n",
    "            s=20, label=\"Cluster of accidents\")\n",
    "\n",
    "plt.title('Accidents')\n",
    "\n",
    "# plt.ylim(0,200000)\n",
    "# plt.xlim(100000,350000)\n",
    "\n",
    "plt.xlabel('OSGR Easting [m]')\n",
    "plt.ylabel('OSGR Northing [m]')\n",
    "plt.yticks([50000,100000,150000,200000,250000,300000])\n",
    "#plt.grid(linestyle=':')\n",
    "plt.grid(False)\n",
    "plt.legend(prop={'size': 16})"
   ]
  },
  {
   "cell_type": "code",
   "execution_count": null,
   "metadata": {},
   "outputs": [],
   "source": [
    "df_accidents_coords_complete.loc[df_accidents_coords_complete['Cluster No']==2,:]\n",
    "df_accidents = df_accidents.merge(df_accidents_coords_complete[['Accident_Index', 'Cluster No']],\n",
    "                                  left_on='Accident_Index', right_on='Accident_Index', how='left')"
   ]
  },
  {
   "cell_type": "code",
   "execution_count": null,
   "metadata": {},
   "outputs": [],
   "source": [
    "df_accidents.head()\n",
    "df_accident_clusters = df_accidents[df_accidents['Cluster No']>-1].copy()\n",
    "len(df_accident_clusters)"
   ]
  },
  {
   "cell_type": "code",
   "execution_count": null,
   "metadata": {},
   "outputs": [],
   "source": [
    "label_to_look_at = 1"
   ]
  },
  {
   "cell_type": "code",
   "execution_count": null,
   "metadata": {},
   "outputs": [],
   "source": [
    "plt.figure(figsize=[25,25])\n",
    "plt.axis('equal')\n",
    "plt.grid()\n",
    "\n",
    "df_accidents_to_look_at = df_accidents[df_accidents['Cluster No']==label_to_look_at].copy()\n",
    "\n",
    "\n",
    "plt.scatter(df_accidents[\"Location_Easting_OSGR\"],\n",
    "            df_accidents[\"Location_Northing_OSGR\"],\n",
    "            c='#37474F', s=0.4,\n",
    "            alpha=0.5, label=\"Accidents\")\n",
    "\n",
    "# '#37474F'\n",
    "plt.scatter(df_accidents_to_look_at[\"Location_Easting_OSGR\"],\n",
    "            df_accidents_to_look_at[\"Location_Northing_OSGR\"],\n",
    "            c='#e91e63',\n",
    "            s=20, label=\"Cluster of accidents\")\n",
    "\n",
    "plt.title('Accidents')\n",
    "\n",
    "plt.ylim(df_accidents_to_look_at[\"Location_Northing_OSGR\"].min()-100,df_accidents_to_look_at[\"Location_Northing_OSGR\"].max()+100)\n",
    "plt.xlim(df_accidents_to_look_at[\"Location_Easting_OSGR\"].min()-100,df_accidents_to_look_at[\"Location_Easting_OSGR\"].max()+100)\n",
    "\n",
    "plt.xlabel('OSGR Easting [m]')\n",
    "plt.ylabel('OSGR Northing [m]')\n",
    "# plt.yticks([50000,100000,150000,200000,250000,300000])\n",
    "#plt.grid(linestyle=':')\n",
    "plt.grid(False)\n",
    "plt.legend(prop={'size': 16})"
   ]
  },
  {
   "cell_type": "code",
   "execution_count": null,
   "metadata": {},
   "outputs": [],
   "source": [
    "fig = px.scatter_mapbox(df_accident_clusters, lat=\"Latitude\", lon=\"Longitude\",\n",
    "                        hover_name=\"Cluster No\", hover_data=[\"Accident_Severity\", \"Number_of_Casualties\"],\n",
    "                        color_discrete_sequence=[\"fuchsia\"], zoom=5, height=300)\n",
    "fig.update_layout(mapbox_style=\"open-street-map\")\n",
    "fig.update_layout(margin={\"r\":0,\"t\":0,\"l\":0,\"b\":0})\n",
    "fig.show()"
   ]
  },
  {
   "cell_type": "code",
   "execution_count": null,
   "metadata": {},
   "outputs": [],
   "source": [
    "df_accident_clusters.head()"
   ]
  },
  {
   "cell_type": "markdown",
   "metadata": {},
   "source": [
    "## Try Optics"
   ]
  },
  {
   "cell_type": "code",
   "execution_count": null,
   "metadata": {},
   "outputs": [],
   "source": []
  },
  {
   "cell_type": "code",
   "execution_count": null,
   "metadata": {},
   "outputs": [],
   "source": [
    "start_time = time()\n",
    "optics_clustering = OPTICS(min_samples=40, max_eps=25, metric='euclidean', n_jobs=8).fit(X)\n",
    "\n",
    "end_time = time()\n",
    "print((end_time-start_time))"
   ]
  },
  {
   "cell_type": "code",
   "execution_count": null,
   "metadata": {},
   "outputs": [],
   "source": [
    "optics_labels = optics_clustering.labels_\n",
    "print(len(np.unique(optics_labels)))\n",
    "\n",
    "df_accidents_coords_complete['OPTICS Cluster No'] = optics_labels\n",
    "\n",
    "df_accidents = df_accidents.merge(df_accidents_coords_complete[['Accident_Index', 'OPTICS Cluster No']],\n",
    "                                  left_on='Accident_Index', right_on='Accident_Index', how='left')"
   ]
  },
  {
   "cell_type": "code",
   "execution_count": null,
   "metadata": {},
   "outputs": [],
   "source": [
    "df_accidents.head()"
   ]
  },
  {
   "cell_type": "code",
   "execution_count": null,
   "metadata": {},
   "outputs": [],
   "source": [
    "df_accident_clusters = df_accidents[df_accidents['OPTICS Cluster No_y']>-1].copy()\n",
    "len(df_accident_clusters)"
   ]
  },
  {
   "cell_type": "code",
   "execution_count": null,
   "metadata": {},
   "outputs": [],
   "source": [
    "fig = px.scatter_mapbox(df_accident_clusters, lat=\"Latitude\", lon=\"Longitude\",\n",
    "                        hover_name='OPTICS Cluster No_y', hover_data=[\"Accident_Severity\", \"Number_of_Casualties\"],\n",
    "                        color_discrete_sequence=[\"fuchsia\"], zoom=5, height=300)\n",
    "fig.update_layout(mapbox_style=\"open-street-map\")\n",
    "fig.update_layout(margin={\"r\":0,\"t\":0,\"l\":0,\"b\":0})\n",
    "fig.show()"
   ]
  },
  {
   "cell_type": "markdown",
   "metadata": {},
   "source": [
    "## Can we estimate the number of casualities and respective severity?\n",
    "\n",
    "A witness would know:\n",
    "- Location\n",
    "- type of Vehicles\n",
    "- Date/time\n",
    "- Surface conditions\n",
    "\n",
    "Out of those what would be relevant?\n",
    "\n",
    "What are we trying to estimate?\n",
    "<br>\n",
    "number of casualities with severity?\n",
    "get a single estimation with a vector of 3 elements: number of slight, serious, fatal\n",
    " - Multivariate Linear Regression\n",
    " - ## Let's use ANN\n",
    "\n",
    "- Veh Leaving Carriageway\n",
    "\n",
    "<br>get a model for each vehicle?"
   ]
  },
  {
   "cell_type": "code",
   "execution_count": null,
   "metadata": {},
   "outputs": [],
   "source": [
    "accident_features = ['Accident_Index','Road_Type','Speed_limit','Junction_Detail','Junction_Control',\n",
    "                     'Light_Conditions','Weather_Conditions','Road_Surface_Conditions','Urban_or_Rural_Area']\n",
    "\n",
    "vehicle_features = ['Vehicle_Type']\n",
    "# Veh Leaving Carriageway"
   ]
  },
  {
   "cell_type": "code",
   "execution_count": null,
   "metadata": {},
   "outputs": [],
   "source": [
    "df_vehicle_classes = df_vehicles.groupby(['Accident_Index','Vehicle_Type']).size().unstack(fill_value=0)\n",
    "print(len(df_vehicle_classes))"
   ]
  },
  {
   "cell_type": "code",
   "execution_count": null,
   "metadata": {},
   "outputs": [],
   "source": [
    "casaualty_severity = df_casualties.groupby(['Accident_Index','Casualty_Severity']).size().unstack(fill_value=0)\n",
    "casaualty_severity.rename(columns={1: \"Fatal\", 2: \"Serious\", 3: \"Slight\"}, inplace=True)\n",
    "casaualty_severity.head()"
   ]
  },
  {
   "cell_type": "code",
   "execution_count": null,
   "metadata": {},
   "outputs": [],
   "source": [
    "print(len(df_accidents[accident_features]))\n",
    "df_accidents_s1 = df_accidents[accident_features].merge(df_vehicle_classes, on=\"Accident_Index\")\n",
    "df_accidents_s2 = df_accidents_s1.merge(casaualty_severity, on=\"Accident_Index\")"
   ]
  },
  {
   "cell_type": "code",
   "execution_count": null,
   "metadata": {},
   "outputs": [],
   "source": [
    "# simply drop NA\n",
    "df_accidents_s3 = df_accidents_s2.drop(df_accidents_s2[df_accidents_s2.isnull().any(1)].index)\n",
    "\n",
    "# simply drop negatives:\n",
    "value_cols = ['Road_Type', 'Speed_limit', 'Junction_Detail', 'Junction_Control', 'Light_Conditions', 'Weather_Conditions', 'Road_Surface_Conditions',\n",
    " 'Urban_or_Rural_Area', -1, 1, 2, 3, 4, 5, 8, 9, 10, 11, 16, 17, 18, 19, 20, 21, 22, 23, 90, 97, 98, 'Fatal',\n",
    " 'Serious', 'Slight']\n",
    "\n",
    "df_accidents_s3.loc[df_accidents_s3['Junction_Control']==-1, 'Junction_Control'] = 5\n",
    "df_accidents_s3.loc[df_accidents_s3['Junction_Detail']==-1, 'Junction_Detail'] = 10\n",
    "df_accidents_s3.loc[df_accidents_s3['Road_Surface_Conditions']==-1, 'Road_Surface_Conditions'] = 8\n",
    "\n",
    "df_accidents_s3.loc[df_accidents_s3['Light_Conditions']==-1, 'Light_Conditions'] = 8\n",
    "df_accidents_s3.loc[df_accidents_s3['Weather_Conditions']==-1, 'Weather_Conditions'] = 9\n",
    "\n",
    "df_accidents_s3.loc[df_accidents_s3['Road_Type']==-1, 'Road_Type'] = 9\n",
    "df_accidents_s3.loc[df_accidents_s3['Urban_or_Rural_Area']==-1, 'Urban_or_Rural_Area'] = 3"
   ]
  },
  {
   "cell_type": "code",
   "execution_count": null,
   "metadata": {},
   "outputs": [],
   "source": [
    "df_accidents_s3[(df_accidents_s3[value_cols] < 0).any(1)]"
   ]
  },
  {
   "cell_type": "code",
   "execution_count": null,
   "metadata": {},
   "outputs": [],
   "source": [
    "x_cont_cols = ['Speed_limit', -1, 1, 2, 3, 4, 5, 8, 9, 10, 11, 16, 17, 18, 19, 20, 21, 22, 23, 90, 97, 98]\n",
    "\n",
    "x_cat_cols = ['Road_Type', 'Junction_Detail', 'Junction_Control', 'Light_Conditions',\n",
    "              'Weather_Conditions', 'Road_Surface_Conditions', 'Urban_or_Rural_Area']\n",
    "\n",
    "label_cols = ['Fatal', 'Serious', 'Slight']"
   ]
  },
  {
   "cell_type": "code",
   "execution_count": null,
   "metadata": {},
   "outputs": [],
   "source": [
    "X = torch.tensor(df_accidents_s3[x_cont_cols + x_cat_cols].values, dtype=torch.float)\n",
    "x_cont = torch.tensor(df_accidents_s3[x_cont_cols].values, dtype=torch.float)\n",
    "\n",
    "df_accidents_s3[x_cat_cols] = df_accidents_s3[x_cat_cols].astype(\"category\")\n",
    "x_cat = torch.tensor( np.stack( [df_accidents_s3[col].cat.codes.values for col in x_cat_cols], axis=1), dtype=torch.int)"
   ]
  },
  {
   "cell_type": "code",
   "execution_count": null,
   "metadata": {},
   "outputs": [],
   "source": [
    "x_cat.shape"
   ]
  },
  {
   "cell_type": "code",
   "execution_count": null,
   "metadata": {},
   "outputs": [],
   "source": [
    "y = torch.tensor(df_accidents_s3[label_cols].values, dtype=torch.float)"
   ]
  },
  {
   "cell_type": "markdown",
   "metadata": {},
   "source": [
    "## Train test split"
   ]
  },
  {
   "cell_type": "markdown",
   "metadata": {},
   "source": [
    "<div class=\"alert alert-block alert-danger\">\n",
    "<b>Danger:</b> \n",
    "\n",
    "ADD SHUFFLING\n",
    "\n",
    "\n",
    "</div>"
   ]
  },
  {
   "cell_type": "code",
   "execution_count": null,
   "metadata": {},
   "outputs": [],
   "source": [
    "cat_train = x_cat[:batch_size-test_size]\n",
    "cat_test = x_cat[batch_size-test_size:batch_size]\n",
    "con_train = x_cont[:batch_size-test_size]\n",
    "con_test = x_cont[batch_size-test_size:batch_size]"
   ]
  },
  {
   "cell_type": "code",
   "execution_count": null,
   "metadata": {},
   "outputs": [],
   "source": [
    "y_train = y[:batch_size-test_size]\n",
    "y_test = y[batch_size-test_size:batch_size]"
   ]
  },
  {
   "cell_type": "markdown",
   "metadata": {},
   "source": [
    "### Setting up Model"
   ]
  },
  {
   "cell_type": "code",
   "execution_count": null,
   "metadata": {},
   "outputs": [],
   "source": [
    "class RegressionModel(nn.Module):\n",
    "    \n",
    "    def __init__(self, emb_szs, n_cont, out_sz, layers, p=0.35):\n",
    "        \n",
    "        super().__init__()\n",
    "        \n",
    "        # Embedding\n",
    "        self.embeds = nn.ModuleList([nn.Embedding(ni, nf) for ni,nf in emb_szs])\n",
    "        \n",
    "        # Dropout layer\n",
    "        self.emb_drop = nn.Dropout(p)\n",
    "        \n",
    "        # normalise the continous data\n",
    "        self.bn_cont = nn.BatchNorm1d(n_cont)\n",
    "        \n",
    "        layerlist = []\n",
    "        n_emb = sum([nf for ni,nf in emb_szs])\n",
    "        n_in = n_emb + n_cont\n",
    "        \n",
    "        # Create list of fully connected layers\n",
    "        for i in layers:\n",
    "            layerlist.append(nn.Linear(n_in,i))\n",
    "            layerlist.append(nn.ReLU(inplace=True))\n",
    "            layerlist.append(nn.BatchNorm1d(i))\n",
    "            layerlist.append(nn.Dropout(p))\n",
    "            n_in = i\n",
    "        \n",
    "        # fully connected layer\n",
    "        layerlist.append(nn.Linear(layers[-1], out_sz))\n",
    "        \n",
    "        \n",
    "        self.layers = nn.Sequential(*layerlist)\n",
    "        \n",
    "        \n",
    "    def forward(self, x_cat, x_cont):\n",
    "        \n",
    "        embeddings = []\n",
    "                \n",
    "        for i,e in enumerate(self.embeds):\n",
    "            embeddings.append(e(x_cat[:,i]))\n",
    "        # Concatenate individial vectors of categorical columns from embeddings    \n",
    "        x = torch.cat(embeddings, 1)\n",
    "        # Apply dropout\n",
    "        x = self.emb_drop(x)\n",
    "        \n",
    "        # Normalise continous data\n",
    "        x_cont = self.bn_cont(x_cont)\n",
    "        \n",
    "        # Concatenate categorical and continous columns\n",
    "        x = torch.cat([x,x_cont],1)\n",
    "        # Pass through tensor the fully connected layers\n",
    "        x = self.layers(x)\n",
    "        \n",
    "        return x"
   ]
  },
  {
   "cell_type": "code",
   "execution_count": null,
   "metadata": {},
   "outputs": [],
   "source": [
    "torch.manual_seed(42)\n",
    "model = RegressionModel(emb_szs, len(x_cont_cols), 3, [200,100,60], p=0.4)\n",
    "\n",
    "criterion = nn.MSELoss() # np.sqrt(MSE) --> RMS\n",
    "\n",
    "optimiser = torch.optim.Adam(model.parameters(), lr=0.001)\n",
    "batch_size = 60000\n",
    "test_size = int(batch_size * 0.2)"
   ]
  },
  {
   "cell_type": "code",
   "execution_count": null,
   "metadata": {},
   "outputs": [],
   "source": [
    "start_time = time()\n",
    "\n",
    "epochs = 300\n",
    "\n",
    "losses = []\n",
    "\n",
    "for i in range(epochs):\n",
    "    i+=1\n",
    "    \n",
    "    y_pred = model(cat_train,con_train)\n",
    "    y_pred = torch.round(y_pred)\n",
    "    loss = torch.sqrt(criterion(y_pred, y_train))\n",
    "    \n",
    "    losses.append(loss)\n",
    "    \n",
    "    if i%10 == 1:\n",
    "        print(f'epoch: {i} loss is {loss}')\n",
    "        \n",
    "    optimiser.zero_grad()\n",
    "    loss.backward()\n",
    "    optimiser.step()\n",
    "    \n",
    "end_time = time()\n",
    "duration = end_time - start_time\n",
    "print(f'Traning took {duration/60} minutes')"
   ]
  },
  {
   "cell_type": "code",
   "execution_count": null,
   "metadata": {},
   "outputs": [],
   "source": [
    "torch.round(y_pred)"
   ]
  },
  {
   "cell_type": "code",
   "execution_count": null,
   "metadata": {},
   "outputs": [],
   "source": [
    "plt.plot(range(epochs), losses)"
   ]
  },
  {
   "cell_type": "code",
   "execution_count": null,
   "metadata": {},
   "outputs": [],
   "source": [
    "with torch.no_grad():\n",
    "    \n",
    "    y_val = model(cat_test,con_test)\n",
    "    \n",
    "    loss = torch.sqrt(criterion(y_val, y_test))"
   ]
  },
  {
   "cell_type": "code",
   "execution_count": null,
   "metadata": {},
   "outputs": [],
   "source": [
    "loss"
   ]
  },
  {
   "cell_type": "code",
   "execution_count": null,
   "metadata": {},
   "outputs": [],
   "source": [
    "for i in range(10):\n",
    "    \n",
    "    print(f'{i}.) Predicted: {y_val[i]} TRUE: {y_test[i]}')"
   ]
  },
  {
   "cell_type": "code",
   "execution_count": null,
   "metadata": {},
   "outputs": [],
   "source": []
  }
 ],
 "metadata": {
  "kernelspec": {
   "display_name": "Python 3",
   "language": "python",
   "name": "python3"
  },
  "language_info": {
   "codemirror_mode": {
    "name": "ipython",
    "version": 3
   },
   "file_extension": ".py",
   "mimetype": "text/x-python",
   "name": "python",
   "nbconvert_exporter": "python",
   "pygments_lexer": "ipython3",
   "version": "3.8.5"
  }
 },
 "nbformat": 4,
 "nbformat_minor": 4
}
