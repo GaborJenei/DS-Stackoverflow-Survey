{
 "cells": [
  {
   "cell_type": "markdown",
   "metadata": {},
   "source": [
    "# Crash look at UK road traffic accident data"
   ]
  },
  {
   "cell_type": "code",
   "execution_count": 1,
   "metadata": {},
   "outputs": [],
   "source": [
    "# Imports\n",
    "# Data Processing\n",
    "from time import time\n",
    "import numpy as np\n",
    "import pandas as pd\n",
    "\n",
    "# Modelling\n",
    "# from sklearn.neighbors import KDTree, NearestNeighbors\n",
    "from sklearn.cluster import DBSCAN, OPTICS\n",
    "from sklearn.metrics import silhouette_score\n",
    "# from sklearn import metrics\n",
    "# from sklearn.preprocessing import StandardScaler\n",
    "\n",
    "import torch\n",
    "import torch.nn as nn\n",
    "\n",
    "# Visualisation Packages\n",
    "import matplotlib.pyplot as plt\n",
    "import matplotlib\n",
    "import seaborn as sns\n",
    "import plotly.express as px\n",
    "\n",
    "import chart_studio.plotly as py\n",
    "import plotly.graph_objects as go"
   ]
  },
  {
   "cell_type": "markdown",
   "metadata": {},
   "source": [
    "## Read up the data"
   ]
  },
  {
   "cell_type": "code",
   "execution_count": 2,
   "metadata": {},
   "outputs": [],
   "source": [
    "# Read up accidents\n",
    "accidents_2019 = pd.read_csv(r\"http://data.dft.gov.uk/road-accidents-safety-data/DfTRoadSafety_Accidents_2019.zip\",low_memory=False, compression='zip')\n",
    "accidents_2018 = pd.read_csv(r\"http://data.dft.gov.uk/road-accidents-safety-data/dftRoadSafetyData_Accidents_2018.csv\",low_memory=False)\n",
    "accidents_2017 = pd.read_csv(r\"http://data.dft.gov.uk.s3.amazonaws.com/road-accidents-safety-data/dftRoadSafetyData_Accidents_2017.zip\",low_memory=False, compression='zip')\n",
    "accidents_2016 = pd.read_csv(r\"http://data.dft.gov.uk/road-accidents-safety-data/dftRoadSafety_Accidents_2016.zip\",low_memory=False, compression='zip')\n",
    "accidents_2015 = pd.read_csv(r\"http://data.dft.gov.uk/road-accidents-safety-data/RoadSafetyData_Accidents_2015.zip\",low_memory=False, compression='zip')\n",
    "accidents_2014 = pd.read_csv(r\"http://data.dft.gov.uk/road-accidents-safety-data/DfTRoadSafety_Accidents_2014.zip\",low_memory=False)\n",
    "\n",
    "# Read up casualties\n",
    "casualties_2019 = pd.read_csv(r\"http://data.dft.gov.uk/road-accidents-safety-data/DfTRoadSafety_Casualties_2019.zip\",low_memory=False, compression='zip')\n",
    "casualties_2018 = pd.read_csv(r\"http://data.dft.gov.uk/road-accidents-safety-data/dftRoadSafetyData_Casualties_2018.csv\",low_memory=False)\n",
    "casualties_2017 = pd.read_csv(r\"http://data.dft.gov.uk.s3.amazonaws.com/road-accidents-safety-data/dftRoadSafetyData_Casualties_2017.zip\",low_memory=False, compression='zip')\n",
    "casualties_2016 = pd.read_csv(r\"http://data.dft.gov.uk/road-accidents-safety-data/dftRoadSafetyData_Casualties_2016.zip\",low_memory=False, compression='zip')\n",
    "casualties_2015 = pd.read_csv(r\"http://data.dft.gov.uk/road-accidents-safety-data/RoadSafetyData_Casualties_2015.zip\",low_memory=False, compression='zip')\n",
    "casualties_2014 = pd.read_csv(r\"http://data.dft.gov.uk/road-accidents-safety-data/DfTRoadSafety_Casualties_2014.zip\",low_memory=False, compression='zip')\n",
    "\n",
    "# Read up vehicles\n",
    "vehicles_2019 = pd.read_csv(r\"http://data.dft.gov.uk/road-accidents-safety-data/DfTRoadSafety_Vehicles_2019.zip\",low_memory=False, compression='zip')\n",
    "vehicles_2018 = pd.read_csv(r\"http://data.dft.gov.uk/road-accidents-safety-data/dftRoadSafetyData_Vehicles_2018.csv\",low_memory=False)\n",
    "vehicles_2017 = pd.read_csv(r\"http://data.dft.gov.uk.s3.amazonaws.com/road-accidents-safety-data/dftRoadSafetyData_Vehicles_2017.zip\",low_memory=False, compression='zip')\n",
    "vehicles_2016 = pd.read_csv(r\"http://data.dft.gov.uk/road-accidents-safety-data/dftRoadSafetyData_Vehicles_2016.zip\",low_memory=False, compression='zip')\n",
    "vehicles_2015 = pd.read_csv(r\"http://data.dft.gov.uk/road-accidents-safety-data/RoadSafetyData_Vehicles_2015.zip\",low_memory=False, compression='zip')\n",
    "vehicles_2014 = pd.read_csv(r\"http://data.dft.gov.uk/road-accidents-safety-data/DfTRoadSafety_Vehicles_2014.zip\",low_memory=False, compression='zip')"
   ]
  },
  {
   "cell_type": "code",
   "execution_count": 3,
   "metadata": {},
   "outputs": [],
   "source": [
    "# Create a single dataframe\n",
    "df_accidents = accidents_2019.append([accidents_2018, accidents_2017, accidents_2016, accidents_2015], sort=False)\n",
    "df_vehicles = vehicles_2019.append([vehicles_2018, vehicles_2017, vehicles_2016, vehicles_2015], sort=False)\n",
    "df_casualties = casualties_2019.append([casualties_2018, casualties_2017, casualties_2016, casualties_2015], sort=False)"
   ]
  },
  {
   "cell_type": "code",
   "execution_count": 4,
   "metadata": {},
   "outputs": [
    {
     "name": "stdout",
     "output_type": "stream",
     "text": [
      "646830\n"
     ]
    },
    {
     "data": {
      "text/html": [
       "<div>\n",
       "<style scoped>\n",
       "    .dataframe tbody tr th:only-of-type {\n",
       "        vertical-align: middle;\n",
       "    }\n",
       "\n",
       "    .dataframe tbody tr th {\n",
       "        vertical-align: top;\n",
       "    }\n",
       "\n",
       "    .dataframe thead th {\n",
       "        text-align: right;\n",
       "    }\n",
       "</style>\n",
       "<table border=\"1\" class=\"dataframe\">\n",
       "  <thead>\n",
       "    <tr style=\"text-align: right;\">\n",
       "      <th></th>\n",
       "      <th>Accident_Index</th>\n",
       "      <th>Location_Easting_OSGR</th>\n",
       "      <th>Location_Northing_OSGR</th>\n",
       "      <th>Longitude</th>\n",
       "      <th>Latitude</th>\n",
       "      <th>Police_Force</th>\n",
       "      <th>Accident_Severity</th>\n",
       "      <th>Number_of_Vehicles</th>\n",
       "      <th>Number_of_Casualties</th>\n",
       "      <th>Date</th>\n",
       "      <th>...</th>\n",
       "      <th>Pedestrian_Crossing-Human_Control</th>\n",
       "      <th>Pedestrian_Crossing-Physical_Facilities</th>\n",
       "      <th>Light_Conditions</th>\n",
       "      <th>Weather_Conditions</th>\n",
       "      <th>Road_Surface_Conditions</th>\n",
       "      <th>Special_Conditions_at_Site</th>\n",
       "      <th>Carriageway_Hazards</th>\n",
       "      <th>Urban_or_Rural_Area</th>\n",
       "      <th>Did_Police_Officer_Attend_Scene_of_Accident</th>\n",
       "      <th>LSOA_of_Accident_Location</th>\n",
       "    </tr>\n",
       "  </thead>\n",
       "  <tbody>\n",
       "    <tr>\n",
       "      <th>0</th>\n",
       "      <td>2019010128300</td>\n",
       "      <td>528218.0</td>\n",
       "      <td>180407.0</td>\n",
       "      <td>-0.153842</td>\n",
       "      <td>51.508057</td>\n",
       "      <td>1</td>\n",
       "      <td>3</td>\n",
       "      <td>2</td>\n",
       "      <td>3</td>\n",
       "      <td>18/02/2019</td>\n",
       "      <td>...</td>\n",
       "      <td>0</td>\n",
       "      <td>5</td>\n",
       "      <td>1</td>\n",
       "      <td>1</td>\n",
       "      <td>1</td>\n",
       "      <td>0</td>\n",
       "      <td>0</td>\n",
       "      <td>1</td>\n",
       "      <td>3</td>\n",
       "      <td>E01004762</td>\n",
       "    </tr>\n",
       "    <tr>\n",
       "      <th>1</th>\n",
       "      <td>2019010152270</td>\n",
       "      <td>530219.0</td>\n",
       "      <td>172463.0</td>\n",
       "      <td>-0.127949</td>\n",
       "      <td>51.436208</td>\n",
       "      <td>1</td>\n",
       "      <td>3</td>\n",
       "      <td>2</td>\n",
       "      <td>1</td>\n",
       "      <td>15/01/2019</td>\n",
       "      <td>...</td>\n",
       "      <td>-1</td>\n",
       "      <td>-1</td>\n",
       "      <td>4</td>\n",
       "      <td>1</td>\n",
       "      <td>1</td>\n",
       "      <td>0</td>\n",
       "      <td>0</td>\n",
       "      <td>1</td>\n",
       "      <td>3</td>\n",
       "      <td>E01003117</td>\n",
       "    </tr>\n",
       "    <tr>\n",
       "      <th>2</th>\n",
       "      <td>2019010155191</td>\n",
       "      <td>530222.0</td>\n",
       "      <td>182543.0</td>\n",
       "      <td>-0.124193</td>\n",
       "      <td>51.526795</td>\n",
       "      <td>1</td>\n",
       "      <td>3</td>\n",
       "      <td>2</td>\n",
       "      <td>1</td>\n",
       "      <td>01/01/2019</td>\n",
       "      <td>...</td>\n",
       "      <td>0</td>\n",
       "      <td>0</td>\n",
       "      <td>4</td>\n",
       "      <td>1</td>\n",
       "      <td>1</td>\n",
       "      <td>0</td>\n",
       "      <td>0</td>\n",
       "      <td>1</td>\n",
       "      <td>1</td>\n",
       "      <td>E01000943</td>\n",
       "    </tr>\n",
       "  </tbody>\n",
       "</table>\n",
       "<p>3 rows × 32 columns</p>\n",
       "</div>"
      ],
      "text/plain": [
       "  Accident_Index  Location_Easting_OSGR  Location_Northing_OSGR  Longitude  \\\n",
       "0  2019010128300               528218.0                180407.0  -0.153842   \n",
       "1  2019010152270               530219.0                172463.0  -0.127949   \n",
       "2  2019010155191               530222.0                182543.0  -0.124193   \n",
       "\n",
       "    Latitude  Police_Force  Accident_Severity  Number_of_Vehicles  \\\n",
       "0  51.508057             1                  3                   2   \n",
       "1  51.436208             1                  3                   2   \n",
       "2  51.526795             1                  3                   2   \n",
       "\n",
       "   Number_of_Casualties        Date  ...  Pedestrian_Crossing-Human_Control  \\\n",
       "0                     3  18/02/2019  ...                                  0   \n",
       "1                     1  15/01/2019  ...                                 -1   \n",
       "2                     1  01/01/2019  ...                                  0   \n",
       "\n",
       "  Pedestrian_Crossing-Physical_Facilities  Light_Conditions  \\\n",
       "0                                       5                 1   \n",
       "1                                      -1                 4   \n",
       "2                                       0                 4   \n",
       "\n",
       "  Weather_Conditions  Road_Surface_Conditions  Special_Conditions_at_Site  \\\n",
       "0                  1                        1                           0   \n",
       "1                  1                        1                           0   \n",
       "2                  1                        1                           0   \n",
       "\n",
       "   Carriageway_Hazards  Urban_or_Rural_Area  \\\n",
       "0                    0                    1   \n",
       "1                    0                    1   \n",
       "2                    0                    1   \n",
       "\n",
       "   Did_Police_Officer_Attend_Scene_of_Accident  LSOA_of_Accident_Location  \n",
       "0                                            3                  E01004762  \n",
       "1                                            3                  E01003117  \n",
       "2                                            1                  E01000943  \n",
       "\n",
       "[3 rows x 32 columns]"
      ]
     },
     "execution_count": 4,
     "metadata": {},
     "output_type": "execute_result"
    }
   ],
   "source": [
    "print(len(df_accidents))\n",
    "df_accidents.head(3)"
   ]
  },
  {
   "cell_type": "code",
   "execution_count": 5,
   "metadata": {},
   "outputs": [
    {
     "name": "stdout",
     "output_type": "stream",
     "text": [
      "1192061\n"
     ]
    },
    {
     "data": {
      "text/html": [
       "<div>\n",
       "<style scoped>\n",
       "    .dataframe tbody tr th:only-of-type {\n",
       "        vertical-align: middle;\n",
       "    }\n",
       "\n",
       "    .dataframe tbody tr th {\n",
       "        vertical-align: top;\n",
       "    }\n",
       "\n",
       "    .dataframe thead th {\n",
       "        text-align: right;\n",
       "    }\n",
       "</style>\n",
       "<table border=\"1\" class=\"dataframe\">\n",
       "  <thead>\n",
       "    <tr style=\"text-align: right;\">\n",
       "      <th></th>\n",
       "      <th>Accident_Index</th>\n",
       "      <th>Vehicle_Reference</th>\n",
       "      <th>Vehicle_Type</th>\n",
       "      <th>Towing_and_Articulation</th>\n",
       "      <th>Vehicle_Manoeuvre</th>\n",
       "      <th>Vehicle_Location-Restricted_Lane</th>\n",
       "      <th>Junction_Location</th>\n",
       "      <th>Skidding_and_Overturning</th>\n",
       "      <th>Hit_Object_in_Carriageway</th>\n",
       "      <th>Vehicle_Leaving_Carriageway</th>\n",
       "      <th>...</th>\n",
       "      <th>Journey_Purpose_of_Driver</th>\n",
       "      <th>Sex_of_Driver</th>\n",
       "      <th>Age_of_Driver</th>\n",
       "      <th>Age_Band_of_Driver</th>\n",
       "      <th>Engine_Capacity_(CC)</th>\n",
       "      <th>Propulsion_Code</th>\n",
       "      <th>Age_of_Vehicle</th>\n",
       "      <th>Driver_IMD_Decile</th>\n",
       "      <th>Driver_Home_Area_Type</th>\n",
       "      <th>Vehicle_IMD_Decile</th>\n",
       "    </tr>\n",
       "  </thead>\n",
       "  <tbody>\n",
       "    <tr>\n",
       "      <th>0</th>\n",
       "      <td>2019010128300</td>\n",
       "      <td>1</td>\n",
       "      <td>9</td>\n",
       "      <td>0</td>\n",
       "      <td>-1</td>\n",
       "      <td>-1</td>\n",
       "      <td>-1</td>\n",
       "      <td>-1</td>\n",
       "      <td>-1</td>\n",
       "      <td>-1</td>\n",
       "      <td>...</td>\n",
       "      <td>6</td>\n",
       "      <td>1</td>\n",
       "      <td>58</td>\n",
       "      <td>9</td>\n",
       "      <td>-1</td>\n",
       "      <td>-1</td>\n",
       "      <td>-1</td>\n",
       "      <td>2</td>\n",
       "      <td>1</td>\n",
       "      <td>2</td>\n",
       "    </tr>\n",
       "    <tr>\n",
       "      <th>1</th>\n",
       "      <td>2019010128300</td>\n",
       "      <td>2</td>\n",
       "      <td>9</td>\n",
       "      <td>0</td>\n",
       "      <td>-1</td>\n",
       "      <td>-1</td>\n",
       "      <td>-1</td>\n",
       "      <td>-1</td>\n",
       "      <td>-1</td>\n",
       "      <td>-1</td>\n",
       "      <td>...</td>\n",
       "      <td>6</td>\n",
       "      <td>3</td>\n",
       "      <td>-1</td>\n",
       "      <td>-1</td>\n",
       "      <td>-1</td>\n",
       "      <td>-1</td>\n",
       "      <td>-1</td>\n",
       "      <td>2</td>\n",
       "      <td>1</td>\n",
       "      <td>2</td>\n",
       "    </tr>\n",
       "    <tr>\n",
       "      <th>2</th>\n",
       "      <td>2019010152270</td>\n",
       "      <td>1</td>\n",
       "      <td>9</td>\n",
       "      <td>0</td>\n",
       "      <td>18</td>\n",
       "      <td>-1</td>\n",
       "      <td>0</td>\n",
       "      <td>-1</td>\n",
       "      <td>-1</td>\n",
       "      <td>-1</td>\n",
       "      <td>...</td>\n",
       "      <td>6</td>\n",
       "      <td>2</td>\n",
       "      <td>24</td>\n",
       "      <td>5</td>\n",
       "      <td>-1</td>\n",
       "      <td>-1</td>\n",
       "      <td>-1</td>\n",
       "      <td>3</td>\n",
       "      <td>1</td>\n",
       "      <td>3</td>\n",
       "    </tr>\n",
       "  </tbody>\n",
       "</table>\n",
       "<p>3 rows × 23 columns</p>\n",
       "</div>"
      ],
      "text/plain": [
       "  Accident_Index  Vehicle_Reference  Vehicle_Type  Towing_and_Articulation  \\\n",
       "0  2019010128300                  1             9                        0   \n",
       "1  2019010128300                  2             9                        0   \n",
       "2  2019010152270                  1             9                        0   \n",
       "\n",
       "   Vehicle_Manoeuvre  Vehicle_Location-Restricted_Lane  Junction_Location  \\\n",
       "0                 -1                                -1                 -1   \n",
       "1                 -1                                -1                 -1   \n",
       "2                 18                                -1                  0   \n",
       "\n",
       "   Skidding_and_Overturning  Hit_Object_in_Carriageway  \\\n",
       "0                        -1                         -1   \n",
       "1                        -1                         -1   \n",
       "2                        -1                         -1   \n",
       "\n",
       "   Vehicle_Leaving_Carriageway  ...  Journey_Purpose_of_Driver  Sex_of_Driver  \\\n",
       "0                           -1  ...                          6              1   \n",
       "1                           -1  ...                          6              3   \n",
       "2                           -1  ...                          6              2   \n",
       "\n",
       "   Age_of_Driver  Age_Band_of_Driver  Engine_Capacity_(CC)  Propulsion_Code  \\\n",
       "0             58                   9                    -1               -1   \n",
       "1             -1                  -1                    -1               -1   \n",
       "2             24                   5                    -1               -1   \n",
       "\n",
       "   Age_of_Vehicle  Driver_IMD_Decile  Driver_Home_Area_Type  \\\n",
       "0              -1                  2                      1   \n",
       "1              -1                  2                      1   \n",
       "2              -1                  3                      1   \n",
       "\n",
       "   Vehicle_IMD_Decile  \n",
       "0                   2  \n",
       "1                   2  \n",
       "2                   3  \n",
       "\n",
       "[3 rows x 23 columns]"
      ]
     },
     "execution_count": 5,
     "metadata": {},
     "output_type": "execute_result"
    }
   ],
   "source": [
    "print(len(df_vehicles))\n",
    "df_vehicles.head(3)"
   ]
  },
  {
   "cell_type": "code",
   "execution_count": 6,
   "metadata": {},
   "outputs": [
    {
     "name": "stdout",
     "output_type": "stream",
     "text": [
      "852321\n"
     ]
    },
    {
     "data": {
      "text/html": [
       "<div>\n",
       "<style scoped>\n",
       "    .dataframe tbody tr th:only-of-type {\n",
       "        vertical-align: middle;\n",
       "    }\n",
       "\n",
       "    .dataframe tbody tr th {\n",
       "        vertical-align: top;\n",
       "    }\n",
       "\n",
       "    .dataframe thead th {\n",
       "        text-align: right;\n",
       "    }\n",
       "</style>\n",
       "<table border=\"1\" class=\"dataframe\">\n",
       "  <thead>\n",
       "    <tr style=\"text-align: right;\">\n",
       "      <th></th>\n",
       "      <th>Accident_Index</th>\n",
       "      <th>Vehicle_Reference</th>\n",
       "      <th>Casualty_Reference</th>\n",
       "      <th>Casualty_Class</th>\n",
       "      <th>Sex_of_Casualty</th>\n",
       "      <th>Age_of_Casualty</th>\n",
       "      <th>Age_Band_of_Casualty</th>\n",
       "      <th>Casualty_Severity</th>\n",
       "      <th>Pedestrian_Location</th>\n",
       "      <th>Pedestrian_Movement</th>\n",
       "      <th>Car_Passenger</th>\n",
       "      <th>Bus_or_Coach_Passenger</th>\n",
       "      <th>Pedestrian_Road_Maintenance_Worker</th>\n",
       "      <th>Casualty_Type</th>\n",
       "      <th>Casualty_Home_Area_Type</th>\n",
       "      <th>Casualty_IMD_Decile</th>\n",
       "    </tr>\n",
       "  </thead>\n",
       "  <tbody>\n",
       "    <tr>\n",
       "      <th>0</th>\n",
       "      <td>2019010128300</td>\n",
       "      <td>1</td>\n",
       "      <td>1</td>\n",
       "      <td>1</td>\n",
       "      <td>1</td>\n",
       "      <td>58</td>\n",
       "      <td>9</td>\n",
       "      <td>3</td>\n",
       "      <td>0</td>\n",
       "      <td>0</td>\n",
       "      <td>0</td>\n",
       "      <td>0</td>\n",
       "      <td>0</td>\n",
       "      <td>9</td>\n",
       "      <td>1</td>\n",
       "      <td>2</td>\n",
       "    </tr>\n",
       "    <tr>\n",
       "      <th>1</th>\n",
       "      <td>2019010128300</td>\n",
       "      <td>1</td>\n",
       "      <td>2</td>\n",
       "      <td>2</td>\n",
       "      <td>2</td>\n",
       "      <td>-1</td>\n",
       "      <td>-1</td>\n",
       "      <td>3</td>\n",
       "      <td>0</td>\n",
       "      <td>0</td>\n",
       "      <td>1</td>\n",
       "      <td>0</td>\n",
       "      <td>0</td>\n",
       "      <td>9</td>\n",
       "      <td>1</td>\n",
       "      <td>5</td>\n",
       "    </tr>\n",
       "    <tr>\n",
       "      <th>2</th>\n",
       "      <td>2019010128300</td>\n",
       "      <td>1</td>\n",
       "      <td>3</td>\n",
       "      <td>2</td>\n",
       "      <td>2</td>\n",
       "      <td>-1</td>\n",
       "      <td>-1</td>\n",
       "      <td>3</td>\n",
       "      <td>0</td>\n",
       "      <td>0</td>\n",
       "      <td>2</td>\n",
       "      <td>0</td>\n",
       "      <td>0</td>\n",
       "      <td>9</td>\n",
       "      <td>1</td>\n",
       "      <td>5</td>\n",
       "    </tr>\n",
       "  </tbody>\n",
       "</table>\n",
       "</div>"
      ],
      "text/plain": [
       "  Accident_Index  Vehicle_Reference  Casualty_Reference  Casualty_Class  \\\n",
       "0  2019010128300                  1                   1               1   \n",
       "1  2019010128300                  1                   2               2   \n",
       "2  2019010128300                  1                   3               2   \n",
       "\n",
       "   Sex_of_Casualty  Age_of_Casualty  Age_Band_of_Casualty  Casualty_Severity  \\\n",
       "0                1               58                     9                  3   \n",
       "1                2               -1                    -1                  3   \n",
       "2                2               -1                    -1                  3   \n",
       "\n",
       "   Pedestrian_Location  Pedestrian_Movement  Car_Passenger  \\\n",
       "0                    0                    0              0   \n",
       "1                    0                    0              1   \n",
       "2                    0                    0              2   \n",
       "\n",
       "   Bus_or_Coach_Passenger  Pedestrian_Road_Maintenance_Worker  Casualty_Type  \\\n",
       "0                       0                                   0              9   \n",
       "1                       0                                   0              9   \n",
       "2                       0                                   0              9   \n",
       "\n",
       "   Casualty_Home_Area_Type  Casualty_IMD_Decile  \n",
       "0                        1                    2  \n",
       "1                        1                    5  \n",
       "2                        1                    5  "
      ]
     },
     "execution_count": 6,
     "metadata": {},
     "output_type": "execute_result"
    }
   ],
   "source": [
    "print(len(df_casualties))\n",
    "df_casualties.head(3)"
   ]
  },
  {
   "cell_type": "markdown",
   "metadata": {},
   "source": [
    "## Clean the data\n",
    " - Keep columns needed\n",
    " - Convert date to DateTime\n",
    " - check the number of missing or \"out of range values\"\n",
    " - Convert the default encoding to Pandas Categorical type"
   ]
  },
  {
   "cell_type": "code",
   "execution_count": 7,
   "metadata": {},
   "outputs": [],
   "source": [
    "def ToCategorical(df, col_name_list, category_dict_list):\n",
    "    '''\n",
    "    Converts the given columns to categorical data type with the correct categories\n",
    "    used from the category_dict_list\n",
    "    \n",
    "    Parameters:\n",
    "    df (Pandas DataFrame): Input dataframe with columns to convert to categorical type\n",
    "    col_name_list  (list): List of column names from df. These columns will be converted\n",
    "    category_dict_list (list): a list of dictionaries. each dictioanry corresponds to the respective column\n",
    "       and holds the correct category names to use.\n",
    "\n",
    "    Returns:\n",
    "    DataFrame with categorical columns \n",
    "    '''\n",
    "    \n",
    "    df_out = df.copy()\n",
    "    \n",
    "    for i,col in enumerate(col_name_list):\n",
    "        df_out[col] = df_out[col].astype('category')\n",
    "        df_out[col].cat.categories = [category_dict_list[i][j] for j in df_out[col].cat.categories]\n",
    "        \n",
    "    return df_out"
   ]
  },
  {
   "cell_type": "code",
   "execution_count": 8,
   "metadata": {},
   "outputs": [],
   "source": [
    "# Keep columns used, remove other columns\n",
    "accident_cols_to_keep= ['Accident_Index', 'Location_Easting_OSGR', 'Location_Northing_OSGR',\n",
    "                        'Longitude', 'Latitude','Date',\n",
    "                        'Number_of_Vehicles', 'Number_of_Casualties',\n",
    "                        '1st_Road_Class','Speed_limit',\n",
    "                        'Light_Conditions','Weather_Conditions', 'Road_Surface_Conditions']\n",
    "\n",
    "vehicle_cols_to_keep = ['Accident_Index', 'Vehicle_Reference', 'Vehicle_Type', 'Age_of_Driver', 'Sex_of_Driver']\n",
    "\n",
    "casuality_cols_to_keep = ['Accident_Index', 'Vehicle_Reference', 'Casualty_Reference',\n",
    "                          'Casualty_Severity']\n",
    "\n",
    "\n",
    "df_accidents = df_accidents[accident_cols_to_keep].copy()\n",
    "df_vehicles = df_vehicles[vehicle_cols_to_keep].copy()\n",
    "df_casualties = df_casualties[casuality_cols_to_keep].copy()"
   ]
  },
  {
   "cell_type": "code",
   "execution_count": 9,
   "metadata": {},
   "outputs": [
    {
     "name": "stdout",
     "output_type": "stream",
     "text": [
      "Number of null values in Date column: 0\n"
     ]
    }
   ],
   "source": [
    "# convert Date to DateTime object (Time is missing from ~100 accidents)\n",
    "print('Number of null values in Date column: ' + str(len(df_accidents[df_accidents[[\"Date\"]].isnull().any(axis=1)])))\n",
    "df_accidents[\"Date\"] = pd.DatetimeIndex(df_accidents[\"Date\"], dayfirst=True)\n",
    "df_accidents[\"Year\"] = df_accidents[\"Date\"].dt.year.astype('Int16')"
   ]
  },
  {
   "cell_type": "code",
   "execution_count": 10,
   "metadata": {},
   "outputs": [],
   "source": [
    "# Map categories\n",
    "gender_dict = {1:'Male',2:'Female', 3:'Not known', -1:'Data missing or out of range'}\n",
    "light_dict = {1:'Daylight',4:'Darkness - lights lit',5:'Darkness - lights unlit',6:'Darkness - no lighting',7:'Darkness - lighting unknown',-1:'Data missing or out of range'}\n",
    "weather_dict ={1:'Fine no high winds',2:'Raining no high winds',3:'Snowing no high winds',4:'Fine + high winds',5:'Raining + high winds',6:'Snowing + high winds',7:'Fog or mist',8:'Other',9:'Unknown',-1:'Data missing or out of range'}\n",
    "surface_dict = {1:'Dry',2:'Wet or damp',3:'Snow',4:'Frost or ice',5:'Flood over 3cm. deep',6:'Oil or diesel',7:'Mud',-1:'Data missing or out of range'}\n",
    "severity_dict = {1:'Fatal',2:'Serious',3:'Slight'}\n",
    "# speed_limit = {20:'20 MPH', 30:'30 MPH', 40:'40 MPH', 50:'50 MPH', 60:'60 MPH', 70:'70 MPH', -1:'Data missing or out of range', 0.0:'Data missing or out of range', np.nan:'Data missing or out of range'}\n",
    "vehicle_type_dict = {1:'Pedal cycle', 2:'Motorcycle 50cc and under', 3:'Motorcycle 125cc and under', 4:'Motorcycle over 125cc and up to 500cc', 5:'Motorcycle over 500cc', 8:'Taxi/Private hire car', 9:'Car', 10:'Minibus (8 - 16 passenger seats)',\n",
    "                     11:'Bus or coach (17 or more pass seats)', 16:'Ridden horse', 17:'Agricultural vehicle', 18:'Tram', 19:'Van / Goods 3.5 tonnes mgw or under', 20:'Goods over 3.5t. and under 7.5t', 21:'Goods 7.5 tonnes mgw and over', 22:'Mobility scooter',\n",
    "                     23:'Electric motorcycle', 90:'Other vehicle', 97:'Motorcycle - unknown cc', 98:'Goods vehicle - unknown weight', -1:'Data missing or out of range',}\n",
    "\n",
    "road_class_dict = {1:'Motorway', 2:'A(M)', 3:'A', 4:'B', 5:'C', 6:'Unclassified'}\n",
    "\n",
    "\n",
    "df_accidents = ToCategorical(df_accidents,\n",
    "                             ['1st_Road_Class','Light_Conditions','Weather_Conditions','Road_Surface_Conditions'],\n",
    "                             [road_class_dict,light_dict,weather_dict,surface_dict])\n",
    "\n",
    "df_vehicles = ToCategorical(df_vehicles, ['Vehicle_Type', 'Sex_of_Driver'], [vehicle_type_dict, gender_dict])\n",
    "df_casualties = ToCategorical(df_casualties, ['Casualty_Severity'], [severity_dict])"
   ]
  },
  {
   "cell_type": "code",
   "execution_count": 11,
   "metadata": {},
   "outputs": [],
   "source": [
    "# Check the number of missing values\n",
    "\n",
    "def CheckNulls(df, df_name='DataFrame'):\n",
    "    '''\n",
    "    Function that checks the number of rows with any missing values\n",
    "    Input:\n",
    "    df: DataFrame to check\n",
    "    df_name: str, name to use as DF name in the returned prints\n",
    "    \n",
    "    Returns: Null, printing the numbor missig rows to the screen\n",
    "    '''\n",
    "    print('\\n'+df_name)\n",
    "    # Total number of Accident Table\n",
    "    print(f'Number of rows in {df_name}: \\t{len(df)}')\n",
    "\n",
    "    # Numeric columns\n",
    "    print(f'Number of numerical rows with any missing values in {df_name}: {df.isnull().any(axis=1).sum()}')\n",
    "    cols_w_null = df.columns[df.isnull().any()].to_list()\n",
    "    print(f'Numeric columns with nulls: {cols_w_null}')\n",
    "    \n",
    "    # Categoorical columns\n",
    "    missing_cat_rows = df.isin(['Data missing or out of range','Unknown']).any(axis=1).sum()\n",
    "    print(f'Number of categorical rows with any missing values in {df_name}: {missing_cat_rows}')\n"
   ]
  },
  {
   "cell_type": "code",
   "execution_count": 12,
   "metadata": {},
   "outputs": [
    {
     "name": "stdout",
     "output_type": "stream",
     "text": [
      "\n",
      "df_accidents\n",
      "Number of rows in df_accidents: \t646830\n",
      "Number of numerical rows with any missing values in df_accidents: 183\n",
      "Numeric columns with nulls: ['Location_Easting_OSGR', 'Location_Northing_OSGR', 'Longitude', 'Latitude', 'Speed_limit']\n",
      "Number of categorical rows with any missing values in df_accidents: 19457\n",
      "\n",
      "df_vehicles\n",
      "Number of rows in df_vehicles: \t1192061\n",
      "Number of numerical rows with any missing values in df_vehicles: 0\n",
      "Numeric columns with nulls: []\n",
      "Number of categorical rows with any missing values in df_vehicles: 1339\n",
      "\n",
      "df_casualties\n",
      "Number of rows in df_casualties: \t852321\n",
      "Number of numerical rows with any missing values in df_casualties: 0\n",
      "Numeric columns with nulls: []\n",
      "Number of categorical rows with any missing values in df_casualties: 0\n"
     ]
    }
   ],
   "source": [
    "# Accidents\n",
    "CheckNulls(df_accidents, 'df_accidents')\n",
    "CheckNulls(df_vehicles, 'df_vehicles')\n",
    "CheckNulls(df_casualties, 'df_casualties')"
   ]
  },
  {
   "cell_type": "markdown",
   "metadata": {},
   "source": [
    "<div class=\"alert alert-block alert-info\">\n",
    "\n",
    "<b>Note:</b> Although the number of rows with missing values seems small compared to the total sample size, they will be dealt with on a case-by-case basis, removing the missing values based on the columns used for the specific \n",
    "    analysis only.<br>\n",
    "    E.g. We can still use rows for finding hot spots if driver age is not recorded (but coordinates are available). </div>"
   ]
  },
  {
   "cell_type": "markdown",
   "metadata": {},
   "source": [
    "## 1. Is transport becoming safer?"
   ]
  },
  {
   "cell_type": "code",
   "execution_count": 13,
   "metadata": {},
   "outputs": [],
   "source": [
    "# Merge Date to casualities\n",
    "df_casualties_date = df_casualties.merge(df_accidents[[\"Accident_Index\",\"Year\"]], left_on=\"Accident_Index\",right_on=\"Accident_Index\",how='left')"
   ]
  },
  {
   "cell_type": "code",
   "execution_count": 14,
   "metadata": {},
   "outputs": [
    {
     "data": {
      "image/png": "[encoded data removed]",
      "text/plain": [
       "<Figure size 432x288 with 1 Axes>"
      ]
     },
     "metadata": {
      "needs_background": "light"
     },
     "output_type": "display_data"
    }
   ],
   "source": [
    "# Count accidents by year\n",
    "df_accidents_by_year = df_accidents[\"Year\"].value_counts()\n",
    "\n",
    "# Plot\n",
    "ax = sns.barplot(y=df_accidents_by_year.values, x=df_accidents_by_year.index, palette=\"Blues_d\")\n",
    "ax.set(xlabel=\"Year\", ylabel = \"Number of Accidents\");"
   ]
  },
  {
   "cell_type": "code",
   "execution_count": 15,
   "metadata": {},
   "outputs": [
    {
     "data": {
      "image/png": "[encoded data removed]",
      "text/plain": [
       "<Figure size 1382.4x288 with 4 Axes>"
      ]
     },
     "metadata": {
      "needs_background": "light"
     },
     "output_type": "display_data"
    }
   ],
   "source": [
    "# How does the number of casualities change\n",
    "df_casualties_by_year = df_casualties_date.groupby(by=['Casualty_Severity','Year'], as_index=False)['Accident_Index'].count()\n",
    "df_total_casualities = df_casualties_by_year.groupby(by='Year', as_index=False)['Accident_Index'].sum()\n",
    "df_total_casualities['Casualty_Severity'] = 'All Casualities'\n",
    "\n",
    "df_casualties_by_year = df_casualties_by_year.append(df_total_casualities)\n",
    "\n",
    "g = sns.FacetGrid(df_casualties_by_year, col=\"Casualty_Severity\", sharey=False, height=4,\n",
    "    aspect=1.2,)\n",
    "g.map(sns.barplot, \"Year\", \"Accident_Index\", order=[2015,2016,2017,2018,2019])\n",
    "g.set_axis_labels(y_var='Number of Casualities')\n",
    "g.set_titles(col_template = '{col_name}');"
   ]
  },
  {
   "cell_type": "code",
   "execution_count": 16,
   "metadata": {},
   "outputs": [],
   "source": [
    "# Percentage change compared to 2015 baseline\n",
    "df_casualties_change_by_year = df_casualties_by_year.copy()\n",
    "\n",
    "baseline = df_casualties_by_year.loc[df_casualties_by_year['Year']==2015,:]\n",
    "\n",
    "for segment in df_casualties_by_year['Casualty_Severity'].unique():\n",
    "    this_segment = df_casualties_change_by_year['Casualty_Severity']==segment\n",
    "    this_baseline= baseline.loc[baseline['Casualty_Severity']==segment, 'Accident_Index'].values\n",
    "    \n",
    "    df_casualties_change_by_year.loc[this_segment, 'Accident_Index'] = df_casualties_change_by_year.loc[this_segment, 'Accident_Index']/this_baseline * 100"
   ]
  },
  {
   "cell_type": "code",
   "execution_count": 17,
   "metadata": {},
   "outputs": [
    {
     "data": {
      "image/png": "[encoded data removed]",
      "text/plain": [
       "<Figure size 466.375x360 with 1 Axes>"
      ]
     },
     "metadata": {
      "needs_background": "light"
     },
     "output_type": "display_data"
    }
   ],
   "source": [
    "fig = sns.relplot(x=\"Year\", y=\"Accident_Index\", style=\"Casualty_Severity\",\n",
    "            palette=\"Blues_d\",\n",
    "            kind=\"line\",\n",
    "            data=df_casualties_change_by_year);\n",
    "\n",
    "fig.set(ylim=(0, 120), xticks=[2015,2016,2017,2018,2019], ylabel='% Change in Number of Casualities');"
   ]
  },
  {
   "cell_type": "markdown",
   "metadata": {},
   "source": [
    "## 2. How do the number of vehicles per accident and casualities per vehicle change?"
   ]
  },
  {
   "cell_type": "code",
   "execution_count": null,
   "metadata": {},
   "outputs": [],
   "source": [
    "# vehicles per accident"
   ]
  },
  {
   "cell_type": "code",
   "execution_count": null,
   "metadata": {},
   "outputs": [],
   "source": [
    "df_accidents.groupby(by='Year')['Number_of_Vehicles'].mean()"
   ]
  },
  {
   "cell_type": "code",
   "execution_count": null,
   "metadata": {},
   "outputs": [],
   "source": [
    "df_accidents.groupby(by='Year')['Number_of_Casualties'].mean()"
   ]
  },
  {
   "cell_type": "markdown",
   "metadata": {},
   "source": [
    "## 2. What is the agedistribution of the drivevrs involved in the accidents?"
   ]
  },
  {
   "cell_type": "code",
   "execution_count": 18,
   "metadata": {},
   "outputs": [],
   "source": [
    "# Drop records with missing age of driver\n",
    "df_vehicles_age = df_vehicles[df_vehicles['Age_of_Driver']>0]"
   ]
  },
  {
   "cell_type": "code",
   "execution_count": 19,
   "metadata": {},
   "outputs": [
    {
     "data": {
      "text/plain": [
       "<seaborn.axisgrid.FacetGrid at 0x7fe0bb41f1f0>"
      ]
     },
     "execution_count": 19,
     "metadata": {},
     "output_type": "execute_result"
    },
    {
     "data": {
      "image/png": "[encoded data removed]",
      "text/plain": [
       "<Figure size 576x288 with 1 Axes>"
      ]
     },
     "metadata": {},
     "output_type": "display_data"
    }
   ],
   "source": [
    "sns.set(font_scale=1.1)\n",
    "sns.set_style(\"white\")\n",
    "fig = sns.displot(df_vehicles_age, x='Age_of_Driver', kind='hist', bins=list(range(0,110,5)), kde=True,\n",
    "              height=4, aspect=2)\n",
    "fig.set(xlim=(0, 110), xlabel=('Age'), xticks=list(range(0,110,10)))\n"
   ]
  },
  {
   "cell_type": "markdown",
   "metadata": {},
   "source": [
    "## 3a are any vehicles types more dangerous?"
   ]
  },
  {
   "cell_type": "code",
   "execution_count": 20,
   "metadata": {},
   "outputs": [],
   "source": [
    "# Needs vehicle type\n",
    "df_vehicles\n",
    "\n",
    "df_casualties_vehicles = df_casualties.merge(df_vehicles[['Accident_Index', 'Vehicle_Reference', 'Vehicle_Type']], on=['Accident_Index', 'Vehicle_Reference'], how='left')\n",
    "df_casualties_vehicles_roadtype = df_casualties_vehicles.merge(df_accidents[['Accident_Index', '1st_Road_Class']], on=['Accident_Index'], how='left')"
   ]
  },
  {
   "cell_type": "code",
   "execution_count": 21,
   "metadata": {},
   "outputs": [
    {
     "name": "stdout",
     "output_type": "stream",
     "text": [
      "852321\n",
      "851956\n"
     ]
    }
   ],
   "source": [
    "# drop missing values\n",
    "print(len(df_casualties_vehicles_roadtype))\n",
    "df_casualties_vehicles_roadtype = df_casualties_vehicles_roadtype[~(df_casualties_vehicles_roadtype[['Vehicle_Type','1st_Road_Class']].isin(['Data missing or out of range','Unkown']).any(axis=1))].copy()\n",
    "print(len(df_casualties_vehicles_roadtype))"
   ]
  },
  {
   "cell_type": "code",
   "execution_count": 34,
   "metadata": {},
   "outputs": [
    {
     "data": {
      "image/png": "[encoded data removed]",
      "text/plain": [
       "<Figure size 1296x288 with 2 Axes>"
      ]
     },
     "metadata": {},
     "output_type": "display_data"
    }
   ],
   "source": [
    "# Calculate Killed and severly injured casulty proportions\n",
    "df_ksi_counts = df_casualties_vehicles_roadtype.value_counts(subset=['Vehicle_Type', '1st_Road_Class','Casualty_Severity']).unstack()\n",
    "df_ksi_props = df_ksi_counts[['Fatal', 'Serious']].sum(1) / df_ksi_counts.sum(axis=1)\n",
    "df_ksi_by_vehicle_roadtype=df_ksi_props.to_frame().unstack()\n",
    "df_ksi_by_vehicle_roadtype.columns=['Motorway','A(M)','A Road','B Road','C Road','Unclassified']\n",
    "\n",
    "df_ksi_by_vehicle_roadtype = df_ksi_by_vehicle_roadtype.transpose()\n",
    "\n",
    "sns.set(font_scale=0.9)\n",
    "f, ax = plt.subplots(figsize=(18, 4))\n",
    "sns.heatmap(df_ksi_by_vehicle_roadtype, annot=True, cmap=\"rocket_r\",fmt='.2f',\n",
    "            vmin=None,\n",
    "            vmax=None,\n",
    "            square=True, linewidths=.5, ax=ax,)\n",
    "\n",
    "ax.set(ylabel='Road Class', xlabel=\"Vehicle Type\");"
   ]
  },
  {
   "cell_type": "markdown",
   "metadata": {},
   "source": [
    "## 4. Are injuries more severe in certain weather conditions?"
   ]
  },
  {
   "cell_type": "code",
   "execution_count": 148,
   "metadata": {},
   "outputs": [],
   "source": [
    "# Merge Accident condition columns to Casuality severities\n",
    "condition_cols = ['Light_Conditions', 'Weather_Conditions', 'Road_Surface_Conditions']\n",
    "df_casualties_conditions = df_casualties.merge(df_accidents[['Accident_Index'] + condition_cols], on='Accident_Index', how='left')"
   ]
  },
  {
   "cell_type": "code",
   "execution_count": 155,
   "metadata": {},
   "outputs": [
    {
     "name": "stdout",
     "output_type": "stream",
     "text": [
      "829355\n",
      "813436\n"
     ]
    }
   ],
   "source": [
    "# drop missing values\n",
    "print(len(df_casualties_conditions))\n",
    "df_casualties_conditions = df_casualties_conditions[~(df_casualties_conditions[condition_cols].isin(['Data missing or out of range','Unknown','Other']).any(axis=1))].copy()\n",
    "for col in condition_cols:\n",
    "    df_casualties_conditions[col] = df_casualties_conditions[col].cat.remove_unused_categories()\n",
    "print(len(df_casualties_conditions))"
   ]
  },
  {
   "cell_type": "code",
   "execution_count": 156,
   "metadata": {},
   "outputs": [
    {
     "data": {
      "text/html": [
       "<div>\n",
       "<style scoped>\n",
       "    .dataframe tbody tr th:only-of-type {\n",
       "        vertical-align: middle;\n",
       "    }\n",
       "\n",
       "    .dataframe tbody tr th {\n",
       "        vertical-align: top;\n",
       "    }\n",
       "\n",
       "    .dataframe thead th {\n",
       "        text-align: right;\n",
       "    }\n",
       "</style>\n",
       "<table border=\"1\" class=\"dataframe\">\n",
       "  <thead>\n",
       "    <tr style=\"text-align: right;\">\n",
       "      <th></th>\n",
       "      <th>Light_Conditions</th>\n",
       "      <th>Weather_Conditions</th>\n",
       "      <th>Road_Surface_Conditions</th>\n",
       "      <th>KSI</th>\n",
       "      <th>label</th>\n",
       "    </tr>\n",
       "  </thead>\n",
       "  <tbody>\n",
       "    <tr>\n",
       "      <th>0</th>\n",
       "      <td>Daylight</td>\n",
       "      <td>Raining + high winds</td>\n",
       "      <td>Snow</td>\n",
       "      <td>0.500</td>\n",
       "      <td>Daylight; Raining + high winds; Snow</td>\n",
       "    </tr>\n",
       "    <tr>\n",
       "      <th>1</th>\n",
       "      <td>Darkness - lights lit</td>\n",
       "      <td>Snowing + high winds</td>\n",
       "      <td>Dry</td>\n",
       "      <td>0.500</td>\n",
       "      <td>Darkness - lights lit; Snowing + high winds; Dry</td>\n",
       "    </tr>\n",
       "    <tr>\n",
       "      <th>2</th>\n",
       "      <td>Darkness - no lighting</td>\n",
       "      <td>Fog or mist</td>\n",
       "      <td>Snow</td>\n",
       "      <td>0.400</td>\n",
       "      <td>Darkness - no lighting; Fog or mist; Snow</td>\n",
       "    </tr>\n",
       "    <tr>\n",
       "      <th>3</th>\n",
       "      <td>Daylight</td>\n",
       "      <td>Fine + high winds</td>\n",
       "      <td>Flood over 3cm. deep</td>\n",
       "      <td>0.400</td>\n",
       "      <td>Daylight; Fine + high winds; Flood over 3cm. deep</td>\n",
       "    </tr>\n",
       "    <tr>\n",
       "      <th>4</th>\n",
       "      <td>Darkness - lights lit</td>\n",
       "      <td>Fine + high winds</td>\n",
       "      <td>Snow</td>\n",
       "      <td>0.375</td>\n",
       "      <td>Darkness - lights lit; Fine + high winds; Snow</td>\n",
       "    </tr>\n",
       "  </tbody>\n",
       "</table>\n",
       "</div>"
      ],
      "text/plain": [
       "         Light_Conditions    Weather_Conditions Road_Surface_Conditions  \\\n",
       "0                Daylight  Raining + high winds                    Snow   \n",
       "1   Darkness - lights lit  Snowing + high winds                     Dry   \n",
       "2  Darkness - no lighting           Fog or mist                    Snow   \n",
       "3                Daylight     Fine + high winds    Flood over 3cm. deep   \n",
       "4   Darkness - lights lit     Fine + high winds                    Snow   \n",
       "\n",
       "     KSI                                              label  \n",
       "0  0.500               Daylight; Raining + high winds; Snow  \n",
       "1  0.500   Darkness - lights lit; Snowing + high winds; Dry  \n",
       "2  0.400          Darkness - no lighting; Fog or mist; Snow  \n",
       "3  0.400  Daylight; Fine + high winds; Flood over 3cm. deep  \n",
       "4  0.375     Darkness - lights lit; Fine + high winds; Snow  "
      ]
     },
     "execution_count": 156,
     "metadata": {},
     "output_type": "execute_result"
    }
   ],
   "source": [
    "# Calculate Killed and severly injured casulty proportions\n",
    "df_ksi_counts = df_casualties_conditions.value_counts(subset=condition_cols+['Casualty_Severity']).unstack()\n",
    "df_ksi_props = df_ksi_counts[['Fatal', 'Serious']].sum(1) / df_ksi_counts.sum(axis=1)\n",
    "\n",
    "df_ksi_props = df_ksi_props.to_frame().reset_index()\n",
    "df_ksi_props.rename(columns={0:'KSI'}, inplace=True)\n",
    "df_ksi_props = df_ksi_props.sort_values(by='KSI', ascending=False).reset_index(drop=True)\n",
    "df_ksi_props['label'] = df_ksi_props[condition_cols].astype('str').agg('; '.join, axis=1)\n",
    "\n",
    "df_ksi_props.head()"
   ]
  },
  {
   "cell_type": "code",
   "execution_count": 157,
   "metadata": {},
   "outputs": [
    {
     "data": {
      "text/plain": [
       "<matplotlib.lines.Line2D at 0x7fe051b0b8b0>"
      ]
     },
     "execution_count": 157,
     "metadata": {},
     "output_type": "execute_result"
    },
    {
     "data": {
      "image/png": "[encoded data removed]",
      "text/plain": [
       "<Figure size 432x288 with 1 Axes>"
      ]
     },
     "metadata": {},
     "output_type": "display_data"
    }
   ],
   "source": [
    "std = df_ksi_props.loc[df_ksi_props['KSI']>0, 'KSI'].describe()['std']\n",
    "mean =df_ksi_props.loc[df_ksi_props['KSI']>0, 'KSI'].describe()['mean']\n",
    "\n",
    "upper_threshold = mean+std\n",
    "lower_threshold = mean-std\n",
    "\n",
    "# split it up\n",
    "x = df_ksi_props.index\n",
    "above_threshold = np.maximum(df_ksi_props['KSI'] - upper_threshold, 0)\n",
    "inbetween_threshold = np.minimum(np.maximum(df_ksi_props['KSI']-lower_threshold, 0), upper_threshold)\n",
    "below_threshold = np.minimum(df_ksi_props['KSI'], lower_threshold)\n",
    "\n",
    "# plot it\n",
    "fig, ax = plt.subplots()\n",
    "# ax.bar(height=df_ksi_props['KSI'], x=df_ksi_props.index, linewidth=0, width=1.0)\n",
    "\n",
    "ax.bar(x, below_threshold, linewidth=0, width=1.0, color=\"g\")\n",
    "ax.bar(x, inbetween_threshold, linewidth=0, width=1.0, color=\"y\", bottom=below_threshold)\n",
    "ax.bar(x, above_threshold, linewidth=0, width=1.0, color=\"r\", bottom=inbetween_threshold)\n",
    "\n",
    "\n",
    "# Add a vertical line\n",
    "ax.axhline(upper_threshold, ls='-.', color='k')\n",
    "ax.axhline(mean, ls='--', color='k')\n",
    "ax.axhline(lower_threshold, ls='-.', color='k')\n",
    "\n",
    "# add the mean as a horisontal line and std as dotted."
   ]
  },
  {
   "cell_type": "code",
   "execution_count": 158,
   "metadata": {},
   "outputs": [],
   "source": [
    "df_ksi_props.loc[df_ksi_props['KSI']>=upper_threshold, 'KSI cat'] = 'High KSI'\n",
    "df_ksi_props.loc[(df_ksi_props['KSI']<upper_threshold) & (df_ksi_props['KSI']>=lower_threshold), 'KSI cat'] = 'Medium KSI'\n",
    "df_ksi_props.loc[df_ksi_props['KSI']<lower_threshold, 'KSI cat'] = 'Low KSI'"
   ]
  },
  {
   "cell_type": "code",
   "execution_count": 159,
   "metadata": {},
   "outputs": [],
   "source": [
    "df_ksi_props['KSI cat'] = df_ksi_props['KSI cat'].astype('category')\n",
    "df_ksi_props['KSI cat code'] = df_ksi_props['KSI cat'].cat.codes"
   ]
  },
  {
   "cell_type": "code",
   "execution_count": 160,
   "metadata": {},
   "outputs": [
    {
     "data": {
      "application/vnd.plotly.v1+json": {
       "config": {
        "plotlyServerURL": "https://plotly.com"
       },
       "data": [
        {
         "dimensions": [
          {
           "label": "Light",
           "values": [
            "Daylight",
            "Darkness - lights lit",
            "Darkness - no lighting",
            "Daylight",
            "Darkness - lights lit",
            "Darkness - lights lit",
            "Darkness - lighting unknown",
            "Darkness - no lighting",
            "Daylight",
            "Darkness - lights lit",
            "Darkness - lights unlit",
            "Darkness - no lighting",
            "Darkness - no lighting",
            "Darkness - no lighting",
            "Darkness - no lighting",
            "Darkness - lights unlit",
            "Darkness - lights lit",
            "Darkness - lights lit",
            "Darkness - lights lit",
            "Darkness - no lighting",
            "Darkness - lights unlit",
            "Darkness - no lighting",
            "Darkness - no lighting",
            "Darkness - lights lit",
            "Darkness - no lighting",
            "Daylight",
            "Darkness - no lighting",
            "Darkness - lighting unknown",
            "Darkness - lighting unknown",
            "Darkness - no lighting",
            "Darkness - no lighting",
            "Darkness - no lighting",
            "Darkness - lights unlit",
            "Darkness - lights unlit",
            "Darkness - lights unlit",
            "Darkness - no lighting",
            "Darkness - lighting unknown",
            "Darkness - no lighting",
            "Daylight",
            "Darkness - lights unlit",
            "Darkness - lights unlit",
            "Darkness - no lighting",
            "Darkness - no lighting",
            "Daylight",
            "Darkness - lights lit",
            "Darkness - lights lit",
            "Darkness - no lighting",
            "Darkness - lights lit",
            "Darkness - lights unlit",
            "Daylight",
            "Daylight",
            "Daylight",
            "Darkness - lights lit",
            "Darkness - lights lit",
            "Darkness - no lighting",
            "Daylight",
            "Darkness - lights lit",
            "Darkness - lights lit",
            "Darkness - lights unlit",
            "Darkness - lighting unknown",
            "Darkness - no lighting",
            "Darkness - lights lit",
            "Darkness - lights lit",
            "Daylight",
            "Daylight",
            "Darkness - lights unlit",
            "Daylight",
            "Daylight",
            "Daylight",
            "Daylight",
            "Darkness - no lighting",
            "Darkness - lighting unknown",
            "Daylight",
            "Daylight",
            "Darkness - lights unlit",
            "Darkness - lighting unknown",
            "Darkness - lights lit",
            "Darkness - lights lit",
            "Darkness - lights lit",
            "Darkness - lights lit",
            "Darkness - lighting unknown",
            "Daylight",
            "Darkness - lights lit",
            "Daylight",
            "Darkness - no lighting",
            "Darkness - lighting unknown",
            "Darkness - lighting unknown",
            "Darkness - lighting unknown",
            "Darkness - lighting unknown",
            "Darkness - lights lit",
            "Daylight",
            "Darkness - lighting unknown",
            "Daylight",
            "Daylight",
            "Darkness - no lighting",
            "Darkness - lighting unknown",
            "Daylight",
            "Daylight",
            "Darkness - no lighting",
            "Darkness - lighting unknown",
            "Daylight",
            "Darkness - lights unlit",
            "Darkness - lights lit",
            "Darkness - lights lit",
            "Daylight",
            "Darkness - lighting unknown",
            "Daylight",
            "Darkness - no lighting",
            "Daylight",
            "Darkness - lights lit",
            "Darkness - lights lit",
            "Daylight",
            "Darkness - lighting unknown",
            "Darkness - no lighting",
            "Darkness - lights lit",
            "Daylight",
            "Darkness - lights lit",
            "Darkness - no lighting",
            "Darkness - lights lit",
            "Darkness - lighting unknown",
            "Darkness - lighting unknown",
            "Darkness - lighting unknown",
            "Darkness - lighting unknown",
            "Darkness - lighting unknown",
            "Darkness - lighting unknown",
            "Darkness - lighting unknown",
            "Darkness - lighting unknown",
            "Darkness - lighting unknown",
            "Darkness - lighting unknown",
            "Darkness - lights unlit",
            "Darkness - no lighting",
            "Darkness - lights unlit",
            "Daylight",
            "Daylight",
            "Daylight",
            "Darkness - lights lit",
            "Darkness - lights lit",
            "Darkness - lights lit",
            "Darkness - lights lit",
            "Darkness - lights unlit",
            "Darkness - lights unlit",
            "Darkness - lights unlit",
            "Darkness - no lighting",
            "Darkness - lights unlit",
            "Darkness - lights unlit",
            "Darkness - lights unlit",
            "Darkness - lights unlit",
            "Darkness - lights unlit",
            "Darkness - no lighting",
            "Darkness - no lighting",
            "Darkness - no lighting",
            "Darkness - no lighting",
            "Darkness - lighting unknown"
           ]
          },
          {
           "label": "Weather",
           "values": [
            "Raining + high winds",
            "Snowing + high winds",
            "Fog or mist",
            "Fine + high winds",
            "Fine + high winds",
            "Raining + high winds",
            "Raining + high winds",
            "Raining + high winds",
            "Fog or mist",
            "Raining + high winds",
            "Snowing no high winds",
            "Fog or mist",
            "Fine + high winds",
            "Raining + high winds",
            "Fine no high winds",
            "Snowing no high winds",
            "Snowing no high winds",
            "Snowing + high winds",
            "Fog or mist",
            "Fine no high winds",
            "Fine + high winds",
            "Raining + high winds",
            "Fine + high winds",
            "Raining + high winds",
            "Fog or mist",
            "Raining + high winds",
            "Raining no high winds",
            "Fog or mist",
            "Fine no high winds",
            "Raining no high winds",
            "Fine no high winds",
            "Snowing no high winds",
            "Fine no high winds",
            "Snowing no high winds",
            "Fog or mist",
            "Fine + high winds",
            "Fine + high winds",
            "Raining no high winds",
            "Fog or mist",
            "Fine no high winds",
            "Raining no high winds",
            "Snowing no high winds",
            "Raining no high winds",
            "Fine no high winds",
            "Fine + high winds",
            "Fog or mist",
            "Fine no high winds",
            "Fine no high winds",
            "Fine no high winds",
            "Snowing + high winds",
            "Raining no high winds",
            "Fine + high winds",
            "Raining + high winds",
            "Snowing + high winds",
            "Fine + high winds",
            "Raining + high winds",
            "Fine no high winds",
            "Fine + high winds",
            "Raining + high winds",
            "Fine no high winds",
            "Snowing + high winds",
            "Fine no high winds",
            "Raining no high winds",
            "Fog or mist",
            "Fine no high winds",
            "Fine + high winds",
            "Fine no high winds",
            "Fine + high winds",
            "Raining no high winds",
            "Raining + high winds",
            "Fine no high winds",
            "Fine no high winds",
            "Snowing no high winds",
            "Fine + high winds",
            "Raining no high winds",
            "Fine + high winds",
            "Snowing no high winds",
            "Raining no high winds",
            "Snowing no high winds",
            "Fine + high winds",
            "Raining + high winds",
            "Raining no high winds",
            "Fog or mist",
            "Fine no high winds",
            "Fine + high winds",
            "Fine no high winds",
            "Snowing no high winds",
            "Raining no high winds",
            "Snowing no high winds",
            "Raining no high winds",
            "Fog or mist",
            "Raining no high winds",
            "Raining no high winds",
            "Snowing + high winds",
            "Snowing + high winds",
            "Fog or mist",
            "Raining no high winds",
            "Snowing no high winds",
            "Raining + high winds",
            "Raining + high winds",
            "Fine + high winds",
            "Snowing + high winds",
            "Raining no high winds",
            "Raining no high winds",
            "Fine no high winds",
            "Snowing no high winds",
            "Snowing no high winds",
            "Fog or mist",
            "Snowing + high winds",
            "Fine no high winds",
            "Snowing no high winds",
            "Raining + high winds",
            "Raining no high winds",
            "Snowing no high winds",
            "Fine no high winds",
            "Snowing no high winds",
            "Snowing + high winds",
            "Snowing + high winds",
            "Raining + high winds",
            "Snowing + high winds",
            "Snowing + high winds",
            "Fine no high winds",
            "Raining + high winds",
            "Snowing + high winds",
            "Snowing + high winds",
            "Fine + high winds",
            "Raining no high winds",
            "Snowing no high winds",
            "Fine + high winds",
            "Raining no high winds",
            "Fog or mist",
            "Raining no high winds",
            "Snowing + high winds",
            "Snowing + high winds",
            "Fog or mist",
            "Snowing no high winds",
            "Fine + high winds",
            "Fog or mist",
            "Fog or mist",
            "Fine no high winds",
            "Fine no high winds",
            "Raining no high winds",
            "Snowing + high winds",
            "Raining + high winds",
            "Snowing + high winds",
            "Snowing + high winds",
            "Fog or mist",
            "Fog or mist",
            "Raining no high winds",
            "Snowing no high winds",
            "Snowing no high winds",
            "Snowing + high winds",
            "Fog or mist"
           ]
          },
          {
           "label": "Surface",
           "values": [
            "Snow",
            "Dry",
            "Snow",
            "Flood over 3cm. deep",
            "Snow",
            "Snow",
            "Dry",
            "Snow",
            "Snow",
            "Flood over 3cm. deep",
            "Snow",
            "Dry",
            "Dry",
            "Flood over 3cm. deep",
            "Dry",
            "Wet or damp",
            "Dry",
            "Frost or ice",
            "Dry",
            "Wet or damp",
            "Wet or damp",
            "Wet or damp",
            "Wet or damp",
            "Frost or ice",
            "Wet or damp",
            "Frost or ice",
            "Flood over 3cm. deep",
            "Dry",
            "Frost or ice",
            "Wet or damp",
            "Frost or ice",
            "Snow",
            "Wet or damp",
            "Frost or ice",
            "Wet or damp",
            "Flood over 3cm. deep",
            "Dry",
            "Dry",
            "Dry",
            "Dry",
            "Wet or damp",
            "Wet or damp",
            "Frost or ice",
            "Flood over 3cm. deep",
            "Dry",
            "Wet or damp",
            "Snow",
            "Wet or damp",
            "Frost or ice",
            "Wet or damp",
            "Frost or ice",
            "Dry",
            "Wet or damp",
            "Wet or damp",
            "Frost or ice",
            "Dry",
            "Frost or ice",
            "Wet or damp",
            "Wet or damp",
            "Wet or damp",
            "Snow",
            "Dry",
            "Wet or damp",
            "Wet or damp",
            "Wet or damp",
            "Dry",
            "Dry",
            "Frost or ice",
            "Flood over 3cm. deep",
            "Wet or damp",
            "Flood over 3cm. deep",
            "Dry",
            "Wet or damp",
            "Wet or damp",
            "Flood over 3cm. deep",
            "Wet or damp",
            "Wet or damp",
            "Dry",
            "Frost or ice",
            "Frost or ice",
            "Wet or damp",
            "Wet or damp",
            "Frost or ice",
            "Frost or ice",
            "Snow",
            "Snow",
            "Wet or damp",
            "Wet or damp",
            "Snow",
            "Snow",
            "Frost or ice",
            "Dry",
            "Dry",
            "Snow",
            "Frost or ice",
            "Wet or damp",
            "Snow",
            "Frost or ice",
            "Frost or ice",
            "Flood over 3cm. deep",
            "Snow",
            "Snow",
            "Frost or ice",
            "Flood over 3cm. deep",
            "Snow",
            "Frost or ice",
            "Snow",
            "Frost or ice",
            "Frost or ice",
            "Flood over 3cm. deep",
            "Snow",
            "Flood over 3cm. deep",
            "Flood over 3cm. deep",
            "Frost or ice",
            "Snow",
            "Dry",
            "Snow",
            "Wet or damp",
            "Dry",
            "Snow",
            "Dry",
            "Flood over 3cm. deep",
            "Frost or ice",
            "Wet or damp",
            "Frost or ice",
            "Frost or ice",
            "Frost or ice",
            "Dry",
            "Snow",
            "Frost or ice",
            "Flood over 3cm. deep",
            "Dry",
            "Dry",
            "Flood over 3cm. deep",
            "Flood over 3cm. deep",
            "Flood over 3cm. deep",
            "Flood over 3cm. deep",
            "Snow",
            "Flood over 3cm. deep",
            "Snow",
            "Flood over 3cm. deep",
            "Snow",
            "Flood over 3cm. deep",
            "Flood over 3cm. deep",
            "Wet or damp",
            "Frost or ice",
            "Dry",
            "Frost or ice",
            "Snow",
            "Dry",
            "Flood over 3cm. deep",
            "Dry",
            "Frost or ice"
           ]
          },
          {
           "label": "KSI cat",
           "values": [
            "High KSI",
            "High KSI",
            "High KSI",
            "High KSI",
            "High KSI",
            "High KSI",
            "High KSI",
            "High KSI",
            "High KSI",
            "High KSI",
            "High KSI",
            "High KSI",
            "High KSI",
            "Medium KSI",
            "Medium KSI",
            "Medium KSI",
            "Medium KSI",
            "Medium KSI",
            "Medium KSI",
            "Medium KSI",
            "Medium KSI",
            "Medium KSI",
            "Medium KSI",
            "Medium KSI",
            "Medium KSI",
            "Medium KSI",
            "Medium KSI",
            "Medium KSI",
            "Medium KSI",
            "Medium KSI",
            "Medium KSI",
            "Medium KSI",
            "Medium KSI",
            "Medium KSI",
            "Medium KSI",
            "Medium KSI",
            "Medium KSI",
            "Medium KSI",
            "Medium KSI",
            "Medium KSI",
            "Medium KSI",
            "Medium KSI",
            "Medium KSI",
            "Medium KSI",
            "Medium KSI",
            "Medium KSI",
            "Medium KSI",
            "Medium KSI",
            "Medium KSI",
            "Medium KSI",
            "Medium KSI",
            "Medium KSI",
            "Medium KSI",
            "Medium KSI",
            "Medium KSI",
            "Medium KSI",
            "Medium KSI",
            "Medium KSI",
            "Medium KSI",
            "Medium KSI",
            "Medium KSI",
            "Medium KSI",
            "Medium KSI",
            "Medium KSI",
            "Medium KSI",
            "Medium KSI",
            "Medium KSI",
            "Medium KSI",
            "Medium KSI",
            "Medium KSI",
            "Medium KSI",
            "Medium KSI",
            "Medium KSI",
            "Medium KSI",
            "Medium KSI",
            "Medium KSI",
            "Medium KSI",
            "Medium KSI",
            "Medium KSI",
            "Medium KSI",
            "Medium KSI",
            "Medium KSI",
            "Medium KSI",
            "Medium KSI",
            "Medium KSI",
            "Medium KSI",
            "Medium KSI",
            "Medium KSI",
            "Medium KSI",
            "Medium KSI",
            "Medium KSI",
            "Medium KSI",
            "Medium KSI",
            "Medium KSI",
            "Medium KSI",
            "Medium KSI",
            "Medium KSI",
            "Medium KSI",
            "Medium KSI",
            "Medium KSI",
            "Medium KSI",
            "Medium KSI",
            "Medium KSI",
            "Medium KSI",
            "Medium KSI",
            "Medium KSI",
            "Medium KSI",
            "Medium KSI",
            "Medium KSI",
            "Medium KSI",
            "Medium KSI",
            "Low KSI",
            "Low KSI",
            "Low KSI",
            "Low KSI",
            "Low KSI",
            "Low KSI",
            "Low KSI",
            "Low KSI",
            "Low KSI",
            "Low KSI",
            "Low KSI",
            "Low KSI",
            "Low KSI",
            "Low KSI",
            "Low KSI",
            "Low KSI",
            "Low KSI",
            "Low KSI",
            "Low KSI",
            "Low KSI",
            "Low KSI",
            "Low KSI",
            "Low KSI",
            "Low KSI",
            "Low KSI",
            "Low KSI",
            "Low KSI",
            "Low KSI",
            "Low KSI",
            "Low KSI",
            "Low KSI",
            "Low KSI",
            "Low KSI",
            "Low KSI",
            "Low KSI",
            "Low KSI",
            "Low KSI",
            "Low KSI",
            "Low KSI",
            "Low KSI",
            "Low KSI",
            "Low KSI"
           ]
          }
         ],
         "domain": {
          "x": [
           0,
           1
          ],
          "y": [
           0,
           1
          ]
         },
         "line": {
          "color": [
           0,
           0,
           0,
           0,
           0,
           0,
           0,
           0,
           0,
           0,
           0,
           0,
           0,
           2,
           2,
           2,
           2,
           2,
           2,
           2,
           2,
           2,
           2,
           2,
           2,
           2,
           2,
           2,
           2,
           2,
           2,
           2,
           2,
           2,
           2,
           2,
           2,
           2,
           2,
           2,
           2,
           2,
           2,
           2,
           2,
           2,
           2,
           2,
           2,
           2,
           2,
           2,
           2,
           2,
           2,
           2,
           2,
           2,
           2,
           2,
           2,
           2,
           2,
           2,
           2,
           2,
           2,
           2,
           2,
           2,
           2,
           2,
           2,
           2,
           2,
           2,
           2,
           2,
           2,
           2,
           2,
           2,
           2,
           2,
           2,
           2,
           2,
           2,
           2,
           2,
           2,
           2,
           2,
           2,
           2,
           2,
           2,
           2,
           2,
           2,
           2,
           2,
           2,
           2,
           2,
           2,
           2,
           2,
           2,
           2,
           2,
           1,
           1,
           1,
           1,
           1,
           1,
           1,
           1,
           1,
           1,
           1,
           1,
           1,
           1,
           1,
           1,
           1,
           1,
           1,
           1,
           1,
           1,
           1,
           1,
           1,
           1,
           1,
           1,
           1,
           1,
           1,
           1,
           1,
           1,
           1,
           1,
           1,
           1,
           1,
           1,
           1,
           1
          ],
          "coloraxis": "coloraxis"
         },
         "name": "",
         "type": "parcats"
        }
       ],
       "layout": {
        "coloraxis": {
         "colorbar": {
          "title": {
           "text": "KSI cat code"
          }
         },
         "colorscale": [
          [
           0,
           "#0d0887"
          ],
          [
           0.1111111111111111,
           "#46039f"
          ],
          [
           0.2222222222222222,
           "#7201a8"
          ],
          [
           0.3333333333333333,
           "#9c179e"
          ],
          [
           0.4444444444444444,
           "#bd3786"
          ],
          [
           0.5555555555555556,
           "#d8576b"
          ],
          [
           0.6666666666666666,
           "#ed7953"
          ],
          [
           0.7777777777777778,
           "#fb9f3a"
          ],
          [
           0.8888888888888888,
           "#fdca26"
          ],
          [
           1,
           "#f0f921"
          ]
         ]
        },
        "legend": {
         "tracegroupgap": 0
        },
        "margin": {
         "t": 60
        },
        "template": {
         "data": {
          "bar": [
           {
            "error_x": {
             "color": "#2a3f5f"
            },
            "error_y": {
             "color": "#2a3f5f"
            },
            "marker": {
             "line": {
              "color": "#E5ECF6",
              "width": 0.5
             }
            },
            "type": "bar"
           }
          ],
          "barpolar": [
           {
            "marker": {
             "line": {
              "color": "#E5ECF6",
              "width": 0.5
             }
            },
            "type": "barpolar"
           }
          ],
          "carpet": [
           {
            "aaxis": {
             "endlinecolor": "#2a3f5f",
             "gridcolor": "white",
             "linecolor": "white",
             "minorgridcolor": "white",
             "startlinecolor": "#2a3f5f"
            },
            "baxis": {
             "endlinecolor": "#2a3f5f",
             "gridcolor": "white",
             "linecolor": "white",
             "minorgridcolor": "white",
             "startlinecolor": "#2a3f5f"
            },
            "type": "carpet"
           }
          ],
          "choropleth": [
           {
            "colorbar": {
             "outlinewidth": 0,
             "ticks": ""
            },
            "type": "choropleth"
           }
          ],
          "contour": [
           {
            "colorbar": {
             "outlinewidth": 0,
             "ticks": ""
            },
            "colorscale": [
             [
              0,
              "#0d0887"
             ],
             [
              0.1111111111111111,
              "#46039f"
             ],
             [
              0.2222222222222222,
              "#7201a8"
             ],
             [
              0.3333333333333333,
              "#9c179e"
             ],
             [
              0.4444444444444444,
              "#bd3786"
             ],
             [
              0.5555555555555556,
              "#d8576b"
             ],
             [
              0.6666666666666666,
              "#ed7953"
             ],
             [
              0.7777777777777778,
              "#fb9f3a"
             ],
             [
              0.8888888888888888,
              "#fdca26"
             ],
             [
              1,
              "#f0f921"
             ]
            ],
            "type": "contour"
           }
          ],
          "contourcarpet": [
           {
            "colorbar": {
             "outlinewidth": 0,
             "ticks": ""
            },
            "type": "contourcarpet"
           }
          ],
          "heatmap": [
           {
            "colorbar": {
             "outlinewidth": 0,
             "ticks": ""
            },
            "colorscale": [
             [
              0,
              "#0d0887"
             ],
             [
              0.1111111111111111,
              "#46039f"
             ],
             [
              0.2222222222222222,
              "#7201a8"
             ],
             [
              0.3333333333333333,
              "#9c179e"
             ],
             [
              0.4444444444444444,
              "#bd3786"
             ],
             [
              0.5555555555555556,
              "#d8576b"
             ],
             [
              0.6666666666666666,
              "#ed7953"
             ],
             [
              0.7777777777777778,
              "#fb9f3a"
             ],
             [
              0.8888888888888888,
              "#fdca26"
             ],
             [
              1,
              "#f0f921"
             ]
            ],
            "type": "heatmap"
           }
          ],
          "heatmapgl": [
           {
            "colorbar": {
             "outlinewidth": 0,
             "ticks": ""
            },
            "colorscale": [
             [
              0,
              "#0d0887"
             ],
             [
              0.1111111111111111,
              "#46039f"
             ],
             [
              0.2222222222222222,
              "#7201a8"
             ],
             [
              0.3333333333333333,
              "#9c179e"
             ],
             [
              0.4444444444444444,
              "#bd3786"
             ],
             [
              0.5555555555555556,
              "#d8576b"
             ],
             [
              0.6666666666666666,
              "#ed7953"
             ],
             [
              0.7777777777777778,
              "#fb9f3a"
             ],
             [
              0.8888888888888888,
              "#fdca26"
             ],
             [
              1,
              "#f0f921"
             ]
            ],
            "type": "heatmapgl"
           }
          ],
          "histogram": [
           {
            "marker": {
             "colorbar": {
              "outlinewidth": 0,
              "ticks": ""
             }
            },
            "type": "histogram"
           }
          ],
          "histogram2d": [
           {
            "colorbar": {
             "outlinewidth": 0,
             "ticks": ""
            },
            "colorscale": [
             [
              0,
              "#0d0887"
             ],
             [
              0.1111111111111111,
              "#46039f"
             ],
             [
              0.2222222222222222,
              "#7201a8"
             ],
             [
              0.3333333333333333,
              "#9c179e"
             ],
             [
              0.4444444444444444,
              "#bd3786"
             ],
             [
              0.5555555555555556,
              "#d8576b"
             ],
             [
              0.6666666666666666,
              "#ed7953"
             ],
             [
              0.7777777777777778,
              "#fb9f3a"
             ],
             [
              0.8888888888888888,
              "#fdca26"
             ],
             [
              1,
              "#f0f921"
             ]
            ],
            "type": "histogram2d"
           }
          ],
          "histogram2dcontour": [
           {
            "colorbar": {
             "outlinewidth": 0,
             "ticks": ""
            },
            "colorscale": [
             [
              0,
              "#0d0887"
             ],
             [
              0.1111111111111111,
              "#46039f"
             ],
             [
              0.2222222222222222,
              "#7201a8"
             ],
             [
              0.3333333333333333,
              "#9c179e"
             ],
             [
              0.4444444444444444,
              "#bd3786"
             ],
             [
              0.5555555555555556,
              "#d8576b"
             ],
             [
              0.6666666666666666,
              "#ed7953"
             ],
             [
              0.7777777777777778,
              "#fb9f3a"
             ],
             [
              0.8888888888888888,
              "#fdca26"
             ],
             [
              1,
              "#f0f921"
             ]
            ],
            "type": "histogram2dcontour"
           }
          ],
          "mesh3d": [
           {
            "colorbar": {
             "outlinewidth": 0,
             "ticks": ""
            },
            "type": "mesh3d"
           }
          ],
          "parcoords": [
           {
            "line": {
             "colorbar": {
              "outlinewidth": 0,
              "ticks": ""
             }
            },
            "type": "parcoords"
           }
          ],
          "pie": [
           {
            "automargin": true,
            "type": "pie"
           }
          ],
          "scatter": [
           {
            "marker": {
             "colorbar": {
              "outlinewidth": 0,
              "ticks": ""
             }
            },
            "type": "scatter"
           }
          ],
          "scatter3d": [
           {
            "line": {
             "colorbar": {
              "outlinewidth": 0,
              "ticks": ""
             }
            },
            "marker": {
             "colorbar": {
              "outlinewidth": 0,
              "ticks": ""
             }
            },
            "type": "scatter3d"
           }
          ],
          "scattercarpet": [
           {
            "marker": {
             "colorbar": {
              "outlinewidth": 0,
              "ticks": ""
             }
            },
            "type": "scattercarpet"
           }
          ],
          "scattergeo": [
           {
            "marker": {
             "colorbar": {
              "outlinewidth": 0,
              "ticks": ""
             }
            },
            "type": "scattergeo"
           }
          ],
          "scattergl": [
           {
            "marker": {
             "colorbar": {
              "outlinewidth": 0,
              "ticks": ""
             }
            },
            "type": "scattergl"
           }
          ],
          "scattermapbox": [
           {
            "marker": {
             "colorbar": {
              "outlinewidth": 0,
              "ticks": ""
             }
            },
            "type": "scattermapbox"
           }
          ],
          "scatterpolar": [
           {
            "marker": {
             "colorbar": {
              "outlinewidth": 0,
              "ticks": ""
             }
            },
            "type": "scatterpolar"
           }
          ],
          "scatterpolargl": [
           {
            "marker": {
             "colorbar": {
              "outlinewidth": 0,
              "ticks": ""
             }
            },
            "type": "scatterpolargl"
           }
          ],
          "scatterternary": [
           {
            "marker": {
             "colorbar": {
              "outlinewidth": 0,
              "ticks": ""
             }
            },
            "type": "scatterternary"
           }
          ],
          "surface": [
           {
            "colorbar": {
             "outlinewidth": 0,
             "ticks": ""
            },
            "colorscale": [
             [
              0,
              "#0d0887"
             ],
             [
              0.1111111111111111,
              "#46039f"
             ],
             [
              0.2222222222222222,
              "#7201a8"
             ],
             [
              0.3333333333333333,
              "#9c179e"
             ],
             [
              0.4444444444444444,
              "#bd3786"
             ],
             [
              0.5555555555555556,
              "#d8576b"
             ],
             [
              0.6666666666666666,
              "#ed7953"
             ],
             [
              0.7777777777777778,
              "#fb9f3a"
             ],
             [
              0.8888888888888888,
              "#fdca26"
             ],
             [
              1,
              "#f0f921"
             ]
            ],
            "type": "surface"
           }
          ],
          "table": [
           {
            "cells": {
             "fill": {
              "color": "#EBF0F8"
             },
             "line": {
              "color": "white"
             }
            },
            "header": {
             "fill": {
              "color": "#C8D4E3"
             },
             "line": {
              "color": "white"
             }
            },
            "type": "table"
           }
          ]
         },
         "layout": {
          "annotationdefaults": {
           "arrowcolor": "#2a3f5f",
           "arrowhead": 0,
           "arrowwidth": 1
          },
          "autotypenumbers": "strict",
          "coloraxis": {
           "colorbar": {
            "outlinewidth": 0,
            "ticks": ""
           }
          },
          "colorscale": {
           "diverging": [
            [
             0,
             "#8e0152"
            ],
            [
             0.1,
             "#c51b7d"
            ],
            [
             0.2,
             "#de77ae"
            ],
            [
             0.3,
             "#f1b6da"
            ],
            [
             0.4,
             "#fde0ef"
            ],
            [
             0.5,
             "#f7f7f7"
            ],
            [
             0.6,
             "#e6f5d0"
            ],
            [
             0.7,
             "#b8e186"
            ],
            [
             0.8,
             "#7fbc41"
            ],
            [
             0.9,
             "#4d9221"
            ],
            [
             1,
             "#276419"
            ]
           ],
           "sequential": [
            [
             0,
             "#0d0887"
            ],
            [
             0.1111111111111111,
             "#46039f"
            ],
            [
             0.2222222222222222,
             "#7201a8"
            ],
            [
             0.3333333333333333,
             "#9c179e"
            ],
            [
             0.4444444444444444,
             "#bd3786"
            ],
            [
             0.5555555555555556,
             "#d8576b"
            ],
            [
             0.6666666666666666,
             "#ed7953"
            ],
            [
             0.7777777777777778,
             "#fb9f3a"
            ],
            [
             0.8888888888888888,
             "#fdca26"
            ],
            [
             1,
             "#f0f921"
            ]
           ],
           "sequentialminus": [
            [
             0,
             "#0d0887"
            ],
            [
             0.1111111111111111,
             "#46039f"
            ],
            [
             0.2222222222222222,
             "#7201a8"
            ],
            [
             0.3333333333333333,
             "#9c179e"
            ],
            [
             0.4444444444444444,
             "#bd3786"
            ],
            [
             0.5555555555555556,
             "#d8576b"
            ],
            [
             0.6666666666666666,
             "#ed7953"
            ],
            [
             0.7777777777777778,
             "#fb9f3a"
            ],
            [
             0.8888888888888888,
             "#fdca26"
            ],
            [
             1,
             "#f0f921"
            ]
           ]
          },
          "colorway": [
           "#636efa",
           "#EF553B",
           "#00cc96",
           "#ab63fa",
           "#FFA15A",
           "#19d3f3",
           "#FF6692",
           "#B6E880",
           "#FF97FF",
           "#FECB52"
          ],
          "font": {
           "color": "#2a3f5f"
          },
          "geo": {
           "bgcolor": "white",
           "lakecolor": "white",
           "landcolor": "#E5ECF6",
           "showlakes": true,
           "showland": true,
           "subunitcolor": "white"
          },
          "hoverlabel": {
           "align": "left"
          },
          "hovermode": "closest",
          "mapbox": {
           "style": "light"
          },
          "paper_bgcolor": "white",
          "plot_bgcolor": "#E5ECF6",
          "polar": {
           "angularaxis": {
            "gridcolor": "white",
            "linecolor": "white",
            "ticks": ""
           },
           "bgcolor": "#E5ECF6",
           "radialaxis": {
            "gridcolor": "white",
            "linecolor": "white",
            "ticks": ""
           }
          },
          "scene": {
           "xaxis": {
            "backgroundcolor": "#E5ECF6",
            "gridcolor": "white",
            "gridwidth": 2,
            "linecolor": "white",
            "showbackground": true,
            "ticks": "",
            "zerolinecolor": "white"
           },
           "yaxis": {
            "backgroundcolor": "#E5ECF6",
            "gridcolor": "white",
            "gridwidth": 2,
            "linecolor": "white",
            "showbackground": true,
            "ticks": "",
            "zerolinecolor": "white"
           },
           "zaxis": {
            "backgroundcolor": "#E5ECF6",
            "gridcolor": "white",
            "gridwidth": 2,
            "linecolor": "white",
            "showbackground": true,
            "ticks": "",
            "zerolinecolor": "white"
           }
          },
          "shapedefaults": {
           "line": {
            "color": "#2a3f5f"
           }
          },
          "ternary": {
           "aaxis": {
            "gridcolor": "white",
            "linecolor": "white",
            "ticks": ""
           },
           "baxis": {
            "gridcolor": "white",
            "linecolor": "white",
            "ticks": ""
           },
           "bgcolor": "#E5ECF6",
           "caxis": {
            "gridcolor": "white",
            "linecolor": "white",
            "ticks": ""
           }
          },
          "title": {
           "x": 0.05
          },
          "xaxis": {
           "automargin": true,
           "gridcolor": "white",
           "linecolor": "white",
           "ticks": "",
           "title": {
            "standoff": 15
           },
           "zerolinecolor": "white",
           "zerolinewidth": 2
          },
          "yaxis": {
           "automargin": true,
           "gridcolor": "white",
           "linecolor": "white",
           "ticks": "",
           "title": {
            "standoff": 15
           },
           "zerolinecolor": "white",
           "zerolinewidth": 2
          }
         }
        }
       }
      },
      "text/html": [
       "<div>                            <div id=\"cb519a05-13cc-4298-9ec1-73c9dc154aa5\" class=\"plotly-graph-div\" style=\"height:525px; width:100%;\"></div>            <script type=\"text/javascript\">                require([\"plotly\"], function(Plotly) {                    window.PLOTLYENV=window.PLOTLYENV || {};                                    if (document.getElementById(\"cb519a05-13cc-4298-9ec1-73c9dc154aa5\")) {                    Plotly.newPlot(                        \"cb519a05-13cc-4298-9ec1-73c9dc154aa5\",                        [{\"dimensions\": [{\"label\": \"Light\", \"values\": [\"Daylight\", \"Darkness - lights lit\", \"Darkness - no lighting\", \"Daylight\", \"Darkness - lights lit\", \"Darkness - lights lit\", \"Darkness - lighting unknown\", \"Darkness - no lighting\", \"Daylight\", \"Darkness - lights lit\", \"Darkness - lights unlit\", \"Darkness - no lighting\", \"Darkness - no lighting\", \"Darkness - no lighting\", \"Darkness - no lighting\", \"Darkness - lights unlit\", \"Darkness - lights lit\", \"Darkness - lights lit\", \"Darkness - lights lit\", \"Darkness - no lighting\", \"Darkness - lights unlit\", \"Darkness - no lighting\", \"Darkness - no lighting\", \"Darkness - lights lit\", \"Darkness - no lighting\", \"Daylight\", \"Darkness - no lighting\", \"Darkness - lighting unknown\", \"Darkness - lighting unknown\", \"Darkness - no lighting\", \"Darkness - no lighting\", \"Darkness - no lighting\", \"Darkness - lights unlit\", \"Darkness - lights unlit\", \"Darkness - lights unlit\", \"Darkness - no lighting\", \"Darkness - lighting unknown\", \"Darkness - no lighting\", \"Daylight\", \"Darkness - lights unlit\", \"Darkness - lights unlit\", \"Darkness - no lighting\", \"Darkness - no lighting\", \"Daylight\", \"Darkness - lights lit\", \"Darkness - lights lit\", \"Darkness - no lighting\", \"Darkness - lights lit\", \"Darkness - lights unlit\", \"Daylight\", \"Daylight\", \"Daylight\", \"Darkness - lights lit\", \"Darkness - lights lit\", \"Darkness - no lighting\", \"Daylight\", \"Darkness - lights lit\", \"Darkness - lights lit\", \"Darkness - lights unlit\", \"Darkness - lighting unknown\", \"Darkness - no lighting\", \"Darkness - lights lit\", \"Darkness - lights lit\", \"Daylight\", \"Daylight\", \"Darkness - lights unlit\", \"Daylight\", \"Daylight\", \"Daylight\", \"Daylight\", \"Darkness - no lighting\", \"Darkness - lighting unknown\", \"Daylight\", \"Daylight\", \"Darkness - lights unlit\", \"Darkness - lighting unknown\", \"Darkness - lights lit\", \"Darkness - lights lit\", \"Darkness - lights lit\", \"Darkness - lights lit\", \"Darkness - lighting unknown\", \"Daylight\", \"Darkness - lights lit\", \"Daylight\", \"Darkness - no lighting\", \"Darkness - lighting unknown\", \"Darkness - lighting unknown\", \"Darkness - lighting unknown\", \"Darkness - lighting unknown\", \"Darkness - lights lit\", \"Daylight\", \"Darkness - lighting unknown\", \"Daylight\", \"Daylight\", \"Darkness - no lighting\", \"Darkness - lighting unknown\", \"Daylight\", \"Daylight\", \"Darkness - no lighting\", \"Darkness - lighting unknown\", \"Daylight\", \"Darkness - lights unlit\", \"Darkness - lights lit\", \"Darkness - lights lit\", \"Daylight\", \"Darkness - lighting unknown\", \"Daylight\", \"Darkness - no lighting\", \"Daylight\", \"Darkness - lights lit\", \"Darkness - lights lit\", \"Daylight\", \"Darkness - lighting unknown\", \"Darkness - no lighting\", \"Darkness - lights lit\", \"Daylight\", \"Darkness - lights lit\", \"Darkness - no lighting\", \"Darkness - lights lit\", \"Darkness - lighting unknown\", \"Darkness - lighting unknown\", \"Darkness - lighting unknown\", \"Darkness - lighting unknown\", \"Darkness - lighting unknown\", \"Darkness - lighting unknown\", \"Darkness - lighting unknown\", \"Darkness - lighting unknown\", \"Darkness - lighting unknown\", \"Darkness - lighting unknown\", \"Darkness - lights unlit\", \"Darkness - no lighting\", \"Darkness - lights unlit\", \"Daylight\", \"Daylight\", \"Daylight\", \"Darkness - lights lit\", \"Darkness - lights lit\", \"Darkness - lights lit\", \"Darkness - lights lit\", \"Darkness - lights unlit\", \"Darkness - lights unlit\", \"Darkness - lights unlit\", \"Darkness - no lighting\", \"Darkness - lights unlit\", \"Darkness - lights unlit\", \"Darkness - lights unlit\", \"Darkness - lights unlit\", \"Darkness - lights unlit\", \"Darkness - no lighting\", \"Darkness - no lighting\", \"Darkness - no lighting\", \"Darkness - no lighting\", \"Darkness - lighting unknown\"]}, {\"label\": \"Weather\", \"values\": [\"Raining + high winds\", \"Snowing + high winds\", \"Fog or mist\", \"Fine + high winds\", \"Fine + high winds\", \"Raining + high winds\", \"Raining + high winds\", \"Raining + high winds\", \"Fog or mist\", \"Raining + high winds\", \"Snowing no high winds\", \"Fog or mist\", \"Fine + high winds\", \"Raining + high winds\", \"Fine no high winds\", \"Snowing no high winds\", \"Snowing no high winds\", \"Snowing + high winds\", \"Fog or mist\", \"Fine no high winds\", \"Fine + high winds\", \"Raining + high winds\", \"Fine + high winds\", \"Raining + high winds\", \"Fog or mist\", \"Raining + high winds\", \"Raining no high winds\", \"Fog or mist\", \"Fine no high winds\", \"Raining no high winds\", \"Fine no high winds\", \"Snowing no high winds\", \"Fine no high winds\", \"Snowing no high winds\", \"Fog or mist\", \"Fine + high winds\", \"Fine + high winds\", \"Raining no high winds\", \"Fog or mist\", \"Fine no high winds\", \"Raining no high winds\", \"Snowing no high winds\", \"Raining no high winds\", \"Fine no high winds\", \"Fine + high winds\", \"Fog or mist\", \"Fine no high winds\", \"Fine no high winds\", \"Fine no high winds\", \"Snowing + high winds\", \"Raining no high winds\", \"Fine + high winds\", \"Raining + high winds\", \"Snowing + high winds\", \"Fine + high winds\", \"Raining + high winds\", \"Fine no high winds\", \"Fine + high winds\", \"Raining + high winds\", \"Fine no high winds\", \"Snowing + high winds\", \"Fine no high winds\", \"Raining no high winds\", \"Fog or mist\", \"Fine no high winds\", \"Fine + high winds\", \"Fine no high winds\", \"Fine + high winds\", \"Raining no high winds\", \"Raining + high winds\", \"Fine no high winds\", \"Fine no high winds\", \"Snowing no high winds\", \"Fine + high winds\", \"Raining no high winds\", \"Fine + high winds\", \"Snowing no high winds\", \"Raining no high winds\", \"Snowing no high winds\", \"Fine + high winds\", \"Raining + high winds\", \"Raining no high winds\", \"Fog or mist\", \"Fine no high winds\", \"Fine + high winds\", \"Fine no high winds\", \"Snowing no high winds\", \"Raining no high winds\", \"Snowing no high winds\", \"Raining no high winds\", \"Fog or mist\", \"Raining no high winds\", \"Raining no high winds\", \"Snowing + high winds\", \"Snowing + high winds\", \"Fog or mist\", \"Raining no high winds\", \"Snowing no high winds\", \"Raining + high winds\", \"Raining + high winds\", \"Fine + high winds\", \"Snowing + high winds\", \"Raining no high winds\", \"Raining no high winds\", \"Fine no high winds\", \"Snowing no high winds\", \"Snowing no high winds\", \"Fog or mist\", \"Snowing + high winds\", \"Fine no high winds\", \"Snowing no high winds\", \"Raining + high winds\", \"Raining no high winds\", \"Snowing no high winds\", \"Fine no high winds\", \"Snowing no high winds\", \"Snowing + high winds\", \"Snowing + high winds\", \"Raining + high winds\", \"Snowing + high winds\", \"Snowing + high winds\", \"Fine no high winds\", \"Raining + high winds\", \"Snowing + high winds\", \"Snowing + high winds\", \"Fine + high winds\", \"Raining no high winds\", \"Snowing no high winds\", \"Fine + high winds\", \"Raining no high winds\", \"Fog or mist\", \"Raining no high winds\", \"Snowing + high winds\", \"Snowing + high winds\", \"Fog or mist\", \"Snowing no high winds\", \"Fine + high winds\", \"Fog or mist\", \"Fog or mist\", \"Fine no high winds\", \"Fine no high winds\", \"Raining no high winds\", \"Snowing + high winds\", \"Raining + high winds\", \"Snowing + high winds\", \"Snowing + high winds\", \"Fog or mist\", \"Fog or mist\", \"Raining no high winds\", \"Snowing no high winds\", \"Snowing no high winds\", \"Snowing + high winds\", \"Fog or mist\"]}, {\"label\": \"Surface\", \"values\": [\"Snow\", \"Dry\", \"Snow\", \"Flood over 3cm. deep\", \"Snow\", \"Snow\", \"Dry\", \"Snow\", \"Snow\", \"Flood over 3cm. deep\", \"Snow\", \"Dry\", \"Dry\", \"Flood over 3cm. deep\", \"Dry\", \"Wet or damp\", \"Dry\", \"Frost or ice\", \"Dry\", \"Wet or damp\", \"Wet or damp\", \"Wet or damp\", \"Wet or damp\", \"Frost or ice\", \"Wet or damp\", \"Frost or ice\", \"Flood over 3cm. deep\", \"Dry\", \"Frost or ice\", \"Wet or damp\", \"Frost or ice\", \"Snow\", \"Wet or damp\", \"Frost or ice\", \"Wet or damp\", \"Flood over 3cm. deep\", \"Dry\", \"Dry\", \"Dry\", \"Dry\", \"Wet or damp\", \"Wet or damp\", \"Frost or ice\", \"Flood over 3cm. deep\", \"Dry\", \"Wet or damp\", \"Snow\", \"Wet or damp\", \"Frost or ice\", \"Wet or damp\", \"Frost or ice\", \"Dry\", \"Wet or damp\", \"Wet or damp\", \"Frost or ice\", \"Dry\", \"Frost or ice\", \"Wet or damp\", \"Wet or damp\", \"Wet or damp\", \"Snow\", \"Dry\", \"Wet or damp\", \"Wet or damp\", \"Wet or damp\", \"Dry\", \"Dry\", \"Frost or ice\", \"Flood over 3cm. deep\", \"Wet or damp\", \"Flood over 3cm. deep\", \"Dry\", \"Wet or damp\", \"Wet or damp\", \"Flood over 3cm. deep\", \"Wet or damp\", \"Wet or damp\", \"Dry\", \"Frost or ice\", \"Frost or ice\", \"Wet or damp\", \"Wet or damp\", \"Frost or ice\", \"Frost or ice\", \"Snow\", \"Snow\", \"Wet or damp\", \"Wet or damp\", \"Snow\", \"Snow\", \"Frost or ice\", \"Dry\", \"Dry\", \"Snow\", \"Frost or ice\", \"Wet or damp\", \"Snow\", \"Frost or ice\", \"Frost or ice\", \"Flood over 3cm. deep\", \"Snow\", \"Snow\", \"Frost or ice\", \"Flood over 3cm. deep\", \"Snow\", \"Frost or ice\", \"Snow\", \"Frost or ice\", \"Frost or ice\", \"Flood over 3cm. deep\", \"Snow\", \"Flood over 3cm. deep\", \"Flood over 3cm. deep\", \"Frost or ice\", \"Snow\", \"Dry\", \"Snow\", \"Wet or damp\", \"Dry\", \"Snow\", \"Dry\", \"Flood over 3cm. deep\", \"Frost or ice\", \"Wet or damp\", \"Frost or ice\", \"Frost or ice\", \"Frost or ice\", \"Dry\", \"Snow\", \"Frost or ice\", \"Flood over 3cm. deep\", \"Dry\", \"Dry\", \"Flood over 3cm. deep\", \"Flood over 3cm. deep\", \"Flood over 3cm. deep\", \"Flood over 3cm. deep\", \"Snow\", \"Flood over 3cm. deep\", \"Snow\", \"Flood over 3cm. deep\", \"Snow\", \"Flood over 3cm. deep\", \"Flood over 3cm. deep\", \"Wet or damp\", \"Frost or ice\", \"Dry\", \"Frost or ice\", \"Snow\", \"Dry\", \"Flood over 3cm. deep\", \"Dry\", \"Frost or ice\"]}, {\"label\": \"KSI cat\", \"values\": [\"High KSI\", \"High KSI\", \"High KSI\", \"High KSI\", \"High KSI\", \"High KSI\", \"High KSI\", \"High KSI\", \"High KSI\", \"High KSI\", \"High KSI\", \"High KSI\", \"High KSI\", \"Medium KSI\", \"Medium KSI\", \"Medium KSI\", \"Medium KSI\", \"Medium KSI\", \"Medium KSI\", \"Medium KSI\", \"Medium KSI\", \"Medium KSI\", \"Medium KSI\", \"Medium KSI\", \"Medium KSI\", \"Medium KSI\", \"Medium KSI\", \"Medium KSI\", \"Medium KSI\", \"Medium KSI\", \"Medium KSI\", \"Medium KSI\", \"Medium KSI\", \"Medium KSI\", \"Medium KSI\", \"Medium KSI\", \"Medium KSI\", \"Medium KSI\", \"Medium KSI\", \"Medium KSI\", \"Medium KSI\", \"Medium KSI\", \"Medium KSI\", \"Medium KSI\", \"Medium KSI\", \"Medium KSI\", \"Medium KSI\", \"Medium KSI\", \"Medium KSI\", \"Medium KSI\", \"Medium KSI\", \"Medium KSI\", \"Medium KSI\", \"Medium KSI\", \"Medium KSI\", \"Medium KSI\", \"Medium KSI\", \"Medium KSI\", \"Medium KSI\", \"Medium KSI\", \"Medium KSI\", \"Medium KSI\", \"Medium KSI\", \"Medium KSI\", \"Medium KSI\", \"Medium KSI\", \"Medium KSI\", \"Medium KSI\", \"Medium KSI\", \"Medium KSI\", \"Medium KSI\", \"Medium KSI\", \"Medium KSI\", \"Medium KSI\", \"Medium KSI\", \"Medium KSI\", \"Medium KSI\", \"Medium KSI\", \"Medium KSI\", \"Medium KSI\", \"Medium KSI\", \"Medium KSI\", \"Medium KSI\", \"Medium KSI\", \"Medium KSI\", \"Medium KSI\", \"Medium KSI\", \"Medium KSI\", \"Medium KSI\", \"Medium KSI\", \"Medium KSI\", \"Medium KSI\", \"Medium KSI\", \"Medium KSI\", \"Medium KSI\", \"Medium KSI\", \"Medium KSI\", \"Medium KSI\", \"Medium KSI\", \"Medium KSI\", \"Medium KSI\", \"Medium KSI\", \"Medium KSI\", \"Medium KSI\", \"Medium KSI\", \"Medium KSI\", \"Medium KSI\", \"Medium KSI\", \"Medium KSI\", \"Medium KSI\", \"Medium KSI\", \"Low KSI\", \"Low KSI\", \"Low KSI\", \"Low KSI\", \"Low KSI\", \"Low KSI\", \"Low KSI\", \"Low KSI\", \"Low KSI\", \"Low KSI\", \"Low KSI\", \"Low KSI\", \"Low KSI\", \"Low KSI\", \"Low KSI\", \"Low KSI\", \"Low KSI\", \"Low KSI\", \"Low KSI\", \"Low KSI\", \"Low KSI\", \"Low KSI\", \"Low KSI\", \"Low KSI\", \"Low KSI\", \"Low KSI\", \"Low KSI\", \"Low KSI\", \"Low KSI\", \"Low KSI\", \"Low KSI\", \"Low KSI\", \"Low KSI\", \"Low KSI\", \"Low KSI\", \"Low KSI\", \"Low KSI\", \"Low KSI\", \"Low KSI\", \"Low KSI\", \"Low KSI\", \"Low KSI\"]}], \"domain\": {\"x\": [0.0, 1.0], \"y\": [0.0, 1.0]}, \"line\": {\"color\": [0, 0, 0, 0, 0, 0, 0, 0, 0, 0, 0, 0, 0, 2, 2, 2, 2, 2, 2, 2, 2, 2, 2, 2, 2, 2, 2, 2, 2, 2, 2, 2, 2, 2, 2, 2, 2, 2, 2, 2, 2, 2, 2, 2, 2, 2, 2, 2, 2, 2, 2, 2, 2, 2, 2, 2, 2, 2, 2, 2, 2, 2, 2, 2, 2, 2, 2, 2, 2, 2, 2, 2, 2, 2, 2, 2, 2, 2, 2, 2, 2, 2, 2, 2, 2, 2, 2, 2, 2, 2, 2, 2, 2, 2, 2, 2, 2, 2, 2, 2, 2, 2, 2, 2, 2, 2, 2, 2, 2, 2, 2, 1, 1, 1, 1, 1, 1, 1, 1, 1, 1, 1, 1, 1, 1, 1, 1, 1, 1, 1, 1, 1, 1, 1, 1, 1, 1, 1, 1, 1, 1, 1, 1, 1, 1, 1, 1, 1, 1, 1, 1, 1, 1], \"coloraxis\": \"coloraxis\"}, \"name\": \"\", \"type\": \"parcats\"}],                        {\"coloraxis\": {\"colorbar\": {\"title\": {\"text\": \"KSI cat code\"}}, \"colorscale\": [[0.0, \"#0d0887\"], [0.1111111111111111, \"#46039f\"], [0.2222222222222222, \"#7201a8\"], [0.3333333333333333, \"#9c179e\"], [0.4444444444444444, \"#bd3786\"], [0.5555555555555556, \"#d8576b\"], [0.6666666666666666, \"#ed7953\"], [0.7777777777777778, \"#fb9f3a\"], [0.8888888888888888, \"#fdca26\"], [1.0, \"#f0f921\"]]}, \"legend\": {\"tracegroupgap\": 0}, \"margin\": {\"t\": 60}, \"template\": {\"data\": {\"bar\": [{\"error_x\": {\"color\": \"#2a3f5f\"}, \"error_y\": {\"color\": \"#2a3f5f\"}, \"marker\": {\"line\": {\"color\": \"#E5ECF6\", \"width\": 0.5}}, \"type\": \"bar\"}], \"barpolar\": [{\"marker\": {\"line\": {\"color\": \"#E5ECF6\", \"width\": 0.5}}, \"type\": \"barpolar\"}], \"carpet\": [{\"aaxis\": {\"endlinecolor\": \"#2a3f5f\", \"gridcolor\": \"white\", \"linecolor\": \"white\", \"minorgridcolor\": \"white\", \"startlinecolor\": \"#2a3f5f\"}, \"baxis\": {\"endlinecolor\": \"#2a3f5f\", \"gridcolor\": \"white\", \"linecolor\": \"white\", \"minorgridcolor\": \"white\", \"startlinecolor\": \"#2a3f5f\"}, \"type\": \"carpet\"}], \"choropleth\": [{\"colorbar\": {\"outlinewidth\": 0, \"ticks\": \"\"}, \"type\": \"choropleth\"}], \"contour\": [{\"colorbar\": {\"outlinewidth\": 0, \"ticks\": \"\"}, \"colorscale\": [[0.0, \"#0d0887\"], [0.1111111111111111, \"#46039f\"], [0.2222222222222222, \"#7201a8\"], [0.3333333333333333, \"#9c179e\"], [0.4444444444444444, \"#bd3786\"], [0.5555555555555556, \"#d8576b\"], [0.6666666666666666, \"#ed7953\"], [0.7777777777777778, \"#fb9f3a\"], [0.8888888888888888, \"#fdca26\"], [1.0, \"#f0f921\"]], \"type\": \"contour\"}], \"contourcarpet\": [{\"colorbar\": {\"outlinewidth\": 0, \"ticks\": \"\"}, \"type\": \"contourcarpet\"}], \"heatmap\": [{\"colorbar\": {\"outlinewidth\": 0, \"ticks\": \"\"}, \"colorscale\": [[0.0, \"#0d0887\"], [0.1111111111111111, \"#46039f\"], [0.2222222222222222, \"#7201a8\"], [0.3333333333333333, \"#9c179e\"], [0.4444444444444444, \"#bd3786\"], [0.5555555555555556, \"#d8576b\"], [0.6666666666666666, \"#ed7953\"], [0.7777777777777778, \"#fb9f3a\"], [0.8888888888888888, \"#fdca26\"], [1.0, \"#f0f921\"]], \"type\": \"heatmap\"}], \"heatmapgl\": [{\"colorbar\": {\"outlinewidth\": 0, \"ticks\": \"\"}, \"colorscale\": [[0.0, \"#0d0887\"], [0.1111111111111111, \"#46039f\"], [0.2222222222222222, \"#7201a8\"], [0.3333333333333333, \"#9c179e\"], [0.4444444444444444, \"#bd3786\"], [0.5555555555555556, \"#d8576b\"], [0.6666666666666666, \"#ed7953\"], [0.7777777777777778, \"#fb9f3a\"], [0.8888888888888888, \"#fdca26\"], [1.0, \"#f0f921\"]], \"type\": \"heatmapgl\"}], \"histogram\": [{\"marker\": {\"colorbar\": {\"outlinewidth\": 0, \"ticks\": \"\"}}, \"type\": \"histogram\"}], \"histogram2d\": [{\"colorbar\": {\"outlinewidth\": 0, \"ticks\": \"\"}, \"colorscale\": [[0.0, \"#0d0887\"], [0.1111111111111111, \"#46039f\"], [0.2222222222222222, \"#7201a8\"], [0.3333333333333333, \"#9c179e\"], [0.4444444444444444, \"#bd3786\"], [0.5555555555555556, \"#d8576b\"], [0.6666666666666666, \"#ed7953\"], [0.7777777777777778, \"#fb9f3a\"], [0.8888888888888888, \"#fdca26\"], [1.0, \"#f0f921\"]], \"type\": \"histogram2d\"}], \"histogram2dcontour\": [{\"colorbar\": {\"outlinewidth\": 0, \"ticks\": \"\"}, \"colorscale\": [[0.0, \"#0d0887\"], [0.1111111111111111, \"#46039f\"], [0.2222222222222222, \"#7201a8\"], [0.3333333333333333, \"#9c179e\"], [0.4444444444444444, \"#bd3786\"], [0.5555555555555556, \"#d8576b\"], [0.6666666666666666, \"#ed7953\"], [0.7777777777777778, \"#fb9f3a\"], [0.8888888888888888, \"#fdca26\"], [1.0, \"#f0f921\"]], \"type\": \"histogram2dcontour\"}], \"mesh3d\": [{\"colorbar\": {\"outlinewidth\": 0, \"ticks\": \"\"}, \"type\": \"mesh3d\"}], \"parcoords\": [{\"line\": {\"colorbar\": {\"outlinewidth\": 0, \"ticks\": \"\"}}, \"type\": \"parcoords\"}], \"pie\": [{\"automargin\": true, \"type\": \"pie\"}], \"scatter\": [{\"marker\": {\"colorbar\": {\"outlinewidth\": 0, \"ticks\": \"\"}}, \"type\": \"scatter\"}], \"scatter3d\": [{\"line\": {\"colorbar\": {\"outlinewidth\": 0, \"ticks\": \"\"}}, \"marker\": {\"colorbar\": {\"outlinewidth\": 0, \"ticks\": \"\"}}, \"type\": \"scatter3d\"}], \"scattercarpet\": [{\"marker\": {\"colorbar\": {\"outlinewidth\": 0, \"ticks\": \"\"}}, \"type\": \"scattercarpet\"}], \"scattergeo\": [{\"marker\": {\"colorbar\": {\"outlinewidth\": 0, \"ticks\": \"\"}}, \"type\": \"scattergeo\"}], \"scattergl\": [{\"marker\": {\"colorbar\": {\"outlinewidth\": 0, \"ticks\": \"\"}}, \"type\": \"scattergl\"}], \"scattermapbox\": [{\"marker\": {\"colorbar\": {\"outlinewidth\": 0, \"ticks\": \"\"}}, \"type\": \"scattermapbox\"}], \"scatterpolar\": [{\"marker\": {\"colorbar\": {\"outlinewidth\": 0, \"ticks\": \"\"}}, \"type\": \"scatterpolar\"}], \"scatterpolargl\": [{\"marker\": {\"colorbar\": {\"outlinewidth\": 0, \"ticks\": \"\"}}, \"type\": \"scatterpolargl\"}], \"scatterternary\": [{\"marker\": {\"colorbar\": {\"outlinewidth\": 0, \"ticks\": \"\"}}, \"type\": \"scatterternary\"}], \"surface\": [{\"colorbar\": {\"outlinewidth\": 0, \"ticks\": \"\"}, \"colorscale\": [[0.0, \"#0d0887\"], [0.1111111111111111, \"#46039f\"], [0.2222222222222222, \"#7201a8\"], [0.3333333333333333, \"#9c179e\"], [0.4444444444444444, \"#bd3786\"], [0.5555555555555556, \"#d8576b\"], [0.6666666666666666, \"#ed7953\"], [0.7777777777777778, \"#fb9f3a\"], [0.8888888888888888, \"#fdca26\"], [1.0, \"#f0f921\"]], \"type\": \"surface\"}], \"table\": [{\"cells\": {\"fill\": {\"color\": \"#EBF0F8\"}, \"line\": {\"color\": \"white\"}}, \"header\": {\"fill\": {\"color\": \"#C8D4E3\"}, \"line\": {\"color\": \"white\"}}, \"type\": \"table\"}]}, \"layout\": {\"annotationdefaults\": {\"arrowcolor\": \"#2a3f5f\", \"arrowhead\": 0, \"arrowwidth\": 1}, \"autotypenumbers\": \"strict\", \"coloraxis\": {\"colorbar\": {\"outlinewidth\": 0, \"ticks\": \"\"}}, \"colorscale\": {\"diverging\": [[0, \"#8e0152\"], [0.1, \"#c51b7d\"], [0.2, \"#de77ae\"], [0.3, \"#f1b6da\"], [0.4, \"#fde0ef\"], [0.5, \"#f7f7f7\"], [0.6, \"#e6f5d0\"], [0.7, \"#b8e186\"], [0.8, \"#7fbc41\"], [0.9, \"#4d9221\"], [1, \"#276419\"]], \"sequential\": [[0.0, \"#0d0887\"], [0.1111111111111111, \"#46039f\"], [0.2222222222222222, \"#7201a8\"], [0.3333333333333333, \"#9c179e\"], [0.4444444444444444, \"#bd3786\"], [0.5555555555555556, \"#d8576b\"], [0.6666666666666666, \"#ed7953\"], [0.7777777777777778, \"#fb9f3a\"], [0.8888888888888888, \"#fdca26\"], [1.0, \"#f0f921\"]], \"sequentialminus\": [[0.0, \"#0d0887\"], [0.1111111111111111, \"#46039f\"], [0.2222222222222222, \"#7201a8\"], [0.3333333333333333, \"#9c179e\"], [0.4444444444444444, \"#bd3786\"], [0.5555555555555556, \"#d8576b\"], [0.6666666666666666, \"#ed7953\"], [0.7777777777777778, \"#fb9f3a\"], [0.8888888888888888, \"#fdca26\"], [1.0, \"#f0f921\"]]}, \"colorway\": [\"#636efa\", \"#EF553B\", \"#00cc96\", \"#ab63fa\", \"#FFA15A\", \"#19d3f3\", \"#FF6692\", \"#B6E880\", \"#FF97FF\", \"#FECB52\"], \"font\": {\"color\": \"#2a3f5f\"}, \"geo\": {\"bgcolor\": \"white\", \"lakecolor\": \"white\", \"landcolor\": \"#E5ECF6\", \"showlakes\": true, \"showland\": true, \"subunitcolor\": \"white\"}, \"hoverlabel\": {\"align\": \"left\"}, \"hovermode\": \"closest\", \"mapbox\": {\"style\": \"light\"}, \"paper_bgcolor\": \"white\", \"plot_bgcolor\": \"#E5ECF6\", \"polar\": {\"angularaxis\": {\"gridcolor\": \"white\", \"linecolor\": \"white\", \"ticks\": \"\"}, \"bgcolor\": \"#E5ECF6\", \"radialaxis\": {\"gridcolor\": \"white\", \"linecolor\": \"white\", \"ticks\": \"\"}}, \"scene\": {\"xaxis\": {\"backgroundcolor\": \"#E5ECF6\", \"gridcolor\": \"white\", \"gridwidth\": 2, \"linecolor\": \"white\", \"showbackground\": true, \"ticks\": \"\", \"zerolinecolor\": \"white\"}, \"yaxis\": {\"backgroundcolor\": \"#E5ECF6\", \"gridcolor\": \"white\", \"gridwidth\": 2, \"linecolor\": \"white\", \"showbackground\": true, \"ticks\": \"\", \"zerolinecolor\": \"white\"}, \"zaxis\": {\"backgroundcolor\": \"#E5ECF6\", \"gridcolor\": \"white\", \"gridwidth\": 2, \"linecolor\": \"white\", \"showbackground\": true, \"ticks\": \"\", \"zerolinecolor\": \"white\"}}, \"shapedefaults\": {\"line\": {\"color\": \"#2a3f5f\"}}, \"ternary\": {\"aaxis\": {\"gridcolor\": \"white\", \"linecolor\": \"white\", \"ticks\": \"\"}, \"baxis\": {\"gridcolor\": \"white\", \"linecolor\": \"white\", \"ticks\": \"\"}, \"bgcolor\": \"#E5ECF6\", \"caxis\": {\"gridcolor\": \"white\", \"linecolor\": \"white\", \"ticks\": \"\"}}, \"title\": {\"x\": 0.05}, \"xaxis\": {\"automargin\": true, \"gridcolor\": \"white\", \"linecolor\": \"white\", \"ticks\": \"\", \"title\": {\"standoff\": 15}, \"zerolinecolor\": \"white\", \"zerolinewidth\": 2}, \"yaxis\": {\"automargin\": true, \"gridcolor\": \"white\", \"linecolor\": \"white\", \"ticks\": \"\", \"title\": {\"standoff\": 15}, \"zerolinecolor\": \"white\", \"zerolinewidth\": 2}}}},                        {\"responsive\": true}                    ).then(function(){\n",
       "                            \n",
       "var gd = document.getElementById('cb519a05-13cc-4298-9ec1-73c9dc154aa5');\n",
       "var x = new MutationObserver(function (mutations, observer) {{\n",
       "        var display = window.getComputedStyle(gd).display;\n",
       "        if (!display || display === 'none') {{\n",
       "            console.log([gd, 'removed!']);\n",
       "            Plotly.purge(gd);\n",
       "            observer.disconnect();\n",
       "        }}\n",
       "}});\n",
       "\n",
       "// Listen for the removal of the full notebook cells\n",
       "var notebookContainer = gd.closest('#notebook-container');\n",
       "if (notebookContainer) {{\n",
       "    x.observe(notebookContainer, {childList: true});\n",
       "}}\n",
       "\n",
       "// Listen for the clearing of the current output cell\n",
       "var outputEl = gd.closest('.output');\n",
       "if (outputEl) {{\n",
       "    x.observe(outputEl, {childList: true});\n",
       "}}\n",
       "\n",
       "                        })                };                });            </script>        </div>"
      ]
     },
     "metadata": {},
     "output_type": "display_data"
    }
   ],
   "source": [
    "fig = px.parallel_categories(df_ksi_props[['Light_Conditions', 'Weather_Conditions', 'Road_Surface_Conditions','KSI','KSI cat','KSI cat code']],\n",
    "                             dimensions=['Light_Conditions', 'Weather_Conditions', 'Road_Surface_Conditions','KSI cat'],\n",
    "                             color=\"KSI cat code\",\n",
    "#                              color_continuous_scale=px.colors.sequential.Inferno,\n",
    "                             labels={'Light_Conditions':'Light', 'Weather_Conditions':'Weather', 'Road_Surface_Conditions':'Surface'}\n",
    "                            )\n",
    "\n",
    "fig.show()"
   ]
  },
  {
   "cell_type": "code",
   "execution_count": 143,
   "metadata": {},
   "outputs": [
    {
     "data": {
      "application/vnd.plotly.v1+json": {
       "config": {
        "plotlyServerURL": "https://plotly.com"
       },
       "data": [
        {
         "arrangement": "freeform",
         "dimensions": [
          {
           "categoryorder": "category ascending",
           "label": "Light",
           "values": [
            "Darkness - lights lit",
            "Daylight",
            "Daylight",
            "Darkness - no lighting",
            "Darkness - lights lit",
            "Darkness - lights lit",
            "Darkness - lights lit",
            "Darkness - lights lit",
            "Darkness - lighting unknown",
            "Darkness - no lighting",
            "Daylight",
            "Darkness - lights unlit",
            "Darkness - no lighting",
            "Darkness - no lighting",
            "Darkness - lights unlit",
            "Darkness - no lighting",
            "Darkness - lights unlit",
            "Darkness - no lighting",
            "Darkness - lights lit",
            "Darkness - lights unlit",
            "Darkness - no lighting",
            "Darkness - lights lit",
            "Darkness - no lighting",
            "Darkness - lights lit",
            "Darkness - no lighting",
            "Darkness - lights unlit",
            "Darkness - no lighting",
            "Darkness - no lighting",
            "Darkness - lights lit",
            "Darkness - no lighting",
            "Daylight",
            "Darkness - no lighting",
            "Darkness - lighting unknown",
            "Darkness - lighting unknown",
            "Darkness - no lighting",
            "Darkness - no lighting",
            "Darkness - no lighting",
            "Darkness - lights unlit",
            "Darkness - no lighting",
            "Darkness - lights unlit",
            "Darkness - lights unlit",
            "Darkness - lights lit",
            "Darkness - lights unlit",
            "Darkness - lighting unknown",
            "Darkness - no lighting",
            "Daylight",
            "Darkness - lights unlit",
            "Darkness - no lighting",
            "Darkness - lights unlit",
            "Darkness - no lighting",
            "Daylight",
            "Darkness - no lighting",
            "Darkness - lights lit",
            "Darkness - lights lit",
            "Darkness - lights lit",
            "Darkness - no lighting",
            "Darkness - lights lit",
            "Darkness - lights unlit",
            "Darkness - no lighting",
            "Daylight",
            "Daylight",
            "Daylight",
            "Darkness - lights lit",
            "Darkness - lights lit",
            "Darkness - no lighting",
            "Daylight",
            "Darkness - lighting unknown",
            "Darkness - lights lit",
            "Darkness - no lighting",
            "Darkness - lights lit",
            "Darkness - lighting unknown",
            "Darkness - lights lit",
            "Darkness - lights unlit",
            "Darkness - lighting unknown",
            "Darkness - no lighting",
            "Darkness - lights lit",
            "Darkness - lights lit",
            "Darkness - lights lit",
            "Darkness - lights lit",
            "Daylight",
            "Daylight",
            "Darkness - lights unlit",
            "Daylight",
            "Daylight",
            "Daylight",
            "Daylight",
            "Darkness - no lighting",
            "Darkness - lighting unknown",
            "Darkness - lighting unknown",
            "Daylight",
            "Daylight",
            "Darkness - lighting unknown",
            "Darkness - lights unlit",
            "Darkness - lights lit",
            "Darkness - lights lit",
            "Darkness - lights lit",
            "Darkness - lights lit",
            "Darkness - no lighting",
            "Darkness - lighting unknown",
            "Darkness - lights lit",
            "Daylight",
            "Daylight",
            "Darkness - lights lit",
            "Darkness - lights lit",
            "Daylight",
            "Daylight",
            "Darkness - lights unlit",
            "Darkness - lighting unknown",
            "Darkness - lighting unknown",
            "Darkness - no lighting",
            "Darkness - lighting unknown",
            "Darkness - lights lit",
            "Daylight",
            "Darkness - lighting unknown",
            "Darkness - lighting unknown",
            "Daylight",
            "Darkness - lights lit",
            "Daylight",
            "Darkness - lights unlit",
            "Darkness - lighting unknown",
            "Daylight",
            "Daylight",
            "Daylight",
            "Darkness - no lighting",
            "Darkness - lighting unknown",
            "Daylight",
            "Darkness - lighting unknown",
            "Daylight",
            "Daylight",
            "Darkness - lights unlit",
            "Darkness - lighting unknown",
            "Darkness - no lighting",
            "Darkness - lights lit",
            "Darkness - lights lit",
            "Daylight",
            "Daylight",
            "Darkness - lighting unknown",
            "Daylight",
            "Darkness - no lighting",
            "Darkness - lighting unknown",
            "Daylight",
            "Daylight",
            "Darkness - lights lit",
            "Daylight",
            "Darkness - lights lit",
            "Daylight",
            "Daylight",
            "Darkness - lighting unknown",
            "Darkness - no lighting",
            "Darkness - lights lit",
            "Daylight",
            "Darkness - no lighting",
            "Darkness - lights lit",
            "Darkness - lights lit",
            "Darkness - no lighting",
            "Darkness - lighting unknown",
            "Darkness - lighting unknown",
            "Darkness - lighting unknown",
            "Darkness - lights unlit",
            "Darkness - lighting unknown",
            "Darkness - lights unlit",
            "Darkness - lights unlit",
            "Darkness - lighting unknown",
            "Darkness - lighting unknown",
            "Darkness - lighting unknown",
            "Darkness - lights lit",
            "Darkness - lights lit",
            "Darkness - lights unlit",
            "Darkness - lighting unknown",
            "Darkness - lighting unknown",
            "Darkness - lighting unknown",
            "Darkness - lighting unknown",
            "Darkness - no lighting",
            "Darkness - lights unlit",
            "Darkness - lights unlit",
            "Darkness - no lighting",
            "Darkness - no lighting",
            "Darkness - no lighting",
            "Darkness - lights unlit",
            "Darkness - lights unlit",
            "Daylight",
            "Daylight",
            "Darkness - lights lit",
            "Darkness - no lighting",
            "Daylight",
            "Darkness - no lighting",
            "Darkness - no lighting",
            "Darkness - lighting unknown",
            "Darkness - lights unlit",
            "Darkness - lights unlit",
            "Darkness - no lighting",
            "Darkness - no lighting",
            "Daylight",
            "Darkness - lights unlit",
            "Darkness - lights unlit",
            "Darkness - lighting unknown",
            "Darkness - lights lit",
            "Darkness - lights lit",
            "Darkness - lighting unknown",
            "Darkness - lighting unknown"
           ]
          },
          {
           "label": "Weather",
           "values": [
            "Snowing + high winds",
            "Raining + high winds",
            "Fine + high winds",
            "Fog or mist",
            "Raining + high winds",
            "Fine + high winds",
            "Unknown",
            "Raining + high winds",
            "Raining + high winds",
            "Raining + high winds",
            "Fog or mist",
            "Snowing no high winds",
            "Fog or mist",
            "Fine + high winds",
            "Unknown",
            "Raining + high winds",
            "Other",
            "Fine no high winds",
            "Snowing no high winds",
            "Snowing no high winds",
            "Unknown",
            "Snowing + high winds",
            "Unknown",
            "Fog or mist",
            "Fine no high winds",
            "Fine + high winds",
            "Raining + high winds",
            "Fine + high winds",
            "Raining + high winds",
            "Fog or mist",
            "Raining + high winds",
            "Raining no high winds",
            "Fog or mist",
            "Fine no high winds",
            "Raining no high winds",
            "Fine no high winds",
            "Snowing no high winds",
            "Fine no high winds",
            "Fine + high winds",
            "Fog or mist",
            "Other",
            "Unknown",
            "Snowing no high winds",
            "Fine + high winds",
            "Raining no high winds",
            "Fog or mist",
            "Fine no high winds",
            "Other",
            "Raining no high winds",
            "Snowing no high winds",
            "Fine no high winds",
            "Raining no high winds",
            "Unknown",
            "Fine + high winds",
            "Fog or mist",
            "Fine no high winds",
            "Fine no high winds",
            "Fine no high winds",
            "Unknown",
            "Snowing + high winds",
            "Raining no high winds",
            "Fine + high winds",
            "Raining + high winds",
            "Other",
            "Other",
            "Raining + high winds",
            "Unknown",
            "Snowing + high winds",
            "Fine + high winds",
            "Fine no high winds",
            "Unknown",
            "Fine + high winds",
            "Raining + high winds",
            "Fine no high winds",
            "Snowing + high winds",
            "Fine no high winds",
            "Unknown",
            "Raining no high winds",
            "Other",
            "Fog or mist",
            "Fine no high winds",
            "Fine + high winds",
            "Fine no high winds",
            "Fine + high winds",
            "Raining no high winds",
            "Raining + high winds",
            "Fine no high winds",
            "Fine no high winds",
            "Unknown",
            "Snowing no high winds",
            "Fine + high winds",
            "Fine + high winds",
            "Raining no high winds",
            "Snowing no high winds",
            "Raining no high winds",
            "Snowing no high winds",
            "Fine + high winds",
            "Other",
            "Raining + high winds",
            "Other",
            "Unknown",
            "Raining no high winds",
            "Fog or mist",
            "Other",
            "Fine no high winds",
            "Other",
            "Unknown",
            "Snowing no high winds",
            "Fine no high winds",
            "Fine + high winds",
            "Raining no high winds",
            "Unknown",
            "Other",
            "Other",
            "Snowing no high winds",
            "Unknown",
            "Raining no high winds",
            "Fog or mist",
            "Other",
            "Raining no high winds",
            "Raining no high winds",
            "Unknown",
            "Snowing + high winds",
            "Snowing + high winds",
            "Other",
            "Raining no high winds",
            "Fog or mist",
            "Snowing no high winds",
            "Fine + high winds",
            "Snowing + high winds",
            "Raining + high winds",
            "Raining + high winds",
            "Raining no high winds",
            "Raining no high winds",
            "Fine no high winds",
            "Other",
            "Snowing no high winds",
            "Snowing no high winds",
            "Fog or mist",
            "Other",
            "Unknown",
            "Snowing + high winds",
            "Fine no high winds",
            "Other",
            "Snowing no high winds",
            "Raining + high winds",
            "Other",
            "Raining no high winds",
            "Snowing no high winds",
            "Fine no high winds",
            "Snowing no high winds",
            "Other",
            "Snowing + high winds",
            "Raining + high winds",
            "Snowing + high winds",
            "Unknown",
            "Fine + high winds",
            "Raining + high winds",
            "Fine no high winds",
            "Fine + high winds",
            "Raining no high winds",
            "Fine no high winds",
            "Snowing + high winds",
            "Snowing + high winds",
            "Snowing + high winds",
            "Fog or mist",
            "Fog or mist",
            "Raining no high winds",
            "Other",
            "Other",
            "Fog or mist",
            "Snowing + high winds",
            "Unknown",
            "Raining no high winds",
            "Fog or mist",
            "Raining no high winds",
            "Snowing no high winds",
            "Snowing no high winds",
            "Unknown",
            "Other",
            "Fog or mist",
            "Snowing + high winds",
            "Other",
            "Snowing + high winds",
            "Snowing + high winds",
            "Snowing + high winds",
            "Fog or mist",
            "Snowing no high winds",
            "Fog or mist",
            "Snowing + high winds",
            "Other",
            "Unknown",
            "Unknown",
            "Snowing + high winds",
            "Raining + high winds",
            "Fine no high winds",
            "Snowing no high winds",
            "Fine + high winds",
            "Raining no high winds",
            "Unknown"
           ]
          },
          {
           "categoryarray": [
            0,
            1
           ],
           "label": "Surface",
           "values": [
            "Dry",
            "Snow",
            "Flood over 3cm. deep",
            "Snow",
            "Snow",
            "Snow",
            "Flood over 3cm. deep",
            "Flood over 3cm. deep",
            "Dry",
            "Snow",
            "Snow",
            "Snow",
            "Dry",
            "Dry",
            "Wet or damp",
            "Flood over 3cm. deep",
            "Dry",
            "Dry",
            "Dry",
            "Wet or damp",
            "Wet or damp",
            "Frost or ice",
            "Dry",
            "Dry",
            "Wet or damp",
            "Wet or damp",
            "Wet or damp",
            "Wet or damp",
            "Frost or ice",
            "Wet or damp",
            "Frost or ice",
            "Flood over 3cm. deep",
            "Dry",
            "Frost or ice",
            "Wet or damp",
            "Frost or ice",
            "Snow",
            "Wet or damp",
            "Flood over 3cm. deep",
            "Wet or damp",
            "Frost or ice",
            "Snow",
            "Frost or ice",
            "Dry",
            "Dry",
            "Dry",
            "Dry",
            "Wet or damp",
            "Wet or damp",
            "Wet or damp",
            "Flood over 3cm. deep",
            "Frost or ice",
            "Wet or damp",
            "Dry",
            "Wet or damp",
            "Snow",
            "Wet or damp",
            "Frost or ice",
            "Frost or ice",
            "Wet or damp",
            "Frost or ice",
            "Dry",
            "Wet or damp",
            "Frost or ice",
            "Frost or ice",
            "Dry",
            "Snow",
            "Wet or damp",
            "Frost or ice",
            "Frost or ice",
            "Wet or damp",
            "Wet or damp",
            "Wet or damp",
            "Wet or damp",
            "Snow",
            "Dry",
            "Frost or ice",
            "Wet or damp",
            "Wet or damp",
            "Wet or damp",
            "Wet or damp",
            "Dry",
            "Dry",
            "Frost or ice",
            "Flood over 3cm. deep",
            "Wet or damp",
            "Flood over 3cm. deep",
            "Dry",
            "Dry",
            "Wet or damp",
            "Wet or damp",
            "Wet or damp",
            "Flood over 3cm. deep",
            "Wet or damp",
            "Dry",
            "Frost or ice",
            "Frost or ice",
            "Dry",
            "Wet or damp",
            "Dry",
            "Frost or ice",
            "Wet or damp",
            "Frost or ice",
            "Snow",
            "Frost or ice",
            "Wet or damp",
            "Dry",
            "Wet or damp",
            "Snow",
            "Snow",
            "Wet or damp",
            "Dry",
            "Frost or ice",
            "Wet or damp",
            "Snow",
            "Wet or damp",
            "Snow",
            "Frost or ice",
            "Wet or damp",
            "Dry",
            "Dry",
            "Dry",
            "Snow",
            "Frost or ice",
            "Frost or ice",
            "Snow",
            "Wet or damp",
            "Frost or ice",
            "Snow",
            "Snow",
            "Flood over 3cm. deep",
            "Frost or ice",
            "Frost or ice",
            "Flood over 3cm. deep",
            "Snow",
            "Dry",
            "Frost or ice",
            "Snow",
            "Frost or ice",
            "Dry",
            "Snow",
            "Frost or ice",
            "Flood over 3cm. deep",
            "Snow",
            "Snow",
            "Flood over 3cm. deep",
            "Flood over 3cm. deep",
            "Flood over 3cm. deep",
            "Frost or ice",
            "Snow",
            "Dry",
            "Snow",
            "Snow",
            "Dry",
            "Wet or damp",
            "Frost or ice",
            "Frost or ice",
            "Frost or ice",
            "Flood over 3cm. deep",
            "Snow",
            "Dry",
            "Snow",
            "Wet or damp",
            "Snow",
            "Frost or ice",
            "Flood over 3cm. deep",
            "Snow",
            "Snow",
            "Flood over 3cm. deep",
            "Snow",
            "Frost or ice",
            "Dry",
            "Flood over 3cm. deep",
            "Frost or ice",
            "Frost or ice",
            "Snow",
            "Dry",
            "Flood over 3cm. deep",
            "Frost or ice",
            "Snow",
            "Flood over 3cm. deep",
            "Flood over 3cm. deep",
            "Flood over 3cm. deep",
            "Dry",
            "Dry",
            "Flood over 3cm. deep",
            "Flood over 3cm. deep",
            "Dry",
            "Dry",
            "Frost or ice",
            "Flood over 3cm. deep",
            "Snow",
            "Flood over 3cm. deep",
            "Wet or damp",
            "Flood over 3cm. deep",
            "Flood over 3cm. deep",
            "Flood over 3cm. deep",
            "Flood over 3cm. deep",
            "Frost or ice",
            "Flood over 3cm. deep"
           ]
          },
          {
           "categoryarray": [
            0,
            1,
            2
           ],
           "label": "KSI",
           "values": [
            0,
            0,
            0,
            0,
            0,
            0,
            0,
            0,
            0,
            0,
            0,
            0,
            0,
            0,
            0,
            0,
            0,
            0,
            0,
            0,
            0,
            2,
            2,
            2,
            2,
            2,
            2,
            2,
            2,
            2,
            2,
            2,
            2,
            2,
            2,
            2,
            2,
            2,
            2,
            2,
            2,
            2,
            2,
            2,
            2,
            2,
            2,
            2,
            2,
            2,
            2,
            2,
            2,
            2,
            2,
            2,
            2,
            2,
            2,
            2,
            2,
            2,
            2,
            2,
            2,
            2,
            2,
            2,
            2,
            2,
            2,
            2,
            2,
            2,
            2,
            2,
            2,
            2,
            2,
            2,
            2,
            2,
            2,
            2,
            2,
            2,
            2,
            2,
            2,
            2,
            2,
            2,
            2,
            2,
            2,
            2,
            2,
            2,
            2,
            2,
            2,
            2,
            2,
            2,
            2,
            2,
            2,
            2,
            2,
            2,
            2,
            2,
            2,
            2,
            2,
            2,
            2,
            2,
            2,
            2,
            2,
            2,
            2,
            2,
            2,
            2,
            2,
            2,
            2,
            2,
            2,
            2,
            2,
            2,
            2,
            2,
            2,
            2,
            2,
            2,
            2,
            2,
            2,
            2,
            2,
            1,
            1,
            1,
            1,
            1,
            1,
            1,
            1,
            1,
            1,
            1,
            1,
            1,
            1,
            1,
            1,
            1,
            1,
            1,
            1,
            1,
            1,
            1,
            1,
            1,
            1,
            1,
            1,
            1,
            1,
            1,
            1,
            1,
            1,
            1,
            1,
            1,
            1,
            1,
            1,
            1,
            1,
            1,
            1,
            1,
            1,
            1,
            1,
            1,
            1,
            1,
            1,
            1,
            1,
            1
           ]
          }
         ],
         "type": "parcats"
        }
       ],
       "layout": {
        "template": {
         "data": {
          "bar": [
           {
            "error_x": {
             "color": "#2a3f5f"
            },
            "error_y": {
             "color": "#2a3f5f"
            },
            "marker": {
             "line": {
              "color": "#E5ECF6",
              "width": 0.5
             }
            },
            "type": "bar"
           }
          ],
          "barpolar": [
           {
            "marker": {
             "line": {
              "color": "#E5ECF6",
              "width": 0.5
             }
            },
            "type": "barpolar"
           }
          ],
          "carpet": [
           {
            "aaxis": {
             "endlinecolor": "#2a3f5f",
             "gridcolor": "white",
             "linecolor": "white",
             "minorgridcolor": "white",
             "startlinecolor": "#2a3f5f"
            },
            "baxis": {
             "endlinecolor": "#2a3f5f",
             "gridcolor": "white",
             "linecolor": "white",
             "minorgridcolor": "white",
             "startlinecolor": "#2a3f5f"
            },
            "type": "carpet"
           }
          ],
          "choropleth": [
           {
            "colorbar": {
             "outlinewidth": 0,
             "ticks": ""
            },
            "type": "choropleth"
           }
          ],
          "contour": [
           {
            "colorbar": {
             "outlinewidth": 0,
             "ticks": ""
            },
            "colorscale": [
             [
              0,
              "#0d0887"
             ],
             [
              0.1111111111111111,
              "#46039f"
             ],
             [
              0.2222222222222222,
              "#7201a8"
             ],
             [
              0.3333333333333333,
              "#9c179e"
             ],
             [
              0.4444444444444444,
              "#bd3786"
             ],
             [
              0.5555555555555556,
              "#d8576b"
             ],
             [
              0.6666666666666666,
              "#ed7953"
             ],
             [
              0.7777777777777778,
              "#fb9f3a"
             ],
             [
              0.8888888888888888,
              "#fdca26"
             ],
             [
              1,
              "#f0f921"
             ]
            ],
            "type": "contour"
           }
          ],
          "contourcarpet": [
           {
            "colorbar": {
             "outlinewidth": 0,
             "ticks": ""
            },
            "type": "contourcarpet"
           }
          ],
          "heatmap": [
           {
            "colorbar": {
             "outlinewidth": 0,
             "ticks": ""
            },
            "colorscale": [
             [
              0,
              "#0d0887"
             ],
             [
              0.1111111111111111,
              "#46039f"
             ],
             [
              0.2222222222222222,
              "#7201a8"
             ],
             [
              0.3333333333333333,
              "#9c179e"
             ],
             [
              0.4444444444444444,
              "#bd3786"
             ],
             [
              0.5555555555555556,
              "#d8576b"
             ],
             [
              0.6666666666666666,
              "#ed7953"
             ],
             [
              0.7777777777777778,
              "#fb9f3a"
             ],
             [
              0.8888888888888888,
              "#fdca26"
             ],
             [
              1,
              "#f0f921"
             ]
            ],
            "type": "heatmap"
           }
          ],
          "heatmapgl": [
           {
            "colorbar": {
             "outlinewidth": 0,
             "ticks": ""
            },
            "colorscale": [
             [
              0,
              "#0d0887"
             ],
             [
              0.1111111111111111,
              "#46039f"
             ],
             [
              0.2222222222222222,
              "#7201a8"
             ],
             [
              0.3333333333333333,
              "#9c179e"
             ],
             [
              0.4444444444444444,
              "#bd3786"
             ],
             [
              0.5555555555555556,
              "#d8576b"
             ],
             [
              0.6666666666666666,
              "#ed7953"
             ],
             [
              0.7777777777777778,
              "#fb9f3a"
             ],
             [
              0.8888888888888888,
              "#fdca26"
             ],
             [
              1,
              "#f0f921"
             ]
            ],
            "type": "heatmapgl"
           }
          ],
          "histogram": [
           {
            "marker": {
             "colorbar": {
              "outlinewidth": 0,
              "ticks": ""
             }
            },
            "type": "histogram"
           }
          ],
          "histogram2d": [
           {
            "colorbar": {
             "outlinewidth": 0,
             "ticks": ""
            },
            "colorscale": [
             [
              0,
              "#0d0887"
             ],
             [
              0.1111111111111111,
              "#46039f"
             ],
             [
              0.2222222222222222,
              "#7201a8"
             ],
             [
              0.3333333333333333,
              "#9c179e"
             ],
             [
              0.4444444444444444,
              "#bd3786"
             ],
             [
              0.5555555555555556,
              "#d8576b"
             ],
             [
              0.6666666666666666,
              "#ed7953"
             ],
             [
              0.7777777777777778,
              "#fb9f3a"
             ],
             [
              0.8888888888888888,
              "#fdca26"
             ],
             [
              1,
              "#f0f921"
             ]
            ],
            "type": "histogram2d"
           }
          ],
          "histogram2dcontour": [
           {
            "colorbar": {
             "outlinewidth": 0,
             "ticks": ""
            },
            "colorscale": [
             [
              0,
              "#0d0887"
             ],
             [
              0.1111111111111111,
              "#46039f"
             ],
             [
              0.2222222222222222,
              "#7201a8"
             ],
             [
              0.3333333333333333,
              "#9c179e"
             ],
             [
              0.4444444444444444,
              "#bd3786"
             ],
             [
              0.5555555555555556,
              "#d8576b"
             ],
             [
              0.6666666666666666,
              "#ed7953"
             ],
             [
              0.7777777777777778,
              "#fb9f3a"
             ],
             [
              0.8888888888888888,
              "#fdca26"
             ],
             [
              1,
              "#f0f921"
             ]
            ],
            "type": "histogram2dcontour"
           }
          ],
          "mesh3d": [
           {
            "colorbar": {
             "outlinewidth": 0,
             "ticks": ""
            },
            "type": "mesh3d"
           }
          ],
          "parcoords": [
           {
            "line": {
             "colorbar": {
              "outlinewidth": 0,
              "ticks": ""
             }
            },
            "type": "parcoords"
           }
          ],
          "pie": [
           {
            "automargin": true,
            "type": "pie"
           }
          ],
          "scatter": [
           {
            "marker": {
             "colorbar": {
              "outlinewidth": 0,
              "ticks": ""
             }
            },
            "type": "scatter"
           }
          ],
          "scatter3d": [
           {
            "line": {
             "colorbar": {
              "outlinewidth": 0,
              "ticks": ""
             }
            },
            "marker": {
             "colorbar": {
              "outlinewidth": 0,
              "ticks": ""
             }
            },
            "type": "scatter3d"
           }
          ],
          "scattercarpet": [
           {
            "marker": {
             "colorbar": {
              "outlinewidth": 0,
              "ticks": ""
             }
            },
            "type": "scattercarpet"
           }
          ],
          "scattergeo": [
           {
            "marker": {
             "colorbar": {
              "outlinewidth": 0,
              "ticks": ""
             }
            },
            "type": "scattergeo"
           }
          ],
          "scattergl": [
           {
            "marker": {
             "colorbar": {
              "outlinewidth": 0,
              "ticks": ""
             }
            },
            "type": "scattergl"
           }
          ],
          "scattermapbox": [
           {
            "marker": {
             "colorbar": {
              "outlinewidth": 0,
              "ticks": ""
             }
            },
            "type": "scattermapbox"
           }
          ],
          "scatterpolar": [
           {
            "marker": {
             "colorbar": {
              "outlinewidth": 0,
              "ticks": ""
             }
            },
            "type": "scatterpolar"
           }
          ],
          "scatterpolargl": [
           {
            "marker": {
             "colorbar": {
              "outlinewidth": 0,
              "ticks": ""
             }
            },
            "type": "scatterpolargl"
           }
          ],
          "scatterternary": [
           {
            "marker": {
             "colorbar": {
              "outlinewidth": 0,
              "ticks": ""
             }
            },
            "type": "scatterternary"
           }
          ],
          "surface": [
           {
            "colorbar": {
             "outlinewidth": 0,
             "ticks": ""
            },
            "colorscale": [
             [
              0,
              "#0d0887"
             ],
             [
              0.1111111111111111,
              "#46039f"
             ],
             [
              0.2222222222222222,
              "#7201a8"
             ],
             [
              0.3333333333333333,
              "#9c179e"
             ],
             [
              0.4444444444444444,
              "#bd3786"
             ],
             [
              0.5555555555555556,
              "#d8576b"
             ],
             [
              0.6666666666666666,
              "#ed7953"
             ],
             [
              0.7777777777777778,
              "#fb9f3a"
             ],
             [
              0.8888888888888888,
              "#fdca26"
             ],
             [
              1,
              "#f0f921"
             ]
            ],
            "type": "surface"
           }
          ],
          "table": [
           {
            "cells": {
             "fill": {
              "color": "#EBF0F8"
             },
             "line": {
              "color": "white"
             }
            },
            "header": {
             "fill": {
              "color": "#C8D4E3"
             },
             "line": {
              "color": "white"
             }
            },
            "type": "table"
           }
          ]
         },
         "layout": {
          "annotationdefaults": {
           "arrowcolor": "#2a3f5f",
           "arrowhead": 0,
           "arrowwidth": 1
          },
          "autotypenumbers": "strict",
          "coloraxis": {
           "colorbar": {
            "outlinewidth": 0,
            "ticks": ""
           }
          },
          "colorscale": {
           "diverging": [
            [
             0,
             "#8e0152"
            ],
            [
             0.1,
             "#c51b7d"
            ],
            [
             0.2,
             "#de77ae"
            ],
            [
             0.3,
             "#f1b6da"
            ],
            [
             0.4,
             "#fde0ef"
            ],
            [
             0.5,
             "#f7f7f7"
            ],
            [
             0.6,
             "#e6f5d0"
            ],
            [
             0.7,
             "#b8e186"
            ],
            [
             0.8,
             "#7fbc41"
            ],
            [
             0.9,
             "#4d9221"
            ],
            [
             1,
             "#276419"
            ]
           ],
           "sequential": [
            [
             0,
             "#0d0887"
            ],
            [
             0.1111111111111111,
             "#46039f"
            ],
            [
             0.2222222222222222,
             "#7201a8"
            ],
            [
             0.3333333333333333,
             "#9c179e"
            ],
            [
             0.4444444444444444,
             "#bd3786"
            ],
            [
             0.5555555555555556,
             "#d8576b"
            ],
            [
             0.6666666666666666,
             "#ed7953"
            ],
            [
             0.7777777777777778,
             "#fb9f3a"
            ],
            [
             0.8888888888888888,
             "#fdca26"
            ],
            [
             1,
             "#f0f921"
            ]
           ],
           "sequentialminus": [
            [
             0,
             "#0d0887"
            ],
            [
             0.1111111111111111,
             "#46039f"
            ],
            [
             0.2222222222222222,
             "#7201a8"
            ],
            [
             0.3333333333333333,
             "#9c179e"
            ],
            [
             0.4444444444444444,
             "#bd3786"
            ],
            [
             0.5555555555555556,
             "#d8576b"
            ],
            [
             0.6666666666666666,
             "#ed7953"
            ],
            [
             0.7777777777777778,
             "#fb9f3a"
            ],
            [
             0.8888888888888888,
             "#fdca26"
            ],
            [
             1,
             "#f0f921"
            ]
           ]
          },
          "colorway": [
           "#636efa",
           "#EF553B",
           "#00cc96",
           "#ab63fa",
           "#FFA15A",
           "#19d3f3",
           "#FF6692",
           "#B6E880",
           "#FF97FF",
           "#FECB52"
          ],
          "font": {
           "color": "#2a3f5f"
          },
          "geo": {
           "bgcolor": "white",
           "lakecolor": "white",
           "landcolor": "#E5ECF6",
           "showlakes": true,
           "showland": true,
           "subunitcolor": "white"
          },
          "hoverlabel": {
           "align": "left"
          },
          "hovermode": "closest",
          "mapbox": {
           "style": "light"
          },
          "paper_bgcolor": "white",
          "plot_bgcolor": "#E5ECF6",
          "polar": {
           "angularaxis": {
            "gridcolor": "white",
            "linecolor": "white",
            "ticks": ""
           },
           "bgcolor": "#E5ECF6",
           "radialaxis": {
            "gridcolor": "white",
            "linecolor": "white",
            "ticks": ""
           }
          },
          "scene": {
           "xaxis": {
            "backgroundcolor": "#E5ECF6",
            "gridcolor": "white",
            "gridwidth": 2,
            "linecolor": "white",
            "showbackground": true,
            "ticks": "",
            "zerolinecolor": "white"
           },
           "yaxis": {
            "backgroundcolor": "#E5ECF6",
            "gridcolor": "white",
            "gridwidth": 2,
            "linecolor": "white",
            "showbackground": true,
            "ticks": "",
            "zerolinecolor": "white"
           },
           "zaxis": {
            "backgroundcolor": "#E5ECF6",
            "gridcolor": "white",
            "gridwidth": 2,
            "linecolor": "white",
            "showbackground": true,
            "ticks": "",
            "zerolinecolor": "white"
           }
          },
          "shapedefaults": {
           "line": {
            "color": "#2a3f5f"
           }
          },
          "ternary": {
           "aaxis": {
            "gridcolor": "white",
            "linecolor": "white",
            "ticks": ""
           },
           "baxis": {
            "gridcolor": "white",
            "linecolor": "white",
            "ticks": ""
           },
           "bgcolor": "#E5ECF6",
           "caxis": {
            "gridcolor": "white",
            "linecolor": "white",
            "ticks": ""
           }
          },
          "title": {
           "x": 0.05
          },
          "xaxis": {
           "automargin": true,
           "gridcolor": "white",
           "linecolor": "white",
           "ticks": "",
           "title": {
            "standoff": 15
           },
           "zerolinecolor": "white",
           "zerolinewidth": 2
          },
          "yaxis": {
           "automargin": true,
           "gridcolor": "white",
           "linecolor": "white",
           "ticks": "",
           "title": {
            "standoff": 15
           },
           "zerolinecolor": "white",
           "zerolinewidth": 2
          }
         }
        }
       }
      },
      "text/html": [
       "<div>                            <div id=\"97441486-059b-4cec-bb62-86da87f9819b\" class=\"plotly-graph-div\" style=\"height:525px; width:100%;\"></div>            <script type=\"text/javascript\">                require([\"plotly\"], function(Plotly) {                    window.PLOTLYENV=window.PLOTLYENV || {};                                    if (document.getElementById(\"97441486-059b-4cec-bb62-86da87f9819b\")) {                    Plotly.newPlot(                        \"97441486-059b-4cec-bb62-86da87f9819b\",                        [{\"arrangement\": \"freeform\", \"dimensions\": [{\"categoryorder\": \"category ascending\", \"label\": \"Light\", \"values\": [\"Darkness - lights lit\", \"Daylight\", \"Daylight\", \"Darkness - no lighting\", \"Darkness - lights lit\", \"Darkness - lights lit\", \"Darkness - lights lit\", \"Darkness - lights lit\", \"Darkness - lighting unknown\", \"Darkness - no lighting\", \"Daylight\", \"Darkness - lights unlit\", \"Darkness - no lighting\", \"Darkness - no lighting\", \"Darkness - lights unlit\", \"Darkness - no lighting\", \"Darkness - lights unlit\", \"Darkness - no lighting\", \"Darkness - lights lit\", \"Darkness - lights unlit\", \"Darkness - no lighting\", \"Darkness - lights lit\", \"Darkness - no lighting\", \"Darkness - lights lit\", \"Darkness - no lighting\", \"Darkness - lights unlit\", \"Darkness - no lighting\", \"Darkness - no lighting\", \"Darkness - lights lit\", \"Darkness - no lighting\", \"Daylight\", \"Darkness - no lighting\", \"Darkness - lighting unknown\", \"Darkness - lighting unknown\", \"Darkness - no lighting\", \"Darkness - no lighting\", \"Darkness - no lighting\", \"Darkness - lights unlit\", \"Darkness - no lighting\", \"Darkness - lights unlit\", \"Darkness - lights unlit\", \"Darkness - lights lit\", \"Darkness - lights unlit\", \"Darkness - lighting unknown\", \"Darkness - no lighting\", \"Daylight\", \"Darkness - lights unlit\", \"Darkness - no lighting\", \"Darkness - lights unlit\", \"Darkness - no lighting\", \"Daylight\", \"Darkness - no lighting\", \"Darkness - lights lit\", \"Darkness - lights lit\", \"Darkness - lights lit\", \"Darkness - no lighting\", \"Darkness - lights lit\", \"Darkness - lights unlit\", \"Darkness - no lighting\", \"Daylight\", \"Daylight\", \"Daylight\", \"Darkness - lights lit\", \"Darkness - lights lit\", \"Darkness - no lighting\", \"Daylight\", \"Darkness - lighting unknown\", \"Darkness - lights lit\", \"Darkness - no lighting\", \"Darkness - lights lit\", \"Darkness - lighting unknown\", \"Darkness - lights lit\", \"Darkness - lights unlit\", \"Darkness - lighting unknown\", \"Darkness - no lighting\", \"Darkness - lights lit\", \"Darkness - lights lit\", \"Darkness - lights lit\", \"Darkness - lights lit\", \"Daylight\", \"Daylight\", \"Darkness - lights unlit\", \"Daylight\", \"Daylight\", \"Daylight\", \"Daylight\", \"Darkness - no lighting\", \"Darkness - lighting unknown\", \"Darkness - lighting unknown\", \"Daylight\", \"Daylight\", \"Darkness - lighting unknown\", \"Darkness - lights unlit\", \"Darkness - lights lit\", \"Darkness - lights lit\", \"Darkness - lights lit\", \"Darkness - lights lit\", \"Darkness - no lighting\", \"Darkness - lighting unknown\", \"Darkness - lights lit\", \"Daylight\", \"Daylight\", \"Darkness - lights lit\", \"Darkness - lights lit\", \"Daylight\", \"Daylight\", \"Darkness - lights unlit\", \"Darkness - lighting unknown\", \"Darkness - lighting unknown\", \"Darkness - no lighting\", \"Darkness - lighting unknown\", \"Darkness - lights lit\", \"Daylight\", \"Darkness - lighting unknown\", \"Darkness - lighting unknown\", \"Daylight\", \"Darkness - lights lit\", \"Daylight\", \"Darkness - lights unlit\", \"Darkness - lighting unknown\", \"Daylight\", \"Daylight\", \"Daylight\", \"Darkness - no lighting\", \"Darkness - lighting unknown\", \"Daylight\", \"Darkness - lighting unknown\", \"Daylight\", \"Daylight\", \"Darkness - lights unlit\", \"Darkness - lighting unknown\", \"Darkness - no lighting\", \"Darkness - lights lit\", \"Darkness - lights lit\", \"Daylight\", \"Daylight\", \"Darkness - lighting unknown\", \"Daylight\", \"Darkness - no lighting\", \"Darkness - lighting unknown\", \"Daylight\", \"Daylight\", \"Darkness - lights lit\", \"Daylight\", \"Darkness - lights lit\", \"Daylight\", \"Daylight\", \"Darkness - lighting unknown\", \"Darkness - no lighting\", \"Darkness - lights lit\", \"Daylight\", \"Darkness - no lighting\", \"Darkness - lights lit\", \"Darkness - lights lit\", \"Darkness - no lighting\", \"Darkness - lighting unknown\", \"Darkness - lighting unknown\", \"Darkness - lighting unknown\", \"Darkness - lights unlit\", \"Darkness - lighting unknown\", \"Darkness - lights unlit\", \"Darkness - lights unlit\", \"Darkness - lighting unknown\", \"Darkness - lighting unknown\", \"Darkness - lighting unknown\", \"Darkness - lights lit\", \"Darkness - lights lit\", \"Darkness - lights unlit\", \"Darkness - lighting unknown\", \"Darkness - lighting unknown\", \"Darkness - lighting unknown\", \"Darkness - lighting unknown\", \"Darkness - no lighting\", \"Darkness - lights unlit\", \"Darkness - lights unlit\", \"Darkness - no lighting\", \"Darkness - no lighting\", \"Darkness - no lighting\", \"Darkness - lights unlit\", \"Darkness - lights unlit\", \"Daylight\", \"Daylight\", \"Darkness - lights lit\", \"Darkness - no lighting\", \"Daylight\", \"Darkness - no lighting\", \"Darkness - no lighting\", \"Darkness - lighting unknown\", \"Darkness - lights unlit\", \"Darkness - lights unlit\", \"Darkness - no lighting\", \"Darkness - no lighting\", \"Daylight\", \"Darkness - lights unlit\", \"Darkness - lights unlit\", \"Darkness - lighting unknown\", \"Darkness - lights lit\", \"Darkness - lights lit\", \"Darkness - lighting unknown\", \"Darkness - lighting unknown\"]}, {\"label\": \"Weather\", \"values\": [\"Snowing + high winds\", \"Raining + high winds\", \"Fine + high winds\", \"Fog or mist\", \"Raining + high winds\", \"Fine + high winds\", \"Unknown\", \"Raining + high winds\", \"Raining + high winds\", \"Raining + high winds\", \"Fog or mist\", \"Snowing no high winds\", \"Fog or mist\", \"Fine + high winds\", \"Unknown\", \"Raining + high winds\", \"Other\", \"Fine no high winds\", \"Snowing no high winds\", \"Snowing no high winds\", \"Unknown\", \"Snowing + high winds\", \"Unknown\", \"Fog or mist\", \"Fine no high winds\", \"Fine + high winds\", \"Raining + high winds\", \"Fine + high winds\", \"Raining + high winds\", \"Fog or mist\", \"Raining + high winds\", \"Raining no high winds\", \"Fog or mist\", \"Fine no high winds\", \"Raining no high winds\", \"Fine no high winds\", \"Snowing no high winds\", \"Fine no high winds\", \"Fine + high winds\", \"Fog or mist\", \"Other\", \"Unknown\", \"Snowing no high winds\", \"Fine + high winds\", \"Raining no high winds\", \"Fog or mist\", \"Fine no high winds\", \"Other\", \"Raining no high winds\", \"Snowing no high winds\", \"Fine no high winds\", \"Raining no high winds\", \"Unknown\", \"Fine + high winds\", \"Fog or mist\", \"Fine no high winds\", \"Fine no high winds\", \"Fine no high winds\", \"Unknown\", \"Snowing + high winds\", \"Raining no high winds\", \"Fine + high winds\", \"Raining + high winds\", \"Other\", \"Other\", \"Raining + high winds\", \"Unknown\", \"Snowing + high winds\", \"Fine + high winds\", \"Fine no high winds\", \"Unknown\", \"Fine + high winds\", \"Raining + high winds\", \"Fine no high winds\", \"Snowing + high winds\", \"Fine no high winds\", \"Unknown\", \"Raining no high winds\", \"Other\", \"Fog or mist\", \"Fine no high winds\", \"Fine + high winds\", \"Fine no high winds\", \"Fine + high winds\", \"Raining no high winds\", \"Raining + high winds\", \"Fine no high winds\", \"Fine no high winds\", \"Unknown\", \"Snowing no high winds\", \"Fine + high winds\", \"Fine + high winds\", \"Raining no high winds\", \"Snowing no high winds\", \"Raining no high winds\", \"Snowing no high winds\", \"Fine + high winds\", \"Other\", \"Raining + high winds\", \"Other\", \"Unknown\", \"Raining no high winds\", \"Fog or mist\", \"Other\", \"Fine no high winds\", \"Other\", \"Unknown\", \"Snowing no high winds\", \"Fine no high winds\", \"Fine + high winds\", \"Raining no high winds\", \"Unknown\", \"Other\", \"Other\", \"Snowing no high winds\", \"Unknown\", \"Raining no high winds\", \"Fog or mist\", \"Other\", \"Raining no high winds\", \"Raining no high winds\", \"Unknown\", \"Snowing + high winds\", \"Snowing + high winds\", \"Other\", \"Raining no high winds\", \"Fog or mist\", \"Snowing no high winds\", \"Fine + high winds\", \"Snowing + high winds\", \"Raining + high winds\", \"Raining + high winds\", \"Raining no high winds\", \"Raining no high winds\", \"Fine no high winds\", \"Other\", \"Snowing no high winds\", \"Snowing no high winds\", \"Fog or mist\", \"Other\", \"Unknown\", \"Snowing + high winds\", \"Fine no high winds\", \"Other\", \"Snowing no high winds\", \"Raining + high winds\", \"Other\", \"Raining no high winds\", \"Snowing no high winds\", \"Fine no high winds\", \"Snowing no high winds\", \"Other\", \"Snowing + high winds\", \"Raining + high winds\", \"Snowing + high winds\", \"Unknown\", \"Fine + high winds\", \"Raining + high winds\", \"Fine no high winds\", \"Fine + high winds\", \"Raining no high winds\", \"Fine no high winds\", \"Snowing + high winds\", \"Snowing + high winds\", \"Snowing + high winds\", \"Fog or mist\", \"Fog or mist\", \"Raining no high winds\", \"Other\", \"Other\", \"Fog or mist\", \"Snowing + high winds\", \"Unknown\", \"Raining no high winds\", \"Fog or mist\", \"Raining no high winds\", \"Snowing no high winds\", \"Snowing no high winds\", \"Unknown\", \"Other\", \"Fog or mist\", \"Snowing + high winds\", \"Other\", \"Snowing + high winds\", \"Snowing + high winds\", \"Snowing + high winds\", \"Fog or mist\", \"Snowing no high winds\", \"Fog or mist\", \"Snowing + high winds\", \"Other\", \"Unknown\", \"Unknown\", \"Snowing + high winds\", \"Raining + high winds\", \"Fine no high winds\", \"Snowing no high winds\", \"Fine + high winds\", \"Raining no high winds\", \"Unknown\"]}, {\"categoryarray\": [0, 1], \"label\": \"Surface\", \"values\": [\"Dry\", \"Snow\", \"Flood over 3cm. deep\", \"Snow\", \"Snow\", \"Snow\", \"Flood over 3cm. deep\", \"Flood over 3cm. deep\", \"Dry\", \"Snow\", \"Snow\", \"Snow\", \"Dry\", \"Dry\", \"Wet or damp\", \"Flood over 3cm. deep\", \"Dry\", \"Dry\", \"Dry\", \"Wet or damp\", \"Wet or damp\", \"Frost or ice\", \"Dry\", \"Dry\", \"Wet or damp\", \"Wet or damp\", \"Wet or damp\", \"Wet or damp\", \"Frost or ice\", \"Wet or damp\", \"Frost or ice\", \"Flood over 3cm. deep\", \"Dry\", \"Frost or ice\", \"Wet or damp\", \"Frost or ice\", \"Snow\", \"Wet or damp\", \"Flood over 3cm. deep\", \"Wet or damp\", \"Frost or ice\", \"Snow\", \"Frost or ice\", \"Dry\", \"Dry\", \"Dry\", \"Dry\", \"Wet or damp\", \"Wet or damp\", \"Wet or damp\", \"Flood over 3cm. deep\", \"Frost or ice\", \"Wet or damp\", \"Dry\", \"Wet or damp\", \"Snow\", \"Wet or damp\", \"Frost or ice\", \"Frost or ice\", \"Wet or damp\", \"Frost or ice\", \"Dry\", \"Wet or damp\", \"Frost or ice\", \"Frost or ice\", \"Dry\", \"Snow\", \"Wet or damp\", \"Frost or ice\", \"Frost or ice\", \"Wet or damp\", \"Wet or damp\", \"Wet or damp\", \"Wet or damp\", \"Snow\", \"Dry\", \"Frost or ice\", \"Wet or damp\", \"Wet or damp\", \"Wet or damp\", \"Wet or damp\", \"Dry\", \"Dry\", \"Frost or ice\", \"Flood over 3cm. deep\", \"Wet or damp\", \"Flood over 3cm. deep\", \"Dry\", \"Dry\", \"Wet or damp\", \"Wet or damp\", \"Wet or damp\", \"Flood over 3cm. deep\", \"Wet or damp\", \"Dry\", \"Frost or ice\", \"Frost or ice\", \"Dry\", \"Wet or damp\", \"Dry\", \"Frost or ice\", \"Wet or damp\", \"Frost or ice\", \"Snow\", \"Frost or ice\", \"Wet or damp\", \"Dry\", \"Wet or damp\", \"Snow\", \"Snow\", \"Wet or damp\", \"Dry\", \"Frost or ice\", \"Wet or damp\", \"Snow\", \"Wet or damp\", \"Snow\", \"Frost or ice\", \"Wet or damp\", \"Dry\", \"Dry\", \"Dry\", \"Snow\", \"Frost or ice\", \"Frost or ice\", \"Snow\", \"Wet or damp\", \"Frost or ice\", \"Snow\", \"Snow\", \"Flood over 3cm. deep\", \"Frost or ice\", \"Frost or ice\", \"Flood over 3cm. deep\", \"Snow\", \"Dry\", \"Frost or ice\", \"Snow\", \"Frost or ice\", \"Dry\", \"Snow\", \"Frost or ice\", \"Flood over 3cm. deep\", \"Snow\", \"Snow\", \"Flood over 3cm. deep\", \"Flood over 3cm. deep\", \"Flood over 3cm. deep\", \"Frost or ice\", \"Snow\", \"Dry\", \"Snow\", \"Snow\", \"Dry\", \"Wet or damp\", \"Frost or ice\", \"Frost or ice\", \"Frost or ice\", \"Flood over 3cm. deep\", \"Snow\", \"Dry\", \"Snow\", \"Wet or damp\", \"Snow\", \"Frost or ice\", \"Flood over 3cm. deep\", \"Snow\", \"Snow\", \"Flood over 3cm. deep\", \"Snow\", \"Frost or ice\", \"Dry\", \"Flood over 3cm. deep\", \"Frost or ice\", \"Frost or ice\", \"Snow\", \"Dry\", \"Flood over 3cm. deep\", \"Frost or ice\", \"Snow\", \"Flood over 3cm. deep\", \"Flood over 3cm. deep\", \"Flood over 3cm. deep\", \"Dry\", \"Dry\", \"Flood over 3cm. deep\", \"Flood over 3cm. deep\", \"Dry\", \"Dry\", \"Frost or ice\", \"Flood over 3cm. deep\", \"Snow\", \"Flood over 3cm. deep\", \"Wet or damp\", \"Flood over 3cm. deep\", \"Flood over 3cm. deep\", \"Flood over 3cm. deep\", \"Flood over 3cm. deep\", \"Frost or ice\", \"Flood over 3cm. deep\"]}, {\"categoryarray\": [0, 1, 2], \"label\": \"KSI\", \"values\": [0, 0, 0, 0, 0, 0, 0, 0, 0, 0, 0, 0, 0, 0, 0, 0, 0, 0, 0, 0, 0, 2, 2, 2, 2, 2, 2, 2, 2, 2, 2, 2, 2, 2, 2, 2, 2, 2, 2, 2, 2, 2, 2, 2, 2, 2, 2, 2, 2, 2, 2, 2, 2, 2, 2, 2, 2, 2, 2, 2, 2, 2, 2, 2, 2, 2, 2, 2, 2, 2, 2, 2, 2, 2, 2, 2, 2, 2, 2, 2, 2, 2, 2, 2, 2, 2, 2, 2, 2, 2, 2, 2, 2, 2, 2, 2, 2, 2, 2, 2, 2, 2, 2, 2, 2, 2, 2, 2, 2, 2, 2, 2, 2, 2, 2, 2, 2, 2, 2, 2, 2, 2, 2, 2, 2, 2, 2, 2, 2, 2, 2, 2, 2, 2, 2, 2, 2, 2, 2, 2, 2, 2, 2, 2, 2, 1, 1, 1, 1, 1, 1, 1, 1, 1, 1, 1, 1, 1, 1, 1, 1, 1, 1, 1, 1, 1, 1, 1, 1, 1, 1, 1, 1, 1, 1, 1, 1, 1, 1, 1, 1, 1, 1, 1, 1, 1, 1, 1, 1, 1, 1, 1, 1, 1, 1, 1, 1, 1, 1, 1]}], \"type\": \"parcats\"}],                        {\"template\": {\"data\": {\"bar\": [{\"error_x\": {\"color\": \"#2a3f5f\"}, \"error_y\": {\"color\": \"#2a3f5f\"}, \"marker\": {\"line\": {\"color\": \"#E5ECF6\", \"width\": 0.5}}, \"type\": \"bar\"}], \"barpolar\": [{\"marker\": {\"line\": {\"color\": \"#E5ECF6\", \"width\": 0.5}}, \"type\": \"barpolar\"}], \"carpet\": [{\"aaxis\": {\"endlinecolor\": \"#2a3f5f\", \"gridcolor\": \"white\", \"linecolor\": \"white\", \"minorgridcolor\": \"white\", \"startlinecolor\": \"#2a3f5f\"}, \"baxis\": {\"endlinecolor\": \"#2a3f5f\", \"gridcolor\": \"white\", \"linecolor\": \"white\", \"minorgridcolor\": \"white\", \"startlinecolor\": \"#2a3f5f\"}, \"type\": \"carpet\"}], \"choropleth\": [{\"colorbar\": {\"outlinewidth\": 0, \"ticks\": \"\"}, \"type\": \"choropleth\"}], \"contour\": [{\"colorbar\": {\"outlinewidth\": 0, \"ticks\": \"\"}, \"colorscale\": [[0.0, \"#0d0887\"], [0.1111111111111111, \"#46039f\"], [0.2222222222222222, \"#7201a8\"], [0.3333333333333333, \"#9c179e\"], [0.4444444444444444, \"#bd3786\"], [0.5555555555555556, \"#d8576b\"], [0.6666666666666666, \"#ed7953\"], [0.7777777777777778, \"#fb9f3a\"], [0.8888888888888888, \"#fdca26\"], [1.0, \"#f0f921\"]], \"type\": \"contour\"}], \"contourcarpet\": [{\"colorbar\": {\"outlinewidth\": 0, \"ticks\": \"\"}, \"type\": \"contourcarpet\"}], \"heatmap\": [{\"colorbar\": {\"outlinewidth\": 0, \"ticks\": \"\"}, \"colorscale\": [[0.0, \"#0d0887\"], [0.1111111111111111, \"#46039f\"], [0.2222222222222222, \"#7201a8\"], [0.3333333333333333, \"#9c179e\"], [0.4444444444444444, \"#bd3786\"], [0.5555555555555556, \"#d8576b\"], [0.6666666666666666, \"#ed7953\"], [0.7777777777777778, \"#fb9f3a\"], [0.8888888888888888, \"#fdca26\"], [1.0, \"#f0f921\"]], \"type\": \"heatmap\"}], \"heatmapgl\": [{\"colorbar\": {\"outlinewidth\": 0, \"ticks\": \"\"}, \"colorscale\": [[0.0, \"#0d0887\"], [0.1111111111111111, \"#46039f\"], [0.2222222222222222, \"#7201a8\"], [0.3333333333333333, \"#9c179e\"], [0.4444444444444444, \"#bd3786\"], [0.5555555555555556, \"#d8576b\"], [0.6666666666666666, \"#ed7953\"], [0.7777777777777778, \"#fb9f3a\"], [0.8888888888888888, \"#fdca26\"], [1.0, \"#f0f921\"]], \"type\": \"heatmapgl\"}], \"histogram\": [{\"marker\": {\"colorbar\": {\"outlinewidth\": 0, \"ticks\": \"\"}}, \"type\": \"histogram\"}], \"histogram2d\": [{\"colorbar\": {\"outlinewidth\": 0, \"ticks\": \"\"}, \"colorscale\": [[0.0, \"#0d0887\"], [0.1111111111111111, \"#46039f\"], [0.2222222222222222, \"#7201a8\"], [0.3333333333333333, \"#9c179e\"], [0.4444444444444444, \"#bd3786\"], [0.5555555555555556, \"#d8576b\"], [0.6666666666666666, \"#ed7953\"], [0.7777777777777778, \"#fb9f3a\"], [0.8888888888888888, \"#fdca26\"], [1.0, \"#f0f921\"]], \"type\": \"histogram2d\"}], \"histogram2dcontour\": [{\"colorbar\": {\"outlinewidth\": 0, \"ticks\": \"\"}, \"colorscale\": [[0.0, \"#0d0887\"], [0.1111111111111111, \"#46039f\"], [0.2222222222222222, \"#7201a8\"], [0.3333333333333333, \"#9c179e\"], [0.4444444444444444, \"#bd3786\"], [0.5555555555555556, \"#d8576b\"], [0.6666666666666666, \"#ed7953\"], [0.7777777777777778, \"#fb9f3a\"], [0.8888888888888888, \"#fdca26\"], [1.0, \"#f0f921\"]], \"type\": \"histogram2dcontour\"}], \"mesh3d\": [{\"colorbar\": {\"outlinewidth\": 0, \"ticks\": \"\"}, \"type\": \"mesh3d\"}], \"parcoords\": [{\"line\": {\"colorbar\": {\"outlinewidth\": 0, \"ticks\": \"\"}}, \"type\": \"parcoords\"}], \"pie\": [{\"automargin\": true, \"type\": \"pie\"}], \"scatter\": [{\"marker\": {\"colorbar\": {\"outlinewidth\": 0, \"ticks\": \"\"}}, \"type\": \"scatter\"}], \"scatter3d\": [{\"line\": {\"colorbar\": {\"outlinewidth\": 0, \"ticks\": \"\"}}, \"marker\": {\"colorbar\": {\"outlinewidth\": 0, \"ticks\": \"\"}}, \"type\": \"scatter3d\"}], \"scattercarpet\": [{\"marker\": {\"colorbar\": {\"outlinewidth\": 0, \"ticks\": \"\"}}, \"type\": \"scattercarpet\"}], \"scattergeo\": [{\"marker\": {\"colorbar\": {\"outlinewidth\": 0, \"ticks\": \"\"}}, \"type\": \"scattergeo\"}], \"scattergl\": [{\"marker\": {\"colorbar\": {\"outlinewidth\": 0, \"ticks\": \"\"}}, \"type\": \"scattergl\"}], \"scattermapbox\": [{\"marker\": {\"colorbar\": {\"outlinewidth\": 0, \"ticks\": \"\"}}, \"type\": \"scattermapbox\"}], \"scatterpolar\": [{\"marker\": {\"colorbar\": {\"outlinewidth\": 0, \"ticks\": \"\"}}, \"type\": \"scatterpolar\"}], \"scatterpolargl\": [{\"marker\": {\"colorbar\": {\"outlinewidth\": 0, \"ticks\": \"\"}}, \"type\": \"scatterpolargl\"}], \"scatterternary\": [{\"marker\": {\"colorbar\": {\"outlinewidth\": 0, \"ticks\": \"\"}}, \"type\": \"scatterternary\"}], \"surface\": [{\"colorbar\": {\"outlinewidth\": 0, \"ticks\": \"\"}, \"colorscale\": [[0.0, \"#0d0887\"], [0.1111111111111111, \"#46039f\"], [0.2222222222222222, \"#7201a8\"], [0.3333333333333333, \"#9c179e\"], [0.4444444444444444, \"#bd3786\"], [0.5555555555555556, \"#d8576b\"], [0.6666666666666666, \"#ed7953\"], [0.7777777777777778, \"#fb9f3a\"], [0.8888888888888888, \"#fdca26\"], [1.0, \"#f0f921\"]], \"type\": \"surface\"}], \"table\": [{\"cells\": {\"fill\": {\"color\": \"#EBF0F8\"}, \"line\": {\"color\": \"white\"}}, \"header\": {\"fill\": {\"color\": \"#C8D4E3\"}, \"line\": {\"color\": \"white\"}}, \"type\": \"table\"}]}, \"layout\": {\"annotationdefaults\": {\"arrowcolor\": \"#2a3f5f\", \"arrowhead\": 0, \"arrowwidth\": 1}, \"autotypenumbers\": \"strict\", \"coloraxis\": {\"colorbar\": {\"outlinewidth\": 0, \"ticks\": \"\"}}, \"colorscale\": {\"diverging\": [[0, \"#8e0152\"], [0.1, \"#c51b7d\"], [0.2, \"#de77ae\"], [0.3, \"#f1b6da\"], [0.4, \"#fde0ef\"], [0.5, \"#f7f7f7\"], [0.6, \"#e6f5d0\"], [0.7, \"#b8e186\"], [0.8, \"#7fbc41\"], [0.9, \"#4d9221\"], [1, \"#276419\"]], \"sequential\": [[0.0, \"#0d0887\"], [0.1111111111111111, \"#46039f\"], [0.2222222222222222, \"#7201a8\"], [0.3333333333333333, \"#9c179e\"], [0.4444444444444444, \"#bd3786\"], [0.5555555555555556, \"#d8576b\"], [0.6666666666666666, \"#ed7953\"], [0.7777777777777778, \"#fb9f3a\"], [0.8888888888888888, \"#fdca26\"], [1.0, \"#f0f921\"]], \"sequentialminus\": [[0.0, \"#0d0887\"], [0.1111111111111111, \"#46039f\"], [0.2222222222222222, \"#7201a8\"], [0.3333333333333333, \"#9c179e\"], [0.4444444444444444, \"#bd3786\"], [0.5555555555555556, \"#d8576b\"], [0.6666666666666666, \"#ed7953\"], [0.7777777777777778, \"#fb9f3a\"], [0.8888888888888888, \"#fdca26\"], [1.0, \"#f0f921\"]]}, \"colorway\": [\"#636efa\", \"#EF553B\", \"#00cc96\", \"#ab63fa\", \"#FFA15A\", \"#19d3f3\", \"#FF6692\", \"#B6E880\", \"#FF97FF\", \"#FECB52\"], \"font\": {\"color\": \"#2a3f5f\"}, \"geo\": {\"bgcolor\": \"white\", \"lakecolor\": \"white\", \"landcolor\": \"#E5ECF6\", \"showlakes\": true, \"showland\": true, \"subunitcolor\": \"white\"}, \"hoverlabel\": {\"align\": \"left\"}, \"hovermode\": \"closest\", \"mapbox\": {\"style\": \"light\"}, \"paper_bgcolor\": \"white\", \"plot_bgcolor\": \"#E5ECF6\", \"polar\": {\"angularaxis\": {\"gridcolor\": \"white\", \"linecolor\": \"white\", \"ticks\": \"\"}, \"bgcolor\": \"#E5ECF6\", \"radialaxis\": {\"gridcolor\": \"white\", \"linecolor\": \"white\", \"ticks\": \"\"}}, \"scene\": {\"xaxis\": {\"backgroundcolor\": \"#E5ECF6\", \"gridcolor\": \"white\", \"gridwidth\": 2, \"linecolor\": \"white\", \"showbackground\": true, \"ticks\": \"\", \"zerolinecolor\": \"white\"}, \"yaxis\": {\"backgroundcolor\": \"#E5ECF6\", \"gridcolor\": \"white\", \"gridwidth\": 2, \"linecolor\": \"white\", \"showbackground\": true, \"ticks\": \"\", \"zerolinecolor\": \"white\"}, \"zaxis\": {\"backgroundcolor\": \"#E5ECF6\", \"gridcolor\": \"white\", \"gridwidth\": 2, \"linecolor\": \"white\", \"showbackground\": true, \"ticks\": \"\", \"zerolinecolor\": \"white\"}}, \"shapedefaults\": {\"line\": {\"color\": \"#2a3f5f\"}}, \"ternary\": {\"aaxis\": {\"gridcolor\": \"white\", \"linecolor\": \"white\", \"ticks\": \"\"}, \"baxis\": {\"gridcolor\": \"white\", \"linecolor\": \"white\", \"ticks\": \"\"}, \"bgcolor\": \"#E5ECF6\", \"caxis\": {\"gridcolor\": \"white\", \"linecolor\": \"white\", \"ticks\": \"\"}}, \"title\": {\"x\": 0.05}, \"xaxis\": {\"automargin\": true, \"gridcolor\": \"white\", \"linecolor\": \"white\", \"ticks\": \"\", \"title\": {\"standoff\": 15}, \"zerolinecolor\": \"white\", \"zerolinewidth\": 2}, \"yaxis\": {\"automargin\": true, \"gridcolor\": \"white\", \"linecolor\": \"white\", \"ticks\": \"\", \"title\": {\"standoff\": 15}, \"zerolinecolor\": \"white\", \"zerolinewidth\": 2}}}},                        {\"responsive\": true}                    ).then(function(){\n",
       "                            \n",
       "var gd = document.getElementById('97441486-059b-4cec-bb62-86da87f9819b');\n",
       "var x = new MutationObserver(function (mutations, observer) {{\n",
       "        var display = window.getComputedStyle(gd).display;\n",
       "        if (!display || display === 'none') {{\n",
       "            console.log([gd, 'removed!']);\n",
       "            Plotly.purge(gd);\n",
       "            observer.disconnect();\n",
       "        }}\n",
       "}});\n",
       "\n",
       "// Listen for the removal of the full notebook cells\n",
       "var notebookContainer = gd.closest('#notebook-container');\n",
       "if (notebookContainer) {{\n",
       "    x.observe(notebookContainer, {childList: true});\n",
       "}}\n",
       "\n",
       "// Listen for the clearing of the current output cell\n",
       "var outputEl = gd.closest('.output');\n",
       "if (outputEl) {{\n",
       "    x.observe(outputEl, {childList: true});\n",
       "}}\n",
       "\n",
       "                        })                };                });            </script>        </div>"
      ]
     },
     "metadata": {},
     "output_type": "display_data"
    }
   ],
   "source": [
    "import plotly.graph_objects as go\n",
    "import pandas as pd\n",
    "\n",
    "titanic_df = pd.read_csv(\"https://raw.githubusercontent.com/plotly/datasets/master/titanic.csv\")\n",
    "\n",
    "df_ksi_props[['Light_Conditions', 'Weather_Conditions', 'Road_Surface_Conditions','KSI','KSI cat','KSI cat code']]\n",
    "\n",
    "# Create dimensions\n",
    "light_dim = go.parcats.Dimension(\n",
    "    values=df_ksi_props['Light_Conditions'],\n",
    "    categoryorder='category ascending', label=\"Light\")\n",
    "\n",
    "weather_dim = go.parcats.Dimension(values=df_ksi_props['Weather_Conditions'], label=\"Weather\")\n",
    "\n",
    "surface_dim = go.parcats.Dimension(\n",
    "    values=df_ksi_props['Road_Surface_Conditions'], label=\"Surface\", categoryarray=[0, 1],\n",
    "#     ticktext=['perished', 'survived']\n",
    "    )\n",
    "\n",
    "ksi_dim = go.parcats.Dimension(\n",
    "    values=df_ksi_props['KSI cat code'], label=\"KSI\", categoryarray=[0, 1, 2],\n",
    "#     ticktext=['perished', 'survived']\n",
    "    )\n",
    "\n",
    "# Create parcats trace\n",
    "color = df_ksi_props['KSI cat code'];\n",
    "colorscale = [[0, 'red'], [1, 'lightsteelblue']]; #, [2, 'mediumseagreen']\n",
    "\n",
    "fig = go.Figure(data = [go.Parcats(dimensions=[light_dim, weather_dim, surface_dim, ksi_dim],\n",
    "#         line={'color': color, 'colorscale': colorscale},\n",
    "#         hoveron='color', hoverinfo='count+probability',\n",
    "#         labelfont={'size': 18, 'family': 'Times'},\n",
    "#         tickfont={'size': 16, 'family': 'Times'},\n",
    "         arrangement='freeform')\n",
    "                       ]\n",
    "               )\n",
    "\n",
    "fig.show()"
   ]
  },
  {
   "cell_type": "code",
   "execution_count": 128,
   "metadata": {},
   "outputs": [
    {
     "data": {
      "text/html": [
       "<div>\n",
       "<style scoped>\n",
       "    .dataframe tbody tr th:only-of-type {\n",
       "        vertical-align: middle;\n",
       "    }\n",
       "\n",
       "    .dataframe tbody tr th {\n",
       "        vertical-align: top;\n",
       "    }\n",
       "\n",
       "    .dataframe thead th {\n",
       "        text-align: right;\n",
       "    }\n",
       "</style>\n",
       "<table border=\"1\" class=\"dataframe\">\n",
       "  <thead>\n",
       "    <tr style=\"text-align: right;\">\n",
       "      <th></th>\n",
       "      <th>Light_Conditions</th>\n",
       "      <th>Weather_Conditions</th>\n",
       "      <th>Road_Surface_Conditions</th>\n",
       "      <th>KSI</th>\n",
       "      <th>label</th>\n",
       "      <th>KSI cat</th>\n",
       "    </tr>\n",
       "  </thead>\n",
       "  <tbody>\n",
       "    <tr>\n",
       "      <th>0</th>\n",
       "      <td>1</td>\n",
       "      <td>5</td>\n",
       "      <td>0</td>\n",
       "      <td>0.500</td>\n",
       "      <td>Darkness - lights lit; Snowing + high winds; Dry</td>\n",
       "      <td>High KSI</td>\n",
       "    </tr>\n",
       "    <tr>\n",
       "      <th>1</th>\n",
       "      <td>0</td>\n",
       "      <td>4</td>\n",
       "      <td>2</td>\n",
       "      <td>0.500</td>\n",
       "      <td>Daylight; Raining + high winds; Snow</td>\n",
       "      <td>High KSI</td>\n",
       "    </tr>\n",
       "    <tr>\n",
       "      <th>2</th>\n",
       "      <td>0</td>\n",
       "      <td>3</td>\n",
       "      <td>4</td>\n",
       "      <td>0.400</td>\n",
       "      <td>Daylight; Fine + high winds; Flood over 3cm. deep</td>\n",
       "      <td>High KSI</td>\n",
       "    </tr>\n",
       "    <tr>\n",
       "      <th>3</th>\n",
       "      <td>3</td>\n",
       "      <td>6</td>\n",
       "      <td>2</td>\n",
       "      <td>0.400</td>\n",
       "      <td>Darkness - no lighting; Fog or mist; Snow</td>\n",
       "      <td>High KSI</td>\n",
       "    </tr>\n",
       "    <tr>\n",
       "      <th>4</th>\n",
       "      <td>1</td>\n",
       "      <td>4</td>\n",
       "      <td>2</td>\n",
       "      <td>0.375</td>\n",
       "      <td>Darkness - lights lit; Raining + high winds; Snow</td>\n",
       "      <td>High KSI</td>\n",
       "    </tr>\n",
       "  </tbody>\n",
       "</table>\n",
       "</div>"
      ],
      "text/plain": [
       "   Light_Conditions  Weather_Conditions  Road_Surface_Conditions    KSI  \\\n",
       "0                 1                   5                        0  0.500   \n",
       "1                 0                   4                        2  0.500   \n",
       "2                 0                   3                        4  0.400   \n",
       "3                 3                   6                        2  0.400   \n",
       "4                 1                   4                        2  0.375   \n",
       "\n",
       "                                               label   KSI cat  \n",
       "0   Darkness - lights lit; Snowing + high winds; Dry  High KSI  \n",
       "1               Daylight; Raining + high winds; Snow  High KSI  \n",
       "2  Daylight; Fine + high winds; Flood over 3cm. deep  High KSI  \n",
       "3          Darkness - no lighting; Fog or mist; Snow  High KSI  \n",
       "4  Darkness - lights lit; Raining + high winds; Snow  High KSI  "
      ]
     },
     "execution_count": 128,
     "metadata": {},
     "output_type": "execute_result"
    }
   ],
   "source": [
    "df_ksi_props_encoded = df_ksi_props.copy()\n",
    "\n",
    "for col in condition_cols:\n",
    "    df_ksi_props_encoded[col] = df_ksi_props[col].cat.codes\n",
    "    \n",
    "df_ksi_props_encoded.head()"
   ]
  },
  {
   "cell_type": "code",
   "execution_count": 129,
   "metadata": {},
   "outputs": [
    {
     "data": {
      "application/vnd.plotly.v1+json": {
       "config": {
        "plotlyServerURL": "https://plotly.com"
       },
       "data": [
        {
         "dimensions": [
          {
           "label": "Light_Conditions",
           "values": [
            1,
            0,
            0,
            3,
            1,
            1,
            1,
            1,
            4,
            3,
            0,
            2,
            3,
            3,
            2,
            3,
            2,
            3,
            1,
            2,
            3,
            1,
            3,
            1,
            3,
            2,
            3,
            3,
            1,
            3,
            0,
            3,
            4,
            4,
            3,
            3,
            3,
            2,
            3,
            2,
            2,
            1,
            2,
            4,
            3,
            0,
            2,
            3,
            2,
            3,
            0,
            3,
            1,
            1,
            1,
            3,
            1,
            2,
            3,
            0,
            0,
            0,
            1,
            1,
            3,
            0,
            4,
            1,
            3,
            1,
            4,
            1,
            2,
            4,
            3,
            1,
            1,
            1,
            1,
            0,
            0,
            2,
            0,
            0,
            0,
            0,
            3,
            4,
            4,
            0,
            0,
            4,
            2,
            1,
            1,
            1,
            1,
            3,
            4,
            1,
            0,
            0,
            1,
            1,
            0,
            0,
            2,
            4,
            4,
            3,
            4,
            1,
            0,
            4,
            4,
            0,
            1,
            0,
            2,
            4,
            0,
            0,
            0,
            3,
            4,
            0,
            4,
            0,
            0,
            2,
            4,
            3,
            1,
            1,
            0,
            0,
            4,
            0,
            3,
            4,
            0,
            0,
            1,
            0,
            1,
            0,
            0,
            4,
            3,
            1,
            0,
            3,
            1,
            1,
            3,
            4,
            4,
            4,
            2,
            4,
            2,
            2,
            4,
            4,
            4,
            1,
            1,
            2,
            4,
            4,
            4,
            4,
            3,
            2,
            2,
            3,
            3,
            3,
            2,
            2,
            0,
            0,
            1,
            3,
            0,
            3,
            3,
            4,
            2,
            2,
            3,
            3,
            0,
            2,
            2,
            4,
            1,
            1,
            4,
            4
           ]
          },
          {
           "label": "Weather_Conditions",
           "values": [
            5,
            4,
            3,
            6,
            4,
            3,
            8,
            4,
            4,
            4,
            6,
            2,
            6,
            3,
            8,
            4,
            7,
            0,
            2,
            2,
            8,
            5,
            8,
            6,
            0,
            3,
            4,
            3,
            4,
            6,
            4,
            1,
            6,
            0,
            1,
            0,
            2,
            0,
            3,
            6,
            7,
            8,
            2,
            3,
            1,
            6,
            0,
            7,
            1,
            2,
            0,
            1,
            8,
            3,
            6,
            0,
            0,
            0,
            8,
            5,
            1,
            3,
            4,
            7,
            7,
            4,
            8,
            5,
            3,
            0,
            8,
            3,
            4,
            0,
            5,
            0,
            8,
            1,
            7,
            6,
            0,
            3,
            0,
            3,
            1,
            4,
            0,
            0,
            8,
            2,
            3,
            3,
            1,
            2,
            1,
            2,
            3,
            7,
            4,
            7,
            8,
            1,
            6,
            7,
            0,
            7,
            8,
            2,
            0,
            3,
            1,
            8,
            7,
            7,
            2,
            8,
            1,
            6,
            7,
            1,
            1,
            8,
            5,
            5,
            7,
            1,
            6,
            2,
            3,
            5,
            4,
            4,
            1,
            1,
            0,
            7,
            2,
            2,
            6,
            7,
            8,
            5,
            0,
            7,
            2,
            4,
            7,
            1,
            2,
            0,
            2,
            7,
            5,
            4,
            5,
            8,
            3,
            4,
            0,
            3,
            1,
            0,
            5,
            5,
            5,
            6,
            6,
            1,
            7,
            7,
            6,
            5,
            8,
            1,
            6,
            1,
            2,
            2,
            8,
            7,
            6,
            5,
            7,
            5,
            5,
            5,
            6,
            2,
            6,
            5,
            7,
            8,
            8,
            5,
            4,
            0,
            2,
            3,
            1,
            8
           ]
          },
          {
           "label": "Road_Surface_Conditions",
           "values": [
            0,
            2,
            4,
            2,
            2,
            2,
            4,
            4,
            0,
            2,
            2,
            2,
            0,
            0,
            1,
            4,
            0,
            0,
            0,
            1,
            1,
            3,
            0,
            0,
            1,
            1,
            1,
            1,
            3,
            1,
            3,
            4,
            0,
            3,
            1,
            3,
            2,
            1,
            4,
            1,
            3,
            2,
            3,
            0,
            0,
            0,
            0,
            1,
            1,
            1,
            4,
            3,
            1,
            0,
            1,
            2,
            1,
            3,
            3,
            1,
            3,
            0,
            1,
            3,
            3,
            0,
            2,
            1,
            3,
            3,
            1,
            1,
            1,
            1,
            2,
            0,
            3,
            1,
            1,
            1,
            1,
            0,
            0,
            3,
            4,
            1,
            4,
            0,
            0,
            1,
            1,
            1,
            4,
            1,
            0,
            3,
            3,
            0,
            1,
            0,
            3,
            1,
            3,
            2,
            3,
            1,
            0,
            1,
            2,
            2,
            1,
            0,
            3,
            1,
            2,
            1,
            2,
            3,
            1,
            0,
            0,
            0,
            2,
            3,
            3,
            2,
            1,
            3,
            2,
            2,
            4,
            3,
            3,
            4,
            2,
            0,
            3,
            2,
            3,
            0,
            2,
            3,
            4,
            2,
            2,
            4,
            4,
            4,
            3,
            2,
            0,
            2,
            2,
            0,
            1,
            3,
            3,
            3,
            4,
            2,
            0,
            2,
            1,
            2,
            3,
            4,
            2,
            2,
            4,
            2,
            3,
            0,
            4,
            3,
            3,
            2,
            0,
            4,
            3,
            2,
            4,
            4,
            4,
            0,
            0,
            4,
            4,
            0,
            0,
            3,
            4,
            2,
            4,
            1,
            4,
            4,
            4,
            4,
            3,
            4
           ]
          },
          {
           "label": "KSI",
           "values": [
            0.5,
            0.5,
            0.4,
            0.4,
            0.375,
            0.375,
            0.3333333333333333,
            0.3333333333333333,
            0.3333333333333333,
            0.3333333333333333,
            0.3333333333333333,
            0.3,
            0.2824858757062147,
            0.26394849785407726,
            0.2608695652173913,
            0.25688073394495414,
            0.2558139534883721,
            0.2557217105863044,
            0.25,
            0.25,
            0.25,
            0.24390243902439024,
            0.23699421965317918,
            0.23626373626373626,
            0.235045742434905,
            0.23255813953488372,
            0.22465208747514911,
            0.2222222222222222,
            0.2222222222222222,
            0.21453692848769051,
            0.21428571428571427,
            0.20952380952380953,
            0.20833333333333334,
            0.20689655172413793,
            0.2063549160671463,
            0.2059800664451827,
            0.2018348623853211,
            0.20126448893572182,
            0.2,
            0.2,
            0.2,
            0.2,
            0.2,
            0.19811320754716982,
            0.19444444444444445,
            0.19321148825065274,
            0.1922283356258597,
            0.189937106918239,
            0.1857707509881423,
            0.1826086956521739,
            0.18181818181818182,
            0.18181818181818182,
            0.18120805369127516,
            0.18106617647058823,
            0.17872340425531916,
            0.17777777777777778,
            0.17745070813662872,
            0.17543859649122806,
            0.17391304347826086,
            0.17391304347826086,
            0.17073170731707318,
            0.17033840563252328,
            0.16910473961380926,
            0.16783216783216784,
            0.1669902912621359,
            0.16666666666666666,
            0.16666666666666666,
            0.16666666666666666,
            0.16666666666666666,
            0.16655196145905024,
            0.16549295774647887,
            0.16210739614994935,
            0.1619718309859155,
            0.1611271676300578,
            0.1597222222222222,
            0.15847567041293628,
            0.15789473684210525,
            0.15778932002580032,
            0.15710892432982695,
            0.15674255691768826,
            0.15453743224017144,
            0.15384615384615385,
            0.14867902451040768,
            0.14754098360655737,
            0.14715719063545152,
            0.1465555068012286,
            0.14634146341463414,
            0.14531173294059893,
            0.14483627204030228,
            0.14480408858603067,
            0.1440588853838065,
            0.14285714285714285,
            0.14285714285714285,
            0.14250614250614252,
            0.1388888888888889,
            0.13768115942028986,
            0.13636363636363635,
            0.13580246913580246,
            0.13529411764705881,
            0.13142375737152484,
            0.13095238095238096,
            0.13019928273006248,
            0.12941176470588237,
            0.12903225806451613,
            0.12768130745658834,
            0.1270823417420276,
            0.12658227848101267,
            0.125,
            0.125,
            0.125,
            0.1241751649670066,
            0.1237785016286645,
            0.12350230414746544,
            0.12135922330097088,
            0.12121212121212122,
            0.12012241775057383,
            0.12,
            0.11875,
            0.1171875,
            0.11627906976744186,
            0.11458333333333333,
            0.11421603495579717,
            0.11395348837209303,
            0.11363636363636363,
            0.11320754716981132,
            0.11290322580645161,
            0.11290322580645161,
            0.11173184357541899,
            0.1111111111111111,
            0.1111111111111111,
            0.1111111111111111,
            0.1111111111111111,
            0.10909090909090909,
            0.10666666666666667,
            0.10616438356164383,
            0.10589519650655022,
            0.10526315789473684,
            0.1049436253252385,
            0.10476190476190476,
            0.10416666666666667,
            0.10344827586206896,
            0.10185185185185185,
            0.1,
            0.1,
            0.09650924024640657,
            0.09183673469387756,
            0.09090909090909091,
            0.08333333333333333,
            0.08208955223880597,
            0.07272727272727272,
            0.07142857142857142,
            0.07142857142857142,
            0.058823529411764705,
            0.05,
            0.05,
            0.047619047619047616,
            0,
            0,
            0,
            0,
            0,
            0,
            0,
            0,
            0,
            0,
            0,
            0,
            0,
            0,
            0,
            0,
            0,
            0,
            0,
            0,
            0,
            0,
            0,
            0,
            0,
            0,
            0,
            0,
            0,
            0,
            0,
            0,
            0,
            0,
            0,
            0,
            0,
            0,
            0,
            0,
            0,
            0,
            0,
            0
           ]
          }
         ],
         "domain": {
          "x": [
           0,
           1
          ],
          "y": [
           0,
           1
          ]
         },
         "line": {
          "color": [
           0.5,
           0.5,
           0.4,
           0.4,
           0.375,
           0.375,
           0.3333333333333333,
           0.3333333333333333,
           0.3333333333333333,
           0.3333333333333333,
           0.3333333333333333,
           0.3,
           0.2824858757062147,
           0.26394849785407726,
           0.2608695652173913,
           0.25688073394495414,
           0.2558139534883721,
           0.2557217105863044,
           0.25,
           0.25,
           0.25,
           0.24390243902439024,
           0.23699421965317918,
           0.23626373626373626,
           0.235045742434905,
           0.23255813953488372,
           0.22465208747514911,
           0.2222222222222222,
           0.2222222222222222,
           0.21453692848769051,
           0.21428571428571427,
           0.20952380952380953,
           0.20833333333333334,
           0.20689655172413793,
           0.2063549160671463,
           0.2059800664451827,
           0.2018348623853211,
           0.20126448893572182,
           0.2,
           0.2,
           0.2,
           0.2,
           0.2,
           0.19811320754716982,
           0.19444444444444445,
           0.19321148825065274,
           0.1922283356258597,
           0.189937106918239,
           0.1857707509881423,
           0.1826086956521739,
           0.18181818181818182,
           0.18181818181818182,
           0.18120805369127516,
           0.18106617647058823,
           0.17872340425531916,
           0.17777777777777778,
           0.17745070813662872,
           0.17543859649122806,
           0.17391304347826086,
           0.17391304347826086,
           0.17073170731707318,
           0.17033840563252328,
           0.16910473961380926,
           0.16783216783216784,
           0.1669902912621359,
           0.16666666666666666,
           0.16666666666666666,
           0.16666666666666666,
           0.16666666666666666,
           0.16655196145905024,
           0.16549295774647887,
           0.16210739614994935,
           0.1619718309859155,
           0.1611271676300578,
           0.1597222222222222,
           0.15847567041293628,
           0.15789473684210525,
           0.15778932002580032,
           0.15710892432982695,
           0.15674255691768826,
           0.15453743224017144,
           0.15384615384615385,
           0.14867902451040768,
           0.14754098360655737,
           0.14715719063545152,
           0.1465555068012286,
           0.14634146341463414,
           0.14531173294059893,
           0.14483627204030228,
           0.14480408858603067,
           0.1440588853838065,
           0.14285714285714285,
           0.14285714285714285,
           0.14250614250614252,
           0.1388888888888889,
           0.13768115942028986,
           0.13636363636363635,
           0.13580246913580246,
           0.13529411764705881,
           0.13142375737152484,
           0.13095238095238096,
           0.13019928273006248,
           0.12941176470588237,
           0.12903225806451613,
           0.12768130745658834,
           0.1270823417420276,
           0.12658227848101267,
           0.125,
           0.125,
           0.125,
           0.1241751649670066,
           0.1237785016286645,
           0.12350230414746544,
           0.12135922330097088,
           0.12121212121212122,
           0.12012241775057383,
           0.12,
           0.11875,
           0.1171875,
           0.11627906976744186,
           0.11458333333333333,
           0.11421603495579717,
           0.11395348837209303,
           0.11363636363636363,
           0.11320754716981132,
           0.11290322580645161,
           0.11290322580645161,
           0.11173184357541899,
           0.1111111111111111,
           0.1111111111111111,
           0.1111111111111111,
           0.1111111111111111,
           0.10909090909090909,
           0.10666666666666667,
           0.10616438356164383,
           0.10589519650655022,
           0.10526315789473684,
           0.1049436253252385,
           0.10476190476190476,
           0.10416666666666667,
           0.10344827586206896,
           0.10185185185185185,
           0.1,
           0.1,
           0.09650924024640657,
           0.09183673469387756,
           0.09090909090909091,
           0.08333333333333333,
           0.08208955223880597,
           0.07272727272727272,
           0.07142857142857142,
           0.07142857142857142,
           0.058823529411764705,
           0.05,
           0.05,
           0.047619047619047616,
           0,
           0,
           0,
           0,
           0,
           0,
           0,
           0,
           0,
           0,
           0,
           0,
           0,
           0,
           0,
           0,
           0,
           0,
           0,
           0,
           0,
           0,
           0,
           0,
           0,
           0,
           0,
           0,
           0,
           0,
           0,
           0,
           0,
           0,
           0,
           0,
           0,
           0,
           0,
           0,
           0,
           0,
           0,
           0
          ],
          "coloraxis": "coloraxis"
         },
         "name": "",
         "type": "parcoords"
        }
       ],
       "layout": {
        "coloraxis": {
         "cmid": 0.25,
         "colorbar": {
          "title": {
           "text": "KSI"
          }
         },
         "colorscale": [
          [
           0,
           "rgb(0, 147, 146)"
          ],
          [
           0.16666666666666666,
           "rgb(114, 170, 161)"
          ],
          [
           0.3333333333333333,
           "rgb(177, 199, 179)"
          ],
          [
           0.5,
           "rgb(241, 234, 200)"
          ],
          [
           0.6666666666666666,
           "rgb(229, 185, 173)"
          ],
          [
           0.8333333333333334,
           "rgb(217, 137, 148)"
          ],
          [
           1,
           "rgb(208, 88, 126)"
          ]
         ]
        },
        "legend": {
         "tracegroupgap": 0
        },
        "margin": {
         "t": 60
        },
        "template": {
         "data": {
          "bar": [
           {
            "error_x": {
             "color": "#2a3f5f"
            },
            "error_y": {
             "color": "#2a3f5f"
            },
            "marker": {
             "line": {
              "color": "#E5ECF6",
              "width": 0.5
             }
            },
            "type": "bar"
           }
          ],
          "barpolar": [
           {
            "marker": {
             "line": {
              "color": "#E5ECF6",
              "width": 0.5
             }
            },
            "type": "barpolar"
           }
          ],
          "carpet": [
           {
            "aaxis": {
             "endlinecolor": "#2a3f5f",
             "gridcolor": "white",
             "linecolor": "white",
             "minorgridcolor": "white",
             "startlinecolor": "#2a3f5f"
            },
            "baxis": {
             "endlinecolor": "#2a3f5f",
             "gridcolor": "white",
             "linecolor": "white",
             "minorgridcolor": "white",
             "startlinecolor": "#2a3f5f"
            },
            "type": "carpet"
           }
          ],
          "choropleth": [
           {
            "colorbar": {
             "outlinewidth": 0,
             "ticks": ""
            },
            "type": "choropleth"
           }
          ],
          "contour": [
           {
            "colorbar": {
             "outlinewidth": 0,
             "ticks": ""
            },
            "colorscale": [
             [
              0,
              "#0d0887"
             ],
             [
              0.1111111111111111,
              "#46039f"
             ],
             [
              0.2222222222222222,
              "#7201a8"
             ],
             [
              0.3333333333333333,
              "#9c179e"
             ],
             [
              0.4444444444444444,
              "#bd3786"
             ],
             [
              0.5555555555555556,
              "#d8576b"
             ],
             [
              0.6666666666666666,
              "#ed7953"
             ],
             [
              0.7777777777777778,
              "#fb9f3a"
             ],
             [
              0.8888888888888888,
              "#fdca26"
             ],
             [
              1,
              "#f0f921"
             ]
            ],
            "type": "contour"
           }
          ],
          "contourcarpet": [
           {
            "colorbar": {
             "outlinewidth": 0,
             "ticks": ""
            },
            "type": "contourcarpet"
           }
          ],
          "heatmap": [
           {
            "colorbar": {
             "outlinewidth": 0,
             "ticks": ""
            },
            "colorscale": [
             [
              0,
              "#0d0887"
             ],
             [
              0.1111111111111111,
              "#46039f"
             ],
             [
              0.2222222222222222,
              "#7201a8"
             ],
             [
              0.3333333333333333,
              "#9c179e"
             ],
             [
              0.4444444444444444,
              "#bd3786"
             ],
             [
              0.5555555555555556,
              "#d8576b"
             ],
             [
              0.6666666666666666,
              "#ed7953"
             ],
             [
              0.7777777777777778,
              "#fb9f3a"
             ],
             [
              0.8888888888888888,
              "#fdca26"
             ],
             [
              1,
              "#f0f921"
             ]
            ],
            "type": "heatmap"
           }
          ],
          "heatmapgl": [
           {
            "colorbar": {
             "outlinewidth": 0,
             "ticks": ""
            },
            "colorscale": [
             [
              0,
              "#0d0887"
             ],
             [
              0.1111111111111111,
              "#46039f"
             ],
             [
              0.2222222222222222,
              "#7201a8"
             ],
             [
              0.3333333333333333,
              "#9c179e"
             ],
             [
              0.4444444444444444,
              "#bd3786"
             ],
             [
              0.5555555555555556,
              "#d8576b"
             ],
             [
              0.6666666666666666,
              "#ed7953"
             ],
             [
              0.7777777777777778,
              "#fb9f3a"
             ],
             [
              0.8888888888888888,
              "#fdca26"
             ],
             [
              1,
              "#f0f921"
             ]
            ],
            "type": "heatmapgl"
           }
          ],
          "histogram": [
           {
            "marker": {
             "colorbar": {
              "outlinewidth": 0,
              "ticks": ""
             }
            },
            "type": "histogram"
           }
          ],
          "histogram2d": [
           {
            "colorbar": {
             "outlinewidth": 0,
             "ticks": ""
            },
            "colorscale": [
             [
              0,
              "#0d0887"
             ],
             [
              0.1111111111111111,
              "#46039f"
             ],
             [
              0.2222222222222222,
              "#7201a8"
             ],
             [
              0.3333333333333333,
              "#9c179e"
             ],
             [
              0.4444444444444444,
              "#bd3786"
             ],
             [
              0.5555555555555556,
              "#d8576b"
             ],
             [
              0.6666666666666666,
              "#ed7953"
             ],
             [
              0.7777777777777778,
              "#fb9f3a"
             ],
             [
              0.8888888888888888,
              "#fdca26"
             ],
             [
              1,
              "#f0f921"
             ]
            ],
            "type": "histogram2d"
           }
          ],
          "histogram2dcontour": [
           {
            "colorbar": {
             "outlinewidth": 0,
             "ticks": ""
            },
            "colorscale": [
             [
              0,
              "#0d0887"
             ],
             [
              0.1111111111111111,
              "#46039f"
             ],
             [
              0.2222222222222222,
              "#7201a8"
             ],
             [
              0.3333333333333333,
              "#9c179e"
             ],
             [
              0.4444444444444444,
              "#bd3786"
             ],
             [
              0.5555555555555556,
              "#d8576b"
             ],
             [
              0.6666666666666666,
              "#ed7953"
             ],
             [
              0.7777777777777778,
              "#fb9f3a"
             ],
             [
              0.8888888888888888,
              "#fdca26"
             ],
             [
              1,
              "#f0f921"
             ]
            ],
            "type": "histogram2dcontour"
           }
          ],
          "mesh3d": [
           {
            "colorbar": {
             "outlinewidth": 0,
             "ticks": ""
            },
            "type": "mesh3d"
           }
          ],
          "parcoords": [
           {
            "line": {
             "colorbar": {
              "outlinewidth": 0,
              "ticks": ""
             }
            },
            "type": "parcoords"
           }
          ],
          "pie": [
           {
            "automargin": true,
            "type": "pie"
           }
          ],
          "scatter": [
           {
            "marker": {
             "colorbar": {
              "outlinewidth": 0,
              "ticks": ""
             }
            },
            "type": "scatter"
           }
          ],
          "scatter3d": [
           {
            "line": {
             "colorbar": {
              "outlinewidth": 0,
              "ticks": ""
             }
            },
            "marker": {
             "colorbar": {
              "outlinewidth": 0,
              "ticks": ""
             }
            },
            "type": "scatter3d"
           }
          ],
          "scattercarpet": [
           {
            "marker": {
             "colorbar": {
              "outlinewidth": 0,
              "ticks": ""
             }
            },
            "type": "scattercarpet"
           }
          ],
          "scattergeo": [
           {
            "marker": {
             "colorbar": {
              "outlinewidth": 0,
              "ticks": ""
             }
            },
            "type": "scattergeo"
           }
          ],
          "scattergl": [
           {
            "marker": {
             "colorbar": {
              "outlinewidth": 0,
              "ticks": ""
             }
            },
            "type": "scattergl"
           }
          ],
          "scattermapbox": [
           {
            "marker": {
             "colorbar": {
              "outlinewidth": 0,
              "ticks": ""
             }
            },
            "type": "scattermapbox"
           }
          ],
          "scatterpolar": [
           {
            "marker": {
             "colorbar": {
              "outlinewidth": 0,
              "ticks": ""
             }
            },
            "type": "scatterpolar"
           }
          ],
          "scatterpolargl": [
           {
            "marker": {
             "colorbar": {
              "outlinewidth": 0,
              "ticks": ""
             }
            },
            "type": "scatterpolargl"
           }
          ],
          "scatterternary": [
           {
            "marker": {
             "colorbar": {
              "outlinewidth": 0,
              "ticks": ""
             }
            },
            "type": "scatterternary"
           }
          ],
          "surface": [
           {
            "colorbar": {
             "outlinewidth": 0,
             "ticks": ""
            },
            "colorscale": [
             [
              0,
              "#0d0887"
             ],
             [
              0.1111111111111111,
              "#46039f"
             ],
             [
              0.2222222222222222,
              "#7201a8"
             ],
             [
              0.3333333333333333,
              "#9c179e"
             ],
             [
              0.4444444444444444,
              "#bd3786"
             ],
             [
              0.5555555555555556,
              "#d8576b"
             ],
             [
              0.6666666666666666,
              "#ed7953"
             ],
             [
              0.7777777777777778,
              "#fb9f3a"
             ],
             [
              0.8888888888888888,
              "#fdca26"
             ],
             [
              1,
              "#f0f921"
             ]
            ],
            "type": "surface"
           }
          ],
          "table": [
           {
            "cells": {
             "fill": {
              "color": "#EBF0F8"
             },
             "line": {
              "color": "white"
             }
            },
            "header": {
             "fill": {
              "color": "#C8D4E3"
             },
             "line": {
              "color": "white"
             }
            },
            "type": "table"
           }
          ]
         },
         "layout": {
          "annotationdefaults": {
           "arrowcolor": "#2a3f5f",
           "arrowhead": 0,
           "arrowwidth": 1
          },
          "autotypenumbers": "strict",
          "coloraxis": {
           "colorbar": {
            "outlinewidth": 0,
            "ticks": ""
           }
          },
          "colorscale": {
           "diverging": [
            [
             0,
             "#8e0152"
            ],
            [
             0.1,
             "#c51b7d"
            ],
            [
             0.2,
             "#de77ae"
            ],
            [
             0.3,
             "#f1b6da"
            ],
            [
             0.4,
             "#fde0ef"
            ],
            [
             0.5,
             "#f7f7f7"
            ],
            [
             0.6,
             "#e6f5d0"
            ],
            [
             0.7,
             "#b8e186"
            ],
            [
             0.8,
             "#7fbc41"
            ],
            [
             0.9,
             "#4d9221"
            ],
            [
             1,
             "#276419"
            ]
           ],
           "sequential": [
            [
             0,
             "#0d0887"
            ],
            [
             0.1111111111111111,
             "#46039f"
            ],
            [
             0.2222222222222222,
             "#7201a8"
            ],
            [
             0.3333333333333333,
             "#9c179e"
            ],
            [
             0.4444444444444444,
             "#bd3786"
            ],
            [
             0.5555555555555556,
             "#d8576b"
            ],
            [
             0.6666666666666666,
             "#ed7953"
            ],
            [
             0.7777777777777778,
             "#fb9f3a"
            ],
            [
             0.8888888888888888,
             "#fdca26"
            ],
            [
             1,
             "#f0f921"
            ]
           ],
           "sequentialminus": [
            [
             0,
             "#0d0887"
            ],
            [
             0.1111111111111111,
             "#46039f"
            ],
            [
             0.2222222222222222,
             "#7201a8"
            ],
            [
             0.3333333333333333,
             "#9c179e"
            ],
            [
             0.4444444444444444,
             "#bd3786"
            ],
            [
             0.5555555555555556,
             "#d8576b"
            ],
            [
             0.6666666666666666,
             "#ed7953"
            ],
            [
             0.7777777777777778,
             "#fb9f3a"
            ],
            [
             0.8888888888888888,
             "#fdca26"
            ],
            [
             1,
             "#f0f921"
            ]
           ]
          },
          "colorway": [
           "#636efa",
           "#EF553B",
           "#00cc96",
           "#ab63fa",
           "#FFA15A",
           "#19d3f3",
           "#FF6692",
           "#B6E880",
           "#FF97FF",
           "#FECB52"
          ],
          "font": {
           "color": "#2a3f5f"
          },
          "geo": {
           "bgcolor": "white",
           "lakecolor": "white",
           "landcolor": "#E5ECF6",
           "showlakes": true,
           "showland": true,
           "subunitcolor": "white"
          },
          "hoverlabel": {
           "align": "left"
          },
          "hovermode": "closest",
          "mapbox": {
           "style": "light"
          },
          "paper_bgcolor": "white",
          "plot_bgcolor": "#E5ECF6",
          "polar": {
           "angularaxis": {
            "gridcolor": "white",
            "linecolor": "white",
            "ticks": ""
           },
           "bgcolor": "#E5ECF6",
           "radialaxis": {
            "gridcolor": "white",
            "linecolor": "white",
            "ticks": ""
           }
          },
          "scene": {
           "xaxis": {
            "backgroundcolor": "#E5ECF6",
            "gridcolor": "white",
            "gridwidth": 2,
            "linecolor": "white",
            "showbackground": true,
            "ticks": "",
            "zerolinecolor": "white"
           },
           "yaxis": {
            "backgroundcolor": "#E5ECF6",
            "gridcolor": "white",
            "gridwidth": 2,
            "linecolor": "white",
            "showbackground": true,
            "ticks": "",
            "zerolinecolor": "white"
           },
           "zaxis": {
            "backgroundcolor": "#E5ECF6",
            "gridcolor": "white",
            "gridwidth": 2,
            "linecolor": "white",
            "showbackground": true,
            "ticks": "",
            "zerolinecolor": "white"
           }
          },
          "shapedefaults": {
           "line": {
            "color": "#2a3f5f"
           }
          },
          "ternary": {
           "aaxis": {
            "gridcolor": "white",
            "linecolor": "white",
            "ticks": ""
           },
           "baxis": {
            "gridcolor": "white",
            "linecolor": "white",
            "ticks": ""
           },
           "bgcolor": "#E5ECF6",
           "caxis": {
            "gridcolor": "white",
            "linecolor": "white",
            "ticks": ""
           }
          },
          "title": {
           "x": 0.05
          },
          "xaxis": {
           "automargin": true,
           "gridcolor": "white",
           "linecolor": "white",
           "ticks": "",
           "title": {
            "standoff": 15
           },
           "zerolinecolor": "white",
           "zerolinewidth": 2
          },
          "yaxis": {
           "automargin": true,
           "gridcolor": "white",
           "linecolor": "white",
           "ticks": "",
           "title": {
            "standoff": 15
           },
           "zerolinecolor": "white",
           "zerolinewidth": 2
          }
         }
        }
       }
      },
      "text/html": [
       "<div>                            <div id=\"f30a7528-a28f-40d7-82ee-cfb01fba2f0e\" class=\"plotly-graph-div\" style=\"height:525px; width:100%;\"></div>            <script type=\"text/javascript\">                require([\"plotly\"], function(Plotly) {                    window.PLOTLYENV=window.PLOTLYENV || {};                                    if (document.getElementById(\"f30a7528-a28f-40d7-82ee-cfb01fba2f0e\")) {                    Plotly.newPlot(                        \"f30a7528-a28f-40d7-82ee-cfb01fba2f0e\",                        [{\"dimensions\": [{\"label\": \"Light_Conditions\", \"values\": [1, 0, 0, 3, 1, 1, 1, 1, 4, 3, 0, 2, 3, 3, 2, 3, 2, 3, 1, 2, 3, 1, 3, 1, 3, 2, 3, 3, 1, 3, 0, 3, 4, 4, 3, 3, 3, 2, 3, 2, 2, 1, 2, 4, 3, 0, 2, 3, 2, 3, 0, 3, 1, 1, 1, 3, 1, 2, 3, 0, 0, 0, 1, 1, 3, 0, 4, 1, 3, 1, 4, 1, 2, 4, 3, 1, 1, 1, 1, 0, 0, 2, 0, 0, 0, 0, 3, 4, 4, 0, 0, 4, 2, 1, 1, 1, 1, 3, 4, 1, 0, 0, 1, 1, 0, 0, 2, 4, 4, 3, 4, 1, 0, 4, 4, 0, 1, 0, 2, 4, 0, 0, 0, 3, 4, 0, 4, 0, 0, 2, 4, 3, 1, 1, 0, 0, 4, 0, 3, 4, 0, 0, 1, 0, 1, 0, 0, 4, 3, 1, 0, 3, 1, 1, 3, 4, 4, 4, 2, 4, 2, 2, 4, 4, 4, 1, 1, 2, 4, 4, 4, 4, 3, 2, 2, 3, 3, 3, 2, 2, 0, 0, 1, 3, 0, 3, 3, 4, 2, 2, 3, 3, 0, 2, 2, 4, 1, 1, 4, 4]}, {\"label\": \"Weather_Conditions\", \"values\": [5, 4, 3, 6, 4, 3, 8, 4, 4, 4, 6, 2, 6, 3, 8, 4, 7, 0, 2, 2, 8, 5, 8, 6, 0, 3, 4, 3, 4, 6, 4, 1, 6, 0, 1, 0, 2, 0, 3, 6, 7, 8, 2, 3, 1, 6, 0, 7, 1, 2, 0, 1, 8, 3, 6, 0, 0, 0, 8, 5, 1, 3, 4, 7, 7, 4, 8, 5, 3, 0, 8, 3, 4, 0, 5, 0, 8, 1, 7, 6, 0, 3, 0, 3, 1, 4, 0, 0, 8, 2, 3, 3, 1, 2, 1, 2, 3, 7, 4, 7, 8, 1, 6, 7, 0, 7, 8, 2, 0, 3, 1, 8, 7, 7, 2, 8, 1, 6, 7, 1, 1, 8, 5, 5, 7, 1, 6, 2, 3, 5, 4, 4, 1, 1, 0, 7, 2, 2, 6, 7, 8, 5, 0, 7, 2, 4, 7, 1, 2, 0, 2, 7, 5, 4, 5, 8, 3, 4, 0, 3, 1, 0, 5, 5, 5, 6, 6, 1, 7, 7, 6, 5, 8, 1, 6, 1, 2, 2, 8, 7, 6, 5, 7, 5, 5, 5, 6, 2, 6, 5, 7, 8, 8, 5, 4, 0, 2, 3, 1, 8]}, {\"label\": \"Road_Surface_Conditions\", \"values\": [0, 2, 4, 2, 2, 2, 4, 4, 0, 2, 2, 2, 0, 0, 1, 4, 0, 0, 0, 1, 1, 3, 0, 0, 1, 1, 1, 1, 3, 1, 3, 4, 0, 3, 1, 3, 2, 1, 4, 1, 3, 2, 3, 0, 0, 0, 0, 1, 1, 1, 4, 3, 1, 0, 1, 2, 1, 3, 3, 1, 3, 0, 1, 3, 3, 0, 2, 1, 3, 3, 1, 1, 1, 1, 2, 0, 3, 1, 1, 1, 1, 0, 0, 3, 4, 1, 4, 0, 0, 1, 1, 1, 4, 1, 0, 3, 3, 0, 1, 0, 3, 1, 3, 2, 3, 1, 0, 1, 2, 2, 1, 0, 3, 1, 2, 1, 2, 3, 1, 0, 0, 0, 2, 3, 3, 2, 1, 3, 2, 2, 4, 3, 3, 4, 2, 0, 3, 2, 3, 0, 2, 3, 4, 2, 2, 4, 4, 4, 3, 2, 0, 2, 2, 0, 1, 3, 3, 3, 4, 2, 0, 2, 1, 2, 3, 4, 2, 2, 4, 2, 3, 0, 4, 3, 3, 2, 0, 4, 3, 2, 4, 4, 4, 0, 0, 4, 4, 0, 0, 3, 4, 2, 4, 1, 4, 4, 4, 4, 3, 4]}, {\"label\": \"KSI\", \"values\": [0.5, 0.5, 0.4, 0.4, 0.375, 0.375, 0.3333333333333333, 0.3333333333333333, 0.3333333333333333, 0.3333333333333333, 0.3333333333333333, 0.3, 0.2824858757062147, 0.26394849785407726, 0.2608695652173913, 0.25688073394495414, 0.2558139534883721, 0.2557217105863044, 0.25, 0.25, 0.25, 0.24390243902439024, 0.23699421965317918, 0.23626373626373626, 0.235045742434905, 0.23255813953488372, 0.22465208747514911, 0.2222222222222222, 0.2222222222222222, 0.21453692848769051, 0.21428571428571427, 0.20952380952380953, 0.20833333333333334, 0.20689655172413793, 0.2063549160671463, 0.2059800664451827, 0.2018348623853211, 0.20126448893572182, 0.2, 0.2, 0.2, 0.2, 0.2, 0.19811320754716982, 0.19444444444444445, 0.19321148825065274, 0.1922283356258597, 0.189937106918239, 0.1857707509881423, 0.1826086956521739, 0.18181818181818182, 0.18181818181818182, 0.18120805369127516, 0.18106617647058823, 0.17872340425531916, 0.17777777777777778, 0.17745070813662872, 0.17543859649122806, 0.17391304347826086, 0.17391304347826086, 0.17073170731707318, 0.17033840563252328, 0.16910473961380926, 0.16783216783216784, 0.1669902912621359, 0.16666666666666666, 0.16666666666666666, 0.16666666666666666, 0.16666666666666666, 0.16655196145905024, 0.16549295774647887, 0.16210739614994935, 0.1619718309859155, 0.1611271676300578, 0.1597222222222222, 0.15847567041293628, 0.15789473684210525, 0.15778932002580032, 0.15710892432982695, 0.15674255691768826, 0.15453743224017144, 0.15384615384615385, 0.14867902451040768, 0.14754098360655737, 0.14715719063545152, 0.1465555068012286, 0.14634146341463414, 0.14531173294059893, 0.14483627204030228, 0.14480408858603067, 0.1440588853838065, 0.14285714285714285, 0.14285714285714285, 0.14250614250614252, 0.1388888888888889, 0.13768115942028986, 0.13636363636363635, 0.13580246913580246, 0.13529411764705881, 0.13142375737152484, 0.13095238095238096, 0.13019928273006248, 0.12941176470588237, 0.12903225806451613, 0.12768130745658834, 0.1270823417420276, 0.12658227848101267, 0.125, 0.125, 0.125, 0.1241751649670066, 0.1237785016286645, 0.12350230414746544, 0.12135922330097088, 0.12121212121212122, 0.12012241775057383, 0.12, 0.11875, 0.1171875, 0.11627906976744186, 0.11458333333333333, 0.11421603495579717, 0.11395348837209303, 0.11363636363636363, 0.11320754716981132, 0.11290322580645161, 0.11290322580645161, 0.11173184357541899, 0.1111111111111111, 0.1111111111111111, 0.1111111111111111, 0.1111111111111111, 0.10909090909090909, 0.10666666666666667, 0.10616438356164383, 0.10589519650655022, 0.10526315789473684, 0.1049436253252385, 0.10476190476190476, 0.10416666666666667, 0.10344827586206896, 0.10185185185185185, 0.1, 0.1, 0.09650924024640657, 0.09183673469387756, 0.09090909090909091, 0.08333333333333333, 0.08208955223880597, 0.07272727272727272, 0.07142857142857142, 0.07142857142857142, 0.058823529411764705, 0.05, 0.05, 0.047619047619047616, 0.0, 0.0, 0.0, 0.0, 0.0, 0.0, 0.0, 0.0, 0.0, 0.0, 0.0, 0.0, 0.0, 0.0, 0.0, 0.0, 0.0, 0.0, 0.0, 0.0, 0.0, 0.0, 0.0, 0.0, 0.0, 0.0, 0.0, 0.0, 0.0, 0.0, 0.0, 0.0, 0.0, 0.0, 0.0, 0.0, 0.0, 0.0, 0.0, 0.0, 0.0, 0.0, 0.0, 0.0]}], \"domain\": {\"x\": [0.0, 1.0], \"y\": [0.0, 1.0]}, \"line\": {\"color\": [0.5, 0.5, 0.4, 0.4, 0.375, 0.375, 0.3333333333333333, 0.3333333333333333, 0.3333333333333333, 0.3333333333333333, 0.3333333333333333, 0.3, 0.2824858757062147, 0.26394849785407726, 0.2608695652173913, 0.25688073394495414, 0.2558139534883721, 0.2557217105863044, 0.25, 0.25, 0.25, 0.24390243902439024, 0.23699421965317918, 0.23626373626373626, 0.235045742434905, 0.23255813953488372, 0.22465208747514911, 0.2222222222222222, 0.2222222222222222, 0.21453692848769051, 0.21428571428571427, 0.20952380952380953, 0.20833333333333334, 0.20689655172413793, 0.2063549160671463, 0.2059800664451827, 0.2018348623853211, 0.20126448893572182, 0.2, 0.2, 0.2, 0.2, 0.2, 0.19811320754716982, 0.19444444444444445, 0.19321148825065274, 0.1922283356258597, 0.189937106918239, 0.1857707509881423, 0.1826086956521739, 0.18181818181818182, 0.18181818181818182, 0.18120805369127516, 0.18106617647058823, 0.17872340425531916, 0.17777777777777778, 0.17745070813662872, 0.17543859649122806, 0.17391304347826086, 0.17391304347826086, 0.17073170731707318, 0.17033840563252328, 0.16910473961380926, 0.16783216783216784, 0.1669902912621359, 0.16666666666666666, 0.16666666666666666, 0.16666666666666666, 0.16666666666666666, 0.16655196145905024, 0.16549295774647887, 0.16210739614994935, 0.1619718309859155, 0.1611271676300578, 0.1597222222222222, 0.15847567041293628, 0.15789473684210525, 0.15778932002580032, 0.15710892432982695, 0.15674255691768826, 0.15453743224017144, 0.15384615384615385, 0.14867902451040768, 0.14754098360655737, 0.14715719063545152, 0.1465555068012286, 0.14634146341463414, 0.14531173294059893, 0.14483627204030228, 0.14480408858603067, 0.1440588853838065, 0.14285714285714285, 0.14285714285714285, 0.14250614250614252, 0.1388888888888889, 0.13768115942028986, 0.13636363636363635, 0.13580246913580246, 0.13529411764705881, 0.13142375737152484, 0.13095238095238096, 0.13019928273006248, 0.12941176470588237, 0.12903225806451613, 0.12768130745658834, 0.1270823417420276, 0.12658227848101267, 0.125, 0.125, 0.125, 0.1241751649670066, 0.1237785016286645, 0.12350230414746544, 0.12135922330097088, 0.12121212121212122, 0.12012241775057383, 0.12, 0.11875, 0.1171875, 0.11627906976744186, 0.11458333333333333, 0.11421603495579717, 0.11395348837209303, 0.11363636363636363, 0.11320754716981132, 0.11290322580645161, 0.11290322580645161, 0.11173184357541899, 0.1111111111111111, 0.1111111111111111, 0.1111111111111111, 0.1111111111111111, 0.10909090909090909, 0.10666666666666667, 0.10616438356164383, 0.10589519650655022, 0.10526315789473684, 0.1049436253252385, 0.10476190476190476, 0.10416666666666667, 0.10344827586206896, 0.10185185185185185, 0.1, 0.1, 0.09650924024640657, 0.09183673469387756, 0.09090909090909091, 0.08333333333333333, 0.08208955223880597, 0.07272727272727272, 0.07142857142857142, 0.07142857142857142, 0.058823529411764705, 0.05, 0.05, 0.047619047619047616, 0.0, 0.0, 0.0, 0.0, 0.0, 0.0, 0.0, 0.0, 0.0, 0.0, 0.0, 0.0, 0.0, 0.0, 0.0, 0.0, 0.0, 0.0, 0.0, 0.0, 0.0, 0.0, 0.0, 0.0, 0.0, 0.0, 0.0, 0.0, 0.0, 0.0, 0.0, 0.0, 0.0, 0.0, 0.0, 0.0, 0.0, 0.0, 0.0, 0.0, 0.0, 0.0, 0.0, 0.0], \"coloraxis\": \"coloraxis\"}, \"name\": \"\", \"type\": \"parcoords\"}],                        {\"coloraxis\": {\"cmid\": 0.25, \"colorbar\": {\"title\": {\"text\": \"KSI\"}}, \"colorscale\": [[0.0, \"rgb(0, 147, 146)\"], [0.16666666666666666, \"rgb(114, 170, 161)\"], [0.3333333333333333, \"rgb(177, 199, 179)\"], [0.5, \"rgb(241, 234, 200)\"], [0.6666666666666666, \"rgb(229, 185, 173)\"], [0.8333333333333334, \"rgb(217, 137, 148)\"], [1.0, \"rgb(208, 88, 126)\"]]}, \"legend\": {\"tracegroupgap\": 0}, \"margin\": {\"t\": 60}, \"template\": {\"data\": {\"bar\": [{\"error_x\": {\"color\": \"#2a3f5f\"}, \"error_y\": {\"color\": \"#2a3f5f\"}, \"marker\": {\"line\": {\"color\": \"#E5ECF6\", \"width\": 0.5}}, \"type\": \"bar\"}], \"barpolar\": [{\"marker\": {\"line\": {\"color\": \"#E5ECF6\", \"width\": 0.5}}, \"type\": \"barpolar\"}], \"carpet\": [{\"aaxis\": {\"endlinecolor\": \"#2a3f5f\", \"gridcolor\": \"white\", \"linecolor\": \"white\", \"minorgridcolor\": \"white\", \"startlinecolor\": \"#2a3f5f\"}, \"baxis\": {\"endlinecolor\": \"#2a3f5f\", \"gridcolor\": \"white\", \"linecolor\": \"white\", \"minorgridcolor\": \"white\", \"startlinecolor\": \"#2a3f5f\"}, \"type\": \"carpet\"}], \"choropleth\": [{\"colorbar\": {\"outlinewidth\": 0, \"ticks\": \"\"}, \"type\": \"choropleth\"}], \"contour\": [{\"colorbar\": {\"outlinewidth\": 0, \"ticks\": \"\"}, \"colorscale\": [[0.0, \"#0d0887\"], [0.1111111111111111, \"#46039f\"], [0.2222222222222222, \"#7201a8\"], [0.3333333333333333, \"#9c179e\"], [0.4444444444444444, \"#bd3786\"], [0.5555555555555556, \"#d8576b\"], [0.6666666666666666, \"#ed7953\"], [0.7777777777777778, \"#fb9f3a\"], [0.8888888888888888, \"#fdca26\"], [1.0, \"#f0f921\"]], \"type\": \"contour\"}], \"contourcarpet\": [{\"colorbar\": {\"outlinewidth\": 0, \"ticks\": \"\"}, \"type\": \"contourcarpet\"}], \"heatmap\": [{\"colorbar\": {\"outlinewidth\": 0, \"ticks\": \"\"}, \"colorscale\": [[0.0, \"#0d0887\"], [0.1111111111111111, \"#46039f\"], [0.2222222222222222, \"#7201a8\"], [0.3333333333333333, \"#9c179e\"], [0.4444444444444444, \"#bd3786\"], [0.5555555555555556, \"#d8576b\"], [0.6666666666666666, \"#ed7953\"], [0.7777777777777778, \"#fb9f3a\"], [0.8888888888888888, \"#fdca26\"], [1.0, \"#f0f921\"]], \"type\": \"heatmap\"}], \"heatmapgl\": [{\"colorbar\": {\"outlinewidth\": 0, \"ticks\": \"\"}, \"colorscale\": [[0.0, \"#0d0887\"], [0.1111111111111111, \"#46039f\"], [0.2222222222222222, \"#7201a8\"], [0.3333333333333333, \"#9c179e\"], [0.4444444444444444, \"#bd3786\"], [0.5555555555555556, \"#d8576b\"], [0.6666666666666666, \"#ed7953\"], [0.7777777777777778, \"#fb9f3a\"], [0.8888888888888888, \"#fdca26\"], [1.0, \"#f0f921\"]], \"type\": \"heatmapgl\"}], \"histogram\": [{\"marker\": {\"colorbar\": {\"outlinewidth\": 0, \"ticks\": \"\"}}, \"type\": \"histogram\"}], \"histogram2d\": [{\"colorbar\": {\"outlinewidth\": 0, \"ticks\": \"\"}, \"colorscale\": [[0.0, \"#0d0887\"], [0.1111111111111111, \"#46039f\"], [0.2222222222222222, \"#7201a8\"], [0.3333333333333333, \"#9c179e\"], [0.4444444444444444, \"#bd3786\"], [0.5555555555555556, \"#d8576b\"], [0.6666666666666666, \"#ed7953\"], [0.7777777777777778, \"#fb9f3a\"], [0.8888888888888888, \"#fdca26\"], [1.0, \"#f0f921\"]], \"type\": \"histogram2d\"}], \"histogram2dcontour\": [{\"colorbar\": {\"outlinewidth\": 0, \"ticks\": \"\"}, \"colorscale\": [[0.0, \"#0d0887\"], [0.1111111111111111, \"#46039f\"], [0.2222222222222222, \"#7201a8\"], [0.3333333333333333, \"#9c179e\"], [0.4444444444444444, \"#bd3786\"], [0.5555555555555556, \"#d8576b\"], [0.6666666666666666, \"#ed7953\"], [0.7777777777777778, \"#fb9f3a\"], [0.8888888888888888, \"#fdca26\"], [1.0, \"#f0f921\"]], \"type\": \"histogram2dcontour\"}], \"mesh3d\": [{\"colorbar\": {\"outlinewidth\": 0, \"ticks\": \"\"}, \"type\": \"mesh3d\"}], \"parcoords\": [{\"line\": {\"colorbar\": {\"outlinewidth\": 0, \"ticks\": \"\"}}, \"type\": \"parcoords\"}], \"pie\": [{\"automargin\": true, \"type\": \"pie\"}], \"scatter\": [{\"marker\": {\"colorbar\": {\"outlinewidth\": 0, \"ticks\": \"\"}}, \"type\": \"scatter\"}], \"scatter3d\": [{\"line\": {\"colorbar\": {\"outlinewidth\": 0, \"ticks\": \"\"}}, \"marker\": {\"colorbar\": {\"outlinewidth\": 0, \"ticks\": \"\"}}, \"type\": \"scatter3d\"}], \"scattercarpet\": [{\"marker\": {\"colorbar\": {\"outlinewidth\": 0, \"ticks\": \"\"}}, \"type\": \"scattercarpet\"}], \"scattergeo\": [{\"marker\": {\"colorbar\": {\"outlinewidth\": 0, \"ticks\": \"\"}}, \"type\": \"scattergeo\"}], \"scattergl\": [{\"marker\": {\"colorbar\": {\"outlinewidth\": 0, \"ticks\": \"\"}}, \"type\": \"scattergl\"}], \"scattermapbox\": [{\"marker\": {\"colorbar\": {\"outlinewidth\": 0, \"ticks\": \"\"}}, \"type\": \"scattermapbox\"}], \"scatterpolar\": [{\"marker\": {\"colorbar\": {\"outlinewidth\": 0, \"ticks\": \"\"}}, \"type\": \"scatterpolar\"}], \"scatterpolargl\": [{\"marker\": {\"colorbar\": {\"outlinewidth\": 0, \"ticks\": \"\"}}, \"type\": \"scatterpolargl\"}], \"scatterternary\": [{\"marker\": {\"colorbar\": {\"outlinewidth\": 0, \"ticks\": \"\"}}, \"type\": \"scatterternary\"}], \"surface\": [{\"colorbar\": {\"outlinewidth\": 0, \"ticks\": \"\"}, \"colorscale\": [[0.0, \"#0d0887\"], [0.1111111111111111, \"#46039f\"], [0.2222222222222222, \"#7201a8\"], [0.3333333333333333, \"#9c179e\"], [0.4444444444444444, \"#bd3786\"], [0.5555555555555556, \"#d8576b\"], [0.6666666666666666, \"#ed7953\"], [0.7777777777777778, \"#fb9f3a\"], [0.8888888888888888, \"#fdca26\"], [1.0, \"#f0f921\"]], \"type\": \"surface\"}], \"table\": [{\"cells\": {\"fill\": {\"color\": \"#EBF0F8\"}, \"line\": {\"color\": \"white\"}}, \"header\": {\"fill\": {\"color\": \"#C8D4E3\"}, \"line\": {\"color\": \"white\"}}, \"type\": \"table\"}]}, \"layout\": {\"annotationdefaults\": {\"arrowcolor\": \"#2a3f5f\", \"arrowhead\": 0, \"arrowwidth\": 1}, \"autotypenumbers\": \"strict\", \"coloraxis\": {\"colorbar\": {\"outlinewidth\": 0, \"ticks\": \"\"}}, \"colorscale\": {\"diverging\": [[0, \"#8e0152\"], [0.1, \"#c51b7d\"], [0.2, \"#de77ae\"], [0.3, \"#f1b6da\"], [0.4, \"#fde0ef\"], [0.5, \"#f7f7f7\"], [0.6, \"#e6f5d0\"], [0.7, \"#b8e186\"], [0.8, \"#7fbc41\"], [0.9, \"#4d9221\"], [1, \"#276419\"]], \"sequential\": [[0.0, \"#0d0887\"], [0.1111111111111111, \"#46039f\"], [0.2222222222222222, \"#7201a8\"], [0.3333333333333333, \"#9c179e\"], [0.4444444444444444, \"#bd3786\"], [0.5555555555555556, \"#d8576b\"], [0.6666666666666666, \"#ed7953\"], [0.7777777777777778, \"#fb9f3a\"], [0.8888888888888888, \"#fdca26\"], [1.0, \"#f0f921\"]], \"sequentialminus\": [[0.0, \"#0d0887\"], [0.1111111111111111, \"#46039f\"], [0.2222222222222222, \"#7201a8\"], [0.3333333333333333, \"#9c179e\"], [0.4444444444444444, \"#bd3786\"], [0.5555555555555556, \"#d8576b\"], [0.6666666666666666, \"#ed7953\"], [0.7777777777777778, \"#fb9f3a\"], [0.8888888888888888, \"#fdca26\"], [1.0, \"#f0f921\"]]}, \"colorway\": [\"#636efa\", \"#EF553B\", \"#00cc96\", \"#ab63fa\", \"#FFA15A\", \"#19d3f3\", \"#FF6692\", \"#B6E880\", \"#FF97FF\", \"#FECB52\"], \"font\": {\"color\": \"#2a3f5f\"}, \"geo\": {\"bgcolor\": \"white\", \"lakecolor\": \"white\", \"landcolor\": \"#E5ECF6\", \"showlakes\": true, \"showland\": true, \"subunitcolor\": \"white\"}, \"hoverlabel\": {\"align\": \"left\"}, \"hovermode\": \"closest\", \"mapbox\": {\"style\": \"light\"}, \"paper_bgcolor\": \"white\", \"plot_bgcolor\": \"#E5ECF6\", \"polar\": {\"angularaxis\": {\"gridcolor\": \"white\", \"linecolor\": \"white\", \"ticks\": \"\"}, \"bgcolor\": \"#E5ECF6\", \"radialaxis\": {\"gridcolor\": \"white\", \"linecolor\": \"white\", \"ticks\": \"\"}}, \"scene\": {\"xaxis\": {\"backgroundcolor\": \"#E5ECF6\", \"gridcolor\": \"white\", \"gridwidth\": 2, \"linecolor\": \"white\", \"showbackground\": true, \"ticks\": \"\", \"zerolinecolor\": \"white\"}, \"yaxis\": {\"backgroundcolor\": \"#E5ECF6\", \"gridcolor\": \"white\", \"gridwidth\": 2, \"linecolor\": \"white\", \"showbackground\": true, \"ticks\": \"\", \"zerolinecolor\": \"white\"}, \"zaxis\": {\"backgroundcolor\": \"#E5ECF6\", \"gridcolor\": \"white\", \"gridwidth\": 2, \"linecolor\": \"white\", \"showbackground\": true, \"ticks\": \"\", \"zerolinecolor\": \"white\"}}, \"shapedefaults\": {\"line\": {\"color\": \"#2a3f5f\"}}, \"ternary\": {\"aaxis\": {\"gridcolor\": \"white\", \"linecolor\": \"white\", \"ticks\": \"\"}, \"baxis\": {\"gridcolor\": \"white\", \"linecolor\": \"white\", \"ticks\": \"\"}, \"bgcolor\": \"#E5ECF6\", \"caxis\": {\"gridcolor\": \"white\", \"linecolor\": \"white\", \"ticks\": \"\"}}, \"title\": {\"x\": 0.05}, \"xaxis\": {\"automargin\": true, \"gridcolor\": \"white\", \"linecolor\": \"white\", \"ticks\": \"\", \"title\": {\"standoff\": 15}, \"zerolinecolor\": \"white\", \"zerolinewidth\": 2}, \"yaxis\": {\"automargin\": true, \"gridcolor\": \"white\", \"linecolor\": \"white\", \"ticks\": \"\", \"title\": {\"standoff\": 15}, \"zerolinecolor\": \"white\", \"zerolinewidth\": 2}}}},                        {\"responsive\": true}                    ).then(function(){\n",
       "                            \n",
       "var gd = document.getElementById('f30a7528-a28f-40d7-82ee-cfb01fba2f0e');\n",
       "var x = new MutationObserver(function (mutations, observer) {{\n",
       "        var display = window.getComputedStyle(gd).display;\n",
       "        if (!display || display === 'none') {{\n",
       "            console.log([gd, 'removed!']);\n",
       "            Plotly.purge(gd);\n",
       "            observer.disconnect();\n",
       "        }}\n",
       "}});\n",
       "\n",
       "// Listen for the removal of the full notebook cells\n",
       "var notebookContainer = gd.closest('#notebook-container');\n",
       "if (notebookContainer) {{\n",
       "    x.observe(notebookContainer, {childList: true});\n",
       "}}\n",
       "\n",
       "// Listen for the clearing of the current output cell\n",
       "var outputEl = gd.closest('.output');\n",
       "if (outputEl) {{\n",
       "    x.observe(outputEl, {childList: true});\n",
       "}}\n",
       "\n",
       "                        })                };                });            </script>        </div>"
      ]
     },
     "metadata": {},
     "output_type": "display_data"
    }
   ],
   "source": [
    "fig = px.parallel_coordinates(df_ksi_props_encoded,\n",
    "                              color=\"KSI\",\n",
    "                              dimensions=\n",
    "                              ['Light_Conditions','Weather_Conditions',\n",
    "                               'Road_Surface_Conditions','KSI'\n",
    "                              ],\n",
    "                              color_continuous_scale=px.colors.diverging.Tealrose,\n",
    "                              color_continuous_midpoint=0.25)\n",
    "fig.show()"
   ]
  },
  {
   "cell_type": "code",
   "execution_count": null,
   "metadata": {},
   "outputs": [],
   "source": [
    "light_dict"
   ]
  },
  {
   "cell_type": "code",
   "execution_count": null,
   "metadata": {},
   "outputs": [],
   "source": [
    "df_ksi_props_encoded = ['KSI'].hist()"
   ]
  },
  {
   "cell_type": "code",
   "execution_count": null,
   "metadata": {},
   "outputs": [],
   "source": [
    "bins = [0.0, 0.1, 0.2, 0.3, 0.4, 0.5, 1]\n",
    "labels = ['0-0.1', '0.1-0.2', '0.2-0.3', '0.3-0.4','0.4-0.5','0.5+']\n",
    "df_ksi_props['KSI_binned'] = pd.cut(df_ksi_props['KSI'], bins, include_lowest=True, labels=labels)\n",
    "\n",
    "df_ksi_props.head()"
   ]
  },
  {
   "cell_type": "code",
   "execution_count": null,
   "metadata": {},
   "outputs": [],
   "source": [
    "fig = px.parallel_categories(df_ksi_props, dimensions=condition_cols + ['KSI_binned'],\n",
    "                             color=\"KSI\",\n",
    "                             color_continuous_scale=px.colors.sequential.Inferno,\n",
    "                             #labels={'sex':'Payer sex', 'smoker':'Smokers at the table', 'day':'Day of week'}\n",
    "                            )\n",
    "fig.show()"
   ]
  },
  {
   "cell_type": "code",
   "execution_count": null,
   "metadata": {},
   "outputs": [],
   "source": [
    "import plotly.graph_objects as go\n",
    "\n",
    "df = pd.read_csv(\"https://raw.githubusercontent.com/bcdunbar/datasets/master/parcoords_data.csv\")\n",
    "\n",
    "fig = go.Figure(data=\n",
    "    go.Parcoords(\n",
    "        line = dict(color = df['colorVal'],\n",
    "                   colorscale = 'Electric',\n",
    "                   showscale = True,\n",
    "                   cmin = -4000,\n",
    "                   cmax = -100),\n",
    "        dimensions = list([\n",
    "            dict(range = [32000,227900],\n",
    "                 constraintrange = [100000,150000],\n",
    "                 label = \"Block Height\", values = df['blockHeight']),\n",
    "            dict(range = [0,700000],\n",
    "                 label = 'Block Width', values = df['blockWidth']),\n",
    "            dict(tickvals = [0,0.5,1,2,3],\n",
    "                 ticktext = ['A','AB','B','Y','Z'],\n",
    "                 label = 'Cyclinder Material', values = df['cycMaterial']),\n",
    "            dict(range = [-1,4],\n",
    "                 tickvals = [0,1,2,3],\n",
    "                 label = 'Block Material', values = df['blockMaterial']),\n",
    "            dict(range = [134,3154],\n",
    "                 visible = True,\n",
    "                 label = 'Total Weight', values = df['totalWeight']),\n",
    "            dict(range = [9,19984],\n",
    "                 label = 'Assembly Penalty Wt', values = df['assemblyPW']),\n",
    "            dict(range = [49000,568000],\n",
    "                 label = 'Height st Width', values = df['HstW'])])\n",
    "    )\n",
    ")\n",
    "fig.show()"
   ]
  },
  {
   "cell_type": "code",
   "execution_count": null,
   "metadata": {},
   "outputs": [],
   "source": [
    "df"
   ]
  },
  {
   "cell_type": "markdown",
   "metadata": {},
   "source": [
    "## https://datavizcatalogue.com/methods/parallel_coordinates.html\n",
    "\n",
    "# https://towardsdatascience.com/parallel-coordinates-plots-6fcfa066dcb3\n",
    "\n",
    "https://dataforvisualization.com/charts/parallel-sets-plot/#:~:text=Definition,higher%20value%20of%20that%20category.\n",
    "\n",
    "Slhoutte metriccs?\n",
    "\n",
    "https://towardsdatascience.com/silhouette-coefficient-validating-clustering-techniques-e976bb81d10c#:~:text=Silhouette%20Coefficient%20or%20silhouette%20score%20is%20a%20metric%20used%20to,each%20other%20and%20clearly%20distinguished.&text=a%3D%20average%20intra%2Dcluster%20distance,each%20point%20within%20a%20cluster."
   ]
  },
  {
   "cell_type": "code",
   "execution_count": null,
   "metadata": {},
   "outputs": [],
   "source": [
    "df_ksi_props[df_ksi_props['KSI']>0.3]"
   ]
  },
  {
   "cell_type": "code",
   "execution_count": null,
   "metadata": {},
   "outputs": [],
   "source": [
    "sns.set(font_scale=0.9)\n",
    "df_light_weather = df_ksi_props[df_ksi_props['Road_Surface_Conditions'].isnull()].pivot(values='KSI',\n",
    "                   index='Light_Conditions',\n",
    "                   columns='Weather_Conditions')\n",
    "\n",
    "sns.heatmap(df_light_weather, annot=True, cmap=\"YlGnBu\", vmin=0, vmax=1);"
   ]
  },
  {
   "cell_type": "code",
   "execution_count": null,
   "metadata": {},
   "outputs": [],
   "source": [
    "df_light_surface = df_ksi_props[df_ksi_props['Weather_Conditions'].isnull()].pivot(values='KSI',\n",
    "                   index='Light_Conditions',\n",
    "                   columns='Road_Surface_Conditions')\n",
    "\n",
    "sns.heatmap(df_light_surface, annot=True, cmap=\"YlGnBu\", vmin=0, vmax=1);"
   ]
  },
  {
   "cell_type": "code",
   "execution_count": null,
   "metadata": {},
   "outputs": [],
   "source": [
    "df_weather_surface = df_ksi_props[df_ksi_props['Light_Conditions'].isnull()].pivot(values='KSI',\n",
    "                   index='Weather_Conditions',\n",
    "                   columns='Road_Surface_Conditions')\n",
    "\n",
    "sns.heatmap(df_weather_surface, annot=True, cmap=\"YlGnBu\", vmin=0, vmax=1);"
   ]
  },
  {
   "cell_type": "markdown",
   "metadata": {},
   "source": [
    "## 5. can we find the worst accident hot spot locations?"
   ]
  },
  {
   "cell_type": "code",
   "execution_count": null,
   "metadata": {},
   "outputs": [],
   "source": [
    "# Merge Coordinates to casualities\n",
    "casuality_cols = ['Accident_Index','Vehicle_Reference','Casualty_Reference','Casualty_Severity']\n",
    "coordinate_cols = ['Accident_Index','Location_Easting_OSGR', 'Location_Northing_OSGR', 'Longitude', 'Latitude']\n",
    "df_casualties_coords = df_casualties[casuality_cols].merge(df_accidents[coordinate_cols], on='Accident_Index', how='left')\n",
    "\n",
    "# Drop Slight Injuries\n",
    "print(len(df_casualties_coords))\n",
    "df_casualties_coords = df_casualties_coords[~(df_casualties_coords['Casualty_Severity']=='Slight')].copy()\n",
    "\n",
    "# Drop missing coordinates\n",
    "print(len(df_casualties_coords))\n",
    "df_casualties_coords = df_casualties_coords[~df_casualties_coords[['Location_Easting_OSGR','Location_Northing_OSGR']].isnull().any(axis=1)]\n",
    "\n",
    "# Convert DataFrame to array\n",
    "print(len(df_casualties_coords))\n",
    "casuality_array = df_casualties_coords.values\n",
    "\n",
    "# get the coordinates only\n",
    "X = np.array(casuality_array[:,4:6], dtype='int32')\n",
    "\n",
    "# Plot points for a visual checks\n",
    "sns.scatterplot(x=X[:,0], y=X[:,1])\n",
    "plt.axis('equal');"
   ]
  },
  {
   "cell_type": "markdown",
   "metadata": {},
   "source": [
    "### Set up DBSCAN\n",
    "Run multiple set of model fitting<br>\n",
    "for accidents with 500k points it took approx ~ 12 minutes<br>\n",
    "using only KSI (Killed and Seriously Injured Casuality), we have 131,355 points and it takes ~2min<br>"
   ]
  },
  {
   "cell_type": "code",
   "execution_count": null,
   "metadata": {},
   "outputs": [],
   "source": [
    "# get relative density accidents/sqm\n",
    "start_time=time()\n",
    "\n",
    "df_cluster_stats = pd.DataFrame(columns=['eps', 'min_samples', 'No of Clusters', 'Max No of accidents', 'Max No Cluster No', 'Max Width', 'Max Width Cluster No','silhouette_score','Location_Easting_OSGR', 'Location_Northing_OSGR', 'Longitude', 'Latitude'])\n",
    "cnt=0\n",
    "\n",
    "for eps in range(5,71,5):\n",
    "    for min_sample in range(5,101,1):\n",
    "                \n",
    "        # Run DBSCAN\n",
    "        db = DBSCAN(eps=eps, min_samples=min_sample, n_jobs=12).fit(X)\n",
    "        labels = db.labels_\n",
    "        no_clusters = len(np.unique(labels))\n",
    "        \n",
    "        # Check if we have no Clusters\n",
    "        if no_clusters==1:\n",
    "            next\n",
    "            \n",
    "        else:\n",
    "            # merge cluster labels back\n",
    "            \n",
    "            this_label_col_name = 'Cluster No:'+str(eps) + '-' + str(min_sample)\n",
    "            \n",
    "            df_casualties_coords[this_label_col_name] = labels\n",
    "            df_accidents_coords_cluster = df_casualties_coords[df_casualties_coords[this_label_col_name]>(-1)].copy()\n",
    "            \n",
    "            # Silhouette Score\n",
    "            # Silhouette\n",
    "            if no_clusters<=2:\n",
    "                silhouette_value = np.nan\n",
    "            else:\n",
    "                silhouette_value = silhouette_score(df_accidents_coords_cluster[['Location_Easting_OSGR', 'Location_Northing_OSGR']], df_accidents_coords_cluster[this_label_col_name])\n",
    "            \n",
    "            # Maximum number of accidents\n",
    "            max_acc = df_accidents_coords_cluster[this_label_col_name].value_counts()\n",
    "            max_acc_no = max_acc.max()\n",
    "            max_acc_cluster_no = max_acc.idxmax()    \n",
    "         \n",
    "            # Get the centroids of clusters\n",
    "            df_cluster_centroid = df_accidents_coords_cluster.groupby(by=[this_label_col_name])[['Location_Easting_OSGR', 'Location_Northing_OSGR', 'Longitude', 'Latitude']].mean()\n",
    "            coord_list = df_cluster_centroid.loc[max_acc_cluster_no, ['Location_Easting_OSGR','Location_Northing_OSGR','Longitude','Latitude']].tolist()\n",
    "            \n",
    "            # get distance between furthest points \n",
    "            xy_max = df_accidents_coords_cluster.groupby(by=[this_label_col_name])[['Location_Easting_OSGR','Location_Northing_OSGR']].max()\n",
    "            xy_min = df_accidents_coords_cluster.groupby(by=[this_label_col_name])[['Location_Easting_OSGR','Location_Northing_OSGR']].min()\n",
    "            xy_delta = ((xy_max - xy_min))**2\n",
    "\n",
    "            # Get the distance, increased by eps/2 to deal with nodes placed on top of each other\n",
    "            df_cluster_centroid['Width'] = np.sqrt(xy_delta.sum(axis=1))+eps/2\n",
    "\n",
    "            # Max distance and the cluster id \n",
    "            max_distance = df_cluster_centroid['Width'].max()\n",
    "            max_distance_no = df_cluster_centroid['Width'].idxmax()          \n",
    "        \n",
    "        # Populate output\n",
    "        df_cluster_stats.loc[cnt, :] = [eps, min_sample, no_clusters, max_acc_no, max_acc_cluster_no,max_distance,max_distance_no,silhouette_value] + coord_list\n",
    "\n",
    "        cnt+=1\n",
    "        \n",
    "elapsed_time = time() - start_time\n",
    "print('Clustering took: {:.2f} minutes'.format(elapsed_time/60))"
   ]
  },
  {
   "cell_type": "code",
   "execution_count": null,
   "metadata": {},
   "outputs": [],
   "source": [
    "df_cluster_stats_w_clusters = df_cluster_stats[df_cluster_stats['No of Clusters']>1]"
   ]
  },
  {
   "cell_type": "code",
   "execution_count": null,
   "metadata": {},
   "outputs": [],
   "source": [
    "df_cluster_stats_w_clusters.head()"
   ]
  },
  {
   "cell_type": "code",
   "execution_count": null,
   "metadata": {
    "scrolled": true
   },
   "outputs": [],
   "source": [
    "fig = px.line(df_cluster_stats_w_clusters,\n",
    "              x=\"Max Width\", y=\"No of Clusters\",\n",
    "              color=\"min_samples\",\n",
    "              line_group=\"min_samples\",\n",
    "              hover_name=\"min_samples\",\n",
    "             hover_data=['eps', 'min_samples', 'silhouette_score'])\n",
    "\n",
    "eps_consition = df_cluster_stats_w_clusters['eps']==20\n",
    "min_sample_cond = df_cluster_stats_w_clusters['min_samples']==7\n",
    "\n",
    "fig2 = px.scatter(df_cluster_stats_w_clusters.loc[eps_consition & min_sample_cond],\n",
    "                  x=\"Max Width\", y=\"No of Clusters\",\n",
    "                 hover_data=['eps', 'min_samples',\"Max Width\",\"No of Clusters\"])\n",
    "\n",
    "fig.add_trace(fig2.data[0])\n",
    "# fig.show()\n",
    "\n",
    "fig.show()"
   ]
  },
  {
   "cell_type": "code",
   "execution_count": null,
   "metadata": {},
   "outputs": [],
   "source": []
  },
  {
   "cell_type": "code",
   "execution_count": null,
   "metadata": {},
   "outputs": [],
   "source": [
    "selected_eps = 20\n",
    "selected_min_samples = 7\n",
    "\n",
    "label_col = 'Cluster No:'+str(selected_eps) + '-' + str(selected_min_samples)\n",
    "\n",
    "plotting_cols = ['Accident_Index', 'Vehicle_Reference', 'Casualty_Reference','Casualty_Severity', 'Location_Easting_OSGR', 'Location_Northing_OSGR',\n",
    "                 'Longitude', 'Latitude'] + [label_col]\n",
    "\n",
    "df_casualties_coords_plot = df_casualties_coords[plotting_cols].copy()\n",
    "df_casualties_coords_plot = df_casualties_coords_plot[df_casualties_coords_plot[label_col]>-1]\n",
    "\n",
    "# Add jitter to overlapping coordinates:\n",
    "xy_jitter = np.random.uniform(low=0.00001, high=0.0001, size=(len(df_casualties_coords_plot),2))\n",
    "\n",
    "df_casualties_coords_plot[['Longitude','Latitude']] = df_casualties_coords_plot[['Longitude','Latitude']] + xy_jitter\n",
    "\n",
    "print(len(df_casualties_coords_plot))\n",
    "df_casualties_coords_plot.head() "
   ]
  },
  {
   "cell_type": "code",
   "execution_count": null,
   "metadata": {
    "scrolled": true
   },
   "outputs": [],
   "source": [
    "# Accidents assigned to clusters\n",
    "fig = px.scatter_mapbox(df_casualties_coords_plot,\n",
    "                        lat=\"Latitude\", lon=\"Longitude\",\n",
    "                        hover_name=label_col,\n",
    "                        hover_data=[\"Casualty_Severity\"],\n",
    "                        color_discrete_sequence=[\"fuchsia\"],\n",
    "                        zoom=5,\n",
    "                        height=500)\n",
    "\n",
    "# Highest number of points\n",
    "\n",
    "# Widest spread\n",
    "\n",
    "fig.update_layout(mapbox_style=\"carto-positron\")\n",
    "fig.update_layout(margin={\"r\":0,\"t\":0,\"l\":0,\"b\":0})\n",
    "fig.show()"
   ]
  },
  {
   "cell_type": "code",
   "execution_count": null,
   "metadata": {},
   "outputs": [],
   "source": [
    "py.plot(fig, filename = 'Killed and Severly Injured Casuality Clusters', auto_open=True)"
   ]
  },
  {
   "cell_type": "markdown",
   "metadata": {},
   "source": [
    "### Most casualities"
   ]
  },
  {
   "cell_type": "code",
   "execution_count": null,
   "metadata": {},
   "outputs": [],
   "source": [
    "eps_condition = df_cluster_stats_w_clusters['eps']==selected_eps\n",
    "min_sample_condition = df_cluster_stats_w_clusters['min_samples']==selected_min_samples\n",
    "\n",
    "\n",
    "label_max = df_cluster_stats_w_clusters.loc[eps_condition & min_sample_condition, 'Max No of accidents'].values[0]"
   ]
  },
  {
   "cell_type": "code",
   "execution_count": null,
   "metadata": {},
   "outputs": [],
   "source": [
    "label_max"
   ]
  },
  {
   "cell_type": "code",
   "execution_count": null,
   "metadata": {},
   "outputs": [],
   "source": [
    "df_casualties_coords_plot[df_casualties_coords_plot[label_col] == label_max]"
   ]
  },
  {
   "cell_type": "code",
   "execution_count": null,
   "metadata": {},
   "outputs": [],
   "source": []
  },
  {
   "cell_type": "markdown",
   "metadata": {},
   "source": [
    "## Look at the location with highest point counts"
   ]
  },
  {
   "cell_type": "code",
   "execution_count": null,
   "metadata": {},
   "outputs": [],
   "source": [
    "db = DBSCAN(eps=50, min_samples=5, n_jobs=12).fit(X)\n",
    "labels = db.labels_\n",
    "df_casualties_coords['Cluster No'] = labels"
   ]
  },
  {
   "cell_type": "code",
   "execution_count": null,
   "metadata": {},
   "outputs": [],
   "source": [
    "df_accidents_to_check = df_casualties_coords[df_casualties_coords['Cluster No']==403]"
   ]
  },
  {
   "cell_type": "code",
   "execution_count": null,
   "metadata": {},
   "outputs": [],
   "source": [
    "df_accidents_to_check = df_accidents_to_check.merge(df_accidents[['Accident_Index','Latitude','Longitude']],\n",
    "                                                    on='Accident_Index', how='left')"
   ]
  },
  {
   "cell_type": "code",
   "execution_count": null,
   "metadata": {},
   "outputs": [],
   "source": [
    "df_accidents_to_check[['Location_Easting_OSGR', 'Location_Northing_OSGR']].mean()"
   ]
  },
  {
   "cell_type": "code",
   "execution_count": null,
   "metadata": {},
   "outputs": [],
   "source": [
    "fig = px.scatter_mapbox(df_accidents_to_check, lat=\"Latitude\", lon=\"Longitude\",\n",
    "                        hover_name=\"Cluster No\",\n",
    "                        hover_data=[\"Accident_Severity\", \"Number_of_Casualties\",'Year'],\n",
    "                        color_discrete_sequence=[\"fuchsia\"], zoom=5, height=300)\n",
    "fig.update_layout(mapbox_style=\"carto-positron\")\n",
    "fig.update_layout(margin={\"r\":0,\"t\":0,\"l\":0,\"b\":0})\n",
    "fig.show()"
   ]
  },
  {
   "cell_type": "markdown",
   "metadata": {},
   "source": [
    "## Look at the location with highest density"
   ]
  },
  {
   "cell_type": "code",
   "execution_count": null,
   "metadata": {},
   "outputs": [],
   "source": [
    "df_cluster_list.sort_values(by='Density',ascending=False).head()"
   ]
  },
  {
   "cell_type": "code",
   "execution_count": null,
   "metadata": {},
   "outputs": [],
   "source": [
    "db = DBSCAN(eps=5, min_samples=13, n_jobs=12).fit(X)\n",
    "labels = db.labels_\n",
    "df_casualties_coords['Cluster No'] = labels"
   ]
  },
  {
   "cell_type": "code",
   "execution_count": null,
   "metadata": {},
   "outputs": [],
   "source": [
    "df_accidents_to_check = df_casualties_coords[df_casualties_coords['Cluster No']==3].copy()\n",
    "\n",
    "df_accidents_to_check = df_accidents_to_check.merge(df_accidents[['Accident_Index','Latitude','Longitude']],\n",
    "                                                    on='Accident_Index', how='left')\n",
    "\n",
    "df_accidents_to_check[['Location_Easting_OSGR', 'Location_Northing_OSGR']].mean()"
   ]
  },
  {
   "cell_type": "code",
   "execution_count": null,
   "metadata": {},
   "outputs": [],
   "source": [
    "np.random.randn(3)/1000"
   ]
  },
  {
   "cell_type": "code",
   "execution_count": null,
   "metadata": {},
   "outputs": [],
   "source": [
    "jitter_x = np.random.rand(len(df_accidents_to_check))/1000\n",
    "jitter_y = np.random.rand(len(df_accidents_to_check))/1000\n",
    "\n",
    "df_accidents_to_check[\"Latitude_x\"] = df_accidents_to_check[\"Latitude_x\"]+jitter_x\n",
    "df_accidents_to_check[\"Longitude_x\"] = df_accidents_to_check[\"Longitude_x\"]+jitter_y"
   ]
  },
  {
   "cell_type": "code",
   "execution_count": null,
   "metadata": {},
   "outputs": [],
   "source": [
    "fig = px.scatter_mapbox(df_accidents_to_check, lat=\"Latitude_x\", lon=\"Longitude_x\",\n",
    "                        hover_name=\"Cluster No\",\n",
    "                        hover_data=[\"Accident_Severity\", \"Number_of_Casualties\",'Year'],\n",
    "                        color_discrete_sequence=[\"fuchsia\"], zoom=5, height=300)\n",
    "fig.update_layout(mapbox_style=\"carto-positron\")\n",
    "fig.update_layout(margin={\"r\":0,\"t\":0,\"l\":0,\"b\":0})\n",
    "fig.show()"
   ]
  },
  {
   "cell_type": "code",
   "execution_count": null,
   "metadata": {},
   "outputs": [],
   "source": []
  },
  {
   "cell_type": "markdown",
   "metadata": {},
   "source": [
    "df_accident_clusters.head()"
   ]
  },
  {
   "cell_type": "markdown",
   "metadata": {},
   "source": [
    "## Try KDE"
   ]
  },
  {
   "cell_type": "code",
   "execution_count": null,
   "metadata": {},
   "outputs": [],
   "source": [
    "# KDTRee\n",
    "accident_tree = KDTree(accident_array[:,1:3])\n",
    "\n",
    "rank_cols = []\n",
    "\n",
    "for dist in range(50,215,15):\n",
    "    df_accidents_coords_complete.loc[:,'Neighbour ' + str(dist)+ 'm'] = accident_tree.query_radius(accident_array[:,1:3],\n",
    "                                                                                   r=dist,\n",
    "                                                                                   count_only=True)\n",
    "    \n",
    "    df_accidents_coords_complete.loc[:,'Neighbour ' + str(dist) + 'm rank'] = df_accidents_coords_complete.loc[:,'Neighbour ' + str(dist)+ 'm'].rank(ascending=False)\n",
    "    \n",
    "    rank_cols.append('Neighbour ' + str(dist) + 'm rank')\n",
    "#     df_accidents_coords_complete.sort_values(by='NeighbourNO', ascending=False).reset_index()[:20]"
   ]
  },
  {
   "cell_type": "code",
   "execution_count": null,
   "metadata": {},
   "outputs": [],
   "source": [
    "df_accidents_coords_complete['Av Rank'] = df_accidents_coords_complete[rank_cols].mean(axis=1)"
   ]
  },
  {
   "cell_type": "code",
   "execution_count": null,
   "metadata": {},
   "outputs": [],
   "source": [
    "df_accidents_coords_complete.sort_values(by=['Av Rank'], ascending=True).head()"
   ]
  },
  {
   "cell_type": "markdown",
   "metadata": {},
   "source": [
    "## Try Optics"
   ]
  },
  {
   "cell_type": "code",
   "execution_count": null,
   "metadata": {},
   "outputs": [],
   "source": []
  },
  {
   "cell_type": "code",
   "execution_count": null,
   "metadata": {},
   "outputs": [],
   "source": [
    "start_time = time()\n",
    "optics_clustering = OPTICS(min_samples=40, max_eps=25, metric='euclidean', n_jobs=8).fit(X)\n",
    "\n",
    "end_time = time()\n",
    "print((end_time-start_time))"
   ]
  },
  {
   "cell_type": "code",
   "execution_count": null,
   "metadata": {},
   "outputs": [],
   "source": [
    "optics_labels = optics_clustering.labels_\n",
    "print(len(np.unique(optics_labels)))\n",
    "\n",
    "df_accidents_coords_complete['OPTICS Cluster No'] = optics_labels\n",
    "\n",
    "df_accidents = df_accidents.merge(df_accidents_coords_complete[['Accident_Index', 'OPTICS Cluster No']],\n",
    "                                  left_on='Accident_Index', right_on='Accident_Index', how='left')"
   ]
  },
  {
   "cell_type": "code",
   "execution_count": null,
   "metadata": {},
   "outputs": [],
   "source": [
    "df_accidents.head()"
   ]
  },
  {
   "cell_type": "code",
   "execution_count": null,
   "metadata": {},
   "outputs": [],
   "source": [
    "df_accident_clusters = df_accidents[df_accidents['OPTICS Cluster No_y']>-1].copy()\n",
    "len(df_accident_clusters)"
   ]
  },
  {
   "cell_type": "code",
   "execution_count": null,
   "metadata": {},
   "outputs": [],
   "source": [
    "fig = px.scatter_mapbox(df_accident_clusters, lat=\"Latitude\", lon=\"Longitude\",\n",
    "                        hover_name='OPTICS Cluster No_y', hover_data=[\"Accident_Severity\", \"Number_of_Casualties\"],\n",
    "                        color_discrete_sequence=[\"fuchsia\"], zoom=5, height=300)\n",
    "fig.update_layout(mapbox_style=\"open-street-map\")\n",
    "fig.update_layout(margin={\"r\":0,\"t\":0,\"l\":0,\"b\":0})\n",
    "fig.show()"
   ]
  },
  {
   "cell_type": "markdown",
   "metadata": {},
   "source": [
    "## Can we estimate the number of casualities and respective severity?\n",
    "\n",
    "A witness would know:\n",
    "- Location\n",
    "- type of Vehicles\n",
    "- Date/time\n",
    "- Surface conditions\n",
    "\n",
    "Out of those what would be relevant?\n",
    "\n",
    "What are we trying to estimate?\n",
    "<br>\n",
    "number of casualities with severity?\n",
    "get a single estimation with a vector of 3 elements: number of slight, serious, fatal\n",
    " - Multivariate Linear Regression\n",
    " - ## Let's use ANN\n",
    "\n",
    "- Veh Leaving Carriageway\n",
    "\n",
    "<br>get a model for each vehicle?"
   ]
  },
  {
   "cell_type": "code",
   "execution_count": null,
   "metadata": {},
   "outputs": [],
   "source": [
    "accident_features = ['Accident_Index','Road_Type','Speed_limit','Junction_Detail','Junction_Control',\n",
    "                     'Light_Conditions','Weather_Conditions','Road_Surface_Conditions','Urban_or_Rural_Area']\n",
    "\n",
    "vehicle_features = ['Vehicle_Type']\n",
    "# Veh Leaving Carriageway"
   ]
  },
  {
   "cell_type": "code",
   "execution_count": null,
   "metadata": {},
   "outputs": [],
   "source": [
    "df_vehicle_classes = df_vehicles.groupby(['Accident_Index','Vehicle_Type']).size().unstack(fill_value=0)\n",
    "print(len(df_vehicle_classes))"
   ]
  },
  {
   "cell_type": "code",
   "execution_count": null,
   "metadata": {},
   "outputs": [],
   "source": [
    "casaualty_severity = df_casualties.groupby(['Accident_Index','Casualty_Severity']).size().unstack(fill_value=0)\n",
    "casaualty_severity.rename(columns={1: \"Fatal\", 2: \"Serious\", 3: \"Slight\"}, inplace=True)\n",
    "casaualty_severity.head()"
   ]
  },
  {
   "cell_type": "code",
   "execution_count": null,
   "metadata": {},
   "outputs": [],
   "source": [
    "print(len(df_accidents[accident_features]))\n",
    "df_accidents_s1 = df_accidents[accident_features].merge(df_vehicle_classes, on=\"Accident_Index\")\n",
    "df_accidents_s2 = df_accidents_s1.merge(casaualty_severity, on=\"Accident_Index\")"
   ]
  },
  {
   "cell_type": "code",
   "execution_count": null,
   "metadata": {},
   "outputs": [],
   "source": [
    "# simply drop NA\n",
    "df_accidents_s3 = df_accidents_s2.drop(df_accidents_s2[df_accidents_s2.isnull().any(1)].index)\n",
    "\n",
    "# simply drop negatives:\n",
    "value_cols = ['Road_Type', 'Speed_limit', 'Junction_Detail', 'Junction_Control', 'Light_Conditions', 'Weather_Conditions', 'Road_Surface_Conditions',\n",
    " 'Urban_or_Rural_Area', -1, 1, 2, 3, 4, 5, 8, 9, 10, 11, 16, 17, 18, 19, 20, 21, 22, 23, 90, 97, 98, 'Fatal',\n",
    " 'Serious', 'Slight']\n",
    "\n",
    "df_accidents_s3.loc[df_accidents_s3['Junction_Control']==-1, 'Junction_Control'] = 5\n",
    "df_accidents_s3.loc[df_accidents_s3['Junction_Detail']==-1, 'Junction_Detail'] = 10\n",
    "df_accidents_s3.loc[df_accidents_s3['Road_Surface_Conditions']==-1, 'Road_Surface_Conditions'] = 8\n",
    "\n",
    "df_accidents_s3.loc[df_accidents_s3['Light_Conditions']==-1, 'Light_Conditions'] = 8\n",
    "df_accidents_s3.loc[df_accidents_s3['Weather_Conditions']==-1, 'Weather_Conditions'] = 9\n",
    "\n",
    "df_accidents_s3.loc[df_accidents_s3['Road_Type']==-1, 'Road_Type'] = 9\n",
    "df_accidents_s3.loc[df_accidents_s3['Urban_or_Rural_Area']==-1, 'Urban_or_Rural_Area'] = 3"
   ]
  },
  {
   "cell_type": "code",
   "execution_count": null,
   "metadata": {},
   "outputs": [],
   "source": [
    "df_accidents_s3[(df_accidents_s3[value_cols] < 0).any(1)]"
   ]
  },
  {
   "cell_type": "code",
   "execution_count": null,
   "metadata": {},
   "outputs": [],
   "source": [
    "x_cont_cols = ['Speed_limit', -1, 1, 2, 3, 4, 5, 8, 9, 10, 11, 16, 17, 18, 19, 20, 21, 22, 23, 90, 97, 98]\n",
    "\n",
    "x_cat_cols = ['Road_Type', 'Junction_Detail', 'Junction_Control', 'Light_Conditions',\n",
    "              'Weather_Conditions', 'Road_Surface_Conditions', 'Urban_or_Rural_Area']\n",
    "\n",
    "label_cols = ['Fatal', 'Serious', 'Slight']"
   ]
  },
  {
   "cell_type": "code",
   "execution_count": null,
   "metadata": {},
   "outputs": [],
   "source": [
    "X = torch.tensor(df_accidents_s3[x_cont_cols + x_cat_cols].values, dtype=torch.float)\n",
    "x_cont = torch.tensor(df_accidents_s3[x_cont_cols].values, dtype=torch.float)\n",
    "\n",
    "df_accidents_s3[x_cat_cols] = df_accidents_s3[x_cat_cols].astype(\"category\")\n",
    "x_cat = torch.tensor( np.stack( [df_accidents_s3[col].cat.codes.values for col in x_cat_cols], axis=1), dtype=torch.int)"
   ]
  },
  {
   "cell_type": "code",
   "execution_count": null,
   "metadata": {},
   "outputs": [],
   "source": [
    "x_cat.shape"
   ]
  },
  {
   "cell_type": "code",
   "execution_count": null,
   "metadata": {},
   "outputs": [],
   "source": [
    "y = torch.tensor(df_accidents_s3[label_cols].values, dtype=torch.float)"
   ]
  },
  {
   "cell_type": "markdown",
   "metadata": {},
   "source": [
    "## Train test split"
   ]
  },
  {
   "cell_type": "markdown",
   "metadata": {},
   "source": [
    "<div class=\"alert alert-block alert-danger\">\n",
    "<b>Danger:</b> \n",
    "\n",
    "ADD SHUFFLING\n",
    "\n",
    "\n",
    "</div>"
   ]
  },
  {
   "cell_type": "code",
   "execution_count": null,
   "metadata": {},
   "outputs": [],
   "source": [
    "cat_train = x_cat[:batch_size-test_size]\n",
    "cat_test = x_cat[batch_size-test_size:batch_size]\n",
    "con_train = x_cont[:batch_size-test_size]\n",
    "con_test = x_cont[batch_size-test_size:batch_size]"
   ]
  },
  {
   "cell_type": "code",
   "execution_count": null,
   "metadata": {},
   "outputs": [],
   "source": [
    "y_train = y[:batch_size-test_size]\n",
    "y_test = y[batch_size-test_size:batch_size]"
   ]
  },
  {
   "cell_type": "markdown",
   "metadata": {},
   "source": [
    "### Setting up Model"
   ]
  },
  {
   "cell_type": "code",
   "execution_count": null,
   "metadata": {},
   "outputs": [],
   "source": [
    "class RegressionModel(nn.Module):\n",
    "    \n",
    "    def __init__(self, emb_szs, n_cont, out_sz, layers, p=0.35):\n",
    "        \n",
    "        super().__init__()\n",
    "        \n",
    "        # Embedding\n",
    "        self.embeds = nn.ModuleList([nn.Embedding(ni, nf) for ni,nf in emb_szs])\n",
    "        \n",
    "        # Dropout layer\n",
    "        self.emb_drop = nn.Dropout(p)\n",
    "        \n",
    "        # normalise the continous data\n",
    "        self.bn_cont = nn.BatchNorm1d(n_cont)\n",
    "        \n",
    "        layerlist = []\n",
    "        n_emb = sum([nf for ni,nf in emb_szs])\n",
    "        n_in = n_emb + n_cont\n",
    "        \n",
    "        # Create list of fully connected layers\n",
    "        for i in layers:\n",
    "            layerlist.append(nn.Linear(n_in,i))\n",
    "            layerlist.append(nn.ReLU(inplace=True))\n",
    "            layerlist.append(nn.BatchNorm1d(i))\n",
    "            layerlist.append(nn.Dropout(p))\n",
    "            n_in = i\n",
    "        \n",
    "        # fully connected layer\n",
    "        layerlist.append(nn.Linear(layers[-1], out_sz))\n",
    "        \n",
    "        \n",
    "        self.layers = nn.Sequential(*layerlist)\n",
    "        \n",
    "        \n",
    "    def forward(self, x_cat, x_cont):\n",
    "        \n",
    "        embeddings = []\n",
    "                \n",
    "        for i,e in enumerate(self.embeds):\n",
    "            embeddings.append(e(x_cat[:,i]))\n",
    "        # Concatenate individial vectors of categorical columns from embeddings    \n",
    "        x = torch.cat(embeddings, 1)\n",
    "        # Apply dropout\n",
    "        x = self.emb_drop(x)\n",
    "        \n",
    "        # Normalise continous data\n",
    "        x_cont = self.bn_cont(x_cont)\n",
    "        \n",
    "        # Concatenate categorical and continous columns\n",
    "        x = torch.cat([x,x_cont],1)\n",
    "        # Pass through tensor the fully connected layers\n",
    "        x = self.layers(x)\n",
    "        \n",
    "        return x"
   ]
  },
  {
   "cell_type": "code",
   "execution_count": null,
   "metadata": {},
   "outputs": [],
   "source": [
    "torch.manual_seed(42)\n",
    "model = RegressionModel(emb_szs, len(x_cont_cols), 3, [200,100,60], p=0.4)\n",
    "\n",
    "criterion = nn.MSELoss() # np.sqrt(MSE) --> RMS\n",
    "\n",
    "optimiser = torch.optim.Adam(model.parameters(), lr=0.001)\n",
    "batch_size = 60000\n",
    "test_size = int(batch_size * 0.2)"
   ]
  },
  {
   "cell_type": "code",
   "execution_count": null,
   "metadata": {},
   "outputs": [],
   "source": [
    "start_time = time()\n",
    "\n",
    "epochs = 300\n",
    "\n",
    "losses = []\n",
    "\n",
    "for i in range(epochs):\n",
    "    i+=1\n",
    "    \n",
    "    y_pred = model(cat_train,con_train)\n",
    "    y_pred = torch.round(y_pred)\n",
    "    loss = torch.sqrt(criterion(y_pred, y_train))\n",
    "    \n",
    "    losses.append(loss)\n",
    "    \n",
    "    if i%10 == 1:\n",
    "        print(f'epoch: {i} loss is {loss}')\n",
    "        \n",
    "    optimiser.zero_grad()\n",
    "    loss.backward()\n",
    "    optimiser.step()\n",
    "    \n",
    "end_time = time()\n",
    "duration = end_time - start_time\n",
    "print(f'Traning took {duration/60} minutes')"
   ]
  },
  {
   "cell_type": "code",
   "execution_count": null,
   "metadata": {},
   "outputs": [],
   "source": [
    "torch.round(y_pred)"
   ]
  },
  {
   "cell_type": "code",
   "execution_count": null,
   "metadata": {},
   "outputs": [],
   "source": [
    "plt.plot(range(epochs), losses)"
   ]
  },
  {
   "cell_type": "code",
   "execution_count": null,
   "metadata": {},
   "outputs": [],
   "source": [
    "with torch.no_grad():\n",
    "    \n",
    "    y_val = model(cat_test,con_test)\n",
    "    \n",
    "    loss = torch.sqrt(criterion(y_val, y_test))"
   ]
  },
  {
   "cell_type": "code",
   "execution_count": null,
   "metadata": {},
   "outputs": [],
   "source": [
    "loss"
   ]
  },
  {
   "cell_type": "code",
   "execution_count": null,
   "metadata": {},
   "outputs": [],
   "source": [
    "for i in range(10):\n",
    "    \n",
    "    print(f'{i}.) Predicted: {y_val[i]} TRUE: {y_test[i]}')"
   ]
  },
  {
   "cell_type": "code",
   "execution_count": null,
   "metadata": {},
   "outputs": [],
   "source": []
  }
 ],
 "metadata": {
  "kernelspec": {
   "display_name": "Python 3",
   "language": "python",
   "name": "python3"
  },
  "language_info": {
   "codemirror_mode": {
    "name": "ipython",
    "version": 3
   },
   "file_extension": ".py",
   "mimetype": "text/x-python",
   "name": "python",
   "nbconvert_exporter": "python",
   "pygments_lexer": "ipython3",
   "version": "3.8.2"
  }
 },
 "nbformat": 4,
 "nbformat_minor": 4
}
