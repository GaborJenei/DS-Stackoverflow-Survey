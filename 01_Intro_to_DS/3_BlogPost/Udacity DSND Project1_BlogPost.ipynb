{
 "cells": [
  {
   "cell_type": "markdown",
   "metadata": {},
   "source": [
    "# Crash look at UK road traffic accident data"
   ]
  },
  {
   "cell_type": "code",
   "execution_count": 1,
   "metadata": {},
   "outputs": [],
   "source": [
    "# Imports\n",
    "# Data Processing\n",
    "from time import time\n",
    "import numpy as np\n",
    "import pandas as pd\n",
    "\n",
    "# Modelling\n",
    "from sklearn.neighbors import KDTree, NearestNeighbors\n",
    "from sklearn.cluster import DBSCAN, OPTICS\n",
    "from sklearn import metrics\n",
    "from sklearn.preprocessing import StandardScaler\n",
    "\n",
    "import torch\n",
    "import torch.nn as nn\n",
    "\n",
    "# Visualisation Packages\n",
    "import matplotlib.pyplot as plt\n",
    "import matplotlib\n",
    "import seaborn as sns\n",
    "import plotly.express as px"
   ]
  },
  {
   "cell_type": "markdown",
   "metadata": {},
   "source": [
    "## Read up the data"
   ]
  },
  {
   "cell_type": "code",
   "execution_count": 2,
   "metadata": {},
   "outputs": [],
   "source": [
    "# Read up accidents\n",
    "accidents_2019 = pd.read_csv(r\"http://data.dft.gov.uk/road-accidents-safety-data/DfTRoadSafety_Accidents_2019.zip\",low_memory=False, compression='zip')\n",
    "accidents_2018 = pd.read_csv(r\"http://data.dft.gov.uk/road-accidents-safety-data/dftRoadSafetyData_Accidents_2018.csv\",low_memory=False)\n",
    "accidents_2017 = pd.read_csv(r\"http://data.dft.gov.uk.s3.amazonaws.com/road-accidents-safety-data/dftRoadSafetyData_Accidents_2017.zip\",low_memory=False, compression='zip')\n",
    "accidents_2016 = pd.read_csv(r\"http://data.dft.gov.uk/road-accidents-safety-data/dftRoadSafety_Accidents_2016.zip\",low_memory=False, compression='zip')\n",
    "accidents_2015 = pd.read_csv(r\"http://data.dft.gov.uk/road-accidents-safety-data/RoadSafetyData_Accidents_2015.zip\",low_memory=False, compression='zip')\n",
    "accidents_2014 = pd.read_csv(r\"http://data.dft.gov.uk/road-accidents-safety-data/DfTRoadSafety_Accidents_2014.zip\",low_memory=False)\n",
    "\n",
    "# Read up casualties\n",
    "casualties_2019 = pd.read_csv(r\"http://data.dft.gov.uk/road-accidents-safety-data/DfTRoadSafety_Casualties_2019.zip\",low_memory=False, compression='zip')\n",
    "casualties_2018 = pd.read_csv(r\"http://data.dft.gov.uk/road-accidents-safety-data/dftRoadSafetyData_Casualties_2018.csv\",low_memory=False)\n",
    "casualties_2017 = pd.read_csv(r\"http://data.dft.gov.uk.s3.amazonaws.com/road-accidents-safety-data/dftRoadSafetyData_Casualties_2017.zip\",low_memory=False, compression='zip')\n",
    "casualties_2016 = pd.read_csv(r\"http://data.dft.gov.uk/road-accidents-safety-data/dftRoadSafetyData_Casualties_2016.zip\",low_memory=False, compression='zip')\n",
    "casualties_2015 = pd.read_csv(r\"http://data.dft.gov.uk/road-accidents-safety-data/RoadSafetyData_Casualties_2015.zip\",low_memory=False, compression='zip')\n",
    "casualties_2014 = pd.read_csv(r\"http://data.dft.gov.uk/road-accidents-safety-data/DfTRoadSafety_Casualties_2014.zip\",low_memory=False, compression='zip')\n",
    "\n",
    "# Read up vehicles\n",
    "vehicles_2019 = pd.read_csv(r\"http://data.dft.gov.uk/road-accidents-safety-data/DfTRoadSafety_Vehicles_2019.zip\",low_memory=False, compression='zip')\n",
    "vehicles_2018 = pd.read_csv(r\"http://data.dft.gov.uk/road-accidents-safety-data/dftRoadSafetyData_Vehicles_2018.csv\",low_memory=False)\n",
    "vehicles_2017 = pd.read_csv(r\"http://data.dft.gov.uk.s3.amazonaws.com/road-accidents-safety-data/dftRoadSafetyData_Vehicles_2017.zip\",low_memory=False, compression='zip')\n",
    "vehicles_2016 = pd.read_csv(r\"http://data.dft.gov.uk/road-accidents-safety-data/dftRoadSafetyData_Vehicles_2016.zip\",low_memory=False, compression='zip')\n",
    "vehicles_2015 = pd.read_csv(r\"http://data.dft.gov.uk/road-accidents-safety-data/RoadSafetyData_Vehicles_2015.zip\",low_memory=False, compression='zip')\n",
    "vehicles_2014 = pd.read_csv(r\"http://data.dft.gov.uk/road-accidents-safety-data/DfTRoadSafety_Vehicles_2014.zip\",low_memory=False, compression='zip')"
   ]
  },
  {
   "cell_type": "code",
   "execution_count": 27,
   "metadata": {},
   "outputs": [],
   "source": [
    "# Create a single dataframe\n",
    "df_accidents = accidents_2019.append([accidents_2018, accidents_2017, accidents_2016, accidents_2015], sort=False)\n",
    "df_vehicles = vehicles_2019.append([vehicles_2018, vehicles_2017, vehicles_2016, vehicles_2015], sort=False)\n",
    "df_casualties = casualties_2019.append([casualties_2018, casualties_2017, casualties_2016, casualties_2015], sort=False)"
   ]
  },
  {
   "cell_type": "code",
   "execution_count": 28,
   "metadata": {},
   "outputs": [
    {
     "name": "stdout",
     "output_type": "stream",
     "text": [
      "646830\n"
     ]
    },
    {
     "data": {
      "text/html": [
       "<div>\n",
       "<style scoped>\n",
       "    .dataframe tbody tr th:only-of-type {\n",
       "        vertical-align: middle;\n",
       "    }\n",
       "\n",
       "    .dataframe tbody tr th {\n",
       "        vertical-align: top;\n",
       "    }\n",
       "\n",
       "    .dataframe thead th {\n",
       "        text-align: right;\n",
       "    }\n",
       "</style>\n",
       "<table border=\"1\" class=\"dataframe\">\n",
       "  <thead>\n",
       "    <tr style=\"text-align: right;\">\n",
       "      <th></th>\n",
       "      <th>Accident_Index</th>\n",
       "      <th>Location_Easting_OSGR</th>\n",
       "      <th>Location_Northing_OSGR</th>\n",
       "      <th>Longitude</th>\n",
       "      <th>Latitude</th>\n",
       "      <th>Police_Force</th>\n",
       "      <th>Accident_Severity</th>\n",
       "      <th>Number_of_Vehicles</th>\n",
       "      <th>Number_of_Casualties</th>\n",
       "      <th>Date</th>\n",
       "      <th>...</th>\n",
       "      <th>Pedestrian_Crossing-Human_Control</th>\n",
       "      <th>Pedestrian_Crossing-Physical_Facilities</th>\n",
       "      <th>Light_Conditions</th>\n",
       "      <th>Weather_Conditions</th>\n",
       "      <th>Road_Surface_Conditions</th>\n",
       "      <th>Special_Conditions_at_Site</th>\n",
       "      <th>Carriageway_Hazards</th>\n",
       "      <th>Urban_or_Rural_Area</th>\n",
       "      <th>Did_Police_Officer_Attend_Scene_of_Accident</th>\n",
       "      <th>LSOA_of_Accident_Location</th>\n",
       "    </tr>\n",
       "  </thead>\n",
       "  <tbody>\n",
       "    <tr>\n",
       "      <th>0</th>\n",
       "      <td>2019010128300</td>\n",
       "      <td>528218.0</td>\n",
       "      <td>180407.0</td>\n",
       "      <td>-0.153842</td>\n",
       "      <td>51.508057</td>\n",
       "      <td>1</td>\n",
       "      <td>3</td>\n",
       "      <td>2</td>\n",
       "      <td>3</td>\n",
       "      <td>18/02/2019</td>\n",
       "      <td>...</td>\n",
       "      <td>0</td>\n",
       "      <td>5</td>\n",
       "      <td>1</td>\n",
       "      <td>1</td>\n",
       "      <td>1</td>\n",
       "      <td>0</td>\n",
       "      <td>0</td>\n",
       "      <td>1</td>\n",
       "      <td>3</td>\n",
       "      <td>E01004762</td>\n",
       "    </tr>\n",
       "    <tr>\n",
       "      <th>1</th>\n",
       "      <td>2019010152270</td>\n",
       "      <td>530219.0</td>\n",
       "      <td>172463.0</td>\n",
       "      <td>-0.127949</td>\n",
       "      <td>51.436208</td>\n",
       "      <td>1</td>\n",
       "      <td>3</td>\n",
       "      <td>2</td>\n",
       "      <td>1</td>\n",
       "      <td>15/01/2019</td>\n",
       "      <td>...</td>\n",
       "      <td>-1</td>\n",
       "      <td>-1</td>\n",
       "      <td>4</td>\n",
       "      <td>1</td>\n",
       "      <td>1</td>\n",
       "      <td>0</td>\n",
       "      <td>0</td>\n",
       "      <td>1</td>\n",
       "      <td>3</td>\n",
       "      <td>E01003117</td>\n",
       "    </tr>\n",
       "    <tr>\n",
       "      <th>2</th>\n",
       "      <td>2019010155191</td>\n",
       "      <td>530222.0</td>\n",
       "      <td>182543.0</td>\n",
       "      <td>-0.124193</td>\n",
       "      <td>51.526795</td>\n",
       "      <td>1</td>\n",
       "      <td>3</td>\n",
       "      <td>2</td>\n",
       "      <td>1</td>\n",
       "      <td>01/01/2019</td>\n",
       "      <td>...</td>\n",
       "      <td>0</td>\n",
       "      <td>0</td>\n",
       "      <td>4</td>\n",
       "      <td>1</td>\n",
       "      <td>1</td>\n",
       "      <td>0</td>\n",
       "      <td>0</td>\n",
       "      <td>1</td>\n",
       "      <td>1</td>\n",
       "      <td>E01000943</td>\n",
       "    </tr>\n",
       "  </tbody>\n",
       "</table>\n",
       "<p>3 rows × 32 columns</p>\n",
       "</div>"
      ],
      "text/plain": [
       "  Accident_Index  Location_Easting_OSGR  Location_Northing_OSGR  Longitude  \\\n",
       "0  2019010128300               528218.0                180407.0  -0.153842   \n",
       "1  2019010152270               530219.0                172463.0  -0.127949   \n",
       "2  2019010155191               530222.0                182543.0  -0.124193   \n",
       "\n",
       "    Latitude  Police_Force  Accident_Severity  Number_of_Vehicles  \\\n",
       "0  51.508057             1                  3                   2   \n",
       "1  51.436208             1                  3                   2   \n",
       "2  51.526795             1                  3                   2   \n",
       "\n",
       "   Number_of_Casualties        Date  ...  Pedestrian_Crossing-Human_Control  \\\n",
       "0                     3  18/02/2019  ...                                  0   \n",
       "1                     1  15/01/2019  ...                                 -1   \n",
       "2                     1  01/01/2019  ...                                  0   \n",
       "\n",
       "  Pedestrian_Crossing-Physical_Facilities  Light_Conditions  \\\n",
       "0                                       5                 1   \n",
       "1                                      -1                 4   \n",
       "2                                       0                 4   \n",
       "\n",
       "  Weather_Conditions  Road_Surface_Conditions  Special_Conditions_at_Site  \\\n",
       "0                  1                        1                           0   \n",
       "1                  1                        1                           0   \n",
       "2                  1                        1                           0   \n",
       "\n",
       "   Carriageway_Hazards  Urban_or_Rural_Area  \\\n",
       "0                    0                    1   \n",
       "1                    0                    1   \n",
       "2                    0                    1   \n",
       "\n",
       "   Did_Police_Officer_Attend_Scene_of_Accident  LSOA_of_Accident_Location  \n",
       "0                                            3                  E01004762  \n",
       "1                                            3                  E01003117  \n",
       "2                                            1                  E01000943  \n",
       "\n",
       "[3 rows x 32 columns]"
      ]
     },
     "execution_count": 28,
     "metadata": {},
     "output_type": "execute_result"
    }
   ],
   "source": [
    "print(len(df_accidents))\n",
    "df_accidents.head(3)"
   ]
  },
  {
   "cell_type": "code",
   "execution_count": 30,
   "metadata": {},
   "outputs": [
    {
     "name": "stdout",
     "output_type": "stream",
     "text": [
      "1192061\n"
     ]
    },
    {
     "data": {
      "text/html": [
       "<div>\n",
       "<style scoped>\n",
       "    .dataframe tbody tr th:only-of-type {\n",
       "        vertical-align: middle;\n",
       "    }\n",
       "\n",
       "    .dataframe tbody tr th {\n",
       "        vertical-align: top;\n",
       "    }\n",
       "\n",
       "    .dataframe thead th {\n",
       "        text-align: right;\n",
       "    }\n",
       "</style>\n",
       "<table border=\"1\" class=\"dataframe\">\n",
       "  <thead>\n",
       "    <tr style=\"text-align: right;\">\n",
       "      <th></th>\n",
       "      <th>Accident_Index</th>\n",
       "      <th>Vehicle_Reference</th>\n",
       "      <th>Vehicle_Type</th>\n",
       "      <th>Towing_and_Articulation</th>\n",
       "      <th>Vehicle_Manoeuvre</th>\n",
       "      <th>Vehicle_Location-Restricted_Lane</th>\n",
       "      <th>Junction_Location</th>\n",
       "      <th>Skidding_and_Overturning</th>\n",
       "      <th>Hit_Object_in_Carriageway</th>\n",
       "      <th>Vehicle_Leaving_Carriageway</th>\n",
       "      <th>...</th>\n",
       "      <th>Journey_Purpose_of_Driver</th>\n",
       "      <th>Sex_of_Driver</th>\n",
       "      <th>Age_of_Driver</th>\n",
       "      <th>Age_Band_of_Driver</th>\n",
       "      <th>Engine_Capacity_(CC)</th>\n",
       "      <th>Propulsion_Code</th>\n",
       "      <th>Age_of_Vehicle</th>\n",
       "      <th>Driver_IMD_Decile</th>\n",
       "      <th>Driver_Home_Area_Type</th>\n",
       "      <th>Vehicle_IMD_Decile</th>\n",
       "    </tr>\n",
       "  </thead>\n",
       "  <tbody>\n",
       "    <tr>\n",
       "      <th>0</th>\n",
       "      <td>2019010128300</td>\n",
       "      <td>1</td>\n",
       "      <td>9</td>\n",
       "      <td>0</td>\n",
       "      <td>-1</td>\n",
       "      <td>-1</td>\n",
       "      <td>-1</td>\n",
       "      <td>-1</td>\n",
       "      <td>-1</td>\n",
       "      <td>-1</td>\n",
       "      <td>...</td>\n",
       "      <td>6</td>\n",
       "      <td>1</td>\n",
       "      <td>58</td>\n",
       "      <td>9</td>\n",
       "      <td>-1</td>\n",
       "      <td>-1</td>\n",
       "      <td>-1</td>\n",
       "      <td>2</td>\n",
       "      <td>1</td>\n",
       "      <td>2</td>\n",
       "    </tr>\n",
       "    <tr>\n",
       "      <th>1</th>\n",
       "      <td>2019010128300</td>\n",
       "      <td>2</td>\n",
       "      <td>9</td>\n",
       "      <td>0</td>\n",
       "      <td>-1</td>\n",
       "      <td>-1</td>\n",
       "      <td>-1</td>\n",
       "      <td>-1</td>\n",
       "      <td>-1</td>\n",
       "      <td>-1</td>\n",
       "      <td>...</td>\n",
       "      <td>6</td>\n",
       "      <td>3</td>\n",
       "      <td>-1</td>\n",
       "      <td>-1</td>\n",
       "      <td>-1</td>\n",
       "      <td>-1</td>\n",
       "      <td>-1</td>\n",
       "      <td>2</td>\n",
       "      <td>1</td>\n",
       "      <td>2</td>\n",
       "    </tr>\n",
       "    <tr>\n",
       "      <th>2</th>\n",
       "      <td>2019010152270</td>\n",
       "      <td>1</td>\n",
       "      <td>9</td>\n",
       "      <td>0</td>\n",
       "      <td>18</td>\n",
       "      <td>-1</td>\n",
       "      <td>0</td>\n",
       "      <td>-1</td>\n",
       "      <td>-1</td>\n",
       "      <td>-1</td>\n",
       "      <td>...</td>\n",
       "      <td>6</td>\n",
       "      <td>2</td>\n",
       "      <td>24</td>\n",
       "      <td>5</td>\n",
       "      <td>-1</td>\n",
       "      <td>-1</td>\n",
       "      <td>-1</td>\n",
       "      <td>3</td>\n",
       "      <td>1</td>\n",
       "      <td>3</td>\n",
       "    </tr>\n",
       "  </tbody>\n",
       "</table>\n",
       "<p>3 rows × 23 columns</p>\n",
       "</div>"
      ],
      "text/plain": [
       "  Accident_Index  Vehicle_Reference  Vehicle_Type  Towing_and_Articulation  \\\n",
       "0  2019010128300                  1             9                        0   \n",
       "1  2019010128300                  2             9                        0   \n",
       "2  2019010152270                  1             9                        0   \n",
       "\n",
       "   Vehicle_Manoeuvre  Vehicle_Location-Restricted_Lane  Junction_Location  \\\n",
       "0                 -1                                -1                 -1   \n",
       "1                 -1                                -1                 -1   \n",
       "2                 18                                -1                  0   \n",
       "\n",
       "   Skidding_and_Overturning  Hit_Object_in_Carriageway  \\\n",
       "0                        -1                         -1   \n",
       "1                        -1                         -1   \n",
       "2                        -1                         -1   \n",
       "\n",
       "   Vehicle_Leaving_Carriageway  ...  Journey_Purpose_of_Driver  Sex_of_Driver  \\\n",
       "0                           -1  ...                          6              1   \n",
       "1                           -1  ...                          6              3   \n",
       "2                           -1  ...                          6              2   \n",
       "\n",
       "   Age_of_Driver  Age_Band_of_Driver  Engine_Capacity_(CC)  Propulsion_Code  \\\n",
       "0             58                   9                    -1               -1   \n",
       "1             -1                  -1                    -1               -1   \n",
       "2             24                   5                    -1               -1   \n",
       "\n",
       "   Age_of_Vehicle  Driver_IMD_Decile  Driver_Home_Area_Type  \\\n",
       "0              -1                  2                      1   \n",
       "1              -1                  2                      1   \n",
       "2              -1                  3                      1   \n",
       "\n",
       "   Vehicle_IMD_Decile  \n",
       "0                   2  \n",
       "1                   2  \n",
       "2                   3  \n",
       "\n",
       "[3 rows x 23 columns]"
      ]
     },
     "execution_count": 30,
     "metadata": {},
     "output_type": "execute_result"
    }
   ],
   "source": [
    "print(len(df_vehicles))\n",
    "df_vehicles.head(3)"
   ]
  },
  {
   "cell_type": "code",
   "execution_count": 31,
   "metadata": {},
   "outputs": [
    {
     "name": "stdout",
     "output_type": "stream",
     "text": [
      "852321\n"
     ]
    },
    {
     "data": {
      "text/html": [
       "<div>\n",
       "<style scoped>\n",
       "    .dataframe tbody tr th:only-of-type {\n",
       "        vertical-align: middle;\n",
       "    }\n",
       "\n",
       "    .dataframe tbody tr th {\n",
       "        vertical-align: top;\n",
       "    }\n",
       "\n",
       "    .dataframe thead th {\n",
       "        text-align: right;\n",
       "    }\n",
       "</style>\n",
       "<table border=\"1\" class=\"dataframe\">\n",
       "  <thead>\n",
       "    <tr style=\"text-align: right;\">\n",
       "      <th></th>\n",
       "      <th>Accident_Index</th>\n",
       "      <th>Vehicle_Reference</th>\n",
       "      <th>Casualty_Reference</th>\n",
       "      <th>Casualty_Class</th>\n",
       "      <th>Sex_of_Casualty</th>\n",
       "      <th>Age_of_Casualty</th>\n",
       "      <th>Age_Band_of_Casualty</th>\n",
       "      <th>Casualty_Severity</th>\n",
       "      <th>Pedestrian_Location</th>\n",
       "      <th>Pedestrian_Movement</th>\n",
       "      <th>Car_Passenger</th>\n",
       "      <th>Bus_or_Coach_Passenger</th>\n",
       "      <th>Pedestrian_Road_Maintenance_Worker</th>\n",
       "      <th>Casualty_Type</th>\n",
       "      <th>Casualty_Home_Area_Type</th>\n",
       "      <th>Casualty_IMD_Decile</th>\n",
       "    </tr>\n",
       "  </thead>\n",
       "  <tbody>\n",
       "    <tr>\n",
       "      <th>0</th>\n",
       "      <td>2019010128300</td>\n",
       "      <td>1</td>\n",
       "      <td>1</td>\n",
       "      <td>1</td>\n",
       "      <td>1</td>\n",
       "      <td>58</td>\n",
       "      <td>9</td>\n",
       "      <td>3</td>\n",
       "      <td>0</td>\n",
       "      <td>0</td>\n",
       "      <td>0</td>\n",
       "      <td>0</td>\n",
       "      <td>0</td>\n",
       "      <td>9</td>\n",
       "      <td>1</td>\n",
       "      <td>2</td>\n",
       "    </tr>\n",
       "    <tr>\n",
       "      <th>1</th>\n",
       "      <td>2019010128300</td>\n",
       "      <td>1</td>\n",
       "      <td>2</td>\n",
       "      <td>2</td>\n",
       "      <td>2</td>\n",
       "      <td>-1</td>\n",
       "      <td>-1</td>\n",
       "      <td>3</td>\n",
       "      <td>0</td>\n",
       "      <td>0</td>\n",
       "      <td>1</td>\n",
       "      <td>0</td>\n",
       "      <td>0</td>\n",
       "      <td>9</td>\n",
       "      <td>1</td>\n",
       "      <td>5</td>\n",
       "    </tr>\n",
       "    <tr>\n",
       "      <th>2</th>\n",
       "      <td>2019010128300</td>\n",
       "      <td>1</td>\n",
       "      <td>3</td>\n",
       "      <td>2</td>\n",
       "      <td>2</td>\n",
       "      <td>-1</td>\n",
       "      <td>-1</td>\n",
       "      <td>3</td>\n",
       "      <td>0</td>\n",
       "      <td>0</td>\n",
       "      <td>2</td>\n",
       "      <td>0</td>\n",
       "      <td>0</td>\n",
       "      <td>9</td>\n",
       "      <td>1</td>\n",
       "      <td>5</td>\n",
       "    </tr>\n",
       "  </tbody>\n",
       "</table>\n",
       "</div>"
      ],
      "text/plain": [
       "  Accident_Index  Vehicle_Reference  Casualty_Reference  Casualty_Class  \\\n",
       "0  2019010128300                  1                   1               1   \n",
       "1  2019010128300                  1                   2               2   \n",
       "2  2019010128300                  1                   3               2   \n",
       "\n",
       "   Sex_of_Casualty  Age_of_Casualty  Age_Band_of_Casualty  Casualty_Severity  \\\n",
       "0                1               58                     9                  3   \n",
       "1                2               -1                    -1                  3   \n",
       "2                2               -1                    -1                  3   \n",
       "\n",
       "   Pedestrian_Location  Pedestrian_Movement  Car_Passenger  \\\n",
       "0                    0                    0              0   \n",
       "1                    0                    0              1   \n",
       "2                    0                    0              2   \n",
       "\n",
       "   Bus_or_Coach_Passenger  Pedestrian_Road_Maintenance_Worker  Casualty_Type  \\\n",
       "0                       0                                   0              9   \n",
       "1                       0                                   0              9   \n",
       "2                       0                                   0              9   \n",
       "\n",
       "   Casualty_Home_Area_Type  Casualty_IMD_Decile  \n",
       "0                        1                    2  \n",
       "1                        1                    5  \n",
       "2                        1                    5  "
      ]
     },
     "execution_count": 31,
     "metadata": {},
     "output_type": "execute_result"
    }
   ],
   "source": [
    "print(len(df_casualties))\n",
    "df_casualties.head(3)"
   ]
  },
  {
   "cell_type": "markdown",
   "metadata": {},
   "source": [
    "## Clean the data\n",
    " - Keep columns needed\n",
    " - Convert date to DateTime\n",
    " - check the number of missing or \"out of range values\"\n",
    " - Convert the default encoding to Pandas Categorical type"
   ]
  },
  {
   "cell_type": "code",
   "execution_count": 32,
   "metadata": {},
   "outputs": [],
   "source": [
    "def ToCategorical(df, col_name_list, category_dict_list):\n",
    "    '''\n",
    "    Converts the given columns to categorical data type with the correct categories\n",
    "    used from the category_dict_list\n",
    "    \n",
    "    Parameters:\n",
    "    df (Pandas DataFrame): Input dataframe with columns to convert to categorical type\n",
    "    col_name_list  (list): List of column names from df. These columns will be converted\n",
    "    category_dict_list (list): a list of dictionaries. each dictioanry corresponds to the respective column\n",
    "       and holds the correct category names to use.\n",
    "\n",
    "    Returns:\n",
    "    DataFrame with categorical columns \n",
    "    '''\n",
    "    \n",
    "    df_out = df.copy()\n",
    "    \n",
    "    for i,col in enumerate(col_name_list):\n",
    "        df_out[col] = df_out[col].astype('category')\n",
    "        df_out[col].cat.categories = [category_dict_list[i][j] for j in df_out[col].cat.categories]\n",
    "        \n",
    "    return df_out"
   ]
  },
  {
   "cell_type": "code",
   "execution_count": 33,
   "metadata": {},
   "outputs": [],
   "source": [
    "# Keep columns used, remove other columns\n",
    "accident_cols_to_keep= ['Accident_Index', 'Location_Easting_OSGR', 'Location_Northing_OSGR',\n",
    "                        'Longitude', 'Latitude','Date',\n",
    "                        'Number_of_Vehicles', 'Number_of_Casualties',\n",
    "                        '1st_Road_Class','Speed_limit',\n",
    "                        'Light_Conditions','Weather_Conditions', 'Road_Surface_Conditions']\n",
    "\n",
    "vehicle_cols_to_keep = ['Accident_Index', 'Vehicle_Reference', 'Vehicle_Type', 'Age_of_Driver', 'Sex_of_Driver']\n",
    "\n",
    "casuality_cols_to_keep = ['Accident_Index', 'Vehicle_Reference', 'Casualty_Reference',\n",
    "                          'Casualty_Severity']\n",
    "\n",
    "\n",
    "df_accidents = df_accidents[accident_cols_to_keep].copy()\n",
    "df_vehicles = df_vehicles[vehicle_cols_to_keep].copy()\n",
    "df_casualties = df_casualties[casuality_cols_to_keep].copy()"
   ]
  },
  {
   "cell_type": "code",
   "execution_count": 34,
   "metadata": {},
   "outputs": [
    {
     "name": "stdout",
     "output_type": "stream",
     "text": [
      "Number of null values in Date column: 0\n"
     ]
    }
   ],
   "source": [
    "# convert Date to DateTime object (Time is missing from ~100 accidents)\n",
    "print('Number of null values in Date column: ' + str(len(df_accidents[df_accidents[[\"Date\"]].isnull().any(axis=1)])))\n",
    "df_accidents[\"Date\"] = pd.DatetimeIndex(df_accidents[\"Date\"], dayfirst=True)\n",
    "df_accidents[\"Year\"] = df_accidents[\"Date\"].dt.year.astype('Int16')"
   ]
  },
  {
   "cell_type": "code",
   "execution_count": 36,
   "metadata": {},
   "outputs": [],
   "source": [
    "# Map categories\n",
    "gender_dict = {1:'Male',2:'Female', 3:'Not known', -1:'Data missing or out of range'}\n",
    "light_dict = {1:'Daylight',4:'Darkness - lights lit',5:'Darkness - lights unlit',6:'Darkness - no lighting',7:'Darkness - lighting unknown',-1:'Data missing or out of range'}\n",
    "weather_dict ={1:'Fine no high winds',2:'Raining no high winds',3:'Snowing no high winds',4:'Fine + high winds',5:'Raining + high winds',6:'Snowing + high winds',7:'Fog or mist',8:'Other',9:'Unknown',-1:'Data missing or out of range'}\n",
    "surface_dict = {1:'Dry',2:'Wet or damp',3:'Snow',4:'Frost or ice',5:'Flood over 3cm. deep',6:'Oil or diesel',7:'Mud',-1:'Data missing or out of range'}\n",
    "severity_dict = {1:'Fatal',2:'Serious',3:'Slight'}\n",
    "# speed_limit = {20:'20 MPH', 30:'30 MPH', 40:'40 MPH', 50:'50 MPH', 60:'60 MPH', 70:'70 MPH', -1:'Data missing or out of range', 0.0:'Data missing or out of range', np.nan:'Data missing or out of range'}\n",
    "vehicle_type_dict = {1:'Pedal cycle', 2:'Motorcycle 50cc and under', 3:'Motorcycle 125cc and under', 4:'Motorcycle over 125cc and up to 500cc', 5:'Motorcycle over 500cc', 8:'Taxi/Private hire car', 9:'Car', 10:'Minibus (8 - 16 passenger seats)',\n",
    "                     11:'Bus or coach (17 or more pass seats)', 16:'Ridden horse', 17:'Agricultural vehicle', 18:'Tram', 19:'Van / Goods 3.5 tonnes mgw or under', 20:'Goods over 3.5t. and under 7.5t', 21:'Goods 7.5 tonnes mgw and over', 22:'Mobility scooter',\n",
    "                     23:'Electric motorcycle', 90:'Other vehicle', 97:'Motorcycle - unknown cc', 98:'Goods vehicle - unknown weight', -1:'Data missing or out of range',}\n",
    "\n",
    "road_class_dict = {1:'Motorway', 2:'A(M)', 3:'A', 4:'B', 5:'C', 6:'Unclassified'}\n",
    "\n",
    "\n",
    "df_accidents = ToCategorical(df_accidents,\n",
    "                             ['1st_Road_Class','Light_Conditions','Weather_Conditions','Road_Surface_Conditions'],\n",
    "                             [road_class_dict,light_dict,weather_dict,surface_dict])\n",
    "\n",
    "df_vehicles = ToCategorical(df_vehicles, ['Vehicle_Type', 'Sex_of_Driver'], [vehicle_type_dict, gender_dict])\n",
    "df_casualties = ToCategorical(df_casualties, ['Casualty_Severity'], [severity_dict])"
   ]
  },
  {
   "cell_type": "code",
   "execution_count": 37,
   "metadata": {},
   "outputs": [],
   "source": [
    "# Check the number of missing values\n",
    "\n",
    "def CheckNulls(df, df_name='DataFrame'):\n",
    "    '''\n",
    "    Function that checks the number of rows with any missing values\n",
    "    Input:\n",
    "    df: DataFrame to check\n",
    "    df_name: str, name to use as DF name in the returned prints\n",
    "    \n",
    "    Returns: Null, printing the numbor missig rows to the screen\n",
    "    '''\n",
    "    print('\\n'+df_name)\n",
    "    # Total number of Accident Table\n",
    "    print(f'Number of rows in {df_name}: \\t{len(df)}')\n",
    "\n",
    "    # Numeric columns\n",
    "    print(f'Number of numerical rows with any missing values in {df_name}: {df.isnull().any(axis=1).sum()}')\n",
    "    cols_w_null = df.columns[df.isnull().any()].to_list()\n",
    "    print(f'Numeric columns with nulls: {cols_w_null}')\n",
    "    \n",
    "    # Categoorical columns\n",
    "    missing_cat_rows = df.isin(['Data missing or out of range','Unknown']).any(axis=1).sum()\n",
    "    print(f'Number of categorical rows with any missing values in {df_name}: {missing_cat_rows}')\n"
   ]
  },
  {
   "cell_type": "code",
   "execution_count": 38,
   "metadata": {},
   "outputs": [
    {
     "name": "stdout",
     "output_type": "stream",
     "text": [
      "\n",
      "df_accidents\n",
      "Number of rows in df_accidents: \t646830\n",
      "Number of numerical rows with any missing values in df_accidents: 183\n",
      "Numeric columns with nulls: ['Location_Easting_OSGR', 'Location_Northing_OSGR', 'Longitude', 'Latitude', 'Speed_limit']\n",
      "Number of categorical rows with any missing values in df_accidents: 19457\n",
      "\n",
      "df_vehicles\n",
      "Number of rows in df_vehicles: \t1192061\n",
      "Number of numerical rows with any missing values in df_vehicles: 0\n",
      "Numeric columns with nulls: []\n",
      "Number of categorical rows with any missing values in df_vehicles: 1339\n",
      "\n",
      "df_casualties\n",
      "Number of rows in df_casualties: \t852321\n",
      "Number of numerical rows with any missing values in df_casualties: 0\n",
      "Numeric columns with nulls: []\n",
      "Number of categorical rows with any missing values in df_casualties: 0\n"
     ]
    }
   ],
   "source": [
    "# Accidents\n",
    "CheckNulls(df_accidents, 'df_accidents')\n",
    "CheckNulls(df_vehicles, 'df_vehicles')\n",
    "CheckNulls(df_casualties, 'df_casualties')"
   ]
  },
  {
   "cell_type": "markdown",
   "metadata": {},
   "source": [
    "<div class=\"alert alert-block alert-info\">\n",
    "\n",
    "<b>Note:</b> Although the number of rows with missing values seems small compared to the total sample size, they will be dealt with on a case-by-case basis, removing the missing values based on the columns used for the specific \n",
    "    analysis only.<br>\n",
    "    E.g. We can still use rows for finding hot spots if driver age is not recorded (but coordinates are available). </div>"
   ]
  },
  {
   "cell_type": "markdown",
   "metadata": {},
   "source": [
    "## 1. Is transport becoming safer?"
   ]
  },
  {
   "cell_type": "code",
   "execution_count": 39,
   "metadata": {},
   "outputs": [],
   "source": [
    "# Merge Date to casualities\n",
    "df_casualties_date = df_casualties.merge(df_accidents[[\"Accident_Index\",\"Year\"]], left_on=\"Accident_Index\",right_on=\"Accident_Index\",how='left')"
   ]
  },
  {
   "cell_type": "code",
   "execution_count": 40,
   "metadata": {},
   "outputs": [
    {
     "data": {
      "image/png": "[encoded data removed]",
      "text/plain": [
       "<Figure size 432x288 with 1 Axes>"
      ]
     },
     "metadata": {
      "needs_background": "light"
     },
     "output_type": "display_data"
    }
   ],
   "source": [
    "# Count accidents by year\n",
    "df_accidents_by_year = df_accidents[\"Year\"].value_counts()\n",
    "\n",
    "# Plot\n",
    "ax = sns.barplot(y=df_accidents_by_year.values, x=df_accidents_by_year.index, palette=\"Blues_d\")\n",
    "ax.set(xlabel=\"Year\", ylabel = \"Number of Accidents\");"
   ]
  },
  {
   "cell_type": "code",
   "execution_count": 41,
   "metadata": {},
   "outputs": [
    {
     "data": {
      "image/png": "[encoded data removed]",
      "text/plain": [
       "<Figure size 1382.4x288 with 4 Axes>"
      ]
     },
     "metadata": {
      "needs_background": "light"
     },
     "output_type": "display_data"
    }
   ],
   "source": [
    "# How does the number of casualities change\n",
    "df_casualties_by_year = df_casualties_date.groupby(by=['Casualty_Severity','Year'], as_index=False)['Accident_Index'].count()\n",
    "df_total_casualities = df_casualties_by_year.groupby(by='Year', as_index=False)['Accident_Index'].sum()\n",
    "df_total_casualities['Casualty_Severity'] = 'All Casualities'\n",
    "\n",
    "df_casualties_by_year = df_casualties_by_year.append(df_total_casualities)\n",
    "\n",
    "g = sns.FacetGrid(df_casualties_by_year, col=\"Casualty_Severity\", sharey=False, height=4,\n",
    "    aspect=1.2,)\n",
    "g.map(sns.barplot, \"Year\", \"Accident_Index\", order=[2015,2016,2017,2018,2019])\n",
    "g.set_axis_labels(y_var='Number of Casualities')\n",
    "g.set_titles(col_template = '{col_name}');"
   ]
  },
  {
   "cell_type": "code",
   "execution_count": 42,
   "metadata": {},
   "outputs": [],
   "source": [
    "# Percentage change compared to 2015 baseline\n",
    "df_casualties_change_by_year = df_casualties_by_year.copy()\n",
    "\n",
    "baseline = df_casualties_by_year.loc[df_casualties_by_year['Year']==2015,:]\n",
    "\n",
    "for segment in df_casualties_by_year['Casualty_Severity'].unique():\n",
    "    this_segment = df_casualties_change_by_year['Casualty_Severity']==segment\n",
    "    this_baseline= baseline.loc[baseline['Casualty_Severity']==segment, 'Accident_Index'].values\n",
    "    \n",
    "    df_casualties_change_by_year.loc[this_segment, 'Accident_Index'] = df_casualties_change_by_year.loc[this_segment, 'Accident_Index']/this_baseline * 100"
   ]
  },
  {
   "cell_type": "code",
   "execution_count": 43,
   "metadata": {},
   "outputs": [
    {
     "data": {
      "image/png": "[encoded data removed]",
      "text/plain": [
       "<Figure size 466.375x360 with 1 Axes>"
      ]
     },
     "metadata": {
      "needs_background": "light"
     },
     "output_type": "display_data"
    }
   ],
   "source": [
    "fig = sns.relplot(x=\"Year\", y=\"Accident_Index\", style=\"Casualty_Severity\",\n",
    "            palette=\"Blues_d\",\n",
    "            kind=\"line\",\n",
    "            data=df_casualties_change_by_year);\n",
    "\n",
    "fig.set(ylim=(0, 120), xticks=[2015,2016,2017,2018,2019], ylabel='% Change in Number of Casualities');"
   ]
  },
  {
   "cell_type": "markdown",
   "metadata": {},
   "source": [
    "## 2. How do the number of vehicles per accident and casualities per vehicle change?"
   ]
  },
  {
   "cell_type": "code",
   "execution_count": 24,
   "metadata": {},
   "outputs": [],
   "source": [
    "# vehicles per accident"
   ]
  },
  {
   "cell_type": "code",
   "execution_count": 46,
   "metadata": {},
   "outputs": [
    {
     "data": {
      "text/plain": [
       "Year\n",
       "2015    1.841014\n",
       "2016    1.848179\n",
       "2017    1.838147\n",
       "2018    1.846202\n",
       "2019    1.840976\n",
       "Name: Number_of_Vehicles, dtype: float64"
      ]
     },
     "execution_count": 46,
     "metadata": {},
     "output_type": "execute_result"
    }
   ],
   "source": [
    "df_accidents.groupby(by='Year')['Number_of_Vehicles'].mean()"
   ]
  },
  {
   "cell_type": "code",
   "execution_count": 48,
   "metadata": {},
   "outputs": [
    {
     "data": {
      "text/plain": [
       "Year\n",
       "2015    1.329390\n",
       "2016    1.327644\n",
       "2017    1.315513\n",
       "2018    1.309553\n",
       "2019    1.303073\n",
       "Name: Number_of_Casualties, dtype: float64"
      ]
     },
     "execution_count": 48,
     "metadata": {},
     "output_type": "execute_result"
    }
   ],
   "source": [
    "df_accidents.groupby(by='Year')['Number_of_Casualties'].mean()"
   ]
  },
  {
   "cell_type": "markdown",
   "metadata": {},
   "source": [
    "## 2. Are young drivers involved in more accidents?"
   ]
  },
  {
   "cell_type": "code",
   "execution_count": null,
   "metadata": {},
   "outputs": [],
   "source": [
    "# Drop records with missing age of driver\n",
    "df_vehicles_age = df_vehicles[df_vehicles['Age_of_Driver']>0]"
   ]
  },
  {
   "cell_type": "code",
   "execution_count": null,
   "metadata": {},
   "outputs": [],
   "source": [
    "sns.set(font_scale=1.1)\n",
    "sns.set_style(\"white\")\n",
    "fig = sns.displot(df_vehicles_age, x='Age_of_Driver', kind='hist', bins=list(range(0,110,5)), kde=True,\n",
    "              height=4, aspect=2)\n",
    "fig.set(xlim=(0, 110), xlabel=('Age'), xticks=list(range(0,110,10)))\n"
   ]
  },
  {
   "cell_type": "markdown",
   "metadata": {},
   "source": [
    "## 3. Are female drivers involved in more accidents then men?\n",
    "\n",
    "https://assets.publishing.service.gov.uk/government/uploads/system/uploads/attachment_data/file/905926/nts0206.ods"
   ]
  },
  {
   "cell_type": "code",
   "execution_count": null,
   "metadata": {},
   "outputs": [],
   "source": [
    "# Drop missing or unkown values\n",
    "df_vehicles_age_gender = df_vehicles_age[df_vehicles_age['Sex_of_Driver'].isin(['Male', 'Female'])]\n",
    "df_vehicles_age_gender['Sex_of_Driver'].cat.remove_unused_categories(inplace=True)\n",
    "\n",
    "df_vehicles_age_gender['Sex_of_Driver'].value_counts()"
   ]
  },
  {
   "cell_type": "code",
   "execution_count": null,
   "metadata": {},
   "outputs": [],
   "source": [
    "# Create Plot\n",
    "fig = sns.catplot(x=\"Sex_of_Driver\", kind=\"count\", data=df_vehicles_age_gender)\n",
    "fig.set_xlabels('Gender of Driver') # , fontsize=12"
   ]
  },
  {
   "cell_type": "code",
   "execution_count": null,
   "metadata": {},
   "outputs": [],
   "source": [
    "fig = sns.displot(df_vehicles_age_gender, x='Age_of_Driver', hue='Sex_of_Driver',\n",
    "                  kind='hist', bins=list(range(0,110,5)), kde=True, height=4, aspect=2)\n",
    "fig.set(xlim=(0, 110), xlabel=('Age'), xticks=list(range(0,110,10)))"
   ]
  },
  {
   "cell_type": "markdown",
   "metadata": {},
   "source": [
    "## 3a are any vehicles types more dangerous?"
   ]
  },
  {
   "cell_type": "code",
   "execution_count": 87,
   "metadata": {},
   "outputs": [],
   "source": [
    "# Needs vehicle type\n",
    "df_vehicles\n",
    "\n",
    "df_casualties_vehicles = df_casualties.merge(df_vehicles[['Accident_Index', 'Vehicle_Reference', 'Vehicle_Type']], on=['Accident_Index', 'Vehicle_Reference'], how='left')\n",
    "df_casualties_vehicles_roadtype = df_casualties_vehicles.merge(df_accidents[['Accident_Index', '1st_Road_Class', 'Speed_limit']], on=['Accident_Index'], how='left')"
   ]
  },
  {
   "cell_type": "code",
   "execution_count": 88,
   "metadata": {},
   "outputs": [
    {
     "name": "stdout",
     "output_type": "stream",
     "text": [
      "No of rows: 852321\n",
      "No of rows with missing values: 47\n",
      "No of rows with non-positive speed limit values: 87\n",
      "No of rows: 852187\n"
     ]
    }
   ],
   "source": [
    "# Drop missing values from speed\n",
    "df_casualties_vehicles_roadtype[df_casualties_vehicles_roadtype.isnull().any(axis=1)].head()\n",
    "print(f'No of rows: {len(df_casualties_vehicles_roadtype)}')\n",
    "print(f'No of rows with missing values: {df_casualties_vehicles_roadtype.isnull().any(axis=1).sum()}')\n",
    "df_casualties_vehicles_roadtype.dropna(inplace=True)\n",
    "\n",
    "nonpositivespeeds = df_casualties_vehicles_roadtype[df_casualties_vehicles_roadtype['Speed_limit']<=0]\n",
    "print(f'No of rows with non-positive speed limit values: {len(nonpositivespeeds)}')\n",
    "df_casualties_vehicles_roadtype.drop(nonpositivespeeds.index, inplace=True)\n",
    "print(f'No of rows: {len(df_casualties_vehicles_roadtype)}')"
   ]
  },
  {
   "cell_type": "code",
   "execution_count": 89,
   "metadata": {},
   "outputs": [
    {
     "name": "stdout",
     "output_type": "stream",
     "text": [
      "852187\n",
      "851822\n"
     ]
    }
   ],
   "source": [
    "# drop missing values\n",
    "print(len(df_casualties_vehicles_roadtype))\n",
    "df_casualties_vehicles_roadtype = df_casualties_vehicles_roadtype[~(df_casualties_vehicles_roadtype[['Vehicle_Type','1st_Road_Class']].isin(['Data missing or out of range','Unkown']).any(axis=1))].copy()\n",
    "print(len(df_casualties_vehicles_roadtype))"
   ]
  },
  {
   "cell_type": "code",
   "execution_count": 90,
   "metadata": {},
   "outputs": [
    {
     "data": {
      "text/plain": [
       "array([30., 20., 40., 50., 70., 60., 10.])"
      ]
     },
     "execution_count": 90,
     "metadata": {},
     "output_type": "execute_result"
    }
   ],
   "source": [
    "df_casualties_vehicles_roadtype['Speed_limit'].unique()"
   ]
  },
  {
   "cell_type": "code",
   "execution_count": 101,
   "metadata": {},
   "outputs": [
    {
     "data": {
      "text/plain": [
       "[Text(0.5, 84.5, 'Road Class'), Text(391.8680000000001, 0.5, 'Vehicle Type')]"
      ]
     },
     "execution_count": 101,
     "metadata": {},
     "output_type": "execute_result"
    },
    {
     "data": {
      "image/png": "[encoded data removed]",
      "text/plain": [
       "<Figure size 864x864 with 2 Axes>"
      ]
     },
     "metadata": {},
     "output_type": "display_data"
    }
   ],
   "source": [
    "# Calculate Killed and severly injured casulty proportions\n",
    "df_ksi_counts = df_casualties_vehicles_roadtype.value_counts(subset=['Vehicle_Type', '1st_Road_Class', 'Speed_limit','Casualty_Severity']).unstack()\n",
    "df_ksi_props = df_ksi_counts[['Fatal', 'Serious']].sum(1) / df_ksi_counts.sum(axis=1)\n",
    "df_ksi_by_vehicle_roadtype=df_ksi_props.to_frame().unstack(-2)\n",
    "df_ksi_by_vehicle_roadtype[0]['Motorway'].unstack()\n",
    "\n",
    "sns.set(font_scale=0.9)\n",
    "f, ax = plt.subplots(figsize=(12, 12))\n",
    "sns.heatmap(df_ksi_by_vehicle_roadtype[0]['Motorway'].unstack(), annot=True, cmap='rocket_r',fmt='.2f',\n",
    "            square=True, linewidths=.5, ax=ax)\n",
    "\n",
    "ax.set(xlabel='Road Class', ylabel=\"Vehicle Type\")"
   ]
  },
  {
   "cell_type": "code",
   "execution_count": 104,
   "metadata": {},
   "outputs": [
    {
     "data": {
      "text/plain": [
       "[Text(0.5, 84.5, 'Road Class'), Text(391.8680000000001, 0.5, 'Vehicle Type')]"
      ]
     },
     "execution_count": 104,
     "metadata": {},
     "output_type": "execute_result"
    },
    {
     "data": {
      "image/png": "[encoded data removed]",
      "text/plain": [
       "<Figure size 864x864 with 2 Axes>"
      ]
     },
     "metadata": {},
     "output_type": "display_data"
    }
   ],
   "source": [
    "df_ksi_by_vehicle_roadtype[0]['Motorway'].unstack()\n",
    "\n",
    "sns.set(font_scale=0.9)\n",
    "f, ax = plt.subplots(figsize=(12, 12))\n",
    "sns.heatmap(df_ksi_by_vehicle_roadtype[0]['C'].unstack(), annot=True, cmap='rocket_r',fmt='.2f',\n",
    "            square=True, linewidths=.5, ax=ax)\n",
    "\n",
    "ax.set(xlabel='Road Class', ylabel=\"Vehicle Type\")"
   ]
  },
  {
   "cell_type": "code",
   "execution_count": 51,
   "metadata": {},
   "outputs": [
    {
     "data": {
      "text/html": [
       "<div>\n",
       "<style scoped>\n",
       "    .dataframe tbody tr th:only-of-type {\n",
       "        vertical-align: middle;\n",
       "    }\n",
       "\n",
       "    .dataframe tbody tr th {\n",
       "        vertical-align: top;\n",
       "    }\n",
       "\n",
       "    .dataframe thead th {\n",
       "        text-align: right;\n",
       "    }\n",
       "</style>\n",
       "<table border=\"1\" class=\"dataframe\">\n",
       "  <thead>\n",
       "    <tr style=\"text-align: right;\">\n",
       "      <th></th>\n",
       "      <th>Motorway</th>\n",
       "      <th>A(M)</th>\n",
       "      <th>A Road</th>\n",
       "      <th>B Road</th>\n",
       "      <th>C Road</th>\n",
       "      <th>Unclassified</th>\n",
       "    </tr>\n",
       "    <tr>\n",
       "      <th>Vehicle_Type</th>\n",
       "      <th></th>\n",
       "      <th></th>\n",
       "      <th></th>\n",
       "      <th></th>\n",
       "      <th></th>\n",
       "      <th></th>\n",
       "    </tr>\n",
       "  </thead>\n",
       "  <tbody>\n",
       "    <tr>\n",
       "      <th>Car</th>\n",
       "      <td>0.091088</td>\n",
       "      <td>0.101035</td>\n",
       "      <td>0.121241</td>\n",
       "      <td>0.135768</td>\n",
       "      <td>0.117526</td>\n",
       "      <td>0.121920</td>\n",
       "    </tr>\n",
       "    <tr>\n",
       "      <th>Pedal cycle</th>\n",
       "      <td>0.500000</td>\n",
       "      <td>0.000000</td>\n",
       "      <td>0.197560</td>\n",
       "      <td>0.222359</td>\n",
       "      <td>0.192780</td>\n",
       "      <td>0.206937</td>\n",
       "    </tr>\n",
       "    <tr>\n",
       "      <th>Motorcycle 125cc and under</th>\n",
       "      <td>0.370370</td>\n",
       "      <td>0.411765</td>\n",
       "      <td>0.232752</td>\n",
       "      <td>0.279939</td>\n",
       "      <td>0.223790</td>\n",
       "      <td>0.289484</td>\n",
       "    </tr>\n",
       "    <tr>\n",
       "      <th>Bus or coach (17 or more pass seats)</th>\n",
       "      <td>0.131474</td>\n",
       "      <td>0.076923</td>\n",
       "      <td>0.103998</td>\n",
       "      <td>0.112139</td>\n",
       "      <td>0.110556</td>\n",
       "      <td>0.130366</td>\n",
       "    </tr>\n",
       "    <tr>\n",
       "      <th>Van / Goods 3.5 tonnes mgw or under</th>\n",
       "      <td>0.118166</td>\n",
       "      <td>0.159341</td>\n",
       "      <td>0.143445</td>\n",
       "      <td>0.148607</td>\n",
       "      <td>0.149143</td>\n",
       "      <td>0.157967</td>\n",
       "    </tr>\n",
       "    <tr>\n",
       "      <th>Motorcycle over 500cc</th>\n",
       "      <td>0.498795</td>\n",
       "      <td>0.468085</td>\n",
       "      <td>0.405089</td>\n",
       "      <td>0.477966</td>\n",
       "      <td>0.413972</td>\n",
       "      <td>0.409705</td>\n",
       "    </tr>\n",
       "    <tr>\n",
       "      <th>Taxi/Private hire car</th>\n",
       "      <td>0.096210</td>\n",
       "      <td>0.117647</td>\n",
       "      <td>0.101237</td>\n",
       "      <td>0.105319</td>\n",
       "      <td>0.099721</td>\n",
       "      <td>0.116499</td>\n",
       "    </tr>\n",
       "    <tr>\n",
       "      <th>Motorcycle over 125cc and up to 500cc</th>\n",
       "      <td>0.405797</td>\n",
       "      <td>0.384615</td>\n",
       "      <td>0.293855</td>\n",
       "      <td>0.342995</td>\n",
       "      <td>0.278796</td>\n",
       "      <td>0.352231</td>\n",
       "    </tr>\n",
       "    <tr>\n",
       "      <th>Motorcycle 50cc and under</th>\n",
       "      <td>NaN</td>\n",
       "      <td>1.000000</td>\n",
       "      <td>0.201663</td>\n",
       "      <td>0.223404</td>\n",
       "      <td>0.187590</td>\n",
       "      <td>0.236237</td>\n",
       "    </tr>\n",
       "    <tr>\n",
       "      <th>Goods 7.5 tonnes mgw and over</th>\n",
       "      <td>0.267943</td>\n",
       "      <td>0.250000</td>\n",
       "      <td>0.278396</td>\n",
       "      <td>0.270130</td>\n",
       "      <td>0.238462</td>\n",
       "      <td>0.272851</td>\n",
       "    </tr>\n",
       "    <tr>\n",
       "      <th>Other vehicle</th>\n",
       "      <td>0.162963</td>\n",
       "      <td>0.166667</td>\n",
       "      <td>0.206596</td>\n",
       "      <td>0.263889</td>\n",
       "      <td>0.225941</td>\n",
       "      <td>0.280427</td>\n",
       "    </tr>\n",
       "    <tr>\n",
       "      <th>Goods over 3.5t. and under 7.5t</th>\n",
       "      <td>0.182979</td>\n",
       "      <td>0.176471</td>\n",
       "      <td>0.187726</td>\n",
       "      <td>0.193694</td>\n",
       "      <td>0.163793</td>\n",
       "      <td>0.192090</td>\n",
       "    </tr>\n",
       "    <tr>\n",
       "      <th>Minibus (8 - 16 passenger seats)</th>\n",
       "      <td>0.136719</td>\n",
       "      <td>0.000000</td>\n",
       "      <td>0.118874</td>\n",
       "      <td>0.126316</td>\n",
       "      <td>0.098039</td>\n",
       "      <td>0.117229</td>\n",
       "    </tr>\n",
       "    <tr>\n",
       "      <th>Mobility scooter</th>\n",
       "      <td>NaN</td>\n",
       "      <td>NaN</td>\n",
       "      <td>0.308475</td>\n",
       "      <td>0.255639</td>\n",
       "      <td>0.262295</td>\n",
       "      <td>0.239437</td>\n",
       "    </tr>\n",
       "    <tr>\n",
       "      <th>Goods vehicle - unknown weight</th>\n",
       "      <td>0.170886</td>\n",
       "      <td>0.000000</td>\n",
       "      <td>0.171375</td>\n",
       "      <td>0.146199</td>\n",
       "      <td>0.153846</td>\n",
       "      <td>0.176471</td>\n",
       "    </tr>\n",
       "    <tr>\n",
       "      <th>Motorcycle - unknown cc</th>\n",
       "      <td>0.421053</td>\n",
       "      <td>0.000000</td>\n",
       "      <td>0.324948</td>\n",
       "      <td>0.409639</td>\n",
       "      <td>0.298246</td>\n",
       "      <td>0.403873</td>\n",
       "    </tr>\n",
       "    <tr>\n",
       "      <th>Ridden horse</th>\n",
       "      <td>NaN</td>\n",
       "      <td>NaN</td>\n",
       "      <td>0.450000</td>\n",
       "      <td>0.313725</td>\n",
       "      <td>0.227273</td>\n",
       "      <td>0.248092</td>\n",
       "    </tr>\n",
       "    <tr>\n",
       "      <th>Agricultural vehicle</th>\n",
       "      <td>0.000000</td>\n",
       "      <td>0.000000</td>\n",
       "      <td>0.245690</td>\n",
       "      <td>0.294872</td>\n",
       "      <td>0.204545</td>\n",
       "      <td>0.313433</td>\n",
       "    </tr>\n",
       "    <tr>\n",
       "      <th>Electric motorcycle</th>\n",
       "      <td>0.500000</td>\n",
       "      <td>1.000000</td>\n",
       "      <td>0.240000</td>\n",
       "      <td>0.354839</td>\n",
       "      <td>0.444444</td>\n",
       "      <td>0.258333</td>\n",
       "    </tr>\n",
       "    <tr>\n",
       "      <th>Tram</th>\n",
       "      <td>NaN</td>\n",
       "      <td>NaN</td>\n",
       "      <td>0.166667</td>\n",
       "      <td>0.250000</td>\n",
       "      <td>0.000000</td>\n",
       "      <td>0.240000</td>\n",
       "    </tr>\n",
       "  </tbody>\n",
       "</table>\n",
       "</div>"
      ],
      "text/plain": [
       "                                       Motorway      A(M)    A Road    B Road  \\\n",
       "Vehicle_Type                                                                    \n",
       "Car                                    0.091088  0.101035  0.121241  0.135768   \n",
       "Pedal cycle                            0.500000  0.000000  0.197560  0.222359   \n",
       "Motorcycle 125cc and under             0.370370  0.411765  0.232752  0.279939   \n",
       "Bus or coach (17 or more pass seats)   0.131474  0.076923  0.103998  0.112139   \n",
       "Van / Goods 3.5 tonnes mgw or under    0.118166  0.159341  0.143445  0.148607   \n",
       "Motorcycle over 500cc                  0.498795  0.468085  0.405089  0.477966   \n",
       "Taxi/Private hire car                  0.096210  0.117647  0.101237  0.105319   \n",
       "Motorcycle over 125cc and up to 500cc  0.405797  0.384615  0.293855  0.342995   \n",
       "Motorcycle 50cc and under                   NaN  1.000000  0.201663  0.223404   \n",
       "Goods 7.5 tonnes mgw and over          0.267943  0.250000  0.278396  0.270130   \n",
       "Other vehicle                          0.162963  0.166667  0.206596  0.263889   \n",
       "Goods over 3.5t. and under 7.5t        0.182979  0.176471  0.187726  0.193694   \n",
       "Minibus (8 - 16 passenger seats)       0.136719  0.000000  0.118874  0.126316   \n",
       "Mobility scooter                            NaN       NaN  0.308475  0.255639   \n",
       "Goods vehicle - unknown weight         0.170886  0.000000  0.171375  0.146199   \n",
       "Motorcycle - unknown cc                0.421053  0.000000  0.324948  0.409639   \n",
       "Ridden horse                                NaN       NaN  0.450000  0.313725   \n",
       "Agricultural vehicle                   0.000000  0.000000  0.245690  0.294872   \n",
       "Electric motorcycle                    0.500000  1.000000  0.240000  0.354839   \n",
       "Tram                                        NaN       NaN  0.166667  0.250000   \n",
       "\n",
       "                                         C Road  Unclassified  \n",
       "Vehicle_Type                                                   \n",
       "Car                                    0.117526      0.121920  \n",
       "Pedal cycle                            0.192780      0.206937  \n",
       "Motorcycle 125cc and under             0.223790      0.289484  \n",
       "Bus or coach (17 or more pass seats)   0.110556      0.130366  \n",
       "Van / Goods 3.5 tonnes mgw or under    0.149143      0.157967  \n",
       "Motorcycle over 500cc                  0.413972      0.409705  \n",
       "Taxi/Private hire car                  0.099721      0.116499  \n",
       "Motorcycle over 125cc and up to 500cc  0.278796      0.352231  \n",
       "Motorcycle 50cc and under              0.187590      0.236237  \n",
       "Goods 7.5 tonnes mgw and over          0.238462      0.272851  \n",
       "Other vehicle                          0.225941      0.280427  \n",
       "Goods over 3.5t. and under 7.5t        0.163793      0.192090  \n",
       "Minibus (8 - 16 passenger seats)       0.098039      0.117229  \n",
       "Mobility scooter                       0.262295      0.239437  \n",
       "Goods vehicle - unknown weight         0.153846      0.176471  \n",
       "Motorcycle - unknown cc                0.298246      0.403873  \n",
       "Ridden horse                           0.227273      0.248092  \n",
       "Agricultural vehicle                   0.204545      0.313433  \n",
       "Electric motorcycle                    0.444444      0.258333  \n",
       "Tram                                   0.000000      0.240000  "
      ]
     },
     "execution_count": 51,
     "metadata": {},
     "output_type": "execute_result"
    }
   ],
   "source": [
    "\n",
    "df_ksi_by_vehicle_roadtype.columns=['Motorway','A(M)','A Road','B Road','C Road','Unclassified']\n",
    "df_ksi_by_vehicle_roadtype"
   ]
  },
  {
   "cell_type": "code",
   "execution_count": 52,
   "metadata": {},
   "outputs": [
    {
     "data": {
      "text/plain": [
       "[Text(0.5, 84.5, 'Road Class'), Text(424.48400000000015, 0.5, 'Vehicle Type')]"
      ]
     },
     "execution_count": 52,
     "metadata": {},
     "output_type": "execute_result"
    },
    {
     "data": {
      "image/png": "[encoded data removed]",
      "text/plain": [
       "<Figure size 864x864 with 2 Axes>"
      ]
     },
     "metadata": {},
     "output_type": "display_data"
    }
   ],
   "source": [
    "sns.set(font_scale=0.9)\n",
    "f, ax = plt.subplots(figsize=(12, 12))\n",
    "sns.heatmap(df_ksi_by_vehicle_roadtype, annot=True, cmap='rocket_r',fmt='.2f',\n",
    "            square=True, linewidths=.5, ax=ax)\n",
    "\n",
    "ax.set(xlabel='Road Class', ylabel=\"Vehicle Type\")"
   ]
  },
  {
   "cell_type": "markdown",
   "metadata": {},
   "source": [
    "## 3b Are certain road types more dangerous?"
   ]
  },
  {
   "cell_type": "code",
   "execution_count": null,
   "metadata": {},
   "outputs": [],
   "source": [
    "#Create a heatmap, one axis will be speed limit,other roadtypes, the values will be KSI"
   ]
  },
  {
   "cell_type": "markdown",
   "metadata": {},
   "source": [
    "## 4. Are injuries more severe in certain weather conditions?"
   ]
  },
  {
   "cell_type": "code",
   "execution_count": null,
   "metadata": {},
   "outputs": [],
   "source": [
    "# Merge Accident condition columns to Casuality severities\n",
    "condition_cols = ['Light_Conditions', 'Weather_Conditions', 'Road_Surface_Conditions']\n",
    "df_casualties_conditions = df_casualties.merge(df_accidents[['Accident_Index'] + condition_cols], on='Accident_Index', how='left')"
   ]
  },
  {
   "cell_type": "code",
   "execution_count": null,
   "metadata": {},
   "outputs": [],
   "source": [
    "# drop missing values\n",
    "print(len(df_casualties_conditions))\n",
    "df_casualties_conditions = df_casualties_conditions[~(df_casualties_conditions[condition_cols].isin(['Data missing or out of range','Unkown']).any(axis=1))].copy()\n",
    "print(len(df_casualties_conditions))"
   ]
  },
  {
   "cell_type": "code",
   "execution_count": null,
   "metadata": {},
   "outputs": [],
   "source": [
    "# Calculate Killed and severly injured casulty proportions\n",
    "df_ksi_counts = df_casualties_conditions.value_counts(subset=condition_cols+['Casualty_Severity']).unstack()\n",
    "df_ksi_props = df_ksi_counts[['Fatal', 'Serious']].sum(1) / df_ksi_counts.sum(axis=1)\n",
    "\n",
    "df_ksi_props = df_ksi_props.to_frame().reset_index()\n",
    "df_ksi_props.rename(columns={0:'KSI'}, inplace=True)\n",
    "df_ksi_props = df_ksi_props.sort_values(by='KSI', ascending=False).reset_index(drop=True)\n",
    "df_ksi_props.head()"
   ]
  },
  {
   "cell_type": "code",
   "execution_count": null,
   "metadata": {},
   "outputs": [],
   "source": [
    "df_ksi_props['label'] = df_ksi_props[condition_cols].astype('str').agg('; '.join, axis=1)"
   ]
  },
  {
   "cell_type": "code",
   "execution_count": null,
   "metadata": {},
   "outputs": [],
   "source": [
    "plt.bar(height=df_ksi_props['KSI'], x=df_ksi_props.index, linewidth=0, width=1.0)\n",
    "\n",
    "# add the mean as a horisontal line and std as dotted."
   ]
  },
  {
   "cell_type": "code",
   "execution_count": null,
   "metadata": {},
   "outputs": [],
   "source": [
    "std = df_ksi_props.loc[df_ksi_props['KSI']>0, 'KSI'].describe()['std']\n",
    "mean =df_ksi_props.loc[df_ksi_props['KSI']>0, 'KSI'].describe()['mean']\n",
    "df_ksi_props_high = df_ksi_props[df_ksi_props['KSI']>=(mean+std)]\n",
    "\n",
    "plt.bar(height=df_ksi_props_high['KSI'], x=df_ksi_props_high['label'] , linewidth=0, width=1.0)"
   ]
  },
  {
   "cell_type": "code",
   "execution_count": null,
   "metadata": {},
   "outputs": [],
   "source": [
    "mean, std"
   ]
  },
  {
   "cell_type": "code",
   "execution_count": null,
   "metadata": {},
   "outputs": [],
   "source": [
    "df_ksi_props_encoded = df_ksi_props.copy()\n",
    "\n",
    "for col in condition_cols:\n",
    "    df_ksi_props_encoded[col] = df_ksi_props[col].cat.codes\n",
    "    \n",
    "df_ksi_props_encoded.head()"
   ]
  },
  {
   "cell_type": "code",
   "execution_count": null,
   "metadata": {},
   "outputs": [],
   "source": [
    "fig = px.parallel_coordinates(df_ksi_props_encoded,\n",
    "                              color=\"KSI\",\n",
    "                              dimensions=\n",
    "                              ['Light_Conditions','Weather_Conditions',\n",
    "                               'Road_Surface_Conditions','KSI'\n",
    "                              ],\n",
    "                              color_continuous_scale=px.colors.diverging.Tealrose,\n",
    "                              color_continuous_midpoint=0.25)\n",
    "fig.show()"
   ]
  },
  {
   "cell_type": "code",
   "execution_count": null,
   "metadata": {},
   "outputs": [],
   "source": [
    "light_dict"
   ]
  },
  {
   "cell_type": "code",
   "execution_count": null,
   "metadata": {},
   "outputs": [],
   "source": [
    "df_ksi_props_encoded = ['KSI'].hist()"
   ]
  },
  {
   "cell_type": "code",
   "execution_count": null,
   "metadata": {},
   "outputs": [],
   "source": [
    "bins = [0.0, 0.1, 0.2, 0.3, 0.4, 0.5, 1]\n",
    "labels = ['0-0.1', '0.1-0.2', '0.2-0.3', '0.3-0.4','0.4-0.5','0.5+']\n",
    "df_ksi_props['KSI_binned'] = pd.cut(df_ksi_props['KSI'], bins, include_lowest=True, labels=labels)\n",
    "\n",
    "df_ksi_props.head()"
   ]
  },
  {
   "cell_type": "code",
   "execution_count": null,
   "metadata": {},
   "outputs": [],
   "source": [
    "fig = px.parallel_categories(df_ksi_props, dimensions=condition_cols + ['KSI_binned'],\n",
    "                             color=\"KSI\",\n",
    "                             color_continuous_scale=px.colors.sequential.Inferno,\n",
    "                             #labels={'sex':'Payer sex', 'smoker':'Smokers at the table', 'day':'Day of week'}\n",
    "                            )\n",
    "fig.show()"
   ]
  },
  {
   "cell_type": "code",
   "execution_count": null,
   "metadata": {},
   "outputs": [],
   "source": [
    "import plotly.graph_objects as go\n",
    "\n",
    "df = pd.read_csv(\"https://raw.githubusercontent.com/bcdunbar/datasets/master/parcoords_data.csv\")\n",
    "\n",
    "fig = go.Figure(data=\n",
    "    go.Parcoords(\n",
    "        line = dict(color = df['colorVal'],\n",
    "                   colorscale = 'Electric',\n",
    "                   showscale = True,\n",
    "                   cmin = -4000,\n",
    "                   cmax = -100),\n",
    "        dimensions = list([\n",
    "            dict(range = [32000,227900],\n",
    "                 constraintrange = [100000,150000],\n",
    "                 label = \"Block Height\", values = df['blockHeight']),\n",
    "            dict(range = [0,700000],\n",
    "                 label = 'Block Width', values = df['blockWidth']),\n",
    "            dict(tickvals = [0,0.5,1,2,3],\n",
    "                 ticktext = ['A','AB','B','Y','Z'],\n",
    "                 label = 'Cyclinder Material', values = df['cycMaterial']),\n",
    "            dict(range = [-1,4],\n",
    "                 tickvals = [0,1,2,3],\n",
    "                 label = 'Block Material', values = df['blockMaterial']),\n",
    "            dict(range = [134,3154],\n",
    "                 visible = True,\n",
    "                 label = 'Total Weight', values = df['totalWeight']),\n",
    "            dict(range = [9,19984],\n",
    "                 label = 'Assembly Penalty Wt', values = df['assemblyPW']),\n",
    "            dict(range = [49000,568000],\n",
    "                 label = 'Height st Width', values = df['HstW'])])\n",
    "    )\n",
    ")\n",
    "fig.show()"
   ]
  },
  {
   "cell_type": "code",
   "execution_count": null,
   "metadata": {},
   "outputs": [],
   "source": [
    "df"
   ]
  },
  {
   "cell_type": "markdown",
   "metadata": {},
   "source": [
    "## https://datavizcatalogue.com/methods/parallel_coordinates.html\n",
    "\n",
    "# https://towardsdatascience.com/parallel-coordinates-plots-6fcfa066dcb3\n",
    "\n",
    "https://dataforvisualization.com/charts/parallel-sets-plot/#:~:text=Definition,higher%20value%20of%20that%20category.\n",
    "\n"
   ]
  },
  {
   "cell_type": "code",
   "execution_count": null,
   "metadata": {},
   "outputs": [],
   "source": [
    "df_ksi_props[df_ksi_props['KSI']>0.3]"
   ]
  },
  {
   "cell_type": "code",
   "execution_count": null,
   "metadata": {},
   "outputs": [],
   "source": [
    "sns.set(font_scale=0.9)\n",
    "df_light_weather = df_ksi_props[df_ksi_props['Road_Surface_Conditions'].isnull()].pivot(values='KSI',\n",
    "                   index='Light_Conditions',\n",
    "                   columns='Weather_Conditions')\n",
    "\n",
    "sns.heatmap(df_light_weather, annot=True, cmap=\"YlGnBu\", vmin=0, vmax=1);"
   ]
  },
  {
   "cell_type": "code",
   "execution_count": null,
   "metadata": {},
   "outputs": [],
   "source": [
    "df_light_surface = df_ksi_props[df_ksi_props['Weather_Conditions'].isnull()].pivot(values='KSI',\n",
    "                   index='Light_Conditions',\n",
    "                   columns='Road_Surface_Conditions')\n",
    "\n",
    "sns.heatmap(df_light_surface, annot=True, cmap=\"YlGnBu\", vmin=0, vmax=1);"
   ]
  },
  {
   "cell_type": "code",
   "execution_count": null,
   "metadata": {},
   "outputs": [],
   "source": [
    "df_weather_surface = df_ksi_props[df_ksi_props['Light_Conditions'].isnull()].pivot(values='KSI',\n",
    "                   index='Weather_Conditions',\n",
    "                   columns='Road_Surface_Conditions')\n",
    "\n",
    "sns.heatmap(df_weather_surface, annot=True, cmap=\"YlGnBu\", vmin=0, vmax=1);"
   ]
  },
  {
   "cell_type": "markdown",
   "metadata": {},
   "source": [
    "## 5. can we find the worst accident hot spot locations?\n",
    "\n",
    "https://towardsdatascience.com/how-to-embed-interactive-charts-on-your-medium-articles-and-website-6987f7b28472#:~:text=Embed%20in%20Medium&text=Using%20Datapane's%20API%2C%20you%20can,and%20embed%20it%20into%20Medium.&text=Once%20you%20have%20logged%20in,single%20Plot%20component%20in%20it.\n",
    "https://andrewpwheeler.com/2015/09/03/using-kdtrees-in-python-to-calculate-neighbor-counts/\n",
    "\n",
    "https://towardsdatascience.com/mapping-the-uks-traffic-accident-hotspots-632b1129057b"
   ]
  },
  {
   "cell_type": "code",
   "execution_count": 137,
   "metadata": {},
   "outputs": [
    {
     "name": "stdout",
     "output_type": "stream",
     "text": [
      "852321\n",
      "131383\n",
      "131355\n"
     ]
    },
    {
     "data": {
      "image/png": "[encoded data removed]",
      "text/plain": [
       "<Figure size 432x288 with 1 Axes>"
      ]
     },
     "metadata": {},
     "output_type": "display_data"
    }
   ],
   "source": [
    "# Merge Coordinates to casualities\n",
    "casuality_cols = ['Accident_Index','Vehicle_Reference','Casualty_Reference','Casualty_Severity']\n",
    "coordinate_cols = ['Accident_Index','Location_Easting_OSGR', 'Location_Northing_OSGR', 'Longitude', 'Latitude']\n",
    "df_casualties_coords = df_casualties[casuality_cols].merge(df_accidents[coordinate_cols], on='Accident_Index', how='left')\n",
    "\n",
    "# Drop Slight Injuries\n",
    "print(len(df_casualties_coords))\n",
    "df_casualties_coords = df_casualties_coords[~(df_casualties_coords['Casualty_Severity']=='Slight')].copy()\n",
    "\n",
    "# Drop missing coordinates\n",
    "print(len(df_casualties_coords))\n",
    "df_casualties_coords = df_casualties_coords[~df_casualties_coords[['Location_Easting_OSGR','Location_Northing_OSGR']].isnull().any(axis=1)]\n",
    "\n",
    "# Convert DataFrame to array\n",
    "print(len(df_casualties_coords))\n",
    "casuality_array = df_casualties_coords.values\n",
    "\n",
    "# get the coordinates only\n",
    "X = np.array(casuality_array[:,4:6], dtype='int32')\n",
    "\n",
    "# Plot points for a visual checks\n",
    "sns.scatterplot(x=X[:,0], y=X[:,1])\n",
    "plt.axis('equal');"
   ]
  },
  {
   "cell_type": "markdown",
   "metadata": {},
   "source": [
    "### Set up DBSCAN\n",
    "\n",
    "Run multiple set of model fitting\n",
    "\n",
    "for accidents with 500k points it took approx ~ 12 minutes\n",
    "\n",
    "using only KSI (Killed and Seriously Injured Casuality), we have 131,355 points and it takes ~2min"
   ]
  },
  {
   "cell_type": "code",
   "execution_count": 295,
   "metadata": {},
   "outputs": [
    {
     "name": "stdout",
     "output_type": "stream",
     "text": [
      "Clustering took: 4.28 minutes\n"
     ]
    }
   ],
   "source": [
    "# get relative density accidents/sqm\n",
    "start_time=time()\n",
    "\n",
    "df_cluster_stats = pd.DataFrame(columns=['eps', 'min_samples', 'No of Clusters', 'Max No of accidents', 'Max No Cluster No', 'Max Width', 'Max Width Cluster No','Location_Easting_OSGR', 'Location_Northing_OSGR', 'Longitude', 'Latitude'])\n",
    "cnt=0\n",
    "\n",
    "for eps in range(5,71,5):\n",
    "    for min_sample in range(5,101,1):\n",
    "                \n",
    "        # Run DBSCAN\n",
    "        db = DBSCAN(eps=eps, min_samples=min_sample, n_jobs=12).fit(X)\n",
    "        labels = db.labels_\n",
    "        no_clusters = len(np.unique(labels))\n",
    "        \n",
    "        # Check if we have no Clusters\n",
    "        if no_clusters==1:\n",
    "            max_acc_no = np.nan\n",
    "            max_density = np.nan\n",
    "            coords = [np.nan, np.nan]\n",
    "        \n",
    "        else:\n",
    "            # merge cluster labels back\n",
    "            \n",
    "            this_label_col_name = 'Cluster No:'+str(eps) + '-' + str(min_sample)\n",
    "            \n",
    "            df_casualties_coords[this_label_col_name] = labels\n",
    "            df_accidents_coords_cluster = df_casualties_coords[df_casualties_coords[this_label_col_name]>(-1)].copy()\n",
    "            \n",
    "            # 1 aximum number of accidents\n",
    "            max_acc = df_accidents_coords_cluster[this_label_col_name].value_counts()\n",
    "            max_acc_no = max_acc.max()\n",
    "            max_acc_cluster_no = max_acc.idxmax()    \n",
    "         \n",
    "            # Get the centroids of clusters\n",
    "            df_cluster_centroid = df_accidents_coords_cluster.groupby(by=[this_label_col_name])[['Location_Easting_OSGR', 'Location_Northing_OSGR', 'Longitude', 'Latitude']].mean()\n",
    "            coord_list = df_cluster_centroid.loc[max_acc_cluster_no, ['Location_Easting_OSGR','Location_Northing_OSGR','Longitude','Latitude']].tolist()\n",
    "            \n",
    "            # get distance between furthest points           \n",
    "            xy_max = df_accidents_coords_cluster.groupby(by=[this_label_col_name])[['Location_Easting_OSGR','Location_Northing_OSGR']].max()\n",
    "            xy_min = df_accidents_coords_cluster.groupby(by=[this_label_col_name])[['Location_Easting_OSGR','Location_Northing_OSGR']].min()\n",
    "            xy_delta = ((xy_max - xy_min))**2\n",
    "\n",
    "            # Get the distance\n",
    "            df_cluster_centroid['Width'] = np.sqrt(xy_delta.sum(axis=1))\n",
    "\n",
    "            # Max distance and the cluster id \n",
    "            max_distance = df_cluster_centroid['Width'].max()\n",
    "            max_distance_no = df_cluster_centroid['Width'].idxmax()          \n",
    "        \n",
    "        # Populate output\n",
    "        df_cluster_stats.loc[cnt, :] = [eps, min_sample, no_clusters, max_acc_no, max_acc_cluster_no,max_distance,max_distance_no] + coord_list\n",
    "\n",
    "        cnt+=1\n",
    "        \n",
    "elapsed_time = time() - start_time\n",
    "print('Clustering took: {:.2f} minutes'.format(elapsed_time/60))"
   ]
  },
  {
   "cell_type": "code",
   "execution_count": 296,
   "metadata": {},
   "outputs": [],
   "source": [
    "df_cluster_stats_w_clusters = df_cluster_stats[df_cluster_stats['No of Clusters']>1]"
   ]
  },
  {
   "cell_type": "code",
   "execution_count": 297,
   "metadata": {},
   "outputs": [
    {
     "data": {
      "text/html": [
       "<div>\n",
       "<style scoped>\n",
       "    .dataframe tbody tr th:only-of-type {\n",
       "        vertical-align: middle;\n",
       "    }\n",
       "\n",
       "    .dataframe tbody tr th {\n",
       "        vertical-align: top;\n",
       "    }\n",
       "\n",
       "    .dataframe thead th {\n",
       "        text-align: right;\n",
       "    }\n",
       "</style>\n",
       "<table border=\"1\" class=\"dataframe\">\n",
       "  <thead>\n",
       "    <tr style=\"text-align: right;\">\n",
       "      <th></th>\n",
       "      <th>eps</th>\n",
       "      <th>min_samples</th>\n",
       "      <th>No of Clusters</th>\n",
       "      <th>Max No of accidents</th>\n",
       "      <th>Max No Cluster No</th>\n",
       "      <th>Max Width</th>\n",
       "      <th>Max Width Cluster No</th>\n",
       "      <th>Location_Easting_OSGR</th>\n",
       "      <th>Location_Northing_OSGR</th>\n",
       "      <th>Longitude</th>\n",
       "      <th>Latitude</th>\n",
       "    </tr>\n",
       "  </thead>\n",
       "  <tbody>\n",
       "    <tr>\n",
       "      <th>0</th>\n",
       "      <td>5</td>\n",
       "      <td>5</td>\n",
       "      <td>278</td>\n",
       "      <td>15</td>\n",
       "      <td>39</td>\n",
       "      <td>13.4536</td>\n",
       "      <td>61</td>\n",
       "      <td>533382</td>\n",
       "      <td>275288</td>\n",
       "      <td>-0.0427191</td>\n",
       "      <td>52.3594</td>\n",
       "    </tr>\n",
       "    <tr>\n",
       "      <th>1</th>\n",
       "      <td>5</td>\n",
       "      <td>6</td>\n",
       "      <td>118</td>\n",
       "      <td>15</td>\n",
       "      <td>16</td>\n",
       "      <td>9.48683</td>\n",
       "      <td>28</td>\n",
       "      <td>533382</td>\n",
       "      <td>275288</td>\n",
       "      <td>-0.0427191</td>\n",
       "      <td>52.3594</td>\n",
       "    </tr>\n",
       "    <tr>\n",
       "      <th>2</th>\n",
       "      <td>5</td>\n",
       "      <td>7</td>\n",
       "      <td>54</td>\n",
       "      <td>15</td>\n",
       "      <td>7</td>\n",
       "      <td>9.48683</td>\n",
       "      <td>40</td>\n",
       "      <td>533382</td>\n",
       "      <td>275288</td>\n",
       "      <td>-0.0427191</td>\n",
       "      <td>52.3594</td>\n",
       "    </tr>\n",
       "    <tr>\n",
       "      <th>3</th>\n",
       "      <td>5</td>\n",
       "      <td>8</td>\n",
       "      <td>28</td>\n",
       "      <td>15</td>\n",
       "      <td>5</td>\n",
       "      <td>7.2111</td>\n",
       "      <td>5</td>\n",
       "      <td>533382</td>\n",
       "      <td>275288</td>\n",
       "      <td>-0.0427191</td>\n",
       "      <td>52.3594</td>\n",
       "    </tr>\n",
       "    <tr>\n",
       "      <th>4</th>\n",
       "      <td>5</td>\n",
       "      <td>9</td>\n",
       "      <td>20</td>\n",
       "      <td>15</td>\n",
       "      <td>2</td>\n",
       "      <td>7.2111</td>\n",
       "      <td>2</td>\n",
       "      <td>533382</td>\n",
       "      <td>275288</td>\n",
       "      <td>-0.0427191</td>\n",
       "      <td>52.3594</td>\n",
       "    </tr>\n",
       "  </tbody>\n",
       "</table>\n",
       "</div>"
      ],
      "text/plain": [
       "  eps min_samples No of Clusters Max No of accidents Max No Cluster No  \\\n",
       "0   5           5            278                  15                39   \n",
       "1   5           6            118                  15                16   \n",
       "2   5           7             54                  15                 7   \n",
       "3   5           8             28                  15                 5   \n",
       "4   5           9             20                  15                 2   \n",
       "\n",
       "  Max Width Max Width Cluster No Location_Easting_OSGR Location_Northing_OSGR  \\\n",
       "0   13.4536                   61                533382                 275288   \n",
       "1   9.48683                   28                533382                 275288   \n",
       "2   9.48683                   40                533382                 275288   \n",
       "3    7.2111                    5                533382                 275288   \n",
       "4    7.2111                    2                533382                 275288   \n",
       "\n",
       "   Longitude Latitude  \n",
       "0 -0.0427191  52.3594  \n",
       "1 -0.0427191  52.3594  \n",
       "2 -0.0427191  52.3594  \n",
       "3 -0.0427191  52.3594  \n",
       "4 -0.0427191  52.3594  "
      ]
     },
     "execution_count": 297,
     "metadata": {},
     "output_type": "execute_result"
    }
   ],
   "source": [
    "df_cluster_stats_w_clusters.head()"
   ]
  },
  {
   "cell_type": "code",
   "execution_count": 300,
   "metadata": {},
   "outputs": [
    {
     "data": {
      "application/vnd.plotly.v1+json": {
       "config": {
        "plotlyServerURL": "https://plot.ly"
       },
       "data": [
        {
         "customdata": [
          [
           5,
           5
          ],
          [
           10,
           5
          ],
          [
           15,
           5
          ],
          [
           20,
           5
          ],
          [
           25,
           5
          ],
          [
           30,
           5
          ],
          [
           35,
           5
          ],
          [
           40,
           5
          ],
          [
           45,
           5
          ],
          [
           50,
           5
          ],
          [
           55,
           5
          ],
          [
           60,
           5
          ],
          [
           65,
           5
          ],
          [
           70,
           5
          ]
         ],
         "hovertemplate": "<b>%{hovertext}</b><br><br>min_samples=%{customdata[1]}<br>Max Width=%{x}<br>No of Clusters=%{y}<br>eps=%{customdata[0]}<extra></extra>",
         "hovertext": [
          5,
          5,
          5,
          5,
          5,
          5,
          5,
          5,
          5,
          5,
          5,
          5,
          5,
          5
         ],
         "legendgroup": "5",
         "line": {
          "color": "#636efa",
          "dash": "solid"
         },
         "mode": "lines",
         "name": "5",
         "orientation": "v",
         "showlegend": true,
         "type": "scatter",
         "x": [
          13.45362404707371,
          30.14962686336267,
          41.23105625617661,
          61.39218191268331,
          77.6659513557904,
          102.59142264341595,
          162.97545827516484,
          215.40659228538016,
          215.40659228538016,
          266.8332812825267,
          291.45497079308836,
          362.59205727649356,
          705.3906718974954,
          705.3906718974954
         ],
         "xaxis": "x",
         "y": [
          278,
          381,
          458,
          524,
          576,
          650,
          719,
          811,
          896,
          956,
          1015,
          1087,
          1177,
          1258
         ],
         "yaxis": "y"
        },
        {
         "customdata": [
          [
           5,
           6
          ],
          [
           10,
           6
          ],
          [
           15,
           6
          ],
          [
           20,
           6
          ],
          [
           25,
           6
          ],
          [
           30,
           6
          ],
          [
           35,
           6
          ],
          [
           40,
           6
          ],
          [
           45,
           6
          ],
          [
           50,
           6
          ],
          [
           55,
           6
          ],
          [
           60,
           6
          ],
          [
           65,
           6
          ],
          [
           70,
           6
          ]
         ],
         "hovertemplate": "<b>%{hovertext}</b><br><br>min_samples=%{customdata[1]}<br>Max Width=%{x}<br>No of Clusters=%{y}<br>eps=%{customdata[0]}<extra></extra>",
         "hovertext": [
          6,
          6,
          6,
          6,
          6,
          6,
          6,
          6,
          6,
          6,
          6,
          6,
          6,
          6
         ],
         "legendgroup": "6",
         "line": {
          "color": "#EF553B",
          "dash": "solid"
         },
         "mode": "lines",
         "name": "6",
         "orientation": "v",
         "showlegend": true,
         "type": "scatter",
         "x": [
          9.486832980505138,
          26.92582403567252,
          36.05551275463989,
          51.66236541235796,
          71.11961754677819,
          94.93682109698007,
          118.00423721205946,
          192.5123372669918,
          192.5123372669918,
          215.40659228538016,
          252.253840406841,
          323.4439673266453,
          425,
          705.3906718974954
         ],
         "xaxis": "x",
         "y": [
          118,
          153,
          182,
          221,
          258,
          293,
          326,
          369,
          410,
          458,
          505,
          543,
          593,
          645
         ],
         "yaxis": "y"
        },
        {
         "customdata": [
          [
           5,
           7
          ],
          [
           10,
           7
          ],
          [
           15,
           7
          ],
          [
           20,
           7
          ],
          [
           25,
           7
          ],
          [
           30,
           7
          ],
          [
           35,
           7
          ],
          [
           40,
           7
          ],
          [
           45,
           7
          ],
          [
           50,
           7
          ],
          [
           55,
           7
          ],
          [
           60,
           7
          ],
          [
           65,
           7
          ],
          [
           70,
           7
          ]
         ],
         "hovertemplate": "<b>%{hovertext}</b><br><br>min_samples=%{customdata[1]}<br>Max Width=%{x}<br>No of Clusters=%{y}<br>eps=%{customdata[0]}<extra></extra>",
         "hovertext": [
          7,
          7,
          7,
          7,
          7,
          7,
          7,
          7,
          7,
          7,
          7,
          7,
          7,
          7
         ],
         "legendgroup": "7",
         "line": {
          "color": "#00cc96",
          "dash": "solid"
         },
         "mode": "lines",
         "name": "7",
         "orientation": "v",
         "showlegend": true,
         "type": "scatter",
         "x": [
          9.486832980505138,
          24.839484696748443,
          34.20526275297414,
          44.27188724235731,
          63.13477647065839,
          85.44003745317531,
          98.48857801796105,
          162.97545827516484,
          162.97545827516484,
          193.58202395883765,
          204.1298606279836,
          240.41630560342617,
          333.8622470420997,
          420.1071291944473
         ],
         "xaxis": "x",
         "y": [
          54,
          67,
          84,
          103,
          122,
          140,
          154,
          166,
          197,
          225,
          260,
          280,
          319,
          345
         ],
         "yaxis": "y"
        },
        {
         "customdata": [
          [
           5,
           8
          ],
          [
           10,
           8
          ],
          [
           15,
           8
          ],
          [
           20,
           8
          ],
          [
           25,
           8
          ],
          [
           30,
           8
          ],
          [
           35,
           8
          ],
          [
           40,
           8
          ],
          [
           45,
           8
          ],
          [
           50,
           8
          ],
          [
           55,
           8
          ],
          [
           60,
           8
          ],
          [
           65,
           8
          ],
          [
           70,
           8
          ]
         ],
         "hovertemplate": "<b>%{hovertext}</b><br><br>min_samples=%{customdata[1]}<br>Max Width=%{x}<br>No of Clusters=%{y}<br>eps=%{customdata[0]}<extra></extra>",
         "hovertext": [
          8,
          8,
          8,
          8,
          8,
          8,
          8,
          8,
          8,
          8,
          8,
          8,
          8,
          8
         ],
         "legendgroup": "8",
         "line": {
          "color": "#ab63fa",
          "dash": "solid"
         },
         "mode": "lines",
         "name": "8",
         "orientation": "v",
         "showlegend": true,
         "type": "scatter",
         "x": [
          7.211102550927978,
          24.839484696748443,
          28.284271247461902,
          40.311288741492746,
          63.13477647065839,
          80.43009387039157,
          98.48857801796105,
          110.42191811411355,
          139.52060779684126,
          193.58202395883765,
          193.58202395883765,
          240.41630560342617,
          333.8622470420997,
          420.1071291944473
         ],
         "xaxis": "x",
         "y": [
          28,
          35,
          40,
          46,
          57,
          69,
          85,
          92,
          107,
          120,
          140,
          156,
          176,
          195
         ],
         "yaxis": "y"
        },
        {
         "customdata": [
          [
           5,
           9
          ],
          [
           10,
           9
          ],
          [
           15,
           9
          ],
          [
           20,
           9
          ],
          [
           25,
           9
          ],
          [
           30,
           9
          ],
          [
           35,
           9
          ],
          [
           40,
           9
          ],
          [
           45,
           9
          ],
          [
           50,
           9
          ],
          [
           55,
           9
          ],
          [
           60,
           9
          ],
          [
           65,
           9
          ],
          [
           70,
           9
          ]
         ],
         "hovertemplate": "<b>%{hovertext}</b><br><br>min_samples=%{customdata[1]}<br>Max Width=%{x}<br>No of Clusters=%{y}<br>eps=%{customdata[0]}<extra></extra>",
         "hovertext": [
          9,
          9,
          9,
          9,
          9,
          9,
          9,
          9,
          9,
          9,
          9,
          9,
          9,
          9
         ],
         "legendgroup": "9",
         "line": {
          "color": "#FFA15A",
          "dash": "solid"
         },
         "mode": "lines",
         "name": "9",
         "orientation": "v",
         "showlegend": true,
         "type": "scatter",
         "x": [
          7.211102550927978,
          20,
          25.612496949731394,
          40.311288741492746,
          63.13477647065839,
          80.43009387039157,
          98.48857801796105,
          98.48857801796105,
          123.69316876852982,
          193.58202395883765,
          193.58202395883765,
          213.3541656495134,
          333.8622470420997,
          333.8622470420997
         ],
         "xaxis": "x",
         "y": [
          20,
          21,
          23,
          25,
          32,
          37,
          48,
          51,
          60,
          69,
          74,
          91,
          101,
          112
         ],
         "yaxis": "y"
        },
        {
         "customdata": [
          [
           5,
           10
          ],
          [
           10,
           10
          ],
          [
           15,
           10
          ],
          [
           20,
           10
          ],
          [
           25,
           10
          ],
          [
           30,
           10
          ],
          [
           35,
           10
          ],
          [
           40,
           10
          ],
          [
           45,
           10
          ],
          [
           50,
           10
          ],
          [
           55,
           10
          ],
          [
           60,
           10
          ],
          [
           65,
           10
          ],
          [
           70,
           10
          ]
         ],
         "hovertemplate": "<b>%{hovertext}</b><br><br>min_samples=%{customdata[1]}<br>Max Width=%{x}<br>No of Clusters=%{y}<br>eps=%{customdata[0]}<extra></extra>",
         "hovertext": [
          10,
          10,
          10,
          10,
          10,
          10,
          10,
          10,
          10,
          10,
          10,
          10,
          10,
          10
         ],
         "legendgroup": "10",
         "line": {
          "color": "#19d3f3",
          "dash": "solid"
         },
         "mode": "lines",
         "name": "10",
         "orientation": "v",
         "showlegend": true,
         "type": "scatter",
         "x": [
          7.211102550927978,
          20,
          25.612496949731394,
          40.311288741492746,
          63.13477647065839,
          63.13477647065839,
          98.48857801796105,
          98.48857801796105,
          103.74005976477939,
          193.58202395883765,
          193.58202395883765,
          210.34495477667156,
          236.7129062810053,
          282.3118842698621
         ],
         "xaxis": "x",
         "y": [
          11,
          13,
          14,
          14,
          15,
          17,
          20,
          24,
          31,
          37,
          44,
          49,
          57,
          67
         ],
         "yaxis": "y"
        },
        {
         "customdata": [
          [
           5,
           11
          ],
          [
           10,
           11
          ],
          [
           15,
           11
          ],
          [
           20,
           11
          ],
          [
           25,
           11
          ],
          [
           30,
           11
          ],
          [
           35,
           11
          ],
          [
           40,
           11
          ],
          [
           45,
           11
          ],
          [
           50,
           11
          ],
          [
           55,
           11
          ],
          [
           60,
           11
          ],
          [
           65,
           11
          ],
          [
           70,
           11
          ]
         ],
         "hovertemplate": "<b>%{hovertext}</b><br><br>min_samples=%{customdata[1]}<br>Max Width=%{x}<br>No of Clusters=%{y}<br>eps=%{customdata[0]}<extra></extra>",
         "hovertext": [
          11,
          11,
          11,
          11,
          11,
          11,
          11,
          11,
          11,
          11,
          11,
          11,
          11,
          11
         ],
         "legendgroup": "11",
         "line": {
          "color": "#FF6692",
          "dash": "solid"
         },
         "mode": "lines",
         "name": "11",
         "orientation": "v",
         "showlegend": true,
         "type": "scatter",
         "x": [
          7.211102550927978,
          7.211102550927978,
          25.612496949731394,
          40.311288741492746,
          40.311288741492746,
          63.13477647065839,
          83.73768566183328,
          83.73768566183328,
          103.74005976477939,
          193.58202395883765,
          193.58202395883765,
          210.34495477667156,
          236.7129062810053,
          236.7129062810053
         ],
         "xaxis": "x",
         "y": [
          7,
          7,
          8,
          9,
          9,
          10,
          11,
          13,
          18,
          22,
          25,
          30,
          38,
          41
         ],
         "yaxis": "y"
        },
        {
         "customdata": [
          [
           5,
           12
          ],
          [
           10,
           12
          ],
          [
           15,
           12
          ],
          [
           20,
           12
          ],
          [
           25,
           12
          ],
          [
           30,
           12
          ],
          [
           35,
           12
          ],
          [
           40,
           12
          ],
          [
           45,
           12
          ],
          [
           50,
           12
          ],
          [
           55,
           12
          ],
          [
           60,
           12
          ],
          [
           65,
           12
          ],
          [
           70,
           12
          ]
         ],
         "hovertemplate": "<b>%{hovertext}</b><br><br>min_samples=%{customdata[1]}<br>Max Width=%{x}<br>No of Clusters=%{y}<br>eps=%{customdata[0]}<extra></extra>",
         "hovertext": [
          12,
          12,
          12,
          12,
          12,
          12,
          12,
          12,
          12,
          12,
          12,
          12,
          12,
          12
         ],
         "legendgroup": "12",
         "line": {
          "color": "#B6E880",
          "dash": "solid"
         },
         "mode": "lines",
         "name": "12",
         "orientation": "v",
         "showlegend": true,
         "type": "scatter",
         "x": [
          7.211102550927978,
          7.211102550927978,
          25.612496949731394,
          40.311288741492746,
          40.311288741492746,
          63.13477647065839,
          63.13477647065839,
          80.43009387039157,
          103.74005976477939,
          149.8966310495336,
          155.7080601638849,
          210.34495477667156,
          236.7129062810053,
          236.7129062810053
         ],
         "xaxis": "x",
         "y": [
          7,
          7,
          8,
          8,
          8,
          9,
          9,
          10,
          12,
          14,
          20,
          20,
          23,
          27
         ],
         "yaxis": "y"
        },
        {
         "customdata": [
          [
           5,
           13
          ],
          [
           10,
           13
          ],
          [
           15,
           13
          ],
          [
           20,
           13
          ],
          [
           25,
           13
          ],
          [
           30,
           13
          ],
          [
           35,
           13
          ],
          [
           40,
           13
          ],
          [
           45,
           13
          ],
          [
           50,
           13
          ],
          [
           55,
           13
          ],
          [
           60,
           13
          ],
          [
           65,
           13
          ],
          [
           70,
           13
          ]
         ],
         "hovertemplate": "<b>%{hovertext}</b><br><br>min_samples=%{customdata[1]}<br>Max Width=%{x}<br>No of Clusters=%{y}<br>eps=%{customdata[0]}<extra></extra>",
         "hovertext": [
          13,
          13,
          13,
          13,
          13,
          13,
          13,
          13,
          13,
          13,
          13,
          13,
          13,
          13
         ],
         "legendgroup": "13",
         "line": {
          "color": "#FF97FF",
          "dash": "solid"
         },
         "mode": "lines",
         "name": "13",
         "orientation": "v",
         "showlegend": true,
         "type": "scatter",
         "x": [
          7.211102550927978,
          7.211102550927978,
          7.211102550927978,
          18.35755975068582,
          40.311288741492746,
          63.13477647065839,
          63.13477647065839,
          80.43009387039157,
          103.74005976477939,
          149.8966310495336,
          155.7080601638849,
          155.7080601638849,
          201.6035713969373,
          210.34495477667156
         ],
         "xaxis": "x",
         "y": [
          5,
          5,
          5,
          6,
          7,
          7,
          7,
          8,
          8,
          10,
          12,
          13,
          15,
          19
         ],
         "yaxis": "y"
        },
        {
         "customdata": [
          [
           5,
           14
          ],
          [
           10,
           14
          ],
          [
           15,
           14
          ],
          [
           20,
           14
          ],
          [
           25,
           14
          ],
          [
           30,
           14
          ],
          [
           35,
           14
          ],
          [
           40,
           14
          ],
          [
           45,
           14
          ],
          [
           50,
           14
          ],
          [
           55,
           14
          ],
          [
           60,
           14
          ],
          [
           65,
           14
          ],
          [
           70,
           14
          ]
         ],
         "hovertemplate": "<b>%{hovertext}</b><br><br>min_samples=%{customdata[1]}<br>Max Width=%{x}<br>No of Clusters=%{y}<br>eps=%{customdata[0]}<extra></extra>",
         "hovertext": [
          14,
          14,
          14,
          14,
          14,
          14,
          14,
          14,
          14,
          14,
          14,
          14,
          14,
          14
         ],
         "legendgroup": "14",
         "line": {
          "color": "#FECB52",
          "dash": "solid"
         },
         "mode": "lines",
         "name": "14",
         "orientation": "v",
         "showlegend": true,
         "type": "scatter",
         "x": [
          7.211102550927978,
          7.211102550927978,
          7.211102550927978,
          18.35755975068582,
          18.35755975068582,
          18.35755975068582,
          60.90155991434045,
          63.13477647065839,
          103.74005976477939,
          118.00423721205946,
          155.7080601638849,
          155.7080601638849,
          201.6035713969373,
          204.83163818121457
         ],
         "xaxis": "x",
         "y": [
          5,
          5,
          5,
          6,
          6,
          6,
          7,
          7,
          8,
          9,
          9,
          9,
          12,
          12
         ],
         "yaxis": "y"
        },
        {
         "customdata": [
          [
           5,
           15
          ],
          [
           10,
           15
          ],
          [
           15,
           15
          ],
          [
           20,
           15
          ],
          [
           25,
           15
          ],
          [
           30,
           15
          ],
          [
           35,
           15
          ],
          [
           40,
           15
          ],
          [
           45,
           15
          ],
          [
           50,
           15
          ],
          [
           55,
           15
          ],
          [
           60,
           15
          ],
          [
           65,
           15
          ],
          [
           70,
           15
          ]
         ],
         "hovertemplate": "<b>%{hovertext}</b><br><br>min_samples=%{customdata[1]}<br>Max Width=%{x}<br>No of Clusters=%{y}<br>eps=%{customdata[0]}<extra></extra>",
         "hovertext": [
          15,
          15,
          15,
          15,
          15,
          15,
          15,
          15,
          15,
          15,
          15,
          15,
          15,
          15
         ],
         "legendgroup": "15",
         "line": {
          "color": "#636efa",
          "dash": "solid"
         },
         "mode": "lines",
         "name": "15",
         "orientation": "v",
         "showlegend": true,
         "type": "scatter",
         "x": [
          7.211102550927978,
          7.211102550927978,
          7.211102550927978,
          18.35755975068582,
          18.35755975068582,
          18.35755975068582,
          60.90155991434045,
          63.13477647065839,
          63.13477647065839,
          110.11357772772621,
          155.7080601638849,
          155.7080601638849,
          201.6035713969373,
          204.83163818121457
         ],
         "xaxis": "x",
         "y": [
          2,
          2,
          2,
          3,
          3,
          3,
          4,
          4,
          4,
          5,
          5,
          5,
          5,
          7
         ],
         "yaxis": "y"
        },
        {
         "customdata": [
          [
           20,
           16
          ],
          [
           25,
           16
          ],
          [
           30,
           16
          ],
          [
           35,
           16
          ],
          [
           40,
           16
          ],
          [
           45,
           16
          ],
          [
           50,
           16
          ],
          [
           55,
           16
          ],
          [
           60,
           16
          ],
          [
           65,
           16
          ],
          [
           70,
           16
          ]
         ],
         "hovertemplate": "<b>%{hovertext}</b><br><br>min_samples=%{customdata[1]}<br>Max Width=%{x}<br>No of Clusters=%{y}<br>eps=%{customdata[0]}<extra></extra>",
         "hovertext": [
          16,
          16,
          16,
          16,
          16,
          16,
          16,
          16,
          16,
          16,
          16
         ],
         "legendgroup": "16",
         "line": {
          "color": "#EF553B",
          "dash": "solid"
         },
         "mode": "lines",
         "name": "16",
         "orientation": "v",
         "showlegend": true,
         "type": "scatter",
         "x": [
          18.35755975068582,
          18.35755975068582,
          18.35755975068582,
          60.90155991434045,
          63.13477647065839,
          63.13477647065839,
          63.13477647065839,
          155.7080601638849,
          155.7080601638849,
          155.7080601638849,
          168.57639217873896
         ],
         "xaxis": "x",
         "y": [
          2,
          2,
          2,
          3,
          3,
          3,
          3,
          4,
          4,
          4,
          4
         ],
         "yaxis": "y"
        },
        {
         "customdata": [
          [
           35,
           17
          ],
          [
           40,
           17
          ],
          [
           45,
           17
          ],
          [
           50,
           17
          ],
          [
           55,
           17
          ],
          [
           60,
           17
          ],
          [
           65,
           17
          ],
          [
           70,
           17
          ]
         ],
         "hovertemplate": "<b>%{hovertext}</b><br><br>min_samples=%{customdata[1]}<br>Max Width=%{x}<br>No of Clusters=%{y}<br>eps=%{customdata[0]}<extra></extra>",
         "hovertext": [
          17,
          17,
          17,
          17,
          17,
          17,
          17,
          17
         ],
         "legendgroup": "17",
         "line": {
          "color": "#00cc96",
          "dash": "solid"
         },
         "mode": "lines",
         "name": "17",
         "orientation": "v",
         "showlegend": true,
         "type": "scatter",
         "x": [
          60.90155991434045,
          63.13477647065839,
          63.13477647065839,
          63.13477647065839,
          155.7080601638849,
          155.7080601638849,
          155.7080601638849,
          168.57639217873896
         ],
         "xaxis": "x",
         "y": [
          2,
          2,
          2,
          2,
          3,
          3,
          3,
          3
         ],
         "yaxis": "y"
        },
        {
         "customdata": [
          [
           35,
           18
          ],
          [
           40,
           18
          ],
          [
           45,
           18
          ],
          [
           50,
           18
          ],
          [
           55,
           18
          ],
          [
           60,
           18
          ],
          [
           65,
           18
          ],
          [
           70,
           18
          ]
         ],
         "hovertemplate": "<b>%{hovertext}</b><br><br>min_samples=%{customdata[1]}<br>Max Width=%{x}<br>No of Clusters=%{y}<br>eps=%{customdata[0]}<extra></extra>",
         "hovertext": [
          18,
          18,
          18,
          18,
          18,
          18,
          18,
          18
         ],
         "legendgroup": "18",
         "line": {
          "color": "#ab63fa",
          "dash": "solid"
         },
         "mode": "lines",
         "name": "18",
         "orientation": "v",
         "showlegend": true,
         "type": "scatter",
         "x": [
          60.90155991434045,
          63.13477647065839,
          63.13477647065839,
          63.13477647065839,
          155.7080601638849,
          155.7080601638849,
          155.7080601638849,
          168.57639217873896
         ],
         "xaxis": "x",
         "y": [
          2,
          2,
          2,
          2,
          2,
          2,
          3,
          3
         ],
         "yaxis": "y"
        },
        {
         "customdata": [
          [
           40,
           19
          ],
          [
           45,
           19
          ],
          [
           50,
           19
          ],
          [
           55,
           19
          ],
          [
           60,
           19
          ],
          [
           65,
           19
          ],
          [
           70,
           19
          ]
         ],
         "hovertemplate": "<b>%{hovertext}</b><br><br>min_samples=%{customdata[1]}<br>Max Width=%{x}<br>No of Clusters=%{y}<br>eps=%{customdata[0]}<extra></extra>",
         "hovertext": [
          19,
          19,
          19,
          19,
          19,
          19,
          19
         ],
         "legendgroup": "19",
         "line": {
          "color": "#FFA15A",
          "dash": "solid"
         },
         "mode": "lines",
         "name": "19",
         "orientation": "v",
         "showlegend": true,
         "type": "scatter",
         "x": [
          63.13477647065839,
          63.13477647065839,
          63.13477647065839,
          103.74005976477939,
          155.7080601638849,
          155.7080601638849,
          168.57639217873896
         ],
         "xaxis": "x",
         "y": [
          2,
          2,
          2,
          2,
          2,
          2,
          3
         ],
         "yaxis": "y"
        },
        {
         "customdata": [
          [
           40,
           20
          ],
          [
           45,
           20
          ],
          [
           50,
           20
          ],
          [
           55,
           20
          ],
          [
           60,
           20
          ],
          [
           65,
           20
          ],
          [
           70,
           20
          ]
         ],
         "hovertemplate": "<b>%{hovertext}</b><br><br>min_samples=%{customdata[1]}<br>Max Width=%{x}<br>No of Clusters=%{y}<br>eps=%{customdata[0]}<extra></extra>",
         "hovertext": [
          20,
          20,
          20,
          20,
          20,
          20,
          20
         ],
         "legendgroup": "20",
         "line": {
          "color": "#19d3f3",
          "dash": "solid"
         },
         "mode": "lines",
         "name": "20",
         "orientation": "v",
         "showlegend": true,
         "type": "scatter",
         "x": [
          63.13477647065839,
          63.13477647065839,
          63.13477647065839,
          103.74005976477939,
          155.7080601638849,
          155.7080601638849,
          168.57639217873896
         ],
         "xaxis": "x",
         "y": [
          2,
          2,
          2,
          2,
          2,
          2,
          2
         ],
         "yaxis": "y"
        },
        {
         "customdata": [
          [
           55,
           21
          ],
          [
           60,
           21
          ],
          [
           65,
           21
          ],
          [
           70,
           21
          ]
         ],
         "hovertemplate": "<b>%{hovertext}</b><br><br>min_samples=%{customdata[1]}<br>Max Width=%{x}<br>No of Clusters=%{y}<br>eps=%{customdata[0]}<extra></extra>",
         "hovertext": [
          21,
          21,
          21,
          21
         ],
         "legendgroup": "21",
         "line": {
          "color": "#FF6692",
          "dash": "solid"
         },
         "mode": "lines",
         "name": "21",
         "orientation": "v",
         "showlegend": true,
         "type": "scatter",
         "x": [
          103.74005976477939,
          155.7080601638849,
          155.7080601638849,
          168.57639217873896
         ],
         "xaxis": "x",
         "y": [
          2,
          2,
          2,
          2
         ],
         "yaxis": "y"
        },
        {
         "customdata": [
          [
           65,
           22
          ],
          [
           70,
           22
          ]
         ],
         "hovertemplate": "<b>%{hovertext}</b><br><br>min_samples=%{customdata[1]}<br>Max Width=%{x}<br>No of Clusters=%{y}<br>eps=%{customdata[0]}<extra></extra>",
         "hovertext": [
          22,
          22
         ],
         "legendgroup": "22",
         "line": {
          "color": "#B6E880",
          "dash": "solid"
         },
         "mode": "lines",
         "name": "22",
         "orientation": "v",
         "showlegend": true,
         "type": "scatter",
         "x": [
          113.54734695271397,
          126.53062870309307
         ],
         "xaxis": "x",
         "y": [
          2,
          2
         ],
         "yaxis": "y"
        },
        {
         "customdata": [
          [
           70,
           23
          ]
         ],
         "hovertemplate": "<b>%{hovertext}</b><br><br>min_samples=%{customdata[1]}<br>Max Width=%{x}<br>No of Clusters=%{y}<br>eps=%{customdata[0]}<extra></extra>",
         "hovertext": [
          23
         ],
         "legendgroup": "23",
         "line": {
          "color": "#FF97FF",
          "dash": "solid"
         },
         "mode": "lines",
         "name": "23",
         "orientation": "v",
         "showlegend": true,
         "type": "scatter",
         "x": [
          126.53062870309307
         ],
         "xaxis": "x",
         "y": [
          2
         ],
         "yaxis": "y"
        },
        {
         "customdata": [
          [
           20,
           7
          ]
         ],
         "hovertemplate": "Max Width=%{x}<br>No of Clusters=%{y}<br>eps=%{customdata[0]}<br>min_samples=%{customdata[1]}<extra></extra>",
         "legendgroup": "",
         "marker": {
          "color": "#636efa",
          "symbol": "circle"
         },
         "mode": "markers",
         "name": "",
         "orientation": "v",
         "showlegend": false,
         "type": "scatter",
         "x": [
          44.27188724235731
         ],
         "xaxis": "x",
         "y": [
          103
         ],
         "yaxis": "y"
        }
       ],
       "layout": {
        "legend": {
         "title": {
          "text": "min_samples"
         },
         "tracegroupgap": 0
        },
        "margin": {
         "t": 60
        },
        "template": {
         "data": {
          "bar": [
           {
            "error_x": {
             "color": "#2a3f5f"
            },
            "error_y": {
             "color": "#2a3f5f"
            },
            "marker": {
             "line": {
              "color": "#E5ECF6",
              "width": 0.5
             }
            },
            "type": "bar"
           }
          ],
          "barpolar": [
           {
            "marker": {
             "line": {
              "color": "#E5ECF6",
              "width": 0.5
             }
            },
            "type": "barpolar"
           }
          ],
          "carpet": [
           {
            "aaxis": {
             "endlinecolor": "#2a3f5f",
             "gridcolor": "white",
             "linecolor": "white",
             "minorgridcolor": "white",
             "startlinecolor": "#2a3f5f"
            },
            "baxis": {
             "endlinecolor": "#2a3f5f",
             "gridcolor": "white",
             "linecolor": "white",
             "minorgridcolor": "white",
             "startlinecolor": "#2a3f5f"
            },
            "type": "carpet"
           }
          ],
          "choropleth": [
           {
            "colorbar": {
             "outlinewidth": 0,
             "ticks": ""
            },
            "type": "choropleth"
           }
          ],
          "contour": [
           {
            "colorbar": {
             "outlinewidth": 0,
             "ticks": ""
            },
            "colorscale": [
             [
              0,
              "#0d0887"
             ],
             [
              0.1111111111111111,
              "#46039f"
             ],
             [
              0.2222222222222222,
              "#7201a8"
             ],
             [
              0.3333333333333333,
              "#9c179e"
             ],
             [
              0.4444444444444444,
              "#bd3786"
             ],
             [
              0.5555555555555556,
              "#d8576b"
             ],
             [
              0.6666666666666666,
              "#ed7953"
             ],
             [
              0.7777777777777778,
              "#fb9f3a"
             ],
             [
              0.8888888888888888,
              "#fdca26"
             ],
             [
              1,
              "#f0f921"
             ]
            ],
            "type": "contour"
           }
          ],
          "contourcarpet": [
           {
            "colorbar": {
             "outlinewidth": 0,
             "ticks": ""
            },
            "type": "contourcarpet"
           }
          ],
          "heatmap": [
           {
            "colorbar": {
             "outlinewidth": 0,
             "ticks": ""
            },
            "colorscale": [
             [
              0,
              "#0d0887"
             ],
             [
              0.1111111111111111,
              "#46039f"
             ],
             [
              0.2222222222222222,
              "#7201a8"
             ],
             [
              0.3333333333333333,
              "#9c179e"
             ],
             [
              0.4444444444444444,
              "#bd3786"
             ],
             [
              0.5555555555555556,
              "#d8576b"
             ],
             [
              0.6666666666666666,
              "#ed7953"
             ],
             [
              0.7777777777777778,
              "#fb9f3a"
             ],
             [
              0.8888888888888888,
              "#fdca26"
             ],
             [
              1,
              "#f0f921"
             ]
            ],
            "type": "heatmap"
           }
          ],
          "heatmapgl": [
           {
            "colorbar": {
             "outlinewidth": 0,
             "ticks": ""
            },
            "colorscale": [
             [
              0,
              "#0d0887"
             ],
             [
              0.1111111111111111,
              "#46039f"
             ],
             [
              0.2222222222222222,
              "#7201a8"
             ],
             [
              0.3333333333333333,
              "#9c179e"
             ],
             [
              0.4444444444444444,
              "#bd3786"
             ],
             [
              0.5555555555555556,
              "#d8576b"
             ],
             [
              0.6666666666666666,
              "#ed7953"
             ],
             [
              0.7777777777777778,
              "#fb9f3a"
             ],
             [
              0.8888888888888888,
              "#fdca26"
             ],
             [
              1,
              "#f0f921"
             ]
            ],
            "type": "heatmapgl"
           }
          ],
          "histogram": [
           {
            "marker": {
             "colorbar": {
              "outlinewidth": 0,
              "ticks": ""
             }
            },
            "type": "histogram"
           }
          ],
          "histogram2d": [
           {
            "colorbar": {
             "outlinewidth": 0,
             "ticks": ""
            },
            "colorscale": [
             [
              0,
              "#0d0887"
             ],
             [
              0.1111111111111111,
              "#46039f"
             ],
             [
              0.2222222222222222,
              "#7201a8"
             ],
             [
              0.3333333333333333,
              "#9c179e"
             ],
             [
              0.4444444444444444,
              "#bd3786"
             ],
             [
              0.5555555555555556,
              "#d8576b"
             ],
             [
              0.6666666666666666,
              "#ed7953"
             ],
             [
              0.7777777777777778,
              "#fb9f3a"
             ],
             [
              0.8888888888888888,
              "#fdca26"
             ],
             [
              1,
              "#f0f921"
             ]
            ],
            "type": "histogram2d"
           }
          ],
          "histogram2dcontour": [
           {
            "colorbar": {
             "outlinewidth": 0,
             "ticks": ""
            },
            "colorscale": [
             [
              0,
              "#0d0887"
             ],
             [
              0.1111111111111111,
              "#46039f"
             ],
             [
              0.2222222222222222,
              "#7201a8"
             ],
             [
              0.3333333333333333,
              "#9c179e"
             ],
             [
              0.4444444444444444,
              "#bd3786"
             ],
             [
              0.5555555555555556,
              "#d8576b"
             ],
             [
              0.6666666666666666,
              "#ed7953"
             ],
             [
              0.7777777777777778,
              "#fb9f3a"
             ],
             [
              0.8888888888888888,
              "#fdca26"
             ],
             [
              1,
              "#f0f921"
             ]
            ],
            "type": "histogram2dcontour"
           }
          ],
          "mesh3d": [
           {
            "colorbar": {
             "outlinewidth": 0,
             "ticks": ""
            },
            "type": "mesh3d"
           }
          ],
          "parcoords": [
           {
            "line": {
             "colorbar": {
              "outlinewidth": 0,
              "ticks": ""
             }
            },
            "type": "parcoords"
           }
          ],
          "pie": [
           {
            "automargin": true,
            "type": "pie"
           }
          ],
          "scatter": [
           {
            "marker": {
             "colorbar": {
              "outlinewidth": 0,
              "ticks": ""
             }
            },
            "type": "scatter"
           }
          ],
          "scatter3d": [
           {
            "line": {
             "colorbar": {
              "outlinewidth": 0,
              "ticks": ""
             }
            },
            "marker": {
             "colorbar": {
              "outlinewidth": 0,
              "ticks": ""
             }
            },
            "type": "scatter3d"
           }
          ],
          "scattercarpet": [
           {
            "marker": {
             "colorbar": {
              "outlinewidth": 0,
              "ticks": ""
             }
            },
            "type": "scattercarpet"
           }
          ],
          "scattergeo": [
           {
            "marker": {
             "colorbar": {
              "outlinewidth": 0,
              "ticks": ""
             }
            },
            "type": "scattergeo"
           }
          ],
          "scattergl": [
           {
            "marker": {
             "colorbar": {
              "outlinewidth": 0,
              "ticks": ""
             }
            },
            "type": "scattergl"
           }
          ],
          "scattermapbox": [
           {
            "marker": {
             "colorbar": {
              "outlinewidth": 0,
              "ticks": ""
             }
            },
            "type": "scattermapbox"
           }
          ],
          "scatterpolar": [
           {
            "marker": {
             "colorbar": {
              "outlinewidth": 0,
              "ticks": ""
             }
            },
            "type": "scatterpolar"
           }
          ],
          "scatterpolargl": [
           {
            "marker": {
             "colorbar": {
              "outlinewidth": 0,
              "ticks": ""
             }
            },
            "type": "scatterpolargl"
           }
          ],
          "scatterternary": [
           {
            "marker": {
             "colorbar": {
              "outlinewidth": 0,
              "ticks": ""
             }
            },
            "type": "scatterternary"
           }
          ],
          "surface": [
           {
            "colorbar": {
             "outlinewidth": 0,
             "ticks": ""
            },
            "colorscale": [
             [
              0,
              "#0d0887"
             ],
             [
              0.1111111111111111,
              "#46039f"
             ],
             [
              0.2222222222222222,
              "#7201a8"
             ],
             [
              0.3333333333333333,
              "#9c179e"
             ],
             [
              0.4444444444444444,
              "#bd3786"
             ],
             [
              0.5555555555555556,
              "#d8576b"
             ],
             [
              0.6666666666666666,
              "#ed7953"
             ],
             [
              0.7777777777777778,
              "#fb9f3a"
             ],
             [
              0.8888888888888888,
              "#fdca26"
             ],
             [
              1,
              "#f0f921"
             ]
            ],
            "type": "surface"
           }
          ],
          "table": [
           {
            "cells": {
             "fill": {
              "color": "#EBF0F8"
             },
             "line": {
              "color": "white"
             }
            },
            "header": {
             "fill": {
              "color": "#C8D4E3"
             },
             "line": {
              "color": "white"
             }
            },
            "type": "table"
           }
          ]
         },
         "layout": {
          "annotationdefaults": {
           "arrowcolor": "#2a3f5f",
           "arrowhead": 0,
           "arrowwidth": 1
          },
          "autotypenumbers": "strict",
          "coloraxis": {
           "colorbar": {
            "outlinewidth": 0,
            "ticks": ""
           }
          },
          "colorscale": {
           "diverging": [
            [
             0,
             "#8e0152"
            ],
            [
             0.1,
             "#c51b7d"
            ],
            [
             0.2,
             "#de77ae"
            ],
            [
             0.3,
             "#f1b6da"
            ],
            [
             0.4,
             "#fde0ef"
            ],
            [
             0.5,
             "#f7f7f7"
            ],
            [
             0.6,
             "#e6f5d0"
            ],
            [
             0.7,
             "#b8e186"
            ],
            [
             0.8,
             "#7fbc41"
            ],
            [
             0.9,
             "#4d9221"
            ],
            [
             1,
             "#276419"
            ]
           ],
           "sequential": [
            [
             0,
             "#0d0887"
            ],
            [
             0.1111111111111111,
             "#46039f"
            ],
            [
             0.2222222222222222,
             "#7201a8"
            ],
            [
             0.3333333333333333,
             "#9c179e"
            ],
            [
             0.4444444444444444,
             "#bd3786"
            ],
            [
             0.5555555555555556,
             "#d8576b"
            ],
            [
             0.6666666666666666,
             "#ed7953"
            ],
            [
             0.7777777777777778,
             "#fb9f3a"
            ],
            [
             0.8888888888888888,
             "#fdca26"
            ],
            [
             1,
             "#f0f921"
            ]
           ],
           "sequentialminus": [
            [
             0,
             "#0d0887"
            ],
            [
             0.1111111111111111,
             "#46039f"
            ],
            [
             0.2222222222222222,
             "#7201a8"
            ],
            [
             0.3333333333333333,
             "#9c179e"
            ],
            [
             0.4444444444444444,
             "#bd3786"
            ],
            [
             0.5555555555555556,
             "#d8576b"
            ],
            [
             0.6666666666666666,
             "#ed7953"
            ],
            [
             0.7777777777777778,
             "#fb9f3a"
            ],
            [
             0.8888888888888888,
             "#fdca26"
            ],
            [
             1,
             "#f0f921"
            ]
           ]
          },
          "colorway": [
           "#636efa",
           "#EF553B",
           "#00cc96",
           "#ab63fa",
           "#FFA15A",
           "#19d3f3",
           "#FF6692",
           "#B6E880",
           "#FF97FF",
           "#FECB52"
          ],
          "font": {
           "color": "#2a3f5f"
          },
          "geo": {
           "bgcolor": "white",
           "lakecolor": "white",
           "landcolor": "#E5ECF6",
           "showlakes": true,
           "showland": true,
           "subunitcolor": "white"
          },
          "hoverlabel": {
           "align": "left"
          },
          "hovermode": "closest",
          "mapbox": {
           "style": "light"
          },
          "paper_bgcolor": "white",
          "plot_bgcolor": "#E5ECF6",
          "polar": {
           "angularaxis": {
            "gridcolor": "white",
            "linecolor": "white",
            "ticks": ""
           },
           "bgcolor": "#E5ECF6",
           "radialaxis": {
            "gridcolor": "white",
            "linecolor": "white",
            "ticks": ""
           }
          },
          "scene": {
           "xaxis": {
            "backgroundcolor": "#E5ECF6",
            "gridcolor": "white",
            "gridwidth": 2,
            "linecolor": "white",
            "showbackground": true,
            "ticks": "",
            "zerolinecolor": "white"
           },
           "yaxis": {
            "backgroundcolor": "#E5ECF6",
            "gridcolor": "white",
            "gridwidth": 2,
            "linecolor": "white",
            "showbackground": true,
            "ticks": "",
            "zerolinecolor": "white"
           },
           "zaxis": {
            "backgroundcolor": "#E5ECF6",
            "gridcolor": "white",
            "gridwidth": 2,
            "linecolor": "white",
            "showbackground": true,
            "ticks": "",
            "zerolinecolor": "white"
           }
          },
          "shapedefaults": {
           "line": {
            "color": "#2a3f5f"
           }
          },
          "ternary": {
           "aaxis": {
            "gridcolor": "white",
            "linecolor": "white",
            "ticks": ""
           },
           "baxis": {
            "gridcolor": "white",
            "linecolor": "white",
            "ticks": ""
           },
           "bgcolor": "#E5ECF6",
           "caxis": {
            "gridcolor": "white",
            "linecolor": "white",
            "ticks": ""
           }
          },
          "title": {
           "x": 0.05
          },
          "xaxis": {
           "automargin": true,
           "gridcolor": "white",
           "linecolor": "white",
           "ticks": "",
           "title": {
            "standoff": 15
           },
           "zerolinecolor": "white",
           "zerolinewidth": 2
          },
          "yaxis": {
           "automargin": true,
           "gridcolor": "white",
           "linecolor": "white",
           "ticks": "",
           "title": {
            "standoff": 15
           },
           "zerolinecolor": "white",
           "zerolinewidth": 2
          }
         }
        },
        "xaxis": {
         "anchor": "y",
         "domain": [
          0,
          1
         ],
         "title": {
          "text": "Max Width"
         }
        },
        "yaxis": {
         "anchor": "x",
         "domain": [
          0,
          1
         ],
         "title": {
          "text": "No of Clusters"
         }
        }
       }
      },
      "text/html": [
       "<div>                            <div id=\"aab43357-8e68-4f6b-bfb2-d236875b4a1d\" class=\"plotly-graph-div\" style=\"height:525px; width:100%;\"></div>            <script type=\"text/javascript\">                require([\"plotly\"], function(Plotly) {                    window.PLOTLYENV=window.PLOTLYENV || {};                                    if (document.getElementById(\"aab43357-8e68-4f6b-bfb2-d236875b4a1d\")) {                    Plotly.newPlot(                        \"aab43357-8e68-4f6b-bfb2-d236875b4a1d\",                        [{\"customdata\": [[5, 5], [10, 5], [15, 5], [20, 5], [25, 5], [30, 5], [35, 5], [40, 5], [45, 5], [50, 5], [55, 5], [60, 5], [65, 5], [70, 5]], \"hovertemplate\": \"<b>%{hovertext}</b><br><br>min_samples=%{customdata[1]}<br>Max Width=%{x}<br>No of Clusters=%{y}<br>eps=%{customdata[0]}<extra></extra>\", \"hovertext\": [5, 5, 5, 5, 5, 5, 5, 5, 5, 5, 5, 5, 5, 5], \"legendgroup\": \"5\", \"line\": {\"color\": \"#636efa\", \"dash\": \"solid\"}, \"mode\": \"lines\", \"name\": \"5\", \"orientation\": \"v\", \"showlegend\": true, \"type\": \"scatter\", \"x\": [13.45362404707371, 30.14962686336267, 41.23105625617661, 61.39218191268331, 77.6659513557904, 102.59142264341595, 162.97545827516484, 215.40659228538016, 215.40659228538016, 266.8332812825267, 291.45497079308836, 362.59205727649356, 705.3906718974954, 705.3906718974954], \"xaxis\": \"x\", \"y\": [278, 381, 458, 524, 576, 650, 719, 811, 896, 956, 1015, 1087, 1177, 1258], \"yaxis\": \"y\"}, {\"customdata\": [[5, 6], [10, 6], [15, 6], [20, 6], [25, 6], [30, 6], [35, 6], [40, 6], [45, 6], [50, 6], [55, 6], [60, 6], [65, 6], [70, 6]], \"hovertemplate\": \"<b>%{hovertext}</b><br><br>min_samples=%{customdata[1]}<br>Max Width=%{x}<br>No of Clusters=%{y}<br>eps=%{customdata[0]}<extra></extra>\", \"hovertext\": [6, 6, 6, 6, 6, 6, 6, 6, 6, 6, 6, 6, 6, 6], \"legendgroup\": \"6\", \"line\": {\"color\": \"#EF553B\", \"dash\": \"solid\"}, \"mode\": \"lines\", \"name\": \"6\", \"orientation\": \"v\", \"showlegend\": true, \"type\": \"scatter\", \"x\": [9.486832980505138, 26.92582403567252, 36.05551275463989, 51.66236541235796, 71.11961754677819, 94.93682109698007, 118.00423721205946, 192.5123372669918, 192.5123372669918, 215.40659228538016, 252.253840406841, 323.4439673266453, 425.0, 705.3906718974954], \"xaxis\": \"x\", \"y\": [118, 153, 182, 221, 258, 293, 326, 369, 410, 458, 505, 543, 593, 645], \"yaxis\": \"y\"}, {\"customdata\": [[5, 7], [10, 7], [15, 7], [20, 7], [25, 7], [30, 7], [35, 7], [40, 7], [45, 7], [50, 7], [55, 7], [60, 7], [65, 7], [70, 7]], \"hovertemplate\": \"<b>%{hovertext}</b><br><br>min_samples=%{customdata[1]}<br>Max Width=%{x}<br>No of Clusters=%{y}<br>eps=%{customdata[0]}<extra></extra>\", \"hovertext\": [7, 7, 7, 7, 7, 7, 7, 7, 7, 7, 7, 7, 7, 7], \"legendgroup\": \"7\", \"line\": {\"color\": \"#00cc96\", \"dash\": \"solid\"}, \"mode\": \"lines\", \"name\": \"7\", \"orientation\": \"v\", \"showlegend\": true, \"type\": \"scatter\", \"x\": [9.486832980505138, 24.839484696748443, 34.20526275297414, 44.27188724235731, 63.13477647065839, 85.44003745317531, 98.48857801796105, 162.97545827516484, 162.97545827516484, 193.58202395883765, 204.1298606279836, 240.41630560342617, 333.8622470420997, 420.1071291944473], \"xaxis\": \"x\", \"y\": [54, 67, 84, 103, 122, 140, 154, 166, 197, 225, 260, 280, 319, 345], \"yaxis\": \"y\"}, {\"customdata\": [[5, 8], [10, 8], [15, 8], [20, 8], [25, 8], [30, 8], [35, 8], [40, 8], [45, 8], [50, 8], [55, 8], [60, 8], [65, 8], [70, 8]], \"hovertemplate\": \"<b>%{hovertext}</b><br><br>min_samples=%{customdata[1]}<br>Max Width=%{x}<br>No of Clusters=%{y}<br>eps=%{customdata[0]}<extra></extra>\", \"hovertext\": [8, 8, 8, 8, 8, 8, 8, 8, 8, 8, 8, 8, 8, 8], \"legendgroup\": \"8\", \"line\": {\"color\": \"#ab63fa\", \"dash\": \"solid\"}, \"mode\": \"lines\", \"name\": \"8\", \"orientation\": \"v\", \"showlegend\": true, \"type\": \"scatter\", \"x\": [7.211102550927978, 24.839484696748443, 28.284271247461902, 40.311288741492746, 63.13477647065839, 80.43009387039157, 98.48857801796105, 110.42191811411355, 139.52060779684126, 193.58202395883765, 193.58202395883765, 240.41630560342617, 333.8622470420997, 420.1071291944473], \"xaxis\": \"x\", \"y\": [28, 35, 40, 46, 57, 69, 85, 92, 107, 120, 140, 156, 176, 195], \"yaxis\": \"y\"}, {\"customdata\": [[5, 9], [10, 9], [15, 9], [20, 9], [25, 9], [30, 9], [35, 9], [40, 9], [45, 9], [50, 9], [55, 9], [60, 9], [65, 9], [70, 9]], \"hovertemplate\": \"<b>%{hovertext}</b><br><br>min_samples=%{customdata[1]}<br>Max Width=%{x}<br>No of Clusters=%{y}<br>eps=%{customdata[0]}<extra></extra>\", \"hovertext\": [9, 9, 9, 9, 9, 9, 9, 9, 9, 9, 9, 9, 9, 9], \"legendgroup\": \"9\", \"line\": {\"color\": \"#FFA15A\", \"dash\": \"solid\"}, \"mode\": \"lines\", \"name\": \"9\", \"orientation\": \"v\", \"showlegend\": true, \"type\": \"scatter\", \"x\": [7.211102550927978, 20.0, 25.612496949731394, 40.311288741492746, 63.13477647065839, 80.43009387039157, 98.48857801796105, 98.48857801796105, 123.69316876852982, 193.58202395883765, 193.58202395883765, 213.3541656495134, 333.8622470420997, 333.8622470420997], \"xaxis\": \"x\", \"y\": [20, 21, 23, 25, 32, 37, 48, 51, 60, 69, 74, 91, 101, 112], \"yaxis\": \"y\"}, {\"customdata\": [[5, 10], [10, 10], [15, 10], [20, 10], [25, 10], [30, 10], [35, 10], [40, 10], [45, 10], [50, 10], [55, 10], [60, 10], [65, 10], [70, 10]], \"hovertemplate\": \"<b>%{hovertext}</b><br><br>min_samples=%{customdata[1]}<br>Max Width=%{x}<br>No of Clusters=%{y}<br>eps=%{customdata[0]}<extra></extra>\", \"hovertext\": [10, 10, 10, 10, 10, 10, 10, 10, 10, 10, 10, 10, 10, 10], \"legendgroup\": \"10\", \"line\": {\"color\": \"#19d3f3\", \"dash\": \"solid\"}, \"mode\": \"lines\", \"name\": \"10\", \"orientation\": \"v\", \"showlegend\": true, \"type\": \"scatter\", \"x\": [7.211102550927978, 20.0, 25.612496949731394, 40.311288741492746, 63.13477647065839, 63.13477647065839, 98.48857801796105, 98.48857801796105, 103.74005976477939, 193.58202395883765, 193.58202395883765, 210.34495477667156, 236.7129062810053, 282.3118842698621], \"xaxis\": \"x\", \"y\": [11, 13, 14, 14, 15, 17, 20, 24, 31, 37, 44, 49, 57, 67], \"yaxis\": \"y\"}, {\"customdata\": [[5, 11], [10, 11], [15, 11], [20, 11], [25, 11], [30, 11], [35, 11], [40, 11], [45, 11], [50, 11], [55, 11], [60, 11], [65, 11], [70, 11]], \"hovertemplate\": \"<b>%{hovertext}</b><br><br>min_samples=%{customdata[1]}<br>Max Width=%{x}<br>No of Clusters=%{y}<br>eps=%{customdata[0]}<extra></extra>\", \"hovertext\": [11, 11, 11, 11, 11, 11, 11, 11, 11, 11, 11, 11, 11, 11], \"legendgroup\": \"11\", \"line\": {\"color\": \"#FF6692\", \"dash\": \"solid\"}, \"mode\": \"lines\", \"name\": \"11\", \"orientation\": \"v\", \"showlegend\": true, \"type\": \"scatter\", \"x\": [7.211102550927978, 7.211102550927978, 25.612496949731394, 40.311288741492746, 40.311288741492746, 63.13477647065839, 83.73768566183328, 83.73768566183328, 103.74005976477939, 193.58202395883765, 193.58202395883765, 210.34495477667156, 236.7129062810053, 236.7129062810053], \"xaxis\": \"x\", \"y\": [7, 7, 8, 9, 9, 10, 11, 13, 18, 22, 25, 30, 38, 41], \"yaxis\": \"y\"}, {\"customdata\": [[5, 12], [10, 12], [15, 12], [20, 12], [25, 12], [30, 12], [35, 12], [40, 12], [45, 12], [50, 12], [55, 12], [60, 12], [65, 12], [70, 12]], \"hovertemplate\": \"<b>%{hovertext}</b><br><br>min_samples=%{customdata[1]}<br>Max Width=%{x}<br>No of Clusters=%{y}<br>eps=%{customdata[0]}<extra></extra>\", \"hovertext\": [12, 12, 12, 12, 12, 12, 12, 12, 12, 12, 12, 12, 12, 12], \"legendgroup\": \"12\", \"line\": {\"color\": \"#B6E880\", \"dash\": \"solid\"}, \"mode\": \"lines\", \"name\": \"12\", \"orientation\": \"v\", \"showlegend\": true, \"type\": \"scatter\", \"x\": [7.211102550927978, 7.211102550927978, 25.612496949731394, 40.311288741492746, 40.311288741492746, 63.13477647065839, 63.13477647065839, 80.43009387039157, 103.74005976477939, 149.8966310495336, 155.7080601638849, 210.34495477667156, 236.7129062810053, 236.7129062810053], \"xaxis\": \"x\", \"y\": [7, 7, 8, 8, 8, 9, 9, 10, 12, 14, 20, 20, 23, 27], \"yaxis\": \"y\"}, {\"customdata\": [[5, 13], [10, 13], [15, 13], [20, 13], [25, 13], [30, 13], [35, 13], [40, 13], [45, 13], [50, 13], [55, 13], [60, 13], [65, 13], [70, 13]], \"hovertemplate\": \"<b>%{hovertext}</b><br><br>min_samples=%{customdata[1]}<br>Max Width=%{x}<br>No of Clusters=%{y}<br>eps=%{customdata[0]}<extra></extra>\", \"hovertext\": [13, 13, 13, 13, 13, 13, 13, 13, 13, 13, 13, 13, 13, 13], \"legendgroup\": \"13\", \"line\": {\"color\": \"#FF97FF\", \"dash\": \"solid\"}, \"mode\": \"lines\", \"name\": \"13\", \"orientation\": \"v\", \"showlegend\": true, \"type\": \"scatter\", \"x\": [7.211102550927978, 7.211102550927978, 7.211102550927978, 18.35755975068582, 40.311288741492746, 63.13477647065839, 63.13477647065839, 80.43009387039157, 103.74005976477939, 149.8966310495336, 155.7080601638849, 155.7080601638849, 201.6035713969373, 210.34495477667156], \"xaxis\": \"x\", \"y\": [5, 5, 5, 6, 7, 7, 7, 8, 8, 10, 12, 13, 15, 19], \"yaxis\": \"y\"}, {\"customdata\": [[5, 14], [10, 14], [15, 14], [20, 14], [25, 14], [30, 14], [35, 14], [40, 14], [45, 14], [50, 14], [55, 14], [60, 14], [65, 14], [70, 14]], \"hovertemplate\": \"<b>%{hovertext}</b><br><br>min_samples=%{customdata[1]}<br>Max Width=%{x}<br>No of Clusters=%{y}<br>eps=%{customdata[0]}<extra></extra>\", \"hovertext\": [14, 14, 14, 14, 14, 14, 14, 14, 14, 14, 14, 14, 14, 14], \"legendgroup\": \"14\", \"line\": {\"color\": \"#FECB52\", \"dash\": \"solid\"}, \"mode\": \"lines\", \"name\": \"14\", \"orientation\": \"v\", \"showlegend\": true, \"type\": \"scatter\", \"x\": [7.211102550927978, 7.211102550927978, 7.211102550927978, 18.35755975068582, 18.35755975068582, 18.35755975068582, 60.90155991434045, 63.13477647065839, 103.74005976477939, 118.00423721205946, 155.7080601638849, 155.7080601638849, 201.6035713969373, 204.83163818121457], \"xaxis\": \"x\", \"y\": [5, 5, 5, 6, 6, 6, 7, 7, 8, 9, 9, 9, 12, 12], \"yaxis\": \"y\"}, {\"customdata\": [[5, 15], [10, 15], [15, 15], [20, 15], [25, 15], [30, 15], [35, 15], [40, 15], [45, 15], [50, 15], [55, 15], [60, 15], [65, 15], [70, 15]], \"hovertemplate\": \"<b>%{hovertext}</b><br><br>min_samples=%{customdata[1]}<br>Max Width=%{x}<br>No of Clusters=%{y}<br>eps=%{customdata[0]}<extra></extra>\", \"hovertext\": [15, 15, 15, 15, 15, 15, 15, 15, 15, 15, 15, 15, 15, 15], \"legendgroup\": \"15\", \"line\": {\"color\": \"#636efa\", \"dash\": \"solid\"}, \"mode\": \"lines\", \"name\": \"15\", \"orientation\": \"v\", \"showlegend\": true, \"type\": \"scatter\", \"x\": [7.211102550927978, 7.211102550927978, 7.211102550927978, 18.35755975068582, 18.35755975068582, 18.35755975068582, 60.90155991434045, 63.13477647065839, 63.13477647065839, 110.11357772772621, 155.7080601638849, 155.7080601638849, 201.6035713969373, 204.83163818121457], \"xaxis\": \"x\", \"y\": [2, 2, 2, 3, 3, 3, 4, 4, 4, 5, 5, 5, 5, 7], \"yaxis\": \"y\"}, {\"customdata\": [[20, 16], [25, 16], [30, 16], [35, 16], [40, 16], [45, 16], [50, 16], [55, 16], [60, 16], [65, 16], [70, 16]], \"hovertemplate\": \"<b>%{hovertext}</b><br><br>min_samples=%{customdata[1]}<br>Max Width=%{x}<br>No of Clusters=%{y}<br>eps=%{customdata[0]}<extra></extra>\", \"hovertext\": [16, 16, 16, 16, 16, 16, 16, 16, 16, 16, 16], \"legendgroup\": \"16\", \"line\": {\"color\": \"#EF553B\", \"dash\": \"solid\"}, \"mode\": \"lines\", \"name\": \"16\", \"orientation\": \"v\", \"showlegend\": true, \"type\": \"scatter\", \"x\": [18.35755975068582, 18.35755975068582, 18.35755975068582, 60.90155991434045, 63.13477647065839, 63.13477647065839, 63.13477647065839, 155.7080601638849, 155.7080601638849, 155.7080601638849, 168.57639217873896], \"xaxis\": \"x\", \"y\": [2, 2, 2, 3, 3, 3, 3, 4, 4, 4, 4], \"yaxis\": \"y\"}, {\"customdata\": [[35, 17], [40, 17], [45, 17], [50, 17], [55, 17], [60, 17], [65, 17], [70, 17]], \"hovertemplate\": \"<b>%{hovertext}</b><br><br>min_samples=%{customdata[1]}<br>Max Width=%{x}<br>No of Clusters=%{y}<br>eps=%{customdata[0]}<extra></extra>\", \"hovertext\": [17, 17, 17, 17, 17, 17, 17, 17], \"legendgroup\": \"17\", \"line\": {\"color\": \"#00cc96\", \"dash\": \"solid\"}, \"mode\": \"lines\", \"name\": \"17\", \"orientation\": \"v\", \"showlegend\": true, \"type\": \"scatter\", \"x\": [60.90155991434045, 63.13477647065839, 63.13477647065839, 63.13477647065839, 155.7080601638849, 155.7080601638849, 155.7080601638849, 168.57639217873896], \"xaxis\": \"x\", \"y\": [2, 2, 2, 2, 3, 3, 3, 3], \"yaxis\": \"y\"}, {\"customdata\": [[35, 18], [40, 18], [45, 18], [50, 18], [55, 18], [60, 18], [65, 18], [70, 18]], \"hovertemplate\": \"<b>%{hovertext}</b><br><br>min_samples=%{customdata[1]}<br>Max Width=%{x}<br>No of Clusters=%{y}<br>eps=%{customdata[0]}<extra></extra>\", \"hovertext\": [18, 18, 18, 18, 18, 18, 18, 18], \"legendgroup\": \"18\", \"line\": {\"color\": \"#ab63fa\", \"dash\": \"solid\"}, \"mode\": \"lines\", \"name\": \"18\", \"orientation\": \"v\", \"showlegend\": true, \"type\": \"scatter\", \"x\": [60.90155991434045, 63.13477647065839, 63.13477647065839, 63.13477647065839, 155.7080601638849, 155.7080601638849, 155.7080601638849, 168.57639217873896], \"xaxis\": \"x\", \"y\": [2, 2, 2, 2, 2, 2, 3, 3], \"yaxis\": \"y\"}, {\"customdata\": [[40, 19], [45, 19], [50, 19], [55, 19], [60, 19], [65, 19], [70, 19]], \"hovertemplate\": \"<b>%{hovertext}</b><br><br>min_samples=%{customdata[1]}<br>Max Width=%{x}<br>No of Clusters=%{y}<br>eps=%{customdata[0]}<extra></extra>\", \"hovertext\": [19, 19, 19, 19, 19, 19, 19], \"legendgroup\": \"19\", \"line\": {\"color\": \"#FFA15A\", \"dash\": \"solid\"}, \"mode\": \"lines\", \"name\": \"19\", \"orientation\": \"v\", \"showlegend\": true, \"type\": \"scatter\", \"x\": [63.13477647065839, 63.13477647065839, 63.13477647065839, 103.74005976477939, 155.7080601638849, 155.7080601638849, 168.57639217873896], \"xaxis\": \"x\", \"y\": [2, 2, 2, 2, 2, 2, 3], \"yaxis\": \"y\"}, {\"customdata\": [[40, 20], [45, 20], [50, 20], [55, 20], [60, 20], [65, 20], [70, 20]], \"hovertemplate\": \"<b>%{hovertext}</b><br><br>min_samples=%{customdata[1]}<br>Max Width=%{x}<br>No of Clusters=%{y}<br>eps=%{customdata[0]}<extra></extra>\", \"hovertext\": [20, 20, 20, 20, 20, 20, 20], \"legendgroup\": \"20\", \"line\": {\"color\": \"#19d3f3\", \"dash\": \"solid\"}, \"mode\": \"lines\", \"name\": \"20\", \"orientation\": \"v\", \"showlegend\": true, \"type\": \"scatter\", \"x\": [63.13477647065839, 63.13477647065839, 63.13477647065839, 103.74005976477939, 155.7080601638849, 155.7080601638849, 168.57639217873896], \"xaxis\": \"x\", \"y\": [2, 2, 2, 2, 2, 2, 2], \"yaxis\": \"y\"}, {\"customdata\": [[55, 21], [60, 21], [65, 21], [70, 21]], \"hovertemplate\": \"<b>%{hovertext}</b><br><br>min_samples=%{customdata[1]}<br>Max Width=%{x}<br>No of Clusters=%{y}<br>eps=%{customdata[0]}<extra></extra>\", \"hovertext\": [21, 21, 21, 21], \"legendgroup\": \"21\", \"line\": {\"color\": \"#FF6692\", \"dash\": \"solid\"}, \"mode\": \"lines\", \"name\": \"21\", \"orientation\": \"v\", \"showlegend\": true, \"type\": \"scatter\", \"x\": [103.74005976477939, 155.7080601638849, 155.7080601638849, 168.57639217873896], \"xaxis\": \"x\", \"y\": [2, 2, 2, 2], \"yaxis\": \"y\"}, {\"customdata\": [[65, 22], [70, 22]], \"hovertemplate\": \"<b>%{hovertext}</b><br><br>min_samples=%{customdata[1]}<br>Max Width=%{x}<br>No of Clusters=%{y}<br>eps=%{customdata[0]}<extra></extra>\", \"hovertext\": [22, 22], \"legendgroup\": \"22\", \"line\": {\"color\": \"#B6E880\", \"dash\": \"solid\"}, \"mode\": \"lines\", \"name\": \"22\", \"orientation\": \"v\", \"showlegend\": true, \"type\": \"scatter\", \"x\": [113.54734695271397, 126.53062870309307], \"xaxis\": \"x\", \"y\": [2, 2], \"yaxis\": \"y\"}, {\"customdata\": [[70, 23]], \"hovertemplate\": \"<b>%{hovertext}</b><br><br>min_samples=%{customdata[1]}<br>Max Width=%{x}<br>No of Clusters=%{y}<br>eps=%{customdata[0]}<extra></extra>\", \"hovertext\": [23], \"legendgroup\": \"23\", \"line\": {\"color\": \"#FF97FF\", \"dash\": \"solid\"}, \"mode\": \"lines\", \"name\": \"23\", \"orientation\": \"v\", \"showlegend\": true, \"type\": \"scatter\", \"x\": [126.53062870309307], \"xaxis\": \"x\", \"y\": [2], \"yaxis\": \"y\"}, {\"customdata\": [[20, 7]], \"hovertemplate\": \"Max Width=%{x}<br>No of Clusters=%{y}<br>eps=%{customdata[0]}<br>min_samples=%{customdata[1]}<extra></extra>\", \"legendgroup\": \"\", \"marker\": {\"color\": \"#636efa\", \"symbol\": \"circle\"}, \"mode\": \"markers\", \"name\": \"\", \"orientation\": \"v\", \"showlegend\": false, \"type\": \"scatter\", \"x\": [44.27188724235731], \"xaxis\": \"x\", \"y\": [103], \"yaxis\": \"y\"}],                        {\"legend\": {\"title\": {\"text\": \"min_samples\"}, \"tracegroupgap\": 0}, \"margin\": {\"t\": 60}, \"template\": {\"data\": {\"bar\": [{\"error_x\": {\"color\": \"#2a3f5f\"}, \"error_y\": {\"color\": \"#2a3f5f\"}, \"marker\": {\"line\": {\"color\": \"#E5ECF6\", \"width\": 0.5}}, \"type\": \"bar\"}], \"barpolar\": [{\"marker\": {\"line\": {\"color\": \"#E5ECF6\", \"width\": 0.5}}, \"type\": \"barpolar\"}], \"carpet\": [{\"aaxis\": {\"endlinecolor\": \"#2a3f5f\", \"gridcolor\": \"white\", \"linecolor\": \"white\", \"minorgridcolor\": \"white\", \"startlinecolor\": \"#2a3f5f\"}, \"baxis\": {\"endlinecolor\": \"#2a3f5f\", \"gridcolor\": \"white\", \"linecolor\": \"white\", \"minorgridcolor\": \"white\", \"startlinecolor\": \"#2a3f5f\"}, \"type\": \"carpet\"}], \"choropleth\": [{\"colorbar\": {\"outlinewidth\": 0, \"ticks\": \"\"}, \"type\": \"choropleth\"}], \"contour\": [{\"colorbar\": {\"outlinewidth\": 0, \"ticks\": \"\"}, \"colorscale\": [[0.0, \"#0d0887\"], [0.1111111111111111, \"#46039f\"], [0.2222222222222222, \"#7201a8\"], [0.3333333333333333, \"#9c179e\"], [0.4444444444444444, \"#bd3786\"], [0.5555555555555556, \"#d8576b\"], [0.6666666666666666, \"#ed7953\"], [0.7777777777777778, \"#fb9f3a\"], [0.8888888888888888, \"#fdca26\"], [1.0, \"#f0f921\"]], \"type\": \"contour\"}], \"contourcarpet\": [{\"colorbar\": {\"outlinewidth\": 0, \"ticks\": \"\"}, \"type\": \"contourcarpet\"}], \"heatmap\": [{\"colorbar\": {\"outlinewidth\": 0, \"ticks\": \"\"}, \"colorscale\": [[0.0, \"#0d0887\"], [0.1111111111111111, \"#46039f\"], [0.2222222222222222, \"#7201a8\"], [0.3333333333333333, \"#9c179e\"], [0.4444444444444444, \"#bd3786\"], [0.5555555555555556, \"#d8576b\"], [0.6666666666666666, \"#ed7953\"], [0.7777777777777778, \"#fb9f3a\"], [0.8888888888888888, \"#fdca26\"], [1.0, \"#f0f921\"]], \"type\": \"heatmap\"}], \"heatmapgl\": [{\"colorbar\": {\"outlinewidth\": 0, \"ticks\": \"\"}, \"colorscale\": [[0.0, \"#0d0887\"], [0.1111111111111111, \"#46039f\"], [0.2222222222222222, \"#7201a8\"], [0.3333333333333333, \"#9c179e\"], [0.4444444444444444, \"#bd3786\"], [0.5555555555555556, \"#d8576b\"], [0.6666666666666666, \"#ed7953\"], [0.7777777777777778, \"#fb9f3a\"], [0.8888888888888888, \"#fdca26\"], [1.0, \"#f0f921\"]], \"type\": \"heatmapgl\"}], \"histogram\": [{\"marker\": {\"colorbar\": {\"outlinewidth\": 0, \"ticks\": \"\"}}, \"type\": \"histogram\"}], \"histogram2d\": [{\"colorbar\": {\"outlinewidth\": 0, \"ticks\": \"\"}, \"colorscale\": [[0.0, \"#0d0887\"], [0.1111111111111111, \"#46039f\"], [0.2222222222222222, \"#7201a8\"], [0.3333333333333333, \"#9c179e\"], [0.4444444444444444, \"#bd3786\"], [0.5555555555555556, \"#d8576b\"], [0.6666666666666666, \"#ed7953\"], [0.7777777777777778, \"#fb9f3a\"], [0.8888888888888888, \"#fdca26\"], [1.0, \"#f0f921\"]], \"type\": \"histogram2d\"}], \"histogram2dcontour\": [{\"colorbar\": {\"outlinewidth\": 0, \"ticks\": \"\"}, \"colorscale\": [[0.0, \"#0d0887\"], [0.1111111111111111, \"#46039f\"], [0.2222222222222222, \"#7201a8\"], [0.3333333333333333, \"#9c179e\"], [0.4444444444444444, \"#bd3786\"], [0.5555555555555556, \"#d8576b\"], [0.6666666666666666, \"#ed7953\"], [0.7777777777777778, \"#fb9f3a\"], [0.8888888888888888, \"#fdca26\"], [1.0, \"#f0f921\"]], \"type\": \"histogram2dcontour\"}], \"mesh3d\": [{\"colorbar\": {\"outlinewidth\": 0, \"ticks\": \"\"}, \"type\": \"mesh3d\"}], \"parcoords\": [{\"line\": {\"colorbar\": {\"outlinewidth\": 0, \"ticks\": \"\"}}, \"type\": \"parcoords\"}], \"pie\": [{\"automargin\": true, \"type\": \"pie\"}], \"scatter\": [{\"marker\": {\"colorbar\": {\"outlinewidth\": 0, \"ticks\": \"\"}}, \"type\": \"scatter\"}], \"scatter3d\": [{\"line\": {\"colorbar\": {\"outlinewidth\": 0, \"ticks\": \"\"}}, \"marker\": {\"colorbar\": {\"outlinewidth\": 0, \"ticks\": \"\"}}, \"type\": \"scatter3d\"}], \"scattercarpet\": [{\"marker\": {\"colorbar\": {\"outlinewidth\": 0, \"ticks\": \"\"}}, \"type\": \"scattercarpet\"}], \"scattergeo\": [{\"marker\": {\"colorbar\": {\"outlinewidth\": 0, \"ticks\": \"\"}}, \"type\": \"scattergeo\"}], \"scattergl\": [{\"marker\": {\"colorbar\": {\"outlinewidth\": 0, \"ticks\": \"\"}}, \"type\": \"scattergl\"}], \"scattermapbox\": [{\"marker\": {\"colorbar\": {\"outlinewidth\": 0, \"ticks\": \"\"}}, \"type\": \"scattermapbox\"}], \"scatterpolar\": [{\"marker\": {\"colorbar\": {\"outlinewidth\": 0, \"ticks\": \"\"}}, \"type\": \"scatterpolar\"}], \"scatterpolargl\": [{\"marker\": {\"colorbar\": {\"outlinewidth\": 0, \"ticks\": \"\"}}, \"type\": \"scatterpolargl\"}], \"scatterternary\": [{\"marker\": {\"colorbar\": {\"outlinewidth\": 0, \"ticks\": \"\"}}, \"type\": \"scatterternary\"}], \"surface\": [{\"colorbar\": {\"outlinewidth\": 0, \"ticks\": \"\"}, \"colorscale\": [[0.0, \"#0d0887\"], [0.1111111111111111, \"#46039f\"], [0.2222222222222222, \"#7201a8\"], [0.3333333333333333, \"#9c179e\"], [0.4444444444444444, \"#bd3786\"], [0.5555555555555556, \"#d8576b\"], [0.6666666666666666, \"#ed7953\"], [0.7777777777777778, \"#fb9f3a\"], [0.8888888888888888, \"#fdca26\"], [1.0, \"#f0f921\"]], \"type\": \"surface\"}], \"table\": [{\"cells\": {\"fill\": {\"color\": \"#EBF0F8\"}, \"line\": {\"color\": \"white\"}}, \"header\": {\"fill\": {\"color\": \"#C8D4E3\"}, \"line\": {\"color\": \"white\"}}, \"type\": \"table\"}]}, \"layout\": {\"annotationdefaults\": {\"arrowcolor\": \"#2a3f5f\", \"arrowhead\": 0, \"arrowwidth\": 1}, \"autotypenumbers\": \"strict\", \"coloraxis\": {\"colorbar\": {\"outlinewidth\": 0, \"ticks\": \"\"}}, \"colorscale\": {\"diverging\": [[0, \"#8e0152\"], [0.1, \"#c51b7d\"], [0.2, \"#de77ae\"], [0.3, \"#f1b6da\"], [0.4, \"#fde0ef\"], [0.5, \"#f7f7f7\"], [0.6, \"#e6f5d0\"], [0.7, \"#b8e186\"], [0.8, \"#7fbc41\"], [0.9, \"#4d9221\"], [1, \"#276419\"]], \"sequential\": [[0.0, \"#0d0887\"], [0.1111111111111111, \"#46039f\"], [0.2222222222222222, \"#7201a8\"], [0.3333333333333333, \"#9c179e\"], [0.4444444444444444, \"#bd3786\"], [0.5555555555555556, \"#d8576b\"], [0.6666666666666666, \"#ed7953\"], [0.7777777777777778, \"#fb9f3a\"], [0.8888888888888888, \"#fdca26\"], [1.0, \"#f0f921\"]], \"sequentialminus\": [[0.0, \"#0d0887\"], [0.1111111111111111, \"#46039f\"], [0.2222222222222222, \"#7201a8\"], [0.3333333333333333, \"#9c179e\"], [0.4444444444444444, \"#bd3786\"], [0.5555555555555556, \"#d8576b\"], [0.6666666666666666, \"#ed7953\"], [0.7777777777777778, \"#fb9f3a\"], [0.8888888888888888, \"#fdca26\"], [1.0, \"#f0f921\"]]}, \"colorway\": [\"#636efa\", \"#EF553B\", \"#00cc96\", \"#ab63fa\", \"#FFA15A\", \"#19d3f3\", \"#FF6692\", \"#B6E880\", \"#FF97FF\", \"#FECB52\"], \"font\": {\"color\": \"#2a3f5f\"}, \"geo\": {\"bgcolor\": \"white\", \"lakecolor\": \"white\", \"landcolor\": \"#E5ECF6\", \"showlakes\": true, \"showland\": true, \"subunitcolor\": \"white\"}, \"hoverlabel\": {\"align\": \"left\"}, \"hovermode\": \"closest\", \"mapbox\": {\"style\": \"light\"}, \"paper_bgcolor\": \"white\", \"plot_bgcolor\": \"#E5ECF6\", \"polar\": {\"angularaxis\": {\"gridcolor\": \"white\", \"linecolor\": \"white\", \"ticks\": \"\"}, \"bgcolor\": \"#E5ECF6\", \"radialaxis\": {\"gridcolor\": \"white\", \"linecolor\": \"white\", \"ticks\": \"\"}}, \"scene\": {\"xaxis\": {\"backgroundcolor\": \"#E5ECF6\", \"gridcolor\": \"white\", \"gridwidth\": 2, \"linecolor\": \"white\", \"showbackground\": true, \"ticks\": \"\", \"zerolinecolor\": \"white\"}, \"yaxis\": {\"backgroundcolor\": \"#E5ECF6\", \"gridcolor\": \"white\", \"gridwidth\": 2, \"linecolor\": \"white\", \"showbackground\": true, \"ticks\": \"\", \"zerolinecolor\": \"white\"}, \"zaxis\": {\"backgroundcolor\": \"#E5ECF6\", \"gridcolor\": \"white\", \"gridwidth\": 2, \"linecolor\": \"white\", \"showbackground\": true, \"ticks\": \"\", \"zerolinecolor\": \"white\"}}, \"shapedefaults\": {\"line\": {\"color\": \"#2a3f5f\"}}, \"ternary\": {\"aaxis\": {\"gridcolor\": \"white\", \"linecolor\": \"white\", \"ticks\": \"\"}, \"baxis\": {\"gridcolor\": \"white\", \"linecolor\": \"white\", \"ticks\": \"\"}, \"bgcolor\": \"#E5ECF6\", \"caxis\": {\"gridcolor\": \"white\", \"linecolor\": \"white\", \"ticks\": \"\"}}, \"title\": {\"x\": 0.05}, \"xaxis\": {\"automargin\": true, \"gridcolor\": \"white\", \"linecolor\": \"white\", \"ticks\": \"\", \"title\": {\"standoff\": 15}, \"zerolinecolor\": \"white\", \"zerolinewidth\": 2}, \"yaxis\": {\"automargin\": true, \"gridcolor\": \"white\", \"linecolor\": \"white\", \"ticks\": \"\", \"title\": {\"standoff\": 15}, \"zerolinecolor\": \"white\", \"zerolinewidth\": 2}}}, \"xaxis\": {\"anchor\": \"y\", \"domain\": [0.0, 1.0], \"title\": {\"text\": \"Max Width\"}}, \"yaxis\": {\"anchor\": \"x\", \"domain\": [0.0, 1.0], \"title\": {\"text\": \"No of Clusters\"}}},                        {\"responsive\": true}                    ).then(function(){\n",
       "                            \n",
       "var gd = document.getElementById('aab43357-8e68-4f6b-bfb2-d236875b4a1d');\n",
       "var x = new MutationObserver(function (mutations, observer) {{\n",
       "        var display = window.getComputedStyle(gd).display;\n",
       "        if (!display || display === 'none') {{\n",
       "            console.log([gd, 'removed!']);\n",
       "            Plotly.purge(gd);\n",
       "            observer.disconnect();\n",
       "        }}\n",
       "}});\n",
       "\n",
       "// Listen for the removal of the full notebook cells\n",
       "var notebookContainer = gd.closest('#notebook-container');\n",
       "if (notebookContainer) {{\n",
       "    x.observe(notebookContainer, {childList: true});\n",
       "}}\n",
       "\n",
       "// Listen for the clearing of the current output cell\n",
       "var outputEl = gd.closest('.output');\n",
       "if (outputEl) {{\n",
       "    x.observe(outputEl, {childList: true});\n",
       "}}\n",
       "\n",
       "                        })                };                });            </script>        </div>"
      ]
     },
     "metadata": {},
     "output_type": "display_data"
    }
   ],
   "source": [
    "fig = px.line(df_cluster_stats_w_clusters,\n",
    "              x=\"Max Width\", y=\"No of Clusters\",\n",
    "              color=\"min_samples\",\n",
    "              line_group=\"min_samples\",\n",
    "              hover_name=\"min_samples\",\n",
    "             hover_data=['eps', 'min_samples'])\n",
    "\n",
    "eps_consition = df_cluster_stats_w_clusters['eps']==20\n",
    "min_sample_cond = df_cluster_stats_w_clusters['min_samples']==7\n",
    "\n",
    "fig2 = px.scatter(df_cluster_stats_w_clusters.loc[eps_consition & min_sample_cond],\n",
    "                  x=\"Max Width\", y=\"No of Clusters\",\n",
    "                 hover_data=['eps', 'min_samples',\"Max Width\",\"No of Clusters\"])\n",
    "\n",
    "fig.add_trace(fig2.data[0])\n",
    "# fig.show()\n",
    "\n",
    "fig.show()"
   ]
  },
  {
   "cell_type": "code",
   "execution_count": 313,
   "metadata": {},
   "outputs": [
    {
     "name": "stdout",
     "output_type": "stream",
     "text": [
      "829\n"
     ]
    },
    {
     "data": {
      "text/html": [
       "<div>\n",
       "<style scoped>\n",
       "    .dataframe tbody tr th:only-of-type {\n",
       "        vertical-align: middle;\n",
       "    }\n",
       "\n",
       "    .dataframe tbody tr th {\n",
       "        vertical-align: top;\n",
       "    }\n",
       "\n",
       "    .dataframe thead th {\n",
       "        text-align: right;\n",
       "    }\n",
       "</style>\n",
       "<table border=\"1\" class=\"dataframe\">\n",
       "  <thead>\n",
       "    <tr style=\"text-align: right;\">\n",
       "      <th></th>\n",
       "      <th>Accident_Index</th>\n",
       "      <th>Vehicle_Reference</th>\n",
       "      <th>Casualty_Reference</th>\n",
       "      <th>Casualty_Severity</th>\n",
       "      <th>Location_Easting_OSGR</th>\n",
       "      <th>Location_Northing_OSGR</th>\n",
       "      <th>Longitude</th>\n",
       "      <th>Latitude</th>\n",
       "      <th>Cluster No:20-7</th>\n",
       "    </tr>\n",
       "  </thead>\n",
       "  <tbody>\n",
       "    <tr>\n",
       "      <th>2156</th>\n",
       "      <td>2019010161014</td>\n",
       "      <td>1</td>\n",
       "      <td>1</td>\n",
       "      <td>Serious</td>\n",
       "      <td>531575.0</td>\n",
       "      <td>186889.0</td>\n",
       "      <td>-0.103006</td>\n",
       "      <td>51.565605</td>\n",
       "      <td>0</td>\n",
       "    </tr>\n",
       "    <tr>\n",
       "      <th>2243</th>\n",
       "      <td>2019010161200</td>\n",
       "      <td>1</td>\n",
       "      <td>3</td>\n",
       "      <td>Serious</td>\n",
       "      <td>531189.0</td>\n",
       "      <td>179195.0</td>\n",
       "      <td>-0.111456</td>\n",
       "      <td>51.496501</td>\n",
       "      <td>1</td>\n",
       "    </tr>\n",
       "    <tr>\n",
       "      <th>2941</th>\n",
       "      <td>2019010162980</td>\n",
       "      <td>1</td>\n",
       "      <td>1</td>\n",
       "      <td>Serious</td>\n",
       "      <td>529573.0</td>\n",
       "      <td>182472.0</td>\n",
       "      <td>-0.133496</td>\n",
       "      <td>51.526333</td>\n",
       "      <td>6</td>\n",
       "    </tr>\n",
       "    <tr>\n",
       "      <th>3618</th>\n",
       "      <td>2019010164659</td>\n",
       "      <td>1</td>\n",
       "      <td>2</td>\n",
       "      <td>Serious</td>\n",
       "      <td>514398.0</td>\n",
       "      <td>182233.0</td>\n",
       "      <td>-0.352269</td>\n",
       "      <td>51.527493</td>\n",
       "      <td>2</td>\n",
       "    </tr>\n",
       "    <tr>\n",
       "      <th>3794</th>\n",
       "      <td>2019010165080</td>\n",
       "      <td>1</td>\n",
       "      <td>1</td>\n",
       "      <td>Serious</td>\n",
       "      <td>529971.0</td>\n",
       "      <td>178303.0</td>\n",
       "      <td>-0.129293</td>\n",
       "      <td>51.488794</td>\n",
       "      <td>9</td>\n",
       "    </tr>\n",
       "  </tbody>\n",
       "</table>\n",
       "</div>"
      ],
      "text/plain": [
       "     Accident_Index  Vehicle_Reference  Casualty_Reference Casualty_Severity  \\\n",
       "2156  2019010161014                  1                   1           Serious   \n",
       "2243  2019010161200                  1                   3           Serious   \n",
       "2941  2019010162980                  1                   1           Serious   \n",
       "3618  2019010164659                  1                   2           Serious   \n",
       "3794  2019010165080                  1                   1           Serious   \n",
       "\n",
       "      Location_Easting_OSGR  Location_Northing_OSGR  Longitude   Latitude  \\\n",
       "2156               531575.0                186889.0  -0.103006  51.565605   \n",
       "2243               531189.0                179195.0  -0.111456  51.496501   \n",
       "2941               529573.0                182472.0  -0.133496  51.526333   \n",
       "3618               514398.0                182233.0  -0.352269  51.527493   \n",
       "3794               529971.0                178303.0  -0.129293  51.488794   \n",
       "\n",
       "      Cluster No:20-7  \n",
       "2156                0  \n",
       "2243                1  \n",
       "2941                6  \n",
       "3618                2  \n",
       "3794                9  "
      ]
     },
     "execution_count": 313,
     "metadata": {},
     "output_type": "execute_result"
    }
   ],
   "source": [
    "selected_eps = 20\n",
    "selected_min_samples = 7\n",
    "\n",
    "label_col = 'Cluster No:'+str(selected_eps) + '-' + str(selected_min_samples)\n",
    "\n",
    "plotting_cols = ['Accident_Index', 'Vehicle_Reference', 'Casualty_Reference','Casualty_Severity', 'Location_Easting_OSGR', 'Location_Northing_OSGR',\n",
    "                 'Longitude', 'Latitude'] + [label_col]\n",
    "\n",
    "df_casualties_coords_plot = df_casualties_coords[plotting_cols].copy()\n",
    "df_casualties_coords_plot = df_casualties_coords_plot[df_casualties_coords_plot[label_col]>-1]\n",
    "\n",
    "# Add jitter to overlapping coordinates:\n",
    "\n",
    "xy_jitter = np.random.uniform(low=0.00001, high=0.0001, size=(len(df_casualties_coords_plot),2))\n",
    "\n",
    "df_casualties_coords_plot[['Longitude','Latitude']] = df_casualties_coords_plot[['Longitude','Latitude']] + xy_jitter\n",
    "\n",
    "print(len(df_casualties_coords_plot))\n",
    "df_casualties_coords_plot.head() "
   ]
  },
  {
   "cell_type": "code",
   "execution_count": 315,
   "metadata": {},
   "outputs": [
    {
     "data": {
      "application/vnd.plotly.v1+json": {
       "config": {
        "plotlyServerURL": "https://plot.ly"
       },
       "data": [
        {
         "customdata": [
          [
           "Serious"
          ],
          [
           "Serious"
          ],
          [
           "Serious"
          ],
          [
           "Serious"
          ],
          [
           "Serious"
          ],
          [
           "Serious"
          ],
          [
           "Serious"
          ],
          [
           "Serious"
          ],
          [
           "Serious"
          ],
          [
           "Serious"
          ],
          [
           "Serious"
          ],
          [
           "Serious"
          ],
          [
           "Serious"
          ],
          [
           "Serious"
          ],
          [
           "Serious"
          ],
          [
           "Serious"
          ],
          [
           "Serious"
          ],
          [
           "Serious"
          ],
          [
           "Serious"
          ],
          [
           "Serious"
          ],
          [
           "Serious"
          ],
          [
           "Serious"
          ],
          [
           "Serious"
          ],
          [
           "Serious"
          ],
          [
           "Serious"
          ],
          [
           "Serious"
          ],
          [
           "Serious"
          ],
          [
           "Serious"
          ],
          [
           "Fatal"
          ],
          [
           "Serious"
          ],
          [
           "Serious"
          ],
          [
           "Serious"
          ],
          [
           "Serious"
          ],
          [
           "Serious"
          ],
          [
           "Fatal"
          ],
          [
           "Fatal"
          ],
          [
           "Serious"
          ],
          [
           "Serious"
          ],
          [
           "Serious"
          ],
          [
           "Serious"
          ],
          [
           "Serious"
          ],
          [
           "Fatal"
          ],
          [
           "Serious"
          ],
          [
           "Serious"
          ],
          [
           "Serious"
          ],
          [
           "Serious"
          ],
          [
           "Serious"
          ],
          [
           "Serious"
          ],
          [
           "Serious"
          ],
          [
           "Serious"
          ],
          [
           "Serious"
          ],
          [
           "Serious"
          ],
          [
           "Serious"
          ],
          [
           "Serious"
          ],
          [
           "Serious"
          ],
          [
           "Serious"
          ],
          [
           "Serious"
          ],
          [
           "Serious"
          ],
          [
           "Serious"
          ],
          [
           "Serious"
          ],
          [
           "Serious"
          ],
          [
           "Serious"
          ],
          [
           "Serious"
          ],
          [
           "Serious"
          ],
          [
           "Serious"
          ],
          [
           "Serious"
          ],
          [
           "Serious"
          ],
          [
           "Serious"
          ],
          [
           "Serious"
          ],
          [
           "Serious"
          ],
          [
           "Serious"
          ],
          [
           "Serious"
          ],
          [
           "Serious"
          ],
          [
           "Serious"
          ],
          [
           "Serious"
          ],
          [
           "Serious"
          ],
          [
           "Serious"
          ],
          [
           "Serious"
          ],
          [
           "Serious"
          ],
          [
           "Serious"
          ],
          [
           "Serious"
          ],
          [
           "Serious"
          ],
          [
           "Serious"
          ],
          [
           "Serious"
          ],
          [
           "Serious"
          ],
          [
           "Serious"
          ],
          [
           "Serious"
          ],
          [
           "Serious"
          ],
          [
           "Serious"
          ],
          [
           "Serious"
          ],
          [
           "Serious"
          ],
          [
           "Serious"
          ],
          [
           "Serious"
          ],
          [
           "Serious"
          ],
          [
           "Serious"
          ],
          [
           "Fatal"
          ],
          [
           "Serious"
          ],
          [
           "Serious"
          ],
          [
           "Fatal"
          ],
          [
           "Serious"
          ],
          [
           "Serious"
          ],
          [
           "Fatal"
          ],
          [
           "Serious"
          ],
          [
           "Serious"
          ],
          [
           "Serious"
          ],
          [
           "Serious"
          ],
          [
           "Serious"
          ],
          [
           "Serious"
          ],
          [
           "Serious"
          ],
          [
           "Serious"
          ],
          [
           "Serious"
          ],
          [
           "Serious"
          ],
          [
           "Serious"
          ],
          [
           "Serious"
          ],
          [
           "Serious"
          ],
          [
           "Serious"
          ],
          [
           "Serious"
          ],
          [
           "Serious"
          ],
          [
           "Serious"
          ],
          [
           "Serious"
          ],
          [
           "Serious"
          ],
          [
           "Serious"
          ],
          [
           "Serious"
          ],
          [
           "Serious"
          ],
          [
           "Serious"
          ],
          [
           "Serious"
          ],
          [
           "Serious"
          ],
          [
           "Serious"
          ],
          [
           "Serious"
          ],
          [
           "Serious"
          ],
          [
           "Serious"
          ],
          [
           "Serious"
          ],
          [
           "Serious"
          ],
          [
           "Fatal"
          ],
          [
           "Serious"
          ],
          [
           "Serious"
          ],
          [
           "Serious"
          ],
          [
           "Serious"
          ],
          [
           "Serious"
          ],
          [
           "Fatal"
          ],
          [
           "Serious"
          ],
          [
           "Serious"
          ],
          [
           "Serious"
          ],
          [
           "Serious"
          ],
          [
           "Serious"
          ],
          [
           "Serious"
          ],
          [
           "Serious"
          ],
          [
           "Serious"
          ],
          [
           "Serious"
          ],
          [
           "Serious"
          ],
          [
           "Serious"
          ],
          [
           "Serious"
          ],
          [
           "Serious"
          ],
          [
           "Serious"
          ],
          [
           "Serious"
          ],
          [
           "Serious"
          ],
          [
           "Serious"
          ],
          [
           "Serious"
          ],
          [
           "Serious"
          ],
          [
           "Serious"
          ],
          [
           "Serious"
          ],
          [
           "Serious"
          ],
          [
           "Serious"
          ],
          [
           "Serious"
          ],
          [
           "Serious"
          ],
          [
           "Serious"
          ],
          [
           "Serious"
          ],
          [
           "Serious"
          ],
          [
           "Serious"
          ],
          [
           "Serious"
          ],
          [
           "Serious"
          ],
          [
           "Serious"
          ],
          [
           "Serious"
          ],
          [
           "Serious"
          ],
          [
           "Serious"
          ],
          [
           "Serious"
          ],
          [
           "Serious"
          ],
          [
           "Serious"
          ],
          [
           "Serious"
          ],
          [
           "Serious"
          ],
          [
           "Serious"
          ],
          [
           "Serious"
          ],
          [
           "Serious"
          ],
          [
           "Serious"
          ],
          [
           "Serious"
          ],
          [
           "Serious"
          ],
          [
           "Fatal"
          ],
          [
           "Fatal"
          ],
          [
           "Fatal"
          ],
          [
           "Serious"
          ],
          [
           "Serious"
          ],
          [
           "Serious"
          ],
          [
           "Serious"
          ],
          [
           "Serious"
          ],
          [
           "Serious"
          ],
          [
           "Serious"
          ],
          [
           "Serious"
          ],
          [
           "Serious"
          ],
          [
           "Fatal"
          ],
          [
           "Serious"
          ],
          [
           "Serious"
          ],
          [
           "Serious"
          ],
          [
           "Serious"
          ],
          [
           "Serious"
          ],
          [
           "Serious"
          ],
          [
           "Serious"
          ],
          [
           "Serious"
          ],
          [
           "Serious"
          ],
          [
           "Serious"
          ],
          [
           "Serious"
          ],
          [
           "Serious"
          ],
          [
           "Serious"
          ],
          [
           "Serious"
          ],
          [
           "Serious"
          ],
          [
           "Serious"
          ],
          [
           "Serious"
          ],
          [
           "Serious"
          ],
          [
           "Serious"
          ],
          [
           "Serious"
          ],
          [
           "Serious"
          ],
          [
           "Serious"
          ],
          [
           "Serious"
          ],
          [
           "Serious"
          ],
          [
           "Serious"
          ],
          [
           "Serious"
          ],
          [
           "Serious"
          ],
          [
           "Serious"
          ],
          [
           "Serious"
          ],
          [
           "Serious"
          ],
          [
           "Serious"
          ],
          [
           "Serious"
          ],
          [
           "Serious"
          ],
          [
           "Serious"
          ],
          [
           "Serious"
          ],
          [
           "Serious"
          ],
          [
           "Serious"
          ],
          [
           "Serious"
          ],
          [
           "Serious"
          ],
          [
           "Serious"
          ],
          [
           "Serious"
          ],
          [
           "Serious"
          ],
          [
           "Serious"
          ],
          [
           "Serious"
          ],
          [
           "Serious"
          ],
          [
           "Serious"
          ],
          [
           "Serious"
          ],
          [
           "Serious"
          ],
          [
           "Serious"
          ],
          [
           "Serious"
          ],
          [
           "Serious"
          ],
          [
           "Fatal"
          ],
          [
           "Fatal"
          ],
          [
           "Serious"
          ],
          [
           "Serious"
          ],
          [
           "Serious"
          ],
          [
           "Serious"
          ],
          [
           "Serious"
          ],
          [
           "Serious"
          ],
          [
           "Serious"
          ],
          [
           "Serious"
          ],
          [
           "Fatal"
          ],
          [
           "Fatal"
          ],
          [
           "Fatal"
          ],
          [
           "Fatal"
          ],
          [
           "Serious"
          ],
          [
           "Serious"
          ],
          [
           "Serious"
          ],
          [
           "Serious"
          ],
          [
           "Serious"
          ],
          [
           "Serious"
          ],
          [
           "Serious"
          ],
          [
           "Serious"
          ],
          [
           "Serious"
          ],
          [
           "Serious"
          ],
          [
           "Serious"
          ],
          [
           "Serious"
          ],
          [
           "Serious"
          ],
          [
           "Fatal"
          ],
          [
           "Fatal"
          ],
          [
           "Fatal"
          ],
          [
           "Fatal"
          ],
          [
           "Serious"
          ],
          [
           "Serious"
          ],
          [
           "Serious"
          ],
          [
           "Serious"
          ],
          [
           "Serious"
          ],
          [
           "Serious"
          ],
          [
           "Serious"
          ],
          [
           "Serious"
          ],
          [
           "Serious"
          ],
          [
           "Serious"
          ],
          [
           "Serious"
          ],
          [
           "Serious"
          ],
          [
           "Serious"
          ],
          [
           "Serious"
          ],
          [
           "Serious"
          ],
          [
           "Serious"
          ],
          [
           "Serious"
          ],
          [
           "Serious"
          ],
          [
           "Serious"
          ],
          [
           "Serious"
          ],
          [
           "Serious"
          ],
          [
           "Serious"
          ],
          [
           "Fatal"
          ],
          [
           "Serious"
          ],
          [
           "Serious"
          ],
          [
           "Serious"
          ],
          [
           "Serious"
          ],
          [
           "Serious"
          ],
          [
           "Serious"
          ],
          [
           "Fatal"
          ],
          [
           "Serious"
          ],
          [
           "Serious"
          ],
          [
           "Serious"
          ],
          [
           "Serious"
          ],
          [
           "Serious"
          ],
          [
           "Serious"
          ],
          [
           "Serious"
          ],
          [
           "Serious"
          ],
          [
           "Serious"
          ],
          [
           "Serious"
          ],
          [
           "Serious"
          ],
          [
           "Serious"
          ],
          [
           "Serious"
          ],
          [
           "Serious"
          ],
          [
           "Serious"
          ],
          [
           "Serious"
          ],
          [
           "Serious"
          ],
          [
           "Serious"
          ],
          [
           "Serious"
          ],
          [
           "Serious"
          ],
          [
           "Serious"
          ],
          [
           "Serious"
          ],
          [
           "Serious"
          ],
          [
           "Serious"
          ],
          [
           "Serious"
          ],
          [
           "Serious"
          ],
          [
           "Serious"
          ],
          [
           "Serious"
          ],
          [
           "Serious"
          ],
          [
           "Serious"
          ],
          [
           "Serious"
          ],
          [
           "Serious"
          ],
          [
           "Fatal"
          ],
          [
           "Fatal"
          ],
          [
           "Serious"
          ],
          [
           "Serious"
          ],
          [
           "Serious"
          ],
          [
           "Fatal"
          ],
          [
           "Fatal"
          ],
          [
           "Fatal"
          ],
          [
           "Serious"
          ],
          [
           "Serious"
          ],
          [
           "Fatal"
          ],
          [
           "Serious"
          ],
          [
           "Serious"
          ],
          [
           "Serious"
          ],
          [
           "Serious"
          ],
          [
           "Serious"
          ],
          [
           "Serious"
          ],
          [
           "Serious"
          ],
          [
           "Serious"
          ],
          [
           "Serious"
          ],
          [
           "Serious"
          ],
          [
           "Serious"
          ],
          [
           "Serious"
          ],
          [
           "Serious"
          ],
          [
           "Serious"
          ],
          [
           "Serious"
          ],
          [
           "Serious"
          ],
          [
           "Serious"
          ],
          [
           "Serious"
          ],
          [
           "Serious"
          ],
          [
           "Serious"
          ],
          [
           "Serious"
          ],
          [
           "Serious"
          ],
          [
           "Serious"
          ],
          [
           "Serious"
          ],
          [
           "Serious"
          ],
          [
           "Serious"
          ],
          [
           "Serious"
          ],
          [
           "Serious"
          ],
          [
           "Serious"
          ],
          [
           "Serious"
          ],
          [
           "Serious"
          ],
          [
           "Fatal"
          ],
          [
           "Serious"
          ],
          [
           "Serious"
          ],
          [
           "Serious"
          ],
          [
           "Serious"
          ],
          [
           "Serious"
          ],
          [
           "Serious"
          ],
          [
           "Serious"
          ],
          [
           "Serious"
          ],
          [
           "Serious"
          ],
          [
           "Serious"
          ],
          [
           "Serious"
          ],
          [
           "Serious"
          ],
          [
           "Serious"
          ],
          [
           "Serious"
          ],
          [
           "Fatal"
          ],
          [
           "Serious"
          ],
          [
           "Serious"
          ],
          [
           "Fatal"
          ],
          [
           "Serious"
          ],
          [
           "Serious"
          ],
          [
           "Serious"
          ],
          [
           "Serious"
          ],
          [
           "Serious"
          ],
          [
           "Serious"
          ],
          [
           "Serious"
          ],
          [
           "Serious"
          ],
          [
           "Serious"
          ],
          [
           "Serious"
          ],
          [
           "Serious"
          ],
          [
           "Serious"
          ],
          [
           "Serious"
          ],
          [
           "Serious"
          ],
          [
           "Serious"
          ],
          [
           "Serious"
          ],
          [
           "Serious"
          ],
          [
           "Serious"
          ],
          [
           "Serious"
          ],
          [
           "Serious"
          ],
          [
           "Serious"
          ],
          [
           "Serious"
          ],
          [
           "Serious"
          ],
          [
           "Serious"
          ],
          [
           "Serious"
          ],
          [
           "Serious"
          ],
          [
           "Serious"
          ],
          [
           "Serious"
          ],
          [
           "Serious"
          ],
          [
           "Serious"
          ],
          [
           "Serious"
          ],
          [
           "Serious"
          ],
          [
           "Serious"
          ],
          [
           "Serious"
          ],
          [
           "Serious"
          ],
          [
           "Serious"
          ],
          [
           "Serious"
          ],
          [
           "Serious"
          ],
          [
           "Serious"
          ],
          [
           "Serious"
          ],
          [
           "Serious"
          ],
          [
           "Serious"
          ],
          [
           "Fatal"
          ],
          [
           "Serious"
          ],
          [
           "Serious"
          ],
          [
           "Serious"
          ],
          [
           "Serious"
          ],
          [
           "Serious"
          ],
          [
           "Serious"
          ],
          [
           "Serious"
          ],
          [
           "Serious"
          ],
          [
           "Serious"
          ],
          [
           "Serious"
          ],
          [
           "Serious"
          ],
          [
           "Serious"
          ],
          [
           "Serious"
          ],
          [
           "Serious"
          ],
          [
           "Serious"
          ],
          [
           "Serious"
          ],
          [
           "Serious"
          ],
          [
           "Serious"
          ],
          [
           "Serious"
          ],
          [
           "Serious"
          ],
          [
           "Serious"
          ],
          [
           "Serious"
          ],
          [
           "Serious"
          ],
          [
           "Serious"
          ],
          [
           "Serious"
          ],
          [
           "Serious"
          ],
          [
           "Fatal"
          ],
          [
           "Fatal"
          ],
          [
           "Fatal"
          ],
          [
           "Fatal"
          ],
          [
           "Fatal"
          ],
          [
           "Fatal"
          ],
          [
           "Fatal"
          ],
          [
           "Fatal"
          ],
          [
           "Serious"
          ],
          [
           "Serious"
          ],
          [
           "Serious"
          ],
          [
           "Serious"
          ],
          [
           "Serious"
          ],
          [
           "Fatal"
          ],
          [
           "Serious"
          ],
          [
           "Serious"
          ],
          [
           "Serious"
          ],
          [
           "Serious"
          ],
          [
           "Serious"
          ],
          [
           "Serious"
          ],
          [
           "Serious"
          ],
          [
           "Serious"
          ],
          [
           "Serious"
          ],
          [
           "Serious"
          ],
          [
           "Serious"
          ],
          [
           "Serious"
          ],
          [
           "Serious"
          ],
          [
           "Fatal"
          ],
          [
           "Fatal"
          ],
          [
           "Serious"
          ],
          [
           "Serious"
          ],
          [
           "Serious"
          ],
          [
           "Serious"
          ],
          [
           "Serious"
          ],
          [
           "Serious"
          ],
          [
           "Fatal"
          ],
          [
           "Serious"
          ],
          [
           "Serious"
          ],
          [
           "Serious"
          ],
          [
           "Serious"
          ],
          [
           "Serious"
          ],
          [
           "Serious"
          ],
          [
           "Serious"
          ],
          [
           "Fatal"
          ],
          [
           "Fatal"
          ],
          [
           "Fatal"
          ],
          [
           "Serious"
          ],
          [
           "Serious"
          ],
          [
           "Fatal"
          ],
          [
           "Serious"
          ],
          [
           "Serious"
          ],
          [
           "Serious"
          ],
          [
           "Fatal"
          ],
          [
           "Fatal"
          ],
          [
           "Serious"
          ],
          [
           "Serious"
          ],
          [
           "Serious"
          ],
          [
           "Serious"
          ],
          [
           "Serious"
          ],
          [
           "Fatal"
          ],
          [
           "Serious"
          ],
          [
           "Fatal"
          ],
          [
           "Serious"
          ],
          [
           "Serious"
          ],
          [
           "Serious"
          ],
          [
           "Serious"
          ],
          [
           "Serious"
          ],
          [
           "Serious"
          ],
          [
           "Serious"
          ],
          [
           "Serious"
          ],
          [
           "Serious"
          ],
          [
           "Serious"
          ],
          [
           "Serious"
          ],
          [
           "Serious"
          ],
          [
           "Serious"
          ],
          [
           "Serious"
          ],
          [
           "Serious"
          ],
          [
           "Serious"
          ],
          [
           "Serious"
          ],
          [
           "Serious"
          ],
          [
           "Serious"
          ],
          [
           "Serious"
          ],
          [
           "Serious"
          ],
          [
           "Serious"
          ],
          [
           "Serious"
          ],
          [
           "Serious"
          ],
          [
           "Serious"
          ],
          [
           "Serious"
          ],
          [
           "Serious"
          ],
          [
           "Serious"
          ],
          [
           "Serious"
          ],
          [
           "Serious"
          ],
          [
           "Serious"
          ],
          [
           "Serious"
          ],
          [
           "Serious"
          ],
          [
           "Serious"
          ],
          [
           "Serious"
          ],
          [
           "Serious"
          ],
          [
           "Fatal"
          ],
          [
           "Fatal"
          ],
          [
           "Serious"
          ],
          [
           "Serious"
          ],
          [
           "Serious"
          ],
          [
           "Fatal"
          ],
          [
           "Serious"
          ],
          [
           "Serious"
          ],
          [
           "Serious"
          ],
          [
           "Serious"
          ],
          [
           "Serious"
          ],
          [
           "Serious"
          ],
          [
           "Serious"
          ],
          [
           "Serious"
          ],
          [
           "Serious"
          ],
          [
           "Serious"
          ],
          [
           "Serious"
          ],
          [
           "Serious"
          ],
          [
           "Fatal"
          ],
          [
           "Serious"
          ],
          [
           "Serious"
          ],
          [
           "Serious"
          ],
          [
           "Serious"
          ],
          [
           "Serious"
          ],
          [
           "Serious"
          ],
          [
           "Serious"
          ],
          [
           "Serious"
          ],
          [
           "Serious"
          ],
          [
           "Serious"
          ],
          [
           "Serious"
          ],
          [
           "Serious"
          ],
          [
           "Serious"
          ],
          [
           "Serious"
          ],
          [
           "Serious"
          ],
          [
           "Serious"
          ],
          [
           "Serious"
          ],
          [
           "Serious"
          ],
          [
           "Serious"
          ],
          [
           "Serious"
          ],
          [
           "Serious"
          ],
          [
           "Serious"
          ],
          [
           "Serious"
          ],
          [
           "Serious"
          ],
          [
           "Serious"
          ],
          [
           "Serious"
          ],
          [
           "Serious"
          ],
          [
           "Serious"
          ],
          [
           "Serious"
          ],
          [
           "Serious"
          ],
          [
           "Serious"
          ],
          [
           "Serious"
          ],
          [
           "Serious"
          ],
          [
           "Serious"
          ],
          [
           "Serious"
          ],
          [
           "Serious"
          ],
          [
           "Fatal"
          ],
          [
           "Fatal"
          ],
          [
           "Fatal"
          ],
          [
           "Fatal"
          ],
          [
           "Serious"
          ],
          [
           "Serious"
          ],
          [
           "Serious"
          ],
          [
           "Serious"
          ],
          [
           "Fatal"
          ],
          [
           "Serious"
          ],
          [
           "Serious"
          ],
          [
           "Fatal"
          ],
          [
           "Fatal"
          ],
          [
           "Fatal"
          ],
          [
           "Fatal"
          ],
          [
           "Serious"
          ],
          [
           "Serious"
          ],
          [
           "Serious"
          ],
          [
           "Serious"
          ],
          [
           "Serious"
          ],
          [
           "Serious"
          ],
          [
           "Serious"
          ],
          [
           "Serious"
          ],
          [
           "Serious"
          ],
          [
           "Serious"
          ],
          [
           "Serious"
          ],
          [
           "Serious"
          ],
          [
           "Serious"
          ],
          [
           "Serious"
          ],
          [
           "Serious"
          ],
          [
           "Serious"
          ],
          [
           "Serious"
          ],
          [
           "Fatal"
          ],
          [
           "Serious"
          ],
          [
           "Serious"
          ],
          [
           "Serious"
          ],
          [
           "Serious"
          ],
          [
           "Serious"
          ],
          [
           "Serious"
          ],
          [
           "Fatal"
          ],
          [
           "Serious"
          ],
          [
           "Serious"
          ],
          [
           "Serious"
          ],
          [
           "Serious"
          ],
          [
           "Serious"
          ],
          [
           "Serious"
          ],
          [
           "Serious"
          ],
          [
           "Serious"
          ],
          [
           "Serious"
          ],
          [
           "Serious"
          ],
          [
           "Serious"
          ],
          [
           "Serious"
          ],
          [
           "Serious"
          ],
          [
           "Serious"
          ],
          [
           "Serious"
          ],
          [
           "Serious"
          ],
          [
           "Serious"
          ],
          [
           "Serious"
          ],
          [
           "Serious"
          ],
          [
           "Serious"
          ],
          [
           "Serious"
          ],
          [
           "Serious"
          ],
          [
           "Serious"
          ],
          [
           "Serious"
          ],
          [
           "Serious"
          ],
          [
           "Serious"
          ],
          [
           "Fatal"
          ],
          [
           "Serious"
          ],
          [
           "Serious"
          ],
          [
           "Serious"
          ],
          [
           "Serious"
          ],
          [
           "Serious"
          ],
          [
           "Serious"
          ],
          [
           "Serious"
          ],
          [
           "Serious"
          ],
          [
           "Serious"
          ],
          [
           "Serious"
          ],
          [
           "Serious"
          ],
          [
           "Serious"
          ],
          [
           "Serious"
          ],
          [
           "Serious"
          ],
          [
           "Serious"
          ],
          [
           "Serious"
          ],
          [
           "Serious"
          ],
          [
           "Serious"
          ],
          [
           "Serious"
          ],
          [
           "Serious"
          ],
          [
           "Serious"
          ],
          [
           "Serious"
          ],
          [
           "Serious"
          ],
          [
           "Serious"
          ],
          [
           "Serious"
          ],
          [
           "Serious"
          ],
          [
           "Serious"
          ],
          [
           "Serious"
          ],
          [
           "Serious"
          ],
          [
           "Serious"
          ],
          [
           "Serious"
          ],
          [
           "Serious"
          ],
          [
           "Serious"
          ],
          [
           "Serious"
          ],
          [
           "Serious"
          ],
          [
           "Serious"
          ],
          [
           "Fatal"
          ],
          [
           "Fatal"
          ],
          [
           "Serious"
          ],
          [
           "Serious"
          ],
          [
           "Serious"
          ],
          [
           "Serious"
          ],
          [
           "Serious"
          ],
          [
           "Serious"
          ],
          [
           "Serious"
          ],
          [
           "Serious"
          ],
          [
           "Serious"
          ],
          [
           "Serious"
          ],
          [
           "Serious"
          ],
          [
           "Serious"
          ],
          [
           "Serious"
          ],
          [
           "Serious"
          ],
          [
           "Serious"
          ],
          [
           "Serious"
          ],
          [
           "Serious"
          ],
          [
           "Serious"
          ],
          [
           "Serious"
          ],
          [
           "Serious"
          ],
          [
           "Serious"
          ],
          [
           "Serious"
          ],
          [
           "Serious"
          ],
          [
           "Serious"
          ],
          [
           "Serious"
          ],
          [
           "Serious"
          ],
          [
           "Serious"
          ],
          [
           "Serious"
          ],
          [
           "Serious"
          ],
          [
           "Serious"
          ],
          [
           "Serious"
          ],
          [
           "Serious"
          ],
          [
           "Serious"
          ],
          [
           "Serious"
          ],
          [
           "Serious"
          ],
          [
           "Serious"
          ],
          [
           "Serious"
          ],
          [
           "Serious"
          ],
          [
           "Serious"
          ],
          [
           "Serious"
          ],
          [
           "Serious"
          ],
          [
           "Serious"
          ],
          [
           "Serious"
          ],
          [
           "Serious"
          ],
          [
           "Serious"
          ],
          [
           "Serious"
          ],
          [
           "Serious"
          ],
          [
           "Serious"
          ],
          [
           "Serious"
          ],
          [
           "Serious"
          ],
          [
           "Serious"
          ],
          [
           "Serious"
          ],
          [
           "Serious"
          ],
          [
           "Serious"
          ],
          [
           "Serious"
          ],
          [
           "Serious"
          ],
          [
           "Fatal"
          ],
          [
           "Serious"
          ],
          [
           "Serious"
          ],
          [
           "Serious"
          ],
          [
           "Serious"
          ],
          [
           "Serious"
          ],
          [
           "Serious"
          ],
          [
           "Serious"
          ],
          [
           "Serious"
          ],
          [
           "Serious"
          ],
          [
           "Serious"
          ],
          [
           "Serious"
          ],
          [
           "Serious"
          ],
          [
           "Serious"
          ],
          [
           "Serious"
          ],
          [
           "Fatal"
          ],
          [
           "Fatal"
          ],
          [
           "Serious"
          ],
          [
           "Serious"
          ],
          [
           "Fatal"
          ],
          [
           "Serious"
          ],
          [
           "Fatal"
          ],
          [
           "Serious"
          ],
          [
           "Serious"
          ],
          [
           "Serious"
          ],
          [
           "Serious"
          ],
          [
           "Fatal"
          ],
          [
           "Fatal"
          ],
          [
           "Serious"
          ],
          [
           "Serious"
          ],
          [
           "Serious"
          ],
          [
           "Serious"
          ],
          [
           "Serious"
          ],
          [
           "Serious"
          ],
          [
           "Serious"
          ],
          [
           "Serious"
          ],
          [
           "Serious"
          ],
          [
           "Serious"
          ],
          [
           "Serious"
          ],
          [
           "Serious"
          ],
          [
           "Serious"
          ],
          [
           "Serious"
          ]
         ],
         "hovertemplate": "<b>%{hovertext}</b><br><br>Latitude=%{lat}<br>Longitude=%{lon}<br>Casualty_Severity=%{customdata[0]}<extra></extra>",
         "hovertext": [
          0,
          1,
          6,
          2,
          9,
          72,
          52,
          49,
          2,
          48,
          7,
          3,
          71,
          51,
          4,
          5,
          51,
          6,
          7,
          49,
          7,
          3,
          4,
          8,
          4,
          9,
          71,
          0,
          0,
          10,
          1,
          51,
          6,
          11,
          11,
          11,
          11,
          11,
          11,
          11,
          12,
          13,
          13,
          13,
          13,
          13,
          13,
          13,
          13,
          14,
          14,
          14,
          14,
          14,
          15,
          16,
          16,
          17,
          18,
          18,
          18,
          93,
          19,
          93,
          20,
          83,
          83,
          83,
          83,
          83,
          21,
          21,
          21,
          21,
          21,
          21,
          21,
          21,
          22,
          22,
          23,
          23,
          23,
          23,
          23,
          23,
          24,
          25,
          25,
          26,
          26,
          26,
          26,
          26,
          26,
          26,
          26,
          26,
          26,
          26,
          26,
          26,
          26,
          26,
          27,
          27,
          27,
          27,
          27,
          27,
          27,
          27,
          28,
          28,
          28,
          28,
          28,
          28,
          28,
          29,
          29,
          29,
          29,
          29,
          29,
          29,
          29,
          30,
          30,
          30,
          30,
          31,
          31,
          31,
          31,
          31,
          31,
          31,
          33,
          32,
          32,
          32,
          32,
          32,
          32,
          32,
          32,
          33,
          34,
          35,
          35,
          36,
          35,
          36,
          37,
          35,
          38,
          39,
          39,
          39,
          39,
          40,
          41,
          41,
          41,
          41,
          41,
          41,
          41,
          41,
          41,
          41,
          41,
          41,
          41,
          41,
          42,
          42,
          42,
          42,
          42,
          42,
          43,
          44,
          44,
          44,
          45,
          45,
          45,
          45,
          45,
          45,
          45,
          88,
          88,
          88,
          88,
          46,
          46,
          46,
          46,
          46,
          46,
          46,
          46,
          51,
          47,
          47,
          69,
          8,
          8,
          48,
          2,
          8,
          2,
          5,
          10,
          49,
          47,
          47,
          69,
          50,
          9,
          5,
          51,
          49,
          7,
          71,
          71,
          8,
          4,
          10,
          71,
          48,
          3,
          69,
          1,
          39,
          2,
          6,
          1,
          51,
          7,
          52,
          12,
          12,
          12,
          53,
          54,
          55,
          55,
          55,
          55,
          55,
          55,
          55,
          55,
          55,
          15,
          15,
          56,
          56,
          56,
          56,
          56,
          56,
          56,
          93,
          57,
          57,
          57,
          57,
          57,
          57,
          57,
          58,
          93,
          59,
          59,
          59,
          59,
          59,
          59,
          59,
          17,
          60,
          60,
          60,
          22,
          22,
          24,
          25,
          61,
          61,
          61,
          61,
          61,
          61,
          61,
          61,
          61,
          61,
          62,
          62,
          62,
          62,
          62,
          62,
          62,
          62,
          62,
          63,
          30,
          30,
          63,
          33,
          33,
          31,
          34,
          34,
          64,
          64,
          64,
          64,
          64,
          64,
          64,
          34,
          34,
          34,
          34,
          34,
          34,
          36,
          35,
          37,
          35,
          35,
          39,
          43,
          43,
          43,
          44,
          65,
          65,
          65,
          65,
          65,
          65,
          65,
          65,
          65,
          88,
          66,
          66,
          66,
          66,
          66,
          66,
          66,
          67,
          67,
          67,
          67,
          67,
          67,
          67,
          68,
          50,
          49,
          50,
          6,
          5,
          72,
          48,
          69,
          9,
          50,
          72,
          49,
          8,
          8,
          0,
          47,
          48,
          70,
          70,
          70,
          70,
          70,
          70,
          70,
          52,
          3,
          5,
          9,
          69,
          50,
          7,
          52,
          4,
          5,
          52,
          52,
          52,
          69,
          7,
          71,
          0,
          50,
          8,
          71,
          72,
          72,
          4,
          49,
          0,
          7,
          1,
          50,
          73,
          73,
          73,
          73,
          73,
          73,
          73,
          73,
          73,
          14,
          14,
          54,
          54,
          54,
          54,
          54,
          54,
          15,
          74,
          74,
          74,
          74,
          74,
          74,
          74,
          74,
          15,
          15,
          17,
          17,
          19,
          20,
          20,
          20,
          20,
          17,
          17,
          93,
          83,
          75,
          76,
          22,
          22,
          22,
          22,
          22,
          25,
          25,
          25,
          25,
          63,
          30,
          63,
          77,
          77,
          77,
          77,
          77,
          77,
          77,
          77,
          77,
          77,
          77,
          77,
          77,
          77,
          77,
          77,
          78,
          78,
          78,
          78,
          78,
          78,
          78,
          33,
          79,
          79,
          79,
          79,
          79,
          79,
          79,
          80,
          80,
          80,
          80,
          36,
          35,
          38,
          38,
          38,
          38,
          38,
          38,
          81,
          81,
          81,
          81,
          81,
          81,
          81,
          43,
          43,
          82,
          82,
          82,
          82,
          82,
          68,
          68,
          68,
          68,
          68,
          68,
          49,
          51,
          1,
          5,
          6,
          0,
          4,
          9,
          7,
          72,
          72,
          9,
          6,
          10,
          10,
          0,
          1,
          3,
          2,
          2,
          53,
          53,
          53,
          53,
          53,
          53,
          12,
          12,
          54,
          19,
          16,
          16,
          16,
          16,
          16,
          16,
          16,
          16,
          16,
          16,
          19,
          19,
          17,
          58,
          58,
          58,
          58,
          58,
          19,
          19,
          93,
          83,
          60,
          60,
          75,
          76,
          76,
          76,
          76,
          76,
          76,
          84,
          84,
          84,
          84,
          84,
          84,
          84,
          22,
          24,
          24,
          24,
          24,
          24,
          25,
          85,
          85,
          85,
          85,
          85,
          85,
          85,
          85,
          85,
          85,
          85,
          85,
          30,
          30,
          30,
          86,
          86,
          86,
          86,
          86,
          86,
          86,
          87,
          87,
          87,
          87,
          87,
          87,
          87,
          87,
          63,
          33,
          33,
          33,
          36,
          35,
          37,
          36,
          39,
          40,
          40,
          40,
          40,
          42,
          44,
          88,
          88,
          89,
          89,
          89,
          89,
          89,
          89,
          89,
          82,
          82,
          82,
          90,
          90,
          90,
          90,
          90,
          90,
          90,
          39,
          38,
          9,
          7,
          49,
          48,
          48,
          10,
          0,
          10,
          10,
          8,
          69,
          47,
          47,
          3,
          1,
          3,
          12,
          15,
          91,
          91,
          91,
          91,
          91,
          91,
          91,
          91,
          92,
          92,
          92,
          92,
          92,
          92,
          92,
          92,
          92,
          20,
          20,
          18,
          18,
          18,
          18,
          58,
          93,
          17,
          60,
          60,
          75,
          75,
          75,
          75,
          75,
          94,
          94,
          94,
          94,
          94,
          94,
          94,
          23,
          25,
          85,
          85,
          95,
          95,
          95,
          95,
          95,
          95,
          95,
          95,
          95,
          63,
          63,
          31,
          80,
          80,
          80,
          80,
          35,
          35,
          35,
          37,
          37,
          37,
          96,
          96,
          96,
          96,
          96,
          96,
          96,
          37,
          36,
          35,
          40,
          40,
          40,
          97,
          97,
          97,
          97,
          97,
          97,
          97,
          42,
          42,
          42,
          42,
          98,
          98,
          98,
          98,
          98,
          98,
          98,
          99,
          99,
          99,
          99,
          99,
          99,
          99,
          99,
          99,
          99,
          100,
          100,
          100,
          100,
          100,
          100,
          100,
          43,
          43,
          44,
          44,
          46,
          46,
          101,
          101,
          101,
          101,
          101,
          101,
          101,
          101,
          101,
          101,
          101,
          101,
          101,
          101
         ],
         "lat": [
          51.56560464300035,
          51.49650087271196,
          51.526333366975805,
          51.52749310127951,
          51.48879370525255,
          51.52230796495054,
          51.51911219979961,
          51.516159564308914,
          51.527578816449726,
          51.523775412318265,
          51.50732555183973,
          51.48838056258717,
          51.5152170107891,
          51.514391640053674,
          51.48581969433039,
          51.53551179945455,
          51.51459467307451,
          51.52640588630973,
          51.50719955845898,
          51.51618010427369,
          51.50715744234416,
          51.488418393824446,
          51.48589667491059,
          51.514867265911185,
          51.4858022786826,
          51.488592850361435,
          51.515292936420934,
          51.56557393180162,
          51.565498886427804,
          51.556187053319135,
          51.49652373852353,
          51.514574057117294,
          51.52650348358299,
          53.53922147099956,
          53.539221170518196,
          53.53926666021513,
          53.53922271823714,
          53.539252330351715,
          53.53921920904998,
          53.53928928614997,
          53.493204586209536,
          53.51232589493763,
          53.51232948191254,
          53.51234818171348,
          53.51232083166539,
          53.5123293391735,
          53.512325860693764,
          53.51234218926595,
          53.512355738347345,
          53.52375083188827,
          53.52377963879793,
          53.52373023926093,
          53.52379103484113,
          53.52372864436541,
          53.96863036187053,
          53.472054646847624,
          53.472037626015855,
          53.43639338669296,
          53.487476100583756,
          53.48752351152295,
          53.48747898486526,
          53.38863530744444,
          53.387574138005974,
          53.38874581436063,
          53.520074771382404,
          53.768481758824905,
          53.76844411061003,
          53.768669447100834,
          53.7684576590349,
          53.76858485344186,
          52.5235654693885,
          52.523559608829,
          52.523576505491995,
          52.52359194635612,
          52.523553214684334,
          52.523562818747514,
          52.52354493315163,
          52.52358400512863,
          52.341045917523516,
          52.341061271235915,
          52.7860197516297,
          52.78603675605336,
          52.78605103182823,
          52.786001640805694,
          52.786066433715625,
          52.785890416534556,
          52.859243465834396,
          52.74778174819821,
          52.74771180731753,
          52.35950232349041,
          52.35954142246275,
          52.35951977676711,
          52.35949100639702,
          52.35953393759446,
          52.359512786478106,
          52.35950227016521,
          52.35951903801731,
          52.35951611520354,
          52.35950414313484,
          52.35954343834548,
          52.359468183900724,
          52.359457870111676,
          52.35951954037794,
          52.359567990831735,
          52.44372310890312,
          52.443716247633866,
          52.44371472357577,
          52.44373213786999,
          52.443753658803374,
          52.44372428113961,
          52.443685392782555,
          52.4437416714972,
          51.7062391198934,
          51.706220628505186,
          51.70623366435482,
          51.70623372246491,
          51.706245066009664,
          51.70622023694637,
          51.706212603365714,
          51.88899659343173,
          51.889054372937316,
          51.88900063228604,
          51.88899808517115,
          51.889031829269605,
          51.889067754610835,
          51.88903499118744,
          51.88903414207784,
          51.74996040480324,
          51.75000325750023,
          51.74995969681838,
          51.74996045604076,
          50.70266328432173,
          50.70263102211371,
          50.70266025097962,
          50.70262535500031,
          50.702657430355465,
          50.70261835076013,
          50.70263740339817,
          50.89890812133811,
          50.94302329815325,
          50.9430379029455,
          50.942996777247785,
          50.94302173330943,
          50.94302223105072,
          50.94307455765448,
          50.94301535292731,
          50.94303591351308,
          50.898758407685904,
          51.354504223558976,
          50.823565061678316,
          50.823671904633294,
          50.82095617136418,
          50.82372351915234,
          50.82110864014949,
          50.835640930213636,
          50.823830607197706,
          51.5172957148714,
          51.51618987002657,
          51.516060389141224,
          51.51613576654206,
          51.516036413443345,
          50.25329386571883,
          50.430242962663115,
          50.43026596116189,
          50.43030737629409,
          50.43030516745887,
          50.430246116355875,
          50.43031158934612,
          50.43030963156691,
          50.430289089179226,
          50.43028038642057,
          50.43029392152769,
          50.43024495063475,
          50.430249312616674,
          50.43028494741901,
          50.43025098159555,
          53.10461462384719,
          53.10465077288084,
          53.104640075584186,
          53.10459626445729,
          53.10465174243321,
          53.10459513440644,
          52.68630582348643,
          57.80224931183305,
          57.80222832766958,
          57.80225501388204,
          56.911725796608664,
          56.9117427020242,
          56.91172960066874,
          56.9117398946312,
          56.91172581410181,
          56.91175384640151,
          56.911719493048295,
          56.49490911162353,
          56.4949261584631,
          56.49475957642486,
          56.494721023648275,
          56.45207963340024,
          56.45211178734562,
          56.45203025193053,
          56.452075427730044,
          56.45205702729942,
          56.45208771648375,
          56.452025221484554,
          56.45202720189338,
          51.51463101033772,
          51.56680791583851,
          51.56682205733812,
          51.5195422104134,
          51.51477159510961,
          51.51472479257426,
          51.52377304394914,
          51.52758493244535,
          51.51478595523125,
          51.52753573952295,
          51.53559071539888,
          51.55610085546151,
          51.516100459614044,
          51.56684248147135,
          51.566770060935795,
          51.519527671857226,
          51.46131214087962,
          51.48874440326099,
          51.53556894394395,
          51.51455009298378,
          51.51616877771501,
          51.507268955664344,
          51.51520809185379,
          51.51520807646356,
          51.51477662966065,
          51.485728165787066,
          51.5561858159822,
          51.515240099215816,
          51.52365949070816,
          51.488530718096165,
          51.519552530465006,
          51.49651118706757,
          51.5161407863175,
          51.52751597419308,
          51.52655401972146,
          51.49651256302526,
          51.514474682733386,
          51.50717023548704,
          51.519001716740206,
          53.49319043648599,
          53.49323226709292,
          53.493090975710984,
          53.38671656344654,
          53.16150579425007,
          54.223602042395946,
          54.2236241777886,
          54.22365914283482,
          54.22359484294916,
          54.22365003537393,
          54.223607476975154,
          54.223607118610225,
          54.22365029366234,
          54.22362929427574,
          53.96865193685555,
          53.96872068340229,
          53.83473403082186,
          53.83478316641354,
          53.834782120392205,
          53.8347527161032,
          53.83479157144796,
          53.83478817082237,
          53.834762340831425,
          53.38883668712983,
          53.46533915623864,
          53.465381447072346,
          53.46534765670125,
          53.465349926329864,
          53.465369241063584,
          53.46537283903033,
          53.465358661056186,
          53.455808463713964,
          53.38881506586555,
          53.384261715553976,
          53.38419087410663,
          53.384221406177026,
          53.38421374575271,
          53.38420606833787,
          53.38423705200289,
          53.38421439085258,
          53.43641060092853,
          52.46587024823177,
          52.465797958487784,
          52.46584296312644,
          52.341004387126986,
          52.341069538337464,
          52.85934238309956,
          52.74775816500003,
          52.43439627704441,
          52.43440816523709,
          52.43439883999729,
          52.43433632269328,
          52.4343637059834,
          52.43438905423105,
          52.43435314836577,
          52.434358486440495,
          52.43438503789395,
          52.434376689431026,
          52.614035754225426,
          52.6140265901489,
          52.61402468768326,
          52.614062545631754,
          52.61409851336934,
          52.61406350853622,
          52.61403029131201,
          52.614029238298905,
          52.61410151708057,
          51.459970334272576,
          51.74993788059448,
          51.74995699380015,
          51.45996917750156,
          50.89881016831251,
          50.89886248962357,
          50.70265965613019,
          51.354505597113885,
          51.35449397120393,
          51.43406552076049,
          51.43408898660329,
          51.43409192305291,
          51.434076082108824,
          51.43403955802843,
          51.4340780772562,
          51.434079515455004,
          51.35452022940315,
          51.3545092442396,
          51.35453843053386,
          51.3544927443454,
          51.35449925426186,
          51.354532500817754,
          50.8211698012113,
          50.82365801603068,
          50.83563967460906,
          50.823637282466855,
          50.82369904749806,
          51.516094967204204,
          52.68632884330669,
          52.68627028319372,
          52.686277716463344,
          57.80225940703423,
          57.50466519799849,
          57.50469217536126,
          57.50468378711399,
          57.50465882518249,
          57.50467057123048,
          57.50468715080571,
          57.50463113290166,
          57.50463929188301,
          57.504645141855626,
          56.49466196144536,
          55.70663526427015,
          55.70659915693748,
          55.706655721641226,
          55.70662744894087,
          55.70665847023674,
          55.706635476750265,
          55.7066356149078,
          55.87367972871336,
          55.87362918108008,
          55.873686638554,
          55.873636547030365,
          55.873679760193326,
          55.873625886274304,
          55.8736065969559,
          54.932572676912756,
          51.461250417000606,
          51.51611423190294,
          51.46140420949896,
          51.52636730939746,
          51.5356158768785,
          51.52214271260589,
          51.523729825048,
          51.519497249292804,
          51.488498805090956,
          51.46124531897484,
          51.52233815084338,
          51.516092382889966,
          51.514785680433015,
          51.514735119161706,
          51.565520593661475,
          51.566727859131184,
          51.52367172398628,
          51.34604323931774,
          51.3460001447847,
          51.346060724054944,
          51.346065372364514,
          51.345997998184295,
          51.3460277798098,
          51.34605394336188,
          51.51901065484859,
          51.48832229751589,
          51.53561358882017,
          51.48878782260318,
          51.51941185358312,
          51.46123276226729,
          51.507214495154685,
          51.51901998354284,
          51.48586015940814,
          51.53555536985694,
          51.51908842777493,
          51.51908528468917,
          51.51913504665386,
          51.51949308825101,
          51.50717466289013,
          51.51523716711941,
          51.565359414763996,
          51.46126844880981,
          51.51472048979281,
          51.515334422977666,
          51.52221469499297,
          51.5221982543847,
          51.48578482864088,
          51.51614040807079,
          51.56564557795064,
          51.50738667341451,
          51.496365676123816,
          51.46149741003743,
          54.26821035988588,
          54.26824387280941,
          54.26828329328626,
          54.268229479969435,
          54.26822905814844,
          54.268288998066055,
          54.26828317180165,
          54.26821982526761,
          54.26820263682046,
          53.52386675520317,
          53.52383658505685,
          53.16160648643884,
          53.161619648142995,
          53.161614458935496,
          53.16157834572391,
          53.161621385833215,
          53.16162466965735,
          53.96864883993852,
          53.6459599947885,
          53.64595484582691,
          53.64597828629155,
          53.645971952976524,
          53.64591100490662,
          53.64592537706938,
          53.6459522501515,
          53.645936679408074,
          53.9686354203298,
          53.968624567872254,
          53.43639141077514,
          53.43639102515995,
          53.38738373137521,
          53.52013129939107,
          53.52010533116183,
          53.52007207911446,
          53.52012316752752,
          53.43634524342704,
          53.43637034850823,
          53.3886241115296,
          53.768683277669744,
          52.45581964764209,
          52.999865124742826,
          52.34106952675021,
          52.34101340548304,
          52.34100957171661,
          52.34099629227262,
          52.34101830201507,
          52.74789263555402,
          52.747934954078694,
          52.747933554001825,
          52.747735387649136,
          51.45993045641296,
          51.74994999172461,
          51.460015668157766,
          52.08393637806237,
          52.08397336982103,
          52.08394853066363,
          52.08391372223502,
          52.08395233374395,
          52.08392504805608,
          52.08394118950676,
          52.08392498400017,
          52.0839586238829,
          52.08389248924583,
          52.08396512441196,
          52.08390010553973,
          52.08406400931049,
          52.084101990330524,
          52.08403696023127,
          52.08408382842763,
          51.48692941792524,
          51.48696167817496,
          51.48694751614847,
          51.486898982077456,
          51.48691819513556,
          51.48691889813155,
          51.486957089629634,
          50.89874823737552,
          51.37795231000216,
          51.37795096859239,
          51.37792955966269,
          51.37793526542633,
          51.3779668001063,
          51.37795418664295,
          51.37791048246173,
          51.192285047979176,
          51.19234860560392,
          51.19231362075931,
          51.19231545498329,
          50.82124364547581,
          50.82363238008086,
          51.517430433801046,
          51.51745102088278,
          51.51747401550227,
          51.51746692747515,
          51.51733872436519,
          51.51744539483682,
          51.56756443279983,
          51.567551487690785,
          51.56762854087617,
          51.567552984927296,
          51.56762766427562,
          51.56756696152019,
          51.56760939952749,
          52.68647988849806,
          52.68645839889304,
          55.41530535964059,
          55.41527951857047,
          55.41530513516647,
          55.4152601726767,
          55.41534823586042,
          54.93247177215893,
          54.93244135226976,
          54.932464431899156,
          54.93252909067909,
          54.93247979379114,
          54.93252079081974,
          51.516048686177406,
          51.514440216907,
          51.49648030864838,
          51.535354526941084,
          51.526367234487715,
          51.56553647180421,
          51.485810234721924,
          51.48864164380329,
          51.50717027922397,
          51.52206451227499,
          51.522092577318354,
          51.48846767874802,
          51.526260240104754,
          51.55602798699446,
          51.556125580994895,
          51.56553772628381,
          51.49639599890353,
          51.48826844570695,
          51.52753759831239,
          51.5273892698258,
          53.38654751662308,
          53.38659471868067,
          53.38654174057014,
          53.38652858182426,
          53.38653700964496,
          53.38651953763465,
          53.493174454704246,
          53.493162061864325,
          53.161652387362984,
          53.38748902057432,
          53.47197765697478,
          53.47192981115152,
          53.47199352757561,
          53.47197473127536,
          53.472003336354234,
          53.471984235906426,
          53.47195809626733,
          53.47201821463293,
          53.472026574488524,
          53.471952090177965,
          53.38755761609258,
          53.38754715008525,
          53.4363009291459,
          53.455796790132084,
          53.455846019727225,
          53.45582200236261,
          53.45582107292337,
          53.45580930075087,
          53.38741996766356,
          53.38739061011449,
          53.3887280870538,
          53.76855832842108,
          52.465881717359935,
          52.46592130621357,
          52.45582455843585,
          52.9998381916831,
          52.99982922522277,
          52.99987559511949,
          52.99987126298633,
          52.99986329721587,
          52.999830506830506,
          52.64021957578892,
          52.64020343368942,
          52.64016722835459,
          52.64014707505781,
          52.64021943625624,
          52.64020503611845,
          52.64015566768215,
          52.34097241884567,
          52.85922695285186,
          52.859238589417096,
          52.859188740769596,
          52.859168087104244,
          52.85924608047644,
          52.74768371471396,
          52.505364414260185,
          52.50532681149966,
          52.50537240002728,
          52.5053239803932,
          52.50536724796281,
          52.50535047437102,
          52.5053452677785,
          52.505333936903206,
          52.505320078527156,
          52.505404498419225,
          52.50540310187445,
          52.50540709275384,
          51.74991938162124,
          51.74985992281841,
          51.74992376000924,
          51.60814049576886,
          51.608147554587454,
          51.60809565546194,
          51.60813011140371,
          51.608135480956065,
          51.60810156004414,
          51.60812184992219,
          51.54160389194546,
          51.541623690867304,
          51.54151355602042,
          51.54153474947135,
          51.5415832607733,
          51.54151140486126,
          51.541548878651405,
          51.54154542010763,
          51.45986048328564,
          50.89862142823363,
          50.89873744259634,
          50.898616293025434,
          50.82099259884789,
          50.82363140209701,
          50.83552427620136,
          50.82094807973322,
          51.51611437263007,
          50.25327776296948,
          50.25323930242677,
          50.25320903603464,
          50.25318011936981,
          53.104445104857945,
          57.80249470530125,
          56.494866103009564,
          56.49490010401772,
          55.57562275661777,
          55.575649677495115,
          55.57562958961947,
          55.575590767583165,
          55.57565894315913,
          55.575625245111894,
          55.57559062363649,
          55.41524148795829,
          55.415257788363284,
          55.41524203548305,
          55.731804500117924,
          55.73180740806383,
          55.73183853624266,
          55.731866945385356,
          55.73183144996244,
          55.73186793880723,
          55.73181288512209,
          51.51617861031681,
          51.51725870373699,
          51.48874508837344,
          51.50714650202396,
          51.51608209888895,
          51.52371786835731,
          51.52371523860359,
          51.5561806944296,
          51.565607616278925,
          51.55620434527816,
          51.55612311437828,
          51.51477932758966,
          51.51957875008242,
          51.56681451085125,
          51.566720920022235,
          51.48839028727668,
          51.496504898176696,
          51.488342774071796,
          53.49314405698843,
          53.96862033104731,
          53.694981447161204,
          53.69500486377451,
          53.694971990183234,
          53.695013075531556,
          53.69496055476817,
          53.694942626714905,
          53.69496197844446,
          53.69497687074973,
          53.74593655673899,
          53.74597315256514,
          53.74591627598522,
          53.74591636073557,
          53.74591166678787,
          53.74596727076758,
          53.745952622874874,
          53.74591874266926,
          53.7459437148503,
          53.51998211687554,
          53.520059908785974,
          53.487460280582845,
          53.48740588452604,
          53.48737945347151,
          53.487422960137394,
          53.45577360043885,
          53.38868561798729,
          53.43638897657622,
          52.46591599054627,
          52.465937729250285,
          52.45577057241065,
          52.45574145415839,
          52.45574163935873,
          52.4558014128346,
          52.45577972387418,
          52.69413390711623,
          52.69412541786905,
          52.69411481881016,
          52.69408093536712,
          52.69413928848514,
          52.694119555148795,
          52.69412037200847,
          52.78592821926303,
          52.747757668354495,
          52.50546537452989,
          52.505394456093285,
          51.79138253826385,
          51.79130187167824,
          51.791301781426675,
          51.79135701031607,
          51.79137776789189,
          51.7913314553744,
          51.791306981760165,
          51.791317339699475,
          51.791306609856285,
          51.459960575127226,
          51.45989587968158,
          50.70268480951192,
          51.19229250657453,
          51.19224879664839,
          51.19225765940043,
          51.19226973971845,
          50.82380657689495,
          50.823697270330655,
          50.82368822504367,
          50.83559947848564,
          50.83567552337904,
          50.83564764865479,
          50.82348999100376,
          50.82352407149733,
          50.823481864375665,
          50.823489751332545,
          50.82349660341276,
          50.82348833839235,
          50.823520515675135,
          50.835690264592166,
          50.820940512292744,
          50.8236880851246,
          50.253311129959776,
          50.25329996330958,
          50.25331349012807,
          50.298305811880226,
          50.298315376046546,
          50.298278131517044,
          50.29832915709867,
          50.29830919789888,
          50.29825472848102,
          50.29833453531329,
          53.104631643825996,
          53.10466552834319,
          53.1046169968764,
          53.10462221293565,
          51.490115839999696,
          51.490151913102,
          51.49010903637611,
          51.49018346658542,
          51.49015291093302,
          51.49017509488188,
          51.49012976662978,
          51.477078090200514,
          51.47709296149646,
          51.477076232562446,
          51.47707613558016,
          51.477053498449266,
          51.47705768890199,
          51.47706543915122,
          51.47708978706709,
          51.47705991644874,
          51.477052063805374,
          51.88859165287606,
          51.88858373255905,
          51.88860493714275,
          51.88859108417092,
          51.888636273613365,
          51.88864156747302,
          51.88860780359447,
          52.68625139299833,
          52.68608508611723,
          57.802404760175094,
          57.80238951619621,
          56.45208848183352,
          56.452068350877965,
          56.2300886573019,
          56.23004353429642,
          56.23011243306984,
          56.23007676292193,
          56.23005092116922,
          56.23004495664383,
          56.23010344996619,
          56.230037176753044,
          56.230099057209024,
          56.230087138441355,
          56.23005164961392,
          56.23005546914356,
          56.23011503951234,
          56.23006474512697
         ],
         "legendgroup": "",
         "lon": [
          -0.10300568279640283,
          -0.1114556833742741,
          -0.13349562880296897,
          -0.3522689478471611,
          -0.12929278663382465,
          -0.157549535440517,
          -0.0597189950639727,
          -0.13433475375758128,
          -0.3524290614823857,
          -0.0791784777436493,
          -0.12795530246696937,
          -0.10598457038246588,
          -0.1422411498705971,
          -0.19902512841980466,
          -0.14985369546562555,
          -0.08227849384457948,
          -0.19906043907871449,
          -0.13362716621859705,
          -0.1277568348310845,
          -0.13470225017175214,
          -0.12768590765210153,
          -0.1058405558815491,
          -0.14980557475990294,
          -0.06209950185989129,
          -0.15010188947647546,
          -0.12940774508483516,
          -0.1419479878345223,
          -0.10313883397352312,
          -0.10321484093124422,
          -0.05534592593083089,
          -0.11140715631123997,
          -0.1991195422959057,
          -0.1337369108774341,
          -2.8177117852507165,
          -2.817662789015424,
          -2.8177145903724123,
          -2.8176575498219223,
          -2.8176812223334853,
          -2.817682511493607,
          -2.817699002634444,
          -2.953373173303637,
          -2.2389407728028012,
          -2.238884557269242,
          -2.2389204943589918,
          -2.238933300150978,
          -2.2388677705462277,
          -2.238882946790194,
          -2.238930567357064,
          -2.238913162688439,
          -2.1212964465825817,
          -2.1212591306986974,
          -2.1212720142389005,
          -2.121253742122872,
          -2.121291132307908,
          -1.997208015245925,
          -1.0364254847148329,
          -1.0364403814718592,
          -1.538545672463175,
          -1.3042410826637776,
          -1.3042767692962214,
          -1.304314404446286,
          -1.4605975348864797,
          -1.4622142277646926,
          -1.4607316235990828,
          -1.5855396681889058,
          -0.3537460134494933,
          -0.353852641145387,
          -0.35370027093503476,
          -0.35374948624339964,
          -0.3536418657581656,
          -1.8434367514604393,
          -1.843413277451991,
          -1.8433907024456588,
          -1.8434313270242177,
          -1.8434334683251272,
          -1.843409985778275,
          -1.8434537710387202,
          -1.84345367022289,
          -2.1947814394141862,
          -2.194725330787411,
          -2.9463135643348104,
          -2.94624479360079,
          -2.946276245150847,
          -2.946293544539263,
          -2.946321726003753,
          -2.946353240642479,
          -1.6015190128442967,
          -1.302128789673703,
          -1.3021466758047313,
          -0.04264594911219947,
          -0.0426394129263796,
          -0.04266505188581777,
          -0.04266153734517762,
          -0.042680867577235035,
          -0.04268835947671589,
          -0.042637635713042174,
          -0.04267696081294091,
          -0.04262553645551193,
          -0.0426809490590181,
          -0.042634917571174505,
          -0.042626147227088594,
          -0.04265424897663109,
          -0.04264700274782704,
          -0.04269031002526124,
          0.7315877956924892,
          0.7316282133133208,
          0.7315524626458964,
          0.7315701734005544,
          0.7315480382898565,
          0.7315804601193306,
          0.7315512640212878,
          0.7316373187060248,
          -0.30561352542951964,
          -0.30564266244595323,
          -0.3055756214468222,
          -0.30562738954462587,
          -0.30562697452361376,
          -0.30566000275300653,
          -0.30560205108896493,
          -0.19523840065769973,
          -0.19525434879729794,
          -0.1952331732091523,
          -0.19523030921259582,
          -0.19525692709079412,
          -0.19527405384260732,
          -0.19528665975539622,
          -0.19527566749536324,
          -1.2439571380708858,
          -1.2439688882007442,
          -1.2440481003366335,
          -1.2439466084165676,
          -1.3456327419810468,
          -1.3456536943111228,
          -1.3456008654923626,
          -1.3455843160254994,
          -1.3456154953654977,
          -1.3455720790811028,
          -1.3456519439361612,
          -1.3919422472936425,
          -1.4427898194565216,
          -1.4428491807782913,
          -1.4428000944375379,
          -1.4428136585219227,
          -1.4428039825890637,
          -1.442824658442599,
          -1.4428156013777087,
          -1.442783401383605,
          -1.3919031420282308,
          -0.6765538038988418,
          -0.14330838185836758,
          -0.14339762189104482,
          -0.1364828880365439,
          -0.14336558433576638,
          -0.1366204174392241,
          -0.12573857586003065,
          -0.1434602767982857,
          -0.08858527542668773,
          -0.08131273883158237,
          -0.0816779823904642,
          -0.08157147013200662,
          -0.08157069902753979,
          -5.19181119134759,
          -3.6380163353548194,
          -3.6379721240801697,
          -3.6380233966370503,
          -3.638051978516946,
          -3.637962800678543,
          -3.6380196149749353,
          -3.637996437976317,
          -3.6380380676990645,
          -3.637990179931715,
          -3.6380493186803915,
          -3.6379760266076167,
          -3.6379766594832237,
          -3.638018785895939,
          -3.6379691899974294,
          -3.1359286618090905,
          -3.1359421930972036,
          -3.1359855236652123,
          -3.1359613784793146,
          -3.1359361633574356,
          -3.1359337045830893,
          -3.084143365096084,
          -4.045533908469547,
          -4.045569469435102,
          -4.0455690554764985,
          -2.3384058986953944,
          -2.338345078562326,
          -2.3383555501412427,
          -2.3383281217416876,
          -2.3383428470681347,
          -2.338370456390017,
          -2.338400831602256,
          -2.9497664865327042,
          -2.9497756261849553,
          -2.949470090443148,
          -2.9494441032200207,
          -4.710788234468759,
          -4.7107817351082355,
          -4.710776212486644,
          -4.710768271136603,
          -4.710753770086119,
          -4.710759601726394,
          -4.7107729620269705,
          -4.710784479379285,
          -0.199182127151911,
          0.11048842344676428,
          0.11052198689162074,
          -0.0576136034814277,
          -0.06192886276449523,
          -0.06199634297969996,
          -0.07928431775663618,
          -0.35235899272720766,
          -0.0617790673835703,
          -0.3525015231360185,
          -0.0822998213847785,
          -0.055414421982534615,
          -0.13454590659397458,
          0.11053532121609462,
          0.11053404646254189,
          -0.058018811050206724,
          -0.11558765416479137,
          -0.12946300759746593,
          -0.08216271171526061,
          -0.19920343327387166,
          -0.13482354569080587,
          -0.1275942463887726,
          -0.1419288618474492,
          -0.14194585731532885,
          -0.061851458782832,
          -0.14976764740512313,
          -0.05547468700798072,
          -0.14196399307062796,
          -0.07921759706700213,
          -0.10585536623178936,
          -0.057979567107336705,
          -0.11143898268323806,
          -0.08198143007809443,
          -0.3522385876831038,
          -0.13342017807793108,
          -0.11144939274638074,
          -0.19914431241684002,
          -0.12745799703354807,
          -0.05992416422844181,
          -2.953493825814856,
          -2.9534725006458693,
          -2.9533381102569845,
          -2.9588537462050577,
          -2.9079153873880372,
          -1.4061258626477708,
          -1.406078168362616,
          -1.4060946454523457,
          -1.4061377057568287,
          -1.4060536345484533,
          -1.4060525094682421,
          -1.4060650351234691,
          -1.4060507820956207,
          -1.4060812069349458,
          -1.997139121688666,
          -1.9971815439249074,
          -1.6387567604274909,
          -1.6387790524507315,
          -1.6387577730573781,
          -1.6387597136406011,
          -1.6388079912880351,
          -1.6387663247551034,
          -1.6387465590101036,
          -1.4604868149695593,
          -1.290154893545448,
          -1.290121812750233,
          -1.290136692303175,
          -1.2901676673460687,
          -1.2901737612802304,
          -1.290178299535498,
          -1.2901208876348973,
          -1.3391307669284416,
          -1.460489008237702,
          -1.4056677042302042,
          -1.4057050720728868,
          -1.4056488561136613,
          -1.4056741093083034,
          -1.405687256648222,
          -1.4056431758363066,
          -1.405661076394151,
          -1.5385892883331576,
          -1.9844582853111699,
          -1.984473430832182,
          -1.9844609906713502,
          -2.1947020218517763,
          -2.194712299028157,
          -1.6015806979438245,
          -1.3021196876934422,
          -0.8179788088345608,
          -0.8179575913200733,
          -0.8179678489661961,
          -0.8179716580857718,
          -0.8179715422825984,
          -0.8179800866401356,
          -0.8179773913355157,
          -0.8179694335995396,
          -0.8179820499399806,
          -0.8179108803252033,
          0.0038327199263986354,
          0.00376074639452656,
          0.003824680090894104,
          0.0037613545718838716,
          0.003801973245464105,
          0.0038427161715678952,
          0.003811656603219851,
          0.0038113638340565525,
          0.003831528189455694,
          -0.9687605556725879,
          -1.2439338613883828,
          -1.2438917825637228,
          -0.9687592504381854,
          -1.3918891588291824,
          -1.3919566527226026,
          -1.34564022700025,
          -0.6764933560035464,
          -0.676542313013504,
          -0.5381427811458444,
          -0.5380799664209097,
          -0.5381142482346953,
          -0.5380594046060475,
          -0.5380667985361415,
          -0.5381374806629223,
          -0.5380686757484193,
          -0.6765243700647341,
          -0.6764943671506046,
          -0.6765785749642046,
          -0.6765345563504166,
          -0.6765040483351957,
          -0.6765328785274706,
          -0.13662636250132024,
          -0.14334641564312256,
          -0.12563928957658801,
          -0.14350119928757277,
          -0.14348498139324614,
          -0.08166569336079613,
          -3.0841638577239303,
          -3.0840814491657893,
          -3.0840964564842324,
          -4.045745791734112,
          -2.933939375972758,
          -2.9339339355227145,
          -2.9338822401189177,
          -2.9339299402826855,
          -2.933924171681688,
          -2.9338593424862474,
          -2.933934694074054,
          -2.9338915822519533,
          -2.9339261769776623,
          -2.949506504656915,
          -2.614949848101476,
          -2.614951885224553,
          -2.614959857630742,
          -2.6149551000515525,
          -2.614943216880183,
          -2.6149295272719977,
          -2.6149010967416264,
          -4.328292622392556,
          -4.328318463053688,
          -4.328309712666615,
          -4.328250802982965,
          -4.328269097790441,
          -4.328281555789825,
          -4.328258025536589,
          -4.615201834359449,
          -0.11576404254256599,
          -0.1342258438513217,
          -0.11558469425594735,
          -0.13372587201929653,
          -0.08225503997575528,
          -0.1574013422276192,
          -0.07934043026645152,
          -0.05786841862048618,
          -0.1294565800827438,
          -0.11573547400572223,
          -0.15720081951880716,
          -0.1345797896510542,
          -0.061793982334148484,
          -0.061817419146521085,
          -0.1032373981552561,
          0.1105069927533988,
          -0.07921054300189229,
          -0.04514172501213809,
          -0.04507422649096353,
          -0.045087605913716126,
          -0.04511096141392665,
          -0.04508789077555889,
          -0.04506990903740691,
          -0.04511993486254059,
          -0.0600776331385505,
          -0.10601501311537742,
          -0.08214838415826138,
          -0.12930307569974858,
          -0.05799406638226123,
          -0.11579815784868859,
          -0.12773511747069372,
          -0.0601952387378825,
          -0.1497991110843923,
          -0.08228195388480597,
          -0.06000915246667059,
          -0.060076424989207525,
          -0.06006905858085323,
          -0.05762684573449053,
          -0.1275849321807872,
          -0.14198248477190878,
          -0.10339046856710804,
          -0.11561190343296016,
          -0.061815779132744,
          -0.14204143194905317,
          -0.15739243964126962,
          -0.15735206406324168,
          -0.1498695187094967,
          -0.13472890881843377,
          -0.10308064308564892,
          -0.12756986718758015,
          -0.11145006040924259,
          -0.11566313114665047,
          -2.712033204530673,
          -2.7119675115977695,
          -2.7120342677278777,
          -2.7120220551550216,
          -2.711982917252902,
          -2.7120059853488163,
          -2.711999074721193,
          -2.71201009089221,
          -2.712032892725488,
          -2.1210863217265565,
          -2.121101320475539,
          -2.9080807693149464,
          -2.9080997716305337,
          -2.908118951825585,
          -2.908155466242142,
          -2.9081299347982146,
          -2.9080813134952916,
          -1.997243703378361,
          -1.2384386026052894,
          -1.2384230783326753,
          -1.2384423206762623,
          -1.2384561008181356,
          -1.2383925448758424,
          -1.2384142512613598,
          -1.2384651302218,
          -1.2384586755562923,
          -1.9972788159209265,
          -1.9972852544501476,
          -1.538551761379565,
          -1.5385365802826951,
          -1.4621443912349195,
          -1.585664246670251,
          -1.5855908932728615,
          -1.5856546775543978,
          -1.5856493575263595,
          -1.5385722501277372,
          -1.538565861469502,
          -1.4605588861914354,
          -0.35365907139033015,
          -1.910243743821785,
          -2.166815765063892,
          -2.1947193462277306,
          -2.194735185352659,
          -2.1947033951588253,
          -2.194686761241248,
          -2.194710391874363,
          -1.3020315948989414,
          -1.3020301430844148,
          -1.302063265218254,
          -1.3022035529719764,
          -0.9688014634426558,
          -1.24396511089444,
          -0.9684160440647666,
          -0.749033111547947,
          -0.7490212815982089,
          -0.7489862063277896,
          -0.7489523294439853,
          -0.7490261467628506,
          -0.7490333033744629,
          -0.749041438244339,
          -0.7490294120574914,
          -0.7490323532835492,
          -0.7489793666385494,
          -0.7489628936180291,
          -0.7489803645804953,
          -0.7491609092460776,
          -0.749117126673454,
          -0.7491230340995345,
          -0.7491639037913892,
          -0.5614921743038257,
          -0.5615407198170187,
          -0.5615349337987694,
          -0.5614778402668495,
          -0.5615229241317192,
          -0.5615339832381312,
          -0.5614809955034435,
          -1.391700362844709,
          0.2276735738258926,
          0.22767929625784072,
          0.22770505980618744,
          0.22765565607620325,
          0.22770553095937623,
          0.2277033032422902,
          0.22768280873297644,
          0.7879057182516291,
          0.7879054132294432,
          0.7879387358931043,
          0.7879395231085176,
          -0.1365079484875594,
          -0.1430376539314162,
          -0.08869601150522552,
          -0.08866886439953024,
          -0.08869279787545055,
          -0.08865836586148013,
          -0.08862486297697754,
          -0.0886246144098148,
          -2.5298168208906633,
          -2.5298572972179882,
          -2.5297851177844737,
          -2.529827823911219,
          -2.5298631316390146,
          -2.529837983319068,
          -2.5298362823149874,
          -3.0841362662507166,
          -3.084167563109089,
          -4.638701134613432,
          -4.638742099033762,
          -4.638733045780201,
          -4.638737385167584,
          -4.638691010805121,
          -4.61519730840222,
          -4.615232548794373,
          -4.615218641320302,
          -4.6152342201737815,
          -4.61525254511631,
          -4.615280687491475,
          -0.1347177953326676,
          -0.199082132431146,
          -0.11139951976304703,
          -0.08226276115172518,
          -0.13358069956561638,
          -0.10309024400745201,
          -0.15006806439862452,
          -0.129519246299539,
          -0.1277118146726415,
          -0.15751104568125185,
          -0.15749762967406428,
          -0.12930598750945813,
          -0.1338353262225653,
          -0.05535398802186423,
          -0.05541779052088899,
          -0.10307319443969973,
          -0.11143407251386074,
          -0.10601754564788927,
          -0.35217367463741683,
          -0.3523377898156338,
          -2.9587863301278516,
          -2.958794050351871,
          -2.958835630239734,
          -2.958846479654246,
          -2.958796450185713,
          -2.9588049160490786,
          -2.953401697479627,
          -2.9533654958738786,
          -2.908130096198123,
          -1.46211435924803,
          -1.0362975684968272,
          -1.0363588909107435,
          -1.0363435357079807,
          -1.0363792347260925,
          -1.0363259046309534,
          -1.0363516701175373,
          -1.0363264964082748,
          -1.0363081049915202,
          -1.036385221757844,
          -1.0363830692578202,
          -1.46194233824104,
          -1.4619426605082586,
          -1.5385969144279426,
          -1.3388920081464442,
          -1.338940213188788,
          -1.3389482518643725,
          -1.3389236688194894,
          -1.3389030988627653,
          -1.4620976078535812,
          -1.4620679574021853,
          -1.460576487241218,
          -0.3535936089386255,
          -1.9845092583578745,
          -1.9843900492752133,
          -1.9099916021587175,
          -2.166821318622026,
          -2.1668176849781493,
          -2.1668685743148006,
          -2.1668395970420584,
          -2.166874868078817,
          -2.1668878405074303,
          -1.8011842604533679,
          -1.8011879936491004,
          -1.801182705682266,
          -1.8011877202660653,
          -1.8011478230904852,
          -1.8011845971819263,
          -1.8011132122147868,
          -2.1946952718517894,
          -1.6015541561733604,
          -1.6015536174149616,
          -1.6015405911537075,
          -1.6015330958187262,
          -1.6015379908945593,
          -1.302238869912824,
          -0.46908323424564746,
          -0.4690604270107634,
          -0.46909418732942626,
          -0.4690361896881784,
          -0.46904142216322353,
          -0.46904314279816683,
          -0.4690831068510581,
          -0.4690634996142885,
          -0.46908933238125305,
          -0.46903599805840573,
          -0.46903588338186464,
          -0.4691193744393152,
          -1.243872293644394,
          -1.2439913983865796,
          -1.2439595169712099,
          -1.6582733948924124,
          -1.6583014168689247,
          -1.658306807921548,
          -1.6582731853694175,
          -1.658244667621534,
          -1.6582443842551553,
          -1.6582384352578912,
          -1.2936828922959163,
          -1.29371100882707,
          -1.2937840503629026,
          -1.2938130724395287,
          -1.2937945642186557,
          -1.2937925405078545,
          -1.2937486387633914,
          -1.2937568360663088,
          -0.9687622759945844,
          -1.3920333186527145,
          -1.3921129999865602,
          -1.3917947637684065,
          -0.13650253546826271,
          -0.14343239563091828,
          -0.12576068360626855,
          -0.13661818915567864,
          -0.0815568633893072,
          -5.191797435655437,
          -5.191798964577155,
          -5.191863513185559,
          -5.191678937580751,
          -3.136097985297133,
          -4.045769224790256,
          -2.94955584823065,
          -2.9495321760608775,
          -4.42959065519734,
          -4.429624351813533,
          -4.429583272937546,
          -4.4296531350903745,
          -4.429598602606188,
          -4.429592029536986,
          -4.429660004073501,
          -4.638752272719871,
          -4.638797652178247,
          -4.6387614147126035,
          -4.86408932052197,
          -4.86406658166679,
          -4.8641077537697734,
          -4.864070423694068,
          -4.864075846383416,
          -4.8640974152113445,
          -4.864082971809562,
          -0.08164602057179919,
          -0.08887759986347299,
          -0.1295332996903527,
          -0.12763069100241672,
          -0.1343968139921434,
          -0.07962823953166054,
          -0.07932536744639057,
          -0.05551601642706053,
          -0.10312543316653522,
          -0.055459335258924394,
          -0.05531841589274479,
          -0.06183783566388621,
          -0.058078870765073946,
          0.11048250250441814,
          0.11030091343534762,
          -0.10574354954379504,
          -0.11147375417241823,
          -0.106002048133119,
          -2.9533953339269083,
          -1.9971449081273027,
          -1.7461400680691053,
          -1.746153899808807,
          -1.7461393755390402,
          -1.746137875485407,
          -1.7461128788452798,
          -1.7460745822757504,
          -1.7461198679012642,
          -1.7460980349173036,
          -1.6513942018336805,
          -1.6513882436176366,
          -1.6514176453703988,
          -1.6514175514156155,
          -1.65138991634357,
          -1.6514521345204383,
          -1.6514065738235617,
          -1.651407925115881,
          -1.6514582669162197,
          -1.5855297446987355,
          -1.585527153800017,
          -1.3045082670015107,
          -1.304565732106342,
          -1.3044827373578,
          -1.3045620350271945,
          -1.3389146785628219,
          -1.4606813065321855,
          -1.5386004834979001,
          -1.9844801467448703,
          -1.9844794940454755,
          -1.909947715494171,
          -1.9099425508147014,
          -1.9099641578121118,
          -1.9099481301122379,
          -1.9100118270436954,
          -2.25868700154776,
          -2.258668440488121,
          -2.2586446149562955,
          -2.2586931474084713,
          -2.2587082745517084,
          -2.2586890585001225,
          -2.258660939177462,
          -2.9463271380849068,
          -1.302135519209305,
          -0.46907503035674697,
          -0.46910788835270095,
          0.9290490488425641,
          0.9291094020111847,
          0.929106085600345,
          0.9291014190025829,
          0.929117733571392,
          0.929044544272049,
          0.929045516824627,
          0.9290602001224936,
          0.9290534636039878,
          -0.9688257511822852,
          -0.9687980902547234,
          -1.345698044050133,
          0.787762679507935,
          0.7878003027536397,
          0.7878113129755442,
          0.7877995316954385,
          -0.1432809632650666,
          -0.1432816189465791,
          -0.14349202351299745,
          -0.125800025614835,
          -0.1257297774801934,
          -0.12574532815808787,
          -0.14272449608745108,
          -0.14278129654760738,
          -0.1427826233057613,
          -0.14275387840213974,
          -0.14277366260325872,
          -0.14276553106469858,
          -0.14274951478217163,
          -0.12561409586993227,
          -0.13655381695417027,
          -0.1434609111063073,
          -5.191780400455735,
          -5.191726023436109,
          -5.191732824108745,
          -5.118986643539287,
          -5.1189720599734665,
          -5.118974077854776,
          -5.118953572055839,
          -5.118942033432108,
          -5.118957428900461,
          -5.118967611794509,
          -3.135773720277515,
          -3.135738949839872,
          -3.135770635049659,
          -3.1358154529978366,
          -3.2246739784640455,
          -3.2246830706539664,
          -3.224705103011705,
          -3.224686664758547,
          -3.224699100782147,
          -3.2247335884722133,
          -3.2247359894164718,
          -3.70405580477711,
          -3.704024377171603,
          -3.7040152529849175,
          -3.7040639495640018,
          -3.7040424833802135,
          -3.7040851186573116,
          -3.7040335647086824,
          -3.7040121811294675,
          -3.7040316543998273,
          -3.704061702932777,
          -3.4955016036391497,
          -3.4954801105197304,
          -3.4954901038777413,
          -3.4954792140853455,
          -3.4954741134352494,
          -3.4955498771224778,
          -3.4955577389193797,
          -3.0841634082919684,
          -3.0841380074195066,
          -4.045795800404252,
          -4.045757572068705,
          -4.7106820891404215,
          -4.710721639683162,
          -4.856521776463075,
          -4.856517879824823,
          -4.856535212145573,
          -4.856528105295092,
          -4.856539938176898,
          -4.856541762057441,
          -4.856532041349863,
          -4.856499532253666,
          -4.856502603915553,
          -4.8565563703911865,
          -4.85652611903446,
          -4.856568382691396,
          -4.856544306044687,
          -4.856519755614912
         ],
         "marker": {
          "color": "fuchsia"
         },
         "mode": "markers",
         "name": "",
         "showlegend": false,
         "subplot": "mapbox",
         "type": "scattermapbox"
        }
       ],
       "layout": {
        "height": 500,
        "legend": {
         "tracegroupgap": 0
        },
        "mapbox": {
         "center": {
          "lat": 52.64334258106321,
          "lon": -1.5282089701890647
         },
         "domain": {
          "x": [
           0,
           1
          ],
          "y": [
           0,
           1
          ]
         },
         "style": "carto-positron",
         "zoom": 5
        },
        "margin": {
         "b": 0,
         "l": 0,
         "r": 0,
         "t": 0
        },
        "template": {
         "data": {
          "bar": [
           {
            "error_x": {
             "color": "#2a3f5f"
            },
            "error_y": {
             "color": "#2a3f5f"
            },
            "marker": {
             "line": {
              "color": "#E5ECF6",
              "width": 0.5
             }
            },
            "type": "bar"
           }
          ],
          "barpolar": [
           {
            "marker": {
             "line": {
              "color": "#E5ECF6",
              "width": 0.5
             }
            },
            "type": "barpolar"
           }
          ],
          "carpet": [
           {
            "aaxis": {
             "endlinecolor": "#2a3f5f",
             "gridcolor": "white",
             "linecolor": "white",
             "minorgridcolor": "white",
             "startlinecolor": "#2a3f5f"
            },
            "baxis": {
             "endlinecolor": "#2a3f5f",
             "gridcolor": "white",
             "linecolor": "white",
             "minorgridcolor": "white",
             "startlinecolor": "#2a3f5f"
            },
            "type": "carpet"
           }
          ],
          "choropleth": [
           {
            "colorbar": {
             "outlinewidth": 0,
             "ticks": ""
            },
            "type": "choropleth"
           }
          ],
          "contour": [
           {
            "colorbar": {
             "outlinewidth": 0,
             "ticks": ""
            },
            "colorscale": [
             [
              0,
              "#0d0887"
             ],
             [
              0.1111111111111111,
              "#46039f"
             ],
             [
              0.2222222222222222,
              "#7201a8"
             ],
             [
              0.3333333333333333,
              "#9c179e"
             ],
             [
              0.4444444444444444,
              "#bd3786"
             ],
             [
              0.5555555555555556,
              "#d8576b"
             ],
             [
              0.6666666666666666,
              "#ed7953"
             ],
             [
              0.7777777777777778,
              "#fb9f3a"
             ],
             [
              0.8888888888888888,
              "#fdca26"
             ],
             [
              1,
              "#f0f921"
             ]
            ],
            "type": "contour"
           }
          ],
          "contourcarpet": [
           {
            "colorbar": {
             "outlinewidth": 0,
             "ticks": ""
            },
            "type": "contourcarpet"
           }
          ],
          "heatmap": [
           {
            "colorbar": {
             "outlinewidth": 0,
             "ticks": ""
            },
            "colorscale": [
             [
              0,
              "#0d0887"
             ],
             [
              0.1111111111111111,
              "#46039f"
             ],
             [
              0.2222222222222222,
              "#7201a8"
             ],
             [
              0.3333333333333333,
              "#9c179e"
             ],
             [
              0.4444444444444444,
              "#bd3786"
             ],
             [
              0.5555555555555556,
              "#d8576b"
             ],
             [
              0.6666666666666666,
              "#ed7953"
             ],
             [
              0.7777777777777778,
              "#fb9f3a"
             ],
             [
              0.8888888888888888,
              "#fdca26"
             ],
             [
              1,
              "#f0f921"
             ]
            ],
            "type": "heatmap"
           }
          ],
          "heatmapgl": [
           {
            "colorbar": {
             "outlinewidth": 0,
             "ticks": ""
            },
            "colorscale": [
             [
              0,
              "#0d0887"
             ],
             [
              0.1111111111111111,
              "#46039f"
             ],
             [
              0.2222222222222222,
              "#7201a8"
             ],
             [
              0.3333333333333333,
              "#9c179e"
             ],
             [
              0.4444444444444444,
              "#bd3786"
             ],
             [
              0.5555555555555556,
              "#d8576b"
             ],
             [
              0.6666666666666666,
              "#ed7953"
             ],
             [
              0.7777777777777778,
              "#fb9f3a"
             ],
             [
              0.8888888888888888,
              "#fdca26"
             ],
             [
              1,
              "#f0f921"
             ]
            ],
            "type": "heatmapgl"
           }
          ],
          "histogram": [
           {
            "marker": {
             "colorbar": {
              "outlinewidth": 0,
              "ticks": ""
             }
            },
            "type": "histogram"
           }
          ],
          "histogram2d": [
           {
            "colorbar": {
             "outlinewidth": 0,
             "ticks": ""
            },
            "colorscale": [
             [
              0,
              "#0d0887"
             ],
             [
              0.1111111111111111,
              "#46039f"
             ],
             [
              0.2222222222222222,
              "#7201a8"
             ],
             [
              0.3333333333333333,
              "#9c179e"
             ],
             [
              0.4444444444444444,
              "#bd3786"
             ],
             [
              0.5555555555555556,
              "#d8576b"
             ],
             [
              0.6666666666666666,
              "#ed7953"
             ],
             [
              0.7777777777777778,
              "#fb9f3a"
             ],
             [
              0.8888888888888888,
              "#fdca26"
             ],
             [
              1,
              "#f0f921"
             ]
            ],
            "type": "histogram2d"
           }
          ],
          "histogram2dcontour": [
           {
            "colorbar": {
             "outlinewidth": 0,
             "ticks": ""
            },
            "colorscale": [
             [
              0,
              "#0d0887"
             ],
             [
              0.1111111111111111,
              "#46039f"
             ],
             [
              0.2222222222222222,
              "#7201a8"
             ],
             [
              0.3333333333333333,
              "#9c179e"
             ],
             [
              0.4444444444444444,
              "#bd3786"
             ],
             [
              0.5555555555555556,
              "#d8576b"
             ],
             [
              0.6666666666666666,
              "#ed7953"
             ],
             [
              0.7777777777777778,
              "#fb9f3a"
             ],
             [
              0.8888888888888888,
              "#fdca26"
             ],
             [
              1,
              "#f0f921"
             ]
            ],
            "type": "histogram2dcontour"
           }
          ],
          "mesh3d": [
           {
            "colorbar": {
             "outlinewidth": 0,
             "ticks": ""
            },
            "type": "mesh3d"
           }
          ],
          "parcoords": [
           {
            "line": {
             "colorbar": {
              "outlinewidth": 0,
              "ticks": ""
             }
            },
            "type": "parcoords"
           }
          ],
          "pie": [
           {
            "automargin": true,
            "type": "pie"
           }
          ],
          "scatter": [
           {
            "marker": {
             "colorbar": {
              "outlinewidth": 0,
              "ticks": ""
             }
            },
            "type": "scatter"
           }
          ],
          "scatter3d": [
           {
            "line": {
             "colorbar": {
              "outlinewidth": 0,
              "ticks": ""
             }
            },
            "marker": {
             "colorbar": {
              "outlinewidth": 0,
              "ticks": ""
             }
            },
            "type": "scatter3d"
           }
          ],
          "scattercarpet": [
           {
            "marker": {
             "colorbar": {
              "outlinewidth": 0,
              "ticks": ""
             }
            },
            "type": "scattercarpet"
           }
          ],
          "scattergeo": [
           {
            "marker": {
             "colorbar": {
              "outlinewidth": 0,
              "ticks": ""
             }
            },
            "type": "scattergeo"
           }
          ],
          "scattergl": [
           {
            "marker": {
             "colorbar": {
              "outlinewidth": 0,
              "ticks": ""
             }
            },
            "type": "scattergl"
           }
          ],
          "scattermapbox": [
           {
            "marker": {
             "colorbar": {
              "outlinewidth": 0,
              "ticks": ""
             }
            },
            "type": "scattermapbox"
           }
          ],
          "scatterpolar": [
           {
            "marker": {
             "colorbar": {
              "outlinewidth": 0,
              "ticks": ""
             }
            },
            "type": "scatterpolar"
           }
          ],
          "scatterpolargl": [
           {
            "marker": {
             "colorbar": {
              "outlinewidth": 0,
              "ticks": ""
             }
            },
            "type": "scatterpolargl"
           }
          ],
          "scatterternary": [
           {
            "marker": {
             "colorbar": {
              "outlinewidth": 0,
              "ticks": ""
             }
            },
            "type": "scatterternary"
           }
          ],
          "surface": [
           {
            "colorbar": {
             "outlinewidth": 0,
             "ticks": ""
            },
            "colorscale": [
             [
              0,
              "#0d0887"
             ],
             [
              0.1111111111111111,
              "#46039f"
             ],
             [
              0.2222222222222222,
              "#7201a8"
             ],
             [
              0.3333333333333333,
              "#9c179e"
             ],
             [
              0.4444444444444444,
              "#bd3786"
             ],
             [
              0.5555555555555556,
              "#d8576b"
             ],
             [
              0.6666666666666666,
              "#ed7953"
             ],
             [
              0.7777777777777778,
              "#fb9f3a"
             ],
             [
              0.8888888888888888,
              "#fdca26"
             ],
             [
              1,
              "#f0f921"
             ]
            ],
            "type": "surface"
           }
          ],
          "table": [
           {
            "cells": {
             "fill": {
              "color": "#EBF0F8"
             },
             "line": {
              "color": "white"
             }
            },
            "header": {
             "fill": {
              "color": "#C8D4E3"
             },
             "line": {
              "color": "white"
             }
            },
            "type": "table"
           }
          ]
         },
         "layout": {
          "annotationdefaults": {
           "arrowcolor": "#2a3f5f",
           "arrowhead": 0,
           "arrowwidth": 1
          },
          "autotypenumbers": "strict",
          "coloraxis": {
           "colorbar": {
            "outlinewidth": 0,
            "ticks": ""
           }
          },
          "colorscale": {
           "diverging": [
            [
             0,
             "#8e0152"
            ],
            [
             0.1,
             "#c51b7d"
            ],
            [
             0.2,
             "#de77ae"
            ],
            [
             0.3,
             "#f1b6da"
            ],
            [
             0.4,
             "#fde0ef"
            ],
            [
             0.5,
             "#f7f7f7"
            ],
            [
             0.6,
             "#e6f5d0"
            ],
            [
             0.7,
             "#b8e186"
            ],
            [
             0.8,
             "#7fbc41"
            ],
            [
             0.9,
             "#4d9221"
            ],
            [
             1,
             "#276419"
            ]
           ],
           "sequential": [
            [
             0,
             "#0d0887"
            ],
            [
             0.1111111111111111,
             "#46039f"
            ],
            [
             0.2222222222222222,
             "#7201a8"
            ],
            [
             0.3333333333333333,
             "#9c179e"
            ],
            [
             0.4444444444444444,
             "#bd3786"
            ],
            [
             0.5555555555555556,
             "#d8576b"
            ],
            [
             0.6666666666666666,
             "#ed7953"
            ],
            [
             0.7777777777777778,
             "#fb9f3a"
            ],
            [
             0.8888888888888888,
             "#fdca26"
            ],
            [
             1,
             "#f0f921"
            ]
           ],
           "sequentialminus": [
            [
             0,
             "#0d0887"
            ],
            [
             0.1111111111111111,
             "#46039f"
            ],
            [
             0.2222222222222222,
             "#7201a8"
            ],
            [
             0.3333333333333333,
             "#9c179e"
            ],
            [
             0.4444444444444444,
             "#bd3786"
            ],
            [
             0.5555555555555556,
             "#d8576b"
            ],
            [
             0.6666666666666666,
             "#ed7953"
            ],
            [
             0.7777777777777778,
             "#fb9f3a"
            ],
            [
             0.8888888888888888,
             "#fdca26"
            ],
            [
             1,
             "#f0f921"
            ]
           ]
          },
          "colorway": [
           "#636efa",
           "#EF553B",
           "#00cc96",
           "#ab63fa",
           "#FFA15A",
           "#19d3f3",
           "#FF6692",
           "#B6E880",
           "#FF97FF",
           "#FECB52"
          ],
          "font": {
           "color": "#2a3f5f"
          },
          "geo": {
           "bgcolor": "white",
           "lakecolor": "white",
           "landcolor": "#E5ECF6",
           "showlakes": true,
           "showland": true,
           "subunitcolor": "white"
          },
          "hoverlabel": {
           "align": "left"
          },
          "hovermode": "closest",
          "mapbox": {
           "style": "light"
          },
          "paper_bgcolor": "white",
          "plot_bgcolor": "#E5ECF6",
          "polar": {
           "angularaxis": {
            "gridcolor": "white",
            "linecolor": "white",
            "ticks": ""
           },
           "bgcolor": "#E5ECF6",
           "radialaxis": {
            "gridcolor": "white",
            "linecolor": "white",
            "ticks": ""
           }
          },
          "scene": {
           "xaxis": {
            "backgroundcolor": "#E5ECF6",
            "gridcolor": "white",
            "gridwidth": 2,
            "linecolor": "white",
            "showbackground": true,
            "ticks": "",
            "zerolinecolor": "white"
           },
           "yaxis": {
            "backgroundcolor": "#E5ECF6",
            "gridcolor": "white",
            "gridwidth": 2,
            "linecolor": "white",
            "showbackground": true,
            "ticks": "",
            "zerolinecolor": "white"
           },
           "zaxis": {
            "backgroundcolor": "#E5ECF6",
            "gridcolor": "white",
            "gridwidth": 2,
            "linecolor": "white",
            "showbackground": true,
            "ticks": "",
            "zerolinecolor": "white"
           }
          },
          "shapedefaults": {
           "line": {
            "color": "#2a3f5f"
           }
          },
          "ternary": {
           "aaxis": {
            "gridcolor": "white",
            "linecolor": "white",
            "ticks": ""
           },
           "baxis": {
            "gridcolor": "white",
            "linecolor": "white",
            "ticks": ""
           },
           "bgcolor": "#E5ECF6",
           "caxis": {
            "gridcolor": "white",
            "linecolor": "white",
            "ticks": ""
           }
          },
          "title": {
           "x": 0.05
          },
          "xaxis": {
           "automargin": true,
           "gridcolor": "white",
           "linecolor": "white",
           "ticks": "",
           "title": {
            "standoff": 15
           },
           "zerolinecolor": "white",
           "zerolinewidth": 2
          },
          "yaxis": {
           "automargin": true,
           "gridcolor": "white",
           "linecolor": "white",
           "ticks": "",
           "title": {
            "standoff": 15
           },
           "zerolinecolor": "white",
           "zerolinewidth": 2
          }
         }
        }
       }
      },
      "text/html": [
       "<div>                            <div id=\"7d7f07e9-de2e-4002-b591-56f0b74dd144\" class=\"plotly-graph-div\" style=\"height:500px; width:100%;\"></div>            <script type=\"text/javascript\">                require([\"plotly\"], function(Plotly) {                    window.PLOTLYENV=window.PLOTLYENV || {};                                    if (document.getElementById(\"7d7f07e9-de2e-4002-b591-56f0b74dd144\")) {                    Plotly.newPlot(                        \"7d7f07e9-de2e-4002-b591-56f0b74dd144\",                        [{\"customdata\": [[\"Serious\"], [\"Serious\"], [\"Serious\"], [\"Serious\"], [\"Serious\"], [\"Serious\"], [\"Serious\"], [\"Serious\"], [\"Serious\"], [\"Serious\"], [\"Serious\"], [\"Serious\"], [\"Serious\"], [\"Serious\"], [\"Serious\"], [\"Serious\"], [\"Serious\"], [\"Serious\"], [\"Serious\"], [\"Serious\"], [\"Serious\"], [\"Serious\"], [\"Serious\"], [\"Serious\"], [\"Serious\"], [\"Serious\"], [\"Serious\"], [\"Serious\"], [\"Fatal\"], [\"Serious\"], [\"Serious\"], [\"Serious\"], [\"Serious\"], [\"Serious\"], [\"Fatal\"], [\"Fatal\"], [\"Serious\"], [\"Serious\"], [\"Serious\"], [\"Serious\"], [\"Serious\"], [\"Fatal\"], [\"Serious\"], [\"Serious\"], [\"Serious\"], [\"Serious\"], [\"Serious\"], [\"Serious\"], [\"Serious\"], [\"Serious\"], [\"Serious\"], [\"Serious\"], [\"Serious\"], [\"Serious\"], [\"Serious\"], [\"Serious\"], [\"Serious\"], [\"Serious\"], [\"Serious\"], [\"Serious\"], [\"Serious\"], [\"Serious\"], [\"Serious\"], [\"Serious\"], [\"Serious\"], [\"Serious\"], [\"Serious\"], [\"Serious\"], [\"Serious\"], [\"Serious\"], [\"Serious\"], [\"Serious\"], [\"Serious\"], [\"Serious\"], [\"Serious\"], [\"Serious\"], [\"Serious\"], [\"Serious\"], [\"Serious\"], [\"Serious\"], [\"Serious\"], [\"Serious\"], [\"Serious\"], [\"Serious\"], [\"Serious\"], [\"Serious\"], [\"Serious\"], [\"Serious\"], [\"Serious\"], [\"Serious\"], [\"Serious\"], [\"Serious\"], [\"Serious\"], [\"Serious\"], [\"Serious\"], [\"Fatal\"], [\"Serious\"], [\"Serious\"], [\"Fatal\"], [\"Serious\"], [\"Serious\"], [\"Fatal\"], [\"Serious\"], [\"Serious\"], [\"Serious\"], [\"Serious\"], [\"Serious\"], [\"Serious\"], [\"Serious\"], [\"Serious\"], [\"Serious\"], [\"Serious\"], [\"Serious\"], [\"Serious\"], [\"Serious\"], [\"Serious\"], [\"Serious\"], [\"Serious\"], [\"Serious\"], [\"Serious\"], [\"Serious\"], [\"Serious\"], [\"Serious\"], [\"Serious\"], [\"Serious\"], [\"Serious\"], [\"Serious\"], [\"Serious\"], [\"Serious\"], [\"Serious\"], [\"Serious\"], [\"Serious\"], [\"Serious\"], [\"Fatal\"], [\"Serious\"], [\"Serious\"], [\"Serious\"], [\"Serious\"], [\"Serious\"], [\"Fatal\"], [\"Serious\"], [\"Serious\"], [\"Serious\"], [\"Serious\"], [\"Serious\"], [\"Serious\"], [\"Serious\"], [\"Serious\"], [\"Serious\"], [\"Serious\"], [\"Serious\"], [\"Serious\"], [\"Serious\"], [\"Serious\"], [\"Serious\"], [\"Serious\"], [\"Serious\"], [\"Serious\"], [\"Serious\"], [\"Serious\"], [\"Serious\"], [\"Serious\"], [\"Serious\"], [\"Serious\"], [\"Serious\"], [\"Serious\"], [\"Serious\"], [\"Serious\"], [\"Serious\"], [\"Serious\"], [\"Serious\"], [\"Serious\"], [\"Serious\"], [\"Serious\"], [\"Serious\"], [\"Serious\"], [\"Serious\"], [\"Serious\"], [\"Serious\"], [\"Serious\"], [\"Serious\"], [\"Serious\"], [\"Serious\"], [\"Serious\"], [\"Serious\"], [\"Serious\"], [\"Fatal\"], [\"Fatal\"], [\"Fatal\"], [\"Serious\"], [\"Serious\"], [\"Serious\"], [\"Serious\"], [\"Serious\"], [\"Serious\"], [\"Serious\"], [\"Serious\"], [\"Serious\"], [\"Fatal\"], [\"Serious\"], [\"Serious\"], [\"Serious\"], [\"Serious\"], [\"Serious\"], [\"Serious\"], [\"Serious\"], [\"Serious\"], [\"Serious\"], [\"Serious\"], [\"Serious\"], [\"Serious\"], [\"Serious\"], [\"Serious\"], [\"Serious\"], [\"Serious\"], [\"Serious\"], [\"Serious\"], [\"Serious\"], [\"Serious\"], [\"Serious\"], [\"Serious\"], [\"Serious\"], [\"Serious\"], [\"Serious\"], [\"Serious\"], [\"Serious\"], [\"Serious\"], [\"Serious\"], [\"Serious\"], [\"Serious\"], [\"Serious\"], [\"Serious\"], [\"Serious\"], [\"Serious\"], [\"Serious\"], [\"Serious\"], [\"Serious\"], [\"Serious\"], [\"Serious\"], [\"Serious\"], [\"Serious\"], [\"Serious\"], [\"Serious\"], [\"Serious\"], [\"Serious\"], [\"Serious\"], [\"Serious\"], [\"Serious\"], [\"Serious\"], [\"Serious\"], [\"Fatal\"], [\"Fatal\"], [\"Serious\"], [\"Serious\"], [\"Serious\"], [\"Serious\"], [\"Serious\"], [\"Serious\"], [\"Serious\"], [\"Serious\"], [\"Fatal\"], [\"Fatal\"], [\"Fatal\"], [\"Fatal\"], [\"Serious\"], [\"Serious\"], [\"Serious\"], [\"Serious\"], [\"Serious\"], [\"Serious\"], [\"Serious\"], [\"Serious\"], [\"Serious\"], [\"Serious\"], [\"Serious\"], [\"Serious\"], [\"Serious\"], [\"Fatal\"], [\"Fatal\"], [\"Fatal\"], [\"Fatal\"], [\"Serious\"], [\"Serious\"], [\"Serious\"], [\"Serious\"], [\"Serious\"], [\"Serious\"], [\"Serious\"], [\"Serious\"], [\"Serious\"], [\"Serious\"], [\"Serious\"], [\"Serious\"], [\"Serious\"], [\"Serious\"], [\"Serious\"], [\"Serious\"], [\"Serious\"], [\"Serious\"], [\"Serious\"], [\"Serious\"], [\"Serious\"], [\"Serious\"], [\"Fatal\"], [\"Serious\"], [\"Serious\"], [\"Serious\"], [\"Serious\"], [\"Serious\"], [\"Serious\"], [\"Fatal\"], [\"Serious\"], [\"Serious\"], [\"Serious\"], [\"Serious\"], [\"Serious\"], [\"Serious\"], [\"Serious\"], [\"Serious\"], [\"Serious\"], [\"Serious\"], [\"Serious\"], [\"Serious\"], [\"Serious\"], [\"Serious\"], [\"Serious\"], [\"Serious\"], [\"Serious\"], [\"Serious\"], [\"Serious\"], [\"Serious\"], [\"Serious\"], [\"Serious\"], [\"Serious\"], [\"Serious\"], [\"Serious\"], [\"Serious\"], [\"Serious\"], [\"Serious\"], [\"Serious\"], [\"Serious\"], [\"Serious\"], [\"Serious\"], [\"Fatal\"], [\"Fatal\"], [\"Serious\"], [\"Serious\"], [\"Serious\"], [\"Fatal\"], [\"Fatal\"], [\"Fatal\"], [\"Serious\"], [\"Serious\"], [\"Fatal\"], [\"Serious\"], [\"Serious\"], [\"Serious\"], [\"Serious\"], [\"Serious\"], [\"Serious\"], [\"Serious\"], [\"Serious\"], [\"Serious\"], [\"Serious\"], [\"Serious\"], [\"Serious\"], [\"Serious\"], [\"Serious\"], [\"Serious\"], [\"Serious\"], [\"Serious\"], [\"Serious\"], [\"Serious\"], [\"Serious\"], [\"Serious\"], [\"Serious\"], [\"Serious\"], [\"Serious\"], [\"Serious\"], [\"Serious\"], [\"Serious\"], [\"Serious\"], [\"Serious\"], [\"Serious\"], [\"Serious\"], [\"Fatal\"], [\"Serious\"], [\"Serious\"], [\"Serious\"], [\"Serious\"], [\"Serious\"], [\"Serious\"], [\"Serious\"], [\"Serious\"], [\"Serious\"], [\"Serious\"], [\"Serious\"], [\"Serious\"], [\"Serious\"], [\"Serious\"], [\"Fatal\"], [\"Serious\"], [\"Serious\"], [\"Fatal\"], [\"Serious\"], [\"Serious\"], [\"Serious\"], [\"Serious\"], [\"Serious\"], [\"Serious\"], [\"Serious\"], [\"Serious\"], [\"Serious\"], [\"Serious\"], [\"Serious\"], [\"Serious\"], [\"Serious\"], [\"Serious\"], [\"Serious\"], [\"Serious\"], [\"Serious\"], [\"Serious\"], [\"Serious\"], [\"Serious\"], [\"Serious\"], [\"Serious\"], [\"Serious\"], [\"Serious\"], [\"Serious\"], [\"Serious\"], [\"Serious\"], [\"Serious\"], [\"Serious\"], [\"Serious\"], [\"Serious\"], [\"Serious\"], [\"Serious\"], [\"Serious\"], [\"Serious\"], [\"Serious\"], [\"Serious\"], [\"Serious\"], [\"Serious\"], [\"Serious\"], [\"Serious\"], [\"Serious\"], [\"Fatal\"], [\"Serious\"], [\"Serious\"], [\"Serious\"], [\"Serious\"], [\"Serious\"], [\"Serious\"], [\"Serious\"], [\"Serious\"], [\"Serious\"], [\"Serious\"], [\"Serious\"], [\"Serious\"], [\"Serious\"], [\"Serious\"], [\"Serious\"], [\"Serious\"], [\"Serious\"], [\"Serious\"], [\"Serious\"], [\"Serious\"], [\"Serious\"], [\"Serious\"], [\"Serious\"], [\"Serious\"], [\"Serious\"], [\"Serious\"], [\"Fatal\"], [\"Fatal\"], [\"Fatal\"], [\"Fatal\"], [\"Fatal\"], [\"Fatal\"], [\"Fatal\"], [\"Fatal\"], [\"Serious\"], [\"Serious\"], [\"Serious\"], [\"Serious\"], [\"Serious\"], [\"Fatal\"], [\"Serious\"], [\"Serious\"], [\"Serious\"], [\"Serious\"], [\"Serious\"], [\"Serious\"], [\"Serious\"], [\"Serious\"], [\"Serious\"], [\"Serious\"], [\"Serious\"], [\"Serious\"], [\"Serious\"], [\"Fatal\"], [\"Fatal\"], [\"Serious\"], [\"Serious\"], [\"Serious\"], [\"Serious\"], [\"Serious\"], [\"Serious\"], [\"Fatal\"], [\"Serious\"], [\"Serious\"], [\"Serious\"], [\"Serious\"], [\"Serious\"], [\"Serious\"], [\"Serious\"], [\"Fatal\"], [\"Fatal\"], [\"Fatal\"], [\"Serious\"], [\"Serious\"], [\"Fatal\"], [\"Serious\"], [\"Serious\"], [\"Serious\"], [\"Fatal\"], [\"Fatal\"], [\"Serious\"], [\"Serious\"], [\"Serious\"], [\"Serious\"], [\"Serious\"], [\"Fatal\"], [\"Serious\"], [\"Fatal\"], [\"Serious\"], [\"Serious\"], [\"Serious\"], [\"Serious\"], [\"Serious\"], [\"Serious\"], [\"Serious\"], [\"Serious\"], [\"Serious\"], [\"Serious\"], [\"Serious\"], [\"Serious\"], [\"Serious\"], [\"Serious\"], [\"Serious\"], [\"Serious\"], [\"Serious\"], [\"Serious\"], [\"Serious\"], [\"Serious\"], [\"Serious\"], [\"Serious\"], [\"Serious\"], [\"Serious\"], [\"Serious\"], [\"Serious\"], [\"Serious\"], [\"Serious\"], [\"Serious\"], [\"Serious\"], [\"Serious\"], [\"Serious\"], [\"Serious\"], [\"Serious\"], [\"Serious\"], [\"Serious\"], [\"Fatal\"], [\"Fatal\"], [\"Serious\"], [\"Serious\"], [\"Serious\"], [\"Fatal\"], [\"Serious\"], [\"Serious\"], [\"Serious\"], [\"Serious\"], [\"Serious\"], [\"Serious\"], [\"Serious\"], [\"Serious\"], [\"Serious\"], [\"Serious\"], [\"Serious\"], [\"Serious\"], [\"Fatal\"], [\"Serious\"], [\"Serious\"], [\"Serious\"], [\"Serious\"], [\"Serious\"], [\"Serious\"], [\"Serious\"], [\"Serious\"], [\"Serious\"], [\"Serious\"], [\"Serious\"], [\"Serious\"], [\"Serious\"], [\"Serious\"], [\"Serious\"], [\"Serious\"], [\"Serious\"], [\"Serious\"], [\"Serious\"], [\"Serious\"], [\"Serious\"], [\"Serious\"], [\"Serious\"], [\"Serious\"], [\"Serious\"], [\"Serious\"], [\"Serious\"], [\"Serious\"], [\"Serious\"], [\"Serious\"], [\"Serious\"], [\"Serious\"], [\"Serious\"], [\"Serious\"], [\"Serious\"], [\"Serious\"], [\"Fatal\"], [\"Fatal\"], [\"Fatal\"], [\"Fatal\"], [\"Serious\"], [\"Serious\"], [\"Serious\"], [\"Serious\"], [\"Fatal\"], [\"Serious\"], [\"Serious\"], [\"Fatal\"], [\"Fatal\"], [\"Fatal\"], [\"Fatal\"], [\"Serious\"], [\"Serious\"], [\"Serious\"], [\"Serious\"], [\"Serious\"], [\"Serious\"], [\"Serious\"], [\"Serious\"], [\"Serious\"], [\"Serious\"], [\"Serious\"], [\"Serious\"], [\"Serious\"], [\"Serious\"], [\"Serious\"], [\"Serious\"], [\"Serious\"], [\"Fatal\"], [\"Serious\"], [\"Serious\"], [\"Serious\"], [\"Serious\"], [\"Serious\"], [\"Serious\"], [\"Fatal\"], [\"Serious\"], [\"Serious\"], [\"Serious\"], [\"Serious\"], [\"Serious\"], [\"Serious\"], [\"Serious\"], [\"Serious\"], [\"Serious\"], [\"Serious\"], [\"Serious\"], [\"Serious\"], [\"Serious\"], [\"Serious\"], [\"Serious\"], [\"Serious\"], [\"Serious\"], [\"Serious\"], [\"Serious\"], [\"Serious\"], [\"Serious\"], [\"Serious\"], [\"Serious\"], [\"Serious\"], [\"Serious\"], [\"Serious\"], [\"Fatal\"], [\"Serious\"], [\"Serious\"], [\"Serious\"], [\"Serious\"], [\"Serious\"], [\"Serious\"], [\"Serious\"], [\"Serious\"], [\"Serious\"], [\"Serious\"], [\"Serious\"], [\"Serious\"], [\"Serious\"], [\"Serious\"], [\"Serious\"], [\"Serious\"], [\"Serious\"], [\"Serious\"], [\"Serious\"], [\"Serious\"], [\"Serious\"], [\"Serious\"], [\"Serious\"], [\"Serious\"], [\"Serious\"], [\"Serious\"], [\"Serious\"], [\"Serious\"], [\"Serious\"], [\"Serious\"], [\"Serious\"], [\"Serious\"], [\"Serious\"], [\"Serious\"], [\"Serious\"], [\"Serious\"], [\"Fatal\"], [\"Fatal\"], [\"Serious\"], [\"Serious\"], [\"Serious\"], [\"Serious\"], [\"Serious\"], [\"Serious\"], [\"Serious\"], [\"Serious\"], [\"Serious\"], [\"Serious\"], [\"Serious\"], [\"Serious\"], [\"Serious\"], [\"Serious\"], [\"Serious\"], [\"Serious\"], [\"Serious\"], [\"Serious\"], [\"Serious\"], [\"Serious\"], [\"Serious\"], [\"Serious\"], [\"Serious\"], [\"Serious\"], [\"Serious\"], [\"Serious\"], [\"Serious\"], [\"Serious\"], [\"Serious\"], [\"Serious\"], [\"Serious\"], [\"Serious\"], [\"Serious\"], [\"Serious\"], [\"Serious\"], [\"Serious\"], [\"Serious\"], [\"Serious\"], [\"Serious\"], [\"Serious\"], [\"Serious\"], [\"Serious\"], [\"Serious\"], [\"Serious\"], [\"Serious\"], [\"Serious\"], [\"Serious\"], [\"Serious\"], [\"Serious\"], [\"Serious\"], [\"Serious\"], [\"Serious\"], [\"Serious\"], [\"Serious\"], [\"Serious\"], [\"Serious\"], [\"Fatal\"], [\"Serious\"], [\"Serious\"], [\"Serious\"], [\"Serious\"], [\"Serious\"], [\"Serious\"], [\"Serious\"], [\"Serious\"], [\"Serious\"], [\"Serious\"], [\"Serious\"], [\"Serious\"], [\"Serious\"], [\"Serious\"], [\"Fatal\"], [\"Fatal\"], [\"Serious\"], [\"Serious\"], [\"Fatal\"], [\"Serious\"], [\"Fatal\"], [\"Serious\"], [\"Serious\"], [\"Serious\"], [\"Serious\"], [\"Fatal\"], [\"Fatal\"], [\"Serious\"], [\"Serious\"], [\"Serious\"], [\"Serious\"], [\"Serious\"], [\"Serious\"], [\"Serious\"], [\"Serious\"], [\"Serious\"], [\"Serious\"], [\"Serious\"], [\"Serious\"], [\"Serious\"], [\"Serious\"]], \"hovertemplate\": \"<b>%{hovertext}</b><br><br>Latitude=%{lat}<br>Longitude=%{lon}<br>Casualty_Severity=%{customdata[0]}<extra></extra>\", \"hovertext\": [0.0, 1.0, 6.0, 2.0, 9.0, 72.0, 52.0, 49.0, 2.0, 48.0, 7.0, 3.0, 71.0, 51.0, 4.0, 5.0, 51.0, 6.0, 7.0, 49.0, 7.0, 3.0, 4.0, 8.0, 4.0, 9.0, 71.0, 0.0, 0.0, 10.0, 1.0, 51.0, 6.0, 11.0, 11.0, 11.0, 11.0, 11.0, 11.0, 11.0, 12.0, 13.0, 13.0, 13.0, 13.0, 13.0, 13.0, 13.0, 13.0, 14.0, 14.0, 14.0, 14.0, 14.0, 15.0, 16.0, 16.0, 17.0, 18.0, 18.0, 18.0, 93.0, 19.0, 93.0, 20.0, 83.0, 83.0, 83.0, 83.0, 83.0, 21.0, 21.0, 21.0, 21.0, 21.0, 21.0, 21.0, 21.0, 22.0, 22.0, 23.0, 23.0, 23.0, 23.0, 23.0, 23.0, 24.0, 25.0, 25.0, 26.0, 26.0, 26.0, 26.0, 26.0, 26.0, 26.0, 26.0, 26.0, 26.0, 26.0, 26.0, 26.0, 26.0, 26.0, 27.0, 27.0, 27.0, 27.0, 27.0, 27.0, 27.0, 27.0, 28.0, 28.0, 28.0, 28.0, 28.0, 28.0, 28.0, 29.0, 29.0, 29.0, 29.0, 29.0, 29.0, 29.0, 29.0, 30.0, 30.0, 30.0, 30.0, 31.0, 31.0, 31.0, 31.0, 31.0, 31.0, 31.0, 33.0, 32.0, 32.0, 32.0, 32.0, 32.0, 32.0, 32.0, 32.0, 33.0, 34.0, 35.0, 35.0, 36.0, 35.0, 36.0, 37.0, 35.0, 38.0, 39.0, 39.0, 39.0, 39.0, 40.0, 41.0, 41.0, 41.0, 41.0, 41.0, 41.0, 41.0, 41.0, 41.0, 41.0, 41.0, 41.0, 41.0, 41.0, 42.0, 42.0, 42.0, 42.0, 42.0, 42.0, 43.0, 44.0, 44.0, 44.0, 45.0, 45.0, 45.0, 45.0, 45.0, 45.0, 45.0, 88.0, 88.0, 88.0, 88.0, 46.0, 46.0, 46.0, 46.0, 46.0, 46.0, 46.0, 46.0, 51.0, 47.0, 47.0, 69.0, 8.0, 8.0, 48.0, 2.0, 8.0, 2.0, 5.0, 10.0, 49.0, 47.0, 47.0, 69.0, 50.0, 9.0, 5.0, 51.0, 49.0, 7.0, 71.0, 71.0, 8.0, 4.0, 10.0, 71.0, 48.0, 3.0, 69.0, 1.0, 39.0, 2.0, 6.0, 1.0, 51.0, 7.0, 52.0, 12.0, 12.0, 12.0, 53.0, 54.0, 55.0, 55.0, 55.0, 55.0, 55.0, 55.0, 55.0, 55.0, 55.0, 15.0, 15.0, 56.0, 56.0, 56.0, 56.0, 56.0, 56.0, 56.0, 93.0, 57.0, 57.0, 57.0, 57.0, 57.0, 57.0, 57.0, 58.0, 93.0, 59.0, 59.0, 59.0, 59.0, 59.0, 59.0, 59.0, 17.0, 60.0, 60.0, 60.0, 22.0, 22.0, 24.0, 25.0, 61.0, 61.0, 61.0, 61.0, 61.0, 61.0, 61.0, 61.0, 61.0, 61.0, 62.0, 62.0, 62.0, 62.0, 62.0, 62.0, 62.0, 62.0, 62.0, 63.0, 30.0, 30.0, 63.0, 33.0, 33.0, 31.0, 34.0, 34.0, 64.0, 64.0, 64.0, 64.0, 64.0, 64.0, 64.0, 34.0, 34.0, 34.0, 34.0, 34.0, 34.0, 36.0, 35.0, 37.0, 35.0, 35.0, 39.0, 43.0, 43.0, 43.0, 44.0, 65.0, 65.0, 65.0, 65.0, 65.0, 65.0, 65.0, 65.0, 65.0, 88.0, 66.0, 66.0, 66.0, 66.0, 66.0, 66.0, 66.0, 67.0, 67.0, 67.0, 67.0, 67.0, 67.0, 67.0, 68.0, 50.0, 49.0, 50.0, 6.0, 5.0, 72.0, 48.0, 69.0, 9.0, 50.0, 72.0, 49.0, 8.0, 8.0, 0.0, 47.0, 48.0, 70.0, 70.0, 70.0, 70.0, 70.0, 70.0, 70.0, 52.0, 3.0, 5.0, 9.0, 69.0, 50.0, 7.0, 52.0, 4.0, 5.0, 52.0, 52.0, 52.0, 69.0, 7.0, 71.0, 0.0, 50.0, 8.0, 71.0, 72.0, 72.0, 4.0, 49.0, 0.0, 7.0, 1.0, 50.0, 73.0, 73.0, 73.0, 73.0, 73.0, 73.0, 73.0, 73.0, 73.0, 14.0, 14.0, 54.0, 54.0, 54.0, 54.0, 54.0, 54.0, 15.0, 74.0, 74.0, 74.0, 74.0, 74.0, 74.0, 74.0, 74.0, 15.0, 15.0, 17.0, 17.0, 19.0, 20.0, 20.0, 20.0, 20.0, 17.0, 17.0, 93.0, 83.0, 75.0, 76.0, 22.0, 22.0, 22.0, 22.0, 22.0, 25.0, 25.0, 25.0, 25.0, 63.0, 30.0, 63.0, 77.0, 77.0, 77.0, 77.0, 77.0, 77.0, 77.0, 77.0, 77.0, 77.0, 77.0, 77.0, 77.0, 77.0, 77.0, 77.0, 78.0, 78.0, 78.0, 78.0, 78.0, 78.0, 78.0, 33.0, 79.0, 79.0, 79.0, 79.0, 79.0, 79.0, 79.0, 80.0, 80.0, 80.0, 80.0, 36.0, 35.0, 38.0, 38.0, 38.0, 38.0, 38.0, 38.0, 81.0, 81.0, 81.0, 81.0, 81.0, 81.0, 81.0, 43.0, 43.0, 82.0, 82.0, 82.0, 82.0, 82.0, 68.0, 68.0, 68.0, 68.0, 68.0, 68.0, 49.0, 51.0, 1.0, 5.0, 6.0, 0.0, 4.0, 9.0, 7.0, 72.0, 72.0, 9.0, 6.0, 10.0, 10.0, 0.0, 1.0, 3.0, 2.0, 2.0, 53.0, 53.0, 53.0, 53.0, 53.0, 53.0, 12.0, 12.0, 54.0, 19.0, 16.0, 16.0, 16.0, 16.0, 16.0, 16.0, 16.0, 16.0, 16.0, 16.0, 19.0, 19.0, 17.0, 58.0, 58.0, 58.0, 58.0, 58.0, 19.0, 19.0, 93.0, 83.0, 60.0, 60.0, 75.0, 76.0, 76.0, 76.0, 76.0, 76.0, 76.0, 84.0, 84.0, 84.0, 84.0, 84.0, 84.0, 84.0, 22.0, 24.0, 24.0, 24.0, 24.0, 24.0, 25.0, 85.0, 85.0, 85.0, 85.0, 85.0, 85.0, 85.0, 85.0, 85.0, 85.0, 85.0, 85.0, 30.0, 30.0, 30.0, 86.0, 86.0, 86.0, 86.0, 86.0, 86.0, 86.0, 87.0, 87.0, 87.0, 87.0, 87.0, 87.0, 87.0, 87.0, 63.0, 33.0, 33.0, 33.0, 36.0, 35.0, 37.0, 36.0, 39.0, 40.0, 40.0, 40.0, 40.0, 42.0, 44.0, 88.0, 88.0, 89.0, 89.0, 89.0, 89.0, 89.0, 89.0, 89.0, 82.0, 82.0, 82.0, 90.0, 90.0, 90.0, 90.0, 90.0, 90.0, 90.0, 39.0, 38.0, 9.0, 7.0, 49.0, 48.0, 48.0, 10.0, 0.0, 10.0, 10.0, 8.0, 69.0, 47.0, 47.0, 3.0, 1.0, 3.0, 12.0, 15.0, 91.0, 91.0, 91.0, 91.0, 91.0, 91.0, 91.0, 91.0, 92.0, 92.0, 92.0, 92.0, 92.0, 92.0, 92.0, 92.0, 92.0, 20.0, 20.0, 18.0, 18.0, 18.0, 18.0, 58.0, 93.0, 17.0, 60.0, 60.0, 75.0, 75.0, 75.0, 75.0, 75.0, 94.0, 94.0, 94.0, 94.0, 94.0, 94.0, 94.0, 23.0, 25.0, 85.0, 85.0, 95.0, 95.0, 95.0, 95.0, 95.0, 95.0, 95.0, 95.0, 95.0, 63.0, 63.0, 31.0, 80.0, 80.0, 80.0, 80.0, 35.0, 35.0, 35.0, 37.0, 37.0, 37.0, 96.0, 96.0, 96.0, 96.0, 96.0, 96.0, 96.0, 37.0, 36.0, 35.0, 40.0, 40.0, 40.0, 97.0, 97.0, 97.0, 97.0, 97.0, 97.0, 97.0, 42.0, 42.0, 42.0, 42.0, 98.0, 98.0, 98.0, 98.0, 98.0, 98.0, 98.0, 99.0, 99.0, 99.0, 99.0, 99.0, 99.0, 99.0, 99.0, 99.0, 99.0, 100.0, 100.0, 100.0, 100.0, 100.0, 100.0, 100.0, 43.0, 43.0, 44.0, 44.0, 46.0, 46.0, 101.0, 101.0, 101.0, 101.0, 101.0, 101.0, 101.0, 101.0, 101.0, 101.0, 101.0, 101.0, 101.0, 101.0], \"lat\": [51.56560464300035, 51.49650087271196, 51.526333366975805, 51.52749310127951, 51.48879370525255, 51.52230796495054, 51.51911219979961, 51.516159564308914, 51.527578816449726, 51.523775412318265, 51.50732555183973, 51.48838056258717, 51.5152170107891, 51.514391640053674, 51.48581969433039, 51.53551179945455, 51.51459467307451, 51.52640588630973, 51.50719955845898, 51.51618010427369, 51.50715744234416, 51.488418393824446, 51.48589667491059, 51.514867265911185, 51.4858022786826, 51.488592850361435, 51.515292936420934, 51.56557393180162, 51.565498886427804, 51.556187053319135, 51.49652373852353, 51.514574057117294, 51.52650348358299, 53.53922147099956, 53.539221170518196, 53.53926666021513, 53.53922271823714, 53.539252330351715, 53.53921920904998, 53.53928928614997, 53.493204586209536, 53.51232589493763, 53.51232948191254, 53.51234818171348, 53.51232083166539, 53.5123293391735, 53.512325860693764, 53.51234218926595, 53.512355738347345, 53.52375083188827, 53.52377963879793, 53.52373023926093, 53.52379103484113, 53.52372864436541, 53.96863036187053, 53.472054646847624, 53.472037626015855, 53.43639338669296, 53.487476100583756, 53.48752351152295, 53.48747898486526, 53.38863530744444, 53.387574138005974, 53.38874581436063, 53.520074771382404, 53.768481758824905, 53.76844411061003, 53.768669447100834, 53.7684576590349, 53.76858485344186, 52.5235654693885, 52.523559608829, 52.523576505491995, 52.52359194635612, 52.523553214684334, 52.523562818747514, 52.52354493315163, 52.52358400512863, 52.341045917523516, 52.341061271235915, 52.7860197516297, 52.78603675605336, 52.78605103182823, 52.786001640805694, 52.786066433715625, 52.785890416534556, 52.859243465834396, 52.74778174819821, 52.74771180731753, 52.35950232349041, 52.35954142246275, 52.35951977676711, 52.35949100639702, 52.35953393759446, 52.359512786478106, 52.35950227016521, 52.35951903801731, 52.35951611520354, 52.35950414313484, 52.35954343834548, 52.359468183900724, 52.359457870111676, 52.35951954037794, 52.359567990831735, 52.44372310890312, 52.443716247633866, 52.44371472357577, 52.44373213786999, 52.443753658803374, 52.44372428113961, 52.443685392782555, 52.4437416714972, 51.7062391198934, 51.706220628505186, 51.70623366435482, 51.70623372246491, 51.706245066009664, 51.70622023694637, 51.706212603365714, 51.88899659343173, 51.889054372937316, 51.88900063228604, 51.88899808517115, 51.889031829269605, 51.889067754610835, 51.88903499118744, 51.88903414207784, 51.74996040480324, 51.75000325750023, 51.74995969681838, 51.74996045604076, 50.70266328432173, 50.70263102211371, 50.70266025097962, 50.70262535500031, 50.702657430355465, 50.70261835076013, 50.70263740339817, 50.89890812133811, 50.94302329815325, 50.9430379029455, 50.942996777247785, 50.94302173330943, 50.94302223105072, 50.94307455765448, 50.94301535292731, 50.94303591351308, 50.898758407685904, 51.354504223558976, 50.823565061678316, 50.823671904633294, 50.82095617136418, 50.82372351915234, 50.82110864014949, 50.835640930213636, 50.823830607197706, 51.5172957148714, 51.51618987002657, 51.516060389141224, 51.51613576654206, 51.516036413443345, 50.25329386571883, 50.430242962663115, 50.43026596116189, 50.43030737629409, 50.43030516745887, 50.430246116355875, 50.43031158934612, 50.43030963156691, 50.430289089179226, 50.43028038642057, 50.43029392152769, 50.43024495063475, 50.430249312616674, 50.43028494741901, 50.43025098159555, 53.10461462384719, 53.10465077288084, 53.104640075584186, 53.10459626445729, 53.10465174243321, 53.10459513440644, 52.68630582348643, 57.80224931183305, 57.80222832766958, 57.80225501388204, 56.911725796608664, 56.9117427020242, 56.91172960066874, 56.9117398946312, 56.91172581410181, 56.91175384640151, 56.911719493048295, 56.49490911162353, 56.4949261584631, 56.49475957642486, 56.494721023648275, 56.45207963340024, 56.45211178734562, 56.45203025193053, 56.452075427730044, 56.45205702729942, 56.45208771648375, 56.452025221484554, 56.45202720189338, 51.51463101033772, 51.56680791583851, 51.56682205733812, 51.5195422104134, 51.51477159510961, 51.51472479257426, 51.52377304394914, 51.52758493244535, 51.51478595523125, 51.52753573952295, 51.53559071539888, 51.55610085546151, 51.516100459614044, 51.56684248147135, 51.566770060935795, 51.519527671857226, 51.46131214087962, 51.48874440326099, 51.53556894394395, 51.51455009298378, 51.51616877771501, 51.507268955664344, 51.51520809185379, 51.51520807646356, 51.51477662966065, 51.485728165787066, 51.5561858159822, 51.515240099215816, 51.52365949070816, 51.488530718096165, 51.519552530465006, 51.49651118706757, 51.5161407863175, 51.52751597419308, 51.52655401972146, 51.49651256302526, 51.514474682733386, 51.50717023548704, 51.519001716740206, 53.49319043648599, 53.49323226709292, 53.493090975710984, 53.38671656344654, 53.16150579425007, 54.223602042395946, 54.2236241777886, 54.22365914283482, 54.22359484294916, 54.22365003537393, 54.223607476975154, 54.223607118610225, 54.22365029366234, 54.22362929427574, 53.96865193685555, 53.96872068340229, 53.83473403082186, 53.83478316641354, 53.834782120392205, 53.8347527161032, 53.83479157144796, 53.83478817082237, 53.834762340831425, 53.38883668712983, 53.46533915623864, 53.465381447072346, 53.46534765670125, 53.465349926329864, 53.465369241063584, 53.46537283903033, 53.465358661056186, 53.455808463713964, 53.38881506586555, 53.384261715553976, 53.38419087410663, 53.384221406177026, 53.38421374575271, 53.38420606833787, 53.38423705200289, 53.38421439085258, 53.43641060092853, 52.46587024823177, 52.465797958487784, 52.46584296312644, 52.341004387126986, 52.341069538337464, 52.85934238309956, 52.74775816500003, 52.43439627704441, 52.43440816523709, 52.43439883999729, 52.43433632269328, 52.4343637059834, 52.43438905423105, 52.43435314836577, 52.434358486440495, 52.43438503789395, 52.434376689431026, 52.614035754225426, 52.6140265901489, 52.61402468768326, 52.614062545631754, 52.61409851336934, 52.61406350853622, 52.61403029131201, 52.614029238298905, 52.61410151708057, 51.459970334272576, 51.74993788059448, 51.74995699380015, 51.45996917750156, 50.89881016831251, 50.89886248962357, 50.70265965613019, 51.354505597113885, 51.35449397120393, 51.43406552076049, 51.43408898660329, 51.43409192305291, 51.434076082108824, 51.43403955802843, 51.4340780772562, 51.434079515455004, 51.35452022940315, 51.3545092442396, 51.35453843053386, 51.3544927443454, 51.35449925426186, 51.354532500817754, 50.8211698012113, 50.82365801603068, 50.83563967460906, 50.823637282466855, 50.82369904749806, 51.516094967204204, 52.68632884330669, 52.68627028319372, 52.686277716463344, 57.80225940703423, 57.50466519799849, 57.50469217536126, 57.50468378711399, 57.50465882518249, 57.50467057123048, 57.50468715080571, 57.50463113290166, 57.50463929188301, 57.504645141855626, 56.49466196144536, 55.70663526427015, 55.70659915693748, 55.706655721641226, 55.70662744894087, 55.70665847023674, 55.706635476750265, 55.7066356149078, 55.87367972871336, 55.87362918108008, 55.873686638554, 55.873636547030365, 55.873679760193326, 55.873625886274304, 55.8736065969559, 54.932572676912756, 51.461250417000606, 51.51611423190294, 51.46140420949896, 51.52636730939746, 51.5356158768785, 51.52214271260589, 51.523729825048, 51.519497249292804, 51.488498805090956, 51.46124531897484, 51.52233815084338, 51.516092382889966, 51.514785680433015, 51.514735119161706, 51.565520593661475, 51.566727859131184, 51.52367172398628, 51.34604323931774, 51.3460001447847, 51.346060724054944, 51.346065372364514, 51.345997998184295, 51.3460277798098, 51.34605394336188, 51.51901065484859, 51.48832229751589, 51.53561358882017, 51.48878782260318, 51.51941185358312, 51.46123276226729, 51.507214495154685, 51.51901998354284, 51.48586015940814, 51.53555536985694, 51.51908842777493, 51.51908528468917, 51.51913504665386, 51.51949308825101, 51.50717466289013, 51.51523716711941, 51.565359414763996, 51.46126844880981, 51.51472048979281, 51.515334422977666, 51.52221469499297, 51.5221982543847, 51.48578482864088, 51.51614040807079, 51.56564557795064, 51.50738667341451, 51.496365676123816, 51.46149741003743, 54.26821035988588, 54.26824387280941, 54.26828329328626, 54.268229479969435, 54.26822905814844, 54.268288998066055, 54.26828317180165, 54.26821982526761, 54.26820263682046, 53.52386675520317, 53.52383658505685, 53.16160648643884, 53.161619648142995, 53.161614458935496, 53.16157834572391, 53.161621385833215, 53.16162466965735, 53.96864883993852, 53.6459599947885, 53.64595484582691, 53.64597828629155, 53.645971952976524, 53.64591100490662, 53.64592537706938, 53.6459522501515, 53.645936679408074, 53.9686354203298, 53.968624567872254, 53.43639141077514, 53.43639102515995, 53.38738373137521, 53.52013129939107, 53.52010533116183, 53.52007207911446, 53.52012316752752, 53.43634524342704, 53.43637034850823, 53.3886241115296, 53.768683277669744, 52.45581964764209, 52.999865124742826, 52.34106952675021, 52.34101340548304, 52.34100957171661, 52.34099629227262, 52.34101830201507, 52.74789263555402, 52.747934954078694, 52.747933554001825, 52.747735387649136, 51.45993045641296, 51.74994999172461, 51.460015668157766, 52.08393637806237, 52.08397336982103, 52.08394853066363, 52.08391372223502, 52.08395233374395, 52.08392504805608, 52.08394118950676, 52.08392498400017, 52.0839586238829, 52.08389248924583, 52.08396512441196, 52.08390010553973, 52.08406400931049, 52.084101990330524, 52.08403696023127, 52.08408382842763, 51.48692941792524, 51.48696167817496, 51.48694751614847, 51.486898982077456, 51.48691819513556, 51.48691889813155, 51.486957089629634, 50.89874823737552, 51.37795231000216, 51.37795096859239, 51.37792955966269, 51.37793526542633, 51.3779668001063, 51.37795418664295, 51.37791048246173, 51.192285047979176, 51.19234860560392, 51.19231362075931, 51.19231545498329, 50.82124364547581, 50.82363238008086, 51.517430433801046, 51.51745102088278, 51.51747401550227, 51.51746692747515, 51.51733872436519, 51.51744539483682, 51.56756443279983, 51.567551487690785, 51.56762854087617, 51.567552984927296, 51.56762766427562, 51.56756696152019, 51.56760939952749, 52.68647988849806, 52.68645839889304, 55.41530535964059, 55.41527951857047, 55.41530513516647, 55.4152601726767, 55.41534823586042, 54.93247177215893, 54.93244135226976, 54.932464431899156, 54.93252909067909, 54.93247979379114, 54.93252079081974, 51.516048686177406, 51.514440216907, 51.49648030864838, 51.535354526941084, 51.526367234487715, 51.56553647180421, 51.485810234721924, 51.48864164380329, 51.50717027922397, 51.52206451227499, 51.522092577318354, 51.48846767874802, 51.526260240104754, 51.55602798699446, 51.556125580994895, 51.56553772628381, 51.49639599890353, 51.48826844570695, 51.52753759831239, 51.5273892698258, 53.38654751662308, 53.38659471868067, 53.38654174057014, 53.38652858182426, 53.38653700964496, 53.38651953763465, 53.493174454704246, 53.493162061864325, 53.161652387362984, 53.38748902057432, 53.47197765697478, 53.47192981115152, 53.47199352757561, 53.47197473127536, 53.472003336354234, 53.471984235906426, 53.47195809626733, 53.47201821463293, 53.472026574488524, 53.471952090177965, 53.38755761609258, 53.38754715008525, 53.4363009291459, 53.455796790132084, 53.455846019727225, 53.45582200236261, 53.45582107292337, 53.45580930075087, 53.38741996766356, 53.38739061011449, 53.3887280870538, 53.76855832842108, 52.465881717359935, 52.46592130621357, 52.45582455843585, 52.9998381916831, 52.99982922522277, 52.99987559511949, 52.99987126298633, 52.99986329721587, 52.999830506830506, 52.64021957578892, 52.64020343368942, 52.64016722835459, 52.64014707505781, 52.64021943625624, 52.64020503611845, 52.64015566768215, 52.34097241884567, 52.85922695285186, 52.859238589417096, 52.859188740769596, 52.859168087104244, 52.85924608047644, 52.74768371471396, 52.505364414260185, 52.50532681149966, 52.50537240002728, 52.5053239803932, 52.50536724796281, 52.50535047437102, 52.5053452677785, 52.505333936903206, 52.505320078527156, 52.505404498419225, 52.50540310187445, 52.50540709275384, 51.74991938162124, 51.74985992281841, 51.74992376000924, 51.60814049576886, 51.608147554587454, 51.60809565546194, 51.60813011140371, 51.608135480956065, 51.60810156004414, 51.60812184992219, 51.54160389194546, 51.541623690867304, 51.54151355602042, 51.54153474947135, 51.5415832607733, 51.54151140486126, 51.541548878651405, 51.54154542010763, 51.45986048328564, 50.89862142823363, 50.89873744259634, 50.898616293025434, 50.82099259884789, 50.82363140209701, 50.83552427620136, 50.82094807973322, 51.51611437263007, 50.25327776296948, 50.25323930242677, 50.25320903603464, 50.25318011936981, 53.104445104857945, 57.80249470530125, 56.494866103009564, 56.49490010401772, 55.57562275661777, 55.575649677495115, 55.57562958961947, 55.575590767583165, 55.57565894315913, 55.575625245111894, 55.57559062363649, 55.41524148795829, 55.415257788363284, 55.41524203548305, 55.731804500117924, 55.73180740806383, 55.73183853624266, 55.731866945385356, 55.73183144996244, 55.73186793880723, 55.73181288512209, 51.51617861031681, 51.51725870373699, 51.48874508837344, 51.50714650202396, 51.51608209888895, 51.52371786835731, 51.52371523860359, 51.5561806944296, 51.565607616278925, 51.55620434527816, 51.55612311437828, 51.51477932758966, 51.51957875008242, 51.56681451085125, 51.566720920022235, 51.48839028727668, 51.496504898176696, 51.488342774071796, 53.49314405698843, 53.96862033104731, 53.694981447161204, 53.69500486377451, 53.694971990183234, 53.695013075531556, 53.69496055476817, 53.694942626714905, 53.69496197844446, 53.69497687074973, 53.74593655673899, 53.74597315256514, 53.74591627598522, 53.74591636073557, 53.74591166678787, 53.74596727076758, 53.745952622874874, 53.74591874266926, 53.7459437148503, 53.51998211687554, 53.520059908785974, 53.487460280582845, 53.48740588452604, 53.48737945347151, 53.487422960137394, 53.45577360043885, 53.38868561798729, 53.43638897657622, 52.46591599054627, 52.465937729250285, 52.45577057241065, 52.45574145415839, 52.45574163935873, 52.4558014128346, 52.45577972387418, 52.69413390711623, 52.69412541786905, 52.69411481881016, 52.69408093536712, 52.69413928848514, 52.694119555148795, 52.69412037200847, 52.78592821926303, 52.747757668354495, 52.50546537452989, 52.505394456093285, 51.79138253826385, 51.79130187167824, 51.791301781426675, 51.79135701031607, 51.79137776789189, 51.7913314553744, 51.791306981760165, 51.791317339699475, 51.791306609856285, 51.459960575127226, 51.45989587968158, 50.70268480951192, 51.19229250657453, 51.19224879664839, 51.19225765940043, 51.19226973971845, 50.82380657689495, 50.823697270330655, 50.82368822504367, 50.83559947848564, 50.83567552337904, 50.83564764865479, 50.82348999100376, 50.82352407149733, 50.823481864375665, 50.823489751332545, 50.82349660341276, 50.82348833839235, 50.823520515675135, 50.835690264592166, 50.820940512292744, 50.8236880851246, 50.253311129959776, 50.25329996330958, 50.25331349012807, 50.298305811880226, 50.298315376046546, 50.298278131517044, 50.29832915709867, 50.29830919789888, 50.29825472848102, 50.29833453531329, 53.104631643825996, 53.10466552834319, 53.1046169968764, 53.10462221293565, 51.490115839999696, 51.490151913102, 51.49010903637611, 51.49018346658542, 51.49015291093302, 51.49017509488188, 51.49012976662978, 51.477078090200514, 51.47709296149646, 51.477076232562446, 51.47707613558016, 51.477053498449266, 51.47705768890199, 51.47706543915122, 51.47708978706709, 51.47705991644874, 51.477052063805374, 51.88859165287606, 51.88858373255905, 51.88860493714275, 51.88859108417092, 51.888636273613365, 51.88864156747302, 51.88860780359447, 52.68625139299833, 52.68608508611723, 57.802404760175094, 57.80238951619621, 56.45208848183352, 56.452068350877965, 56.2300886573019, 56.23004353429642, 56.23011243306984, 56.23007676292193, 56.23005092116922, 56.23004495664383, 56.23010344996619, 56.230037176753044, 56.230099057209024, 56.230087138441355, 56.23005164961392, 56.23005546914356, 56.23011503951234, 56.23006474512697], \"legendgroup\": \"\", \"lon\": [-0.10300568279640283, -0.1114556833742741, -0.13349562880296897, -0.3522689478471611, -0.12929278663382465, -0.157549535440517, -0.0597189950639727, -0.13433475375758128, -0.3524290614823857, -0.0791784777436493, -0.12795530246696937, -0.10598457038246588, -0.1422411498705971, -0.19902512841980466, -0.14985369546562555, -0.08227849384457948, -0.19906043907871449, -0.13362716621859705, -0.1277568348310845, -0.13470225017175214, -0.12768590765210153, -0.1058405558815491, -0.14980557475990294, -0.06209950185989129, -0.15010188947647546, -0.12940774508483516, -0.1419479878345223, -0.10313883397352312, -0.10321484093124422, -0.05534592593083089, -0.11140715631123997, -0.1991195422959057, -0.1337369108774341, -2.8177117852507165, -2.817662789015424, -2.8177145903724123, -2.8176575498219223, -2.8176812223334853, -2.817682511493607, -2.817699002634444, -2.953373173303637, -2.2389407728028012, -2.238884557269242, -2.2389204943589918, -2.238933300150978, -2.2388677705462277, -2.238882946790194, -2.238930567357064, -2.238913162688439, -2.1212964465825817, -2.1212591306986974, -2.1212720142389005, -2.121253742122872, -2.121291132307908, -1.997208015245925, -1.0364254847148329, -1.0364403814718592, -1.538545672463175, -1.3042410826637776, -1.3042767692962214, -1.304314404446286, -1.4605975348864797, -1.4622142277646926, -1.4607316235990828, -1.5855396681889058, -0.3537460134494933, -0.353852641145387, -0.35370027093503476, -0.35374948624339964, -0.3536418657581656, -1.8434367514604393, -1.843413277451991, -1.8433907024456588, -1.8434313270242177, -1.8434334683251272, -1.843409985778275, -1.8434537710387202, -1.84345367022289, -2.1947814394141862, -2.194725330787411, -2.9463135643348104, -2.94624479360079, -2.946276245150847, -2.946293544539263, -2.946321726003753, -2.946353240642479, -1.6015190128442967, -1.302128789673703, -1.3021466758047313, -0.04264594911219947, -0.0426394129263796, -0.04266505188581777, -0.04266153734517762, -0.042680867577235035, -0.04268835947671589, -0.042637635713042174, -0.04267696081294091, -0.04262553645551193, -0.0426809490590181, -0.042634917571174505, -0.042626147227088594, -0.04265424897663109, -0.04264700274782704, -0.04269031002526124, 0.7315877956924892, 0.7316282133133208, 0.7315524626458964, 0.7315701734005544, 0.7315480382898565, 0.7315804601193306, 0.7315512640212878, 0.7316373187060248, -0.30561352542951964, -0.30564266244595323, -0.3055756214468222, -0.30562738954462587, -0.30562697452361376, -0.30566000275300653, -0.30560205108896493, -0.19523840065769973, -0.19525434879729794, -0.1952331732091523, -0.19523030921259582, -0.19525692709079412, -0.19527405384260732, -0.19528665975539622, -0.19527566749536324, -1.2439571380708858, -1.2439688882007442, -1.2440481003366335, -1.2439466084165676, -1.3456327419810468, -1.3456536943111228, -1.3456008654923626, -1.3455843160254994, -1.3456154953654977, -1.3455720790811028, -1.3456519439361612, -1.3919422472936425, -1.4427898194565216, -1.4428491807782913, -1.4428000944375379, -1.4428136585219227, -1.4428039825890637, -1.442824658442599, -1.4428156013777087, -1.442783401383605, -1.3919031420282308, -0.6765538038988418, -0.14330838185836758, -0.14339762189104482, -0.1364828880365439, -0.14336558433576638, -0.1366204174392241, -0.12573857586003065, -0.1434602767982857, -0.08858527542668773, -0.08131273883158237, -0.0816779823904642, -0.08157147013200662, -0.08157069902753979, -5.19181119134759, -3.6380163353548194, -3.6379721240801697, -3.6380233966370503, -3.638051978516946, -3.637962800678543, -3.6380196149749353, -3.637996437976317, -3.6380380676990645, -3.637990179931715, -3.6380493186803915, -3.6379760266076167, -3.6379766594832237, -3.638018785895939, -3.6379691899974294, -3.1359286618090905, -3.1359421930972036, -3.1359855236652123, -3.1359613784793146, -3.1359361633574356, -3.1359337045830893, -3.084143365096084, -4.045533908469547, -4.045569469435102, -4.0455690554764985, -2.3384058986953944, -2.338345078562326, -2.3383555501412427, -2.3383281217416876, -2.3383428470681347, -2.338370456390017, -2.338400831602256, -2.9497664865327042, -2.9497756261849553, -2.949470090443148, -2.9494441032200207, -4.710788234468759, -4.7107817351082355, -4.710776212486644, -4.710768271136603, -4.710753770086119, -4.710759601726394, -4.7107729620269705, -4.710784479379285, -0.199182127151911, 0.11048842344676428, 0.11052198689162074, -0.0576136034814277, -0.06192886276449523, -0.06199634297969996, -0.07928431775663618, -0.35235899272720766, -0.0617790673835703, -0.3525015231360185, -0.0822998213847785, -0.055414421982534615, -0.13454590659397458, 0.11053532121609462, 0.11053404646254189, -0.058018811050206724, -0.11558765416479137, -0.12946300759746593, -0.08216271171526061, -0.19920343327387166, -0.13482354569080587, -0.1275942463887726, -0.1419288618474492, -0.14194585731532885, -0.061851458782832, -0.14976764740512313, -0.05547468700798072, -0.14196399307062796, -0.07921759706700213, -0.10585536623178936, -0.057979567107336705, -0.11143898268323806, -0.08198143007809443, -0.3522385876831038, -0.13342017807793108, -0.11144939274638074, -0.19914431241684002, -0.12745799703354807, -0.05992416422844181, -2.953493825814856, -2.9534725006458693, -2.9533381102569845, -2.9588537462050577, -2.9079153873880372, -1.4061258626477708, -1.406078168362616, -1.4060946454523457, -1.4061377057568287, -1.4060536345484533, -1.4060525094682421, -1.4060650351234691, -1.4060507820956207, -1.4060812069349458, -1.997139121688666, -1.9971815439249074, -1.6387567604274909, -1.6387790524507315, -1.6387577730573781, -1.6387597136406011, -1.6388079912880351, -1.6387663247551034, -1.6387465590101036, -1.4604868149695593, -1.290154893545448, -1.290121812750233, -1.290136692303175, -1.2901676673460687, -1.2901737612802304, -1.290178299535498, -1.2901208876348973, -1.3391307669284416, -1.460489008237702, -1.4056677042302042, -1.4057050720728868, -1.4056488561136613, -1.4056741093083034, -1.405687256648222, -1.4056431758363066, -1.405661076394151, -1.5385892883331576, -1.9844582853111699, -1.984473430832182, -1.9844609906713502, -2.1947020218517763, -2.194712299028157, -1.6015806979438245, -1.3021196876934422, -0.8179788088345608, -0.8179575913200733, -0.8179678489661961, -0.8179716580857718, -0.8179715422825984, -0.8179800866401356, -0.8179773913355157, -0.8179694335995396, -0.8179820499399806, -0.8179108803252033, 0.0038327199263986354, 0.00376074639452656, 0.003824680090894104, 0.0037613545718838716, 0.003801973245464105, 0.0038427161715678952, 0.003811656603219851, 0.0038113638340565525, 0.003831528189455694, -0.9687605556725879, -1.2439338613883828, -1.2438917825637228, -0.9687592504381854, -1.3918891588291824, -1.3919566527226026, -1.34564022700025, -0.6764933560035464, -0.676542313013504, -0.5381427811458444, -0.5380799664209097, -0.5381142482346953, -0.5380594046060475, -0.5380667985361415, -0.5381374806629223, -0.5380686757484193, -0.6765243700647341, -0.6764943671506046, -0.6765785749642046, -0.6765345563504166, -0.6765040483351957, -0.6765328785274706, -0.13662636250132024, -0.14334641564312256, -0.12563928957658801, -0.14350119928757277, -0.14348498139324614, -0.08166569336079613, -3.0841638577239303, -3.0840814491657893, -3.0840964564842324, -4.045745791734112, -2.933939375972758, -2.9339339355227145, -2.9338822401189177, -2.9339299402826855, -2.933924171681688, -2.9338593424862474, -2.933934694074054, -2.9338915822519533, -2.9339261769776623, -2.949506504656915, -2.614949848101476, -2.614951885224553, -2.614959857630742, -2.6149551000515525, -2.614943216880183, -2.6149295272719977, -2.6149010967416264, -4.328292622392556, -4.328318463053688, -4.328309712666615, -4.328250802982965, -4.328269097790441, -4.328281555789825, -4.328258025536589, -4.615201834359449, -0.11576404254256599, -0.1342258438513217, -0.11558469425594735, -0.13372587201929653, -0.08225503997575528, -0.1574013422276192, -0.07934043026645152, -0.05786841862048618, -0.1294565800827438, -0.11573547400572223, -0.15720081951880716, -0.1345797896510542, -0.061793982334148484, -0.061817419146521085, -0.1032373981552561, 0.1105069927533988, -0.07921054300189229, -0.04514172501213809, -0.04507422649096353, -0.045087605913716126, -0.04511096141392665, -0.04508789077555889, -0.04506990903740691, -0.04511993486254059, -0.0600776331385505, -0.10601501311537742, -0.08214838415826138, -0.12930307569974858, -0.05799406638226123, -0.11579815784868859, -0.12773511747069372, -0.0601952387378825, -0.1497991110843923, -0.08228195388480597, -0.06000915246667059, -0.060076424989207525, -0.06006905858085323, -0.05762684573449053, -0.1275849321807872, -0.14198248477190878, -0.10339046856710804, -0.11561190343296016, -0.061815779132744, -0.14204143194905317, -0.15739243964126962, -0.15735206406324168, -0.1498695187094967, -0.13472890881843377, -0.10308064308564892, -0.12756986718758015, -0.11145006040924259, -0.11566313114665047, -2.712033204530673, -2.7119675115977695, -2.7120342677278777, -2.7120220551550216, -2.711982917252902, -2.7120059853488163, -2.711999074721193, -2.71201009089221, -2.712032892725488, -2.1210863217265565, -2.121101320475539, -2.9080807693149464, -2.9080997716305337, -2.908118951825585, -2.908155466242142, -2.9081299347982146, -2.9080813134952916, -1.997243703378361, -1.2384386026052894, -1.2384230783326753, -1.2384423206762623, -1.2384561008181356, -1.2383925448758424, -1.2384142512613598, -1.2384651302218, -1.2384586755562923, -1.9972788159209265, -1.9972852544501476, -1.538551761379565, -1.5385365802826951, -1.4621443912349195, -1.585664246670251, -1.5855908932728615, -1.5856546775543978, -1.5856493575263595, -1.5385722501277372, -1.538565861469502, -1.4605588861914354, -0.35365907139033015, -1.910243743821785, -2.166815765063892, -2.1947193462277306, -2.194735185352659, -2.1947033951588253, -2.194686761241248, -2.194710391874363, -1.3020315948989414, -1.3020301430844148, -1.302063265218254, -1.3022035529719764, -0.9688014634426558, -1.24396511089444, -0.9684160440647666, -0.749033111547947, -0.7490212815982089, -0.7489862063277896, -0.7489523294439853, -0.7490261467628506, -0.7490333033744629, -0.749041438244339, -0.7490294120574914, -0.7490323532835492, -0.7489793666385494, -0.7489628936180291, -0.7489803645804953, -0.7491609092460776, -0.749117126673454, -0.7491230340995345, -0.7491639037913892, -0.5614921743038257, -0.5615407198170187, -0.5615349337987694, -0.5614778402668495, -0.5615229241317192, -0.5615339832381312, -0.5614809955034435, -1.391700362844709, 0.2276735738258926, 0.22767929625784072, 0.22770505980618744, 0.22765565607620325, 0.22770553095937623, 0.2277033032422902, 0.22768280873297644, 0.7879057182516291, 0.7879054132294432, 0.7879387358931043, 0.7879395231085176, -0.1365079484875594, -0.1430376539314162, -0.08869601150522552, -0.08866886439953024, -0.08869279787545055, -0.08865836586148013, -0.08862486297697754, -0.0886246144098148, -2.5298168208906633, -2.5298572972179882, -2.5297851177844737, -2.529827823911219, -2.5298631316390146, -2.529837983319068, -2.5298362823149874, -3.0841362662507166, -3.084167563109089, -4.638701134613432, -4.638742099033762, -4.638733045780201, -4.638737385167584, -4.638691010805121, -4.61519730840222, -4.615232548794373, -4.615218641320302, -4.6152342201737815, -4.61525254511631, -4.615280687491475, -0.1347177953326676, -0.199082132431146, -0.11139951976304703, -0.08226276115172518, -0.13358069956561638, -0.10309024400745201, -0.15006806439862452, -0.129519246299539, -0.1277118146726415, -0.15751104568125185, -0.15749762967406428, -0.12930598750945813, -0.1338353262225653, -0.05535398802186423, -0.05541779052088899, -0.10307319443969973, -0.11143407251386074, -0.10601754564788927, -0.35217367463741683, -0.3523377898156338, -2.9587863301278516, -2.958794050351871, -2.958835630239734, -2.958846479654246, -2.958796450185713, -2.9588049160490786, -2.953401697479627, -2.9533654958738786, -2.908130096198123, -1.46211435924803, -1.0362975684968272, -1.0363588909107435, -1.0363435357079807, -1.0363792347260925, -1.0363259046309534, -1.0363516701175373, -1.0363264964082748, -1.0363081049915202, -1.036385221757844, -1.0363830692578202, -1.46194233824104, -1.4619426605082586, -1.5385969144279426, -1.3388920081464442, -1.338940213188788, -1.3389482518643725, -1.3389236688194894, -1.3389030988627653, -1.4620976078535812, -1.4620679574021853, -1.460576487241218, -0.3535936089386255, -1.9845092583578745, -1.9843900492752133, -1.9099916021587175, -2.166821318622026, -2.1668176849781493, -2.1668685743148006, -2.1668395970420584, -2.166874868078817, -2.1668878405074303, -1.8011842604533679, -1.8011879936491004, -1.801182705682266, -1.8011877202660653, -1.8011478230904852, -1.8011845971819263, -1.8011132122147868, -2.1946952718517894, -1.6015541561733604, -1.6015536174149616, -1.6015405911537075, -1.6015330958187262, -1.6015379908945593, -1.302238869912824, -0.46908323424564746, -0.4690604270107634, -0.46909418732942626, -0.4690361896881784, -0.46904142216322353, -0.46904314279816683, -0.4690831068510581, -0.4690634996142885, -0.46908933238125305, -0.46903599805840573, -0.46903588338186464, -0.4691193744393152, -1.243872293644394, -1.2439913983865796, -1.2439595169712099, -1.6582733948924124, -1.6583014168689247, -1.658306807921548, -1.6582731853694175, -1.658244667621534, -1.6582443842551553, -1.6582384352578912, -1.2936828922959163, -1.29371100882707, -1.2937840503629026, -1.2938130724395287, -1.2937945642186557, -1.2937925405078545, -1.2937486387633914, -1.2937568360663088, -0.9687622759945844, -1.3920333186527145, -1.3921129999865602, -1.3917947637684065, -0.13650253546826271, -0.14343239563091828, -0.12576068360626855, -0.13661818915567864, -0.0815568633893072, -5.191797435655437, -5.191798964577155, -5.191863513185559, -5.191678937580751, -3.136097985297133, -4.045769224790256, -2.94955584823065, -2.9495321760608775, -4.42959065519734, -4.429624351813533, -4.429583272937546, -4.4296531350903745, -4.429598602606188, -4.429592029536986, -4.429660004073501, -4.638752272719871, -4.638797652178247, -4.6387614147126035, -4.86408932052197, -4.86406658166679, -4.8641077537697734, -4.864070423694068, -4.864075846383416, -4.8640974152113445, -4.864082971809562, -0.08164602057179919, -0.08887759986347299, -0.1295332996903527, -0.12763069100241672, -0.1343968139921434, -0.07962823953166054, -0.07932536744639057, -0.05551601642706053, -0.10312543316653522, -0.055459335258924394, -0.05531841589274479, -0.06183783566388621, -0.058078870765073946, 0.11048250250441814, 0.11030091343534762, -0.10574354954379504, -0.11147375417241823, -0.106002048133119, -2.9533953339269083, -1.9971449081273027, -1.7461400680691053, -1.746153899808807, -1.7461393755390402, -1.746137875485407, -1.7461128788452798, -1.7460745822757504, -1.7461198679012642, -1.7460980349173036, -1.6513942018336805, -1.6513882436176366, -1.6514176453703988, -1.6514175514156155, -1.65138991634357, -1.6514521345204383, -1.6514065738235617, -1.651407925115881, -1.6514582669162197, -1.5855297446987355, -1.585527153800017, -1.3045082670015107, -1.304565732106342, -1.3044827373578, -1.3045620350271945, -1.3389146785628219, -1.4606813065321855, -1.5386004834979001, -1.9844801467448703, -1.9844794940454755, -1.909947715494171, -1.9099425508147014, -1.9099641578121118, -1.9099481301122379, -1.9100118270436954, -2.25868700154776, -2.258668440488121, -2.2586446149562955, -2.2586931474084713, -2.2587082745517084, -2.2586890585001225, -2.258660939177462, -2.9463271380849068, -1.302135519209305, -0.46907503035674697, -0.46910788835270095, 0.9290490488425641, 0.9291094020111847, 0.929106085600345, 0.9291014190025829, 0.929117733571392, 0.929044544272049, 0.929045516824627, 0.9290602001224936, 0.9290534636039878, -0.9688257511822852, -0.9687980902547234, -1.345698044050133, 0.787762679507935, 0.7878003027536397, 0.7878113129755442, 0.7877995316954385, -0.1432809632650666, -0.1432816189465791, -0.14349202351299745, -0.125800025614835, -0.1257297774801934, -0.12574532815808787, -0.14272449608745108, -0.14278129654760738, -0.1427826233057613, -0.14275387840213974, -0.14277366260325872, -0.14276553106469858, -0.14274951478217163, -0.12561409586993227, -0.13655381695417027, -0.1434609111063073, -5.191780400455735, -5.191726023436109, -5.191732824108745, -5.118986643539287, -5.1189720599734665, -5.118974077854776, -5.118953572055839, -5.118942033432108, -5.118957428900461, -5.118967611794509, -3.135773720277515, -3.135738949839872, -3.135770635049659, -3.1358154529978366, -3.2246739784640455, -3.2246830706539664, -3.224705103011705, -3.224686664758547, -3.224699100782147, -3.2247335884722133, -3.2247359894164718, -3.70405580477711, -3.704024377171603, -3.7040152529849175, -3.7040639495640018, -3.7040424833802135, -3.7040851186573116, -3.7040335647086824, -3.7040121811294675, -3.7040316543998273, -3.704061702932777, -3.4955016036391497, -3.4954801105197304, -3.4954901038777413, -3.4954792140853455, -3.4954741134352494, -3.4955498771224778, -3.4955577389193797, -3.0841634082919684, -3.0841380074195066, -4.045795800404252, -4.045757572068705, -4.7106820891404215, -4.710721639683162, -4.856521776463075, -4.856517879824823, -4.856535212145573, -4.856528105295092, -4.856539938176898, -4.856541762057441, -4.856532041349863, -4.856499532253666, -4.856502603915553, -4.8565563703911865, -4.85652611903446, -4.856568382691396, -4.856544306044687, -4.856519755614912], \"marker\": {\"color\": \"fuchsia\"}, \"mode\": \"markers\", \"name\": \"\", \"showlegend\": false, \"subplot\": \"mapbox\", \"type\": \"scattermapbox\"}],                        {\"height\": 500, \"legend\": {\"tracegroupgap\": 0}, \"mapbox\": {\"center\": {\"lat\": 52.64334258106321, \"lon\": -1.5282089701890647}, \"domain\": {\"x\": [0.0, 1.0], \"y\": [0.0, 1.0]}, \"style\": \"carto-positron\", \"zoom\": 5}, \"margin\": {\"b\": 0, \"l\": 0, \"r\": 0, \"t\": 0}, \"template\": {\"data\": {\"bar\": [{\"error_x\": {\"color\": \"#2a3f5f\"}, \"error_y\": {\"color\": \"#2a3f5f\"}, \"marker\": {\"line\": {\"color\": \"#E5ECF6\", \"width\": 0.5}}, \"type\": \"bar\"}], \"barpolar\": [{\"marker\": {\"line\": {\"color\": \"#E5ECF6\", \"width\": 0.5}}, \"type\": \"barpolar\"}], \"carpet\": [{\"aaxis\": {\"endlinecolor\": \"#2a3f5f\", \"gridcolor\": \"white\", \"linecolor\": \"white\", \"minorgridcolor\": \"white\", \"startlinecolor\": \"#2a3f5f\"}, \"baxis\": {\"endlinecolor\": \"#2a3f5f\", \"gridcolor\": \"white\", \"linecolor\": \"white\", \"minorgridcolor\": \"white\", \"startlinecolor\": \"#2a3f5f\"}, \"type\": \"carpet\"}], \"choropleth\": [{\"colorbar\": {\"outlinewidth\": 0, \"ticks\": \"\"}, \"type\": \"choropleth\"}], \"contour\": [{\"colorbar\": {\"outlinewidth\": 0, \"ticks\": \"\"}, \"colorscale\": [[0.0, \"#0d0887\"], [0.1111111111111111, \"#46039f\"], [0.2222222222222222, \"#7201a8\"], [0.3333333333333333, \"#9c179e\"], [0.4444444444444444, \"#bd3786\"], [0.5555555555555556, \"#d8576b\"], [0.6666666666666666, \"#ed7953\"], [0.7777777777777778, \"#fb9f3a\"], [0.8888888888888888, \"#fdca26\"], [1.0, \"#f0f921\"]], \"type\": \"contour\"}], \"contourcarpet\": [{\"colorbar\": {\"outlinewidth\": 0, \"ticks\": \"\"}, \"type\": \"contourcarpet\"}], \"heatmap\": [{\"colorbar\": {\"outlinewidth\": 0, \"ticks\": \"\"}, \"colorscale\": [[0.0, \"#0d0887\"], [0.1111111111111111, \"#46039f\"], [0.2222222222222222, \"#7201a8\"], [0.3333333333333333, \"#9c179e\"], [0.4444444444444444, \"#bd3786\"], [0.5555555555555556, \"#d8576b\"], [0.6666666666666666, \"#ed7953\"], [0.7777777777777778, \"#fb9f3a\"], [0.8888888888888888, \"#fdca26\"], [1.0, \"#f0f921\"]], \"type\": \"heatmap\"}], \"heatmapgl\": [{\"colorbar\": {\"outlinewidth\": 0, \"ticks\": \"\"}, \"colorscale\": [[0.0, \"#0d0887\"], [0.1111111111111111, \"#46039f\"], [0.2222222222222222, \"#7201a8\"], [0.3333333333333333, \"#9c179e\"], [0.4444444444444444, \"#bd3786\"], [0.5555555555555556, \"#d8576b\"], [0.6666666666666666, \"#ed7953\"], [0.7777777777777778, \"#fb9f3a\"], [0.8888888888888888, \"#fdca26\"], [1.0, \"#f0f921\"]], \"type\": \"heatmapgl\"}], \"histogram\": [{\"marker\": {\"colorbar\": {\"outlinewidth\": 0, \"ticks\": \"\"}}, \"type\": \"histogram\"}], \"histogram2d\": [{\"colorbar\": {\"outlinewidth\": 0, \"ticks\": \"\"}, \"colorscale\": [[0.0, \"#0d0887\"], [0.1111111111111111, \"#46039f\"], [0.2222222222222222, \"#7201a8\"], [0.3333333333333333, \"#9c179e\"], [0.4444444444444444, \"#bd3786\"], [0.5555555555555556, \"#d8576b\"], [0.6666666666666666, \"#ed7953\"], [0.7777777777777778, \"#fb9f3a\"], [0.8888888888888888, \"#fdca26\"], [1.0, \"#f0f921\"]], \"type\": \"histogram2d\"}], \"histogram2dcontour\": [{\"colorbar\": {\"outlinewidth\": 0, \"ticks\": \"\"}, \"colorscale\": [[0.0, \"#0d0887\"], [0.1111111111111111, \"#46039f\"], [0.2222222222222222, \"#7201a8\"], [0.3333333333333333, \"#9c179e\"], [0.4444444444444444, \"#bd3786\"], [0.5555555555555556, \"#d8576b\"], [0.6666666666666666, \"#ed7953\"], [0.7777777777777778, \"#fb9f3a\"], [0.8888888888888888, \"#fdca26\"], [1.0, \"#f0f921\"]], \"type\": \"histogram2dcontour\"}], \"mesh3d\": [{\"colorbar\": {\"outlinewidth\": 0, \"ticks\": \"\"}, \"type\": \"mesh3d\"}], \"parcoords\": [{\"line\": {\"colorbar\": {\"outlinewidth\": 0, \"ticks\": \"\"}}, \"type\": \"parcoords\"}], \"pie\": [{\"automargin\": true, \"type\": \"pie\"}], \"scatter\": [{\"marker\": {\"colorbar\": {\"outlinewidth\": 0, \"ticks\": \"\"}}, \"type\": \"scatter\"}], \"scatter3d\": [{\"line\": {\"colorbar\": {\"outlinewidth\": 0, \"ticks\": \"\"}}, \"marker\": {\"colorbar\": {\"outlinewidth\": 0, \"ticks\": \"\"}}, \"type\": \"scatter3d\"}], \"scattercarpet\": [{\"marker\": {\"colorbar\": {\"outlinewidth\": 0, \"ticks\": \"\"}}, \"type\": \"scattercarpet\"}], \"scattergeo\": [{\"marker\": {\"colorbar\": {\"outlinewidth\": 0, \"ticks\": \"\"}}, \"type\": \"scattergeo\"}], \"scattergl\": [{\"marker\": {\"colorbar\": {\"outlinewidth\": 0, \"ticks\": \"\"}}, \"type\": \"scattergl\"}], \"scattermapbox\": [{\"marker\": {\"colorbar\": {\"outlinewidth\": 0, \"ticks\": \"\"}}, \"type\": \"scattermapbox\"}], \"scatterpolar\": [{\"marker\": {\"colorbar\": {\"outlinewidth\": 0, \"ticks\": \"\"}}, \"type\": \"scatterpolar\"}], \"scatterpolargl\": [{\"marker\": {\"colorbar\": {\"outlinewidth\": 0, \"ticks\": \"\"}}, \"type\": \"scatterpolargl\"}], \"scatterternary\": [{\"marker\": {\"colorbar\": {\"outlinewidth\": 0, \"ticks\": \"\"}}, \"type\": \"scatterternary\"}], \"surface\": [{\"colorbar\": {\"outlinewidth\": 0, \"ticks\": \"\"}, \"colorscale\": [[0.0, \"#0d0887\"], [0.1111111111111111, \"#46039f\"], [0.2222222222222222, \"#7201a8\"], [0.3333333333333333, \"#9c179e\"], [0.4444444444444444, \"#bd3786\"], [0.5555555555555556, \"#d8576b\"], [0.6666666666666666, \"#ed7953\"], [0.7777777777777778, \"#fb9f3a\"], [0.8888888888888888, \"#fdca26\"], [1.0, \"#f0f921\"]], \"type\": \"surface\"}], \"table\": [{\"cells\": {\"fill\": {\"color\": \"#EBF0F8\"}, \"line\": {\"color\": \"white\"}}, \"header\": {\"fill\": {\"color\": \"#C8D4E3\"}, \"line\": {\"color\": \"white\"}}, \"type\": \"table\"}]}, \"layout\": {\"annotationdefaults\": {\"arrowcolor\": \"#2a3f5f\", \"arrowhead\": 0, \"arrowwidth\": 1}, \"autotypenumbers\": \"strict\", \"coloraxis\": {\"colorbar\": {\"outlinewidth\": 0, \"ticks\": \"\"}}, \"colorscale\": {\"diverging\": [[0, \"#8e0152\"], [0.1, \"#c51b7d\"], [0.2, \"#de77ae\"], [0.3, \"#f1b6da\"], [0.4, \"#fde0ef\"], [0.5, \"#f7f7f7\"], [0.6, \"#e6f5d0\"], [0.7, \"#b8e186\"], [0.8, \"#7fbc41\"], [0.9, \"#4d9221\"], [1, \"#276419\"]], \"sequential\": [[0.0, \"#0d0887\"], [0.1111111111111111, \"#46039f\"], [0.2222222222222222, \"#7201a8\"], [0.3333333333333333, \"#9c179e\"], [0.4444444444444444, \"#bd3786\"], [0.5555555555555556, \"#d8576b\"], [0.6666666666666666, \"#ed7953\"], [0.7777777777777778, \"#fb9f3a\"], [0.8888888888888888, \"#fdca26\"], [1.0, \"#f0f921\"]], \"sequentialminus\": [[0.0, \"#0d0887\"], [0.1111111111111111, \"#46039f\"], [0.2222222222222222, \"#7201a8\"], [0.3333333333333333, \"#9c179e\"], [0.4444444444444444, \"#bd3786\"], [0.5555555555555556, \"#d8576b\"], [0.6666666666666666, \"#ed7953\"], [0.7777777777777778, \"#fb9f3a\"], [0.8888888888888888, \"#fdca26\"], [1.0, \"#f0f921\"]]}, \"colorway\": [\"#636efa\", \"#EF553B\", \"#00cc96\", \"#ab63fa\", \"#FFA15A\", \"#19d3f3\", \"#FF6692\", \"#B6E880\", \"#FF97FF\", \"#FECB52\"], \"font\": {\"color\": \"#2a3f5f\"}, \"geo\": {\"bgcolor\": \"white\", \"lakecolor\": \"white\", \"landcolor\": \"#E5ECF6\", \"showlakes\": true, \"showland\": true, \"subunitcolor\": \"white\"}, \"hoverlabel\": {\"align\": \"left\"}, \"hovermode\": \"closest\", \"mapbox\": {\"style\": \"light\"}, \"paper_bgcolor\": \"white\", \"plot_bgcolor\": \"#E5ECF6\", \"polar\": {\"angularaxis\": {\"gridcolor\": \"white\", \"linecolor\": \"white\", \"ticks\": \"\"}, \"bgcolor\": \"#E5ECF6\", \"radialaxis\": {\"gridcolor\": \"white\", \"linecolor\": \"white\", \"ticks\": \"\"}}, \"scene\": {\"xaxis\": {\"backgroundcolor\": \"#E5ECF6\", \"gridcolor\": \"white\", \"gridwidth\": 2, \"linecolor\": \"white\", \"showbackground\": true, \"ticks\": \"\", \"zerolinecolor\": \"white\"}, \"yaxis\": {\"backgroundcolor\": \"#E5ECF6\", \"gridcolor\": \"white\", \"gridwidth\": 2, \"linecolor\": \"white\", \"showbackground\": true, \"ticks\": \"\", \"zerolinecolor\": \"white\"}, \"zaxis\": {\"backgroundcolor\": \"#E5ECF6\", \"gridcolor\": \"white\", \"gridwidth\": 2, \"linecolor\": \"white\", \"showbackground\": true, \"ticks\": \"\", \"zerolinecolor\": \"white\"}}, \"shapedefaults\": {\"line\": {\"color\": \"#2a3f5f\"}}, \"ternary\": {\"aaxis\": {\"gridcolor\": \"white\", \"linecolor\": \"white\", \"ticks\": \"\"}, \"baxis\": {\"gridcolor\": \"white\", \"linecolor\": \"white\", \"ticks\": \"\"}, \"bgcolor\": \"#E5ECF6\", \"caxis\": {\"gridcolor\": \"white\", \"linecolor\": \"white\", \"ticks\": \"\"}}, \"title\": {\"x\": 0.05}, \"xaxis\": {\"automargin\": true, \"gridcolor\": \"white\", \"linecolor\": \"white\", \"ticks\": \"\", \"title\": {\"standoff\": 15}, \"zerolinecolor\": \"white\", \"zerolinewidth\": 2}, \"yaxis\": {\"automargin\": true, \"gridcolor\": \"white\", \"linecolor\": \"white\", \"ticks\": \"\", \"title\": {\"standoff\": 15}, \"zerolinecolor\": \"white\", \"zerolinewidth\": 2}}}},                        {\"responsive\": true}                    ).then(function(){\n",
       "                            \n",
       "var gd = document.getElementById('7d7f07e9-de2e-4002-b591-56f0b74dd144');\n",
       "var x = new MutationObserver(function (mutations, observer) {{\n",
       "        var display = window.getComputedStyle(gd).display;\n",
       "        if (!display || display === 'none') {{\n",
       "            console.log([gd, 'removed!']);\n",
       "            Plotly.purge(gd);\n",
       "            observer.disconnect();\n",
       "        }}\n",
       "}});\n",
       "\n",
       "// Listen for the removal of the full notebook cells\n",
       "var notebookContainer = gd.closest('#notebook-container');\n",
       "if (notebookContainer) {{\n",
       "    x.observe(notebookContainer, {childList: true});\n",
       "}}\n",
       "\n",
       "// Listen for the clearing of the current output cell\n",
       "var outputEl = gd.closest('.output');\n",
       "if (outputEl) {{\n",
       "    x.observe(outputEl, {childList: true});\n",
       "}}\n",
       "\n",
       "                        })                };                });            </script>        </div>"
      ]
     },
     "metadata": {},
     "output_type": "display_data"
    }
   ],
   "source": [
    "fig = px.scatter_mapbox(df_casualties_coords_plot,\n",
    "                        lat=\"Latitude\", lon=\"Longitude\",\n",
    "                        hover_name=label_col,\n",
    "                        hover_data=[\"Casualty_Severity\"],\n",
    "                        color_discrete_sequence=[\"fuchsia\"],\n",
    "                        zoom=5,\n",
    "                        height=500)\n",
    "fig.update_layout(mapbox_style=\"carto-positron\")\n",
    "fig.update_layout(margin={\"r\":0,\"t\":0,\"l\":0,\"b\":0})\n",
    "fig.show()"
   ]
  },
  {
   "cell_type": "markdown",
   "metadata": {},
   "source": [
    "## Look at the location with highest point counts"
   ]
  },
  {
   "cell_type": "code",
   "execution_count": null,
   "metadata": {},
   "outputs": [],
   "source": [
    "db = DBSCAN(eps=50, min_samples=5, n_jobs=12).fit(X)\n",
    "labels = db.labels_\n",
    "df_casualties_coords['Cluster No'] = labels"
   ]
  },
  {
   "cell_type": "code",
   "execution_count": null,
   "metadata": {},
   "outputs": [],
   "source": [
    "df_accidents_to_check = df_casualties_coords[df_casualties_coords['Cluster No']==403]"
   ]
  },
  {
   "cell_type": "code",
   "execution_count": null,
   "metadata": {},
   "outputs": [],
   "source": [
    "df_accidents_to_check = df_accidents_to_check.merge(df_accidents[['Accident_Index','Latitude','Longitude']],\n",
    "                                                    on='Accident_Index', how='left')"
   ]
  },
  {
   "cell_type": "code",
   "execution_count": null,
   "metadata": {},
   "outputs": [],
   "source": [
    "df_accidents_to_check[['Location_Easting_OSGR', 'Location_Northing_OSGR']].mean()"
   ]
  },
  {
   "cell_type": "code",
   "execution_count": null,
   "metadata": {},
   "outputs": [],
   "source": [
    "fig = px.scatter_mapbox(df_accidents_to_check, lat=\"Latitude\", lon=\"Longitude\",\n",
    "                        hover_name=\"Cluster No\",\n",
    "                        hover_data=[\"Accident_Severity\", \"Number_of_Casualties\",'Year'],\n",
    "                        color_discrete_sequence=[\"fuchsia\"], zoom=5, height=300)\n",
    "fig.update_layout(mapbox_style=\"carto-positron\")\n",
    "fig.update_layout(margin={\"r\":0,\"t\":0,\"l\":0,\"b\":0})\n",
    "fig.show()"
   ]
  },
  {
   "cell_type": "markdown",
   "metadata": {},
   "source": [
    "## Look at the location with highest density"
   ]
  },
  {
   "cell_type": "code",
   "execution_count": null,
   "metadata": {},
   "outputs": [],
   "source": [
    "df_cluster_list.sort_values(by='Density',ascending=False).head()"
   ]
  },
  {
   "cell_type": "code",
   "execution_count": null,
   "metadata": {},
   "outputs": [],
   "source": [
    "db = DBSCAN(eps=5, min_samples=13, n_jobs=12).fit(X)\n",
    "labels = db.labels_\n",
    "df_casualties_coords['Cluster No'] = labels"
   ]
  },
  {
   "cell_type": "code",
   "execution_count": null,
   "metadata": {},
   "outputs": [],
   "source": [
    "df_accidents_to_check = df_casualties_coords[df_casualties_coords['Cluster No']==3].copy()\n",
    "\n",
    "df_accidents_to_check = df_accidents_to_check.merge(df_accidents[['Accident_Index','Latitude','Longitude']],\n",
    "                                                    on='Accident_Index', how='left')\n",
    "\n",
    "df_accidents_to_check[['Location_Easting_OSGR', 'Location_Northing_OSGR']].mean()"
   ]
  },
  {
   "cell_type": "code",
   "execution_count": null,
   "metadata": {},
   "outputs": [],
   "source": [
    "np.random.randn(3)/1000"
   ]
  },
  {
   "cell_type": "code",
   "execution_count": null,
   "metadata": {},
   "outputs": [],
   "source": [
    "jitter_x = np.random.rand(len(df_accidents_to_check))/1000\n",
    "jitter_y = np.random.rand(len(df_accidents_to_check))/1000\n",
    "\n",
    "df_accidents_to_check[\"Latitude_x\"] = df_accidents_to_check[\"Latitude_x\"]+jitter_x\n",
    "df_accidents_to_check[\"Longitude_x\"] = df_accidents_to_check[\"Longitude_x\"]+jitter_y"
   ]
  },
  {
   "cell_type": "code",
   "execution_count": null,
   "metadata": {},
   "outputs": [],
   "source": [
    "fig = px.scatter_mapbox(df_accidents_to_check, lat=\"Latitude_x\", lon=\"Longitude_x\",\n",
    "                        hover_name=\"Cluster No\",\n",
    "                        hover_data=[\"Accident_Severity\", \"Number_of_Casualties\",'Year'],\n",
    "                        color_discrete_sequence=[\"fuchsia\"], zoom=5, height=300)\n",
    "fig.update_layout(mapbox_style=\"carto-positron\")\n",
    "fig.update_layout(margin={\"r\":0,\"t\":0,\"l\":0,\"b\":0})\n",
    "fig.show()"
   ]
  },
  {
   "cell_type": "code",
   "execution_count": null,
   "metadata": {},
   "outputs": [],
   "source": []
  },
  {
   "cell_type": "markdown",
   "metadata": {},
   "source": [
    "df_accident_clusters.head()"
   ]
  },
  {
   "cell_type": "markdown",
   "metadata": {},
   "source": [
    "## Try KDE"
   ]
  },
  {
   "cell_type": "code",
   "execution_count": null,
   "metadata": {},
   "outputs": [],
   "source": [
    "# KDTRee\n",
    "accident_tree = KDTree(accident_array[:,1:3])\n",
    "\n",
    "rank_cols = []\n",
    "\n",
    "for dist in range(50,215,15):\n",
    "    df_accidents_coords_complete.loc[:,'Neighbour ' + str(dist)+ 'm'] = accident_tree.query_radius(accident_array[:,1:3],\n",
    "                                                                                   r=dist,\n",
    "                                                                                   count_only=True)\n",
    "    \n",
    "    df_accidents_coords_complete.loc[:,'Neighbour ' + str(dist) + 'm rank'] = df_accidents_coords_complete.loc[:,'Neighbour ' + str(dist)+ 'm'].rank(ascending=False)\n",
    "    \n",
    "    rank_cols.append('Neighbour ' + str(dist) + 'm rank')\n",
    "#     df_accidents_coords_complete.sort_values(by='NeighbourNO', ascending=False).reset_index()[:20]"
   ]
  },
  {
   "cell_type": "code",
   "execution_count": null,
   "metadata": {},
   "outputs": [],
   "source": [
    "df_accidents_coords_complete['Av Rank'] = df_accidents_coords_complete[rank_cols].mean(axis=1)"
   ]
  },
  {
   "cell_type": "code",
   "execution_count": null,
   "metadata": {},
   "outputs": [],
   "source": [
    "df_accidents_coords_complete.sort_values(by=['Av Rank'], ascending=True).head()"
   ]
  },
  {
   "cell_type": "markdown",
   "metadata": {},
   "source": [
    "## Try Optics"
   ]
  },
  {
   "cell_type": "code",
   "execution_count": null,
   "metadata": {},
   "outputs": [],
   "source": []
  },
  {
   "cell_type": "code",
   "execution_count": null,
   "metadata": {},
   "outputs": [],
   "source": [
    "start_time = time()\n",
    "optics_clustering = OPTICS(min_samples=40, max_eps=25, metric='euclidean', n_jobs=8).fit(X)\n",
    "\n",
    "end_time = time()\n",
    "print((end_time-start_time))"
   ]
  },
  {
   "cell_type": "code",
   "execution_count": null,
   "metadata": {},
   "outputs": [],
   "source": [
    "optics_labels = optics_clustering.labels_\n",
    "print(len(np.unique(optics_labels)))\n",
    "\n",
    "df_accidents_coords_complete['OPTICS Cluster No'] = optics_labels\n",
    "\n",
    "df_accidents = df_accidents.merge(df_accidents_coords_complete[['Accident_Index', 'OPTICS Cluster No']],\n",
    "                                  left_on='Accident_Index', right_on='Accident_Index', how='left')"
   ]
  },
  {
   "cell_type": "code",
   "execution_count": null,
   "metadata": {},
   "outputs": [],
   "source": [
    "df_accidents.head()"
   ]
  },
  {
   "cell_type": "code",
   "execution_count": null,
   "metadata": {},
   "outputs": [],
   "source": [
    "df_accident_clusters = df_accidents[df_accidents['OPTICS Cluster No_y']>-1].copy()\n",
    "len(df_accident_clusters)"
   ]
  },
  {
   "cell_type": "code",
   "execution_count": null,
   "metadata": {},
   "outputs": [],
   "source": [
    "fig = px.scatter_mapbox(df_accident_clusters, lat=\"Latitude\", lon=\"Longitude\",\n",
    "                        hover_name='OPTICS Cluster No_y', hover_data=[\"Accident_Severity\", \"Number_of_Casualties\"],\n",
    "                        color_discrete_sequence=[\"fuchsia\"], zoom=5, height=300)\n",
    "fig.update_layout(mapbox_style=\"open-street-map\")\n",
    "fig.update_layout(margin={\"r\":0,\"t\":0,\"l\":0,\"b\":0})\n",
    "fig.show()"
   ]
  },
  {
   "cell_type": "markdown",
   "metadata": {},
   "source": [
    "## Can we estimate the number of casualities and respective severity?\n",
    "\n",
    "A witness would know:\n",
    "- Location\n",
    "- type of Vehicles\n",
    "- Date/time\n",
    "- Surface conditions\n",
    "\n",
    "Out of those what would be relevant?\n",
    "\n",
    "What are we trying to estimate?\n",
    "<br>\n",
    "number of casualities with severity?\n",
    "get a single estimation with a vector of 3 elements: number of slight, serious, fatal\n",
    " - Multivariate Linear Regression\n",
    " - ## Let's use ANN\n",
    "\n",
    "- Veh Leaving Carriageway\n",
    "\n",
    "<br>get a model for each vehicle?"
   ]
  },
  {
   "cell_type": "code",
   "execution_count": null,
   "metadata": {},
   "outputs": [],
   "source": [
    "accident_features = ['Accident_Index','Road_Type','Speed_limit','Junction_Detail','Junction_Control',\n",
    "                     'Light_Conditions','Weather_Conditions','Road_Surface_Conditions','Urban_or_Rural_Area']\n",
    "\n",
    "vehicle_features = ['Vehicle_Type']\n",
    "# Veh Leaving Carriageway"
   ]
  },
  {
   "cell_type": "code",
   "execution_count": null,
   "metadata": {},
   "outputs": [],
   "source": [
    "df_vehicle_classes = df_vehicles.groupby(['Accident_Index','Vehicle_Type']).size().unstack(fill_value=0)\n",
    "print(len(df_vehicle_classes))"
   ]
  },
  {
   "cell_type": "code",
   "execution_count": null,
   "metadata": {},
   "outputs": [],
   "source": [
    "casaualty_severity = df_casualties.groupby(['Accident_Index','Casualty_Severity']).size().unstack(fill_value=0)\n",
    "casaualty_severity.rename(columns={1: \"Fatal\", 2: \"Serious\", 3: \"Slight\"}, inplace=True)\n",
    "casaualty_severity.head()"
   ]
  },
  {
   "cell_type": "code",
   "execution_count": null,
   "metadata": {},
   "outputs": [],
   "source": [
    "print(len(df_accidents[accident_features]))\n",
    "df_accidents_s1 = df_accidents[accident_features].merge(df_vehicle_classes, on=\"Accident_Index\")\n",
    "df_accidents_s2 = df_accidents_s1.merge(casaualty_severity, on=\"Accident_Index\")"
   ]
  },
  {
   "cell_type": "code",
   "execution_count": null,
   "metadata": {},
   "outputs": [],
   "source": [
    "# simply drop NA\n",
    "df_accidents_s3 = df_accidents_s2.drop(df_accidents_s2[df_accidents_s2.isnull().any(1)].index)\n",
    "\n",
    "# simply drop negatives:\n",
    "value_cols = ['Road_Type', 'Speed_limit', 'Junction_Detail', 'Junction_Control', 'Light_Conditions', 'Weather_Conditions', 'Road_Surface_Conditions',\n",
    " 'Urban_or_Rural_Area', -1, 1, 2, 3, 4, 5, 8, 9, 10, 11, 16, 17, 18, 19, 20, 21, 22, 23, 90, 97, 98, 'Fatal',\n",
    " 'Serious', 'Slight']\n",
    "\n",
    "df_accidents_s3.loc[df_accidents_s3['Junction_Control']==-1, 'Junction_Control'] = 5\n",
    "df_accidents_s3.loc[df_accidents_s3['Junction_Detail']==-1, 'Junction_Detail'] = 10\n",
    "df_accidents_s3.loc[df_accidents_s3['Road_Surface_Conditions']==-1, 'Road_Surface_Conditions'] = 8\n",
    "\n",
    "df_accidents_s3.loc[df_accidents_s3['Light_Conditions']==-1, 'Light_Conditions'] = 8\n",
    "df_accidents_s3.loc[df_accidents_s3['Weather_Conditions']==-1, 'Weather_Conditions'] = 9\n",
    "\n",
    "df_accidents_s3.loc[df_accidents_s3['Road_Type']==-1, 'Road_Type'] = 9\n",
    "df_accidents_s3.loc[df_accidents_s3['Urban_or_Rural_Area']==-1, 'Urban_or_Rural_Area'] = 3"
   ]
  },
  {
   "cell_type": "code",
   "execution_count": null,
   "metadata": {},
   "outputs": [],
   "source": [
    "df_accidents_s3[(df_accidents_s3[value_cols] < 0).any(1)]"
   ]
  },
  {
   "cell_type": "code",
   "execution_count": null,
   "metadata": {},
   "outputs": [],
   "source": [
    "x_cont_cols = ['Speed_limit', -1, 1, 2, 3, 4, 5, 8, 9, 10, 11, 16, 17, 18, 19, 20, 21, 22, 23, 90, 97, 98]\n",
    "\n",
    "x_cat_cols = ['Road_Type', 'Junction_Detail', 'Junction_Control', 'Light_Conditions',\n",
    "              'Weather_Conditions', 'Road_Surface_Conditions', 'Urban_or_Rural_Area']\n",
    "\n",
    "label_cols = ['Fatal', 'Serious', 'Slight']"
   ]
  },
  {
   "cell_type": "code",
   "execution_count": null,
   "metadata": {},
   "outputs": [],
   "source": [
    "X = torch.tensor(df_accidents_s3[x_cont_cols + x_cat_cols].values, dtype=torch.float)\n",
    "x_cont = torch.tensor(df_accidents_s3[x_cont_cols].values, dtype=torch.float)\n",
    "\n",
    "df_accidents_s3[x_cat_cols] = df_accidents_s3[x_cat_cols].astype(\"category\")\n",
    "x_cat = torch.tensor( np.stack( [df_accidents_s3[col].cat.codes.values for col in x_cat_cols], axis=1), dtype=torch.int)"
   ]
  },
  {
   "cell_type": "code",
   "execution_count": null,
   "metadata": {},
   "outputs": [],
   "source": [
    "x_cat.shape"
   ]
  },
  {
   "cell_type": "code",
   "execution_count": null,
   "metadata": {},
   "outputs": [],
   "source": [
    "y = torch.tensor(df_accidents_s3[label_cols].values, dtype=torch.float)"
   ]
  },
  {
   "cell_type": "markdown",
   "metadata": {},
   "source": [
    "## Train test split"
   ]
  },
  {
   "cell_type": "markdown",
   "metadata": {},
   "source": [
    "<div class=\"alert alert-block alert-danger\">\n",
    "<b>Danger:</b> \n",
    "\n",
    "ADD SHUFFLING\n",
    "\n",
    "\n",
    "</div>"
   ]
  },
  {
   "cell_type": "code",
   "execution_count": null,
   "metadata": {},
   "outputs": [],
   "source": [
    "cat_train = x_cat[:batch_size-test_size]\n",
    "cat_test = x_cat[batch_size-test_size:batch_size]\n",
    "con_train = x_cont[:batch_size-test_size]\n",
    "con_test = x_cont[batch_size-test_size:batch_size]"
   ]
  },
  {
   "cell_type": "code",
   "execution_count": null,
   "metadata": {},
   "outputs": [],
   "source": [
    "y_train = y[:batch_size-test_size]\n",
    "y_test = y[batch_size-test_size:batch_size]"
   ]
  },
  {
   "cell_type": "markdown",
   "metadata": {},
   "source": [
    "### Setting up Model"
   ]
  },
  {
   "cell_type": "code",
   "execution_count": null,
   "metadata": {},
   "outputs": [],
   "source": [
    "class RegressionModel(nn.Module):\n",
    "    \n",
    "    def __init__(self, emb_szs, n_cont, out_sz, layers, p=0.35):\n",
    "        \n",
    "        super().__init__()\n",
    "        \n",
    "        # Embedding\n",
    "        self.embeds = nn.ModuleList([nn.Embedding(ni, nf) for ni,nf in emb_szs])\n",
    "        \n",
    "        # Dropout layer\n",
    "        self.emb_drop = nn.Dropout(p)\n",
    "        \n",
    "        # normalise the continous data\n",
    "        self.bn_cont = nn.BatchNorm1d(n_cont)\n",
    "        \n",
    "        layerlist = []\n",
    "        n_emb = sum([nf for ni,nf in emb_szs])\n",
    "        n_in = n_emb + n_cont\n",
    "        \n",
    "        # Create list of fully connected layers\n",
    "        for i in layers:\n",
    "            layerlist.append(nn.Linear(n_in,i))\n",
    "            layerlist.append(nn.ReLU(inplace=True))\n",
    "            layerlist.append(nn.BatchNorm1d(i))\n",
    "            layerlist.append(nn.Dropout(p))\n",
    "            n_in = i\n",
    "        \n",
    "        # fully connected layer\n",
    "        layerlist.append(nn.Linear(layers[-1], out_sz))\n",
    "        \n",
    "        \n",
    "        self.layers = nn.Sequential(*layerlist)\n",
    "        \n",
    "        \n",
    "    def forward(self, x_cat, x_cont):\n",
    "        \n",
    "        embeddings = []\n",
    "                \n",
    "        for i,e in enumerate(self.embeds):\n",
    "            embeddings.append(e(x_cat[:,i]))\n",
    "        # Concatenate individial vectors of categorical columns from embeddings    \n",
    "        x = torch.cat(embeddings, 1)\n",
    "        # Apply dropout\n",
    "        x = self.emb_drop(x)\n",
    "        \n",
    "        # Normalise continous data\n",
    "        x_cont = self.bn_cont(x_cont)\n",
    "        \n",
    "        # Concatenate categorical and continous columns\n",
    "        x = torch.cat([x,x_cont],1)\n",
    "        # Pass through tensor the fully connected layers\n",
    "        x = self.layers(x)\n",
    "        \n",
    "        return x"
   ]
  },
  {
   "cell_type": "code",
   "execution_count": null,
   "metadata": {},
   "outputs": [],
   "source": [
    "torch.manual_seed(42)\n",
    "model = RegressionModel(emb_szs, len(x_cont_cols), 3, [200,100,60], p=0.4)\n",
    "\n",
    "criterion = nn.MSELoss() # np.sqrt(MSE) --> RMS\n",
    "\n",
    "optimiser = torch.optim.Adam(model.parameters(), lr=0.001)\n",
    "batch_size = 60000\n",
    "test_size = int(batch_size * 0.2)"
   ]
  },
  {
   "cell_type": "code",
   "execution_count": null,
   "metadata": {},
   "outputs": [],
   "source": [
    "start_time = time()\n",
    "\n",
    "epochs = 300\n",
    "\n",
    "losses = []\n",
    "\n",
    "for i in range(epochs):\n",
    "    i+=1\n",
    "    \n",
    "    y_pred = model(cat_train,con_train)\n",
    "    y_pred = torch.round(y_pred)\n",
    "    loss = torch.sqrt(criterion(y_pred, y_train))\n",
    "    \n",
    "    losses.append(loss)\n",
    "    \n",
    "    if i%10 == 1:\n",
    "        print(f'epoch: {i} loss is {loss}')\n",
    "        \n",
    "    optimiser.zero_grad()\n",
    "    loss.backward()\n",
    "    optimiser.step()\n",
    "    \n",
    "end_time = time()\n",
    "duration = end_time - start_time\n",
    "print(f'Traning took {duration/60} minutes')"
   ]
  },
  {
   "cell_type": "code",
   "execution_count": null,
   "metadata": {},
   "outputs": [],
   "source": [
    "torch.round(y_pred)"
   ]
  },
  {
   "cell_type": "code",
   "execution_count": null,
   "metadata": {},
   "outputs": [],
   "source": [
    "plt.plot(range(epochs), losses)"
   ]
  },
  {
   "cell_type": "code",
   "execution_count": null,
   "metadata": {},
   "outputs": [],
   "source": [
    "with torch.no_grad():\n",
    "    \n",
    "    y_val = model(cat_test,con_test)\n",
    "    \n",
    "    loss = torch.sqrt(criterion(y_val, y_test))"
   ]
  },
  {
   "cell_type": "code",
   "execution_count": null,
   "metadata": {},
   "outputs": [],
   "source": [
    "loss"
   ]
  },
  {
   "cell_type": "code",
   "execution_count": null,
   "metadata": {},
   "outputs": [],
   "source": [
    "for i in range(10):\n",
    "    \n",
    "    print(f'{i}.) Predicted: {y_val[i]} TRUE: {y_test[i]}')"
   ]
  },
  {
   "cell_type": "code",
   "execution_count": null,
   "metadata": {},
   "outputs": [],
   "source": []
  }
 ],
 "metadata": {
  "kernelspec": {
   "display_name": "Python 3",
   "language": "python",
   "name": "python3"
  },
  "language_info": {
   "codemirror_mode": {
    "name": "ipython",
    "version": 3
   },
   "file_extension": ".py",
   "mimetype": "text/x-python",
   "name": "python",
   "nbconvert_exporter": "python",
   "pygments_lexer": "ipython3",
   "version": "3.8.2"
  }
 },
 "nbformat": 4,
 "nbformat_minor": 4
}
