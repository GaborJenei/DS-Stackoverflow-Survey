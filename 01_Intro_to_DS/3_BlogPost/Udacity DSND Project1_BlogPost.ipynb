{
 "cells": [
  {
   "cell_type": "markdown",
   "metadata": {},
   "source": [
    "# Crash look at UK road traffic accident data"
   ]
  },
  {
   "cell_type": "code",
   "execution_count": 1,
   "metadata": {},
   "outputs": [],
   "source": [
    "# Imports\n",
    "# Data Processing\n",
    "from time import time\n",
    "import numpy as np\n",
    "import pandas as pd\n",
    "\n",
    "# Modelling\n",
    "# from sklearn.neighbors import KDTree, NearestNeighbors\n",
    "from sklearn.cluster import DBSCAN, OPTICS\n",
    "from sklearn.metrics import silhouette_score\n",
    "# from sklearn import metrics\n",
    "# from sklearn.preprocessing import StandardScaler\n",
    "\n",
    "import torch\n",
    "import torch.nn as nn\n",
    "\n",
    "# Visualisation Packages\n",
    "import matplotlib.pyplot as plt\n",
    "import matplotlib\n",
    "import seaborn as sns\n",
    "import plotly.express as px\n",
    "\n",
    "import chart_studio.plotly as py\n",
    "import plotly.graph_objects as go"
   ]
  },
  {
   "cell_type": "markdown",
   "metadata": {},
   "source": [
    "## Read up the data"
   ]
  },
  {
   "cell_type": "code",
   "execution_count": 2,
   "metadata": {},
   "outputs": [],
   "source": [
    "# Read up accidents\n",
    "accidents_2019 = pd.read_csv(r\"http://data.dft.gov.uk/road-accidents-safety-data/DfTRoadSafety_Accidents_2019.zip\",low_memory=False, compression='zip')\n",
    "accidents_2018 = pd.read_csv(r\"http://data.dft.gov.uk/road-accidents-safety-data/dftRoadSafetyData_Accidents_2018.csv\",low_memory=False)\n",
    "accidents_2017 = pd.read_csv(r\"http://data.dft.gov.uk.s3.amazonaws.com/road-accidents-safety-data/dftRoadSafetyData_Accidents_2017.zip\",low_memory=False, compression='zip')\n",
    "accidents_2016 = pd.read_csv(r\"http://data.dft.gov.uk/road-accidents-safety-data/dftRoadSafety_Accidents_2016.zip\",low_memory=False, compression='zip')\n",
    "accidents_2015 = pd.read_csv(r\"http://data.dft.gov.uk/road-accidents-safety-data/RoadSafetyData_Accidents_2015.zip\",low_memory=False, compression='zip')\n",
    "accidents_2014 = pd.read_csv(r\"http://data.dft.gov.uk/road-accidents-safety-data/DfTRoadSafety_Accidents_2014.zip\",low_memory=False)\n",
    "\n",
    "# Read up casualties\n",
    "casualties_2019 = pd.read_csv(r\"http://data.dft.gov.uk/road-accidents-safety-data/DfTRoadSafety_Casualties_2019.zip\",low_memory=False, compression='zip')\n",
    "casualties_2018 = pd.read_csv(r\"http://data.dft.gov.uk/road-accidents-safety-data/dftRoadSafetyData_Casualties_2018.csv\",low_memory=False)\n",
    "casualties_2017 = pd.read_csv(r\"http://data.dft.gov.uk.s3.amazonaws.com/road-accidents-safety-data/dftRoadSafetyData_Casualties_2017.zip\",low_memory=False, compression='zip')\n",
    "casualties_2016 = pd.read_csv(r\"http://data.dft.gov.uk/road-accidents-safety-data/dftRoadSafetyData_Casualties_2016.zip\",low_memory=False, compression='zip')\n",
    "casualties_2015 = pd.read_csv(r\"http://data.dft.gov.uk/road-accidents-safety-data/RoadSafetyData_Casualties_2015.zip\",low_memory=False, compression='zip')\n",
    "casualties_2014 = pd.read_csv(r\"http://data.dft.gov.uk/road-accidents-safety-data/DfTRoadSafety_Casualties_2014.zip\",low_memory=False, compression='zip')\n",
    "\n",
    "# Read up vehicles\n",
    "vehicles_2019 = pd.read_csv(r\"http://data.dft.gov.uk/road-accidents-safety-data/DfTRoadSafety_Vehicles_2019.zip\",low_memory=False, compression='zip')\n",
    "vehicles_2018 = pd.read_csv(r\"http://data.dft.gov.uk/road-accidents-safety-data/dftRoadSafetyData_Vehicles_2018.csv\",low_memory=False)\n",
    "vehicles_2017 = pd.read_csv(r\"http://data.dft.gov.uk.s3.amazonaws.com/road-accidents-safety-data/dftRoadSafetyData_Vehicles_2017.zip\",low_memory=False, compression='zip')\n",
    "vehicles_2016 = pd.read_csv(r\"http://data.dft.gov.uk/road-accidents-safety-data/dftRoadSafetyData_Vehicles_2016.zip\",low_memory=False, compression='zip')\n",
    "vehicles_2015 = pd.read_csv(r\"http://data.dft.gov.uk/road-accidents-safety-data/RoadSafetyData_Vehicles_2015.zip\",low_memory=False, compression='zip')\n",
    "vehicles_2014 = pd.read_csv(r\"http://data.dft.gov.uk/road-accidents-safety-data/DfTRoadSafety_Vehicles_2014.zip\",low_memory=False, compression='zip')"
   ]
  },
  {
   "cell_type": "code",
   "execution_count": 3,
   "metadata": {},
   "outputs": [],
   "source": [
    "# Create a single dataframe\n",
    "df_accidents = accidents_2019.append([accidents_2018, accidents_2017, accidents_2016, accidents_2015], sort=False)\n",
    "df_vehicles = vehicles_2019.append([vehicles_2018, vehicles_2017, vehicles_2016, vehicles_2015], sort=False)\n",
    "df_casualties = casualties_2019.append([casualties_2018, casualties_2017, casualties_2016, casualties_2015], sort=False)"
   ]
  },
  {
   "cell_type": "code",
   "execution_count": 4,
   "metadata": {},
   "outputs": [
    {
     "name": "stdout",
     "output_type": "stream",
     "text": [
      "646830\n"
     ]
    },
    {
     "data": {
      "text/html": [
       "<div>\n",
       "<style scoped>\n",
       "    .dataframe tbody tr th:only-of-type {\n",
       "        vertical-align: middle;\n",
       "    }\n",
       "\n",
       "    .dataframe tbody tr th {\n",
       "        vertical-align: top;\n",
       "    }\n",
       "\n",
       "    .dataframe thead th {\n",
       "        text-align: right;\n",
       "    }\n",
       "</style>\n",
       "<table border=\"1\" class=\"dataframe\">\n",
       "  <thead>\n",
       "    <tr style=\"text-align: right;\">\n",
       "      <th></th>\n",
       "      <th>Accident_Index</th>\n",
       "      <th>Location_Easting_OSGR</th>\n",
       "      <th>Location_Northing_OSGR</th>\n",
       "      <th>Longitude</th>\n",
       "      <th>Latitude</th>\n",
       "      <th>Police_Force</th>\n",
       "      <th>Accident_Severity</th>\n",
       "      <th>Number_of_Vehicles</th>\n",
       "      <th>Number_of_Casualties</th>\n",
       "      <th>Date</th>\n",
       "      <th>...</th>\n",
       "      <th>Pedestrian_Crossing-Human_Control</th>\n",
       "      <th>Pedestrian_Crossing-Physical_Facilities</th>\n",
       "      <th>Light_Conditions</th>\n",
       "      <th>Weather_Conditions</th>\n",
       "      <th>Road_Surface_Conditions</th>\n",
       "      <th>Special_Conditions_at_Site</th>\n",
       "      <th>Carriageway_Hazards</th>\n",
       "      <th>Urban_or_Rural_Area</th>\n",
       "      <th>Did_Police_Officer_Attend_Scene_of_Accident</th>\n",
       "      <th>LSOA_of_Accident_Location</th>\n",
       "    </tr>\n",
       "  </thead>\n",
       "  <tbody>\n",
       "    <tr>\n",
       "      <th>0</th>\n",
       "      <td>2019010128300</td>\n",
       "      <td>528218.0</td>\n",
       "      <td>180407.0</td>\n",
       "      <td>-0.153842</td>\n",
       "      <td>51.508057</td>\n",
       "      <td>1</td>\n",
       "      <td>3</td>\n",
       "      <td>2</td>\n",
       "      <td>3</td>\n",
       "      <td>18/02/2019</td>\n",
       "      <td>...</td>\n",
       "      <td>0</td>\n",
       "      <td>5</td>\n",
       "      <td>1</td>\n",
       "      <td>1</td>\n",
       "      <td>1</td>\n",
       "      <td>0</td>\n",
       "      <td>0</td>\n",
       "      <td>1</td>\n",
       "      <td>3</td>\n",
       "      <td>E01004762</td>\n",
       "    </tr>\n",
       "    <tr>\n",
       "      <th>1</th>\n",
       "      <td>2019010152270</td>\n",
       "      <td>530219.0</td>\n",
       "      <td>172463.0</td>\n",
       "      <td>-0.127949</td>\n",
       "      <td>51.436208</td>\n",
       "      <td>1</td>\n",
       "      <td>3</td>\n",
       "      <td>2</td>\n",
       "      <td>1</td>\n",
       "      <td>15/01/2019</td>\n",
       "      <td>...</td>\n",
       "      <td>-1</td>\n",
       "      <td>-1</td>\n",
       "      <td>4</td>\n",
       "      <td>1</td>\n",
       "      <td>1</td>\n",
       "      <td>0</td>\n",
       "      <td>0</td>\n",
       "      <td>1</td>\n",
       "      <td>3</td>\n",
       "      <td>E01003117</td>\n",
       "    </tr>\n",
       "    <tr>\n",
       "      <th>2</th>\n",
       "      <td>2019010155191</td>\n",
       "      <td>530222.0</td>\n",
       "      <td>182543.0</td>\n",
       "      <td>-0.124193</td>\n",
       "      <td>51.526795</td>\n",
       "      <td>1</td>\n",
       "      <td>3</td>\n",
       "      <td>2</td>\n",
       "      <td>1</td>\n",
       "      <td>01/01/2019</td>\n",
       "      <td>...</td>\n",
       "      <td>0</td>\n",
       "      <td>0</td>\n",
       "      <td>4</td>\n",
       "      <td>1</td>\n",
       "      <td>1</td>\n",
       "      <td>0</td>\n",
       "      <td>0</td>\n",
       "      <td>1</td>\n",
       "      <td>1</td>\n",
       "      <td>E01000943</td>\n",
       "    </tr>\n",
       "  </tbody>\n",
       "</table>\n",
       "<p>3 rows × 32 columns</p>\n",
       "</div>"
      ],
      "text/plain": [
       "  Accident_Index  Location_Easting_OSGR  Location_Northing_OSGR  Longitude  \\\n",
       "0  2019010128300               528218.0                180407.0  -0.153842   \n",
       "1  2019010152270               530219.0                172463.0  -0.127949   \n",
       "2  2019010155191               530222.0                182543.0  -0.124193   \n",
       "\n",
       "    Latitude  Police_Force  Accident_Severity  Number_of_Vehicles  \\\n",
       "0  51.508057             1                  3                   2   \n",
       "1  51.436208             1                  3                   2   \n",
       "2  51.526795             1                  3                   2   \n",
       "\n",
       "   Number_of_Casualties        Date  ...  Pedestrian_Crossing-Human_Control  \\\n",
       "0                     3  18/02/2019  ...                                  0   \n",
       "1                     1  15/01/2019  ...                                 -1   \n",
       "2                     1  01/01/2019  ...                                  0   \n",
       "\n",
       "  Pedestrian_Crossing-Physical_Facilities  Light_Conditions  \\\n",
       "0                                       5                 1   \n",
       "1                                      -1                 4   \n",
       "2                                       0                 4   \n",
       "\n",
       "  Weather_Conditions  Road_Surface_Conditions  Special_Conditions_at_Site  \\\n",
       "0                  1                        1                           0   \n",
       "1                  1                        1                           0   \n",
       "2                  1                        1                           0   \n",
       "\n",
       "   Carriageway_Hazards  Urban_or_Rural_Area  \\\n",
       "0                    0                    1   \n",
       "1                    0                    1   \n",
       "2                    0                    1   \n",
       "\n",
       "   Did_Police_Officer_Attend_Scene_of_Accident  LSOA_of_Accident_Location  \n",
       "0                                            3                  E01004762  \n",
       "1                                            3                  E01003117  \n",
       "2                                            1                  E01000943  \n",
       "\n",
       "[3 rows x 32 columns]"
      ]
     },
     "execution_count": 4,
     "metadata": {},
     "output_type": "execute_result"
    }
   ],
   "source": [
    "print(len(df_accidents))\n",
    "df_accidents.head(3)"
   ]
  },
  {
   "cell_type": "code",
   "execution_count": 5,
   "metadata": {},
   "outputs": [
    {
     "name": "stdout",
     "output_type": "stream",
     "text": [
      "1192061\n"
     ]
    },
    {
     "data": {
      "text/html": [
       "<div>\n",
       "<style scoped>\n",
       "    .dataframe tbody tr th:only-of-type {\n",
       "        vertical-align: middle;\n",
       "    }\n",
       "\n",
       "    .dataframe tbody tr th {\n",
       "        vertical-align: top;\n",
       "    }\n",
       "\n",
       "    .dataframe thead th {\n",
       "        text-align: right;\n",
       "    }\n",
       "</style>\n",
       "<table border=\"1\" class=\"dataframe\">\n",
       "  <thead>\n",
       "    <tr style=\"text-align: right;\">\n",
       "      <th></th>\n",
       "      <th>Accident_Index</th>\n",
       "      <th>Vehicle_Reference</th>\n",
       "      <th>Vehicle_Type</th>\n",
       "      <th>Towing_and_Articulation</th>\n",
       "      <th>Vehicle_Manoeuvre</th>\n",
       "      <th>Vehicle_Location-Restricted_Lane</th>\n",
       "      <th>Junction_Location</th>\n",
       "      <th>Skidding_and_Overturning</th>\n",
       "      <th>Hit_Object_in_Carriageway</th>\n",
       "      <th>Vehicle_Leaving_Carriageway</th>\n",
       "      <th>...</th>\n",
       "      <th>Journey_Purpose_of_Driver</th>\n",
       "      <th>Sex_of_Driver</th>\n",
       "      <th>Age_of_Driver</th>\n",
       "      <th>Age_Band_of_Driver</th>\n",
       "      <th>Engine_Capacity_(CC)</th>\n",
       "      <th>Propulsion_Code</th>\n",
       "      <th>Age_of_Vehicle</th>\n",
       "      <th>Driver_IMD_Decile</th>\n",
       "      <th>Driver_Home_Area_Type</th>\n",
       "      <th>Vehicle_IMD_Decile</th>\n",
       "    </tr>\n",
       "  </thead>\n",
       "  <tbody>\n",
       "    <tr>\n",
       "      <th>0</th>\n",
       "      <td>2019010128300</td>\n",
       "      <td>1</td>\n",
       "      <td>9</td>\n",
       "      <td>0</td>\n",
       "      <td>-1</td>\n",
       "      <td>-1</td>\n",
       "      <td>-1</td>\n",
       "      <td>-1</td>\n",
       "      <td>-1</td>\n",
       "      <td>-1</td>\n",
       "      <td>...</td>\n",
       "      <td>6</td>\n",
       "      <td>1</td>\n",
       "      <td>58</td>\n",
       "      <td>9</td>\n",
       "      <td>-1</td>\n",
       "      <td>-1</td>\n",
       "      <td>-1</td>\n",
       "      <td>2</td>\n",
       "      <td>1</td>\n",
       "      <td>2</td>\n",
       "    </tr>\n",
       "    <tr>\n",
       "      <th>1</th>\n",
       "      <td>2019010128300</td>\n",
       "      <td>2</td>\n",
       "      <td>9</td>\n",
       "      <td>0</td>\n",
       "      <td>-1</td>\n",
       "      <td>-1</td>\n",
       "      <td>-1</td>\n",
       "      <td>-1</td>\n",
       "      <td>-1</td>\n",
       "      <td>-1</td>\n",
       "      <td>...</td>\n",
       "      <td>6</td>\n",
       "      <td>3</td>\n",
       "      <td>-1</td>\n",
       "      <td>-1</td>\n",
       "      <td>-1</td>\n",
       "      <td>-1</td>\n",
       "      <td>-1</td>\n",
       "      <td>2</td>\n",
       "      <td>1</td>\n",
       "      <td>2</td>\n",
       "    </tr>\n",
       "    <tr>\n",
       "      <th>2</th>\n",
       "      <td>2019010152270</td>\n",
       "      <td>1</td>\n",
       "      <td>9</td>\n",
       "      <td>0</td>\n",
       "      <td>18</td>\n",
       "      <td>-1</td>\n",
       "      <td>0</td>\n",
       "      <td>-1</td>\n",
       "      <td>-1</td>\n",
       "      <td>-1</td>\n",
       "      <td>...</td>\n",
       "      <td>6</td>\n",
       "      <td>2</td>\n",
       "      <td>24</td>\n",
       "      <td>5</td>\n",
       "      <td>-1</td>\n",
       "      <td>-1</td>\n",
       "      <td>-1</td>\n",
       "      <td>3</td>\n",
       "      <td>1</td>\n",
       "      <td>3</td>\n",
       "    </tr>\n",
       "  </tbody>\n",
       "</table>\n",
       "<p>3 rows × 23 columns</p>\n",
       "</div>"
      ],
      "text/plain": [
       "  Accident_Index  Vehicle_Reference  Vehicle_Type  Towing_and_Articulation  \\\n",
       "0  2019010128300                  1             9                        0   \n",
       "1  2019010128300                  2             9                        0   \n",
       "2  2019010152270                  1             9                        0   \n",
       "\n",
       "   Vehicle_Manoeuvre  Vehicle_Location-Restricted_Lane  Junction_Location  \\\n",
       "0                 -1                                -1                 -1   \n",
       "1                 -1                                -1                 -1   \n",
       "2                 18                                -1                  0   \n",
       "\n",
       "   Skidding_and_Overturning  Hit_Object_in_Carriageway  \\\n",
       "0                        -1                         -1   \n",
       "1                        -1                         -1   \n",
       "2                        -1                         -1   \n",
       "\n",
       "   Vehicle_Leaving_Carriageway  ...  Journey_Purpose_of_Driver  Sex_of_Driver  \\\n",
       "0                           -1  ...                          6              1   \n",
       "1                           -1  ...                          6              3   \n",
       "2                           -1  ...                          6              2   \n",
       "\n",
       "   Age_of_Driver  Age_Band_of_Driver  Engine_Capacity_(CC)  Propulsion_Code  \\\n",
       "0             58                   9                    -1               -1   \n",
       "1             -1                  -1                    -1               -1   \n",
       "2             24                   5                    -1               -1   \n",
       "\n",
       "   Age_of_Vehicle  Driver_IMD_Decile  Driver_Home_Area_Type  \\\n",
       "0              -1                  2                      1   \n",
       "1              -1                  2                      1   \n",
       "2              -1                  3                      1   \n",
       "\n",
       "   Vehicle_IMD_Decile  \n",
       "0                   2  \n",
       "1                   2  \n",
       "2                   3  \n",
       "\n",
       "[3 rows x 23 columns]"
      ]
     },
     "execution_count": 5,
     "metadata": {},
     "output_type": "execute_result"
    }
   ],
   "source": [
    "print(len(df_vehicles))\n",
    "df_vehicles.head(3)"
   ]
  },
  {
   "cell_type": "code",
   "execution_count": 6,
   "metadata": {},
   "outputs": [
    {
     "name": "stdout",
     "output_type": "stream",
     "text": [
      "852321\n"
     ]
    },
    {
     "data": {
      "text/html": [
       "<div>\n",
       "<style scoped>\n",
       "    .dataframe tbody tr th:only-of-type {\n",
       "        vertical-align: middle;\n",
       "    }\n",
       "\n",
       "    .dataframe tbody tr th {\n",
       "        vertical-align: top;\n",
       "    }\n",
       "\n",
       "    .dataframe thead th {\n",
       "        text-align: right;\n",
       "    }\n",
       "</style>\n",
       "<table border=\"1\" class=\"dataframe\">\n",
       "  <thead>\n",
       "    <tr style=\"text-align: right;\">\n",
       "      <th></th>\n",
       "      <th>Accident_Index</th>\n",
       "      <th>Vehicle_Reference</th>\n",
       "      <th>Casualty_Reference</th>\n",
       "      <th>Casualty_Class</th>\n",
       "      <th>Sex_of_Casualty</th>\n",
       "      <th>Age_of_Casualty</th>\n",
       "      <th>Age_Band_of_Casualty</th>\n",
       "      <th>Casualty_Severity</th>\n",
       "      <th>Pedestrian_Location</th>\n",
       "      <th>Pedestrian_Movement</th>\n",
       "      <th>Car_Passenger</th>\n",
       "      <th>Bus_or_Coach_Passenger</th>\n",
       "      <th>Pedestrian_Road_Maintenance_Worker</th>\n",
       "      <th>Casualty_Type</th>\n",
       "      <th>Casualty_Home_Area_Type</th>\n",
       "      <th>Casualty_IMD_Decile</th>\n",
       "    </tr>\n",
       "  </thead>\n",
       "  <tbody>\n",
       "    <tr>\n",
       "      <th>0</th>\n",
       "      <td>2019010128300</td>\n",
       "      <td>1</td>\n",
       "      <td>1</td>\n",
       "      <td>1</td>\n",
       "      <td>1</td>\n",
       "      <td>58</td>\n",
       "      <td>9</td>\n",
       "      <td>3</td>\n",
       "      <td>0</td>\n",
       "      <td>0</td>\n",
       "      <td>0</td>\n",
       "      <td>0</td>\n",
       "      <td>0</td>\n",
       "      <td>9</td>\n",
       "      <td>1</td>\n",
       "      <td>2</td>\n",
       "    </tr>\n",
       "    <tr>\n",
       "      <th>1</th>\n",
       "      <td>2019010128300</td>\n",
       "      <td>1</td>\n",
       "      <td>2</td>\n",
       "      <td>2</td>\n",
       "      <td>2</td>\n",
       "      <td>-1</td>\n",
       "      <td>-1</td>\n",
       "      <td>3</td>\n",
       "      <td>0</td>\n",
       "      <td>0</td>\n",
       "      <td>1</td>\n",
       "      <td>0</td>\n",
       "      <td>0</td>\n",
       "      <td>9</td>\n",
       "      <td>1</td>\n",
       "      <td>5</td>\n",
       "    </tr>\n",
       "    <tr>\n",
       "      <th>2</th>\n",
       "      <td>2019010128300</td>\n",
       "      <td>1</td>\n",
       "      <td>3</td>\n",
       "      <td>2</td>\n",
       "      <td>2</td>\n",
       "      <td>-1</td>\n",
       "      <td>-1</td>\n",
       "      <td>3</td>\n",
       "      <td>0</td>\n",
       "      <td>0</td>\n",
       "      <td>2</td>\n",
       "      <td>0</td>\n",
       "      <td>0</td>\n",
       "      <td>9</td>\n",
       "      <td>1</td>\n",
       "      <td>5</td>\n",
       "    </tr>\n",
       "  </tbody>\n",
       "</table>\n",
       "</div>"
      ],
      "text/plain": [
       "  Accident_Index  Vehicle_Reference  Casualty_Reference  Casualty_Class  \\\n",
       "0  2019010128300                  1                   1               1   \n",
       "1  2019010128300                  1                   2               2   \n",
       "2  2019010128300                  1                   3               2   \n",
       "\n",
       "   Sex_of_Casualty  Age_of_Casualty  Age_Band_of_Casualty  Casualty_Severity  \\\n",
       "0                1               58                     9                  3   \n",
       "1                2               -1                    -1                  3   \n",
       "2                2               -1                    -1                  3   \n",
       "\n",
       "   Pedestrian_Location  Pedestrian_Movement  Car_Passenger  \\\n",
       "0                    0                    0              0   \n",
       "1                    0                    0              1   \n",
       "2                    0                    0              2   \n",
       "\n",
       "   Bus_or_Coach_Passenger  Pedestrian_Road_Maintenance_Worker  Casualty_Type  \\\n",
       "0                       0                                   0              9   \n",
       "1                       0                                   0              9   \n",
       "2                       0                                   0              9   \n",
       "\n",
       "   Casualty_Home_Area_Type  Casualty_IMD_Decile  \n",
       "0                        1                    2  \n",
       "1                        1                    5  \n",
       "2                        1                    5  "
      ]
     },
     "execution_count": 6,
     "metadata": {},
     "output_type": "execute_result"
    }
   ],
   "source": [
    "print(len(df_casualties))\n",
    "df_casualties.head(3)"
   ]
  },
  {
   "cell_type": "markdown",
   "metadata": {},
   "source": [
    "## Clean the data\n",
    " - Keep columns needed\n",
    " - Convert date to DateTime\n",
    " - check the number of missing or \"out of range values\"\n",
    " - Convert the default encoding to Pandas Categorical type"
   ]
  },
  {
   "cell_type": "code",
   "execution_count": 7,
   "metadata": {},
   "outputs": [],
   "source": [
    "def ToCategorical(df, col_name_list, category_dict_list):\n",
    "    '''\n",
    "    Converts the given columns to categorical data type with the correct categories\n",
    "    used from the category_dict_list\n",
    "    \n",
    "    Parameters:\n",
    "    df (Pandas DataFrame): Input dataframe with columns to convert to categorical type\n",
    "    col_name_list  (list): List of column names from df. These columns will be converted\n",
    "    category_dict_list (list): a list of dictionaries. each dictioanry corresponds to the respective column\n",
    "       and holds the correct category names to use.\n",
    "\n",
    "    Returns:\n",
    "    DataFrame with categorical columns \n",
    "    '''\n",
    "    \n",
    "    df_out = df.copy()\n",
    "    \n",
    "    for i,col in enumerate(col_name_list):\n",
    "        df_out[col] = df_out[col].astype('category')\n",
    "        df_out[col].cat.categories = [category_dict_list[i][j] for j in df_out[col].cat.categories]\n",
    "        \n",
    "    return df_out"
   ]
  },
  {
   "cell_type": "code",
   "execution_count": 8,
   "metadata": {},
   "outputs": [],
   "source": [
    "# Keep columns used, remove other columns\n",
    "accident_cols_to_keep= ['Accident_Index', 'Location_Easting_OSGR', 'Location_Northing_OSGR',\n",
    "                        'Longitude', 'Latitude','Date',\n",
    "                        'Number_of_Vehicles', 'Number_of_Casualties',\n",
    "                        '1st_Road_Class','Speed_limit',\n",
    "                        'Light_Conditions','Weather_Conditions', 'Road_Surface_Conditions']\n",
    "\n",
    "vehicle_cols_to_keep = ['Accident_Index', 'Vehicle_Reference', 'Vehicle_Type', 'Age_of_Driver', 'Sex_of_Driver']\n",
    "\n",
    "casuality_cols_to_keep = ['Accident_Index', 'Vehicle_Reference', 'Casualty_Reference',\n",
    "                          'Casualty_Severity']\n",
    "\n",
    "\n",
    "df_accidents = df_accidents[accident_cols_to_keep].copy()\n",
    "df_vehicles = df_vehicles[vehicle_cols_to_keep].copy()\n",
    "df_casualties = df_casualties[casuality_cols_to_keep].copy()"
   ]
  },
  {
   "cell_type": "code",
   "execution_count": 9,
   "metadata": {},
   "outputs": [
    {
     "name": "stdout",
     "output_type": "stream",
     "text": [
      "Number of null values in Date column: 0\n"
     ]
    }
   ],
   "source": [
    "# convert Date to DateTime object (Time is missing from ~100 accidents)\n",
    "print('Number of null values in Date column: ' + str(len(df_accidents[df_accidents[[\"Date\"]].isnull().any(axis=1)])))\n",
    "df_accidents[\"Date\"] = pd.DatetimeIndex(df_accidents[\"Date\"], dayfirst=True)\n",
    "df_accidents[\"Year\"] = df_accidents[\"Date\"].dt.year.astype('Int16')"
   ]
  },
  {
   "cell_type": "code",
   "execution_count": 10,
   "metadata": {},
   "outputs": [],
   "source": [
    "# Map categories\n",
    "gender_dict = {1:'Male',2:'Female', 3:'Not known', -1:'Data missing or out of range'}\n",
    "light_dict = {1:'Daylight',4:'Darkness - lights lit',5:'Darkness - lights unlit',6:'Darkness - no lighting',7:'Darkness - lighting unknown',-1:'Data missing or out of range'}\n",
    "weather_dict ={1:'Fine no high winds',2:'Raining no high winds',3:'Snowing no high winds',4:'Fine + high winds',5:'Raining + high winds',6:'Snowing + high winds',7:'Fog or mist',8:'Other',9:'Unknown',-1:'Data missing or out of range'}\n",
    "surface_dict = {1:'Dry',2:'Wet or damp',3:'Snow',4:'Frost or ice',5:'Flood over 3cm. deep',6:'Oil or diesel',7:'Mud',-1:'Data missing or out of range'}\n",
    "severity_dict = {1:'Fatal',2:'Serious',3:'Slight'}\n",
    "# speed_limit = {20:'20 MPH', 30:'30 MPH', 40:'40 MPH', 50:'50 MPH', 60:'60 MPH', 70:'70 MPH', -1:'Data missing or out of range', 0.0:'Data missing or out of range', np.nan:'Data missing or out of range'}\n",
    "vehicle_type_dict = {1:'Pedal cycle', 2:'Motorcycle 50cc and under', 3:'Motorcycle 125cc and under', 4:'Motorcycle over 125cc and up to 500cc', 5:'Motorcycle over 500cc', 8:'Taxi/Private hire car', 9:'Car', 10:'Minibus (8 - 16 passenger seats)',\n",
    "                     11:'Bus or coach (17 or more pass seats)', 16:'Ridden horse', 17:'Agricultural vehicle', 18:'Tram', 19:'Van / Goods 3.5 tonnes mgw or under', 20:'Goods over 3.5t. and under 7.5t', 21:'Goods 7.5 tonnes mgw and over', 22:'Mobility scooter',\n",
    "                     23:'Electric motorcycle', 90:'Other vehicle', 97:'Motorcycle - unknown cc', 98:'Goods vehicle - unknown weight', -1:'Data missing or out of range',}\n",
    "\n",
    "road_class_dict = {1:'Motorway', 2:'A(M)', 3:'A', 4:'B', 5:'C', 6:'Unclassified'}\n",
    "\n",
    "\n",
    "df_accidents = ToCategorical(df_accidents,\n",
    "                             ['1st_Road_Class','Light_Conditions','Weather_Conditions','Road_Surface_Conditions'],\n",
    "                             [road_class_dict,light_dict,weather_dict,surface_dict])\n",
    "\n",
    "df_vehicles = ToCategorical(df_vehicles, ['Vehicle_Type', 'Sex_of_Driver'], [vehicle_type_dict, gender_dict])\n",
    "df_casualties = ToCategorical(df_casualties, ['Casualty_Severity'], [severity_dict])"
   ]
  },
  {
   "cell_type": "code",
   "execution_count": 11,
   "metadata": {},
   "outputs": [],
   "source": [
    "# Check the number of missing values\n",
    "\n",
    "def CheckNulls(df, df_name='DataFrame'):\n",
    "    '''\n",
    "    Function that checks the number of rows with any missing values\n",
    "    Input:\n",
    "    df: DataFrame to check\n",
    "    df_name: str, name to use as DF name in the returned prints\n",
    "    \n",
    "    Returns: Null, printing the numbor missig rows to the screen\n",
    "    '''\n",
    "    print('\\n'+df_name)\n",
    "    # Total number of Accident Table\n",
    "    print(f'Number of rows in {df_name}: \\t{len(df)}')\n",
    "\n",
    "    # Numeric columns\n",
    "    print(f'Number of numerical rows with any missing values in {df_name}: {df.isnull().any(axis=1).sum()}')\n",
    "    cols_w_null = df.columns[df.isnull().any()].to_list()\n",
    "    print(f'Numeric columns with nulls: {cols_w_null}')\n",
    "    \n",
    "    # Categoorical columns\n",
    "    missing_cat_rows = df.isin(['Data missing or out of range','Unknown']).any(axis=1).sum()\n",
    "    print(f'Number of categorical rows with any missing values in {df_name}: {missing_cat_rows}')\n"
   ]
  },
  {
   "cell_type": "code",
   "execution_count": 12,
   "metadata": {},
   "outputs": [
    {
     "name": "stdout",
     "output_type": "stream",
     "text": [
      "\n",
      "df_accidents\n",
      "Number of rows in df_accidents: \t646830\n",
      "Number of numerical rows with any missing values in df_accidents: 183\n",
      "Numeric columns with nulls: ['Location_Easting_OSGR', 'Location_Northing_OSGR', 'Longitude', 'Latitude', 'Speed_limit']\n",
      "Number of categorical rows with any missing values in df_accidents: 19457\n",
      "\n",
      "df_vehicles\n",
      "Number of rows in df_vehicles: \t1192061\n",
      "Number of numerical rows with any missing values in df_vehicles: 0\n",
      "Numeric columns with nulls: []\n",
      "Number of categorical rows with any missing values in df_vehicles: 1339\n",
      "\n",
      "df_casualties\n",
      "Number of rows in df_casualties: \t852321\n",
      "Number of numerical rows with any missing values in df_casualties: 0\n",
      "Numeric columns with nulls: []\n",
      "Number of categorical rows with any missing values in df_casualties: 0\n"
     ]
    }
   ],
   "source": [
    "# Accidents\n",
    "CheckNulls(df_accidents, 'df_accidents')\n",
    "CheckNulls(df_vehicles, 'df_vehicles')\n",
    "CheckNulls(df_casualties, 'df_casualties')"
   ]
  },
  {
   "cell_type": "markdown",
   "metadata": {},
   "source": [
    "<div class=\"alert alert-block alert-info\">\n",
    "\n",
    "<b>Note:</b> Although the number of rows with missing values seems small compared to the total sample size, they will be dealt with on a case-by-case basis, removing the missing values based on the columns used for the specific \n",
    "    analysis only.<br>\n",
    "    E.g. We can still use rows for finding hot spots if driver age is not recorded (but coordinates are available). </div>"
   ]
  },
  {
   "cell_type": "markdown",
   "metadata": {},
   "source": [
    "## 1. Is transport becoming safer?"
   ]
  },
  {
   "cell_type": "code",
   "execution_count": 13,
   "metadata": {},
   "outputs": [],
   "source": [
    "# Merge Date to casualities\n",
    "df_casualties_date = df_casualties.merge(df_accidents[[\"Accident_Index\",\"Year\"]], left_on=\"Accident_Index\",right_on=\"Accident_Index\",how='left')"
   ]
  },
  {
   "cell_type": "code",
   "execution_count": 14,
   "metadata": {},
   "outputs": [
    {
     "data": {
      "image/png": "[encoded data removed]",
      "text/plain": [
       "<Figure size 432x288 with 1 Axes>"
      ]
     },
     "metadata": {
      "needs_background": "light"
     },
     "output_type": "display_data"
    }
   ],
   "source": [
    "# Count accidents by year\n",
    "df_accidents_by_year = df_accidents[\"Year\"].value_counts()\n",
    "\n",
    "# Plot\n",
    "ax = sns.barplot(y=df_accidents_by_year.values, x=df_accidents_by_year.index, palette=\"Blues_d\")\n",
    "ax.set(xlabel=\"Year\", ylabel = \"Number of Accidents\");"
   ]
  },
  {
   "cell_type": "code",
   "execution_count": 15,
   "metadata": {},
   "outputs": [
    {
     "data": {
      "image/png": "[encoded data removed]",
      "text/plain": [
       "<Figure size 1382.4x288 with 4 Axes>"
      ]
     },
     "metadata": {
      "needs_background": "light"
     },
     "output_type": "display_data"
    }
   ],
   "source": [
    "# How does the number of casualities change\n",
    "df_casualties_by_year = df_casualties_date.groupby(by=['Casualty_Severity','Year'], as_index=False)['Accident_Index'].count()\n",
    "df_total_casualities = df_casualties_by_year.groupby(by='Year', as_index=False)['Accident_Index'].sum()\n",
    "df_total_casualities['Casualty_Severity'] = 'All Casualities'\n",
    "\n",
    "df_casualties_by_year = df_casualties_by_year.append(df_total_casualities)\n",
    "\n",
    "g = sns.FacetGrid(df_casualties_by_year, col=\"Casualty_Severity\", sharey=False, height=4,\n",
    "    aspect=1.2,)\n",
    "g.map(sns.barplot, \"Year\", \"Accident_Index\", order=[2015,2016,2017,2018,2019])\n",
    "g.set_axis_labels(y_var='Number of Casualities')\n",
    "g.set_titles(col_template = '{col_name}');"
   ]
  },
  {
   "cell_type": "code",
   "execution_count": 16,
   "metadata": {},
   "outputs": [],
   "source": [
    "# Percentage change compared to 2015 baseline\n",
    "df_casualties_change_by_year = df_casualties_by_year.copy()\n",
    "\n",
    "baseline = df_casualties_by_year.loc[df_casualties_by_year['Year']==2015,:]\n",
    "\n",
    "for segment in df_casualties_by_year['Casualty_Severity'].unique():\n",
    "    this_segment = df_casualties_change_by_year['Casualty_Severity']==segment\n",
    "    this_baseline= baseline.loc[baseline['Casualty_Severity']==segment, 'Accident_Index'].values\n",
    "    \n",
    "    df_casualties_change_by_year.loc[this_segment, 'Accident_Index'] = df_casualties_change_by_year.loc[this_segment, 'Accident_Index']/this_baseline * 100"
   ]
  },
  {
   "cell_type": "code",
   "execution_count": 17,
   "metadata": {},
   "outputs": [
    {
     "data": {
      "image/png": "[encoded data removed]",
      "text/plain": [
       "<Figure size 466.375x360 with 1 Axes>"
      ]
     },
     "metadata": {
      "needs_background": "light"
     },
     "output_type": "display_data"
    }
   ],
   "source": [
    "fig = sns.relplot(x=\"Year\", y=\"Accident_Index\", style=\"Casualty_Severity\",\n",
    "            palette=\"Blues_d\",\n",
    "            kind=\"line\",\n",
    "            data=df_casualties_change_by_year);\n",
    "\n",
    "fig.set(ylim=(0, 120), xticks=[2015,2016,2017,2018,2019], ylabel='% Change in Number of Casualities');"
   ]
  },
  {
   "cell_type": "markdown",
   "metadata": {},
   "source": [
    "## 2. How do the number of vehicles per accident and casualities per vehicle change?"
   ]
  },
  {
   "cell_type": "code",
   "execution_count": null,
   "metadata": {},
   "outputs": [],
   "source": [
    "# vehicles per accident"
   ]
  },
  {
   "cell_type": "code",
   "execution_count": null,
   "metadata": {},
   "outputs": [],
   "source": [
    "df_accidents.groupby(by='Year')['Number_of_Vehicles'].mean()"
   ]
  },
  {
   "cell_type": "code",
   "execution_count": null,
   "metadata": {},
   "outputs": [],
   "source": [
    "df_accidents.groupby(by='Year')['Number_of_Casualties'].mean()"
   ]
  },
  {
   "cell_type": "markdown",
   "metadata": {},
   "source": [
    "## 2. Are young drivers involved in more accidents?"
   ]
  },
  {
   "cell_type": "code",
   "execution_count": null,
   "metadata": {},
   "outputs": [],
   "source": [
    "# Drop records with missing age of driver\n",
    "df_vehicles_age = df_vehicles[df_vehicles['Age_of_Driver']>0]"
   ]
  },
  {
   "cell_type": "code",
   "execution_count": null,
   "metadata": {},
   "outputs": [],
   "source": [
    "sns.set(font_scale=1.1)\n",
    "sns.set_style(\"white\")\n",
    "fig = sns.displot(df_vehicles_age, x='Age_of_Driver', kind='hist', bins=list(range(0,110,5)), kde=True,\n",
    "              height=4, aspect=2)\n",
    "fig.set(xlim=(0, 110), xlabel=('Age'), xticks=list(range(0,110,10)))\n"
   ]
  },
  {
   "cell_type": "markdown",
   "metadata": {},
   "source": [
    "## 3. Are female drivers involved in more accidents then men?\n",
    "\n",
    "https://assets.publishing.service.gov.uk/government/uploads/system/uploads/attachment_data/file/905926/nts0206.ods"
   ]
  },
  {
   "cell_type": "code",
   "execution_count": null,
   "metadata": {},
   "outputs": [],
   "source": [
    "# Drop missing or unkown values\n",
    "df_vehicles_age_gender = df_vehicles_age[df_vehicles_age['Sex_of_Driver'].isin(['Male', 'Female'])]\n",
    "df_vehicles_age_gender['Sex_of_Driver'].cat.remove_unused_categories(inplace=True)\n",
    "\n",
    "df_vehicles_age_gender['Sex_of_Driver'].value_counts()"
   ]
  },
  {
   "cell_type": "code",
   "execution_count": null,
   "metadata": {},
   "outputs": [],
   "source": [
    "# Create Plot\n",
    "fig = sns.catplot(x=\"Sex_of_Driver\", kind=\"count\", data=df_vehicles_age_gender)\n",
    "fig.set_xlabels('Gender of Driver') # , fontsize=12"
   ]
  },
  {
   "cell_type": "code",
   "execution_count": null,
   "metadata": {},
   "outputs": [],
   "source": [
    "fig = sns.displot(df_vehicles_age_gender, x='Age_of_Driver', hue='Sex_of_Driver',\n",
    "                  kind='hist', bins=list(range(0,110,5)), kde=True, height=4, aspect=2)\n",
    "fig.set(xlim=(0, 110), xlabel=('Age'), xticks=list(range(0,110,10)))"
   ]
  },
  {
   "cell_type": "markdown",
   "metadata": {},
   "source": [
    "## 3a are any vehicles types more dangerous?"
   ]
  },
  {
   "cell_type": "code",
   "execution_count": 26,
   "metadata": {},
   "outputs": [],
   "source": [
    "# Needs vehicle type\n",
    "df_vehicles\n",
    "\n",
    "df_casualties_vehicles = df_casualties.merge(df_vehicles[['Accident_Index', 'Vehicle_Reference', 'Vehicle_Type']], on=['Accident_Index', 'Vehicle_Reference'], how='left')\n",
    "df_casualties_vehicles_roadtype = df_casualties_vehicles.merge(df_accidents[['Accident_Index', '1st_Road_Class']], on=['Accident_Index'], how='left')"
   ]
  },
  {
   "cell_type": "code",
   "execution_count": 28,
   "metadata": {},
   "outputs": [],
   "source": [
    "# Drop missing values from speed\n",
    "# df_casualties_vehicles_roadtype[df_casualties_vehicles_roadtype.isnull().any(axis=1)].head()\n",
    "# print(f'No of rows: {len(df_casualties_vehicles_roadtype)}')\n",
    "# print(f'No of rows with missing values: {df_casualties_vehicles_roadtype.isnull().any(axis=1).sum()}')\n",
    "# df_casualties_vehicles_roadtype.dropna(inplace=True)\n",
    "\n",
    "# nonpositivespeeds = df_casualties_vehicles_roadtype[df_casualties_vehicles_roadtype['Speed_limit']<=0]\n",
    "# print(f'No of rows with non-positive speed limit values: {len(nonpositivespeeds)}')\n",
    "# df_casualties_vehicles_roadtype.drop(nonpositivespeeds.index, inplace=True)\n",
    "# print(f'No of rows: {len(df_casualties_vehicles_roadtype)}')"
   ]
  },
  {
   "cell_type": "code",
   "execution_count": 29,
   "metadata": {},
   "outputs": [
    {
     "name": "stdout",
     "output_type": "stream",
     "text": [
      "852321\n",
      "851956\n"
     ]
    }
   ],
   "source": [
    "# drop missing values\n",
    "print(len(df_casualties_vehicles_roadtype))\n",
    "df_casualties_vehicles_roadtype = df_casualties_vehicles_roadtype[~(df_casualties_vehicles_roadtype[['Vehicle_Type','1st_Road_Class']].isin(['Data missing or out of range','Unkown']).any(axis=1))].copy()\n",
    "print(len(df_casualties_vehicles_roadtype))"
   ]
  },
  {
   "cell_type": "code",
   "execution_count": 39,
   "metadata": {},
   "outputs": [
    {
     "data": {
      "image/png": "[encoded data removed]",
      "text/plain": [
       "<Figure size 864x864 with 2 Axes>"
      ]
     },
     "metadata": {},
     "output_type": "display_data"
    }
   ],
   "source": [
    "# Calculate Killed and severly injured casulty proportions\n",
    "df_ksi_counts = df_casualties_vehicles_roadtype.value_counts(subset=['Vehicle_Type', '1st_Road_Class','Casualty_Severity']).unstack()\n",
    "df_ksi_props = df_ksi_counts[['Fatal', 'Serious']].sum(1) / df_ksi_counts.sum(axis=1)\n",
    "df_ksi_by_vehicle_roadtype=df_ksi_props.to_frame().unstack()\n",
    "df_ksi_by_vehicle_roadtype.columns=['Motorway','A(M)','A Road','B Road','C Road','Unclassified']\n",
    "\n",
    "sns.set(font_scale=0.9)\n",
    "f, ax = plt.subplots(figsize=(12, 12))\n",
    "sns.heatmap(df_ksi_by_vehicle_roadtype, annot=True, cmap='rocket_r',fmt='.2f',\n",
    "            square=True, linewidths=.5, ax=ax)\n",
    "\n",
    "ax.set(xlabel='Road Class', ylabel=\"Vehicle Type\");"
   ]
  },
  {
   "cell_type": "markdown",
   "metadata": {},
   "source": [
    "## 3b Are certain road types more dangerous?"
   ]
  },
  {
   "cell_type": "code",
   "execution_count": null,
   "metadata": {},
   "outputs": [],
   "source": [
    "#Create a heatmap, one axis will be speed limit,other roadtypes, the values will be KSI"
   ]
  },
  {
   "cell_type": "markdown",
   "metadata": {},
   "source": [
    "## 4. Are injuries more severe in certain weather conditions?"
   ]
  },
  {
   "cell_type": "code",
   "execution_count": null,
   "metadata": {},
   "outputs": [],
   "source": [
    "# Merge Accident condition columns to Casuality severities\n",
    "condition_cols = ['Light_Conditions', 'Weather_Conditions', 'Road_Surface_Conditions']\n",
    "df_casualties_conditions = df_casualties.merge(df_accidents[['Accident_Index'] + condition_cols], on='Accident_Index', how='left')"
   ]
  },
  {
   "cell_type": "code",
   "execution_count": null,
   "metadata": {},
   "outputs": [],
   "source": [
    "# drop missing values\n",
    "print(len(df_casualties_conditions))\n",
    "df_casualties_conditions = df_casualties_conditions[~(df_casualties_conditions[condition_cols].isin(['Data missing or out of range','Unkown']).any(axis=1))].copy()\n",
    "print(len(df_casualties_conditions))"
   ]
  },
  {
   "cell_type": "code",
   "execution_count": null,
   "metadata": {},
   "outputs": [],
   "source": [
    "# Calculate Killed and severly injured casulty proportions\n",
    "df_ksi_counts = df_casualties_conditions.value_counts(subset=condition_cols+['Casualty_Severity']).unstack()\n",
    "df_ksi_props = df_ksi_counts[['Fatal', 'Serious']].sum(1) / df_ksi_counts.sum(axis=1)\n",
    "\n",
    "df_ksi_props = df_ksi_props.to_frame().reset_index()\n",
    "df_ksi_props.rename(columns={0:'KSI'}, inplace=True)\n",
    "df_ksi_props = df_ksi_props.sort_values(by='KSI', ascending=False).reset_index(drop=True)\n",
    "df_ksi_props.head()"
   ]
  },
  {
   "cell_type": "code",
   "execution_count": null,
   "metadata": {},
   "outputs": [],
   "source": [
    "df_ksi_props['label'] = df_ksi_props[condition_cols].astype('str').agg('; '.join, axis=1)"
   ]
  },
  {
   "cell_type": "code",
   "execution_count": null,
   "metadata": {},
   "outputs": [],
   "source": [
    "plt.bar(height=df_ksi_props['KSI'], x=df_ksi_props.index, linewidth=0, width=1.0)\n",
    "\n",
    "# add the mean as a horisontal line and std as dotted."
   ]
  },
  {
   "cell_type": "code",
   "execution_count": null,
   "metadata": {},
   "outputs": [],
   "source": [
    "std = df_ksi_props.loc[df_ksi_props['KSI']>0, 'KSI'].describe()['std']\n",
    "mean =df_ksi_props.loc[df_ksi_props['KSI']>0, 'KSI'].describe()['mean']\n",
    "df_ksi_props_high = df_ksi_props[df_ksi_props['KSI']>=(mean+std)]\n",
    "\n",
    "plt.bar(height=df_ksi_props_high['KSI'], x=df_ksi_props_high['label'] , linewidth=0, width=1.0)"
   ]
  },
  {
   "cell_type": "code",
   "execution_count": null,
   "metadata": {},
   "outputs": [],
   "source": [
    "mean, std"
   ]
  },
  {
   "cell_type": "code",
   "execution_count": null,
   "metadata": {},
   "outputs": [],
   "source": [
    "df_ksi_props_encoded = df_ksi_props.copy()\n",
    "\n",
    "for col in condition_cols:\n",
    "    df_ksi_props_encoded[col] = df_ksi_props[col].cat.codes\n",
    "    \n",
    "df_ksi_props_encoded.head()"
   ]
  },
  {
   "cell_type": "code",
   "execution_count": null,
   "metadata": {},
   "outputs": [],
   "source": [
    "fig = px.parallel_coordinates(df_ksi_props_encoded,\n",
    "                              color=\"KSI\",\n",
    "                              dimensions=\n",
    "                              ['Light_Conditions','Weather_Conditions',\n",
    "                               'Road_Surface_Conditions','KSI'\n",
    "                              ],\n",
    "                              color_continuous_scale=px.colors.diverging.Tealrose,\n",
    "                              color_continuous_midpoint=0.25)\n",
    "fig.show()"
   ]
  },
  {
   "cell_type": "code",
   "execution_count": null,
   "metadata": {},
   "outputs": [],
   "source": [
    "light_dict"
   ]
  },
  {
   "cell_type": "code",
   "execution_count": null,
   "metadata": {},
   "outputs": [],
   "source": [
    "df_ksi_props_encoded = ['KSI'].hist()"
   ]
  },
  {
   "cell_type": "code",
   "execution_count": null,
   "metadata": {},
   "outputs": [],
   "source": [
    "bins = [0.0, 0.1, 0.2, 0.3, 0.4, 0.5, 1]\n",
    "labels = ['0-0.1', '0.1-0.2', '0.2-0.3', '0.3-0.4','0.4-0.5','0.5+']\n",
    "df_ksi_props['KSI_binned'] = pd.cut(df_ksi_props['KSI'], bins, include_lowest=True, labels=labels)\n",
    "\n",
    "df_ksi_props.head()"
   ]
  },
  {
   "cell_type": "code",
   "execution_count": null,
   "metadata": {},
   "outputs": [],
   "source": [
    "fig = px.parallel_categories(df_ksi_props, dimensions=condition_cols + ['KSI_binned'],\n",
    "                             color=\"KSI\",\n",
    "                             color_continuous_scale=px.colors.sequential.Inferno,\n",
    "                             #labels={'sex':'Payer sex', 'smoker':'Smokers at the table', 'day':'Day of week'}\n",
    "                            )\n",
    "fig.show()"
   ]
  },
  {
   "cell_type": "code",
   "execution_count": null,
   "metadata": {},
   "outputs": [],
   "source": [
    "import plotly.graph_objects as go\n",
    "\n",
    "df = pd.read_csv(\"https://raw.githubusercontent.com/bcdunbar/datasets/master/parcoords_data.csv\")\n",
    "\n",
    "fig = go.Figure(data=\n",
    "    go.Parcoords(\n",
    "        line = dict(color = df['colorVal'],\n",
    "                   colorscale = 'Electric',\n",
    "                   showscale = True,\n",
    "                   cmin = -4000,\n",
    "                   cmax = -100),\n",
    "        dimensions = list([\n",
    "            dict(range = [32000,227900],\n",
    "                 constraintrange = [100000,150000],\n",
    "                 label = \"Block Height\", values = df['blockHeight']),\n",
    "            dict(range = [0,700000],\n",
    "                 label = 'Block Width', values = df['blockWidth']),\n",
    "            dict(tickvals = [0,0.5,1,2,3],\n",
    "                 ticktext = ['A','AB','B','Y','Z'],\n",
    "                 label = 'Cyclinder Material', values = df['cycMaterial']),\n",
    "            dict(range = [-1,4],\n",
    "                 tickvals = [0,1,2,3],\n",
    "                 label = 'Block Material', values = df['blockMaterial']),\n",
    "            dict(range = [134,3154],\n",
    "                 visible = True,\n",
    "                 label = 'Total Weight', values = df['totalWeight']),\n",
    "            dict(range = [9,19984],\n",
    "                 label = 'Assembly Penalty Wt', values = df['assemblyPW']),\n",
    "            dict(range = [49000,568000],\n",
    "                 label = 'Height st Width', values = df['HstW'])])\n",
    "    )\n",
    ")\n",
    "fig.show()"
   ]
  },
  {
   "cell_type": "code",
   "execution_count": null,
   "metadata": {},
   "outputs": [],
   "source": [
    "df"
   ]
  },
  {
   "cell_type": "markdown",
   "metadata": {},
   "source": [
    "## https://datavizcatalogue.com/methods/parallel_coordinates.html\n",
    "\n",
    "# https://towardsdatascience.com/parallel-coordinates-plots-6fcfa066dcb3\n",
    "\n",
    "https://dataforvisualization.com/charts/parallel-sets-plot/#:~:text=Definition,higher%20value%20of%20that%20category.\n",
    "\n",
    "Slhoutte metriccs?\n",
    "\n",
    "https://towardsdatascience.com/silhouette-coefficient-validating-clustering-techniques-e976bb81d10c#:~:text=Silhouette%20Coefficient%20or%20silhouette%20score%20is%20a%20metric%20used%20to,each%20other%20and%20clearly%20distinguished.&text=a%3D%20average%20intra%2Dcluster%20distance,each%20point%20within%20a%20cluster."
   ]
  },
  {
   "cell_type": "code",
   "execution_count": null,
   "metadata": {},
   "outputs": [],
   "source": [
    "df_ksi_props[df_ksi_props['KSI']>0.3]"
   ]
  },
  {
   "cell_type": "code",
   "execution_count": null,
   "metadata": {},
   "outputs": [],
   "source": [
    "sns.set(font_scale=0.9)\n",
    "df_light_weather = df_ksi_props[df_ksi_props['Road_Surface_Conditions'].isnull()].pivot(values='KSI',\n",
    "                   index='Light_Conditions',\n",
    "                   columns='Weather_Conditions')\n",
    "\n",
    "sns.heatmap(df_light_weather, annot=True, cmap=\"YlGnBu\", vmin=0, vmax=1);"
   ]
  },
  {
   "cell_type": "code",
   "execution_count": null,
   "metadata": {},
   "outputs": [],
   "source": [
    "df_light_surface = df_ksi_props[df_ksi_props['Weather_Conditions'].isnull()].pivot(values='KSI',\n",
    "                   index='Light_Conditions',\n",
    "                   columns='Road_Surface_Conditions')\n",
    "\n",
    "sns.heatmap(df_light_surface, annot=True, cmap=\"YlGnBu\", vmin=0, vmax=1);"
   ]
  },
  {
   "cell_type": "code",
   "execution_count": null,
   "metadata": {},
   "outputs": [],
   "source": [
    "df_weather_surface = df_ksi_props[df_ksi_props['Light_Conditions'].isnull()].pivot(values='KSI',\n",
    "                   index='Weather_Conditions',\n",
    "                   columns='Road_Surface_Conditions')\n",
    "\n",
    "sns.heatmap(df_weather_surface, annot=True, cmap=\"YlGnBu\", vmin=0, vmax=1);"
   ]
  },
  {
   "cell_type": "markdown",
   "metadata": {},
   "source": [
    "## 5. can we find the worst accident hot spot locations?"
   ]
  },
  {
   "cell_type": "code",
   "execution_count": 40,
   "metadata": {},
   "outputs": [
    {
     "name": "stdout",
     "output_type": "stream",
     "text": [
      "852321\n",
      "131383\n",
      "131355\n"
     ]
    },
    {
     "data": {
      "image/png": "[encoded data removed]",
      "text/plain": [
       "<Figure size 432x288 with 1 Axes>"
      ]
     },
     "metadata": {},
     "output_type": "display_data"
    }
   ],
   "source": [
    "# Merge Coordinates to casualities\n",
    "casuality_cols = ['Accident_Index','Vehicle_Reference','Casualty_Reference','Casualty_Severity']\n",
    "coordinate_cols = ['Accident_Index','Location_Easting_OSGR', 'Location_Northing_OSGR', 'Longitude', 'Latitude']\n",
    "df_casualties_coords = df_casualties[casuality_cols].merge(df_accidents[coordinate_cols], on='Accident_Index', how='left')\n",
    "\n",
    "# Drop Slight Injuries\n",
    "print(len(df_casualties_coords))\n",
    "df_casualties_coords = df_casualties_coords[~(df_casualties_coords['Casualty_Severity']=='Slight')].copy()\n",
    "\n",
    "# Drop missing coordinates\n",
    "print(len(df_casualties_coords))\n",
    "df_casualties_coords = df_casualties_coords[~df_casualties_coords[['Location_Easting_OSGR','Location_Northing_OSGR']].isnull().any(axis=1)]\n",
    "\n",
    "# Convert DataFrame to array\n",
    "print(len(df_casualties_coords))\n",
    "casuality_array = df_casualties_coords.values\n",
    "\n",
    "# get the coordinates only\n",
    "X = np.array(casuality_array[:,4:6], dtype='int32')\n",
    "\n",
    "# Plot points for a visual checks\n",
    "sns.scatterplot(x=X[:,0], y=X[:,1])\n",
    "plt.axis('equal');"
   ]
  },
  {
   "cell_type": "markdown",
   "metadata": {},
   "source": [
    "### Set up DBSCAN\n",
    "Run multiple set of model fitting<br>\n",
    "for accidents with 500k points it took approx ~ 12 minutes<br>\n",
    "using only KSI (Killed and Seriously Injured Casuality), we have 131,355 points and it takes ~2min<br>"
   ]
  },
  {
   "cell_type": "code",
   "execution_count": 41,
   "metadata": {},
   "outputs": [
    {
     "name": "stdout",
     "output_type": "stream",
     "text": [
      "Clustering took: 4.31 minutes\n"
     ]
    }
   ],
   "source": [
    "# get relative density accidents/sqm\n",
    "start_time=time()\n",
    "\n",
    "df_cluster_stats = pd.DataFrame(columns=['eps', 'min_samples', 'No of Clusters', 'Max No of accidents', 'Max No Cluster No', 'Max Width', 'Max Width Cluster No','silhouette_score','Location_Easting_OSGR', 'Location_Northing_OSGR', 'Longitude', 'Latitude'])\n",
    "cnt=0\n",
    "\n",
    "for eps in range(5,71,5):\n",
    "    for min_sample in range(5,101,1):\n",
    "                \n",
    "        # Run DBSCAN\n",
    "        db = DBSCAN(eps=eps, min_samples=min_sample, n_jobs=12).fit(X)\n",
    "        labels = db.labels_\n",
    "        no_clusters = len(np.unique(labels))\n",
    "        \n",
    "        # Check if we have no Clusters\n",
    "        if no_clusters==1:\n",
    "            next\n",
    "            \n",
    "        else:\n",
    "            # merge cluster labels back\n",
    "            \n",
    "            this_label_col_name = 'Cluster No:'+str(eps) + '-' + str(min_sample)\n",
    "            \n",
    "            df_casualties_coords[this_label_col_name] = labels\n",
    "            df_accidents_coords_cluster = df_casualties_coords[df_casualties_coords[this_label_col_name]>(-1)].copy()\n",
    "            \n",
    "            # Silhouette Score\n",
    "            # Silhouette\n",
    "            if no_clusters<=2:\n",
    "                silhouette_value = np.nan\n",
    "            else:\n",
    "                silhouette_value = silhouette_score(df_accidents_coords_cluster[['Location_Easting_OSGR', 'Location_Northing_OSGR']], df_accidents_coords_cluster[this_label_col_name])\n",
    "            \n",
    "            # Maximum number of accidents\n",
    "            max_acc = df_accidents_coords_cluster[this_label_col_name].value_counts()\n",
    "            max_acc_no = max_acc.max()\n",
    "            max_acc_cluster_no = max_acc.idxmax()    \n",
    "         \n",
    "            # Get the centroids of clusters\n",
    "            df_cluster_centroid = df_accidents_coords_cluster.groupby(by=[this_label_col_name])[['Location_Easting_OSGR', 'Location_Northing_OSGR', 'Longitude', 'Latitude']].mean()\n",
    "            coord_list = df_cluster_centroid.loc[max_acc_cluster_no, ['Location_Easting_OSGR','Location_Northing_OSGR','Longitude','Latitude']].tolist()\n",
    "            \n",
    "            # get distance between furthest points \n",
    "            xy_max = df_accidents_coords_cluster.groupby(by=[this_label_col_name])[['Location_Easting_OSGR','Location_Northing_OSGR']].max()\n",
    "            xy_min = df_accidents_coords_cluster.groupby(by=[this_label_col_name])[['Location_Easting_OSGR','Location_Northing_OSGR']].min()\n",
    "            xy_delta = ((xy_max - xy_min))**2\n",
    "\n",
    "            # Get the distance, increased by eps/2 to deal with nodes placed on top of each other\n",
    "            df_cluster_centroid['Width'] = np.sqrt(xy_delta.sum(axis=1))+eps/2\n",
    "\n",
    "            # Max distance and the cluster id \n",
    "            max_distance = df_cluster_centroid['Width'].max()\n",
    "            max_distance_no = df_cluster_centroid['Width'].idxmax()          \n",
    "        \n",
    "        # Populate output\n",
    "        df_cluster_stats.loc[cnt, :] = [eps, min_sample, no_clusters, max_acc_no, max_acc_cluster_no,max_distance,max_distance_no,silhouette_value] + coord_list\n",
    "\n",
    "        cnt+=1\n",
    "        \n",
    "elapsed_time = time() - start_time\n",
    "print('Clustering took: {:.2f} minutes'.format(elapsed_time/60))"
   ]
  },
  {
   "cell_type": "code",
   "execution_count": 42,
   "metadata": {},
   "outputs": [],
   "source": [
    "df_cluster_stats_w_clusters = df_cluster_stats[df_cluster_stats['No of Clusters']>1]"
   ]
  },
  {
   "cell_type": "code",
   "execution_count": 43,
   "metadata": {},
   "outputs": [
    {
     "data": {
      "text/html": [
       "<div>\n",
       "<style scoped>\n",
       "    .dataframe tbody tr th:only-of-type {\n",
       "        vertical-align: middle;\n",
       "    }\n",
       "\n",
       "    .dataframe tbody tr th {\n",
       "        vertical-align: top;\n",
       "    }\n",
       "\n",
       "    .dataframe thead th {\n",
       "        text-align: right;\n",
       "    }\n",
       "</style>\n",
       "<table border=\"1\" class=\"dataframe\">\n",
       "  <thead>\n",
       "    <tr style=\"text-align: right;\">\n",
       "      <th></th>\n",
       "      <th>eps</th>\n",
       "      <th>min_samples</th>\n",
       "      <th>No of Clusters</th>\n",
       "      <th>Max No of accidents</th>\n",
       "      <th>Max No Cluster No</th>\n",
       "      <th>Max Width</th>\n",
       "      <th>Max Width Cluster No</th>\n",
       "      <th>silhouette_score</th>\n",
       "      <th>Location_Easting_OSGR</th>\n",
       "      <th>Location_Northing_OSGR</th>\n",
       "      <th>Longitude</th>\n",
       "      <th>Latitude</th>\n",
       "    </tr>\n",
       "  </thead>\n",
       "  <tbody>\n",
       "    <tr>\n",
       "      <th>0</th>\n",
       "      <td>5</td>\n",
       "      <td>5</td>\n",
       "      <td>278</td>\n",
       "      <td>15</td>\n",
       "      <td>39</td>\n",
       "      <td>15.9536</td>\n",
       "      <td>61</td>\n",
       "      <td>0.999587</td>\n",
       "      <td>533382</td>\n",
       "      <td>275288</td>\n",
       "      <td>-0.0427191</td>\n",
       "      <td>52.3594</td>\n",
       "    </tr>\n",
       "    <tr>\n",
       "      <th>1</th>\n",
       "      <td>5</td>\n",
       "      <td>6</td>\n",
       "      <td>118</td>\n",
       "      <td>15</td>\n",
       "      <td>16</td>\n",
       "      <td>11.9868</td>\n",
       "      <td>28</td>\n",
       "      <td>0.999351</td>\n",
       "      <td>533382</td>\n",
       "      <td>275288</td>\n",
       "      <td>-0.0427191</td>\n",
       "      <td>52.3594</td>\n",
       "    </tr>\n",
       "    <tr>\n",
       "      <th>2</th>\n",
       "      <td>5</td>\n",
       "      <td>7</td>\n",
       "      <td>54</td>\n",
       "      <td>15</td>\n",
       "      <td>7</td>\n",
       "      <td>11.9868</td>\n",
       "      <td>40</td>\n",
       "      <td>0.998909</td>\n",
       "      <td>533382</td>\n",
       "      <td>275288</td>\n",
       "      <td>-0.0427191</td>\n",
       "      <td>52.3594</td>\n",
       "    </tr>\n",
       "    <tr>\n",
       "      <th>3</th>\n",
       "      <td>5</td>\n",
       "      <td>8</td>\n",
       "      <td>28</td>\n",
       "      <td>15</td>\n",
       "      <td>5</td>\n",
       "      <td>9.7111</td>\n",
       "      <td>5</td>\n",
       "      <td>0.99998</td>\n",
       "      <td>533382</td>\n",
       "      <td>275288</td>\n",
       "      <td>-0.0427191</td>\n",
       "      <td>52.3594</td>\n",
       "    </tr>\n",
       "    <tr>\n",
       "      <th>4</th>\n",
       "      <td>5</td>\n",
       "      <td>9</td>\n",
       "      <td>20</td>\n",
       "      <td>15</td>\n",
       "      <td>2</td>\n",
       "      <td>9.7111</td>\n",
       "      <td>2</td>\n",
       "      <td>0.999983</td>\n",
       "      <td>533382</td>\n",
       "      <td>275288</td>\n",
       "      <td>-0.0427191</td>\n",
       "      <td>52.3594</td>\n",
       "    </tr>\n",
       "  </tbody>\n",
       "</table>\n",
       "</div>"
      ],
      "text/plain": [
       "  eps min_samples No of Clusters Max No of accidents Max No Cluster No  \\\n",
       "0   5           5            278                  15                39   \n",
       "1   5           6            118                  15                16   \n",
       "2   5           7             54                  15                 7   \n",
       "3   5           8             28                  15                 5   \n",
       "4   5           9             20                  15                 2   \n",
       "\n",
       "  Max Width Max Width Cluster No silhouette_score Location_Easting_OSGR  \\\n",
       "0   15.9536                   61         0.999587                533382   \n",
       "1   11.9868                   28         0.999351                533382   \n",
       "2   11.9868                   40         0.998909                533382   \n",
       "3    9.7111                    5          0.99998                533382   \n",
       "4    9.7111                    2         0.999983                533382   \n",
       "\n",
       "  Location_Northing_OSGR  Longitude Latitude  \n",
       "0                 275288 -0.0427191  52.3594  \n",
       "1                 275288 -0.0427191  52.3594  \n",
       "2                 275288 -0.0427191  52.3594  \n",
       "3                 275288 -0.0427191  52.3594  \n",
       "4                 275288 -0.0427191  52.3594  "
      ]
     },
     "execution_count": 43,
     "metadata": {},
     "output_type": "execute_result"
    }
   ],
   "source": [
    "df_cluster_stats_w_clusters.head()"
   ]
  },
  {
   "cell_type": "code",
   "execution_count": 45,
   "metadata": {
    "scrolled": true
   },
   "outputs": [
    {
     "data": {
      "application/vnd.plotly.v1+json": {
       "config": {
        "plotlyServerURL": "https://plotly.com"
       },
       "data": [
        {
         "customdata": [
          [
           5,
           5,
           0.9995872865086187
          ],
          [
           10,
           5,
           0.9971874503731434
          ],
          [
           15,
           5,
           0.9922621136239658
          ],
          [
           20,
           5,
           0.9882547222969096
          ],
          [
           25,
           5,
           0.9858966459298452
          ],
          [
           30,
           5,
           0.979976168736606
          ],
          [
           35,
           5,
           0.9737466933365185
          ],
          [
           40,
           5,
           0.9611198863578547
          ],
          [
           45,
           5,
           0.946314475100618
          ],
          [
           50,
           5,
           0.9393296179595058
          ],
          [
           55,
           5,
           0.932288502867258
          ],
          [
           60,
           5,
           0.9187525789103288
          ],
          [
           65,
           5,
           0.9021393992313824
          ],
          [
           70,
           5,
           0.8946536688289521
          ]
         ],
         "hovertemplate": "<b>%{hovertext}</b><br><br>min_samples=%{customdata[1]}<br>Max Width=%{x}<br>No of Clusters=%{y}<br>eps=%{customdata[0]}<br>silhouette_score=%{customdata[2]}<extra></extra>",
         "hovertext": [
          5,
          5,
          5,
          5,
          5,
          5,
          5,
          5,
          5,
          5,
          5,
          5,
          5,
          5
         ],
         "legendgroup": "5",
         "line": {
          "color": "#636efa",
          "dash": "solid"
         },
         "mode": "lines",
         "name": "5",
         "orientation": "v",
         "showlegend": true,
         "type": "scatter",
         "x": [
          15.95362404707371,
          35.14962686336267,
          48.73105625617661,
          71.39218191268331,
          90.1659513557904,
          117.59142264341595,
          180.47545827516484,
          235.40659228538016,
          237.90659228538016,
          291.8332812825267,
          318.95497079308836,
          392.59205727649356,
          737.8906718974954,
          740.3906718974954
         ],
         "xaxis": "x",
         "y": [
          278,
          381,
          458,
          524,
          576,
          650,
          719,
          811,
          896,
          956,
          1015,
          1087,
          1177,
          1258
         ],
         "yaxis": "y"
        },
        {
         "customdata": [
          [
           5,
           6,
           0.9993513377410679
          ],
          [
           10,
           6,
           0.9971705544993268
          ],
          [
           15,
           6,
           0.9955101748178743
          ],
          [
           20,
           6,
           0.9863435765895244
          ],
          [
           25,
           6,
           0.9836742553879552
          ],
          [
           30,
           6,
           0.9777874367500443
          ],
          [
           35,
           6,
           0.9738447811339045
          ],
          [
           40,
           6,
           0.9654577733275085
          ],
          [
           45,
           6,
           0.9548466681960127
          ],
          [
           50,
           6,
           0.9426783362611451
          ],
          [
           55,
           6,
           0.9316408687760628
          ],
          [
           60,
           6,
           0.9155130601994657
          ],
          [
           65,
           6,
           0.9069357491165385
          ],
          [
           70,
           6,
           0.8896388605266818
          ]
         ],
         "hovertemplate": "<b>%{hovertext}</b><br><br>min_samples=%{customdata[1]}<br>Max Width=%{x}<br>No of Clusters=%{y}<br>eps=%{customdata[0]}<br>silhouette_score=%{customdata[2]}<extra></extra>",
         "hovertext": [
          6,
          6,
          6,
          6,
          6,
          6,
          6,
          6,
          6,
          6,
          6,
          6,
          6,
          6
         ],
         "legendgroup": "6",
         "line": {
          "color": "#EF553B",
          "dash": "solid"
         },
         "mode": "lines",
         "name": "6",
         "orientation": "v",
         "showlegend": true,
         "type": "scatter",
         "x": [
          11.986832980505138,
          31.92582403567252,
          43.55551275463989,
          61.66236541235796,
          83.61961754677819,
          109.93682109698007,
          135.50423721205948,
          212.5123372669918,
          215.0123372669918,
          240.40659228538016,
          279.753840406841,
          353.4439673266453,
          457.5,
          740.3906718974954
         ],
         "xaxis": "x",
         "y": [
          118,
          153,
          182,
          221,
          258,
          293,
          326,
          369,
          410,
          458,
          505,
          543,
          593,
          645
         ],
         "yaxis": "y"
        },
        {
         "customdata": [
          [
           5,
           7,
           0.9989089834575896
          ],
          [
           10,
           7,
           0.9958530894134561
          ],
          [
           15,
           7,
           0.9946455226952478
          ],
          [
           20,
           7,
           0.9892471323501175
          ],
          [
           25,
           7,
           0.9866009095011211
          ],
          [
           30,
           7,
           0.9787174686076714
          ],
          [
           35,
           7,
           0.9751259249519778
          ],
          [
           40,
           7,
           0.9708391246936916
          ],
          [
           45,
           7,
           0.9560165975182013
          ],
          [
           50,
           7,
           0.9441635947158914
          ],
          [
           55,
           7,
           0.9313840900083894
          ],
          [
           60,
           7,
           0.9182945949010624
          ],
          [
           65,
           7,
           0.9088302792734545
          ],
          [
           70,
           7,
           0.8978572413093437
          ]
         ],
         "hovertemplate": "<b>%{hovertext}</b><br><br>min_samples=%{customdata[1]}<br>Max Width=%{x}<br>No of Clusters=%{y}<br>eps=%{customdata[0]}<br>silhouette_score=%{customdata[2]}<extra></extra>",
         "hovertext": [
          7,
          7,
          7,
          7,
          7,
          7,
          7,
          7,
          7,
          7,
          7,
          7,
          7,
          7
         ],
         "legendgroup": "7",
         "line": {
          "color": "#00cc96",
          "dash": "solid"
         },
         "mode": "lines",
         "name": "7",
         "orientation": "v",
         "showlegend": true,
         "type": "scatter",
         "x": [
          11.986832980505138,
          29.839484696748443,
          41.70526275297414,
          54.27188724235731,
          75.63477647065838,
          100.44003745317531,
          115.98857801796105,
          182.97545827516484,
          185.47545827516484,
          218.58202395883765,
          231.6298606279836,
          270.41630560342617,
          366.3622470420997,
          455.1071291944473
         ],
         "xaxis": "x",
         "y": [
          54,
          67,
          84,
          103,
          122,
          140,
          154,
          166,
          197,
          225,
          260,
          280,
          319,
          345
         ],
         "yaxis": "y"
        },
        {
         "customdata": [
          [
           5,
           8,
           0.9999796568300795
          ],
          [
           10,
           8,
           0.9999136909648332
          ],
          [
           15,
           8,
           0.9994338925314783
          ],
          [
           20,
           8,
           0.9987166578865375
          ],
          [
           25,
           8,
           0.9949839357053321
          ],
          [
           30,
           8,
           0.9926234909160285
          ],
          [
           35,
           8,
           0.9805029464018041
          ],
          [
           40,
           8,
           0.9753999334400969
          ],
          [
           45,
           8,
           0.9656967028020497
          ],
          [
           50,
           8,
           0.9598561746677284
          ],
          [
           55,
           8,
           0.9414191793688227
          ],
          [
           60,
           8,
           0.9226575371731864
          ],
          [
           65,
           8,
           0.9139949109195373
          ],
          [
           70,
           8,
           0.8999026127930833
          ]
         ],
         "hovertemplate": "<b>%{hovertext}</b><br><br>min_samples=%{customdata[1]}<br>Max Width=%{x}<br>No of Clusters=%{y}<br>eps=%{customdata[0]}<br>silhouette_score=%{customdata[2]}<extra></extra>",
         "hovertext": [
          8,
          8,
          8,
          8,
          8,
          8,
          8,
          8,
          8,
          8,
          8,
          8,
          8,
          8
         ],
         "legendgroup": "8",
         "line": {
          "color": "#ab63fa",
          "dash": "solid"
         },
         "mode": "lines",
         "name": "8",
         "orientation": "v",
         "showlegend": true,
         "type": "scatter",
         "x": [
          9.71110255092798,
          29.839484696748443,
          35.7842712474619,
          50.311288741492746,
          75.63477647065838,
          95.43009387039157,
          115.98857801796105,
          130.42191811411357,
          162.02060779684126,
          218.58202395883765,
          221.08202395883765,
          270.41630560342617,
          366.3622470420997,
          455.1071291944473
         ],
         "xaxis": "x",
         "y": [
          28,
          35,
          40,
          46,
          57,
          69,
          85,
          92,
          107,
          120,
          140,
          156,
          176,
          195
         ],
         "yaxis": "y"
        },
        {
         "customdata": [
          [
           5,
           9,
           0.9999831885118782
          ],
          [
           10,
           9,
           0.9999768294040405
          ],
          [
           15,
           9,
           0.999967258945661
          ],
          [
           20,
           9,
           0.999799324029813
          ],
          [
           25,
           9,
           0.9966456264286041
          ],
          [
           30,
           9,
           0.9940689327893878
          ],
          [
           35,
           9,
           0.9870601025112612
          ],
          [
           40,
           9,
           0.9842572690137753
          ],
          [
           45,
           9,
           0.9711660445059258
          ],
          [
           50,
           9,
           0.9564435912407646
          ],
          [
           55,
           9,
           0.95107638115968
          ],
          [
           60,
           9,
           0.9383001581929514
          ],
          [
           65,
           9,
           0.9174041051837598
          ],
          [
           70,
           9,
           0.9000186011450083
          ]
         ],
         "hovertemplate": "<b>%{hovertext}</b><br><br>min_samples=%{customdata[1]}<br>Max Width=%{x}<br>No of Clusters=%{y}<br>eps=%{customdata[0]}<br>silhouette_score=%{customdata[2]}<extra></extra>",
         "hovertext": [
          9,
          9,
          9,
          9,
          9,
          9,
          9,
          9,
          9,
          9,
          9,
          9,
          9,
          9
         ],
         "legendgroup": "9",
         "line": {
          "color": "#FFA15A",
          "dash": "solid"
         },
         "mode": "lines",
         "name": "9",
         "orientation": "v",
         "showlegend": true,
         "type": "scatter",
         "x": [
          9.71110255092798,
          25,
          33.112496949731394,
          50.311288741492746,
          75.63477647065838,
          95.43009387039157,
          115.98857801796105,
          118.48857801796105,
          146.1931687685298,
          218.58202395883765,
          221.08202395883765,
          243.3541656495134,
          366.3622470420997,
          368.8622470420997
         ],
         "xaxis": "x",
         "y": [
          20,
          21,
          23,
          25,
          32,
          37,
          48,
          51,
          60,
          69,
          74,
          91,
          101,
          112
         ],
         "yaxis": "y"
        },
        {
         "customdata": [
          [
           5,
           10,
           0.999981959063486
          ],
          [
           10,
           10,
           0.9999738599356014
          ],
          [
           15,
           10,
           0.9999691821471598
          ],
          [
           20,
           10,
           0.9999471199112269
          ],
          [
           25,
           10,
           0.9999013825878
          ],
          [
           30,
           10,
           0.9972876866015679
          ],
          [
           35,
           10,
           0.9966467627538552
          ],
          [
           40,
           10,
           0.994604110224691
          ],
          [
           45,
           10,
           0.9825824075001076
          ],
          [
           50,
           10,
           0.9689580898520828
          ],
          [
           55,
           10,
           0.9568401711239921
          ],
          [
           60,
           10,
           0.9276597907448747
          ],
          [
           65,
           10,
           0.915860198455243
          ],
          [
           70,
           10,
           0.9114598476032726
          ]
         ],
         "hovertemplate": "<b>%{hovertext}</b><br><br>min_samples=%{customdata[1]}<br>Max Width=%{x}<br>No of Clusters=%{y}<br>eps=%{customdata[0]}<br>silhouette_score=%{customdata[2]}<extra></extra>",
         "hovertext": [
          10,
          10,
          10,
          10,
          10,
          10,
          10,
          10,
          10,
          10,
          10,
          10,
          10,
          10
         ],
         "legendgroup": "10",
         "line": {
          "color": "#19d3f3",
          "dash": "solid"
         },
         "mode": "lines",
         "name": "10",
         "orientation": "v",
         "showlegend": true,
         "type": "scatter",
         "x": [
          9.71110255092798,
          25,
          33.112496949731394,
          50.311288741492746,
          75.63477647065838,
          78.13477647065838,
          115.98857801796105,
          118.48857801796105,
          126.24005976477939,
          218.58202395883765,
          221.08202395883765,
          240.34495477667156,
          269.2129062810053,
          317.3118842698621
         ],
         "xaxis": "x",
         "y": [
          11,
          13,
          14,
          14,
          15,
          17,
          20,
          24,
          31,
          37,
          44,
          49,
          57,
          67
         ],
         "yaxis": "y"
        },
        {
         "customdata": [
          [
           5,
           11,
           0.9999844712878293
          ],
          [
           10,
           11,
           0.9999844712878293
          ],
          [
           15,
           11,
           0.9999770356670341
          ],
          [
           20,
           11,
           0.9999495115227759
          ],
          [
           25,
           11,
           0.9999495115227759
          ],
          [
           30,
           11,
           0.9998785445778471
          ],
          [
           35,
           11,
           0.9992195787867073
          ],
          [
           40,
           11,
           0.9974712201017741
          ],
          [
           45,
           11,
           0.9870696155727237
          ],
          [
           50,
           11,
           0.9869124711219508
          ],
          [
           55,
           11,
           0.9686836412174847
          ],
          [
           60,
           11,
           0.9446025540433034
          ],
          [
           65,
           11,
           0.9189811376974418
          ],
          [
           70,
           11,
           0.915884593105262
          ]
         ],
         "hovertemplate": "<b>%{hovertext}</b><br><br>min_samples=%{customdata[1]}<br>Max Width=%{x}<br>No of Clusters=%{y}<br>eps=%{customdata[0]}<br>silhouette_score=%{customdata[2]}<extra></extra>",
         "hovertext": [
          11,
          11,
          11,
          11,
          11,
          11,
          11,
          11,
          11,
          11,
          11,
          11,
          11,
          11
         ],
         "legendgroup": "11",
         "line": {
          "color": "#FF6692",
          "dash": "solid"
         },
         "mode": "lines",
         "name": "11",
         "orientation": "v",
         "showlegend": true,
         "type": "scatter",
         "x": [
          9.71110255092798,
          12.21110255092798,
          33.112496949731394,
          50.311288741492746,
          52.811288741492746,
          78.13477647065838,
          101.23768566183328,
          103.73768566183328,
          126.24005976477939,
          218.58202395883765,
          221.08202395883765,
          240.34495477667156,
          269.2129062810053,
          271.7129062810053
         ],
         "xaxis": "x",
         "y": [
          7,
          7,
          8,
          9,
          9,
          10,
          11,
          13,
          18,
          22,
          25,
          30,
          38,
          41
         ],
         "yaxis": "y"
        },
        {
         "customdata": [
          [
           5,
           12,
           0.9999844712878293
          ],
          [
           10,
           12,
           0.9999844712878293
          ],
          [
           15,
           12,
           0.9999770356670341
          ],
          [
           20,
           12,
           0.9999511774800539
          ],
          [
           25,
           12,
           0.9999511774800539
          ],
          [
           30,
           12,
           0.9998732678891208
          ],
          [
           35,
           12,
           0.9998732678891208
          ],
          [
           40,
           12,
           0.9990494046728984
          ],
          [
           45,
           12,
           0.9968709431546248
          ],
          [
           50,
           12,
           0.9869036425531843
          ],
          [
           55,
           12,
           0.9683420908353125
          ],
          [
           60,
           12,
           0.9623708664388816
          ],
          [
           65,
           12,
           0.9369286770879164
          ],
          [
           70,
           12,
           0.9320860322882385
          ]
         ],
         "hovertemplate": "<b>%{hovertext}</b><br><br>min_samples=%{customdata[1]}<br>Max Width=%{x}<br>No of Clusters=%{y}<br>eps=%{customdata[0]}<br>silhouette_score=%{customdata[2]}<extra></extra>",
         "hovertext": [
          12,
          12,
          12,
          12,
          12,
          12,
          12,
          12,
          12,
          12,
          12,
          12,
          12,
          12
         ],
         "legendgroup": "12",
         "line": {
          "color": "#B6E880",
          "dash": "solid"
         },
         "mode": "lines",
         "name": "12",
         "orientation": "v",
         "showlegend": true,
         "type": "scatter",
         "x": [
          9.71110255092798,
          12.21110255092798,
          33.112496949731394,
          50.311288741492746,
          52.811288741492746,
          78.13477647065838,
          80.63477647065838,
          100.43009387039157,
          126.24005976477939,
          174.8966310495336,
          183.2080601638849,
          240.34495477667156,
          269.2129062810053,
          271.7129062810053
         ],
         "xaxis": "x",
         "y": [
          7,
          7,
          8,
          8,
          8,
          9,
          9,
          10,
          12,
          14,
          20,
          20,
          23,
          27
         ],
         "yaxis": "y"
        },
        {
         "customdata": [
          [
           5,
           13,
           0.9999828951849238
          ],
          [
           10,
           13,
           0.9999828951849238
          ],
          [
           15,
           13,
           0.9999828951849238
          ],
          [
           20,
           13,
           0.9999548493603858
          ],
          [
           25,
           13,
           0.9999476540031598
          ],
          [
           30,
           13,
           0.9999210032786152
          ],
          [
           35,
           13,
           0.9999210032786152
          ],
          [
           40,
           13,
           0.9998467266026453
          ],
          [
           45,
           13,
           0.9998343442492433
          ],
          [
           50,
           13,
           0.9986737746860667
          ],
          [
           55,
           13,
           0.9790450392752301
          ],
          [
           60,
           13,
           0.9782158861004224
          ],
          [
           65,
           13,
           0.9753982671168704
          ],
          [
           70,
           13,
           0.9639241326645395
          ]
         ],
         "hovertemplate": "<b>%{hovertext}</b><br><br>min_samples=%{customdata[1]}<br>Max Width=%{x}<br>No of Clusters=%{y}<br>eps=%{customdata[0]}<br>silhouette_score=%{customdata[2]}<extra></extra>",
         "hovertext": [
          13,
          13,
          13,
          13,
          13,
          13,
          13,
          13,
          13,
          13,
          13,
          13,
          13,
          13
         ],
         "legendgroup": "13",
         "line": {
          "color": "#FF97FF",
          "dash": "solid"
         },
         "mode": "lines",
         "name": "13",
         "orientation": "v",
         "showlegend": true,
         "type": "scatter",
         "x": [
          9.71110255092798,
          12.21110255092798,
          14.71110255092798,
          28.35755975068582,
          52.811288741492746,
          78.13477647065838,
          80.63477647065838,
          100.43009387039157,
          126.24005976477939,
          174.8966310495336,
          183.2080601638849,
          185.7080601638849,
          234.1035713969373,
          245.34495477667156
         ],
         "xaxis": "x",
         "y": [
          5,
          5,
          5,
          6,
          7,
          7,
          7,
          8,
          8,
          10,
          12,
          13,
          15,
          19
         ],
         "yaxis": "y"
        },
        {
         "customdata": [
          [
           5,
           14,
           0.9999828951849238
          ],
          [
           10,
           14,
           0.9999828951849238
          ],
          [
           15,
           14,
           0.9999828951849238
          ],
          [
           20,
           14,
           0.9999548493603858
          ],
          [
           25,
           14,
           0.9999548493603858
          ],
          [
           30,
           14,
           0.9999548493603858
          ],
          [
           35,
           14,
           0.9999245267995179
          ],
          [
           40,
           14,
           0.9999210032786152
          ],
          [
           45,
           14,
           0.9998343442492433
          ],
          [
           50,
           14,
           0.9997719480229208
          ],
          [
           55,
           14,
           0.9997385441484559
          ],
          [
           60,
           14,
           0.9997385441484559
          ],
          [
           65,
           14,
           0.9912813296960142
          ],
          [
           70,
           14,
           0.9903538923596759
          ]
         ],
         "hovertemplate": "<b>%{hovertext}</b><br><br>min_samples=%{customdata[1]}<br>Max Width=%{x}<br>No of Clusters=%{y}<br>eps=%{customdata[0]}<br>silhouette_score=%{customdata[2]}<extra></extra>",
         "hovertext": [
          14,
          14,
          14,
          14,
          14,
          14,
          14,
          14,
          14,
          14,
          14,
          14,
          14,
          14
         ],
         "legendgroup": "14",
         "line": {
          "color": "#FECB52",
          "dash": "solid"
         },
         "mode": "lines",
         "name": "14",
         "orientation": "v",
         "showlegend": true,
         "type": "scatter",
         "x": [
          9.71110255092798,
          12.21110255092798,
          14.71110255092798,
          28.35755975068582,
          30.85755975068582,
          33.35755975068582,
          78.40155991434045,
          83.13477647065838,
          126.24005976477939,
          143.00423721205948,
          183.2080601638849,
          185.7080601638849,
          234.1035713969373,
          239.83163818121457
         ],
         "xaxis": "x",
         "y": [
          5,
          5,
          5,
          6,
          6,
          6,
          7,
          7,
          8,
          9,
          9,
          9,
          12,
          12
         ],
         "yaxis": "y"
        },
        {
         "customdata": [
          [
           5,
           15,
           null
          ],
          [
           10,
           15,
           null
          ],
          [
           15,
           15,
           null
          ],
          [
           20,
           15,
           0.9999247442538691
          ],
          [
           25,
           15,
           0.9999247442538691
          ],
          [
           30,
           15,
           0.9999247442538691
          ],
          [
           35,
           15,
           0.9998794899452637
          ],
          [
           40,
           15,
           0.9998748308524122
          ],
          [
           45,
           15,
           0.9998748308524122
          ],
          [
           50,
           15,
           0.9997313387455228
          ],
          [
           55,
           15,
           0.999651273195415
          ],
          [
           60,
           15,
           0.999651273195415
          ],
          [
           65,
           15,
           0.9996077725598824
          ],
          [
           70,
           15,
           0.985220756556462
          ]
         ],
         "hovertemplate": "<b>%{hovertext}</b><br><br>min_samples=%{customdata[1]}<br>Max Width=%{x}<br>No of Clusters=%{y}<br>eps=%{customdata[0]}<br>silhouette_score=%{customdata[2]}<extra></extra>",
         "hovertext": [
          15,
          15,
          15,
          15,
          15,
          15,
          15,
          15,
          15,
          15,
          15,
          15,
          15,
          15
         ],
         "legendgroup": "15",
         "line": {
          "color": "#636efa",
          "dash": "solid"
         },
         "mode": "lines",
         "name": "15",
         "orientation": "v",
         "showlegend": true,
         "type": "scatter",
         "x": [
          9.71110255092798,
          12.21110255092798,
          14.71110255092798,
          28.35755975068582,
          30.85755975068582,
          33.35755975068582,
          78.40155991434045,
          83.13477647065838,
          85.63477647065838,
          135.1135777277262,
          183.2080601638849,
          185.7080601638849,
          234.1035713969373,
          239.83163818121457
         ],
         "xaxis": "x",
         "y": [
          2,
          2,
          2,
          3,
          3,
          3,
          4,
          4,
          4,
          5,
          5,
          5,
          5,
          7
         ],
         "yaxis": "y"
        },
        {
         "customdata": [
          [
           20,
           16,
           null
          ],
          [
           25,
           16,
           null
          ],
          [
           30,
           16,
           null
          ],
          [
           35,
           16,
           0.9998713329031631
          ],
          [
           40,
           16,
           0.9998651853698317
          ],
          [
           45,
           16,
           0.9998651853698317
          ],
          [
           50,
           16,
           0.9998651853698317
          ],
          [
           55,
           16,
           0.9995723320013665
          ],
          [
           60,
           16,
           0.9995723320013665
          ],
          [
           65,
           16,
           0.9995469372332658
          ],
          [
           70,
           16,
           0.9995003253562851
          ]
         ],
         "hovertemplate": "<b>%{hovertext}</b><br><br>min_samples=%{customdata[1]}<br>Max Width=%{x}<br>No of Clusters=%{y}<br>eps=%{customdata[0]}<br>silhouette_score=%{customdata[2]}<extra></extra>",
         "hovertext": [
          16,
          16,
          16,
          16,
          16,
          16,
          16,
          16,
          16,
          16,
          16
         ],
         "legendgroup": "16",
         "line": {
          "color": "#EF553B",
          "dash": "solid"
         },
         "mode": "lines",
         "name": "16",
         "orientation": "v",
         "showlegend": true,
         "type": "scatter",
         "x": [
          28.35755975068582,
          30.85755975068582,
          33.35755975068582,
          78.40155991434045,
          83.13477647065838,
          85.63477647065838,
          88.13477647065838,
          183.2080601638849,
          185.7080601638849,
          188.2080601638849,
          203.57639217873896
         ],
         "xaxis": "x",
         "y": [
          2,
          2,
          2,
          3,
          3,
          3,
          3,
          4,
          4,
          4,
          4
         ],
         "yaxis": "y"
        },
        {
         "customdata": [
          [
           35,
           17,
           null
          ],
          [
           40,
           17,
           null
          ],
          [
           45,
           17,
           null
          ],
          [
           50,
           17,
           null
          ],
          [
           55,
           17,
           0.9994393331251136
          ],
          [
           60,
           17,
           0.9994393331251136
          ],
          [
           65,
           17,
           0.9994072704825377
          ],
          [
           70,
           17,
           0.9993498094611205
          ]
         ],
         "hovertemplate": "<b>%{hovertext}</b><br><br>min_samples=%{customdata[1]}<br>Max Width=%{x}<br>No of Clusters=%{y}<br>eps=%{customdata[0]}<br>silhouette_score=%{customdata[2]}<extra></extra>",
         "hovertext": [
          17,
          17,
          17,
          17,
          17,
          17,
          17,
          17
         ],
         "legendgroup": "17",
         "line": {
          "color": "#00cc96",
          "dash": "solid"
         },
         "mode": "lines",
         "name": "17",
         "orientation": "v",
         "showlegend": true,
         "type": "scatter",
         "x": [
          78.40155991434045,
          83.13477647065838,
          85.63477647065838,
          88.13477647065838,
          183.2080601638849,
          185.7080601638849,
          188.2080601638849,
          203.57639217873896
         ],
         "xaxis": "x",
         "y": [
          2,
          2,
          2,
          2,
          3,
          3,
          3,
          3
         ],
         "yaxis": "y"
        },
        {
         "customdata": [
          [
           35,
           18,
           null
          ],
          [
           40,
           18,
           null
          ],
          [
           45,
           18,
           null
          ],
          [
           50,
           18,
           null
          ],
          [
           55,
           18,
           null
          ],
          [
           60,
           18,
           null
          ],
          [
           65,
           18,
           0.9994072704825377
          ],
          [
           70,
           18,
           0.9993498094611205
          ]
         ],
         "hovertemplate": "<b>%{hovertext}</b><br><br>min_samples=%{customdata[1]}<br>Max Width=%{x}<br>No of Clusters=%{y}<br>eps=%{customdata[0]}<br>silhouette_score=%{customdata[2]}<extra></extra>",
         "hovertext": [
          18,
          18,
          18,
          18,
          18,
          18,
          18,
          18
         ],
         "legendgroup": "18",
         "line": {
          "color": "#ab63fa",
          "dash": "solid"
         },
         "mode": "lines",
         "name": "18",
         "orientation": "v",
         "showlegend": true,
         "type": "scatter",
         "x": [
          78.40155991434045,
          83.13477647065838,
          85.63477647065838,
          88.13477647065838,
          183.2080601638849,
          185.7080601638849,
          188.2080601638849,
          203.57639217873896
         ],
         "xaxis": "x",
         "y": [
          2,
          2,
          2,
          2,
          2,
          2,
          3,
          3
         ],
         "yaxis": "y"
        },
        {
         "customdata": [
          [
           40,
           19,
           null
          ],
          [
           45,
           19,
           null
          ],
          [
           50,
           19,
           null
          ],
          [
           55,
           19,
           null
          ],
          [
           60,
           19,
           null
          ],
          [
           65,
           19,
           null
          ],
          [
           70,
           19,
           0.9993498094611205
          ]
         ],
         "hovertemplate": "<b>%{hovertext}</b><br><br>min_samples=%{customdata[1]}<br>Max Width=%{x}<br>No of Clusters=%{y}<br>eps=%{customdata[0]}<br>silhouette_score=%{customdata[2]}<extra></extra>",
         "hovertext": [
          19,
          19,
          19,
          19,
          19,
          19,
          19
         ],
         "legendgroup": "19",
         "line": {
          "color": "#FFA15A",
          "dash": "solid"
         },
         "mode": "lines",
         "name": "19",
         "orientation": "v",
         "showlegend": true,
         "type": "scatter",
         "x": [
          83.13477647065838,
          85.63477647065838,
          88.13477647065838,
          131.2400597647794,
          185.7080601638849,
          188.2080601638849,
          203.57639217873896
         ],
         "xaxis": "x",
         "y": [
          2,
          2,
          2,
          2,
          2,
          2,
          3
         ],
         "yaxis": "y"
        },
        {
         "customdata": [
          [
           40,
           20,
           null
          ],
          [
           45,
           20,
           null
          ],
          [
           50,
           20,
           null
          ],
          [
           55,
           20,
           null
          ],
          [
           60,
           20,
           null
          ],
          [
           65,
           20,
           null
          ],
          [
           70,
           20,
           null
          ]
         ],
         "hovertemplate": "<b>%{hovertext}</b><br><br>min_samples=%{customdata[1]}<br>Max Width=%{x}<br>No of Clusters=%{y}<br>eps=%{customdata[0]}<br>silhouette_score=%{customdata[2]}<extra></extra>",
         "hovertext": [
          20,
          20,
          20,
          20,
          20,
          20,
          20
         ],
         "legendgroup": "20",
         "line": {
          "color": "#19d3f3",
          "dash": "solid"
         },
         "mode": "lines",
         "name": "20",
         "orientation": "v",
         "showlegend": true,
         "type": "scatter",
         "x": [
          83.13477647065838,
          85.63477647065838,
          88.13477647065838,
          131.2400597647794,
          185.7080601638849,
          188.2080601638849,
          203.57639217873896
         ],
         "xaxis": "x",
         "y": [
          2,
          2,
          2,
          2,
          2,
          2,
          2
         ],
         "yaxis": "y"
        },
        {
         "customdata": [
          [
           55,
           21,
           null
          ],
          [
           60,
           21,
           null
          ],
          [
           65,
           21,
           null
          ],
          [
           70,
           21,
           null
          ]
         ],
         "hovertemplate": "<b>%{hovertext}</b><br><br>min_samples=%{customdata[1]}<br>Max Width=%{x}<br>No of Clusters=%{y}<br>eps=%{customdata[0]}<br>silhouette_score=%{customdata[2]}<extra></extra>",
         "hovertext": [
          21,
          21,
          21,
          21
         ],
         "legendgroup": "21",
         "line": {
          "color": "#FF6692",
          "dash": "solid"
         },
         "mode": "lines",
         "name": "21",
         "orientation": "v",
         "showlegend": true,
         "type": "scatter",
         "x": [
          131.2400597647794,
          185.7080601638849,
          188.2080601638849,
          203.57639217873896
         ],
         "xaxis": "x",
         "y": [
          2,
          2,
          2,
          2
         ],
         "yaxis": "y"
        },
        {
         "customdata": [
          [
           65,
           22,
           null
          ],
          [
           70,
           22,
           null
          ]
         ],
         "hovertemplate": "<b>%{hovertext}</b><br><br>min_samples=%{customdata[1]}<br>Max Width=%{x}<br>No of Clusters=%{y}<br>eps=%{customdata[0]}<br>silhouette_score=%{customdata[2]}<extra></extra>",
         "hovertext": [
          22,
          22
         ],
         "legendgroup": "22",
         "line": {
          "color": "#B6E880",
          "dash": "solid"
         },
         "mode": "lines",
         "name": "22",
         "orientation": "v",
         "showlegend": true,
         "type": "scatter",
         "x": [
          146.04734695271395,
          161.53062870309307
         ],
         "xaxis": "x",
         "y": [
          2,
          2
         ],
         "yaxis": "y"
        },
        {
         "customdata": [
          [
           70,
           23,
           null
          ]
         ],
         "hovertemplate": "<b>%{hovertext}</b><br><br>min_samples=%{customdata[1]}<br>Max Width=%{x}<br>No of Clusters=%{y}<br>eps=%{customdata[0]}<br>silhouette_score=%{customdata[2]}<extra></extra>",
         "hovertext": [
          23
         ],
         "legendgroup": "23",
         "line": {
          "color": "#FF97FF",
          "dash": "solid"
         },
         "mode": "lines",
         "name": "23",
         "orientation": "v",
         "showlegend": true,
         "type": "scatter",
         "x": [
          161.53062870309307
         ],
         "xaxis": "x",
         "y": [
          2
         ],
         "yaxis": "y"
        },
        {
         "customdata": [
          [
           20,
           7
          ]
         ],
         "hovertemplate": "Max Width=%{x}<br>No of Clusters=%{y}<br>eps=%{customdata[0]}<br>min_samples=%{customdata[1]}<extra></extra>",
         "legendgroup": "",
         "marker": {
          "color": "#636efa",
          "symbol": "circle"
         },
         "mode": "markers",
         "name": "",
         "orientation": "v",
         "showlegend": false,
         "type": "scatter",
         "x": [
          54.27188724235731
         ],
         "xaxis": "x",
         "y": [
          103
         ],
         "yaxis": "y"
        }
       ],
       "layout": {
        "legend": {
         "title": {
          "text": "min_samples"
         },
         "tracegroupgap": 0
        },
        "margin": {
         "t": 60
        },
        "template": {
         "data": {
          "bar": [
           {
            "error_x": {
             "color": "#2a3f5f"
            },
            "error_y": {
             "color": "#2a3f5f"
            },
            "marker": {
             "line": {
              "color": "#E5ECF6",
              "width": 0.5
             }
            },
            "type": "bar"
           }
          ],
          "barpolar": [
           {
            "marker": {
             "line": {
              "color": "#E5ECF6",
              "width": 0.5
             }
            },
            "type": "barpolar"
           }
          ],
          "carpet": [
           {
            "aaxis": {
             "endlinecolor": "#2a3f5f",
             "gridcolor": "white",
             "linecolor": "white",
             "minorgridcolor": "white",
             "startlinecolor": "#2a3f5f"
            },
            "baxis": {
             "endlinecolor": "#2a3f5f",
             "gridcolor": "white",
             "linecolor": "white",
             "minorgridcolor": "white",
             "startlinecolor": "#2a3f5f"
            },
            "type": "carpet"
           }
          ],
          "choropleth": [
           {
            "colorbar": {
             "outlinewidth": 0,
             "ticks": ""
            },
            "type": "choropleth"
           }
          ],
          "contour": [
           {
            "colorbar": {
             "outlinewidth": 0,
             "ticks": ""
            },
            "colorscale": [
             [
              0,
              "#0d0887"
             ],
             [
              0.1111111111111111,
              "#46039f"
             ],
             [
              0.2222222222222222,
              "#7201a8"
             ],
             [
              0.3333333333333333,
              "#9c179e"
             ],
             [
              0.4444444444444444,
              "#bd3786"
             ],
             [
              0.5555555555555556,
              "#d8576b"
             ],
             [
              0.6666666666666666,
              "#ed7953"
             ],
             [
              0.7777777777777778,
              "#fb9f3a"
             ],
             [
              0.8888888888888888,
              "#fdca26"
             ],
             [
              1,
              "#f0f921"
             ]
            ],
            "type": "contour"
           }
          ],
          "contourcarpet": [
           {
            "colorbar": {
             "outlinewidth": 0,
             "ticks": ""
            },
            "type": "contourcarpet"
           }
          ],
          "heatmap": [
           {
            "colorbar": {
             "outlinewidth": 0,
             "ticks": ""
            },
            "colorscale": [
             [
              0,
              "#0d0887"
             ],
             [
              0.1111111111111111,
              "#46039f"
             ],
             [
              0.2222222222222222,
              "#7201a8"
             ],
             [
              0.3333333333333333,
              "#9c179e"
             ],
             [
              0.4444444444444444,
              "#bd3786"
             ],
             [
              0.5555555555555556,
              "#d8576b"
             ],
             [
              0.6666666666666666,
              "#ed7953"
             ],
             [
              0.7777777777777778,
              "#fb9f3a"
             ],
             [
              0.8888888888888888,
              "#fdca26"
             ],
             [
              1,
              "#f0f921"
             ]
            ],
            "type": "heatmap"
           }
          ],
          "heatmapgl": [
           {
            "colorbar": {
             "outlinewidth": 0,
             "ticks": ""
            },
            "colorscale": [
             [
              0,
              "#0d0887"
             ],
             [
              0.1111111111111111,
              "#46039f"
             ],
             [
              0.2222222222222222,
              "#7201a8"
             ],
             [
              0.3333333333333333,
              "#9c179e"
             ],
             [
              0.4444444444444444,
              "#bd3786"
             ],
             [
              0.5555555555555556,
              "#d8576b"
             ],
             [
              0.6666666666666666,
              "#ed7953"
             ],
             [
              0.7777777777777778,
              "#fb9f3a"
             ],
             [
              0.8888888888888888,
              "#fdca26"
             ],
             [
              1,
              "#f0f921"
             ]
            ],
            "type": "heatmapgl"
           }
          ],
          "histogram": [
           {
            "marker": {
             "colorbar": {
              "outlinewidth": 0,
              "ticks": ""
             }
            },
            "type": "histogram"
           }
          ],
          "histogram2d": [
           {
            "colorbar": {
             "outlinewidth": 0,
             "ticks": ""
            },
            "colorscale": [
             [
              0,
              "#0d0887"
             ],
             [
              0.1111111111111111,
              "#46039f"
             ],
             [
              0.2222222222222222,
              "#7201a8"
             ],
             [
              0.3333333333333333,
              "#9c179e"
             ],
             [
              0.4444444444444444,
              "#bd3786"
             ],
             [
              0.5555555555555556,
              "#d8576b"
             ],
             [
              0.6666666666666666,
              "#ed7953"
             ],
             [
              0.7777777777777778,
              "#fb9f3a"
             ],
             [
              0.8888888888888888,
              "#fdca26"
             ],
             [
              1,
              "#f0f921"
             ]
            ],
            "type": "histogram2d"
           }
          ],
          "histogram2dcontour": [
           {
            "colorbar": {
             "outlinewidth": 0,
             "ticks": ""
            },
            "colorscale": [
             [
              0,
              "#0d0887"
             ],
             [
              0.1111111111111111,
              "#46039f"
             ],
             [
              0.2222222222222222,
              "#7201a8"
             ],
             [
              0.3333333333333333,
              "#9c179e"
             ],
             [
              0.4444444444444444,
              "#bd3786"
             ],
             [
              0.5555555555555556,
              "#d8576b"
             ],
             [
              0.6666666666666666,
              "#ed7953"
             ],
             [
              0.7777777777777778,
              "#fb9f3a"
             ],
             [
              0.8888888888888888,
              "#fdca26"
             ],
             [
              1,
              "#f0f921"
             ]
            ],
            "type": "histogram2dcontour"
           }
          ],
          "mesh3d": [
           {
            "colorbar": {
             "outlinewidth": 0,
             "ticks": ""
            },
            "type": "mesh3d"
           }
          ],
          "parcoords": [
           {
            "line": {
             "colorbar": {
              "outlinewidth": 0,
              "ticks": ""
             }
            },
            "type": "parcoords"
           }
          ],
          "pie": [
           {
            "automargin": true,
            "type": "pie"
           }
          ],
          "scatter": [
           {
            "marker": {
             "colorbar": {
              "outlinewidth": 0,
              "ticks": ""
             }
            },
            "type": "scatter"
           }
          ],
          "scatter3d": [
           {
            "line": {
             "colorbar": {
              "outlinewidth": 0,
              "ticks": ""
             }
            },
            "marker": {
             "colorbar": {
              "outlinewidth": 0,
              "ticks": ""
             }
            },
            "type": "scatter3d"
           }
          ],
          "scattercarpet": [
           {
            "marker": {
             "colorbar": {
              "outlinewidth": 0,
              "ticks": ""
             }
            },
            "type": "scattercarpet"
           }
          ],
          "scattergeo": [
           {
            "marker": {
             "colorbar": {
              "outlinewidth": 0,
              "ticks": ""
             }
            },
            "type": "scattergeo"
           }
          ],
          "scattergl": [
           {
            "marker": {
             "colorbar": {
              "outlinewidth": 0,
              "ticks": ""
             }
            },
            "type": "scattergl"
           }
          ],
          "scattermapbox": [
           {
            "marker": {
             "colorbar": {
              "outlinewidth": 0,
              "ticks": ""
             }
            },
            "type": "scattermapbox"
           }
          ],
          "scatterpolar": [
           {
            "marker": {
             "colorbar": {
              "outlinewidth": 0,
              "ticks": ""
             }
            },
            "type": "scatterpolar"
           }
          ],
          "scatterpolargl": [
           {
            "marker": {
             "colorbar": {
              "outlinewidth": 0,
              "ticks": ""
             }
            },
            "type": "scatterpolargl"
           }
          ],
          "scatterternary": [
           {
            "marker": {
             "colorbar": {
              "outlinewidth": 0,
              "ticks": ""
             }
            },
            "type": "scatterternary"
           }
          ],
          "surface": [
           {
            "colorbar": {
             "outlinewidth": 0,
             "ticks": ""
            },
            "colorscale": [
             [
              0,
              "#0d0887"
             ],
             [
              0.1111111111111111,
              "#46039f"
             ],
             [
              0.2222222222222222,
              "#7201a8"
             ],
             [
              0.3333333333333333,
              "#9c179e"
             ],
             [
              0.4444444444444444,
              "#bd3786"
             ],
             [
              0.5555555555555556,
              "#d8576b"
             ],
             [
              0.6666666666666666,
              "#ed7953"
             ],
             [
              0.7777777777777778,
              "#fb9f3a"
             ],
             [
              0.8888888888888888,
              "#fdca26"
             ],
             [
              1,
              "#f0f921"
             ]
            ],
            "type": "surface"
           }
          ],
          "table": [
           {
            "cells": {
             "fill": {
              "color": "#EBF0F8"
             },
             "line": {
              "color": "white"
             }
            },
            "header": {
             "fill": {
              "color": "#C8D4E3"
             },
             "line": {
              "color": "white"
             }
            },
            "type": "table"
           }
          ]
         },
         "layout": {
          "annotationdefaults": {
           "arrowcolor": "#2a3f5f",
           "arrowhead": 0,
           "arrowwidth": 1
          },
          "autotypenumbers": "strict",
          "coloraxis": {
           "colorbar": {
            "outlinewidth": 0,
            "ticks": ""
           }
          },
          "colorscale": {
           "diverging": [
            [
             0,
             "#8e0152"
            ],
            [
             0.1,
             "#c51b7d"
            ],
            [
             0.2,
             "#de77ae"
            ],
            [
             0.3,
             "#f1b6da"
            ],
            [
             0.4,
             "#fde0ef"
            ],
            [
             0.5,
             "#f7f7f7"
            ],
            [
             0.6,
             "#e6f5d0"
            ],
            [
             0.7,
             "#b8e186"
            ],
            [
             0.8,
             "#7fbc41"
            ],
            [
             0.9,
             "#4d9221"
            ],
            [
             1,
             "#276419"
            ]
           ],
           "sequential": [
            [
             0,
             "#0d0887"
            ],
            [
             0.1111111111111111,
             "#46039f"
            ],
            [
             0.2222222222222222,
             "#7201a8"
            ],
            [
             0.3333333333333333,
             "#9c179e"
            ],
            [
             0.4444444444444444,
             "#bd3786"
            ],
            [
             0.5555555555555556,
             "#d8576b"
            ],
            [
             0.6666666666666666,
             "#ed7953"
            ],
            [
             0.7777777777777778,
             "#fb9f3a"
            ],
            [
             0.8888888888888888,
             "#fdca26"
            ],
            [
             1,
             "#f0f921"
            ]
           ],
           "sequentialminus": [
            [
             0,
             "#0d0887"
            ],
            [
             0.1111111111111111,
             "#46039f"
            ],
            [
             0.2222222222222222,
             "#7201a8"
            ],
            [
             0.3333333333333333,
             "#9c179e"
            ],
            [
             0.4444444444444444,
             "#bd3786"
            ],
            [
             0.5555555555555556,
             "#d8576b"
            ],
            [
             0.6666666666666666,
             "#ed7953"
            ],
            [
             0.7777777777777778,
             "#fb9f3a"
            ],
            [
             0.8888888888888888,
             "#fdca26"
            ],
            [
             1,
             "#f0f921"
            ]
           ]
          },
          "colorway": [
           "#636efa",
           "#EF553B",
           "#00cc96",
           "#ab63fa",
           "#FFA15A",
           "#19d3f3",
           "#FF6692",
           "#B6E880",
           "#FF97FF",
           "#FECB52"
          ],
          "font": {
           "color": "#2a3f5f"
          },
          "geo": {
           "bgcolor": "white",
           "lakecolor": "white",
           "landcolor": "#E5ECF6",
           "showlakes": true,
           "showland": true,
           "subunitcolor": "white"
          },
          "hoverlabel": {
           "align": "left"
          },
          "hovermode": "closest",
          "mapbox": {
           "style": "light"
          },
          "paper_bgcolor": "white",
          "plot_bgcolor": "#E5ECF6",
          "polar": {
           "angularaxis": {
            "gridcolor": "white",
            "linecolor": "white",
            "ticks": ""
           },
           "bgcolor": "#E5ECF6",
           "radialaxis": {
            "gridcolor": "white",
            "linecolor": "white",
            "ticks": ""
           }
          },
          "scene": {
           "xaxis": {
            "backgroundcolor": "#E5ECF6",
            "gridcolor": "white",
            "gridwidth": 2,
            "linecolor": "white",
            "showbackground": true,
            "ticks": "",
            "zerolinecolor": "white"
           },
           "yaxis": {
            "backgroundcolor": "#E5ECF6",
            "gridcolor": "white",
            "gridwidth": 2,
            "linecolor": "white",
            "showbackground": true,
            "ticks": "",
            "zerolinecolor": "white"
           },
           "zaxis": {
            "backgroundcolor": "#E5ECF6",
            "gridcolor": "white",
            "gridwidth": 2,
            "linecolor": "white",
            "showbackground": true,
            "ticks": "",
            "zerolinecolor": "white"
           }
          },
          "shapedefaults": {
           "line": {
            "color": "#2a3f5f"
           }
          },
          "ternary": {
           "aaxis": {
            "gridcolor": "white",
            "linecolor": "white",
            "ticks": ""
           },
           "baxis": {
            "gridcolor": "white",
            "linecolor": "white",
            "ticks": ""
           },
           "bgcolor": "#E5ECF6",
           "caxis": {
            "gridcolor": "white",
            "linecolor": "white",
            "ticks": ""
           }
          },
          "title": {
           "x": 0.05
          },
          "xaxis": {
           "automargin": true,
           "gridcolor": "white",
           "linecolor": "white",
           "ticks": "",
           "title": {
            "standoff": 15
           },
           "zerolinecolor": "white",
           "zerolinewidth": 2
          },
          "yaxis": {
           "automargin": true,
           "gridcolor": "white",
           "linecolor": "white",
           "ticks": "",
           "title": {
            "standoff": 15
           },
           "zerolinecolor": "white",
           "zerolinewidth": 2
          }
         }
        },
        "xaxis": {
         "anchor": "y",
         "domain": [
          0,
          1
         ],
         "title": {
          "text": "Max Width"
         }
        },
        "yaxis": {
         "anchor": "x",
         "domain": [
          0,
          1
         ],
         "title": {
          "text": "No of Clusters"
         }
        }
       }
      },
      "text/html": [
       "<div>                            <div id=\"d43acdd9-e08f-4be2-9681-509f583a7cb9\" class=\"plotly-graph-div\" style=\"height:525px; width:100%;\"></div>            <script type=\"text/javascript\">                require([\"plotly\"], function(Plotly) {                    window.PLOTLYENV=window.PLOTLYENV || {};                                    if (document.getElementById(\"d43acdd9-e08f-4be2-9681-509f583a7cb9\")) {                    Plotly.newPlot(                        \"d43acdd9-e08f-4be2-9681-509f583a7cb9\",                        [{\"customdata\": [[5, 5, 0.9995872865086187], [10, 5, 0.9971874503731434], [15, 5, 0.9922621136239658], [20, 5, 0.9882547222969096], [25, 5, 0.9858966459298452], [30, 5, 0.979976168736606], [35, 5, 0.9737466933365185], [40, 5, 0.9611198863578547], [45, 5, 0.946314475100618], [50, 5, 0.9393296179595058], [55, 5, 0.932288502867258], [60, 5, 0.9187525789103288], [65, 5, 0.9021393992313824], [70, 5, 0.8946536688289521]], \"hovertemplate\": \"<b>%{hovertext}</b><br><br>min_samples=%{customdata[1]}<br>Max Width=%{x}<br>No of Clusters=%{y}<br>eps=%{customdata[0]}<br>silhouette_score=%{customdata[2]}<extra></extra>\", \"hovertext\": [5, 5, 5, 5, 5, 5, 5, 5, 5, 5, 5, 5, 5, 5], \"legendgroup\": \"5\", \"line\": {\"color\": \"#636efa\", \"dash\": \"solid\"}, \"mode\": \"lines\", \"name\": \"5\", \"orientation\": \"v\", \"showlegend\": true, \"type\": \"scatter\", \"x\": [15.95362404707371, 35.14962686336267, 48.73105625617661, 71.39218191268331, 90.1659513557904, 117.59142264341595, 180.47545827516484, 235.40659228538016, 237.90659228538016, 291.8332812825267, 318.95497079308836, 392.59205727649356, 737.8906718974954, 740.3906718974954], \"xaxis\": \"x\", \"y\": [278, 381, 458, 524, 576, 650, 719, 811, 896, 956, 1015, 1087, 1177, 1258], \"yaxis\": \"y\"}, {\"customdata\": [[5, 6, 0.9993513377410679], [10, 6, 0.9971705544993268], [15, 6, 0.9955101748178743], [20, 6, 0.9863435765895244], [25, 6, 0.9836742553879552], [30, 6, 0.9777874367500443], [35, 6, 0.9738447811339045], [40, 6, 0.9654577733275085], [45, 6, 0.9548466681960127], [50, 6, 0.9426783362611451], [55, 6, 0.9316408687760628], [60, 6, 0.9155130601994657], [65, 6, 0.9069357491165385], [70, 6, 0.8896388605266818]], \"hovertemplate\": \"<b>%{hovertext}</b><br><br>min_samples=%{customdata[1]}<br>Max Width=%{x}<br>No of Clusters=%{y}<br>eps=%{customdata[0]}<br>silhouette_score=%{customdata[2]}<extra></extra>\", \"hovertext\": [6, 6, 6, 6, 6, 6, 6, 6, 6, 6, 6, 6, 6, 6], \"legendgroup\": \"6\", \"line\": {\"color\": \"#EF553B\", \"dash\": \"solid\"}, \"mode\": \"lines\", \"name\": \"6\", \"orientation\": \"v\", \"showlegend\": true, \"type\": \"scatter\", \"x\": [11.986832980505138, 31.92582403567252, 43.55551275463989, 61.66236541235796, 83.61961754677819, 109.93682109698007, 135.50423721205948, 212.5123372669918, 215.0123372669918, 240.40659228538016, 279.753840406841, 353.4439673266453, 457.5, 740.3906718974954], \"xaxis\": \"x\", \"y\": [118, 153, 182, 221, 258, 293, 326, 369, 410, 458, 505, 543, 593, 645], \"yaxis\": \"y\"}, {\"customdata\": [[5, 7, 0.9989089834575896], [10, 7, 0.9958530894134561], [15, 7, 0.9946455226952478], [20, 7, 0.9892471323501175], [25, 7, 0.9866009095011211], [30, 7, 0.9787174686076714], [35, 7, 0.9751259249519778], [40, 7, 0.9708391246936916], [45, 7, 0.9560165975182013], [50, 7, 0.9441635947158914], [55, 7, 0.9313840900083894], [60, 7, 0.9182945949010624], [65, 7, 0.9088302792734545], [70, 7, 0.8978572413093437]], \"hovertemplate\": \"<b>%{hovertext}</b><br><br>min_samples=%{customdata[1]}<br>Max Width=%{x}<br>No of Clusters=%{y}<br>eps=%{customdata[0]}<br>silhouette_score=%{customdata[2]}<extra></extra>\", \"hovertext\": [7, 7, 7, 7, 7, 7, 7, 7, 7, 7, 7, 7, 7, 7], \"legendgroup\": \"7\", \"line\": {\"color\": \"#00cc96\", \"dash\": \"solid\"}, \"mode\": \"lines\", \"name\": \"7\", \"orientation\": \"v\", \"showlegend\": true, \"type\": \"scatter\", \"x\": [11.986832980505138, 29.839484696748443, 41.70526275297414, 54.27188724235731, 75.63477647065838, 100.44003745317531, 115.98857801796105, 182.97545827516484, 185.47545827516484, 218.58202395883765, 231.6298606279836, 270.41630560342617, 366.3622470420997, 455.1071291944473], \"xaxis\": \"x\", \"y\": [54, 67, 84, 103, 122, 140, 154, 166, 197, 225, 260, 280, 319, 345], \"yaxis\": \"y\"}, {\"customdata\": [[5, 8, 0.9999796568300795], [10, 8, 0.9999136909648332], [15, 8, 0.9994338925314783], [20, 8, 0.9987166578865375], [25, 8, 0.9949839357053321], [30, 8, 0.9926234909160285], [35, 8, 0.9805029464018041], [40, 8, 0.9753999334400969], [45, 8, 0.9656967028020497], [50, 8, 0.9598561746677284], [55, 8, 0.9414191793688227], [60, 8, 0.9226575371731864], [65, 8, 0.9139949109195373], [70, 8, 0.8999026127930833]], \"hovertemplate\": \"<b>%{hovertext}</b><br><br>min_samples=%{customdata[1]}<br>Max Width=%{x}<br>No of Clusters=%{y}<br>eps=%{customdata[0]}<br>silhouette_score=%{customdata[2]}<extra></extra>\", \"hovertext\": [8, 8, 8, 8, 8, 8, 8, 8, 8, 8, 8, 8, 8, 8], \"legendgroup\": \"8\", \"line\": {\"color\": \"#ab63fa\", \"dash\": \"solid\"}, \"mode\": \"lines\", \"name\": \"8\", \"orientation\": \"v\", \"showlegend\": true, \"type\": \"scatter\", \"x\": [9.71110255092798, 29.839484696748443, 35.7842712474619, 50.311288741492746, 75.63477647065838, 95.43009387039157, 115.98857801796105, 130.42191811411357, 162.02060779684126, 218.58202395883765, 221.08202395883765, 270.41630560342617, 366.3622470420997, 455.1071291944473], \"xaxis\": \"x\", \"y\": [28, 35, 40, 46, 57, 69, 85, 92, 107, 120, 140, 156, 176, 195], \"yaxis\": \"y\"}, {\"customdata\": [[5, 9, 0.9999831885118782], [10, 9, 0.9999768294040405], [15, 9, 0.999967258945661], [20, 9, 0.999799324029813], [25, 9, 0.9966456264286041], [30, 9, 0.9940689327893878], [35, 9, 0.9870601025112612], [40, 9, 0.9842572690137753], [45, 9, 0.9711660445059258], [50, 9, 0.9564435912407646], [55, 9, 0.95107638115968], [60, 9, 0.9383001581929514], [65, 9, 0.9174041051837598], [70, 9, 0.9000186011450083]], \"hovertemplate\": \"<b>%{hovertext}</b><br><br>min_samples=%{customdata[1]}<br>Max Width=%{x}<br>No of Clusters=%{y}<br>eps=%{customdata[0]}<br>silhouette_score=%{customdata[2]}<extra></extra>\", \"hovertext\": [9, 9, 9, 9, 9, 9, 9, 9, 9, 9, 9, 9, 9, 9], \"legendgroup\": \"9\", \"line\": {\"color\": \"#FFA15A\", \"dash\": \"solid\"}, \"mode\": \"lines\", \"name\": \"9\", \"orientation\": \"v\", \"showlegend\": true, \"type\": \"scatter\", \"x\": [9.71110255092798, 25.0, 33.112496949731394, 50.311288741492746, 75.63477647065838, 95.43009387039157, 115.98857801796105, 118.48857801796105, 146.1931687685298, 218.58202395883765, 221.08202395883765, 243.3541656495134, 366.3622470420997, 368.8622470420997], \"xaxis\": \"x\", \"y\": [20, 21, 23, 25, 32, 37, 48, 51, 60, 69, 74, 91, 101, 112], \"yaxis\": \"y\"}, {\"customdata\": [[5, 10, 0.999981959063486], [10, 10, 0.9999738599356014], [15, 10, 0.9999691821471598], [20, 10, 0.9999471199112269], [25, 10, 0.9999013825878], [30, 10, 0.9972876866015679], [35, 10, 0.9966467627538552], [40, 10, 0.994604110224691], [45, 10, 0.9825824075001076], [50, 10, 0.9689580898520828], [55, 10, 0.9568401711239921], [60, 10, 0.9276597907448747], [65, 10, 0.915860198455243], [70, 10, 0.9114598476032726]], \"hovertemplate\": \"<b>%{hovertext}</b><br><br>min_samples=%{customdata[1]}<br>Max Width=%{x}<br>No of Clusters=%{y}<br>eps=%{customdata[0]}<br>silhouette_score=%{customdata[2]}<extra></extra>\", \"hovertext\": [10, 10, 10, 10, 10, 10, 10, 10, 10, 10, 10, 10, 10, 10], \"legendgroup\": \"10\", \"line\": {\"color\": \"#19d3f3\", \"dash\": \"solid\"}, \"mode\": \"lines\", \"name\": \"10\", \"orientation\": \"v\", \"showlegend\": true, \"type\": \"scatter\", \"x\": [9.71110255092798, 25.0, 33.112496949731394, 50.311288741492746, 75.63477647065838, 78.13477647065838, 115.98857801796105, 118.48857801796105, 126.24005976477939, 218.58202395883765, 221.08202395883765, 240.34495477667156, 269.2129062810053, 317.3118842698621], \"xaxis\": \"x\", \"y\": [11, 13, 14, 14, 15, 17, 20, 24, 31, 37, 44, 49, 57, 67], \"yaxis\": \"y\"}, {\"customdata\": [[5, 11, 0.9999844712878293], [10, 11, 0.9999844712878293], [15, 11, 0.9999770356670341], [20, 11, 0.9999495115227759], [25, 11, 0.9999495115227759], [30, 11, 0.9998785445778471], [35, 11, 0.9992195787867073], [40, 11, 0.9974712201017741], [45, 11, 0.9870696155727237], [50, 11, 0.9869124711219508], [55, 11, 0.9686836412174847], [60, 11, 0.9446025540433034], [65, 11, 0.9189811376974418], [70, 11, 0.915884593105262]], \"hovertemplate\": \"<b>%{hovertext}</b><br><br>min_samples=%{customdata[1]}<br>Max Width=%{x}<br>No of Clusters=%{y}<br>eps=%{customdata[0]}<br>silhouette_score=%{customdata[2]}<extra></extra>\", \"hovertext\": [11, 11, 11, 11, 11, 11, 11, 11, 11, 11, 11, 11, 11, 11], \"legendgroup\": \"11\", \"line\": {\"color\": \"#FF6692\", \"dash\": \"solid\"}, \"mode\": \"lines\", \"name\": \"11\", \"orientation\": \"v\", \"showlegend\": true, \"type\": \"scatter\", \"x\": [9.71110255092798, 12.21110255092798, 33.112496949731394, 50.311288741492746, 52.811288741492746, 78.13477647065838, 101.23768566183328, 103.73768566183328, 126.24005976477939, 218.58202395883765, 221.08202395883765, 240.34495477667156, 269.2129062810053, 271.7129062810053], \"xaxis\": \"x\", \"y\": [7, 7, 8, 9, 9, 10, 11, 13, 18, 22, 25, 30, 38, 41], \"yaxis\": \"y\"}, {\"customdata\": [[5, 12, 0.9999844712878293], [10, 12, 0.9999844712878293], [15, 12, 0.9999770356670341], [20, 12, 0.9999511774800539], [25, 12, 0.9999511774800539], [30, 12, 0.9998732678891208], [35, 12, 0.9998732678891208], [40, 12, 0.9990494046728984], [45, 12, 0.9968709431546248], [50, 12, 0.9869036425531843], [55, 12, 0.9683420908353125], [60, 12, 0.9623708664388816], [65, 12, 0.9369286770879164], [70, 12, 0.9320860322882385]], \"hovertemplate\": \"<b>%{hovertext}</b><br><br>min_samples=%{customdata[1]}<br>Max Width=%{x}<br>No of Clusters=%{y}<br>eps=%{customdata[0]}<br>silhouette_score=%{customdata[2]}<extra></extra>\", \"hovertext\": [12, 12, 12, 12, 12, 12, 12, 12, 12, 12, 12, 12, 12, 12], \"legendgroup\": \"12\", \"line\": {\"color\": \"#B6E880\", \"dash\": \"solid\"}, \"mode\": \"lines\", \"name\": \"12\", \"orientation\": \"v\", \"showlegend\": true, \"type\": \"scatter\", \"x\": [9.71110255092798, 12.21110255092798, 33.112496949731394, 50.311288741492746, 52.811288741492746, 78.13477647065838, 80.63477647065838, 100.43009387039157, 126.24005976477939, 174.8966310495336, 183.2080601638849, 240.34495477667156, 269.2129062810053, 271.7129062810053], \"xaxis\": \"x\", \"y\": [7, 7, 8, 8, 8, 9, 9, 10, 12, 14, 20, 20, 23, 27], \"yaxis\": \"y\"}, {\"customdata\": [[5, 13, 0.9999828951849238], [10, 13, 0.9999828951849238], [15, 13, 0.9999828951849238], [20, 13, 0.9999548493603858], [25, 13, 0.9999476540031598], [30, 13, 0.9999210032786152], [35, 13, 0.9999210032786152], [40, 13, 0.9998467266026453], [45, 13, 0.9998343442492433], [50, 13, 0.9986737746860667], [55, 13, 0.9790450392752301], [60, 13, 0.9782158861004224], [65, 13, 0.9753982671168704], [70, 13, 0.9639241326645395]], \"hovertemplate\": \"<b>%{hovertext}</b><br><br>min_samples=%{customdata[1]}<br>Max Width=%{x}<br>No of Clusters=%{y}<br>eps=%{customdata[0]}<br>silhouette_score=%{customdata[2]}<extra></extra>\", \"hovertext\": [13, 13, 13, 13, 13, 13, 13, 13, 13, 13, 13, 13, 13, 13], \"legendgroup\": \"13\", \"line\": {\"color\": \"#FF97FF\", \"dash\": \"solid\"}, \"mode\": \"lines\", \"name\": \"13\", \"orientation\": \"v\", \"showlegend\": true, \"type\": \"scatter\", \"x\": [9.71110255092798, 12.21110255092798, 14.71110255092798, 28.35755975068582, 52.811288741492746, 78.13477647065838, 80.63477647065838, 100.43009387039157, 126.24005976477939, 174.8966310495336, 183.2080601638849, 185.7080601638849, 234.1035713969373, 245.34495477667156], \"xaxis\": \"x\", \"y\": [5, 5, 5, 6, 7, 7, 7, 8, 8, 10, 12, 13, 15, 19], \"yaxis\": \"y\"}, {\"customdata\": [[5, 14, 0.9999828951849238], [10, 14, 0.9999828951849238], [15, 14, 0.9999828951849238], [20, 14, 0.9999548493603858], [25, 14, 0.9999548493603858], [30, 14, 0.9999548493603858], [35, 14, 0.9999245267995179], [40, 14, 0.9999210032786152], [45, 14, 0.9998343442492433], [50, 14, 0.9997719480229208], [55, 14, 0.9997385441484559], [60, 14, 0.9997385441484559], [65, 14, 0.9912813296960142], [70, 14, 0.9903538923596759]], \"hovertemplate\": \"<b>%{hovertext}</b><br><br>min_samples=%{customdata[1]}<br>Max Width=%{x}<br>No of Clusters=%{y}<br>eps=%{customdata[0]}<br>silhouette_score=%{customdata[2]}<extra></extra>\", \"hovertext\": [14, 14, 14, 14, 14, 14, 14, 14, 14, 14, 14, 14, 14, 14], \"legendgroup\": \"14\", \"line\": {\"color\": \"#FECB52\", \"dash\": \"solid\"}, \"mode\": \"lines\", \"name\": \"14\", \"orientation\": \"v\", \"showlegend\": true, \"type\": \"scatter\", \"x\": [9.71110255092798, 12.21110255092798, 14.71110255092798, 28.35755975068582, 30.85755975068582, 33.35755975068582, 78.40155991434045, 83.13477647065838, 126.24005976477939, 143.00423721205948, 183.2080601638849, 185.7080601638849, 234.1035713969373, 239.83163818121457], \"xaxis\": \"x\", \"y\": [5, 5, 5, 6, 6, 6, 7, 7, 8, 9, 9, 9, 12, 12], \"yaxis\": \"y\"}, {\"customdata\": [[5, 15, null], [10, 15, null], [15, 15, null], [20, 15, 0.9999247442538691], [25, 15, 0.9999247442538691], [30, 15, 0.9999247442538691], [35, 15, 0.9998794899452637], [40, 15, 0.9998748308524122], [45, 15, 0.9998748308524122], [50, 15, 0.9997313387455228], [55, 15, 0.999651273195415], [60, 15, 0.999651273195415], [65, 15, 0.9996077725598824], [70, 15, 0.985220756556462]], \"hovertemplate\": \"<b>%{hovertext}</b><br><br>min_samples=%{customdata[1]}<br>Max Width=%{x}<br>No of Clusters=%{y}<br>eps=%{customdata[0]}<br>silhouette_score=%{customdata[2]}<extra></extra>\", \"hovertext\": [15, 15, 15, 15, 15, 15, 15, 15, 15, 15, 15, 15, 15, 15], \"legendgroup\": \"15\", \"line\": {\"color\": \"#636efa\", \"dash\": \"solid\"}, \"mode\": \"lines\", \"name\": \"15\", \"orientation\": \"v\", \"showlegend\": true, \"type\": \"scatter\", \"x\": [9.71110255092798, 12.21110255092798, 14.71110255092798, 28.35755975068582, 30.85755975068582, 33.35755975068582, 78.40155991434045, 83.13477647065838, 85.63477647065838, 135.1135777277262, 183.2080601638849, 185.7080601638849, 234.1035713969373, 239.83163818121457], \"xaxis\": \"x\", \"y\": [2, 2, 2, 3, 3, 3, 4, 4, 4, 5, 5, 5, 5, 7], \"yaxis\": \"y\"}, {\"customdata\": [[20, 16, null], [25, 16, null], [30, 16, null], [35, 16, 0.9998713329031631], [40, 16, 0.9998651853698317], [45, 16, 0.9998651853698317], [50, 16, 0.9998651853698317], [55, 16, 0.9995723320013665], [60, 16, 0.9995723320013665], [65, 16, 0.9995469372332658], [70, 16, 0.9995003253562851]], \"hovertemplate\": \"<b>%{hovertext}</b><br><br>min_samples=%{customdata[1]}<br>Max Width=%{x}<br>No of Clusters=%{y}<br>eps=%{customdata[0]}<br>silhouette_score=%{customdata[2]}<extra></extra>\", \"hovertext\": [16, 16, 16, 16, 16, 16, 16, 16, 16, 16, 16], \"legendgroup\": \"16\", \"line\": {\"color\": \"#EF553B\", \"dash\": \"solid\"}, \"mode\": \"lines\", \"name\": \"16\", \"orientation\": \"v\", \"showlegend\": true, \"type\": \"scatter\", \"x\": [28.35755975068582, 30.85755975068582, 33.35755975068582, 78.40155991434045, 83.13477647065838, 85.63477647065838, 88.13477647065838, 183.2080601638849, 185.7080601638849, 188.2080601638849, 203.57639217873896], \"xaxis\": \"x\", \"y\": [2, 2, 2, 3, 3, 3, 3, 4, 4, 4, 4], \"yaxis\": \"y\"}, {\"customdata\": [[35, 17, null], [40, 17, null], [45, 17, null], [50, 17, null], [55, 17, 0.9994393331251136], [60, 17, 0.9994393331251136], [65, 17, 0.9994072704825377], [70, 17, 0.9993498094611205]], \"hovertemplate\": \"<b>%{hovertext}</b><br><br>min_samples=%{customdata[1]}<br>Max Width=%{x}<br>No of Clusters=%{y}<br>eps=%{customdata[0]}<br>silhouette_score=%{customdata[2]}<extra></extra>\", \"hovertext\": [17, 17, 17, 17, 17, 17, 17, 17], \"legendgroup\": \"17\", \"line\": {\"color\": \"#00cc96\", \"dash\": \"solid\"}, \"mode\": \"lines\", \"name\": \"17\", \"orientation\": \"v\", \"showlegend\": true, \"type\": \"scatter\", \"x\": [78.40155991434045, 83.13477647065838, 85.63477647065838, 88.13477647065838, 183.2080601638849, 185.7080601638849, 188.2080601638849, 203.57639217873896], \"xaxis\": \"x\", \"y\": [2, 2, 2, 2, 3, 3, 3, 3], \"yaxis\": \"y\"}, {\"customdata\": [[35, 18, null], [40, 18, null], [45, 18, null], [50, 18, null], [55, 18, null], [60, 18, null], [65, 18, 0.9994072704825377], [70, 18, 0.9993498094611205]], \"hovertemplate\": \"<b>%{hovertext}</b><br><br>min_samples=%{customdata[1]}<br>Max Width=%{x}<br>No of Clusters=%{y}<br>eps=%{customdata[0]}<br>silhouette_score=%{customdata[2]}<extra></extra>\", \"hovertext\": [18, 18, 18, 18, 18, 18, 18, 18], \"legendgroup\": \"18\", \"line\": {\"color\": \"#ab63fa\", \"dash\": \"solid\"}, \"mode\": \"lines\", \"name\": \"18\", \"orientation\": \"v\", \"showlegend\": true, \"type\": \"scatter\", \"x\": [78.40155991434045, 83.13477647065838, 85.63477647065838, 88.13477647065838, 183.2080601638849, 185.7080601638849, 188.2080601638849, 203.57639217873896], \"xaxis\": \"x\", \"y\": [2, 2, 2, 2, 2, 2, 3, 3], \"yaxis\": \"y\"}, {\"customdata\": [[40, 19, null], [45, 19, null], [50, 19, null], [55, 19, null], [60, 19, null], [65, 19, null], [70, 19, 0.9993498094611205]], \"hovertemplate\": \"<b>%{hovertext}</b><br><br>min_samples=%{customdata[1]}<br>Max Width=%{x}<br>No of Clusters=%{y}<br>eps=%{customdata[0]}<br>silhouette_score=%{customdata[2]}<extra></extra>\", \"hovertext\": [19, 19, 19, 19, 19, 19, 19], \"legendgroup\": \"19\", \"line\": {\"color\": \"#FFA15A\", \"dash\": \"solid\"}, \"mode\": \"lines\", \"name\": \"19\", \"orientation\": \"v\", \"showlegend\": true, \"type\": \"scatter\", \"x\": [83.13477647065838, 85.63477647065838, 88.13477647065838, 131.2400597647794, 185.7080601638849, 188.2080601638849, 203.57639217873896], \"xaxis\": \"x\", \"y\": [2, 2, 2, 2, 2, 2, 3], \"yaxis\": \"y\"}, {\"customdata\": [[40, 20, null], [45, 20, null], [50, 20, null], [55, 20, null], [60, 20, null], [65, 20, null], [70, 20, null]], \"hovertemplate\": \"<b>%{hovertext}</b><br><br>min_samples=%{customdata[1]}<br>Max Width=%{x}<br>No of Clusters=%{y}<br>eps=%{customdata[0]}<br>silhouette_score=%{customdata[2]}<extra></extra>\", \"hovertext\": [20, 20, 20, 20, 20, 20, 20], \"legendgroup\": \"20\", \"line\": {\"color\": \"#19d3f3\", \"dash\": \"solid\"}, \"mode\": \"lines\", \"name\": \"20\", \"orientation\": \"v\", \"showlegend\": true, \"type\": \"scatter\", \"x\": [83.13477647065838, 85.63477647065838, 88.13477647065838, 131.2400597647794, 185.7080601638849, 188.2080601638849, 203.57639217873896], \"xaxis\": \"x\", \"y\": [2, 2, 2, 2, 2, 2, 2], \"yaxis\": \"y\"}, {\"customdata\": [[55, 21, null], [60, 21, null], [65, 21, null], [70, 21, null]], \"hovertemplate\": \"<b>%{hovertext}</b><br><br>min_samples=%{customdata[1]}<br>Max Width=%{x}<br>No of Clusters=%{y}<br>eps=%{customdata[0]}<br>silhouette_score=%{customdata[2]}<extra></extra>\", \"hovertext\": [21, 21, 21, 21], \"legendgroup\": \"21\", \"line\": {\"color\": \"#FF6692\", \"dash\": \"solid\"}, \"mode\": \"lines\", \"name\": \"21\", \"orientation\": \"v\", \"showlegend\": true, \"type\": \"scatter\", \"x\": [131.2400597647794, 185.7080601638849, 188.2080601638849, 203.57639217873896], \"xaxis\": \"x\", \"y\": [2, 2, 2, 2], \"yaxis\": \"y\"}, {\"customdata\": [[65, 22, null], [70, 22, null]], \"hovertemplate\": \"<b>%{hovertext}</b><br><br>min_samples=%{customdata[1]}<br>Max Width=%{x}<br>No of Clusters=%{y}<br>eps=%{customdata[0]}<br>silhouette_score=%{customdata[2]}<extra></extra>\", \"hovertext\": [22, 22], \"legendgroup\": \"22\", \"line\": {\"color\": \"#B6E880\", \"dash\": \"solid\"}, \"mode\": \"lines\", \"name\": \"22\", \"orientation\": \"v\", \"showlegend\": true, \"type\": \"scatter\", \"x\": [146.04734695271395, 161.53062870309307], \"xaxis\": \"x\", \"y\": [2, 2], \"yaxis\": \"y\"}, {\"customdata\": [[70, 23, null]], \"hovertemplate\": \"<b>%{hovertext}</b><br><br>min_samples=%{customdata[1]}<br>Max Width=%{x}<br>No of Clusters=%{y}<br>eps=%{customdata[0]}<br>silhouette_score=%{customdata[2]}<extra></extra>\", \"hovertext\": [23], \"legendgroup\": \"23\", \"line\": {\"color\": \"#FF97FF\", \"dash\": \"solid\"}, \"mode\": \"lines\", \"name\": \"23\", \"orientation\": \"v\", \"showlegend\": true, \"type\": \"scatter\", \"x\": [161.53062870309307], \"xaxis\": \"x\", \"y\": [2], \"yaxis\": \"y\"}, {\"customdata\": [[20, 7]], \"hovertemplate\": \"Max Width=%{x}<br>No of Clusters=%{y}<br>eps=%{customdata[0]}<br>min_samples=%{customdata[1]}<extra></extra>\", \"legendgroup\": \"\", \"marker\": {\"color\": \"#636efa\", \"symbol\": \"circle\"}, \"mode\": \"markers\", \"name\": \"\", \"orientation\": \"v\", \"showlegend\": false, \"type\": \"scatter\", \"x\": [54.27188724235731], \"xaxis\": \"x\", \"y\": [103], \"yaxis\": \"y\"}],                        {\"legend\": {\"title\": {\"text\": \"min_samples\"}, \"tracegroupgap\": 0}, \"margin\": {\"t\": 60}, \"template\": {\"data\": {\"bar\": [{\"error_x\": {\"color\": \"#2a3f5f\"}, \"error_y\": {\"color\": \"#2a3f5f\"}, \"marker\": {\"line\": {\"color\": \"#E5ECF6\", \"width\": 0.5}}, \"type\": \"bar\"}], \"barpolar\": [{\"marker\": {\"line\": {\"color\": \"#E5ECF6\", \"width\": 0.5}}, \"type\": \"barpolar\"}], \"carpet\": [{\"aaxis\": {\"endlinecolor\": \"#2a3f5f\", \"gridcolor\": \"white\", \"linecolor\": \"white\", \"minorgridcolor\": \"white\", \"startlinecolor\": \"#2a3f5f\"}, \"baxis\": {\"endlinecolor\": \"#2a3f5f\", \"gridcolor\": \"white\", \"linecolor\": \"white\", \"minorgridcolor\": \"white\", \"startlinecolor\": \"#2a3f5f\"}, \"type\": \"carpet\"}], \"choropleth\": [{\"colorbar\": {\"outlinewidth\": 0, \"ticks\": \"\"}, \"type\": \"choropleth\"}], \"contour\": [{\"colorbar\": {\"outlinewidth\": 0, \"ticks\": \"\"}, \"colorscale\": [[0.0, \"#0d0887\"], [0.1111111111111111, \"#46039f\"], [0.2222222222222222, \"#7201a8\"], [0.3333333333333333, \"#9c179e\"], [0.4444444444444444, \"#bd3786\"], [0.5555555555555556, \"#d8576b\"], [0.6666666666666666, \"#ed7953\"], [0.7777777777777778, \"#fb9f3a\"], [0.8888888888888888, \"#fdca26\"], [1.0, \"#f0f921\"]], \"type\": \"contour\"}], \"contourcarpet\": [{\"colorbar\": {\"outlinewidth\": 0, \"ticks\": \"\"}, \"type\": \"contourcarpet\"}], \"heatmap\": [{\"colorbar\": {\"outlinewidth\": 0, \"ticks\": \"\"}, \"colorscale\": [[0.0, \"#0d0887\"], [0.1111111111111111, \"#46039f\"], [0.2222222222222222, \"#7201a8\"], [0.3333333333333333, \"#9c179e\"], [0.4444444444444444, \"#bd3786\"], [0.5555555555555556, \"#d8576b\"], [0.6666666666666666, \"#ed7953\"], [0.7777777777777778, \"#fb9f3a\"], [0.8888888888888888, \"#fdca26\"], [1.0, \"#f0f921\"]], \"type\": \"heatmap\"}], \"heatmapgl\": [{\"colorbar\": {\"outlinewidth\": 0, \"ticks\": \"\"}, \"colorscale\": [[0.0, \"#0d0887\"], [0.1111111111111111, \"#46039f\"], [0.2222222222222222, \"#7201a8\"], [0.3333333333333333, \"#9c179e\"], [0.4444444444444444, \"#bd3786\"], [0.5555555555555556, \"#d8576b\"], [0.6666666666666666, \"#ed7953\"], [0.7777777777777778, \"#fb9f3a\"], [0.8888888888888888, \"#fdca26\"], [1.0, \"#f0f921\"]], \"type\": \"heatmapgl\"}], \"histogram\": [{\"marker\": {\"colorbar\": {\"outlinewidth\": 0, \"ticks\": \"\"}}, \"type\": \"histogram\"}], \"histogram2d\": [{\"colorbar\": {\"outlinewidth\": 0, \"ticks\": \"\"}, \"colorscale\": [[0.0, \"#0d0887\"], [0.1111111111111111, \"#46039f\"], [0.2222222222222222, \"#7201a8\"], [0.3333333333333333, \"#9c179e\"], [0.4444444444444444, \"#bd3786\"], [0.5555555555555556, \"#d8576b\"], [0.6666666666666666, \"#ed7953\"], [0.7777777777777778, \"#fb9f3a\"], [0.8888888888888888, \"#fdca26\"], [1.0, \"#f0f921\"]], \"type\": \"histogram2d\"}], \"histogram2dcontour\": [{\"colorbar\": {\"outlinewidth\": 0, \"ticks\": \"\"}, \"colorscale\": [[0.0, \"#0d0887\"], [0.1111111111111111, \"#46039f\"], [0.2222222222222222, \"#7201a8\"], [0.3333333333333333, \"#9c179e\"], [0.4444444444444444, \"#bd3786\"], [0.5555555555555556, \"#d8576b\"], [0.6666666666666666, \"#ed7953\"], [0.7777777777777778, \"#fb9f3a\"], [0.8888888888888888, \"#fdca26\"], [1.0, \"#f0f921\"]], \"type\": \"histogram2dcontour\"}], \"mesh3d\": [{\"colorbar\": {\"outlinewidth\": 0, \"ticks\": \"\"}, \"type\": \"mesh3d\"}], \"parcoords\": [{\"line\": {\"colorbar\": {\"outlinewidth\": 0, \"ticks\": \"\"}}, \"type\": \"parcoords\"}], \"pie\": [{\"automargin\": true, \"type\": \"pie\"}], \"scatter\": [{\"marker\": {\"colorbar\": {\"outlinewidth\": 0, \"ticks\": \"\"}}, \"type\": \"scatter\"}], \"scatter3d\": [{\"line\": {\"colorbar\": {\"outlinewidth\": 0, \"ticks\": \"\"}}, \"marker\": {\"colorbar\": {\"outlinewidth\": 0, \"ticks\": \"\"}}, \"type\": \"scatter3d\"}], \"scattercarpet\": [{\"marker\": {\"colorbar\": {\"outlinewidth\": 0, \"ticks\": \"\"}}, \"type\": \"scattercarpet\"}], \"scattergeo\": [{\"marker\": {\"colorbar\": {\"outlinewidth\": 0, \"ticks\": \"\"}}, \"type\": \"scattergeo\"}], \"scattergl\": [{\"marker\": {\"colorbar\": {\"outlinewidth\": 0, \"ticks\": \"\"}}, \"type\": \"scattergl\"}], \"scattermapbox\": [{\"marker\": {\"colorbar\": {\"outlinewidth\": 0, \"ticks\": \"\"}}, \"type\": \"scattermapbox\"}], \"scatterpolar\": [{\"marker\": {\"colorbar\": {\"outlinewidth\": 0, \"ticks\": \"\"}}, \"type\": \"scatterpolar\"}], \"scatterpolargl\": [{\"marker\": {\"colorbar\": {\"outlinewidth\": 0, \"ticks\": \"\"}}, \"type\": \"scatterpolargl\"}], \"scatterternary\": [{\"marker\": {\"colorbar\": {\"outlinewidth\": 0, \"ticks\": \"\"}}, \"type\": \"scatterternary\"}], \"surface\": [{\"colorbar\": {\"outlinewidth\": 0, \"ticks\": \"\"}, \"colorscale\": [[0.0, \"#0d0887\"], [0.1111111111111111, \"#46039f\"], [0.2222222222222222, \"#7201a8\"], [0.3333333333333333, \"#9c179e\"], [0.4444444444444444, \"#bd3786\"], [0.5555555555555556, \"#d8576b\"], [0.6666666666666666, \"#ed7953\"], [0.7777777777777778, \"#fb9f3a\"], [0.8888888888888888, \"#fdca26\"], [1.0, \"#f0f921\"]], \"type\": \"surface\"}], \"table\": [{\"cells\": {\"fill\": {\"color\": \"#EBF0F8\"}, \"line\": {\"color\": \"white\"}}, \"header\": {\"fill\": {\"color\": \"#C8D4E3\"}, \"line\": {\"color\": \"white\"}}, \"type\": \"table\"}]}, \"layout\": {\"annotationdefaults\": {\"arrowcolor\": \"#2a3f5f\", \"arrowhead\": 0, \"arrowwidth\": 1}, \"autotypenumbers\": \"strict\", \"coloraxis\": {\"colorbar\": {\"outlinewidth\": 0, \"ticks\": \"\"}}, \"colorscale\": {\"diverging\": [[0, \"#8e0152\"], [0.1, \"#c51b7d\"], [0.2, \"#de77ae\"], [0.3, \"#f1b6da\"], [0.4, \"#fde0ef\"], [0.5, \"#f7f7f7\"], [0.6, \"#e6f5d0\"], [0.7, \"#b8e186\"], [0.8, \"#7fbc41\"], [0.9, \"#4d9221\"], [1, \"#276419\"]], \"sequential\": [[0.0, \"#0d0887\"], [0.1111111111111111, \"#46039f\"], [0.2222222222222222, \"#7201a8\"], [0.3333333333333333, \"#9c179e\"], [0.4444444444444444, \"#bd3786\"], [0.5555555555555556, \"#d8576b\"], [0.6666666666666666, \"#ed7953\"], [0.7777777777777778, \"#fb9f3a\"], [0.8888888888888888, \"#fdca26\"], [1.0, \"#f0f921\"]], \"sequentialminus\": [[0.0, \"#0d0887\"], [0.1111111111111111, \"#46039f\"], [0.2222222222222222, \"#7201a8\"], [0.3333333333333333, \"#9c179e\"], [0.4444444444444444, \"#bd3786\"], [0.5555555555555556, \"#d8576b\"], [0.6666666666666666, \"#ed7953\"], [0.7777777777777778, \"#fb9f3a\"], [0.8888888888888888, \"#fdca26\"], [1.0, \"#f0f921\"]]}, \"colorway\": [\"#636efa\", \"#EF553B\", \"#00cc96\", \"#ab63fa\", \"#FFA15A\", \"#19d3f3\", \"#FF6692\", \"#B6E880\", \"#FF97FF\", \"#FECB52\"], \"font\": {\"color\": \"#2a3f5f\"}, \"geo\": {\"bgcolor\": \"white\", \"lakecolor\": \"white\", \"landcolor\": \"#E5ECF6\", \"showlakes\": true, \"showland\": true, \"subunitcolor\": \"white\"}, \"hoverlabel\": {\"align\": \"left\"}, \"hovermode\": \"closest\", \"mapbox\": {\"style\": \"light\"}, \"paper_bgcolor\": \"white\", \"plot_bgcolor\": \"#E5ECF6\", \"polar\": {\"angularaxis\": {\"gridcolor\": \"white\", \"linecolor\": \"white\", \"ticks\": \"\"}, \"bgcolor\": \"#E5ECF6\", \"radialaxis\": {\"gridcolor\": \"white\", \"linecolor\": \"white\", \"ticks\": \"\"}}, \"scene\": {\"xaxis\": {\"backgroundcolor\": \"#E5ECF6\", \"gridcolor\": \"white\", \"gridwidth\": 2, \"linecolor\": \"white\", \"showbackground\": true, \"ticks\": \"\", \"zerolinecolor\": \"white\"}, \"yaxis\": {\"backgroundcolor\": \"#E5ECF6\", \"gridcolor\": \"white\", \"gridwidth\": 2, \"linecolor\": \"white\", \"showbackground\": true, \"ticks\": \"\", \"zerolinecolor\": \"white\"}, \"zaxis\": {\"backgroundcolor\": \"#E5ECF6\", \"gridcolor\": \"white\", \"gridwidth\": 2, \"linecolor\": \"white\", \"showbackground\": true, \"ticks\": \"\", \"zerolinecolor\": \"white\"}}, \"shapedefaults\": {\"line\": {\"color\": \"#2a3f5f\"}}, \"ternary\": {\"aaxis\": {\"gridcolor\": \"white\", \"linecolor\": \"white\", \"ticks\": \"\"}, \"baxis\": {\"gridcolor\": \"white\", \"linecolor\": \"white\", \"ticks\": \"\"}, \"bgcolor\": \"#E5ECF6\", \"caxis\": {\"gridcolor\": \"white\", \"linecolor\": \"white\", \"ticks\": \"\"}}, \"title\": {\"x\": 0.05}, \"xaxis\": {\"automargin\": true, \"gridcolor\": \"white\", \"linecolor\": \"white\", \"ticks\": \"\", \"title\": {\"standoff\": 15}, \"zerolinecolor\": \"white\", \"zerolinewidth\": 2}, \"yaxis\": {\"automargin\": true, \"gridcolor\": \"white\", \"linecolor\": \"white\", \"ticks\": \"\", \"title\": {\"standoff\": 15}, \"zerolinecolor\": \"white\", \"zerolinewidth\": 2}}}, \"xaxis\": {\"anchor\": \"y\", \"domain\": [0.0, 1.0], \"title\": {\"text\": \"Max Width\"}}, \"yaxis\": {\"anchor\": \"x\", \"domain\": [0.0, 1.0], \"title\": {\"text\": \"No of Clusters\"}}},                        {\"responsive\": true}                    ).then(function(){\n",
       "                            \n",
       "var gd = document.getElementById('d43acdd9-e08f-4be2-9681-509f583a7cb9');\n",
       "var x = new MutationObserver(function (mutations, observer) {{\n",
       "        var display = window.getComputedStyle(gd).display;\n",
       "        if (!display || display === 'none') {{\n",
       "            console.log([gd, 'removed!']);\n",
       "            Plotly.purge(gd);\n",
       "            observer.disconnect();\n",
       "        }}\n",
       "}});\n",
       "\n",
       "// Listen for the removal of the full notebook cells\n",
       "var notebookContainer = gd.closest('#notebook-container');\n",
       "if (notebookContainer) {{\n",
       "    x.observe(notebookContainer, {childList: true});\n",
       "}}\n",
       "\n",
       "// Listen for the clearing of the current output cell\n",
       "var outputEl = gd.closest('.output');\n",
       "if (outputEl) {{\n",
       "    x.observe(outputEl, {childList: true});\n",
       "}}\n",
       "\n",
       "                        })                };                });            </script>        </div>"
      ]
     },
     "metadata": {},
     "output_type": "display_data"
    }
   ],
   "source": [
    "fig = px.line(df_cluster_stats_w_clusters,\n",
    "              x=\"Max Width\", y=\"No of Clusters\",\n",
    "              color=\"min_samples\",\n",
    "              line_group=\"min_samples\",\n",
    "              hover_name=\"min_samples\",\n",
    "             hover_data=['eps', 'min_samples', 'silhouette_score'])\n",
    "\n",
    "eps_consition = df_cluster_stats_w_clusters['eps']==20\n",
    "min_sample_cond = df_cluster_stats_w_clusters['min_samples']==7\n",
    "\n",
    "fig2 = px.scatter(df_cluster_stats_w_clusters.loc[eps_consition & min_sample_cond],\n",
    "                  x=\"Max Width\", y=\"No of Clusters\",\n",
    "                 hover_data=['eps', 'min_samples',\"Max Width\",\"No of Clusters\"])\n",
    "\n",
    "fig.add_trace(fig2.data[0])\n",
    "# fig.show()\n",
    "\n",
    "fig.show()"
   ]
  },
  {
   "cell_type": "code",
   "execution_count": 46,
   "metadata": {},
   "outputs": [
    {
     "data": {
      "text/plain": [
       "'https://plotly.com/~jeneigabor/11/'"
      ]
     },
     "execution_count": 46,
     "metadata": {},
     "output_type": "execute_result"
    }
   ],
   "source": []
  },
  {
   "cell_type": "code",
   "execution_count": 47,
   "metadata": {},
   "outputs": [
    {
     "name": "stdout",
     "output_type": "stream",
     "text": [
      "829\n"
     ]
    },
    {
     "data": {
      "text/html": [
       "<div>\n",
       "<style scoped>\n",
       "    .dataframe tbody tr th:only-of-type {\n",
       "        vertical-align: middle;\n",
       "    }\n",
       "\n",
       "    .dataframe tbody tr th {\n",
       "        vertical-align: top;\n",
       "    }\n",
       "\n",
       "    .dataframe thead th {\n",
       "        text-align: right;\n",
       "    }\n",
       "</style>\n",
       "<table border=\"1\" class=\"dataframe\">\n",
       "  <thead>\n",
       "    <tr style=\"text-align: right;\">\n",
       "      <th></th>\n",
       "      <th>Accident_Index</th>\n",
       "      <th>Vehicle_Reference</th>\n",
       "      <th>Casualty_Reference</th>\n",
       "      <th>Casualty_Severity</th>\n",
       "      <th>Location_Easting_OSGR</th>\n",
       "      <th>Location_Northing_OSGR</th>\n",
       "      <th>Longitude</th>\n",
       "      <th>Latitude</th>\n",
       "      <th>Cluster No:20-7</th>\n",
       "    </tr>\n",
       "  </thead>\n",
       "  <tbody>\n",
       "    <tr>\n",
       "      <th>2156</th>\n",
       "      <td>2019010161014</td>\n",
       "      <td>1</td>\n",
       "      <td>1</td>\n",
       "      <td>Serious</td>\n",
       "      <td>531575.0</td>\n",
       "      <td>186889.0</td>\n",
       "      <td>-0.103016</td>\n",
       "      <td>51.565618</td>\n",
       "      <td>0</td>\n",
       "    </tr>\n",
       "    <tr>\n",
       "      <th>2243</th>\n",
       "      <td>2019010161200</td>\n",
       "      <td>1</td>\n",
       "      <td>3</td>\n",
       "      <td>Serious</td>\n",
       "      <td>531189.0</td>\n",
       "      <td>179195.0</td>\n",
       "      <td>-0.111408</td>\n",
       "      <td>51.496516</td>\n",
       "      <td>1</td>\n",
       "    </tr>\n",
       "    <tr>\n",
       "      <th>2941</th>\n",
       "      <td>2019010162980</td>\n",
       "      <td>1</td>\n",
       "      <td>1</td>\n",
       "      <td>Serious</td>\n",
       "      <td>529573.0</td>\n",
       "      <td>182472.0</td>\n",
       "      <td>-0.133494</td>\n",
       "      <td>51.526385</td>\n",
       "      <td>6</td>\n",
       "    </tr>\n",
       "    <tr>\n",
       "      <th>3618</th>\n",
       "      <td>2019010164659</td>\n",
       "      <td>1</td>\n",
       "      <td>2</td>\n",
       "      <td>Serious</td>\n",
       "      <td>514398.0</td>\n",
       "      <td>182233.0</td>\n",
       "      <td>-0.352232</td>\n",
       "      <td>51.527489</td>\n",
       "      <td>2</td>\n",
       "    </tr>\n",
       "    <tr>\n",
       "      <th>3794</th>\n",
       "      <td>2019010165080</td>\n",
       "      <td>1</td>\n",
       "      <td>1</td>\n",
       "      <td>Serious</td>\n",
       "      <td>529971.0</td>\n",
       "      <td>178303.0</td>\n",
       "      <td>-0.129345</td>\n",
       "      <td>51.488803</td>\n",
       "      <td>9</td>\n",
       "    </tr>\n",
       "  </tbody>\n",
       "</table>\n",
       "</div>"
      ],
      "text/plain": [
       "     Accident_Index  Vehicle_Reference  Casualty_Reference Casualty_Severity  \\\n",
       "2156  2019010161014                  1                   1           Serious   \n",
       "2243  2019010161200                  1                   3           Serious   \n",
       "2941  2019010162980                  1                   1           Serious   \n",
       "3618  2019010164659                  1                   2           Serious   \n",
       "3794  2019010165080                  1                   1           Serious   \n",
       "\n",
       "      Location_Easting_OSGR  Location_Northing_OSGR  Longitude   Latitude  \\\n",
       "2156               531575.0                186889.0  -0.103016  51.565618   \n",
       "2243               531189.0                179195.0  -0.111408  51.496516   \n",
       "2941               529573.0                182472.0  -0.133494  51.526385   \n",
       "3618               514398.0                182233.0  -0.352232  51.527489   \n",
       "3794               529971.0                178303.0  -0.129345  51.488803   \n",
       "\n",
       "      Cluster No:20-7  \n",
       "2156                0  \n",
       "2243                1  \n",
       "2941                6  \n",
       "3618                2  \n",
       "3794                9  "
      ]
     },
     "execution_count": 47,
     "metadata": {},
     "output_type": "execute_result"
    }
   ],
   "source": [
    "selected_eps = 20\n",
    "selected_min_samples = 7\n",
    "\n",
    "label_col = 'Cluster No:'+str(selected_eps) + '-' + str(selected_min_samples)\n",
    "\n",
    "plotting_cols = ['Accident_Index', 'Vehicle_Reference', 'Casualty_Reference','Casualty_Severity', 'Location_Easting_OSGR', 'Location_Northing_OSGR',\n",
    "                 'Longitude', 'Latitude'] + [label_col]\n",
    "\n",
    "df_casualties_coords_plot = df_casualties_coords[plotting_cols].copy()\n",
    "df_casualties_coords_plot = df_casualties_coords_plot[df_casualties_coords_plot[label_col]>-1]\n",
    "\n",
    "# Add jitter to overlapping coordinates:\n",
    "xy_jitter = np.random.uniform(low=0.00001, high=0.0001, size=(len(df_casualties_coords_plot),2))\n",
    "\n",
    "df_casualties_coords_plot[['Longitude','Latitude']] = df_casualties_coords_plot[['Longitude','Latitude']] + xy_jitter\n",
    "\n",
    "print(len(df_casualties_coords_plot))\n",
    "df_casualties_coords_plot.head() "
   ]
  },
  {
   "cell_type": "code",
   "execution_count": 48,
   "metadata": {
    "scrolled": true
   },
   "outputs": [
    {
     "data": {
      "application/vnd.plotly.v1+json": {
       "config": {
        "plotlyServerURL": "https://plotly.com"
       },
       "data": [
        {
         "customdata": [
          [
           "Serious"
          ],
          [
           "Serious"
          ],
          [
           "Serious"
          ],
          [
           "Serious"
          ],
          [
           "Serious"
          ],
          [
           "Serious"
          ],
          [
           "Serious"
          ],
          [
           "Serious"
          ],
          [
           "Serious"
          ],
          [
           "Serious"
          ],
          [
           "Serious"
          ],
          [
           "Serious"
          ],
          [
           "Serious"
          ],
          [
           "Serious"
          ],
          [
           "Serious"
          ],
          [
           "Serious"
          ],
          [
           "Serious"
          ],
          [
           "Serious"
          ],
          [
           "Serious"
          ],
          [
           "Serious"
          ],
          [
           "Serious"
          ],
          [
           "Serious"
          ],
          [
           "Serious"
          ],
          [
           "Serious"
          ],
          [
           "Serious"
          ],
          [
           "Serious"
          ],
          [
           "Serious"
          ],
          [
           "Serious"
          ],
          [
           "Fatal"
          ],
          [
           "Serious"
          ],
          [
           "Serious"
          ],
          [
           "Serious"
          ],
          [
           "Serious"
          ],
          [
           "Serious"
          ],
          [
           "Fatal"
          ],
          [
           "Fatal"
          ],
          [
           "Serious"
          ],
          [
           "Serious"
          ],
          [
           "Serious"
          ],
          [
           "Serious"
          ],
          [
           "Serious"
          ],
          [
           "Fatal"
          ],
          [
           "Serious"
          ],
          [
           "Serious"
          ],
          [
           "Serious"
          ],
          [
           "Serious"
          ],
          [
           "Serious"
          ],
          [
           "Serious"
          ],
          [
           "Serious"
          ],
          [
           "Serious"
          ],
          [
           "Serious"
          ],
          [
           "Serious"
          ],
          [
           "Serious"
          ],
          [
           "Serious"
          ],
          [
           "Serious"
          ],
          [
           "Serious"
          ],
          [
           "Serious"
          ],
          [
           "Serious"
          ],
          [
           "Serious"
          ],
          [
           "Serious"
          ],
          [
           "Serious"
          ],
          [
           "Serious"
          ],
          [
           "Serious"
          ],
          [
           "Serious"
          ],
          [
           "Serious"
          ],
          [
           "Serious"
          ],
          [
           "Serious"
          ],
          [
           "Serious"
          ],
          [
           "Serious"
          ],
          [
           "Serious"
          ],
          [
           "Serious"
          ],
          [
           "Serious"
          ],
          [
           "Serious"
          ],
          [
           "Serious"
          ],
          [
           "Serious"
          ],
          [
           "Serious"
          ],
          [
           "Serious"
          ],
          [
           "Serious"
          ],
          [
           "Serious"
          ],
          [
           "Serious"
          ],
          [
           "Serious"
          ],
          [
           "Serious"
          ],
          [
           "Serious"
          ],
          [
           "Serious"
          ],
          [
           "Serious"
          ],
          [
           "Serious"
          ],
          [
           "Serious"
          ],
          [
           "Serious"
          ],
          [
           "Serious"
          ],
          [
           "Serious"
          ],
          [
           "Serious"
          ],
          [
           "Serious"
          ],
          [
           "Serious"
          ],
          [
           "Serious"
          ],
          [
           "Serious"
          ],
          [
           "Fatal"
          ],
          [
           "Serious"
          ],
          [
           "Serious"
          ],
          [
           "Fatal"
          ],
          [
           "Serious"
          ],
          [
           "Serious"
          ],
          [
           "Fatal"
          ],
          [
           "Serious"
          ],
          [
           "Serious"
          ],
          [
           "Serious"
          ],
          [
           "Serious"
          ],
          [
           "Serious"
          ],
          [
           "Serious"
          ],
          [
           "Serious"
          ],
          [
           "Serious"
          ],
          [
           "Serious"
          ],
          [
           "Serious"
          ],
          [
           "Serious"
          ],
          [
           "Serious"
          ],
          [
           "Serious"
          ],
          [
           "Serious"
          ],
          [
           "Serious"
          ],
          [
           "Serious"
          ],
          [
           "Serious"
          ],
          [
           "Serious"
          ],
          [
           "Serious"
          ],
          [
           "Serious"
          ],
          [
           "Serious"
          ],
          [
           "Serious"
          ],
          [
           "Serious"
          ],
          [
           "Serious"
          ],
          [
           "Serious"
          ],
          [
           "Serious"
          ],
          [
           "Serious"
          ],
          [
           "Serious"
          ],
          [
           "Serious"
          ],
          [
           "Serious"
          ],
          [
           "Serious"
          ],
          [
           "Fatal"
          ],
          [
           "Serious"
          ],
          [
           "Serious"
          ],
          [
           "Serious"
          ],
          [
           "Serious"
          ],
          [
           "Serious"
          ],
          [
           "Fatal"
          ],
          [
           "Serious"
          ],
          [
           "Serious"
          ],
          [
           "Serious"
          ],
          [
           "Serious"
          ],
          [
           "Serious"
          ],
          [
           "Serious"
          ],
          [
           "Serious"
          ],
          [
           "Serious"
          ],
          [
           "Serious"
          ],
          [
           "Serious"
          ],
          [
           "Serious"
          ],
          [
           "Serious"
          ],
          [
           "Serious"
          ],
          [
           "Serious"
          ],
          [
           "Serious"
          ],
          [
           "Serious"
          ],
          [
           "Serious"
          ],
          [
           "Serious"
          ],
          [
           "Serious"
          ],
          [
           "Serious"
          ],
          [
           "Serious"
          ],
          [
           "Serious"
          ],
          [
           "Serious"
          ],
          [
           "Serious"
          ],
          [
           "Serious"
          ],
          [
           "Serious"
          ],
          [
           "Serious"
          ],
          [
           "Serious"
          ],
          [
           "Serious"
          ],
          [
           "Serious"
          ],
          [
           "Serious"
          ],
          [
           "Serious"
          ],
          [
           "Serious"
          ],
          [
           "Serious"
          ],
          [
           "Serious"
          ],
          [
           "Serious"
          ],
          [
           "Serious"
          ],
          [
           "Serious"
          ],
          [
           "Serious"
          ],
          [
           "Serious"
          ],
          [
           "Serious"
          ],
          [
           "Serious"
          ],
          [
           "Serious"
          ],
          [
           "Serious"
          ],
          [
           "Serious"
          ],
          [
           "Serious"
          ],
          [
           "Fatal"
          ],
          [
           "Fatal"
          ],
          [
           "Fatal"
          ],
          [
           "Serious"
          ],
          [
           "Serious"
          ],
          [
           "Serious"
          ],
          [
           "Serious"
          ],
          [
           "Serious"
          ],
          [
           "Serious"
          ],
          [
           "Serious"
          ],
          [
           "Serious"
          ],
          [
           "Serious"
          ],
          [
           "Fatal"
          ],
          [
           "Serious"
          ],
          [
           "Serious"
          ],
          [
           "Serious"
          ],
          [
           "Serious"
          ],
          [
           "Serious"
          ],
          [
           "Serious"
          ],
          [
           "Serious"
          ],
          [
           "Serious"
          ],
          [
           "Serious"
          ],
          [
           "Serious"
          ],
          [
           "Serious"
          ],
          [
           "Serious"
          ],
          [
           "Serious"
          ],
          [
           "Serious"
          ],
          [
           "Serious"
          ],
          [
           "Serious"
          ],
          [
           "Serious"
          ],
          [
           "Serious"
          ],
          [
           "Serious"
          ],
          [
           "Serious"
          ],
          [
           "Serious"
          ],
          [
           "Serious"
          ],
          [
           "Serious"
          ],
          [
           "Serious"
          ],
          [
           "Serious"
          ],
          [
           "Serious"
          ],
          [
           "Serious"
          ],
          [
           "Serious"
          ],
          [
           "Serious"
          ],
          [
           "Serious"
          ],
          [
           "Serious"
          ],
          [
           "Serious"
          ],
          [
           "Serious"
          ],
          [
           "Serious"
          ],
          [
           "Serious"
          ],
          [
           "Serious"
          ],
          [
           "Serious"
          ],
          [
           "Serious"
          ],
          [
           "Serious"
          ],
          [
           "Serious"
          ],
          [
           "Serious"
          ],
          [
           "Serious"
          ],
          [
           "Serious"
          ],
          [
           "Serious"
          ],
          [
           "Serious"
          ],
          [
           "Serious"
          ],
          [
           "Serious"
          ],
          [
           "Serious"
          ],
          [
           "Serious"
          ],
          [
           "Serious"
          ],
          [
           "Serious"
          ],
          [
           "Fatal"
          ],
          [
           "Fatal"
          ],
          [
           "Serious"
          ],
          [
           "Serious"
          ],
          [
           "Serious"
          ],
          [
           "Serious"
          ],
          [
           "Serious"
          ],
          [
           "Serious"
          ],
          [
           "Serious"
          ],
          [
           "Serious"
          ],
          [
           "Fatal"
          ],
          [
           "Fatal"
          ],
          [
           "Fatal"
          ],
          [
           "Fatal"
          ],
          [
           "Serious"
          ],
          [
           "Serious"
          ],
          [
           "Serious"
          ],
          [
           "Serious"
          ],
          [
           "Serious"
          ],
          [
           "Serious"
          ],
          [
           "Serious"
          ],
          [
           "Serious"
          ],
          [
           "Serious"
          ],
          [
           "Serious"
          ],
          [
           "Serious"
          ],
          [
           "Serious"
          ],
          [
           "Serious"
          ],
          [
           "Fatal"
          ],
          [
           "Fatal"
          ],
          [
           "Fatal"
          ],
          [
           "Fatal"
          ],
          [
           "Serious"
          ],
          [
           "Serious"
          ],
          [
           "Serious"
          ],
          [
           "Serious"
          ],
          [
           "Serious"
          ],
          [
           "Serious"
          ],
          [
           "Serious"
          ],
          [
           "Serious"
          ],
          [
           "Serious"
          ],
          [
           "Serious"
          ],
          [
           "Serious"
          ],
          [
           "Serious"
          ],
          [
           "Serious"
          ],
          [
           "Serious"
          ],
          [
           "Serious"
          ],
          [
           "Serious"
          ],
          [
           "Serious"
          ],
          [
           "Serious"
          ],
          [
           "Serious"
          ],
          [
           "Serious"
          ],
          [
           "Serious"
          ],
          [
           "Serious"
          ],
          [
           "Fatal"
          ],
          [
           "Serious"
          ],
          [
           "Serious"
          ],
          [
           "Serious"
          ],
          [
           "Serious"
          ],
          [
           "Serious"
          ],
          [
           "Serious"
          ],
          [
           "Fatal"
          ],
          [
           "Serious"
          ],
          [
           "Serious"
          ],
          [
           "Serious"
          ],
          [
           "Serious"
          ],
          [
           "Serious"
          ],
          [
           "Serious"
          ],
          [
           "Serious"
          ],
          [
           "Serious"
          ],
          [
           "Serious"
          ],
          [
           "Serious"
          ],
          [
           "Serious"
          ],
          [
           "Serious"
          ],
          [
           "Serious"
          ],
          [
           "Serious"
          ],
          [
           "Serious"
          ],
          [
           "Serious"
          ],
          [
           "Serious"
          ],
          [
           "Serious"
          ],
          [
           "Serious"
          ],
          [
           "Serious"
          ],
          [
           "Serious"
          ],
          [
           "Serious"
          ],
          [
           "Serious"
          ],
          [
           "Serious"
          ],
          [
           "Serious"
          ],
          [
           "Serious"
          ],
          [
           "Serious"
          ],
          [
           "Serious"
          ],
          [
           "Serious"
          ],
          [
           "Serious"
          ],
          [
           "Serious"
          ],
          [
           "Serious"
          ],
          [
           "Fatal"
          ],
          [
           "Fatal"
          ],
          [
           "Serious"
          ],
          [
           "Serious"
          ],
          [
           "Serious"
          ],
          [
           "Fatal"
          ],
          [
           "Fatal"
          ],
          [
           "Fatal"
          ],
          [
           "Serious"
          ],
          [
           "Serious"
          ],
          [
           "Fatal"
          ],
          [
           "Serious"
          ],
          [
           "Serious"
          ],
          [
           "Serious"
          ],
          [
           "Serious"
          ],
          [
           "Serious"
          ],
          [
           "Serious"
          ],
          [
           "Serious"
          ],
          [
           "Serious"
          ],
          [
           "Serious"
          ],
          [
           "Serious"
          ],
          [
           "Serious"
          ],
          [
           "Serious"
          ],
          [
           "Serious"
          ],
          [
           "Serious"
          ],
          [
           "Serious"
          ],
          [
           "Serious"
          ],
          [
           "Serious"
          ],
          [
           "Serious"
          ],
          [
           "Serious"
          ],
          [
           "Serious"
          ],
          [
           "Serious"
          ],
          [
           "Serious"
          ],
          [
           "Serious"
          ],
          [
           "Serious"
          ],
          [
           "Serious"
          ],
          [
           "Serious"
          ],
          [
           "Serious"
          ],
          [
           "Serious"
          ],
          [
           "Serious"
          ],
          [
           "Serious"
          ],
          [
           "Serious"
          ],
          [
           "Fatal"
          ],
          [
           "Serious"
          ],
          [
           "Serious"
          ],
          [
           "Serious"
          ],
          [
           "Serious"
          ],
          [
           "Serious"
          ],
          [
           "Serious"
          ],
          [
           "Serious"
          ],
          [
           "Serious"
          ],
          [
           "Serious"
          ],
          [
           "Serious"
          ],
          [
           "Serious"
          ],
          [
           "Serious"
          ],
          [
           "Serious"
          ],
          [
           "Serious"
          ],
          [
           "Fatal"
          ],
          [
           "Serious"
          ],
          [
           "Serious"
          ],
          [
           "Fatal"
          ],
          [
           "Serious"
          ],
          [
           "Serious"
          ],
          [
           "Serious"
          ],
          [
           "Serious"
          ],
          [
           "Serious"
          ],
          [
           "Serious"
          ],
          [
           "Serious"
          ],
          [
           "Serious"
          ],
          [
           "Serious"
          ],
          [
           "Serious"
          ],
          [
           "Serious"
          ],
          [
           "Serious"
          ],
          [
           "Serious"
          ],
          [
           "Serious"
          ],
          [
           "Serious"
          ],
          [
           "Serious"
          ],
          [
           "Serious"
          ],
          [
           "Serious"
          ],
          [
           "Serious"
          ],
          [
           "Serious"
          ],
          [
           "Serious"
          ],
          [
           "Serious"
          ],
          [
           "Serious"
          ],
          [
           "Serious"
          ],
          [
           "Serious"
          ],
          [
           "Serious"
          ],
          [
           "Serious"
          ],
          [
           "Serious"
          ],
          [
           "Serious"
          ],
          [
           "Serious"
          ],
          [
           "Serious"
          ],
          [
           "Serious"
          ],
          [
           "Serious"
          ],
          [
           "Serious"
          ],
          [
           "Serious"
          ],
          [
           "Serious"
          ],
          [
           "Serious"
          ],
          [
           "Serious"
          ],
          [
           "Serious"
          ],
          [
           "Serious"
          ],
          [
           "Serious"
          ],
          [
           "Serious"
          ],
          [
           "Fatal"
          ],
          [
           "Serious"
          ],
          [
           "Serious"
          ],
          [
           "Serious"
          ],
          [
           "Serious"
          ],
          [
           "Serious"
          ],
          [
           "Serious"
          ],
          [
           "Serious"
          ],
          [
           "Serious"
          ],
          [
           "Serious"
          ],
          [
           "Serious"
          ],
          [
           "Serious"
          ],
          [
           "Serious"
          ],
          [
           "Serious"
          ],
          [
           "Serious"
          ],
          [
           "Serious"
          ],
          [
           "Serious"
          ],
          [
           "Serious"
          ],
          [
           "Serious"
          ],
          [
           "Serious"
          ],
          [
           "Serious"
          ],
          [
           "Serious"
          ],
          [
           "Serious"
          ],
          [
           "Serious"
          ],
          [
           "Serious"
          ],
          [
           "Serious"
          ],
          [
           "Serious"
          ],
          [
           "Fatal"
          ],
          [
           "Fatal"
          ],
          [
           "Fatal"
          ],
          [
           "Fatal"
          ],
          [
           "Fatal"
          ],
          [
           "Fatal"
          ],
          [
           "Fatal"
          ],
          [
           "Fatal"
          ],
          [
           "Serious"
          ],
          [
           "Serious"
          ],
          [
           "Serious"
          ],
          [
           "Serious"
          ],
          [
           "Serious"
          ],
          [
           "Fatal"
          ],
          [
           "Serious"
          ],
          [
           "Serious"
          ],
          [
           "Serious"
          ],
          [
           "Serious"
          ],
          [
           "Serious"
          ],
          [
           "Serious"
          ],
          [
           "Serious"
          ],
          [
           "Serious"
          ],
          [
           "Serious"
          ],
          [
           "Serious"
          ],
          [
           "Serious"
          ],
          [
           "Serious"
          ],
          [
           "Serious"
          ],
          [
           "Fatal"
          ],
          [
           "Fatal"
          ],
          [
           "Serious"
          ],
          [
           "Serious"
          ],
          [
           "Serious"
          ],
          [
           "Serious"
          ],
          [
           "Serious"
          ],
          [
           "Serious"
          ],
          [
           "Fatal"
          ],
          [
           "Serious"
          ],
          [
           "Serious"
          ],
          [
           "Serious"
          ],
          [
           "Serious"
          ],
          [
           "Serious"
          ],
          [
           "Serious"
          ],
          [
           "Serious"
          ],
          [
           "Fatal"
          ],
          [
           "Fatal"
          ],
          [
           "Fatal"
          ],
          [
           "Serious"
          ],
          [
           "Serious"
          ],
          [
           "Fatal"
          ],
          [
           "Serious"
          ],
          [
           "Serious"
          ],
          [
           "Serious"
          ],
          [
           "Fatal"
          ],
          [
           "Fatal"
          ],
          [
           "Serious"
          ],
          [
           "Serious"
          ],
          [
           "Serious"
          ],
          [
           "Serious"
          ],
          [
           "Serious"
          ],
          [
           "Fatal"
          ],
          [
           "Serious"
          ],
          [
           "Fatal"
          ],
          [
           "Serious"
          ],
          [
           "Serious"
          ],
          [
           "Serious"
          ],
          [
           "Serious"
          ],
          [
           "Serious"
          ],
          [
           "Serious"
          ],
          [
           "Serious"
          ],
          [
           "Serious"
          ],
          [
           "Serious"
          ],
          [
           "Serious"
          ],
          [
           "Serious"
          ],
          [
           "Serious"
          ],
          [
           "Serious"
          ],
          [
           "Serious"
          ],
          [
           "Serious"
          ],
          [
           "Serious"
          ],
          [
           "Serious"
          ],
          [
           "Serious"
          ],
          [
           "Serious"
          ],
          [
           "Serious"
          ],
          [
           "Serious"
          ],
          [
           "Serious"
          ],
          [
           "Serious"
          ],
          [
           "Serious"
          ],
          [
           "Serious"
          ],
          [
           "Serious"
          ],
          [
           "Serious"
          ],
          [
           "Serious"
          ],
          [
           "Serious"
          ],
          [
           "Serious"
          ],
          [
           "Serious"
          ],
          [
           "Serious"
          ],
          [
           "Serious"
          ],
          [
           "Serious"
          ],
          [
           "Serious"
          ],
          [
           "Serious"
          ],
          [
           "Fatal"
          ],
          [
           "Fatal"
          ],
          [
           "Serious"
          ],
          [
           "Serious"
          ],
          [
           "Serious"
          ],
          [
           "Fatal"
          ],
          [
           "Serious"
          ],
          [
           "Serious"
          ],
          [
           "Serious"
          ],
          [
           "Serious"
          ],
          [
           "Serious"
          ],
          [
           "Serious"
          ],
          [
           "Serious"
          ],
          [
           "Serious"
          ],
          [
           "Serious"
          ],
          [
           "Serious"
          ],
          [
           "Serious"
          ],
          [
           "Serious"
          ],
          [
           "Fatal"
          ],
          [
           "Serious"
          ],
          [
           "Serious"
          ],
          [
           "Serious"
          ],
          [
           "Serious"
          ],
          [
           "Serious"
          ],
          [
           "Serious"
          ],
          [
           "Serious"
          ],
          [
           "Serious"
          ],
          [
           "Serious"
          ],
          [
           "Serious"
          ],
          [
           "Serious"
          ],
          [
           "Serious"
          ],
          [
           "Serious"
          ],
          [
           "Serious"
          ],
          [
           "Serious"
          ],
          [
           "Serious"
          ],
          [
           "Serious"
          ],
          [
           "Serious"
          ],
          [
           "Serious"
          ],
          [
           "Serious"
          ],
          [
           "Serious"
          ],
          [
           "Serious"
          ],
          [
           "Serious"
          ],
          [
           "Serious"
          ],
          [
           "Serious"
          ],
          [
           "Serious"
          ],
          [
           "Serious"
          ],
          [
           "Serious"
          ],
          [
           "Serious"
          ],
          [
           "Serious"
          ],
          [
           "Serious"
          ],
          [
           "Serious"
          ],
          [
           "Serious"
          ],
          [
           "Serious"
          ],
          [
           "Serious"
          ],
          [
           "Serious"
          ],
          [
           "Fatal"
          ],
          [
           "Fatal"
          ],
          [
           "Fatal"
          ],
          [
           "Fatal"
          ],
          [
           "Serious"
          ],
          [
           "Serious"
          ],
          [
           "Serious"
          ],
          [
           "Serious"
          ],
          [
           "Fatal"
          ],
          [
           "Serious"
          ],
          [
           "Serious"
          ],
          [
           "Fatal"
          ],
          [
           "Fatal"
          ],
          [
           "Fatal"
          ],
          [
           "Fatal"
          ],
          [
           "Serious"
          ],
          [
           "Serious"
          ],
          [
           "Serious"
          ],
          [
           "Serious"
          ],
          [
           "Serious"
          ],
          [
           "Serious"
          ],
          [
           "Serious"
          ],
          [
           "Serious"
          ],
          [
           "Serious"
          ],
          [
           "Serious"
          ],
          [
           "Serious"
          ],
          [
           "Serious"
          ],
          [
           "Serious"
          ],
          [
           "Serious"
          ],
          [
           "Serious"
          ],
          [
           "Serious"
          ],
          [
           "Serious"
          ],
          [
           "Fatal"
          ],
          [
           "Serious"
          ],
          [
           "Serious"
          ],
          [
           "Serious"
          ],
          [
           "Serious"
          ],
          [
           "Serious"
          ],
          [
           "Serious"
          ],
          [
           "Fatal"
          ],
          [
           "Serious"
          ],
          [
           "Serious"
          ],
          [
           "Serious"
          ],
          [
           "Serious"
          ],
          [
           "Serious"
          ],
          [
           "Serious"
          ],
          [
           "Serious"
          ],
          [
           "Serious"
          ],
          [
           "Serious"
          ],
          [
           "Serious"
          ],
          [
           "Serious"
          ],
          [
           "Serious"
          ],
          [
           "Serious"
          ],
          [
           "Serious"
          ],
          [
           "Serious"
          ],
          [
           "Serious"
          ],
          [
           "Serious"
          ],
          [
           "Serious"
          ],
          [
           "Serious"
          ],
          [
           "Serious"
          ],
          [
           "Serious"
          ],
          [
           "Serious"
          ],
          [
           "Serious"
          ],
          [
           "Serious"
          ],
          [
           "Serious"
          ],
          [
           "Serious"
          ],
          [
           "Fatal"
          ],
          [
           "Serious"
          ],
          [
           "Serious"
          ],
          [
           "Serious"
          ],
          [
           "Serious"
          ],
          [
           "Serious"
          ],
          [
           "Serious"
          ],
          [
           "Serious"
          ],
          [
           "Serious"
          ],
          [
           "Serious"
          ],
          [
           "Serious"
          ],
          [
           "Serious"
          ],
          [
           "Serious"
          ],
          [
           "Serious"
          ],
          [
           "Serious"
          ],
          [
           "Serious"
          ],
          [
           "Serious"
          ],
          [
           "Serious"
          ],
          [
           "Serious"
          ],
          [
           "Serious"
          ],
          [
           "Serious"
          ],
          [
           "Serious"
          ],
          [
           "Serious"
          ],
          [
           "Serious"
          ],
          [
           "Serious"
          ],
          [
           "Serious"
          ],
          [
           "Serious"
          ],
          [
           "Serious"
          ],
          [
           "Serious"
          ],
          [
           "Serious"
          ],
          [
           "Serious"
          ],
          [
           "Serious"
          ],
          [
           "Serious"
          ],
          [
           "Serious"
          ],
          [
           "Serious"
          ],
          [
           "Serious"
          ],
          [
           "Serious"
          ],
          [
           "Fatal"
          ],
          [
           "Fatal"
          ],
          [
           "Serious"
          ],
          [
           "Serious"
          ],
          [
           "Serious"
          ],
          [
           "Serious"
          ],
          [
           "Serious"
          ],
          [
           "Serious"
          ],
          [
           "Serious"
          ],
          [
           "Serious"
          ],
          [
           "Serious"
          ],
          [
           "Serious"
          ],
          [
           "Serious"
          ],
          [
           "Serious"
          ],
          [
           "Serious"
          ],
          [
           "Serious"
          ],
          [
           "Serious"
          ],
          [
           "Serious"
          ],
          [
           "Serious"
          ],
          [
           "Serious"
          ],
          [
           "Serious"
          ],
          [
           "Serious"
          ],
          [
           "Serious"
          ],
          [
           "Serious"
          ],
          [
           "Serious"
          ],
          [
           "Serious"
          ],
          [
           "Serious"
          ],
          [
           "Serious"
          ],
          [
           "Serious"
          ],
          [
           "Serious"
          ],
          [
           "Serious"
          ],
          [
           "Serious"
          ],
          [
           "Serious"
          ],
          [
           "Serious"
          ],
          [
           "Serious"
          ],
          [
           "Serious"
          ],
          [
           "Serious"
          ],
          [
           "Serious"
          ],
          [
           "Serious"
          ],
          [
           "Serious"
          ],
          [
           "Serious"
          ],
          [
           "Serious"
          ],
          [
           "Serious"
          ],
          [
           "Serious"
          ],
          [
           "Serious"
          ],
          [
           "Serious"
          ],
          [
           "Serious"
          ],
          [
           "Serious"
          ],
          [
           "Serious"
          ],
          [
           "Serious"
          ],
          [
           "Serious"
          ],
          [
           "Serious"
          ],
          [
           "Serious"
          ],
          [
           "Serious"
          ],
          [
           "Serious"
          ],
          [
           "Serious"
          ],
          [
           "Serious"
          ],
          [
           "Serious"
          ],
          [
           "Fatal"
          ],
          [
           "Serious"
          ],
          [
           "Serious"
          ],
          [
           "Serious"
          ],
          [
           "Serious"
          ],
          [
           "Serious"
          ],
          [
           "Serious"
          ],
          [
           "Serious"
          ],
          [
           "Serious"
          ],
          [
           "Serious"
          ],
          [
           "Serious"
          ],
          [
           "Serious"
          ],
          [
           "Serious"
          ],
          [
           "Serious"
          ],
          [
           "Serious"
          ],
          [
           "Fatal"
          ],
          [
           "Fatal"
          ],
          [
           "Serious"
          ],
          [
           "Serious"
          ],
          [
           "Fatal"
          ],
          [
           "Serious"
          ],
          [
           "Fatal"
          ],
          [
           "Serious"
          ],
          [
           "Serious"
          ],
          [
           "Serious"
          ],
          [
           "Serious"
          ],
          [
           "Fatal"
          ],
          [
           "Fatal"
          ],
          [
           "Serious"
          ],
          [
           "Serious"
          ],
          [
           "Serious"
          ],
          [
           "Serious"
          ],
          [
           "Serious"
          ],
          [
           "Serious"
          ],
          [
           "Serious"
          ],
          [
           "Serious"
          ],
          [
           "Serious"
          ],
          [
           "Serious"
          ],
          [
           "Serious"
          ],
          [
           "Serious"
          ],
          [
           "Serious"
          ],
          [
           "Serious"
          ]
         ],
         "hovertemplate": "<b>%{hovertext}</b><br><br>Latitude=%{lat}<br>Longitude=%{lon}<br>Casualty_Severity=%{customdata[0]}<extra></extra>",
         "hovertext": [
          0,
          1,
          6,
          2,
          9,
          72,
          52,
          49,
          2,
          48,
          7,
          3,
          71,
          51,
          4,
          5,
          51,
          6,
          7,
          49,
          7,
          3,
          4,
          8,
          4,
          9,
          71,
          0,
          0,
          10,
          1,
          51,
          6,
          11,
          11,
          11,
          11,
          11,
          11,
          11,
          12,
          13,
          13,
          13,
          13,
          13,
          13,
          13,
          13,
          14,
          14,
          14,
          14,
          14,
          15,
          16,
          16,
          17,
          18,
          18,
          18,
          93,
          19,
          93,
          20,
          83,
          83,
          83,
          83,
          83,
          21,
          21,
          21,
          21,
          21,
          21,
          21,
          21,
          22,
          22,
          23,
          23,
          23,
          23,
          23,
          23,
          24,
          25,
          25,
          26,
          26,
          26,
          26,
          26,
          26,
          26,
          26,
          26,
          26,
          26,
          26,
          26,
          26,
          26,
          27,
          27,
          27,
          27,
          27,
          27,
          27,
          27,
          28,
          28,
          28,
          28,
          28,
          28,
          28,
          29,
          29,
          29,
          29,
          29,
          29,
          29,
          29,
          30,
          30,
          30,
          30,
          31,
          31,
          31,
          31,
          31,
          31,
          31,
          33,
          32,
          32,
          32,
          32,
          32,
          32,
          32,
          32,
          33,
          34,
          35,
          35,
          36,
          35,
          36,
          37,
          35,
          38,
          39,
          39,
          39,
          39,
          40,
          41,
          41,
          41,
          41,
          41,
          41,
          41,
          41,
          41,
          41,
          41,
          41,
          41,
          41,
          42,
          42,
          42,
          42,
          42,
          42,
          43,
          44,
          44,
          44,
          45,
          45,
          45,
          45,
          45,
          45,
          45,
          88,
          88,
          88,
          88,
          46,
          46,
          46,
          46,
          46,
          46,
          46,
          46,
          51,
          47,
          47,
          69,
          8,
          8,
          48,
          2,
          8,
          2,
          5,
          10,
          49,
          47,
          47,
          69,
          50,
          9,
          5,
          51,
          49,
          7,
          71,
          71,
          8,
          4,
          10,
          71,
          48,
          3,
          69,
          1,
          39,
          2,
          6,
          1,
          51,
          7,
          52,
          12,
          12,
          12,
          53,
          54,
          55,
          55,
          55,
          55,
          55,
          55,
          55,
          55,
          55,
          15,
          15,
          56,
          56,
          56,
          56,
          56,
          56,
          56,
          93,
          57,
          57,
          57,
          57,
          57,
          57,
          57,
          58,
          93,
          59,
          59,
          59,
          59,
          59,
          59,
          59,
          17,
          60,
          60,
          60,
          22,
          22,
          24,
          25,
          61,
          61,
          61,
          61,
          61,
          61,
          61,
          61,
          61,
          61,
          62,
          62,
          62,
          62,
          62,
          62,
          62,
          62,
          62,
          63,
          30,
          30,
          63,
          33,
          33,
          31,
          34,
          34,
          64,
          64,
          64,
          64,
          64,
          64,
          64,
          34,
          34,
          34,
          34,
          34,
          34,
          36,
          35,
          37,
          35,
          35,
          39,
          43,
          43,
          43,
          44,
          65,
          65,
          65,
          65,
          65,
          65,
          65,
          65,
          65,
          88,
          66,
          66,
          66,
          66,
          66,
          66,
          66,
          67,
          67,
          67,
          67,
          67,
          67,
          67,
          68,
          50,
          49,
          50,
          6,
          5,
          72,
          48,
          69,
          9,
          50,
          72,
          49,
          8,
          8,
          0,
          47,
          48,
          70,
          70,
          70,
          70,
          70,
          70,
          70,
          52,
          3,
          5,
          9,
          69,
          50,
          7,
          52,
          4,
          5,
          52,
          52,
          52,
          69,
          7,
          71,
          0,
          50,
          8,
          71,
          72,
          72,
          4,
          49,
          0,
          7,
          1,
          50,
          73,
          73,
          73,
          73,
          73,
          73,
          73,
          73,
          73,
          14,
          14,
          54,
          54,
          54,
          54,
          54,
          54,
          15,
          74,
          74,
          74,
          74,
          74,
          74,
          74,
          74,
          15,
          15,
          17,
          17,
          19,
          20,
          20,
          20,
          20,
          17,
          17,
          93,
          83,
          75,
          76,
          22,
          22,
          22,
          22,
          22,
          25,
          25,
          25,
          25,
          63,
          30,
          63,
          77,
          77,
          77,
          77,
          77,
          77,
          77,
          77,
          77,
          77,
          77,
          77,
          77,
          77,
          77,
          77,
          78,
          78,
          78,
          78,
          78,
          78,
          78,
          33,
          79,
          79,
          79,
          79,
          79,
          79,
          79,
          80,
          80,
          80,
          80,
          36,
          35,
          38,
          38,
          38,
          38,
          38,
          38,
          81,
          81,
          81,
          81,
          81,
          81,
          81,
          43,
          43,
          82,
          82,
          82,
          82,
          82,
          68,
          68,
          68,
          68,
          68,
          68,
          49,
          51,
          1,
          5,
          6,
          0,
          4,
          9,
          7,
          72,
          72,
          9,
          6,
          10,
          10,
          0,
          1,
          3,
          2,
          2,
          53,
          53,
          53,
          53,
          53,
          53,
          12,
          12,
          54,
          19,
          16,
          16,
          16,
          16,
          16,
          16,
          16,
          16,
          16,
          16,
          19,
          19,
          17,
          58,
          58,
          58,
          58,
          58,
          19,
          19,
          93,
          83,
          60,
          60,
          75,
          76,
          76,
          76,
          76,
          76,
          76,
          84,
          84,
          84,
          84,
          84,
          84,
          84,
          22,
          24,
          24,
          24,
          24,
          24,
          25,
          85,
          85,
          85,
          85,
          85,
          85,
          85,
          85,
          85,
          85,
          85,
          85,
          30,
          30,
          30,
          86,
          86,
          86,
          86,
          86,
          86,
          86,
          87,
          87,
          87,
          87,
          87,
          87,
          87,
          87,
          63,
          33,
          33,
          33,
          36,
          35,
          37,
          36,
          39,
          40,
          40,
          40,
          40,
          42,
          44,
          88,
          88,
          89,
          89,
          89,
          89,
          89,
          89,
          89,
          82,
          82,
          82,
          90,
          90,
          90,
          90,
          90,
          90,
          90,
          39,
          38,
          9,
          7,
          49,
          48,
          48,
          10,
          0,
          10,
          10,
          8,
          69,
          47,
          47,
          3,
          1,
          3,
          12,
          15,
          91,
          91,
          91,
          91,
          91,
          91,
          91,
          91,
          92,
          92,
          92,
          92,
          92,
          92,
          92,
          92,
          92,
          20,
          20,
          18,
          18,
          18,
          18,
          58,
          93,
          17,
          60,
          60,
          75,
          75,
          75,
          75,
          75,
          94,
          94,
          94,
          94,
          94,
          94,
          94,
          23,
          25,
          85,
          85,
          95,
          95,
          95,
          95,
          95,
          95,
          95,
          95,
          95,
          63,
          63,
          31,
          80,
          80,
          80,
          80,
          35,
          35,
          35,
          37,
          37,
          37,
          96,
          96,
          96,
          96,
          96,
          96,
          96,
          37,
          36,
          35,
          40,
          40,
          40,
          97,
          97,
          97,
          97,
          97,
          97,
          97,
          42,
          42,
          42,
          42,
          98,
          98,
          98,
          98,
          98,
          98,
          98,
          99,
          99,
          99,
          99,
          99,
          99,
          99,
          99,
          99,
          99,
          100,
          100,
          100,
          100,
          100,
          100,
          100,
          43,
          43,
          44,
          44,
          46,
          46,
          101,
          101,
          101,
          101,
          101,
          101,
          101,
          101,
          101,
          101,
          101,
          101,
          101,
          101
         ],
         "lat": [
          51.56561822797051,
          51.49651550423678,
          51.526385016733926,
          51.52748948036083,
          51.488803130427186,
          51.52236121668528,
          51.519093993037096,
          51.5161457467108,
          51.52755281777541,
          51.523758652662565,
          51.507302688146,
          51.48832546197817,
          51.51527513064885,
          51.514388964266665,
          51.48581554211772,
          51.5355059556199,
          51.514577306192415,
          51.526395262886055,
          51.50723898142699,
          51.516215855696394,
          51.507207769123596,
          51.4884257623228,
          51.48584694144626,
          51.514819698377515,
          51.48585562545339,
          51.48861246766588,
          51.515296644962554,
          51.56558678505958,
          51.565498713571955,
          51.55619776853029,
          51.49656185295848,
          51.51459957520185,
          51.526433597133305,
          53.53920739966965,
          53.53922437538507,
          53.539277427773996,
          53.53926897509538,
          53.53921252041958,
          53.53925000146427,
          53.53927293668242,
          53.49320399728206,
          53.51231844721839,
          53.512362626265976,
          53.5123118737981,
          53.512328287228186,
          53.512334655247756,
          53.51230309217281,
          53.51234590259931,
          53.51230733225761,
          53.52379979354107,
          53.523737892664734,
          53.52380184881038,
          53.523771254481865,
          53.523743373637174,
          53.96860794623596,
          53.47202953491264,
          53.47199744649871,
          53.436352917336514,
          53.487494488948784,
          53.48750804105145,
          53.487504786798326,
          53.3886020698282,
          53.387584626150414,
          53.38865977379173,
          53.5200240833595,
          53.76845831657802,
          53.76846351677351,
          53.76868158029269,
          53.76849708789497,
          53.768653321932106,
          52.52360623870173,
          52.523540628534505,
          52.52360401964635,
          52.52358113524953,
          52.523605170850054,
          52.523531517791014,
          52.523583492131486,
          52.52357914242913,
          52.34103951418036,
          52.341040397405614,
          52.78598497436299,
          52.78603539247416,
          52.786013955787254,
          52.78605610795118,
          52.78600501451072,
          52.78596786475024,
          52.85929540480345,
          52.74779117089,
          52.747758117029775,
          52.35944162341592,
          52.359479308589705,
          52.359473299476434,
          52.35951939550867,
          52.35952073118148,
          52.35953811112146,
          52.359473681017455,
          52.35946350257681,
          52.35950324353519,
          52.359527785206225,
          52.35948634728228,
          52.35948919469113,
          52.35947193735195,
          52.359516893143834,
          52.35950640308145,
          52.443669675763864,
          52.443707573456464,
          52.443741641563186,
          52.44373023990264,
          52.4436826634402,
          52.44373075536217,
          52.443684630082,
          52.44367804066811,
          51.70617515360943,
          51.70615963600069,
          51.70616270037487,
          51.706222389127895,
          51.706192103435974,
          51.7062280699616,
          51.70618973228484,
          51.88903289832275,
          51.888988901255196,
          51.88899047160525,
          51.889041674946085,
          51.889049363545425,
          51.88901666379935,
          51.8890553392262,
          51.8889974910605,
          51.74997839249742,
          51.74994848763338,
          51.74996797759957,
          51.74999966290654,
          50.70264405595637,
          50.70262616364544,
          50.70265626602654,
          50.702681192455444,
          50.70268912929117,
          50.702669483657225,
          50.70264668828214,
          50.89889510646072,
          50.943037389194494,
          50.94299807312185,
          50.94300849494775,
          50.94305811040002,
          50.94304986546028,
          50.943065478911336,
          50.94301019207033,
          50.943009100645185,
          50.89876647209073,
          51.35451561357951,
          50.823623251650076,
          50.82368795862083,
          50.82097912090428,
          50.82373255901546,
          50.82107218334435,
          50.83562616046293,
          50.82381909308635,
          51.51731782067708,
          51.51612232271516,
          51.516030662350694,
          51.51609496454879,
          51.5160329123649,
          50.253325053399635,
          50.43026916545252,
          50.430281059311845,
          50.43030134801039,
          50.4303021432423,
          50.430266548648575,
          50.43029745156996,
          50.430290471474386,
          50.430268891454105,
          50.43024554959933,
          50.43024380450073,
          50.43032149847562,
          50.43027303764434,
          50.430299237943075,
          50.4302477001152,
          53.10457510444279,
          53.10458975508295,
          53.10463670689628,
          53.10463860161494,
          53.10464515624607,
          53.10458307657148,
          52.68631896844644,
          57.802208172909026,
          57.80220471017418,
          57.802209155252875,
          56.91170407470921,
          56.91178797835807,
          56.911751786300535,
          56.911712198279844,
          56.91174031546196,
          56.91175421739815,
          56.91172061732938,
          56.49485864569029,
          56.49492619765538,
          56.494708963866294,
          56.4947429362375,
          56.45207178362019,
          56.45202265821535,
          56.45211104498869,
          56.45202573937933,
          56.45208734818579,
          56.45207722964508,
          56.452093779066516,
          56.45202221193003,
          51.51461022204002,
          51.56677369683499,
          51.566783607086926,
          51.51953105917328,
          51.514753297734444,
          51.51472074559133,
          51.523731498284654,
          51.52758559950219,
          51.51472889558705,
          51.527591061110684,
          51.5356045214222,
          51.55613959597454,
          51.516132998651344,
          51.56680773314009,
          51.56678816288883,
          51.51955355626241,
          51.461330482671194,
          51.488799288946325,
          51.53558825614749,
          51.51451609366962,
          51.51624134804285,
          51.50728056268867,
          51.51522358837624,
          51.51526515067274,
          51.514725423812656,
          51.48579918996691,
          51.55621479345716,
          51.515236428139495,
          51.523706086338336,
          51.48849539347775,
          51.51952279910312,
          51.49647650823693,
          51.51615658996706,
          51.52754966437646,
          51.526520795507224,
          51.49650246975439,
          51.5144789945949,
          51.507163680454354,
          51.51901773024032,
          53.49316025171548,
          53.49322582398258,
          53.49312066480243,
          53.38665133156113,
          53.16150075619153,
          54.223596361890976,
          54.22366078555018,
          54.22360849089591,
          54.2235881543938,
          54.22358601551459,
          54.22363594233384,
          54.22361373320251,
          54.22364666730789,
          54.22363382634936,
          53.96860663515539,
          53.96875101002282,
          53.83472747120382,
          53.83479391625172,
          53.83472778704787,
          53.834768706550676,
          53.83475095443581,
          53.83474397573199,
          53.834728685876236,
          53.388825601727085,
          53.46532708433765,
          53.46532786693659,
          53.46532198042649,
          53.46531377838531,
          53.46539748868811,
          53.46533832957858,
          53.465384991152234,
          53.45585361057575,
          53.38877957875882,
          53.38417282006378,
          53.38424090774758,
          53.38425866841412,
          53.384230654374015,
          53.384251077461094,
          53.3842257948011,
          53.38419588803414,
          53.43641644830925,
          52.46587659803227,
          52.46577302284482,
          52.465824369778126,
          52.34107077322143,
          52.34103691821107,
          52.85932846996593,
          52.74775624493611,
          52.434381008996674,
          52.43441849069479,
          52.43437601624883,
          52.434415440039324,
          52.434347931089974,
          52.43438418810547,
          52.43438086853599,
          52.43438558661152,
          52.43436615660634,
          52.43441386985568,
          52.61410286029584,
          52.61409222956031,
          52.61402873527048,
          52.61408951305845,
          52.6140568196101,
          52.61410077289649,
          52.61401979308777,
          52.61402943977484,
          52.61408719330127,
          51.45988437400413,
          51.750022942072135,
          51.74998236506685,
          51.45998024145136,
          50.898746397834095,
          50.898873696017745,
          50.70261409453791,
          51.35449348104109,
          51.354523898512326,
          51.43404132524102,
          51.43403914882303,
          51.43403965033798,
          51.4340090084558,
          51.43400393472252,
          51.43406704777484,
          51.434019992319264,
          51.35451042410221,
          51.35452138600196,
          51.354561364382214,
          51.354546991381554,
          51.35455220438521,
          51.354563257695574,
          50.821235126308586,
          50.82362033480524,
          50.83565572021376,
          50.82366328226041,
          50.823645407409515,
          51.516111668843315,
          52.68632932053719,
          52.68634703589096,
          52.68630523545201,
          57.80233727429021,
          57.5046693358179,
          57.50464344794757,
          57.504640677513436,
          57.50463498619641,
          57.504635457634976,
          57.504675357268674,
          57.50468648372217,
          57.50468242520005,
          57.50469571311057,
          56.494698014125724,
          55.706654371387415,
          55.706606225458415,
          55.706646045915306,
          55.7066612147086,
          55.70667982489678,
          55.70664005798302,
          55.70663502970127,
          55.87362904653884,
          55.87364172412119,
          55.87365865920522,
          55.87366216547974,
          55.87368292395249,
          55.87367318695284,
          55.873676193774486,
          54.93257776443667,
          51.46126509236879,
          51.51606951302389,
          51.461362388717326,
          51.52630951408571,
          51.53561027476467,
          51.522107813848834,
          51.52372433505509,
          51.519581734874514,
          51.48855134284355,
          51.461263849943904,
          51.52228632187601,
          51.516113060772106,
          51.5147920217297,
          51.51476319403764,
          51.56547590067815,
          51.5666951859259,
          51.52363845301799,
          51.346020595693965,
          51.3460145812703,
          51.346060876769,
          51.346072688672194,
          51.34606580214191,
          51.34604065947498,
          51.346004844954095,
          51.51900059274138,
          51.488279537699384,
          51.53556944377887,
          51.48874322856374,
          51.51943192241255,
          51.461263291041625,
          51.5071487413622,
          51.519067546179166,
          51.48582190326731,
          51.53556876715617,
          51.51911062673666,
          51.519093817999526,
          51.51915213756179,
          51.51953785060272,
          51.507159155555875,
          51.5152104861997,
          51.565348892638504,
          51.461327623450345,
          51.51477651880816,
          51.515356847998994,
          51.52221030156729,
          51.52218002275891,
          51.4857896450626,
          51.516087689107,
          51.565558746092385,
          51.507404262749844,
          51.49639270197118,
          51.46144928203002,
          54.26825185918938,
          54.26825663383218,
          54.268254583991336,
          54.26827697121778,
          54.26821487385737,
          54.26825639599195,
          54.26823671688653,
          54.268244159646464,
          54.26825992409005,
          53.523888392923816,
          53.52388815443753,
          53.16160695179129,
          53.1616436882906,
          53.161578362158586,
          53.16159000088476,
          53.161578604047875,
          53.161619576635104,
          53.968634635183875,
          53.64594911233497,
          53.64590715579137,
          53.645916584817755,
          53.64590436201226,
          53.64597130793264,
          53.64596572244414,
          53.64594904782493,
          53.64594643746654,
          53.96866095777133,
          53.96858510950317,
          53.43634113251139,
          53.436364250572105,
          53.387418685981444,
          53.52012810156731,
          53.52009060611316,
          53.5201100647583,
          53.52007296337518,
          53.43637696985518,
          53.43637727733463,
          53.38860370858568,
          53.76868121505213,
          52.45582783859248,
          52.99987244877584,
          52.341070049912716,
          52.341023303401414,
          52.34102423981723,
          52.341057869547896,
          52.34103446804333,
          52.747915309936516,
          52.747953253499176,
          52.747933685726075,
          52.74776283329586,
          51.45990598459331,
          51.75000660381676,
          51.459975634837065,
          52.083921137120406,
          52.08389939343003,
          52.083935320875554,
          52.08395219903272,
          52.083966833738444,
          52.08396951733517,
          52.083916601810714,
          52.08394388595138,
          52.083897292895294,
          52.083933292138774,
          52.083916713289604,
          52.083930702349534,
          52.084044241893544,
          52.08408900826321,
          52.08412299318409,
          52.0840692353396,
          51.48692286635348,
          51.48695670721073,
          51.48696103614456,
          51.48695598357211,
          51.48690790515528,
          51.486971599984386,
          51.486967553076425,
          50.89873980676689,
          51.377917727340034,
          51.37794497193513,
          51.377969967659816,
          51.37791412753751,
          51.377975171813134,
          51.3779359418238,
          51.37791450773494,
          51.19229154343235,
          51.19231020820851,
          51.192285718774116,
          51.19235312320985,
          50.821220070640024,
          50.82364438238152,
          51.51744915122982,
          51.517437188328074,
          51.51744267678738,
          51.517442332507066,
          51.517375714819025,
          51.51742723133163,
          51.567564239726266,
          51.567558697773705,
          51.567625923577666,
          51.56757580431233,
          51.567557220956175,
          51.56759163971191,
          51.567618030272975,
          52.686510768688066,
          52.686499464602164,
          55.41532716275915,
          55.4152966198864,
          55.41526393239382,
          55.4153451696227,
          55.41528478472796,
          54.93252980222149,
          54.93244641732757,
          54.932504290611654,
          54.93250318512274,
          54.93250950081364,
          54.93248376340618,
          51.5160927308771,
          51.5144762707953,
          51.49647567888755,
          51.53535007363418,
          51.52637830952585,
          51.56557580975984,
          51.48583057247677,
          51.48866327368935,
          51.50716794134574,
          51.52206961128708,
          51.522079458654204,
          51.48841186375463,
          51.52631800872599,
          51.55605877342042,
          51.556141731533806,
          51.56551871401937,
          51.496407833878806,
          51.48823647860956,
          51.52746311902525,
          51.52739434754182,
          53.38652265538556,
          53.38658470816993,
          53.38659646460832,
          53.38656296490038,
          53.38652432747715,
          53.386577737309466,
          53.493136635115405,
          53.493120679005685,
          53.16159540611095,
          53.38748674325955,
          53.47200768963527,
          53.47197412944269,
          53.4720189102824,
          53.47197257339713,
          53.47199249995795,
          53.47201390847203,
          53.47198442137115,
          53.471943165970615,
          53.47201778664492,
          53.472012480193435,
          53.387581683255846,
          53.38756960504118,
          53.43636780495867,
          53.45586380377984,
          53.455826643561714,
          53.45581223673144,
          53.45583910535126,
          53.45582222171345,
          53.38734481170968,
          53.38738840497176,
          53.38874385548322,
          53.76856453870391,
          52.46587193351286,
          52.465896925269554,
          52.45577711248415,
          52.999823677410454,
          52.9997940750986,
          52.99983751430837,
          52.99985926655374,
          52.99981472559863,
          52.9998754189794,
          52.64015192381194,
          52.64016897550949,
          52.6402124072207,
          52.64019282794601,
          52.64013801685215,
          52.64015480564363,
          52.640157014806746,
          52.34105009199723,
          52.8591743869491,
          52.85924202111554,
          52.859216716669984,
          52.85922517154503,
          52.859313272534635,
          52.74769157924473,
          52.5053376061228,
          52.50535826825522,
          52.50535658124652,
          52.50534939800104,
          52.50535598756369,
          52.50536604864446,
          52.505330123643105,
          52.5053943510853,
          52.505325721152964,
          52.505374669574,
          52.505363213781536,
          52.50536988602164,
          51.74989479691418,
          51.74992833617908,
          51.74993130250289,
          51.60814604146072,
          51.60812393997679,
          51.60809233353198,
          51.60810994774726,
          51.60807423651357,
          51.60812590225795,
          51.60807333232661,
          51.54163377392333,
          51.54159038016356,
          51.541532790927626,
          51.54158365359557,
          51.541559483014694,
          51.541517021218446,
          51.54156015135661,
          51.54155357498106,
          51.45980867082579,
          50.898641317498864,
          50.898801138340154,
          50.89865865424382,
          50.82097550722826,
          50.82363305439873,
          50.83556862856159,
          50.82096572498711,
          51.51611273670697,
          50.253230633622124,
          50.25325409635978,
          50.253277614670246,
          50.25326194839585,
          53.104479663943906,
          57.80249416700845,
          56.49489099175667,
          56.4948695345179,
          55.57561749157992,
          55.57560758480669,
          55.57564954361261,
          55.57566953320772,
          55.575623584389874,
          55.57564202005682,
          55.57561301114523,
          55.41526327120768,
          55.41521777003369,
          55.41527382724817,
          55.73182348880687,
          55.73184725882036,
          55.73186987761324,
          55.73184022598867,
          55.73181953675989,
          55.731855503907035,
          55.73185284473272,
          51.516145224963374,
          51.51723134480261,
          51.48878086273229,
          51.50715664422243,
          51.516062451832,
          51.523730435482335,
          51.52375981131296,
          51.55620259446178,
          51.565596539219214,
          51.55616880674914,
          51.55609278675823,
          51.514750165421795,
          51.51953157131898,
          51.566768556308716,
          51.566751924650504,
          51.48835432676825,
          51.496499680427306,
          51.48833903918341,
          53.493131152285706,
          53.968564485522016,
          53.69500311349286,
          53.695017195405505,
          53.6949465650848,
          53.69495247304385,
          53.69499270622299,
          53.69499800978415,
          53.69500480549824,
          53.69495848167342,
          53.74594578494835,
          53.74589599575622,
          53.74597645356043,
          53.745976279812865,
          53.74589683046555,
          53.74595336636649,
          53.74593573202082,
          53.745911908793715,
          53.74591199259672,
          53.51999309654082,
          53.52003601555549,
          53.487421317095134,
          53.48744287040554,
          53.487431624403534,
          53.48743787956792,
          53.4557906150255,
          53.3886995186518,
          53.43635497598082,
          52.4659190873973,
          52.46590393718035,
          52.45579338896127,
          52.45577770448943,
          52.45573241696237,
          52.4557408508172,
          52.45578145803873,
          52.694086486804174,
          52.69411497283365,
          52.69408040734029,
          52.69414657437732,
          52.69409975005517,
          52.69414388117746,
          52.69408623945175,
          52.785871285237995,
          52.74776517763043,
          52.50546228615772,
          52.50538685983044,
          51.791351648600816,
          51.79132359179941,
          51.7913496208178,
          51.79130286041151,
          51.79133047210025,
          51.7913256978874,
          51.79129449965134,
          51.79137626242665,
          51.791366688158796,
          51.459893010283004,
          51.45994628575691,
          50.70268584882359,
          51.19227110803781,
          51.19226689783299,
          51.19226933965706,
          51.19223586552125,
          50.82379653463888,
          50.823762694483605,
          50.82367469296417,
          50.8355937526839,
          50.835636589340446,
          50.83564313353214,
          50.82347336985366,
          50.82349187684147,
          50.823528353497494,
          50.82347470180544,
          50.82348797908224,
          50.823545928558126,
          50.823480281202905,
          50.83565178643965,
          50.82094480664223,
          50.82367554656793,
          50.253343466936784,
          50.253300637536604,
          50.253294762255955,
          50.2982516821375,
          50.298300331458684,
          50.298276832262275,
          50.298266825892625,
          50.29827633507804,
          50.29824941582667,
          50.298304600392086,
          53.104593740171005,
          53.10462564840899,
          53.10465651728487,
          53.104630844070876,
          51.49011138336984,
          51.4901219787475,
          51.49013914166098,
          51.49014231245648,
          51.49013489052401,
          51.490109690994004,
          51.490183103142805,
          51.47708203653465,
          51.47709154555462,
          51.47709311643676,
          51.477110149072935,
          51.47704731413404,
          51.477102095459564,
          51.4770884212166,
          51.47704469059447,
          51.477089783870944,
          51.477109504859094,
          51.88865827598329,
          51.88862246828698,
          51.88861623588261,
          51.88860423385314,
          51.888642048919316,
          51.88866557680501,
          51.8886201894608,
          52.68627109589767,
          52.68607882482106,
          57.80236890680656,
          57.802333236042976,
          56.452080286555045,
          56.452081285575744,
          56.23004232320321,
          56.23005537394621,
          56.230074988349145,
          56.23007619144302,
          56.23011564259578,
          56.23006399848784,
          56.23011819582977,
          56.230064020208125,
          56.230098166898635,
          56.23007709632546,
          56.23012445392498,
          56.23005086521196,
          56.23004788936164,
          56.230038628120305
         ],
         "legendgroup": "",
         "lon": [
          -0.10301566854910434,
          -0.1114084331492533,
          -0.1334940678849414,
          -0.3522319431863878,
          -0.12934459239197815,
          -0.15759609239326605,
          -0.05969645497094323,
          -0.13437711946812056,
          -0.3524263593254514,
          -0.07925608720620497,
          -0.12789027380588788,
          -0.10599570105065757,
          -0.14222953911369124,
          -0.19903799771092381,
          -0.14981835040030203,
          -0.08226188840592959,
          -0.19911899179810133,
          -0.13360121820789556,
          -0.1277793646772317,
          -0.13463831387128078,
          -0.1276611716661642,
          -0.10584368085650131,
          -0.1498233440621045,
          -0.06203957542499519,
          -0.15013418073137738,
          -0.12934079105065757,
          -0.14199464065479284,
          -0.10321224288550364,
          -0.10321568600152435,
          -0.05537998088038024,
          -0.11138854984015922,
          -0.19910882203755959,
          -0.13366222314550133,
          -2.817692351317347,
          -2.817722566892102,
          -2.817728116309385,
          -2.8177155801396823,
          -2.817677021527035,
          -2.8177315730739605,
          -2.817687025261524,
          -2.9533423265274945,
          -2.2389181285649298,
          -2.238871565991883,
          -2.2388998046451434,
          -2.238866238119002,
          -2.2388880872570764,
          -2.2389100732999987,
          -2.238942624633013,
          -2.2389364976412653,
          -2.1213159095057605,
          -2.12124835829399,
          -2.121267761415762,
          -2.121254524538556,
          -2.12131545604729,
          -1.9971996745802314,
          -1.0363792459948313,
          -1.036381113084074,
          -1.5385585994221544,
          -1.3042393758576039,
          -1.3042501583797186,
          -1.3043801567597029,
          -1.4606587176187928,
          -1.4621844626560445,
          -1.460789494724135,
          -1.5855612251677422,
          -0.3537478059501207,
          -0.3538472468751395,
          -0.3537364230682952,
          -0.3537098667225292,
          -0.3535852019197199,
          -1.8434353712301481,
          -1.8434483323706963,
          -1.843392251015618,
          -1.8433763124833231,
          -1.8433786166148372,
          -1.8434061018559156,
          -1.8434012189031763,
          -1.8434046238372261,
          -2.194740540846239,
          -2.1947854240662465,
          -2.9462624596721843,
          -2.9462714326693504,
          -2.9462440859426557,
          -2.9462631399075234,
          -2.9463029936879885,
          -2.946376896302499,
          -1.6014943335889422,
          -1.3021255471712334,
          -1.302153791719042,
          -0.042586937261921864,
          -0.04269552950688635,
          -0.0426708483523918,
          -0.04267595946623452,
          -0.0426547270043327,
          -0.04265682304327789,
          -0.04265380535108955,
          -0.042653627208534675,
          -0.042656887579061935,
          -0.04267627688612011,
          -0.04265676064672566,
          -0.042689951581304716,
          -0.04264971707189273,
          -0.04262636176580448,
          -0.042622387919857216,
          0.7316173006780736,
          0.7316251284257494,
          0.7316137846432625,
          0.7316136242846498,
          0.7315733886876087,
          0.7316362703532433,
          0.7315902185401213,
          0.7315679658803956,
          -0.305594921902201,
          -0.3056552290086269,
          -0.3056464506700469,
          -0.3055858981251791,
          -0.30557668366544477,
          -0.3055979985876608,
          -0.3056557551298174,
          -0.19520566631608768,
          -0.19524300746819567,
          -0.19521614980858176,
          -0.19524576567052593,
          -0.19527123251592995,
          -0.19525657652482134,
          -0.19526638251809644,
          -0.19524245065542528,
          -1.2439873342254393,
          -1.2439180958080425,
          -1.2440595640131555,
          -1.2439889148321344,
          -1.3455788813120573,
          -1.3456285141243132,
          -1.3455929847198274,
          -1.3456328043619694,
          -1.3455816263672749,
          -1.3456188601756787,
          -1.345692707857,
          -1.3919377721025952,
          -1.4428111072316596,
          -1.4427970511867823,
          -1.4427855463066805,
          -1.4428404548032105,
          -1.4428419295275599,
          -1.4427972236373043,
          -1.4427813159217722,
          -1.4427728215235462,
          -1.3918406629272524,
          -0.6765450462025218,
          -0.14329541133016793,
          -0.14345655255810177,
          -0.13655120620965747,
          -0.14333706857700598,
          -0.13663639348089585,
          -0.12565495158303236,
          -0.14346888643227393,
          -0.08857446790809,
          -0.081375280762471,
          -0.08165759406437477,
          -0.08151244302095606,
          -0.08157863405337393,
          -5.191864817003971,
          -3.6380314416738955,
          -3.6380368161256618,
          -3.638014701417371,
          -3.638051726911246,
          -3.637988878885969,
          -3.637969542457422,
          -3.638006288687259,
          -3.6380440181639235,
          -3.6379711841422435,
          -3.6379985987103205,
          -3.6379973283659757,
          -3.638025284050644,
          -3.6379812506139593,
          -3.637990925192656,
          -3.135977072464777,
          -3.135993897360752,
          -3.1359442038943257,
          -3.135946737082429,
          -3.1359950406149606,
          -3.135994432909307,
          -3.0840816708532617,
          -4.045497208459158,
          -4.0455471186819665,
          -4.045513041837181,
          -2.3383330915497464,
          -2.3383183639077196,
          -2.338349844970178,
          -2.338345556499902,
          -2.3383254870948327,
          -2.338366534671329,
          -2.338318146273081,
          -2.949812703157193,
          -2.949741706791366,
          -2.9495290308067386,
          -2.9494835585248147,
          -4.710745090335666,
          -4.710749193306187,
          -4.710754182687288,
          -4.710755970224386,
          -4.710741138668223,
          -4.710710149376734,
          -4.710771944256523,
          -4.710761557196045,
          -0.19917942192442756,
          0.11049448803742876,
          0.11052423674167472,
          -0.057585605359496056,
          -0.06199744878492146,
          -0.06200527556416015,
          -0.0792838593710164,
          -0.35231255289275537,
          -0.0617919064685517,
          -0.35246540812067334,
          -0.08227845853923638,
          -0.05548093059095878,
          -0.13453617830908096,
          0.1105467424412318,
          0.11049109375810362,
          -0.058029069771401154,
          -0.11565168468584894,
          -0.12949351045777763,
          -0.082166754074746,
          -0.1992123195297035,
          -0.13487835421087868,
          -0.12755007862107565,
          -0.1419309348738856,
          -0.14191877280015558,
          -0.061816959766828924,
          -0.14972257424592675,
          -0.0554629242611684,
          -0.14191003696262114,
          -0.07921924907495215,
          -0.10587940868633597,
          -0.05802066709464098,
          -0.11147398812581082,
          -0.08197870021736854,
          -0.35225114586016915,
          -0.13340631405881287,
          -0.11144565433914169,
          -0.1991549940688242,
          -0.12744433808740468,
          -0.05987173681741931,
          -2.9534476572916137,
          -2.95351174088166,
          -2.9533343021737073,
          -2.9589198962557646,
          -2.907906685802516,
          -1.4061047749525764,
          -1.4061311054767196,
          -1.4060513486339152,
          -1.4060745246144966,
          -1.4061317016135022,
          -1.4061389585657889,
          -1.4060777543054144,
          -1.4060896186565421,
          -1.4060803872544227,
          -1.997182058805467,
          -1.9971134643731394,
          -1.6387563034479522,
          -1.638784045617435,
          -1.6387686514601922,
          -1.6387521415826947,
          -1.6388062854277767,
          -1.6387424413090637,
          -1.63878581813742,
          -1.4605124936827338,
          -1.290171060762017,
          -1.2901299784288964,
          -1.2901515023377013,
          -1.290179341193812,
          -1.2901774577845055,
          -1.2901681758562091,
          -1.290171113972842,
          -1.339173273832313,
          -1.46050497735825,
          -1.4056695389827114,
          -1.405685002501806,
          -1.4056843046737229,
          -1.4056855367932448,
          -1.4056358452214375,
          -1.4056884083530936,
          -1.4057059825570157,
          -1.5385659990908132,
          -1.984535846681295,
          -1.9844782223482997,
          -1.9845084339251775,
          -2.1947405823567765,
          -2.194749305023571,
          -1.6015863669938826,
          -1.3020981784477073,
          -0.8179144306233652,
          -0.817915849147677,
          -0.8179251362669601,
          -0.8179885933800266,
          -0.8179379005892744,
          -0.8179065355438787,
          -0.8179393371146217,
          -0.8179460059373156,
          -0.817983530291016,
          -0.8179773637397645,
          0.0038085356565059304,
          0.0038141744119002453,
          0.003780041312917231,
          0.00378907805305867,
          0.0037990369058008263,
          0.003805404885484771,
          0.003774067657793781,
          0.0037778649463278335,
          0.0037572771688567197,
          -0.968728093127278,
          -1.2439198908878073,
          -1.2438935507717217,
          -0.968693616082029,
          -1.3918707516076552,
          -1.391994579565572,
          -1.3456489144984325,
          -0.6765170341936074,
          -0.6764945744386418,
          -0.5380946903352379,
          -0.5380676716155274,
          -0.5380687299653423,
          -0.5380793481263946,
          -0.5380879256539703,
          -0.5380920119273525,
          -0.5380598160341035,
          -0.6764996033573492,
          -0.6764914491975753,
          -0.676515242228872,
          -0.6765335325914192,
          -0.6765699032445907,
          -0.6765236069189516,
          -0.13668664712900458,
          -0.14332996219775668,
          -0.12572082443861865,
          -0.14346451149747275,
          -0.14347947747971487,
          -0.08159275719812041,
          -3.084129485473939,
          -3.084142817050286,
          -3.0840836392670767,
          -4.045768339362001,
          -2.933910921868302,
          -2.933863396494257,
          -2.9338633238070484,
          -2.933931289553244,
          -2.9339305845145356,
          -2.933940128040329,
          -2.9338691251907933,
          -2.9338542247333734,
          -2.9339318519593336,
          -2.9495105652785063,
          -2.6149741618809537,
          -2.614928903490355,
          -2.6148980722568536,
          -2.6149511426382333,
          -2.614949868072459,
          -2.61492334090509,
          -2.614981550930945,
          -4.328298389582567,
          -4.328271091986746,
          -4.3283087780625555,
          -4.328322580685642,
          -4.328299024525587,
          -4.328254080236851,
          -4.328325693542994,
          -4.615156312509027,
          -0.11575234293340826,
          -0.13423818975495744,
          -0.11563039039550298,
          -0.1337469819677978,
          -0.08229971179667739,
          -0.15740287176983422,
          -0.07927339570186274,
          -0.05783175300660654,
          -0.12952378923790048,
          -0.11578382952665082,
          -0.15723690361873346,
          -0.13457624184174302,
          -0.06178055503302322,
          -0.06183533161801482,
          -0.10324038914928792,
          0.11046444561530072,
          -0.07921685769525667,
          -0.04511108091668225,
          -0.04508965539538998,
          -0.04512346747413839,
          -0.04509106712911547,
          -0.045079038873438296,
          -0.04514976061899031,
          -0.0450795469232958,
          -0.060035880087297926,
          -0.10598451126958464,
          -0.08216266544945233,
          -0.12932371678661989,
          -0.05798340895311105,
          -0.11579073529883942,
          -0.12769338835057578,
          -0.06020656983526505,
          -0.14976855916906925,
          -0.08232078621673088,
          -0.060076015052529526,
          -0.06006244925062711,
          -0.06006459975215724,
          -0.05758273070559512,
          -0.12756284149078367,
          -0.14189817718620248,
          -0.10339915362198486,
          -0.11559304737390616,
          -0.06182394229535928,
          -0.14206447818515447,
          -0.1574053480131005,
          -0.1573656039844417,
          -0.14986285270438668,
          -0.13473207732996983,
          -0.10306613822459128,
          -0.12751621973038757,
          -0.11140891734293892,
          -0.11562217454344305,
          -2.711977491367295,
          -2.7119639815585286,
          -2.7119739272990246,
          -2.7120360237612884,
          -2.7120095684525753,
          -2.712003639230166,
          -2.712043885890809,
          -2.712044259473259,
          -2.712037285071637,
          -2.121167793749126,
          -2.121164393834614,
          -2.9081613940154885,
          -2.9081539884036087,
          -2.9081470753498566,
          -2.908107501531079,
          -2.908163220090805,
          -2.9081653713945808,
          -1.997163674407735,
          -1.2384315644407273,
          -1.2384289518778988,
          -1.2384125710584302,
          -1.2384465704992287,
          -1.2383938783590538,
          -1.2383994453871596,
          -1.238460989962821,
          -1.2384364537184418,
          -1.997282629666535,
          -1.9972461575138007,
          -1.5385439395021179,
          -1.538566296342415,
          -1.4621722803404418,
          -1.585632849206884,
          -1.585654353769885,
          -1.5855984723114827,
          -1.5856187556877297,
          -1.5385229202490676,
          -1.538597134227841,
          -1.4605775730277235,
          -0.3536672319926921,
          -1.910234192126313,
          -2.1668511011294775,
          -2.194738384675383,
          -2.194700005414712,
          -2.194677308382919,
          -2.1947343358669973,
          -2.1946784006564286,
          -1.3020491116714894,
          -1.3020228520773152,
          -1.302081960064646,
          -1.30219200499617,
          -0.9687889059939724,
          -1.2439270267104179,
          -0.9684353875259382,
          -0.7489556779630311,
          -0.7489896875975276,
          -0.7490099260682375,
          -0.7489574495911011,
          -0.7490032880602479,
          -0.7489683234379411,
          -0.7490155613904041,
          -0.7490306259385586,
          -0.7489791411944975,
          -0.7490003357886214,
          -0.7490041102244281,
          -0.7490289380066965,
          -0.7491271462412485,
          -0.7491372624836822,
          -0.7491216972438789,
          -0.7491108353224695,
          -0.5615423246100673,
          -0.5615541125966717,
          -0.5615509870009854,
          -0.5615072239670662,
          -0.5614751029597347,
          -0.561559618578857,
          -0.5615192727470927,
          -1.3916782754039778,
          0.2276846644615366,
          0.22768044013431604,
          0.22767738581277822,
          0.22767204187858697,
          0.22767231026407456,
          0.22763219686296968,
          0.22769460343727935,
          0.7878650671186959,
          0.787892864390223,
          0.7878758635042721,
          0.7879378311697752,
          -0.1364959452260363,
          -0.14299818500635766,
          -0.08867209853869149,
          -0.08865628894696254,
          -0.0886475259257204,
          -0.08866906479677264,
          -0.08864392707897417,
          -0.08862000233408425,
          -2.5298403793357886,
          -2.529816129127769,
          -2.529821677357398,
          -2.5297873699531865,
          -2.5298201501183186,
          -2.529792030034184,
          -2.5298434548965347,
          -3.0841055675997096,
          -3.084153586510621,
          -4.638758640270711,
          -4.638736591854824,
          -4.638686301484203,
          -4.638695905784942,
          -4.638692981608204,
          -4.615238681234067,
          -4.615275672266324,
          -4.615228005404549,
          -4.615280183863286,
          -4.6152781890647905,
          -4.615208125677473,
          -0.13467458895867523,
          -0.19901100933132465,
          -0.11144757517472682,
          -0.08229003084520607,
          -0.13358919994157625,
          -0.10312098410757904,
          -0.15009321247274054,
          -0.12948183646341166,
          -0.1277473525114945,
          -0.15749388392368638,
          -0.15756202646135203,
          -0.12933115348268814,
          -0.1338364365096225,
          -0.05535395381585348,
          -0.05544000971686966,
          -0.10313953755726518,
          -0.11147409217823397,
          -0.1060605740531275,
          -0.35221301721276815,
          -0.3523558809204236,
          -2.958853053944339,
          -2.9587895514705687,
          -2.9587857284427663,
          -2.9588310949975765,
          -2.958852083274209,
          -2.9587989416499076,
          -2.9533547673783462,
          -2.953315045830589,
          -2.908101082010812,
          -1.4620794606102023,
          -1.0363162180355228,
          -1.0363633422649288,
          -1.036348702081628,
          -1.0363060143453786,
          -1.0363424069928264,
          -1.036342557093428,
          -1.0363513728187004,
          -1.0363402373074997,
          -1.0364455119503533,
          -1.0364226564892798,
          -1.4619379305103404,
          -1.4619255885045603,
          -1.5386104414543782,
          -1.3389264091796276,
          -1.3388845526770932,
          -1.3389076669840165,
          -1.3389300559299668,
          -1.3389419416137731,
          -1.4620877541357864,
          -1.4620164468047088,
          -1.4605308261898626,
          -0.35359631051243273,
          -1.984506214457951,
          -1.9843468312141705,
          -1.9100344313323026,
          -2.166854848419885,
          -2.1668760429363263,
          -2.166845902535539,
          -2.166876925367889,
          -2.166801398314075,
          -2.1668194336439206,
          -1.8011874668789123,
          -1.8011916740390779,
          -1.8011359732534733,
          -1.8011078594678274,
          -1.801150495724027,
          -1.8011033353445187,
          -1.801111382572563,
          -2.194729536960771,
          -1.601555662974442,
          -1.6016011130749734,
          -1.6015585227812994,
          -1.6015365778131112,
          -1.601562546741504,
          -1.3022330968258593,
          -0.4691030641777101,
          -0.46909243774643655,
          -0.46910615130277517,
          -0.46911843932306624,
          -0.4691098079599866,
          -0.46908938389738175,
          -0.46911230959961914,
          -0.46909430974749655,
          -0.46904087435339115,
          -0.46909291250343244,
          -0.4690445501979973,
          -0.4691031623595737,
          -1.2439196694030794,
          -1.2439510645509644,
          -1.2439236618167255,
          -1.65822895885008,
          -1.6583019660194056,
          -1.6582346645455164,
          -1.658229826011445,
          -1.658249746350241,
          -1.6582695724546368,
          -1.6582809376496335,
          -1.2937335210262166,
          -1.2936957359921921,
          -1.2937812169434002,
          -1.2937594702955977,
          -1.2938202242791892,
          -1.2937419804562977,
          -1.293775713887372,
          -1.293807579820909,
          -0.9687059359094405,
          -1.3920431528970552,
          -1.39207866414793,
          -1.3918660175811735,
          -0.13642968085801654,
          -0.14348642931304254,
          -0.1257342071015462,
          -0.1366597919154244,
          -0.08147911942810696,
          -5.191851944221458,
          -5.191864551880488,
          -5.191836577377527,
          -5.191739439213026,
          -3.136103106730532,
          -4.045734757400694,
          -2.949552881068218,
          -2.9495381999110917,
          -4.429590615780845,
          -4.429645666914085,
          -4.429621080529996,
          -4.429632005479564,
          -4.429645366234223,
          -4.429664336264673,
          -4.429625152442075,
          -4.6388212370084,
          -4.638776618772091,
          -4.638767149506017,
          -4.864086198731564,
          -4.864094408631261,
          -4.864074235450123,
          -4.864054720840739,
          -4.864043214164218,
          -4.864059504379855,
          -4.864116743380668,
          -0.08172130022512086,
          -0.08881197919561136,
          -0.1295199342068934,
          -0.12761806689661648,
          -0.13441317469134198,
          -0.07958908450466666,
          -0.07931093233000991,
          -0.05548165170757674,
          -0.1031067362487277,
          -0.05547791187248205,
          -0.05532594011653398,
          -0.061811203440408635,
          -0.05800696604426319,
          0.11049225147713121,
          0.11032362696883789,
          -0.1057065860883483,
          -0.1114471814669928,
          -0.1060469923092181,
          -2.9533931669569853,
          -1.9971798801916374,
          -1.746121301182215,
          -1.7460748433093254,
          -1.7460834244514885,
          -1.7460897801833655,
          -1.7461572405616046,
          -1.7460918008998123,
          -1.7460987031864375,
          -1.7461180285100557,
          -1.651433969884715,
          -1.6513929625831705,
          -1.65141639497439,
          -1.6514471378673996,
          -1.6513764996590703,
          -1.6514594143564083,
          -1.651414282722839,
          -1.6514163755481728,
          -1.6513718272555695,
          -1.585590857966039,
          -1.5855257697782243,
          -1.3044901906275086,
          -1.3044919610066366,
          -1.3045671037696593,
          -1.3045654778293299,
          -1.338894776591359,
          -1.4606475875607643,
          -1.5385979332804944,
          -1.9844896539620278,
          -1.9845563447234995,
          -1.9099741902148273,
          -1.9099587614977473,
          -1.9100148888274966,
          -1.9100060079724739,
          -1.9099979714676156,
          -2.258661426952522,
          -2.2586582549455345,
          -2.258685184799669,
          -2.258682695816046,
          -2.2587085442346453,
          -2.2586354889177827,
          -2.2586496774608285,
          -2.9463423438328378,
          -1.3021622628254688,
          -0.4690541586689083,
          -0.469046969449614,
          0.9290671988768376,
          0.9290616151145996,
          0.9290596266936779,
          0.9290900455946715,
          0.9291115748775968,
          0.9290492695426719,
          0.9291047791459146,
          0.9291035684498777,
          0.9291224109656934,
          -0.9687531658904772,
          -0.9688387695676967,
          -1.345682996764131,
          0.7877893645483159,
          0.7878096868000231,
          0.7877509344895787,
          0.7877554130246223,
          -0.1433202704015407,
          -0.1432830025965371,
          -0.14355052881626496,
          -0.12582497871253298,
          -0.12568075218181707,
          -0.12569000466671806,
          -0.1427387962355595,
          -0.14278217764902293,
          -0.14272645974980425,
          -0.14272955522086275,
          -0.14278373695343388,
          -0.14277953002966437,
          -0.1427799150255941,
          -0.12567573133428295,
          -0.1365483062942322,
          -0.14353040611293455,
          -5.191756307225402,
          -5.19172612119153,
          -5.1917245738195295,
          -5.118953352487444,
          -5.118933298191413,
          -5.118991059878052,
          -5.118976096373769,
          -5.118949584297758,
          -5.1189765125562054,
          -5.118984945970759,
          -3.1357608787160403,
          -3.1357273621944732,
          -3.1357339811225877,
          -3.13573496117236,
          -3.2246882319721006,
          -3.2247053272375497,
          -3.2247096664862527,
          -3.2246712358754883,
          -3.2246827512147425,
          -3.22473062820407,
          -3.2246718073259717,
          -3.7040634990369288,
          -3.7040607456997536,
          -3.7040455302366944,
          -3.704018663228011,
          -3.704088596275689,
          -3.7040711726951883,
          -3.7040775160813424,
          -3.704076813279404,
          -3.7040837004724456,
          -3.704088122383913,
          -3.495479127612847,
          -3.4955053896890784,
          -3.4955405870291316,
          -3.495514938600338,
          -3.495525530712529,
          -3.4955388005835806,
          -3.495558471340344,
          -3.0840997643666923,
          -3.084097699314377,
          -4.04582094842905,
          -4.045817543605837,
          -4.710691141465685,
          -4.710719578723614,
          -4.856542853706353,
          -4.856555289119492,
          -4.856556667702856,
          -4.856501622553471,
          -4.856514178659439,
          -4.856550800413436,
          -4.856565214211874,
          -4.856491819103305,
          -4.856561872423701,
          -4.856533070618818,
          -4.856558423534619,
          -4.856567335566253,
          -4.856544186602467,
          -4.856555201891943
         ],
         "marker": {
          "color": "fuchsia"
         },
         "mode": "markers",
         "name": "",
         "showlegend": false,
         "subplot": "mapbox",
         "type": "scattermapbox"
        }
       ],
       "layout": {
        "height": 500,
        "legend": {
         "tracegroupgap": 0
        },
        "mapbox": {
         "center": {
          "lat": 52.64334222034988,
          "lon": -1.5282091461712428
         },
         "domain": {
          "x": [
           0,
           1
          ],
          "y": [
           0,
           1
          ]
         },
         "style": "carto-positron",
         "zoom": 5
        },
        "margin": {
         "b": 0,
         "l": 0,
         "r": 0,
         "t": 0
        },
        "template": {
         "data": {
          "bar": [
           {
            "error_x": {
             "color": "#2a3f5f"
            },
            "error_y": {
             "color": "#2a3f5f"
            },
            "marker": {
             "line": {
              "color": "#E5ECF6",
              "width": 0.5
             }
            },
            "type": "bar"
           }
          ],
          "barpolar": [
           {
            "marker": {
             "line": {
              "color": "#E5ECF6",
              "width": 0.5
             }
            },
            "type": "barpolar"
           }
          ],
          "carpet": [
           {
            "aaxis": {
             "endlinecolor": "#2a3f5f",
             "gridcolor": "white",
             "linecolor": "white",
             "minorgridcolor": "white",
             "startlinecolor": "#2a3f5f"
            },
            "baxis": {
             "endlinecolor": "#2a3f5f",
             "gridcolor": "white",
             "linecolor": "white",
             "minorgridcolor": "white",
             "startlinecolor": "#2a3f5f"
            },
            "type": "carpet"
           }
          ],
          "choropleth": [
           {
            "colorbar": {
             "outlinewidth": 0,
             "ticks": ""
            },
            "type": "choropleth"
           }
          ],
          "contour": [
           {
            "colorbar": {
             "outlinewidth": 0,
             "ticks": ""
            },
            "colorscale": [
             [
              0,
              "#0d0887"
             ],
             [
              0.1111111111111111,
              "#46039f"
             ],
             [
              0.2222222222222222,
              "#7201a8"
             ],
             [
              0.3333333333333333,
              "#9c179e"
             ],
             [
              0.4444444444444444,
              "#bd3786"
             ],
             [
              0.5555555555555556,
              "#d8576b"
             ],
             [
              0.6666666666666666,
              "#ed7953"
             ],
             [
              0.7777777777777778,
              "#fb9f3a"
             ],
             [
              0.8888888888888888,
              "#fdca26"
             ],
             [
              1,
              "#f0f921"
             ]
            ],
            "type": "contour"
           }
          ],
          "contourcarpet": [
           {
            "colorbar": {
             "outlinewidth": 0,
             "ticks": ""
            },
            "type": "contourcarpet"
           }
          ],
          "heatmap": [
           {
            "colorbar": {
             "outlinewidth": 0,
             "ticks": ""
            },
            "colorscale": [
             [
              0,
              "#0d0887"
             ],
             [
              0.1111111111111111,
              "#46039f"
             ],
             [
              0.2222222222222222,
              "#7201a8"
             ],
             [
              0.3333333333333333,
              "#9c179e"
             ],
             [
              0.4444444444444444,
              "#bd3786"
             ],
             [
              0.5555555555555556,
              "#d8576b"
             ],
             [
              0.6666666666666666,
              "#ed7953"
             ],
             [
              0.7777777777777778,
              "#fb9f3a"
             ],
             [
              0.8888888888888888,
              "#fdca26"
             ],
             [
              1,
              "#f0f921"
             ]
            ],
            "type": "heatmap"
           }
          ],
          "heatmapgl": [
           {
            "colorbar": {
             "outlinewidth": 0,
             "ticks": ""
            },
            "colorscale": [
             [
              0,
              "#0d0887"
             ],
             [
              0.1111111111111111,
              "#46039f"
             ],
             [
              0.2222222222222222,
              "#7201a8"
             ],
             [
              0.3333333333333333,
              "#9c179e"
             ],
             [
              0.4444444444444444,
              "#bd3786"
             ],
             [
              0.5555555555555556,
              "#d8576b"
             ],
             [
              0.6666666666666666,
              "#ed7953"
             ],
             [
              0.7777777777777778,
              "#fb9f3a"
             ],
             [
              0.8888888888888888,
              "#fdca26"
             ],
             [
              1,
              "#f0f921"
             ]
            ],
            "type": "heatmapgl"
           }
          ],
          "histogram": [
           {
            "marker": {
             "colorbar": {
              "outlinewidth": 0,
              "ticks": ""
             }
            },
            "type": "histogram"
           }
          ],
          "histogram2d": [
           {
            "colorbar": {
             "outlinewidth": 0,
             "ticks": ""
            },
            "colorscale": [
             [
              0,
              "#0d0887"
             ],
             [
              0.1111111111111111,
              "#46039f"
             ],
             [
              0.2222222222222222,
              "#7201a8"
             ],
             [
              0.3333333333333333,
              "#9c179e"
             ],
             [
              0.4444444444444444,
              "#bd3786"
             ],
             [
              0.5555555555555556,
              "#d8576b"
             ],
             [
              0.6666666666666666,
              "#ed7953"
             ],
             [
              0.7777777777777778,
              "#fb9f3a"
             ],
             [
              0.8888888888888888,
              "#fdca26"
             ],
             [
              1,
              "#f0f921"
             ]
            ],
            "type": "histogram2d"
           }
          ],
          "histogram2dcontour": [
           {
            "colorbar": {
             "outlinewidth": 0,
             "ticks": ""
            },
            "colorscale": [
             [
              0,
              "#0d0887"
             ],
             [
              0.1111111111111111,
              "#46039f"
             ],
             [
              0.2222222222222222,
              "#7201a8"
             ],
             [
              0.3333333333333333,
              "#9c179e"
             ],
             [
              0.4444444444444444,
              "#bd3786"
             ],
             [
              0.5555555555555556,
              "#d8576b"
             ],
             [
              0.6666666666666666,
              "#ed7953"
             ],
             [
              0.7777777777777778,
              "#fb9f3a"
             ],
             [
              0.8888888888888888,
              "#fdca26"
             ],
             [
              1,
              "#f0f921"
             ]
            ],
            "type": "histogram2dcontour"
           }
          ],
          "mesh3d": [
           {
            "colorbar": {
             "outlinewidth": 0,
             "ticks": ""
            },
            "type": "mesh3d"
           }
          ],
          "parcoords": [
           {
            "line": {
             "colorbar": {
              "outlinewidth": 0,
              "ticks": ""
             }
            },
            "type": "parcoords"
           }
          ],
          "pie": [
           {
            "automargin": true,
            "type": "pie"
           }
          ],
          "scatter": [
           {
            "marker": {
             "colorbar": {
              "outlinewidth": 0,
              "ticks": ""
             }
            },
            "type": "scatter"
           }
          ],
          "scatter3d": [
           {
            "line": {
             "colorbar": {
              "outlinewidth": 0,
              "ticks": ""
             }
            },
            "marker": {
             "colorbar": {
              "outlinewidth": 0,
              "ticks": ""
             }
            },
            "type": "scatter3d"
           }
          ],
          "scattercarpet": [
           {
            "marker": {
             "colorbar": {
              "outlinewidth": 0,
              "ticks": ""
             }
            },
            "type": "scattercarpet"
           }
          ],
          "scattergeo": [
           {
            "marker": {
             "colorbar": {
              "outlinewidth": 0,
              "ticks": ""
             }
            },
            "type": "scattergeo"
           }
          ],
          "scattergl": [
           {
            "marker": {
             "colorbar": {
              "outlinewidth": 0,
              "ticks": ""
             }
            },
            "type": "scattergl"
           }
          ],
          "scattermapbox": [
           {
            "marker": {
             "colorbar": {
              "outlinewidth": 0,
              "ticks": ""
             }
            },
            "type": "scattermapbox"
           }
          ],
          "scatterpolar": [
           {
            "marker": {
             "colorbar": {
              "outlinewidth": 0,
              "ticks": ""
             }
            },
            "type": "scatterpolar"
           }
          ],
          "scatterpolargl": [
           {
            "marker": {
             "colorbar": {
              "outlinewidth": 0,
              "ticks": ""
             }
            },
            "type": "scatterpolargl"
           }
          ],
          "scatterternary": [
           {
            "marker": {
             "colorbar": {
              "outlinewidth": 0,
              "ticks": ""
             }
            },
            "type": "scatterternary"
           }
          ],
          "surface": [
           {
            "colorbar": {
             "outlinewidth": 0,
             "ticks": ""
            },
            "colorscale": [
             [
              0,
              "#0d0887"
             ],
             [
              0.1111111111111111,
              "#46039f"
             ],
             [
              0.2222222222222222,
              "#7201a8"
             ],
             [
              0.3333333333333333,
              "#9c179e"
             ],
             [
              0.4444444444444444,
              "#bd3786"
             ],
             [
              0.5555555555555556,
              "#d8576b"
             ],
             [
              0.6666666666666666,
              "#ed7953"
             ],
             [
              0.7777777777777778,
              "#fb9f3a"
             ],
             [
              0.8888888888888888,
              "#fdca26"
             ],
             [
              1,
              "#f0f921"
             ]
            ],
            "type": "surface"
           }
          ],
          "table": [
           {
            "cells": {
             "fill": {
              "color": "#EBF0F8"
             },
             "line": {
              "color": "white"
             }
            },
            "header": {
             "fill": {
              "color": "#C8D4E3"
             },
             "line": {
              "color": "white"
             }
            },
            "type": "table"
           }
          ]
         },
         "layout": {
          "annotationdefaults": {
           "arrowcolor": "#2a3f5f",
           "arrowhead": 0,
           "arrowwidth": 1
          },
          "autotypenumbers": "strict",
          "coloraxis": {
           "colorbar": {
            "outlinewidth": 0,
            "ticks": ""
           }
          },
          "colorscale": {
           "diverging": [
            [
             0,
             "#8e0152"
            ],
            [
             0.1,
             "#c51b7d"
            ],
            [
             0.2,
             "#de77ae"
            ],
            [
             0.3,
             "#f1b6da"
            ],
            [
             0.4,
             "#fde0ef"
            ],
            [
             0.5,
             "#f7f7f7"
            ],
            [
             0.6,
             "#e6f5d0"
            ],
            [
             0.7,
             "#b8e186"
            ],
            [
             0.8,
             "#7fbc41"
            ],
            [
             0.9,
             "#4d9221"
            ],
            [
             1,
             "#276419"
            ]
           ],
           "sequential": [
            [
             0,
             "#0d0887"
            ],
            [
             0.1111111111111111,
             "#46039f"
            ],
            [
             0.2222222222222222,
             "#7201a8"
            ],
            [
             0.3333333333333333,
             "#9c179e"
            ],
            [
             0.4444444444444444,
             "#bd3786"
            ],
            [
             0.5555555555555556,
             "#d8576b"
            ],
            [
             0.6666666666666666,
             "#ed7953"
            ],
            [
             0.7777777777777778,
             "#fb9f3a"
            ],
            [
             0.8888888888888888,
             "#fdca26"
            ],
            [
             1,
             "#f0f921"
            ]
           ],
           "sequentialminus": [
            [
             0,
             "#0d0887"
            ],
            [
             0.1111111111111111,
             "#46039f"
            ],
            [
             0.2222222222222222,
             "#7201a8"
            ],
            [
             0.3333333333333333,
             "#9c179e"
            ],
            [
             0.4444444444444444,
             "#bd3786"
            ],
            [
             0.5555555555555556,
             "#d8576b"
            ],
            [
             0.6666666666666666,
             "#ed7953"
            ],
            [
             0.7777777777777778,
             "#fb9f3a"
            ],
            [
             0.8888888888888888,
             "#fdca26"
            ],
            [
             1,
             "#f0f921"
            ]
           ]
          },
          "colorway": [
           "#636efa",
           "#EF553B",
           "#00cc96",
           "#ab63fa",
           "#FFA15A",
           "#19d3f3",
           "#FF6692",
           "#B6E880",
           "#FF97FF",
           "#FECB52"
          ],
          "font": {
           "color": "#2a3f5f"
          },
          "geo": {
           "bgcolor": "white",
           "lakecolor": "white",
           "landcolor": "#E5ECF6",
           "showlakes": true,
           "showland": true,
           "subunitcolor": "white"
          },
          "hoverlabel": {
           "align": "left"
          },
          "hovermode": "closest",
          "mapbox": {
           "style": "light"
          },
          "paper_bgcolor": "white",
          "plot_bgcolor": "#E5ECF6",
          "polar": {
           "angularaxis": {
            "gridcolor": "white",
            "linecolor": "white",
            "ticks": ""
           },
           "bgcolor": "#E5ECF6",
           "radialaxis": {
            "gridcolor": "white",
            "linecolor": "white",
            "ticks": ""
           }
          },
          "scene": {
           "xaxis": {
            "backgroundcolor": "#E5ECF6",
            "gridcolor": "white",
            "gridwidth": 2,
            "linecolor": "white",
            "showbackground": true,
            "ticks": "",
            "zerolinecolor": "white"
           },
           "yaxis": {
            "backgroundcolor": "#E5ECF6",
            "gridcolor": "white",
            "gridwidth": 2,
            "linecolor": "white",
            "showbackground": true,
            "ticks": "",
            "zerolinecolor": "white"
           },
           "zaxis": {
            "backgroundcolor": "#E5ECF6",
            "gridcolor": "white",
            "gridwidth": 2,
            "linecolor": "white",
            "showbackground": true,
            "ticks": "",
            "zerolinecolor": "white"
           }
          },
          "shapedefaults": {
           "line": {
            "color": "#2a3f5f"
           }
          },
          "ternary": {
           "aaxis": {
            "gridcolor": "white",
            "linecolor": "white",
            "ticks": ""
           },
           "baxis": {
            "gridcolor": "white",
            "linecolor": "white",
            "ticks": ""
           },
           "bgcolor": "#E5ECF6",
           "caxis": {
            "gridcolor": "white",
            "linecolor": "white",
            "ticks": ""
           }
          },
          "title": {
           "x": 0.05
          },
          "xaxis": {
           "automargin": true,
           "gridcolor": "white",
           "linecolor": "white",
           "ticks": "",
           "title": {
            "standoff": 15
           },
           "zerolinecolor": "white",
           "zerolinewidth": 2
          },
          "yaxis": {
           "automargin": true,
           "gridcolor": "white",
           "linecolor": "white",
           "ticks": "",
           "title": {
            "standoff": 15
           },
           "zerolinecolor": "white",
           "zerolinewidth": 2
          }
         }
        }
       }
      },
      "text/html": [
       "<div>                            <div id=\"d63ba54b-f9fd-4d7a-8ee5-5abcf5a8cc7f\" class=\"plotly-graph-div\" style=\"height:500px; width:100%;\"></div>            <script type=\"text/javascript\">                require([\"plotly\"], function(Plotly) {                    window.PLOTLYENV=window.PLOTLYENV || {};                                    if (document.getElementById(\"d63ba54b-f9fd-4d7a-8ee5-5abcf5a8cc7f\")) {                    Plotly.newPlot(                        \"d63ba54b-f9fd-4d7a-8ee5-5abcf5a8cc7f\",                        [{\"customdata\": [[\"Serious\"], [\"Serious\"], [\"Serious\"], [\"Serious\"], [\"Serious\"], [\"Serious\"], [\"Serious\"], [\"Serious\"], [\"Serious\"], [\"Serious\"], [\"Serious\"], [\"Serious\"], [\"Serious\"], [\"Serious\"], [\"Serious\"], [\"Serious\"], [\"Serious\"], [\"Serious\"], [\"Serious\"], [\"Serious\"], [\"Serious\"], [\"Serious\"], [\"Serious\"], [\"Serious\"], [\"Serious\"], [\"Serious\"], [\"Serious\"], [\"Serious\"], [\"Fatal\"], [\"Serious\"], [\"Serious\"], [\"Serious\"], [\"Serious\"], [\"Serious\"], [\"Fatal\"], [\"Fatal\"], [\"Serious\"], [\"Serious\"], [\"Serious\"], [\"Serious\"], [\"Serious\"], [\"Fatal\"], [\"Serious\"], [\"Serious\"], [\"Serious\"], [\"Serious\"], [\"Serious\"], [\"Serious\"], [\"Serious\"], [\"Serious\"], [\"Serious\"], [\"Serious\"], [\"Serious\"], [\"Serious\"], [\"Serious\"], [\"Serious\"], [\"Serious\"], [\"Serious\"], [\"Serious\"], [\"Serious\"], [\"Serious\"], [\"Serious\"], [\"Serious\"], [\"Serious\"], [\"Serious\"], [\"Serious\"], [\"Serious\"], [\"Serious\"], [\"Serious\"], [\"Serious\"], [\"Serious\"], [\"Serious\"], [\"Serious\"], [\"Serious\"], [\"Serious\"], [\"Serious\"], [\"Serious\"], [\"Serious\"], [\"Serious\"], [\"Serious\"], [\"Serious\"], [\"Serious\"], [\"Serious\"], [\"Serious\"], [\"Serious\"], [\"Serious\"], [\"Serious\"], [\"Serious\"], [\"Serious\"], [\"Serious\"], [\"Serious\"], [\"Serious\"], [\"Serious\"], [\"Serious\"], [\"Serious\"], [\"Fatal\"], [\"Serious\"], [\"Serious\"], [\"Fatal\"], [\"Serious\"], [\"Serious\"], [\"Fatal\"], [\"Serious\"], [\"Serious\"], [\"Serious\"], [\"Serious\"], [\"Serious\"], [\"Serious\"], [\"Serious\"], [\"Serious\"], [\"Serious\"], [\"Serious\"], [\"Serious\"], [\"Serious\"], [\"Serious\"], [\"Serious\"], [\"Serious\"], [\"Serious\"], [\"Serious\"], [\"Serious\"], [\"Serious\"], [\"Serious\"], [\"Serious\"], [\"Serious\"], [\"Serious\"], [\"Serious\"], [\"Serious\"], [\"Serious\"], [\"Serious\"], [\"Serious\"], [\"Serious\"], [\"Serious\"], [\"Serious\"], [\"Fatal\"], [\"Serious\"], [\"Serious\"], [\"Serious\"], [\"Serious\"], [\"Serious\"], [\"Fatal\"], [\"Serious\"], [\"Serious\"], [\"Serious\"], [\"Serious\"], [\"Serious\"], [\"Serious\"], [\"Serious\"], [\"Serious\"], [\"Serious\"], [\"Serious\"], [\"Serious\"], [\"Serious\"], [\"Serious\"], [\"Serious\"], [\"Serious\"], [\"Serious\"], [\"Serious\"], [\"Serious\"], [\"Serious\"], [\"Serious\"], [\"Serious\"], [\"Serious\"], [\"Serious\"], [\"Serious\"], [\"Serious\"], [\"Serious\"], [\"Serious\"], [\"Serious\"], [\"Serious\"], [\"Serious\"], [\"Serious\"], [\"Serious\"], [\"Serious\"], [\"Serious\"], [\"Serious\"], [\"Serious\"], [\"Serious\"], [\"Serious\"], [\"Serious\"], [\"Serious\"], [\"Serious\"], [\"Serious\"], [\"Serious\"], [\"Serious\"], [\"Serious\"], [\"Serious\"], [\"Fatal\"], [\"Fatal\"], [\"Fatal\"], [\"Serious\"], [\"Serious\"], [\"Serious\"], [\"Serious\"], [\"Serious\"], [\"Serious\"], [\"Serious\"], [\"Serious\"], [\"Serious\"], [\"Fatal\"], [\"Serious\"], [\"Serious\"], [\"Serious\"], [\"Serious\"], [\"Serious\"], [\"Serious\"], [\"Serious\"], [\"Serious\"], [\"Serious\"], [\"Serious\"], [\"Serious\"], [\"Serious\"], [\"Serious\"], [\"Serious\"], [\"Serious\"], [\"Serious\"], [\"Serious\"], [\"Serious\"], [\"Serious\"], [\"Serious\"], [\"Serious\"], [\"Serious\"], [\"Serious\"], [\"Serious\"], [\"Serious\"], [\"Serious\"], [\"Serious\"], [\"Serious\"], [\"Serious\"], [\"Serious\"], [\"Serious\"], [\"Serious\"], [\"Serious\"], [\"Serious\"], [\"Serious\"], [\"Serious\"], [\"Serious\"], [\"Serious\"], [\"Serious\"], [\"Serious\"], [\"Serious\"], [\"Serious\"], [\"Serious\"], [\"Serious\"], [\"Serious\"], [\"Serious\"], [\"Serious\"], [\"Serious\"], [\"Serious\"], [\"Serious\"], [\"Serious\"], [\"Fatal\"], [\"Fatal\"], [\"Serious\"], [\"Serious\"], [\"Serious\"], [\"Serious\"], [\"Serious\"], [\"Serious\"], [\"Serious\"], [\"Serious\"], [\"Fatal\"], [\"Fatal\"], [\"Fatal\"], [\"Fatal\"], [\"Serious\"], [\"Serious\"], [\"Serious\"], [\"Serious\"], [\"Serious\"], [\"Serious\"], [\"Serious\"], [\"Serious\"], [\"Serious\"], [\"Serious\"], [\"Serious\"], [\"Serious\"], [\"Serious\"], [\"Fatal\"], [\"Fatal\"], [\"Fatal\"], [\"Fatal\"], [\"Serious\"], [\"Serious\"], [\"Serious\"], [\"Serious\"], [\"Serious\"], [\"Serious\"], [\"Serious\"], [\"Serious\"], [\"Serious\"], [\"Serious\"], [\"Serious\"], [\"Serious\"], [\"Serious\"], [\"Serious\"], [\"Serious\"], [\"Serious\"], [\"Serious\"], [\"Serious\"], [\"Serious\"], [\"Serious\"], [\"Serious\"], [\"Serious\"], [\"Fatal\"], [\"Serious\"], [\"Serious\"], [\"Serious\"], [\"Serious\"], [\"Serious\"], [\"Serious\"], [\"Fatal\"], [\"Serious\"], [\"Serious\"], [\"Serious\"], [\"Serious\"], [\"Serious\"], [\"Serious\"], [\"Serious\"], [\"Serious\"], [\"Serious\"], [\"Serious\"], [\"Serious\"], [\"Serious\"], [\"Serious\"], [\"Serious\"], [\"Serious\"], [\"Serious\"], [\"Serious\"], [\"Serious\"], [\"Serious\"], [\"Serious\"], [\"Serious\"], [\"Serious\"], [\"Serious\"], [\"Serious\"], [\"Serious\"], [\"Serious\"], [\"Serious\"], [\"Serious\"], [\"Serious\"], [\"Serious\"], [\"Serious\"], [\"Serious\"], [\"Fatal\"], [\"Fatal\"], [\"Serious\"], [\"Serious\"], [\"Serious\"], [\"Fatal\"], [\"Fatal\"], [\"Fatal\"], [\"Serious\"], [\"Serious\"], [\"Fatal\"], [\"Serious\"], [\"Serious\"], [\"Serious\"], [\"Serious\"], [\"Serious\"], [\"Serious\"], [\"Serious\"], [\"Serious\"], [\"Serious\"], [\"Serious\"], [\"Serious\"], [\"Serious\"], [\"Serious\"], [\"Serious\"], [\"Serious\"], [\"Serious\"], [\"Serious\"], [\"Serious\"], [\"Serious\"], [\"Serious\"], [\"Serious\"], [\"Serious\"], [\"Serious\"], [\"Serious\"], [\"Serious\"], [\"Serious\"], [\"Serious\"], [\"Serious\"], [\"Serious\"], [\"Serious\"], [\"Serious\"], [\"Fatal\"], [\"Serious\"], [\"Serious\"], [\"Serious\"], [\"Serious\"], [\"Serious\"], [\"Serious\"], [\"Serious\"], [\"Serious\"], [\"Serious\"], [\"Serious\"], [\"Serious\"], [\"Serious\"], [\"Serious\"], [\"Serious\"], [\"Fatal\"], [\"Serious\"], [\"Serious\"], [\"Fatal\"], [\"Serious\"], [\"Serious\"], [\"Serious\"], [\"Serious\"], [\"Serious\"], [\"Serious\"], [\"Serious\"], [\"Serious\"], [\"Serious\"], [\"Serious\"], [\"Serious\"], [\"Serious\"], [\"Serious\"], [\"Serious\"], [\"Serious\"], [\"Serious\"], [\"Serious\"], [\"Serious\"], [\"Serious\"], [\"Serious\"], [\"Serious\"], [\"Serious\"], [\"Serious\"], [\"Serious\"], [\"Serious\"], [\"Serious\"], [\"Serious\"], [\"Serious\"], [\"Serious\"], [\"Serious\"], [\"Serious\"], [\"Serious\"], [\"Serious\"], [\"Serious\"], [\"Serious\"], [\"Serious\"], [\"Serious\"], [\"Serious\"], [\"Serious\"], [\"Serious\"], [\"Serious\"], [\"Serious\"], [\"Fatal\"], [\"Serious\"], [\"Serious\"], [\"Serious\"], [\"Serious\"], [\"Serious\"], [\"Serious\"], [\"Serious\"], [\"Serious\"], [\"Serious\"], [\"Serious\"], [\"Serious\"], [\"Serious\"], [\"Serious\"], [\"Serious\"], [\"Serious\"], [\"Serious\"], [\"Serious\"], [\"Serious\"], [\"Serious\"], [\"Serious\"], [\"Serious\"], [\"Serious\"], [\"Serious\"], [\"Serious\"], [\"Serious\"], [\"Serious\"], [\"Fatal\"], [\"Fatal\"], [\"Fatal\"], [\"Fatal\"], [\"Fatal\"], [\"Fatal\"], [\"Fatal\"], [\"Fatal\"], [\"Serious\"], [\"Serious\"], [\"Serious\"], [\"Serious\"], [\"Serious\"], [\"Fatal\"], [\"Serious\"], [\"Serious\"], [\"Serious\"], [\"Serious\"], [\"Serious\"], [\"Serious\"], [\"Serious\"], [\"Serious\"], [\"Serious\"], [\"Serious\"], [\"Serious\"], [\"Serious\"], [\"Serious\"], [\"Fatal\"], [\"Fatal\"], [\"Serious\"], [\"Serious\"], [\"Serious\"], [\"Serious\"], [\"Serious\"], [\"Serious\"], [\"Fatal\"], [\"Serious\"], [\"Serious\"], [\"Serious\"], [\"Serious\"], [\"Serious\"], [\"Serious\"], [\"Serious\"], [\"Fatal\"], [\"Fatal\"], [\"Fatal\"], [\"Serious\"], [\"Serious\"], [\"Fatal\"], [\"Serious\"], [\"Serious\"], [\"Serious\"], [\"Fatal\"], [\"Fatal\"], [\"Serious\"], [\"Serious\"], [\"Serious\"], [\"Serious\"], [\"Serious\"], [\"Fatal\"], [\"Serious\"], [\"Fatal\"], [\"Serious\"], [\"Serious\"], [\"Serious\"], [\"Serious\"], [\"Serious\"], [\"Serious\"], [\"Serious\"], [\"Serious\"], [\"Serious\"], [\"Serious\"], [\"Serious\"], [\"Serious\"], [\"Serious\"], [\"Serious\"], [\"Serious\"], [\"Serious\"], [\"Serious\"], [\"Serious\"], [\"Serious\"], [\"Serious\"], [\"Serious\"], [\"Serious\"], [\"Serious\"], [\"Serious\"], [\"Serious\"], [\"Serious\"], [\"Serious\"], [\"Serious\"], [\"Serious\"], [\"Serious\"], [\"Serious\"], [\"Serious\"], [\"Serious\"], [\"Serious\"], [\"Serious\"], [\"Serious\"], [\"Fatal\"], [\"Fatal\"], [\"Serious\"], [\"Serious\"], [\"Serious\"], [\"Fatal\"], [\"Serious\"], [\"Serious\"], [\"Serious\"], [\"Serious\"], [\"Serious\"], [\"Serious\"], [\"Serious\"], [\"Serious\"], [\"Serious\"], [\"Serious\"], [\"Serious\"], [\"Serious\"], [\"Fatal\"], [\"Serious\"], [\"Serious\"], [\"Serious\"], [\"Serious\"], [\"Serious\"], [\"Serious\"], [\"Serious\"], [\"Serious\"], [\"Serious\"], [\"Serious\"], [\"Serious\"], [\"Serious\"], [\"Serious\"], [\"Serious\"], [\"Serious\"], [\"Serious\"], [\"Serious\"], [\"Serious\"], [\"Serious\"], [\"Serious\"], [\"Serious\"], [\"Serious\"], [\"Serious\"], [\"Serious\"], [\"Serious\"], [\"Serious\"], [\"Serious\"], [\"Serious\"], [\"Serious\"], [\"Serious\"], [\"Serious\"], [\"Serious\"], [\"Serious\"], [\"Serious\"], [\"Serious\"], [\"Serious\"], [\"Fatal\"], [\"Fatal\"], [\"Fatal\"], [\"Fatal\"], [\"Serious\"], [\"Serious\"], [\"Serious\"], [\"Serious\"], [\"Fatal\"], [\"Serious\"], [\"Serious\"], [\"Fatal\"], [\"Fatal\"], [\"Fatal\"], [\"Fatal\"], [\"Serious\"], [\"Serious\"], [\"Serious\"], [\"Serious\"], [\"Serious\"], [\"Serious\"], [\"Serious\"], [\"Serious\"], [\"Serious\"], [\"Serious\"], [\"Serious\"], [\"Serious\"], [\"Serious\"], [\"Serious\"], [\"Serious\"], [\"Serious\"], [\"Serious\"], [\"Fatal\"], [\"Serious\"], [\"Serious\"], [\"Serious\"], [\"Serious\"], [\"Serious\"], [\"Serious\"], [\"Fatal\"], [\"Serious\"], [\"Serious\"], [\"Serious\"], [\"Serious\"], [\"Serious\"], [\"Serious\"], [\"Serious\"], [\"Serious\"], [\"Serious\"], [\"Serious\"], [\"Serious\"], [\"Serious\"], [\"Serious\"], [\"Serious\"], [\"Serious\"], [\"Serious\"], [\"Serious\"], [\"Serious\"], [\"Serious\"], [\"Serious\"], [\"Serious\"], [\"Serious\"], [\"Serious\"], [\"Serious\"], [\"Serious\"], [\"Serious\"], [\"Fatal\"], [\"Serious\"], [\"Serious\"], [\"Serious\"], [\"Serious\"], [\"Serious\"], [\"Serious\"], [\"Serious\"], [\"Serious\"], [\"Serious\"], [\"Serious\"], [\"Serious\"], [\"Serious\"], [\"Serious\"], [\"Serious\"], [\"Serious\"], [\"Serious\"], [\"Serious\"], [\"Serious\"], [\"Serious\"], [\"Serious\"], [\"Serious\"], [\"Serious\"], [\"Serious\"], [\"Serious\"], [\"Serious\"], [\"Serious\"], [\"Serious\"], [\"Serious\"], [\"Serious\"], [\"Serious\"], [\"Serious\"], [\"Serious\"], [\"Serious\"], [\"Serious\"], [\"Serious\"], [\"Serious\"], [\"Fatal\"], [\"Fatal\"], [\"Serious\"], [\"Serious\"], [\"Serious\"], [\"Serious\"], [\"Serious\"], [\"Serious\"], [\"Serious\"], [\"Serious\"], [\"Serious\"], [\"Serious\"], [\"Serious\"], [\"Serious\"], [\"Serious\"], [\"Serious\"], [\"Serious\"], [\"Serious\"], [\"Serious\"], [\"Serious\"], [\"Serious\"], [\"Serious\"], [\"Serious\"], [\"Serious\"], [\"Serious\"], [\"Serious\"], [\"Serious\"], [\"Serious\"], [\"Serious\"], [\"Serious\"], [\"Serious\"], [\"Serious\"], [\"Serious\"], [\"Serious\"], [\"Serious\"], [\"Serious\"], [\"Serious\"], [\"Serious\"], [\"Serious\"], [\"Serious\"], [\"Serious\"], [\"Serious\"], [\"Serious\"], [\"Serious\"], [\"Serious\"], [\"Serious\"], [\"Serious\"], [\"Serious\"], [\"Serious\"], [\"Serious\"], [\"Serious\"], [\"Serious\"], [\"Serious\"], [\"Serious\"], [\"Serious\"], [\"Serious\"], [\"Serious\"], [\"Serious\"], [\"Fatal\"], [\"Serious\"], [\"Serious\"], [\"Serious\"], [\"Serious\"], [\"Serious\"], [\"Serious\"], [\"Serious\"], [\"Serious\"], [\"Serious\"], [\"Serious\"], [\"Serious\"], [\"Serious\"], [\"Serious\"], [\"Serious\"], [\"Fatal\"], [\"Fatal\"], [\"Serious\"], [\"Serious\"], [\"Fatal\"], [\"Serious\"], [\"Fatal\"], [\"Serious\"], [\"Serious\"], [\"Serious\"], [\"Serious\"], [\"Fatal\"], [\"Fatal\"], [\"Serious\"], [\"Serious\"], [\"Serious\"], [\"Serious\"], [\"Serious\"], [\"Serious\"], [\"Serious\"], [\"Serious\"], [\"Serious\"], [\"Serious\"], [\"Serious\"], [\"Serious\"], [\"Serious\"], [\"Serious\"]], \"hovertemplate\": \"<b>%{hovertext}</b><br><br>Latitude=%{lat}<br>Longitude=%{lon}<br>Casualty_Severity=%{customdata[0]}<extra></extra>\", \"hovertext\": [0.0, 1.0, 6.0, 2.0, 9.0, 72.0, 52.0, 49.0, 2.0, 48.0, 7.0, 3.0, 71.0, 51.0, 4.0, 5.0, 51.0, 6.0, 7.0, 49.0, 7.0, 3.0, 4.0, 8.0, 4.0, 9.0, 71.0, 0.0, 0.0, 10.0, 1.0, 51.0, 6.0, 11.0, 11.0, 11.0, 11.0, 11.0, 11.0, 11.0, 12.0, 13.0, 13.0, 13.0, 13.0, 13.0, 13.0, 13.0, 13.0, 14.0, 14.0, 14.0, 14.0, 14.0, 15.0, 16.0, 16.0, 17.0, 18.0, 18.0, 18.0, 93.0, 19.0, 93.0, 20.0, 83.0, 83.0, 83.0, 83.0, 83.0, 21.0, 21.0, 21.0, 21.0, 21.0, 21.0, 21.0, 21.0, 22.0, 22.0, 23.0, 23.0, 23.0, 23.0, 23.0, 23.0, 24.0, 25.0, 25.0, 26.0, 26.0, 26.0, 26.0, 26.0, 26.0, 26.0, 26.0, 26.0, 26.0, 26.0, 26.0, 26.0, 26.0, 26.0, 27.0, 27.0, 27.0, 27.0, 27.0, 27.0, 27.0, 27.0, 28.0, 28.0, 28.0, 28.0, 28.0, 28.0, 28.0, 29.0, 29.0, 29.0, 29.0, 29.0, 29.0, 29.0, 29.0, 30.0, 30.0, 30.0, 30.0, 31.0, 31.0, 31.0, 31.0, 31.0, 31.0, 31.0, 33.0, 32.0, 32.0, 32.0, 32.0, 32.0, 32.0, 32.0, 32.0, 33.0, 34.0, 35.0, 35.0, 36.0, 35.0, 36.0, 37.0, 35.0, 38.0, 39.0, 39.0, 39.0, 39.0, 40.0, 41.0, 41.0, 41.0, 41.0, 41.0, 41.0, 41.0, 41.0, 41.0, 41.0, 41.0, 41.0, 41.0, 41.0, 42.0, 42.0, 42.0, 42.0, 42.0, 42.0, 43.0, 44.0, 44.0, 44.0, 45.0, 45.0, 45.0, 45.0, 45.0, 45.0, 45.0, 88.0, 88.0, 88.0, 88.0, 46.0, 46.0, 46.0, 46.0, 46.0, 46.0, 46.0, 46.0, 51.0, 47.0, 47.0, 69.0, 8.0, 8.0, 48.0, 2.0, 8.0, 2.0, 5.0, 10.0, 49.0, 47.0, 47.0, 69.0, 50.0, 9.0, 5.0, 51.0, 49.0, 7.0, 71.0, 71.0, 8.0, 4.0, 10.0, 71.0, 48.0, 3.0, 69.0, 1.0, 39.0, 2.0, 6.0, 1.0, 51.0, 7.0, 52.0, 12.0, 12.0, 12.0, 53.0, 54.0, 55.0, 55.0, 55.0, 55.0, 55.0, 55.0, 55.0, 55.0, 55.0, 15.0, 15.0, 56.0, 56.0, 56.0, 56.0, 56.0, 56.0, 56.0, 93.0, 57.0, 57.0, 57.0, 57.0, 57.0, 57.0, 57.0, 58.0, 93.0, 59.0, 59.0, 59.0, 59.0, 59.0, 59.0, 59.0, 17.0, 60.0, 60.0, 60.0, 22.0, 22.0, 24.0, 25.0, 61.0, 61.0, 61.0, 61.0, 61.0, 61.0, 61.0, 61.0, 61.0, 61.0, 62.0, 62.0, 62.0, 62.0, 62.0, 62.0, 62.0, 62.0, 62.0, 63.0, 30.0, 30.0, 63.0, 33.0, 33.0, 31.0, 34.0, 34.0, 64.0, 64.0, 64.0, 64.0, 64.0, 64.0, 64.0, 34.0, 34.0, 34.0, 34.0, 34.0, 34.0, 36.0, 35.0, 37.0, 35.0, 35.0, 39.0, 43.0, 43.0, 43.0, 44.0, 65.0, 65.0, 65.0, 65.0, 65.0, 65.0, 65.0, 65.0, 65.0, 88.0, 66.0, 66.0, 66.0, 66.0, 66.0, 66.0, 66.0, 67.0, 67.0, 67.0, 67.0, 67.0, 67.0, 67.0, 68.0, 50.0, 49.0, 50.0, 6.0, 5.0, 72.0, 48.0, 69.0, 9.0, 50.0, 72.0, 49.0, 8.0, 8.0, 0.0, 47.0, 48.0, 70.0, 70.0, 70.0, 70.0, 70.0, 70.0, 70.0, 52.0, 3.0, 5.0, 9.0, 69.0, 50.0, 7.0, 52.0, 4.0, 5.0, 52.0, 52.0, 52.0, 69.0, 7.0, 71.0, 0.0, 50.0, 8.0, 71.0, 72.0, 72.0, 4.0, 49.0, 0.0, 7.0, 1.0, 50.0, 73.0, 73.0, 73.0, 73.0, 73.0, 73.0, 73.0, 73.0, 73.0, 14.0, 14.0, 54.0, 54.0, 54.0, 54.0, 54.0, 54.0, 15.0, 74.0, 74.0, 74.0, 74.0, 74.0, 74.0, 74.0, 74.0, 15.0, 15.0, 17.0, 17.0, 19.0, 20.0, 20.0, 20.0, 20.0, 17.0, 17.0, 93.0, 83.0, 75.0, 76.0, 22.0, 22.0, 22.0, 22.0, 22.0, 25.0, 25.0, 25.0, 25.0, 63.0, 30.0, 63.0, 77.0, 77.0, 77.0, 77.0, 77.0, 77.0, 77.0, 77.0, 77.0, 77.0, 77.0, 77.0, 77.0, 77.0, 77.0, 77.0, 78.0, 78.0, 78.0, 78.0, 78.0, 78.0, 78.0, 33.0, 79.0, 79.0, 79.0, 79.0, 79.0, 79.0, 79.0, 80.0, 80.0, 80.0, 80.0, 36.0, 35.0, 38.0, 38.0, 38.0, 38.0, 38.0, 38.0, 81.0, 81.0, 81.0, 81.0, 81.0, 81.0, 81.0, 43.0, 43.0, 82.0, 82.0, 82.0, 82.0, 82.0, 68.0, 68.0, 68.0, 68.0, 68.0, 68.0, 49.0, 51.0, 1.0, 5.0, 6.0, 0.0, 4.0, 9.0, 7.0, 72.0, 72.0, 9.0, 6.0, 10.0, 10.0, 0.0, 1.0, 3.0, 2.0, 2.0, 53.0, 53.0, 53.0, 53.0, 53.0, 53.0, 12.0, 12.0, 54.0, 19.0, 16.0, 16.0, 16.0, 16.0, 16.0, 16.0, 16.0, 16.0, 16.0, 16.0, 19.0, 19.0, 17.0, 58.0, 58.0, 58.0, 58.0, 58.0, 19.0, 19.0, 93.0, 83.0, 60.0, 60.0, 75.0, 76.0, 76.0, 76.0, 76.0, 76.0, 76.0, 84.0, 84.0, 84.0, 84.0, 84.0, 84.0, 84.0, 22.0, 24.0, 24.0, 24.0, 24.0, 24.0, 25.0, 85.0, 85.0, 85.0, 85.0, 85.0, 85.0, 85.0, 85.0, 85.0, 85.0, 85.0, 85.0, 30.0, 30.0, 30.0, 86.0, 86.0, 86.0, 86.0, 86.0, 86.0, 86.0, 87.0, 87.0, 87.0, 87.0, 87.0, 87.0, 87.0, 87.0, 63.0, 33.0, 33.0, 33.0, 36.0, 35.0, 37.0, 36.0, 39.0, 40.0, 40.0, 40.0, 40.0, 42.0, 44.0, 88.0, 88.0, 89.0, 89.0, 89.0, 89.0, 89.0, 89.0, 89.0, 82.0, 82.0, 82.0, 90.0, 90.0, 90.0, 90.0, 90.0, 90.0, 90.0, 39.0, 38.0, 9.0, 7.0, 49.0, 48.0, 48.0, 10.0, 0.0, 10.0, 10.0, 8.0, 69.0, 47.0, 47.0, 3.0, 1.0, 3.0, 12.0, 15.0, 91.0, 91.0, 91.0, 91.0, 91.0, 91.0, 91.0, 91.0, 92.0, 92.0, 92.0, 92.0, 92.0, 92.0, 92.0, 92.0, 92.0, 20.0, 20.0, 18.0, 18.0, 18.0, 18.0, 58.0, 93.0, 17.0, 60.0, 60.0, 75.0, 75.0, 75.0, 75.0, 75.0, 94.0, 94.0, 94.0, 94.0, 94.0, 94.0, 94.0, 23.0, 25.0, 85.0, 85.0, 95.0, 95.0, 95.0, 95.0, 95.0, 95.0, 95.0, 95.0, 95.0, 63.0, 63.0, 31.0, 80.0, 80.0, 80.0, 80.0, 35.0, 35.0, 35.0, 37.0, 37.0, 37.0, 96.0, 96.0, 96.0, 96.0, 96.0, 96.0, 96.0, 37.0, 36.0, 35.0, 40.0, 40.0, 40.0, 97.0, 97.0, 97.0, 97.0, 97.0, 97.0, 97.0, 42.0, 42.0, 42.0, 42.0, 98.0, 98.0, 98.0, 98.0, 98.0, 98.0, 98.0, 99.0, 99.0, 99.0, 99.0, 99.0, 99.0, 99.0, 99.0, 99.0, 99.0, 100.0, 100.0, 100.0, 100.0, 100.0, 100.0, 100.0, 43.0, 43.0, 44.0, 44.0, 46.0, 46.0, 101.0, 101.0, 101.0, 101.0, 101.0, 101.0, 101.0, 101.0, 101.0, 101.0, 101.0, 101.0, 101.0, 101.0], \"lat\": [51.56561822797051, 51.49651550423678, 51.526385016733926, 51.52748948036083, 51.488803130427186, 51.52236121668528, 51.519093993037096, 51.5161457467108, 51.52755281777541, 51.523758652662565, 51.507302688146, 51.48832546197817, 51.51527513064885, 51.514388964266665, 51.48581554211772, 51.5355059556199, 51.514577306192415, 51.526395262886055, 51.50723898142699, 51.516215855696394, 51.507207769123596, 51.4884257623228, 51.48584694144626, 51.514819698377515, 51.48585562545339, 51.48861246766588, 51.515296644962554, 51.56558678505958, 51.565498713571955, 51.55619776853029, 51.49656185295848, 51.51459957520185, 51.526433597133305, 53.53920739966965, 53.53922437538507, 53.539277427773996, 53.53926897509538, 53.53921252041958, 53.53925000146427, 53.53927293668242, 53.49320399728206, 53.51231844721839, 53.512362626265976, 53.5123118737981, 53.512328287228186, 53.512334655247756, 53.51230309217281, 53.51234590259931, 53.51230733225761, 53.52379979354107, 53.523737892664734, 53.52380184881038, 53.523771254481865, 53.523743373637174, 53.96860794623596, 53.47202953491264, 53.47199744649871, 53.436352917336514, 53.487494488948784, 53.48750804105145, 53.487504786798326, 53.3886020698282, 53.387584626150414, 53.38865977379173, 53.5200240833595, 53.76845831657802, 53.76846351677351, 53.76868158029269, 53.76849708789497, 53.768653321932106, 52.52360623870173, 52.523540628534505, 52.52360401964635, 52.52358113524953, 52.523605170850054, 52.523531517791014, 52.523583492131486, 52.52357914242913, 52.34103951418036, 52.341040397405614, 52.78598497436299, 52.78603539247416, 52.786013955787254, 52.78605610795118, 52.78600501451072, 52.78596786475024, 52.85929540480345, 52.74779117089, 52.747758117029775, 52.35944162341592, 52.359479308589705, 52.359473299476434, 52.35951939550867, 52.35952073118148, 52.35953811112146, 52.359473681017455, 52.35946350257681, 52.35950324353519, 52.359527785206225, 52.35948634728228, 52.35948919469113, 52.35947193735195, 52.359516893143834, 52.35950640308145, 52.443669675763864, 52.443707573456464, 52.443741641563186, 52.44373023990264, 52.4436826634402, 52.44373075536217, 52.443684630082, 52.44367804066811, 51.70617515360943, 51.70615963600069, 51.70616270037487, 51.706222389127895, 51.706192103435974, 51.7062280699616, 51.70618973228484, 51.88903289832275, 51.888988901255196, 51.88899047160525, 51.889041674946085, 51.889049363545425, 51.88901666379935, 51.8890553392262, 51.8889974910605, 51.74997839249742, 51.74994848763338, 51.74996797759957, 51.74999966290654, 50.70264405595637, 50.70262616364544, 50.70265626602654, 50.702681192455444, 50.70268912929117, 50.702669483657225, 50.70264668828214, 50.89889510646072, 50.943037389194494, 50.94299807312185, 50.94300849494775, 50.94305811040002, 50.94304986546028, 50.943065478911336, 50.94301019207033, 50.943009100645185, 50.89876647209073, 51.35451561357951, 50.823623251650076, 50.82368795862083, 50.82097912090428, 50.82373255901546, 50.82107218334435, 50.83562616046293, 50.82381909308635, 51.51731782067708, 51.51612232271516, 51.516030662350694, 51.51609496454879, 51.5160329123649, 50.253325053399635, 50.43026916545252, 50.430281059311845, 50.43030134801039, 50.4303021432423, 50.430266548648575, 50.43029745156996, 50.430290471474386, 50.430268891454105, 50.43024554959933, 50.43024380450073, 50.43032149847562, 50.43027303764434, 50.430299237943075, 50.4302477001152, 53.10457510444279, 53.10458975508295, 53.10463670689628, 53.10463860161494, 53.10464515624607, 53.10458307657148, 52.68631896844644, 57.802208172909026, 57.80220471017418, 57.802209155252875, 56.91170407470921, 56.91178797835807, 56.911751786300535, 56.911712198279844, 56.91174031546196, 56.91175421739815, 56.91172061732938, 56.49485864569029, 56.49492619765538, 56.494708963866294, 56.4947429362375, 56.45207178362019, 56.45202265821535, 56.45211104498869, 56.45202573937933, 56.45208734818579, 56.45207722964508, 56.452093779066516, 56.45202221193003, 51.51461022204002, 51.56677369683499, 51.566783607086926, 51.51953105917328, 51.514753297734444, 51.51472074559133, 51.523731498284654, 51.52758559950219, 51.51472889558705, 51.527591061110684, 51.5356045214222, 51.55613959597454, 51.516132998651344, 51.56680773314009, 51.56678816288883, 51.51955355626241, 51.461330482671194, 51.488799288946325, 51.53558825614749, 51.51451609366962, 51.51624134804285, 51.50728056268867, 51.51522358837624, 51.51526515067274, 51.514725423812656, 51.48579918996691, 51.55621479345716, 51.515236428139495, 51.523706086338336, 51.48849539347775, 51.51952279910312, 51.49647650823693, 51.51615658996706, 51.52754966437646, 51.526520795507224, 51.49650246975439, 51.5144789945949, 51.507163680454354, 51.51901773024032, 53.49316025171548, 53.49322582398258, 53.49312066480243, 53.38665133156113, 53.16150075619153, 54.223596361890976, 54.22366078555018, 54.22360849089591, 54.2235881543938, 54.22358601551459, 54.22363594233384, 54.22361373320251, 54.22364666730789, 54.22363382634936, 53.96860663515539, 53.96875101002282, 53.83472747120382, 53.83479391625172, 53.83472778704787, 53.834768706550676, 53.83475095443581, 53.83474397573199, 53.834728685876236, 53.388825601727085, 53.46532708433765, 53.46532786693659, 53.46532198042649, 53.46531377838531, 53.46539748868811, 53.46533832957858, 53.465384991152234, 53.45585361057575, 53.38877957875882, 53.38417282006378, 53.38424090774758, 53.38425866841412, 53.384230654374015, 53.384251077461094, 53.3842257948011, 53.38419588803414, 53.43641644830925, 52.46587659803227, 52.46577302284482, 52.465824369778126, 52.34107077322143, 52.34103691821107, 52.85932846996593, 52.74775624493611, 52.434381008996674, 52.43441849069479, 52.43437601624883, 52.434415440039324, 52.434347931089974, 52.43438418810547, 52.43438086853599, 52.43438558661152, 52.43436615660634, 52.43441386985568, 52.61410286029584, 52.61409222956031, 52.61402873527048, 52.61408951305845, 52.6140568196101, 52.61410077289649, 52.61401979308777, 52.61402943977484, 52.61408719330127, 51.45988437400413, 51.750022942072135, 51.74998236506685, 51.45998024145136, 50.898746397834095, 50.898873696017745, 50.70261409453791, 51.35449348104109, 51.354523898512326, 51.43404132524102, 51.43403914882303, 51.43403965033798, 51.4340090084558, 51.43400393472252, 51.43406704777484, 51.434019992319264, 51.35451042410221, 51.35452138600196, 51.354561364382214, 51.354546991381554, 51.35455220438521, 51.354563257695574, 50.821235126308586, 50.82362033480524, 50.83565572021376, 50.82366328226041, 50.823645407409515, 51.516111668843315, 52.68632932053719, 52.68634703589096, 52.68630523545201, 57.80233727429021, 57.5046693358179, 57.50464344794757, 57.504640677513436, 57.50463498619641, 57.504635457634976, 57.504675357268674, 57.50468648372217, 57.50468242520005, 57.50469571311057, 56.494698014125724, 55.706654371387415, 55.706606225458415, 55.706646045915306, 55.7066612147086, 55.70667982489678, 55.70664005798302, 55.70663502970127, 55.87362904653884, 55.87364172412119, 55.87365865920522, 55.87366216547974, 55.87368292395249, 55.87367318695284, 55.873676193774486, 54.93257776443667, 51.46126509236879, 51.51606951302389, 51.461362388717326, 51.52630951408571, 51.53561027476467, 51.522107813848834, 51.52372433505509, 51.519581734874514, 51.48855134284355, 51.461263849943904, 51.52228632187601, 51.516113060772106, 51.5147920217297, 51.51476319403764, 51.56547590067815, 51.5666951859259, 51.52363845301799, 51.346020595693965, 51.3460145812703, 51.346060876769, 51.346072688672194, 51.34606580214191, 51.34604065947498, 51.346004844954095, 51.51900059274138, 51.488279537699384, 51.53556944377887, 51.48874322856374, 51.51943192241255, 51.461263291041625, 51.5071487413622, 51.519067546179166, 51.48582190326731, 51.53556876715617, 51.51911062673666, 51.519093817999526, 51.51915213756179, 51.51953785060272, 51.507159155555875, 51.5152104861997, 51.565348892638504, 51.461327623450345, 51.51477651880816, 51.515356847998994, 51.52221030156729, 51.52218002275891, 51.4857896450626, 51.516087689107, 51.565558746092385, 51.507404262749844, 51.49639270197118, 51.46144928203002, 54.26825185918938, 54.26825663383218, 54.268254583991336, 54.26827697121778, 54.26821487385737, 54.26825639599195, 54.26823671688653, 54.268244159646464, 54.26825992409005, 53.523888392923816, 53.52388815443753, 53.16160695179129, 53.1616436882906, 53.161578362158586, 53.16159000088476, 53.161578604047875, 53.161619576635104, 53.968634635183875, 53.64594911233497, 53.64590715579137, 53.645916584817755, 53.64590436201226, 53.64597130793264, 53.64596572244414, 53.64594904782493, 53.64594643746654, 53.96866095777133, 53.96858510950317, 53.43634113251139, 53.436364250572105, 53.387418685981444, 53.52012810156731, 53.52009060611316, 53.5201100647583, 53.52007296337518, 53.43637696985518, 53.43637727733463, 53.38860370858568, 53.76868121505213, 52.45582783859248, 52.99987244877584, 52.341070049912716, 52.341023303401414, 52.34102423981723, 52.341057869547896, 52.34103446804333, 52.747915309936516, 52.747953253499176, 52.747933685726075, 52.74776283329586, 51.45990598459331, 51.75000660381676, 51.459975634837065, 52.083921137120406, 52.08389939343003, 52.083935320875554, 52.08395219903272, 52.083966833738444, 52.08396951733517, 52.083916601810714, 52.08394388595138, 52.083897292895294, 52.083933292138774, 52.083916713289604, 52.083930702349534, 52.084044241893544, 52.08408900826321, 52.08412299318409, 52.0840692353396, 51.48692286635348, 51.48695670721073, 51.48696103614456, 51.48695598357211, 51.48690790515528, 51.486971599984386, 51.486967553076425, 50.89873980676689, 51.377917727340034, 51.37794497193513, 51.377969967659816, 51.37791412753751, 51.377975171813134, 51.3779359418238, 51.37791450773494, 51.19229154343235, 51.19231020820851, 51.192285718774116, 51.19235312320985, 50.821220070640024, 50.82364438238152, 51.51744915122982, 51.517437188328074, 51.51744267678738, 51.517442332507066, 51.517375714819025, 51.51742723133163, 51.567564239726266, 51.567558697773705, 51.567625923577666, 51.56757580431233, 51.567557220956175, 51.56759163971191, 51.567618030272975, 52.686510768688066, 52.686499464602164, 55.41532716275915, 55.4152966198864, 55.41526393239382, 55.4153451696227, 55.41528478472796, 54.93252980222149, 54.93244641732757, 54.932504290611654, 54.93250318512274, 54.93250950081364, 54.93248376340618, 51.5160927308771, 51.5144762707953, 51.49647567888755, 51.53535007363418, 51.52637830952585, 51.56557580975984, 51.48583057247677, 51.48866327368935, 51.50716794134574, 51.52206961128708, 51.522079458654204, 51.48841186375463, 51.52631800872599, 51.55605877342042, 51.556141731533806, 51.56551871401937, 51.496407833878806, 51.48823647860956, 51.52746311902525, 51.52739434754182, 53.38652265538556, 53.38658470816993, 53.38659646460832, 53.38656296490038, 53.38652432747715, 53.386577737309466, 53.493136635115405, 53.493120679005685, 53.16159540611095, 53.38748674325955, 53.47200768963527, 53.47197412944269, 53.4720189102824, 53.47197257339713, 53.47199249995795, 53.47201390847203, 53.47198442137115, 53.471943165970615, 53.47201778664492, 53.472012480193435, 53.387581683255846, 53.38756960504118, 53.43636780495867, 53.45586380377984, 53.455826643561714, 53.45581223673144, 53.45583910535126, 53.45582222171345, 53.38734481170968, 53.38738840497176, 53.38874385548322, 53.76856453870391, 52.46587193351286, 52.465896925269554, 52.45577711248415, 52.999823677410454, 52.9997940750986, 52.99983751430837, 52.99985926655374, 52.99981472559863, 52.9998754189794, 52.64015192381194, 52.64016897550949, 52.6402124072207, 52.64019282794601, 52.64013801685215, 52.64015480564363, 52.640157014806746, 52.34105009199723, 52.8591743869491, 52.85924202111554, 52.859216716669984, 52.85922517154503, 52.859313272534635, 52.74769157924473, 52.5053376061228, 52.50535826825522, 52.50535658124652, 52.50534939800104, 52.50535598756369, 52.50536604864446, 52.505330123643105, 52.5053943510853, 52.505325721152964, 52.505374669574, 52.505363213781536, 52.50536988602164, 51.74989479691418, 51.74992833617908, 51.74993130250289, 51.60814604146072, 51.60812393997679, 51.60809233353198, 51.60810994774726, 51.60807423651357, 51.60812590225795, 51.60807333232661, 51.54163377392333, 51.54159038016356, 51.541532790927626, 51.54158365359557, 51.541559483014694, 51.541517021218446, 51.54156015135661, 51.54155357498106, 51.45980867082579, 50.898641317498864, 50.898801138340154, 50.89865865424382, 50.82097550722826, 50.82363305439873, 50.83556862856159, 50.82096572498711, 51.51611273670697, 50.253230633622124, 50.25325409635978, 50.253277614670246, 50.25326194839585, 53.104479663943906, 57.80249416700845, 56.49489099175667, 56.4948695345179, 55.57561749157992, 55.57560758480669, 55.57564954361261, 55.57566953320772, 55.575623584389874, 55.57564202005682, 55.57561301114523, 55.41526327120768, 55.41521777003369, 55.41527382724817, 55.73182348880687, 55.73184725882036, 55.73186987761324, 55.73184022598867, 55.73181953675989, 55.731855503907035, 55.73185284473272, 51.516145224963374, 51.51723134480261, 51.48878086273229, 51.50715664422243, 51.516062451832, 51.523730435482335, 51.52375981131296, 51.55620259446178, 51.565596539219214, 51.55616880674914, 51.55609278675823, 51.514750165421795, 51.51953157131898, 51.566768556308716, 51.566751924650504, 51.48835432676825, 51.496499680427306, 51.48833903918341, 53.493131152285706, 53.968564485522016, 53.69500311349286, 53.695017195405505, 53.6949465650848, 53.69495247304385, 53.69499270622299, 53.69499800978415, 53.69500480549824, 53.69495848167342, 53.74594578494835, 53.74589599575622, 53.74597645356043, 53.745976279812865, 53.74589683046555, 53.74595336636649, 53.74593573202082, 53.745911908793715, 53.74591199259672, 53.51999309654082, 53.52003601555549, 53.487421317095134, 53.48744287040554, 53.487431624403534, 53.48743787956792, 53.4557906150255, 53.3886995186518, 53.43635497598082, 52.4659190873973, 52.46590393718035, 52.45579338896127, 52.45577770448943, 52.45573241696237, 52.4557408508172, 52.45578145803873, 52.694086486804174, 52.69411497283365, 52.69408040734029, 52.69414657437732, 52.69409975005517, 52.69414388117746, 52.69408623945175, 52.785871285237995, 52.74776517763043, 52.50546228615772, 52.50538685983044, 51.791351648600816, 51.79132359179941, 51.7913496208178, 51.79130286041151, 51.79133047210025, 51.7913256978874, 51.79129449965134, 51.79137626242665, 51.791366688158796, 51.459893010283004, 51.45994628575691, 50.70268584882359, 51.19227110803781, 51.19226689783299, 51.19226933965706, 51.19223586552125, 50.82379653463888, 50.823762694483605, 50.82367469296417, 50.8355937526839, 50.835636589340446, 50.83564313353214, 50.82347336985366, 50.82349187684147, 50.823528353497494, 50.82347470180544, 50.82348797908224, 50.823545928558126, 50.823480281202905, 50.83565178643965, 50.82094480664223, 50.82367554656793, 50.253343466936784, 50.253300637536604, 50.253294762255955, 50.2982516821375, 50.298300331458684, 50.298276832262275, 50.298266825892625, 50.29827633507804, 50.29824941582667, 50.298304600392086, 53.104593740171005, 53.10462564840899, 53.10465651728487, 53.104630844070876, 51.49011138336984, 51.4901219787475, 51.49013914166098, 51.49014231245648, 51.49013489052401, 51.490109690994004, 51.490183103142805, 51.47708203653465, 51.47709154555462, 51.47709311643676, 51.477110149072935, 51.47704731413404, 51.477102095459564, 51.4770884212166, 51.47704469059447, 51.477089783870944, 51.477109504859094, 51.88865827598329, 51.88862246828698, 51.88861623588261, 51.88860423385314, 51.888642048919316, 51.88866557680501, 51.8886201894608, 52.68627109589767, 52.68607882482106, 57.80236890680656, 57.802333236042976, 56.452080286555045, 56.452081285575744, 56.23004232320321, 56.23005537394621, 56.230074988349145, 56.23007619144302, 56.23011564259578, 56.23006399848784, 56.23011819582977, 56.230064020208125, 56.230098166898635, 56.23007709632546, 56.23012445392498, 56.23005086521196, 56.23004788936164, 56.230038628120305], \"legendgroup\": \"\", \"lon\": [-0.10301566854910434, -0.1114084331492533, -0.1334940678849414, -0.3522319431863878, -0.12934459239197815, -0.15759609239326605, -0.05969645497094323, -0.13437711946812056, -0.3524263593254514, -0.07925608720620497, -0.12789027380588788, -0.10599570105065757, -0.14222953911369124, -0.19903799771092381, -0.14981835040030203, -0.08226188840592959, -0.19911899179810133, -0.13360121820789556, -0.1277793646772317, -0.13463831387128078, -0.1276611716661642, -0.10584368085650131, -0.1498233440621045, -0.06203957542499519, -0.15013418073137738, -0.12934079105065757, -0.14199464065479284, -0.10321224288550364, -0.10321568600152435, -0.05537998088038024, -0.11138854984015922, -0.19910882203755959, -0.13366222314550133, -2.817692351317347, -2.817722566892102, -2.817728116309385, -2.8177155801396823, -2.817677021527035, -2.8177315730739605, -2.817687025261524, -2.9533423265274945, -2.2389181285649298, -2.238871565991883, -2.2388998046451434, -2.238866238119002, -2.2388880872570764, -2.2389100732999987, -2.238942624633013, -2.2389364976412653, -2.1213159095057605, -2.12124835829399, -2.121267761415762, -2.121254524538556, -2.12131545604729, -1.9971996745802314, -1.0363792459948313, -1.036381113084074, -1.5385585994221544, -1.3042393758576039, -1.3042501583797186, -1.3043801567597029, -1.4606587176187928, -1.4621844626560445, -1.460789494724135, -1.5855612251677422, -0.3537478059501207, -0.3538472468751395, -0.3537364230682952, -0.3537098667225292, -0.3535852019197199, -1.8434353712301481, -1.8434483323706963, -1.843392251015618, -1.8433763124833231, -1.8433786166148372, -1.8434061018559156, -1.8434012189031763, -1.8434046238372261, -2.194740540846239, -2.1947854240662465, -2.9462624596721843, -2.9462714326693504, -2.9462440859426557, -2.9462631399075234, -2.9463029936879885, -2.946376896302499, -1.6014943335889422, -1.3021255471712334, -1.302153791719042, -0.042586937261921864, -0.04269552950688635, -0.0426708483523918, -0.04267595946623452, -0.0426547270043327, -0.04265682304327789, -0.04265380535108955, -0.042653627208534675, -0.042656887579061935, -0.04267627688612011, -0.04265676064672566, -0.042689951581304716, -0.04264971707189273, -0.04262636176580448, -0.042622387919857216, 0.7316173006780736, 0.7316251284257494, 0.7316137846432625, 0.7316136242846498, 0.7315733886876087, 0.7316362703532433, 0.7315902185401213, 0.7315679658803956, -0.305594921902201, -0.3056552290086269, -0.3056464506700469, -0.3055858981251791, -0.30557668366544477, -0.3055979985876608, -0.3056557551298174, -0.19520566631608768, -0.19524300746819567, -0.19521614980858176, -0.19524576567052593, -0.19527123251592995, -0.19525657652482134, -0.19526638251809644, -0.19524245065542528, -1.2439873342254393, -1.2439180958080425, -1.2440595640131555, -1.2439889148321344, -1.3455788813120573, -1.3456285141243132, -1.3455929847198274, -1.3456328043619694, -1.3455816263672749, -1.3456188601756787, -1.345692707857, -1.3919377721025952, -1.4428111072316596, -1.4427970511867823, -1.4427855463066805, -1.4428404548032105, -1.4428419295275599, -1.4427972236373043, -1.4427813159217722, -1.4427728215235462, -1.3918406629272524, -0.6765450462025218, -0.14329541133016793, -0.14345655255810177, -0.13655120620965747, -0.14333706857700598, -0.13663639348089585, -0.12565495158303236, -0.14346888643227393, -0.08857446790809, -0.081375280762471, -0.08165759406437477, -0.08151244302095606, -0.08157863405337393, -5.191864817003971, -3.6380314416738955, -3.6380368161256618, -3.638014701417371, -3.638051726911246, -3.637988878885969, -3.637969542457422, -3.638006288687259, -3.6380440181639235, -3.6379711841422435, -3.6379985987103205, -3.6379973283659757, -3.638025284050644, -3.6379812506139593, -3.637990925192656, -3.135977072464777, -3.135993897360752, -3.1359442038943257, -3.135946737082429, -3.1359950406149606, -3.135994432909307, -3.0840816708532617, -4.045497208459158, -4.0455471186819665, -4.045513041837181, -2.3383330915497464, -2.3383183639077196, -2.338349844970178, -2.338345556499902, -2.3383254870948327, -2.338366534671329, -2.338318146273081, -2.949812703157193, -2.949741706791366, -2.9495290308067386, -2.9494835585248147, -4.710745090335666, -4.710749193306187, -4.710754182687288, -4.710755970224386, -4.710741138668223, -4.710710149376734, -4.710771944256523, -4.710761557196045, -0.19917942192442756, 0.11049448803742876, 0.11052423674167472, -0.057585605359496056, -0.06199744878492146, -0.06200527556416015, -0.0792838593710164, -0.35231255289275537, -0.0617919064685517, -0.35246540812067334, -0.08227845853923638, -0.05548093059095878, -0.13453617830908096, 0.1105467424412318, 0.11049109375810362, -0.058029069771401154, -0.11565168468584894, -0.12949351045777763, -0.082166754074746, -0.1992123195297035, -0.13487835421087868, -0.12755007862107565, -0.1419309348738856, -0.14191877280015558, -0.061816959766828924, -0.14972257424592675, -0.0554629242611684, -0.14191003696262114, -0.07921924907495215, -0.10587940868633597, -0.05802066709464098, -0.11147398812581082, -0.08197870021736854, -0.35225114586016915, -0.13340631405881287, -0.11144565433914169, -0.1991549940688242, -0.12744433808740468, -0.05987173681741931, -2.9534476572916137, -2.95351174088166, -2.9533343021737073, -2.9589198962557646, -2.907906685802516, -1.4061047749525764, -1.4061311054767196, -1.4060513486339152, -1.4060745246144966, -1.4061317016135022, -1.4061389585657889, -1.4060777543054144, -1.4060896186565421, -1.4060803872544227, -1.997182058805467, -1.9971134643731394, -1.6387563034479522, -1.638784045617435, -1.6387686514601922, -1.6387521415826947, -1.6388062854277767, -1.6387424413090637, -1.63878581813742, -1.4605124936827338, -1.290171060762017, -1.2901299784288964, -1.2901515023377013, -1.290179341193812, -1.2901774577845055, -1.2901681758562091, -1.290171113972842, -1.339173273832313, -1.46050497735825, -1.4056695389827114, -1.405685002501806, -1.4056843046737229, -1.4056855367932448, -1.4056358452214375, -1.4056884083530936, -1.4057059825570157, -1.5385659990908132, -1.984535846681295, -1.9844782223482997, -1.9845084339251775, -2.1947405823567765, -2.194749305023571, -1.6015863669938826, -1.3020981784477073, -0.8179144306233652, -0.817915849147677, -0.8179251362669601, -0.8179885933800266, -0.8179379005892744, -0.8179065355438787, -0.8179393371146217, -0.8179460059373156, -0.817983530291016, -0.8179773637397645, 0.0038085356565059304, 0.0038141744119002453, 0.003780041312917231, 0.00378907805305867, 0.0037990369058008263, 0.003805404885484771, 0.003774067657793781, 0.0037778649463278335, 0.0037572771688567197, -0.968728093127278, -1.2439198908878073, -1.2438935507717217, -0.968693616082029, -1.3918707516076552, -1.391994579565572, -1.3456489144984325, -0.6765170341936074, -0.6764945744386418, -0.5380946903352379, -0.5380676716155274, -0.5380687299653423, -0.5380793481263946, -0.5380879256539703, -0.5380920119273525, -0.5380598160341035, -0.6764996033573492, -0.6764914491975753, -0.676515242228872, -0.6765335325914192, -0.6765699032445907, -0.6765236069189516, -0.13668664712900458, -0.14332996219775668, -0.12572082443861865, -0.14346451149747275, -0.14347947747971487, -0.08159275719812041, -3.084129485473939, -3.084142817050286, -3.0840836392670767, -4.045768339362001, -2.933910921868302, -2.933863396494257, -2.9338633238070484, -2.933931289553244, -2.9339305845145356, -2.933940128040329, -2.9338691251907933, -2.9338542247333734, -2.9339318519593336, -2.9495105652785063, -2.6149741618809537, -2.614928903490355, -2.6148980722568536, -2.6149511426382333, -2.614949868072459, -2.61492334090509, -2.614981550930945, -4.328298389582567, -4.328271091986746, -4.3283087780625555, -4.328322580685642, -4.328299024525587, -4.328254080236851, -4.328325693542994, -4.615156312509027, -0.11575234293340826, -0.13423818975495744, -0.11563039039550298, -0.1337469819677978, -0.08229971179667739, -0.15740287176983422, -0.07927339570186274, -0.05783175300660654, -0.12952378923790048, -0.11578382952665082, -0.15723690361873346, -0.13457624184174302, -0.06178055503302322, -0.06183533161801482, -0.10324038914928792, 0.11046444561530072, -0.07921685769525667, -0.04511108091668225, -0.04508965539538998, -0.04512346747413839, -0.04509106712911547, -0.045079038873438296, -0.04514976061899031, -0.0450795469232958, -0.060035880087297926, -0.10598451126958464, -0.08216266544945233, -0.12932371678661989, -0.05798340895311105, -0.11579073529883942, -0.12769338835057578, -0.06020656983526505, -0.14976855916906925, -0.08232078621673088, -0.060076015052529526, -0.06006244925062711, -0.06006459975215724, -0.05758273070559512, -0.12756284149078367, -0.14189817718620248, -0.10339915362198486, -0.11559304737390616, -0.06182394229535928, -0.14206447818515447, -0.1574053480131005, -0.1573656039844417, -0.14986285270438668, -0.13473207732996983, -0.10306613822459128, -0.12751621973038757, -0.11140891734293892, -0.11562217454344305, -2.711977491367295, -2.7119639815585286, -2.7119739272990246, -2.7120360237612884, -2.7120095684525753, -2.712003639230166, -2.712043885890809, -2.712044259473259, -2.712037285071637, -2.121167793749126, -2.121164393834614, -2.9081613940154885, -2.9081539884036087, -2.9081470753498566, -2.908107501531079, -2.908163220090805, -2.9081653713945808, -1.997163674407735, -1.2384315644407273, -1.2384289518778988, -1.2384125710584302, -1.2384465704992287, -1.2383938783590538, -1.2383994453871596, -1.238460989962821, -1.2384364537184418, -1.997282629666535, -1.9972461575138007, -1.5385439395021179, -1.538566296342415, -1.4621722803404418, -1.585632849206884, -1.585654353769885, -1.5855984723114827, -1.5856187556877297, -1.5385229202490676, -1.538597134227841, -1.4605775730277235, -0.3536672319926921, -1.910234192126313, -2.1668511011294775, -2.194738384675383, -2.194700005414712, -2.194677308382919, -2.1947343358669973, -2.1946784006564286, -1.3020491116714894, -1.3020228520773152, -1.302081960064646, -1.30219200499617, -0.9687889059939724, -1.2439270267104179, -0.9684353875259382, -0.7489556779630311, -0.7489896875975276, -0.7490099260682375, -0.7489574495911011, -0.7490032880602479, -0.7489683234379411, -0.7490155613904041, -0.7490306259385586, -0.7489791411944975, -0.7490003357886214, -0.7490041102244281, -0.7490289380066965, -0.7491271462412485, -0.7491372624836822, -0.7491216972438789, -0.7491108353224695, -0.5615423246100673, -0.5615541125966717, -0.5615509870009854, -0.5615072239670662, -0.5614751029597347, -0.561559618578857, -0.5615192727470927, -1.3916782754039778, 0.2276846644615366, 0.22768044013431604, 0.22767738581277822, 0.22767204187858697, 0.22767231026407456, 0.22763219686296968, 0.22769460343727935, 0.7878650671186959, 0.787892864390223, 0.7878758635042721, 0.7879378311697752, -0.1364959452260363, -0.14299818500635766, -0.08867209853869149, -0.08865628894696254, -0.0886475259257204, -0.08866906479677264, -0.08864392707897417, -0.08862000233408425, -2.5298403793357886, -2.529816129127769, -2.529821677357398, -2.5297873699531865, -2.5298201501183186, -2.529792030034184, -2.5298434548965347, -3.0841055675997096, -3.084153586510621, -4.638758640270711, -4.638736591854824, -4.638686301484203, -4.638695905784942, -4.638692981608204, -4.615238681234067, -4.615275672266324, -4.615228005404549, -4.615280183863286, -4.6152781890647905, -4.615208125677473, -0.13467458895867523, -0.19901100933132465, -0.11144757517472682, -0.08229003084520607, -0.13358919994157625, -0.10312098410757904, -0.15009321247274054, -0.12948183646341166, -0.1277473525114945, -0.15749388392368638, -0.15756202646135203, -0.12933115348268814, -0.1338364365096225, -0.05535395381585348, -0.05544000971686966, -0.10313953755726518, -0.11147409217823397, -0.1060605740531275, -0.35221301721276815, -0.3523558809204236, -2.958853053944339, -2.9587895514705687, -2.9587857284427663, -2.9588310949975765, -2.958852083274209, -2.9587989416499076, -2.9533547673783462, -2.953315045830589, -2.908101082010812, -1.4620794606102023, -1.0363162180355228, -1.0363633422649288, -1.036348702081628, -1.0363060143453786, -1.0363424069928264, -1.036342557093428, -1.0363513728187004, -1.0363402373074997, -1.0364455119503533, -1.0364226564892798, -1.4619379305103404, -1.4619255885045603, -1.5386104414543782, -1.3389264091796276, -1.3388845526770932, -1.3389076669840165, -1.3389300559299668, -1.3389419416137731, -1.4620877541357864, -1.4620164468047088, -1.4605308261898626, -0.35359631051243273, -1.984506214457951, -1.9843468312141705, -1.9100344313323026, -2.166854848419885, -2.1668760429363263, -2.166845902535539, -2.166876925367889, -2.166801398314075, -2.1668194336439206, -1.8011874668789123, -1.8011916740390779, -1.8011359732534733, -1.8011078594678274, -1.801150495724027, -1.8011033353445187, -1.801111382572563, -2.194729536960771, -1.601555662974442, -1.6016011130749734, -1.6015585227812994, -1.6015365778131112, -1.601562546741504, -1.3022330968258593, -0.4691030641777101, -0.46909243774643655, -0.46910615130277517, -0.46911843932306624, -0.4691098079599866, -0.46908938389738175, -0.46911230959961914, -0.46909430974749655, -0.46904087435339115, -0.46909291250343244, -0.4690445501979973, -0.4691031623595737, -1.2439196694030794, -1.2439510645509644, -1.2439236618167255, -1.65822895885008, -1.6583019660194056, -1.6582346645455164, -1.658229826011445, -1.658249746350241, -1.6582695724546368, -1.6582809376496335, -1.2937335210262166, -1.2936957359921921, -1.2937812169434002, -1.2937594702955977, -1.2938202242791892, -1.2937419804562977, -1.293775713887372, -1.293807579820909, -0.9687059359094405, -1.3920431528970552, -1.39207866414793, -1.3918660175811735, -0.13642968085801654, -0.14348642931304254, -0.1257342071015462, -0.1366597919154244, -0.08147911942810696, -5.191851944221458, -5.191864551880488, -5.191836577377527, -5.191739439213026, -3.136103106730532, -4.045734757400694, -2.949552881068218, -2.9495381999110917, -4.429590615780845, -4.429645666914085, -4.429621080529996, -4.429632005479564, -4.429645366234223, -4.429664336264673, -4.429625152442075, -4.6388212370084, -4.638776618772091, -4.638767149506017, -4.864086198731564, -4.864094408631261, -4.864074235450123, -4.864054720840739, -4.864043214164218, -4.864059504379855, -4.864116743380668, -0.08172130022512086, -0.08881197919561136, -0.1295199342068934, -0.12761806689661648, -0.13441317469134198, -0.07958908450466666, -0.07931093233000991, -0.05548165170757674, -0.1031067362487277, -0.05547791187248205, -0.05532594011653398, -0.061811203440408635, -0.05800696604426319, 0.11049225147713121, 0.11032362696883789, -0.1057065860883483, -0.1114471814669928, -0.1060469923092181, -2.9533931669569853, -1.9971798801916374, -1.746121301182215, -1.7460748433093254, -1.7460834244514885, -1.7460897801833655, -1.7461572405616046, -1.7460918008998123, -1.7460987031864375, -1.7461180285100557, -1.651433969884715, -1.6513929625831705, -1.65141639497439, -1.6514471378673996, -1.6513764996590703, -1.6514594143564083, -1.651414282722839, -1.6514163755481728, -1.6513718272555695, -1.585590857966039, -1.5855257697782243, -1.3044901906275086, -1.3044919610066366, -1.3045671037696593, -1.3045654778293299, -1.338894776591359, -1.4606475875607643, -1.5385979332804944, -1.9844896539620278, -1.9845563447234995, -1.9099741902148273, -1.9099587614977473, -1.9100148888274966, -1.9100060079724739, -1.9099979714676156, -2.258661426952522, -2.2586582549455345, -2.258685184799669, -2.258682695816046, -2.2587085442346453, -2.2586354889177827, -2.2586496774608285, -2.9463423438328378, -1.3021622628254688, -0.4690541586689083, -0.469046969449614, 0.9290671988768376, 0.9290616151145996, 0.9290596266936779, 0.9290900455946715, 0.9291115748775968, 0.9290492695426719, 0.9291047791459146, 0.9291035684498777, 0.9291224109656934, -0.9687531658904772, -0.9688387695676967, -1.345682996764131, 0.7877893645483159, 0.7878096868000231, 0.7877509344895787, 0.7877554130246223, -0.1433202704015407, -0.1432830025965371, -0.14355052881626496, -0.12582497871253298, -0.12568075218181707, -0.12569000466671806, -0.1427387962355595, -0.14278217764902293, -0.14272645974980425, -0.14272955522086275, -0.14278373695343388, -0.14277953002966437, -0.1427799150255941, -0.12567573133428295, -0.1365483062942322, -0.14353040611293455, -5.191756307225402, -5.19172612119153, -5.1917245738195295, -5.118953352487444, -5.118933298191413, -5.118991059878052, -5.118976096373769, -5.118949584297758, -5.1189765125562054, -5.118984945970759, -3.1357608787160403, -3.1357273621944732, -3.1357339811225877, -3.13573496117236, -3.2246882319721006, -3.2247053272375497, -3.2247096664862527, -3.2246712358754883, -3.2246827512147425, -3.22473062820407, -3.2246718073259717, -3.7040634990369288, -3.7040607456997536, -3.7040455302366944, -3.704018663228011, -3.704088596275689, -3.7040711726951883, -3.7040775160813424, -3.704076813279404, -3.7040837004724456, -3.704088122383913, -3.495479127612847, -3.4955053896890784, -3.4955405870291316, -3.495514938600338, -3.495525530712529, -3.4955388005835806, -3.495558471340344, -3.0840997643666923, -3.084097699314377, -4.04582094842905, -4.045817543605837, -4.710691141465685, -4.710719578723614, -4.856542853706353, -4.856555289119492, -4.856556667702856, -4.856501622553471, -4.856514178659439, -4.856550800413436, -4.856565214211874, -4.856491819103305, -4.856561872423701, -4.856533070618818, -4.856558423534619, -4.856567335566253, -4.856544186602467, -4.856555201891943], \"marker\": {\"color\": \"fuchsia\"}, \"mode\": \"markers\", \"name\": \"\", \"showlegend\": false, \"subplot\": \"mapbox\", \"type\": \"scattermapbox\"}],                        {\"height\": 500, \"legend\": {\"tracegroupgap\": 0}, \"mapbox\": {\"center\": {\"lat\": 52.64334222034988, \"lon\": -1.5282091461712428}, \"domain\": {\"x\": [0.0, 1.0], \"y\": [0.0, 1.0]}, \"style\": \"carto-positron\", \"zoom\": 5}, \"margin\": {\"b\": 0, \"l\": 0, \"r\": 0, \"t\": 0}, \"template\": {\"data\": {\"bar\": [{\"error_x\": {\"color\": \"#2a3f5f\"}, \"error_y\": {\"color\": \"#2a3f5f\"}, \"marker\": {\"line\": {\"color\": \"#E5ECF6\", \"width\": 0.5}}, \"type\": \"bar\"}], \"barpolar\": [{\"marker\": {\"line\": {\"color\": \"#E5ECF6\", \"width\": 0.5}}, \"type\": \"barpolar\"}], \"carpet\": [{\"aaxis\": {\"endlinecolor\": \"#2a3f5f\", \"gridcolor\": \"white\", \"linecolor\": \"white\", \"minorgridcolor\": \"white\", \"startlinecolor\": \"#2a3f5f\"}, \"baxis\": {\"endlinecolor\": \"#2a3f5f\", \"gridcolor\": \"white\", \"linecolor\": \"white\", \"minorgridcolor\": \"white\", \"startlinecolor\": \"#2a3f5f\"}, \"type\": \"carpet\"}], \"choropleth\": [{\"colorbar\": {\"outlinewidth\": 0, \"ticks\": \"\"}, \"type\": \"choropleth\"}], \"contour\": [{\"colorbar\": {\"outlinewidth\": 0, \"ticks\": \"\"}, \"colorscale\": [[0.0, \"#0d0887\"], [0.1111111111111111, \"#46039f\"], [0.2222222222222222, \"#7201a8\"], [0.3333333333333333, \"#9c179e\"], [0.4444444444444444, \"#bd3786\"], [0.5555555555555556, \"#d8576b\"], [0.6666666666666666, \"#ed7953\"], [0.7777777777777778, \"#fb9f3a\"], [0.8888888888888888, \"#fdca26\"], [1.0, \"#f0f921\"]], \"type\": \"contour\"}], \"contourcarpet\": [{\"colorbar\": {\"outlinewidth\": 0, \"ticks\": \"\"}, \"type\": \"contourcarpet\"}], \"heatmap\": [{\"colorbar\": {\"outlinewidth\": 0, \"ticks\": \"\"}, \"colorscale\": [[0.0, \"#0d0887\"], [0.1111111111111111, \"#46039f\"], [0.2222222222222222, \"#7201a8\"], [0.3333333333333333, \"#9c179e\"], [0.4444444444444444, \"#bd3786\"], [0.5555555555555556, \"#d8576b\"], [0.6666666666666666, \"#ed7953\"], [0.7777777777777778, \"#fb9f3a\"], [0.8888888888888888, \"#fdca26\"], [1.0, \"#f0f921\"]], \"type\": \"heatmap\"}], \"heatmapgl\": [{\"colorbar\": {\"outlinewidth\": 0, \"ticks\": \"\"}, \"colorscale\": [[0.0, \"#0d0887\"], [0.1111111111111111, \"#46039f\"], [0.2222222222222222, \"#7201a8\"], [0.3333333333333333, \"#9c179e\"], [0.4444444444444444, \"#bd3786\"], [0.5555555555555556, \"#d8576b\"], [0.6666666666666666, \"#ed7953\"], [0.7777777777777778, \"#fb9f3a\"], [0.8888888888888888, \"#fdca26\"], [1.0, \"#f0f921\"]], \"type\": \"heatmapgl\"}], \"histogram\": [{\"marker\": {\"colorbar\": {\"outlinewidth\": 0, \"ticks\": \"\"}}, \"type\": \"histogram\"}], \"histogram2d\": [{\"colorbar\": {\"outlinewidth\": 0, \"ticks\": \"\"}, \"colorscale\": [[0.0, \"#0d0887\"], [0.1111111111111111, \"#46039f\"], [0.2222222222222222, \"#7201a8\"], [0.3333333333333333, \"#9c179e\"], [0.4444444444444444, \"#bd3786\"], [0.5555555555555556, \"#d8576b\"], [0.6666666666666666, \"#ed7953\"], [0.7777777777777778, \"#fb9f3a\"], [0.8888888888888888, \"#fdca26\"], [1.0, \"#f0f921\"]], \"type\": \"histogram2d\"}], \"histogram2dcontour\": [{\"colorbar\": {\"outlinewidth\": 0, \"ticks\": \"\"}, \"colorscale\": [[0.0, \"#0d0887\"], [0.1111111111111111, \"#46039f\"], [0.2222222222222222, \"#7201a8\"], [0.3333333333333333, \"#9c179e\"], [0.4444444444444444, \"#bd3786\"], [0.5555555555555556, \"#d8576b\"], [0.6666666666666666, \"#ed7953\"], [0.7777777777777778, \"#fb9f3a\"], [0.8888888888888888, \"#fdca26\"], [1.0, \"#f0f921\"]], \"type\": \"histogram2dcontour\"}], \"mesh3d\": [{\"colorbar\": {\"outlinewidth\": 0, \"ticks\": \"\"}, \"type\": \"mesh3d\"}], \"parcoords\": [{\"line\": {\"colorbar\": {\"outlinewidth\": 0, \"ticks\": \"\"}}, \"type\": \"parcoords\"}], \"pie\": [{\"automargin\": true, \"type\": \"pie\"}], \"scatter\": [{\"marker\": {\"colorbar\": {\"outlinewidth\": 0, \"ticks\": \"\"}}, \"type\": \"scatter\"}], \"scatter3d\": [{\"line\": {\"colorbar\": {\"outlinewidth\": 0, \"ticks\": \"\"}}, \"marker\": {\"colorbar\": {\"outlinewidth\": 0, \"ticks\": \"\"}}, \"type\": \"scatter3d\"}], \"scattercarpet\": [{\"marker\": {\"colorbar\": {\"outlinewidth\": 0, \"ticks\": \"\"}}, \"type\": \"scattercarpet\"}], \"scattergeo\": [{\"marker\": {\"colorbar\": {\"outlinewidth\": 0, \"ticks\": \"\"}}, \"type\": \"scattergeo\"}], \"scattergl\": [{\"marker\": {\"colorbar\": {\"outlinewidth\": 0, \"ticks\": \"\"}}, \"type\": \"scattergl\"}], \"scattermapbox\": [{\"marker\": {\"colorbar\": {\"outlinewidth\": 0, \"ticks\": \"\"}}, \"type\": \"scattermapbox\"}], \"scatterpolar\": [{\"marker\": {\"colorbar\": {\"outlinewidth\": 0, \"ticks\": \"\"}}, \"type\": \"scatterpolar\"}], \"scatterpolargl\": [{\"marker\": {\"colorbar\": {\"outlinewidth\": 0, \"ticks\": \"\"}}, \"type\": \"scatterpolargl\"}], \"scatterternary\": [{\"marker\": {\"colorbar\": {\"outlinewidth\": 0, \"ticks\": \"\"}}, \"type\": \"scatterternary\"}], \"surface\": [{\"colorbar\": {\"outlinewidth\": 0, \"ticks\": \"\"}, \"colorscale\": [[0.0, \"#0d0887\"], [0.1111111111111111, \"#46039f\"], [0.2222222222222222, \"#7201a8\"], [0.3333333333333333, \"#9c179e\"], [0.4444444444444444, \"#bd3786\"], [0.5555555555555556, \"#d8576b\"], [0.6666666666666666, \"#ed7953\"], [0.7777777777777778, \"#fb9f3a\"], [0.8888888888888888, \"#fdca26\"], [1.0, \"#f0f921\"]], \"type\": \"surface\"}], \"table\": [{\"cells\": {\"fill\": {\"color\": \"#EBF0F8\"}, \"line\": {\"color\": \"white\"}}, \"header\": {\"fill\": {\"color\": \"#C8D4E3\"}, \"line\": {\"color\": \"white\"}}, \"type\": \"table\"}]}, \"layout\": {\"annotationdefaults\": {\"arrowcolor\": \"#2a3f5f\", \"arrowhead\": 0, \"arrowwidth\": 1}, \"autotypenumbers\": \"strict\", \"coloraxis\": {\"colorbar\": {\"outlinewidth\": 0, \"ticks\": \"\"}}, \"colorscale\": {\"diverging\": [[0, \"#8e0152\"], [0.1, \"#c51b7d\"], [0.2, \"#de77ae\"], [0.3, \"#f1b6da\"], [0.4, \"#fde0ef\"], [0.5, \"#f7f7f7\"], [0.6, \"#e6f5d0\"], [0.7, \"#b8e186\"], [0.8, \"#7fbc41\"], [0.9, \"#4d9221\"], [1, \"#276419\"]], \"sequential\": [[0.0, \"#0d0887\"], [0.1111111111111111, \"#46039f\"], [0.2222222222222222, \"#7201a8\"], [0.3333333333333333, \"#9c179e\"], [0.4444444444444444, \"#bd3786\"], [0.5555555555555556, \"#d8576b\"], [0.6666666666666666, \"#ed7953\"], [0.7777777777777778, \"#fb9f3a\"], [0.8888888888888888, \"#fdca26\"], [1.0, \"#f0f921\"]], \"sequentialminus\": [[0.0, \"#0d0887\"], [0.1111111111111111, \"#46039f\"], [0.2222222222222222, \"#7201a8\"], [0.3333333333333333, \"#9c179e\"], [0.4444444444444444, \"#bd3786\"], [0.5555555555555556, \"#d8576b\"], [0.6666666666666666, \"#ed7953\"], [0.7777777777777778, \"#fb9f3a\"], [0.8888888888888888, \"#fdca26\"], [1.0, \"#f0f921\"]]}, \"colorway\": [\"#636efa\", \"#EF553B\", \"#00cc96\", \"#ab63fa\", \"#FFA15A\", \"#19d3f3\", \"#FF6692\", \"#B6E880\", \"#FF97FF\", \"#FECB52\"], \"font\": {\"color\": \"#2a3f5f\"}, \"geo\": {\"bgcolor\": \"white\", \"lakecolor\": \"white\", \"landcolor\": \"#E5ECF6\", \"showlakes\": true, \"showland\": true, \"subunitcolor\": \"white\"}, \"hoverlabel\": {\"align\": \"left\"}, \"hovermode\": \"closest\", \"mapbox\": {\"style\": \"light\"}, \"paper_bgcolor\": \"white\", \"plot_bgcolor\": \"#E5ECF6\", \"polar\": {\"angularaxis\": {\"gridcolor\": \"white\", \"linecolor\": \"white\", \"ticks\": \"\"}, \"bgcolor\": \"#E5ECF6\", \"radialaxis\": {\"gridcolor\": \"white\", \"linecolor\": \"white\", \"ticks\": \"\"}}, \"scene\": {\"xaxis\": {\"backgroundcolor\": \"#E5ECF6\", \"gridcolor\": \"white\", \"gridwidth\": 2, \"linecolor\": \"white\", \"showbackground\": true, \"ticks\": \"\", \"zerolinecolor\": \"white\"}, \"yaxis\": {\"backgroundcolor\": \"#E5ECF6\", \"gridcolor\": \"white\", \"gridwidth\": 2, \"linecolor\": \"white\", \"showbackground\": true, \"ticks\": \"\", \"zerolinecolor\": \"white\"}, \"zaxis\": {\"backgroundcolor\": \"#E5ECF6\", \"gridcolor\": \"white\", \"gridwidth\": 2, \"linecolor\": \"white\", \"showbackground\": true, \"ticks\": \"\", \"zerolinecolor\": \"white\"}}, \"shapedefaults\": {\"line\": {\"color\": \"#2a3f5f\"}}, \"ternary\": {\"aaxis\": {\"gridcolor\": \"white\", \"linecolor\": \"white\", \"ticks\": \"\"}, \"baxis\": {\"gridcolor\": \"white\", \"linecolor\": \"white\", \"ticks\": \"\"}, \"bgcolor\": \"#E5ECF6\", \"caxis\": {\"gridcolor\": \"white\", \"linecolor\": \"white\", \"ticks\": \"\"}}, \"title\": {\"x\": 0.05}, \"xaxis\": {\"automargin\": true, \"gridcolor\": \"white\", \"linecolor\": \"white\", \"ticks\": \"\", \"title\": {\"standoff\": 15}, \"zerolinecolor\": \"white\", \"zerolinewidth\": 2}, \"yaxis\": {\"automargin\": true, \"gridcolor\": \"white\", \"linecolor\": \"white\", \"ticks\": \"\", \"title\": {\"standoff\": 15}, \"zerolinecolor\": \"white\", \"zerolinewidth\": 2}}}},                        {\"responsive\": true}                    ).then(function(){\n",
       "                            \n",
       "var gd = document.getElementById('d63ba54b-f9fd-4d7a-8ee5-5abcf5a8cc7f');\n",
       "var x = new MutationObserver(function (mutations, observer) {{\n",
       "        var display = window.getComputedStyle(gd).display;\n",
       "        if (!display || display === 'none') {{\n",
       "            console.log([gd, 'removed!']);\n",
       "            Plotly.purge(gd);\n",
       "            observer.disconnect();\n",
       "        }}\n",
       "}});\n",
       "\n",
       "// Listen for the removal of the full notebook cells\n",
       "var notebookContainer = gd.closest('#notebook-container');\n",
       "if (notebookContainer) {{\n",
       "    x.observe(notebookContainer, {childList: true});\n",
       "}}\n",
       "\n",
       "// Listen for the clearing of the current output cell\n",
       "var outputEl = gd.closest('.output');\n",
       "if (outputEl) {{\n",
       "    x.observe(outputEl, {childList: true});\n",
       "}}\n",
       "\n",
       "                        })                };                });            </script>        </div>"
      ]
     },
     "metadata": {},
     "output_type": "display_data"
    }
   ],
   "source": [
    "# Accidents assigned to clusters\n",
    "fig = px.scatter_mapbox(df_casualties_coords_plot,\n",
    "                        lat=\"Latitude\", lon=\"Longitude\",\n",
    "                        hover_name=label_col,\n",
    "                        hover_data=[\"Casualty_Severity\"],\n",
    "                        color_discrete_sequence=[\"fuchsia\"],\n",
    "                        zoom=5,\n",
    "                        height=500)\n",
    "\n",
    "# Highest number of points\n",
    "\n",
    "# Widest spread\n",
    "\n",
    "fig.update_layout(mapbox_style=\"carto-positron\")\n",
    "fig.update_layout(margin={\"r\":0,\"t\":0,\"l\":0,\"b\":0})\n",
    "fig.show()"
   ]
  },
  {
   "cell_type": "code",
   "execution_count": 49,
   "metadata": {},
   "outputs": [
    {
     "data": {
      "text/plain": [
       "'https://plotly.com/~jeneigabor/13/'"
      ]
     },
     "execution_count": 49,
     "metadata": {},
     "output_type": "execute_result"
    }
   ],
   "source": [
    "py.plot(fig, filename = 'Killed and Severly Injured Casuality Clusters', auto_open=True)"
   ]
  },
  {
   "cell_type": "markdown",
   "metadata": {},
   "source": [
    "### Most casualities"
   ]
  },
  {
   "cell_type": "code",
   "execution_count": null,
   "metadata": {},
   "outputs": [],
   "source": [
    "eps_condition = df_cluster_stats_w_clusters['eps']==selected_eps\n",
    "min_sample_condition = df_cluster_stats_w_clusters['min_samples']==selected_min_samples\n",
    "\n",
    "\n",
    "label_max = df_cluster_stats_w_clusters.loc[eps_condition & min_sample_condition, 'Max No of accidents'].values[0]"
   ]
  },
  {
   "cell_type": "code",
   "execution_count": null,
   "metadata": {},
   "outputs": [],
   "source": [
    "label_max"
   ]
  },
  {
   "cell_type": "code",
   "execution_count": null,
   "metadata": {},
   "outputs": [],
   "source": [
    "df_casualties_coords_plot[df_casualties_coords_plot[label_col] == label_max]"
   ]
  },
  {
   "cell_type": "code",
   "execution_count": null,
   "metadata": {},
   "outputs": [],
   "source": []
  },
  {
   "cell_type": "markdown",
   "metadata": {},
   "source": [
    "## Look at the location with highest point counts"
   ]
  },
  {
   "cell_type": "code",
   "execution_count": null,
   "metadata": {},
   "outputs": [],
   "source": [
    "db = DBSCAN(eps=50, min_samples=5, n_jobs=12).fit(X)\n",
    "labels = db.labels_\n",
    "df_casualties_coords['Cluster No'] = labels"
   ]
  },
  {
   "cell_type": "code",
   "execution_count": null,
   "metadata": {},
   "outputs": [],
   "source": [
    "df_accidents_to_check = df_casualties_coords[df_casualties_coords['Cluster No']==403]"
   ]
  },
  {
   "cell_type": "code",
   "execution_count": null,
   "metadata": {},
   "outputs": [],
   "source": [
    "df_accidents_to_check = df_accidents_to_check.merge(df_accidents[['Accident_Index','Latitude','Longitude']],\n",
    "                                                    on='Accident_Index', how='left')"
   ]
  },
  {
   "cell_type": "code",
   "execution_count": null,
   "metadata": {},
   "outputs": [],
   "source": [
    "df_accidents_to_check[['Location_Easting_OSGR', 'Location_Northing_OSGR']].mean()"
   ]
  },
  {
   "cell_type": "code",
   "execution_count": null,
   "metadata": {},
   "outputs": [],
   "source": [
    "fig = px.scatter_mapbox(df_accidents_to_check, lat=\"Latitude\", lon=\"Longitude\",\n",
    "                        hover_name=\"Cluster No\",\n",
    "                        hover_data=[\"Accident_Severity\", \"Number_of_Casualties\",'Year'],\n",
    "                        color_discrete_sequence=[\"fuchsia\"], zoom=5, height=300)\n",
    "fig.update_layout(mapbox_style=\"carto-positron\")\n",
    "fig.update_layout(margin={\"r\":0,\"t\":0,\"l\":0,\"b\":0})\n",
    "fig.show()"
   ]
  },
  {
   "cell_type": "markdown",
   "metadata": {},
   "source": [
    "## Look at the location with highest density"
   ]
  },
  {
   "cell_type": "code",
   "execution_count": null,
   "metadata": {},
   "outputs": [],
   "source": [
    "df_cluster_list.sort_values(by='Density',ascending=False).head()"
   ]
  },
  {
   "cell_type": "code",
   "execution_count": null,
   "metadata": {},
   "outputs": [],
   "source": [
    "db = DBSCAN(eps=5, min_samples=13, n_jobs=12).fit(X)\n",
    "labels = db.labels_\n",
    "df_casualties_coords['Cluster No'] = labels"
   ]
  },
  {
   "cell_type": "code",
   "execution_count": null,
   "metadata": {},
   "outputs": [],
   "source": [
    "df_accidents_to_check = df_casualties_coords[df_casualties_coords['Cluster No']==3].copy()\n",
    "\n",
    "df_accidents_to_check = df_accidents_to_check.merge(df_accidents[['Accident_Index','Latitude','Longitude']],\n",
    "                                                    on='Accident_Index', how='left')\n",
    "\n",
    "df_accidents_to_check[['Location_Easting_OSGR', 'Location_Northing_OSGR']].mean()"
   ]
  },
  {
   "cell_type": "code",
   "execution_count": null,
   "metadata": {},
   "outputs": [],
   "source": [
    "np.random.randn(3)/1000"
   ]
  },
  {
   "cell_type": "code",
   "execution_count": null,
   "metadata": {},
   "outputs": [],
   "source": [
    "jitter_x = np.random.rand(len(df_accidents_to_check))/1000\n",
    "jitter_y = np.random.rand(len(df_accidents_to_check))/1000\n",
    "\n",
    "df_accidents_to_check[\"Latitude_x\"] = df_accidents_to_check[\"Latitude_x\"]+jitter_x\n",
    "df_accidents_to_check[\"Longitude_x\"] = df_accidents_to_check[\"Longitude_x\"]+jitter_y"
   ]
  },
  {
   "cell_type": "code",
   "execution_count": null,
   "metadata": {},
   "outputs": [],
   "source": [
    "fig = px.scatter_mapbox(df_accidents_to_check, lat=\"Latitude_x\", lon=\"Longitude_x\",\n",
    "                        hover_name=\"Cluster No\",\n",
    "                        hover_data=[\"Accident_Severity\", \"Number_of_Casualties\",'Year'],\n",
    "                        color_discrete_sequence=[\"fuchsia\"], zoom=5, height=300)\n",
    "fig.update_layout(mapbox_style=\"carto-positron\")\n",
    "fig.update_layout(margin={\"r\":0,\"t\":0,\"l\":0,\"b\":0})\n",
    "fig.show()"
   ]
  },
  {
   "cell_type": "code",
   "execution_count": null,
   "metadata": {},
   "outputs": [],
   "source": []
  },
  {
   "cell_type": "markdown",
   "metadata": {},
   "source": [
    "df_accident_clusters.head()"
   ]
  },
  {
   "cell_type": "markdown",
   "metadata": {},
   "source": [
    "## Try KDE"
   ]
  },
  {
   "cell_type": "code",
   "execution_count": null,
   "metadata": {},
   "outputs": [],
   "source": [
    "# KDTRee\n",
    "accident_tree = KDTree(accident_array[:,1:3])\n",
    "\n",
    "rank_cols = []\n",
    "\n",
    "for dist in range(50,215,15):\n",
    "    df_accidents_coords_complete.loc[:,'Neighbour ' + str(dist)+ 'm'] = accident_tree.query_radius(accident_array[:,1:3],\n",
    "                                                                                   r=dist,\n",
    "                                                                                   count_only=True)\n",
    "    \n",
    "    df_accidents_coords_complete.loc[:,'Neighbour ' + str(dist) + 'm rank'] = df_accidents_coords_complete.loc[:,'Neighbour ' + str(dist)+ 'm'].rank(ascending=False)\n",
    "    \n",
    "    rank_cols.append('Neighbour ' + str(dist) + 'm rank')\n",
    "#     df_accidents_coords_complete.sort_values(by='NeighbourNO', ascending=False).reset_index()[:20]"
   ]
  },
  {
   "cell_type": "code",
   "execution_count": null,
   "metadata": {},
   "outputs": [],
   "source": [
    "df_accidents_coords_complete['Av Rank'] = df_accidents_coords_complete[rank_cols].mean(axis=1)"
   ]
  },
  {
   "cell_type": "code",
   "execution_count": null,
   "metadata": {},
   "outputs": [],
   "source": [
    "df_accidents_coords_complete.sort_values(by=['Av Rank'], ascending=True).head()"
   ]
  },
  {
   "cell_type": "markdown",
   "metadata": {},
   "source": [
    "## Try Optics"
   ]
  },
  {
   "cell_type": "code",
   "execution_count": null,
   "metadata": {},
   "outputs": [],
   "source": []
  },
  {
   "cell_type": "code",
   "execution_count": null,
   "metadata": {},
   "outputs": [],
   "source": [
    "start_time = time()\n",
    "optics_clustering = OPTICS(min_samples=40, max_eps=25, metric='euclidean', n_jobs=8).fit(X)\n",
    "\n",
    "end_time = time()\n",
    "print((end_time-start_time))"
   ]
  },
  {
   "cell_type": "code",
   "execution_count": null,
   "metadata": {},
   "outputs": [],
   "source": [
    "optics_labels = optics_clustering.labels_\n",
    "print(len(np.unique(optics_labels)))\n",
    "\n",
    "df_accidents_coords_complete['OPTICS Cluster No'] = optics_labels\n",
    "\n",
    "df_accidents = df_accidents.merge(df_accidents_coords_complete[['Accident_Index', 'OPTICS Cluster No']],\n",
    "                                  left_on='Accident_Index', right_on='Accident_Index', how='left')"
   ]
  },
  {
   "cell_type": "code",
   "execution_count": null,
   "metadata": {},
   "outputs": [],
   "source": [
    "df_accidents.head()"
   ]
  },
  {
   "cell_type": "code",
   "execution_count": null,
   "metadata": {},
   "outputs": [],
   "source": [
    "df_accident_clusters = df_accidents[df_accidents['OPTICS Cluster No_y']>-1].copy()\n",
    "len(df_accident_clusters)"
   ]
  },
  {
   "cell_type": "code",
   "execution_count": null,
   "metadata": {},
   "outputs": [],
   "source": [
    "fig = px.scatter_mapbox(df_accident_clusters, lat=\"Latitude\", lon=\"Longitude\",\n",
    "                        hover_name='OPTICS Cluster No_y', hover_data=[\"Accident_Severity\", \"Number_of_Casualties\"],\n",
    "                        color_discrete_sequence=[\"fuchsia\"], zoom=5, height=300)\n",
    "fig.update_layout(mapbox_style=\"open-street-map\")\n",
    "fig.update_layout(margin={\"r\":0,\"t\":0,\"l\":0,\"b\":0})\n",
    "fig.show()"
   ]
  },
  {
   "cell_type": "markdown",
   "metadata": {},
   "source": [
    "## Can we estimate the number of casualities and respective severity?\n",
    "\n",
    "A witness would know:\n",
    "- Location\n",
    "- type of Vehicles\n",
    "- Date/time\n",
    "- Surface conditions\n",
    "\n",
    "Out of those what would be relevant?\n",
    "\n",
    "What are we trying to estimate?\n",
    "<br>\n",
    "number of casualities with severity?\n",
    "get a single estimation with a vector of 3 elements: number of slight, serious, fatal\n",
    " - Multivariate Linear Regression\n",
    " - ## Let's use ANN\n",
    "\n",
    "- Veh Leaving Carriageway\n",
    "\n",
    "<br>get a model for each vehicle?"
   ]
  },
  {
   "cell_type": "code",
   "execution_count": null,
   "metadata": {},
   "outputs": [],
   "source": [
    "accident_features = ['Accident_Index','Road_Type','Speed_limit','Junction_Detail','Junction_Control',\n",
    "                     'Light_Conditions','Weather_Conditions','Road_Surface_Conditions','Urban_or_Rural_Area']\n",
    "\n",
    "vehicle_features = ['Vehicle_Type']\n",
    "# Veh Leaving Carriageway"
   ]
  },
  {
   "cell_type": "code",
   "execution_count": null,
   "metadata": {},
   "outputs": [],
   "source": [
    "df_vehicle_classes = df_vehicles.groupby(['Accident_Index','Vehicle_Type']).size().unstack(fill_value=0)\n",
    "print(len(df_vehicle_classes))"
   ]
  },
  {
   "cell_type": "code",
   "execution_count": null,
   "metadata": {},
   "outputs": [],
   "source": [
    "casaualty_severity = df_casualties.groupby(['Accident_Index','Casualty_Severity']).size().unstack(fill_value=0)\n",
    "casaualty_severity.rename(columns={1: \"Fatal\", 2: \"Serious\", 3: \"Slight\"}, inplace=True)\n",
    "casaualty_severity.head()"
   ]
  },
  {
   "cell_type": "code",
   "execution_count": null,
   "metadata": {},
   "outputs": [],
   "source": [
    "print(len(df_accidents[accident_features]))\n",
    "df_accidents_s1 = df_accidents[accident_features].merge(df_vehicle_classes, on=\"Accident_Index\")\n",
    "df_accidents_s2 = df_accidents_s1.merge(casaualty_severity, on=\"Accident_Index\")"
   ]
  },
  {
   "cell_type": "code",
   "execution_count": null,
   "metadata": {},
   "outputs": [],
   "source": [
    "# simply drop NA\n",
    "df_accidents_s3 = df_accidents_s2.drop(df_accidents_s2[df_accidents_s2.isnull().any(1)].index)\n",
    "\n",
    "# simply drop negatives:\n",
    "value_cols = ['Road_Type', 'Speed_limit', 'Junction_Detail', 'Junction_Control', 'Light_Conditions', 'Weather_Conditions', 'Road_Surface_Conditions',\n",
    " 'Urban_or_Rural_Area', -1, 1, 2, 3, 4, 5, 8, 9, 10, 11, 16, 17, 18, 19, 20, 21, 22, 23, 90, 97, 98, 'Fatal',\n",
    " 'Serious', 'Slight']\n",
    "\n",
    "df_accidents_s3.loc[df_accidents_s3['Junction_Control']==-1, 'Junction_Control'] = 5\n",
    "df_accidents_s3.loc[df_accidents_s3['Junction_Detail']==-1, 'Junction_Detail'] = 10\n",
    "df_accidents_s3.loc[df_accidents_s3['Road_Surface_Conditions']==-1, 'Road_Surface_Conditions'] = 8\n",
    "\n",
    "df_accidents_s3.loc[df_accidents_s3['Light_Conditions']==-1, 'Light_Conditions'] = 8\n",
    "df_accidents_s3.loc[df_accidents_s3['Weather_Conditions']==-1, 'Weather_Conditions'] = 9\n",
    "\n",
    "df_accidents_s3.loc[df_accidents_s3['Road_Type']==-1, 'Road_Type'] = 9\n",
    "df_accidents_s3.loc[df_accidents_s3['Urban_or_Rural_Area']==-1, 'Urban_or_Rural_Area'] = 3"
   ]
  },
  {
   "cell_type": "code",
   "execution_count": null,
   "metadata": {},
   "outputs": [],
   "source": [
    "df_accidents_s3[(df_accidents_s3[value_cols] < 0).any(1)]"
   ]
  },
  {
   "cell_type": "code",
   "execution_count": null,
   "metadata": {},
   "outputs": [],
   "source": [
    "x_cont_cols = ['Speed_limit', -1, 1, 2, 3, 4, 5, 8, 9, 10, 11, 16, 17, 18, 19, 20, 21, 22, 23, 90, 97, 98]\n",
    "\n",
    "x_cat_cols = ['Road_Type', 'Junction_Detail', 'Junction_Control', 'Light_Conditions',\n",
    "              'Weather_Conditions', 'Road_Surface_Conditions', 'Urban_or_Rural_Area']\n",
    "\n",
    "label_cols = ['Fatal', 'Serious', 'Slight']"
   ]
  },
  {
   "cell_type": "code",
   "execution_count": null,
   "metadata": {},
   "outputs": [],
   "source": [
    "X = torch.tensor(df_accidents_s3[x_cont_cols + x_cat_cols].values, dtype=torch.float)\n",
    "x_cont = torch.tensor(df_accidents_s3[x_cont_cols].values, dtype=torch.float)\n",
    "\n",
    "df_accidents_s3[x_cat_cols] = df_accidents_s3[x_cat_cols].astype(\"category\")\n",
    "x_cat = torch.tensor( np.stack( [df_accidents_s3[col].cat.codes.values for col in x_cat_cols], axis=1), dtype=torch.int)"
   ]
  },
  {
   "cell_type": "code",
   "execution_count": null,
   "metadata": {},
   "outputs": [],
   "source": [
    "x_cat.shape"
   ]
  },
  {
   "cell_type": "code",
   "execution_count": null,
   "metadata": {},
   "outputs": [],
   "source": [
    "y = torch.tensor(df_accidents_s3[label_cols].values, dtype=torch.float)"
   ]
  },
  {
   "cell_type": "markdown",
   "metadata": {},
   "source": [
    "## Train test split"
   ]
  },
  {
   "cell_type": "markdown",
   "metadata": {},
   "source": [
    "<div class=\"alert alert-block alert-danger\">\n",
    "<b>Danger:</b> \n",
    "\n",
    "ADD SHUFFLING\n",
    "\n",
    "\n",
    "</div>"
   ]
  },
  {
   "cell_type": "code",
   "execution_count": null,
   "metadata": {},
   "outputs": [],
   "source": [
    "cat_train = x_cat[:batch_size-test_size]\n",
    "cat_test = x_cat[batch_size-test_size:batch_size]\n",
    "con_train = x_cont[:batch_size-test_size]\n",
    "con_test = x_cont[batch_size-test_size:batch_size]"
   ]
  },
  {
   "cell_type": "code",
   "execution_count": null,
   "metadata": {},
   "outputs": [],
   "source": [
    "y_train = y[:batch_size-test_size]\n",
    "y_test = y[batch_size-test_size:batch_size]"
   ]
  },
  {
   "cell_type": "markdown",
   "metadata": {},
   "source": [
    "### Setting up Model"
   ]
  },
  {
   "cell_type": "code",
   "execution_count": null,
   "metadata": {},
   "outputs": [],
   "source": [
    "class RegressionModel(nn.Module):\n",
    "    \n",
    "    def __init__(self, emb_szs, n_cont, out_sz, layers, p=0.35):\n",
    "        \n",
    "        super().__init__()\n",
    "        \n",
    "        # Embedding\n",
    "        self.embeds = nn.ModuleList([nn.Embedding(ni, nf) for ni,nf in emb_szs])\n",
    "        \n",
    "        # Dropout layer\n",
    "        self.emb_drop = nn.Dropout(p)\n",
    "        \n",
    "        # normalise the continous data\n",
    "        self.bn_cont = nn.BatchNorm1d(n_cont)\n",
    "        \n",
    "        layerlist = []\n",
    "        n_emb = sum([nf for ni,nf in emb_szs])\n",
    "        n_in = n_emb + n_cont\n",
    "        \n",
    "        # Create list of fully connected layers\n",
    "        for i in layers:\n",
    "            layerlist.append(nn.Linear(n_in,i))\n",
    "            layerlist.append(nn.ReLU(inplace=True))\n",
    "            layerlist.append(nn.BatchNorm1d(i))\n",
    "            layerlist.append(nn.Dropout(p))\n",
    "            n_in = i\n",
    "        \n",
    "        # fully connected layer\n",
    "        layerlist.append(nn.Linear(layers[-1], out_sz))\n",
    "        \n",
    "        \n",
    "        self.layers = nn.Sequential(*layerlist)\n",
    "        \n",
    "        \n",
    "    def forward(self, x_cat, x_cont):\n",
    "        \n",
    "        embeddings = []\n",
    "                \n",
    "        for i,e in enumerate(self.embeds):\n",
    "            embeddings.append(e(x_cat[:,i]))\n",
    "        # Concatenate individial vectors of categorical columns from embeddings    \n",
    "        x = torch.cat(embeddings, 1)\n",
    "        # Apply dropout\n",
    "        x = self.emb_drop(x)\n",
    "        \n",
    "        # Normalise continous data\n",
    "        x_cont = self.bn_cont(x_cont)\n",
    "        \n",
    "        # Concatenate categorical and continous columns\n",
    "        x = torch.cat([x,x_cont],1)\n",
    "        # Pass through tensor the fully connected layers\n",
    "        x = self.layers(x)\n",
    "        \n",
    "        return x"
   ]
  },
  {
   "cell_type": "code",
   "execution_count": null,
   "metadata": {},
   "outputs": [],
   "source": [
    "torch.manual_seed(42)\n",
    "model = RegressionModel(emb_szs, len(x_cont_cols), 3, [200,100,60], p=0.4)\n",
    "\n",
    "criterion = nn.MSELoss() # np.sqrt(MSE) --> RMS\n",
    "\n",
    "optimiser = torch.optim.Adam(model.parameters(), lr=0.001)\n",
    "batch_size = 60000\n",
    "test_size = int(batch_size * 0.2)"
   ]
  },
  {
   "cell_type": "code",
   "execution_count": null,
   "metadata": {},
   "outputs": [],
   "source": [
    "start_time = time()\n",
    "\n",
    "epochs = 300\n",
    "\n",
    "losses = []\n",
    "\n",
    "for i in range(epochs):\n",
    "    i+=1\n",
    "    \n",
    "    y_pred = model(cat_train,con_train)\n",
    "    y_pred = torch.round(y_pred)\n",
    "    loss = torch.sqrt(criterion(y_pred, y_train))\n",
    "    \n",
    "    losses.append(loss)\n",
    "    \n",
    "    if i%10 == 1:\n",
    "        print(f'epoch: {i} loss is {loss}')\n",
    "        \n",
    "    optimiser.zero_grad()\n",
    "    loss.backward()\n",
    "    optimiser.step()\n",
    "    \n",
    "end_time = time()\n",
    "duration = end_time - start_time\n",
    "print(f'Traning took {duration/60} minutes')"
   ]
  },
  {
   "cell_type": "code",
   "execution_count": null,
   "metadata": {},
   "outputs": [],
   "source": [
    "torch.round(y_pred)"
   ]
  },
  {
   "cell_type": "code",
   "execution_count": null,
   "metadata": {},
   "outputs": [],
   "source": [
    "plt.plot(range(epochs), losses)"
   ]
  },
  {
   "cell_type": "code",
   "execution_count": null,
   "metadata": {},
   "outputs": [],
   "source": [
    "with torch.no_grad():\n",
    "    \n",
    "    y_val = model(cat_test,con_test)\n",
    "    \n",
    "    loss = torch.sqrt(criterion(y_val, y_test))"
   ]
  },
  {
   "cell_type": "code",
   "execution_count": null,
   "metadata": {},
   "outputs": [],
   "source": [
    "loss"
   ]
  },
  {
   "cell_type": "code",
   "execution_count": null,
   "metadata": {},
   "outputs": [],
   "source": [
    "for i in range(10):\n",
    "    \n",
    "    print(f'{i}.) Predicted: {y_val[i]} TRUE: {y_test[i]}')"
   ]
  },
  {
   "cell_type": "code",
   "execution_count": null,
   "metadata": {},
   "outputs": [],
   "source": []
  }
 ],
 "metadata": {
  "kernelspec": {
   "display_name": "Python 3",
   "language": "python",
   "name": "python3"
  },
  "language_info": {
   "codemirror_mode": {
    "name": "ipython",
    "version": 3
   },
   "file_extension": ".py",
   "mimetype": "text/x-python",
   "name": "python",
   "nbconvert_exporter": "python",
   "pygments_lexer": "ipython3",
   "version": "3.8.2"
  }
 },
 "nbformat": 4,
 "nbformat_minor": 4
}
