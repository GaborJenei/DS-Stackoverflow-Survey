{
 "cells": [
  {
   "cell_type": "markdown",
   "metadata": {},
   "source": [
    "# Arup University - Machine Learning & Artificial Intelligence\n",
    "***\n",
    "https://medium.com/ibm-data-science-experience/markdown-for-jupyter-notebooks-cheatsheet-386c05aeebed\n",
    "### 2019 - 2020 Individual assignment\n",
    "# Road Traffic Accidents\n",
    "\n",
    "\n",
    "Data sorce:  \n",
    " - Road Safety Data: https://data.gov.uk/dataset/cb7ae6f0-4be6-4935-9277-47e5ce24a11f/road-safety-data\n",
    " - Leeds: https://data.gov.uk/dataset/6efe5505-941f-45bf-b576-4c1e09b579a1/road-traffic-accidents\n",
    "\n",
    "Literature:\n",
    " - https://trl.co.uk/sites/default/files/TRL334.pdf\n",
    " - http://seaborn.pydata.org/tutorial/categorical.html#categorical-tutorial\n",
    " \n",
    "\n",
    "Geographic filter to South West Peninsula:\n",
    " - Local_Authority_(Highway): E06000028, E06000029, E10000009, E10000027, E06000026, E06000027, E10000008, E06000052\n",
    " - Local_Authority_(District):  496, 580 - 589, 596, 605 - 610, 635, 640 - 647\n",
    "\n",
    "For graphically pleasing visuals: https://material.io/design/color/#tools-for-picking-colors  \n",
    "__Color theme__  <br>\n",
    "<font color=#f44336> - #f44336 ■  </font>, <font color=#e91e63> - #e91e63 ■  </font>, <font color=#9c27b0> - #9c27b0 ■  </font>, <font color=#ffc107> - #ffc107 ■  </font>, <font color=#2196F3> - #2196F3 ■  </font>, <font color=#03A9F4> - #03A9F4 ■  </font>, <font color=#00BCD4> - #00BCD4 ■  </font>, <font color=#009688> - #009688 ■  </font><br>\n",
    " \n",
    "__Gabor Jenei__\n",
    "***"
   ]
  },
  {
   "cell_type": "code",
   "execution_count": 2,
   "metadata": {},
   "outputs": [],
   "source": [
    "#Imports\n",
    "from time import time\n",
    "import numpy as np\n",
    "import matplotlib.pyplot as plt\n",
    "import pandas as pd\n",
    "import seaborn as sns"
   ]
  },
  {
   "cell_type": "code",
   "execution_count": 3,
   "metadata": {},
   "outputs": [],
   "source": [
    "data_dir = \"H:\\\\ArupUni\\\\3_IndividualProject\\\\data\\\\accidentData\\\\\"\n",
    "south_west_penisula_higway = ['E06000028', 'E06000029', 'E10000009','E10000027', 'E06000026', 'E06000027', 'E10000008', 'E06000052']\n",
    "south_west_penisula_localauth = [496, 580, 581, 582, 583, 584, 585, 586,587,588,589, 596,605,606,607,608,609,610,635,640,641,642,643,644,645,646,647]"
   ]
  },
  {
   "cell_type": "code",
   "execution_count": null,
   "metadata": {},
   "outputs": [],
   "source": [
    "######### Read up accidents\n",
    "accidents_2018 = pd.read_csv(r\"http://data.dft.gov.uk/road-accidents-safety-data/dftRoadSafetyData_Accidents_2018.csv\",low_memory=False)\n",
    "accidents_2017 = pd.read_csv(r\"http://data.dft.gov.uk.s3.amazonaws.com/road-accidents-safety-data/dftRoadSafetyData_Accidents_2017.zip\",low_memory=False, compression='zip')\n",
    "accidents_2016 = pd.read_csv(r\"http://data.dft.gov.uk/road-accidents-safety-data/dftRoadSafety_Accidents_2016.zip\",low_memory=False, compression='zip')\n",
    "accidents_2015 = pd.read_csv(r\"http://data.dft.gov.uk/road-accidents-safety-data/RoadSafetyData_Accidents_2015.zip\",low_memory=False, compression='zip')\n",
    "accidents_2014 = pd.read_csv(r\"http://data.dft.gov.uk/road-accidents-safety-data/DfTRoadSafety_Accidents_2014.zip\",low_memory=False)\n",
    "\n",
    "######### Read up casualties\n",
    "casualties_2018 = pd.read_csv(r\"http://data.dft.gov.uk/road-accidents-safety-data/dftRoadSafetyData_Casualties_2018.csv\",low_memory=False)\n",
    "casualties_2017 = pd.read_csv(r\"http://data.dft.gov.uk.s3.amazonaws.com/road-accidents-safety-data/dftRoadSafetyData_Casualties_2017.zip\",low_memory=False, compression='zip')\n",
    "casualties_2016 = pd.read_csv(r\"http://data.dft.gov.uk/road-accidents-safety-data/dftRoadSafetyData_Casualties_2016.zip\",low_memory=False, compression='zip')\n",
    "casualties_2015 = pd.read_csv(r\"http://data.dft.gov.uk/road-accidents-safety-data/RoadSafetyData_Casualties_2015.zip\",low_memory=False, compression='zip')\n",
    "casualties_2014 = pd.read_csv(r\"http://data.dft.gov.uk/road-accidents-safety-data/DfTRoadSafety_Casualties_2014.zip\",low_memory=False, compression='zip')\n",
    "\n",
    "######### Read up vehicles\n",
    "vehicles_2018 = pd.read_csv(r\"http://data.dft.gov.uk/road-accidents-safety-data/dftRoadSafetyData_Vehicles_2018.csv\",low_memory=False)\n",
    "vehicles_2017 = pd.read_csv(r\"http://data.dft.gov.uk.s3.amazonaws.com/road-accidents-safety-data/dftRoadSafetyData_Vehicles_2017.zip\",low_memory=False, compression='zip')\n",
    "vehicles_2016 = pd.read_csv(r\"http://data.dft.gov.uk/road-accidents-safety-data/dftRoadSafetyData_Vehicles_2016.zip\",low_memory=False, compression='zip')\n",
    "vehicles_2015 = pd.read_csv(r\"http://data.dft.gov.uk/road-accidents-safety-data/RoadSafetyData_Vehicles_2015.zip\",low_memory=False, compression='zip')\n",
    "vehicles_2014 = pd.read_csv(r\"http://data.dft.gov.uk/road-accidents-safety-data/DfTRoadSafety_Vehicles_2014.zip\",low_memory=False, compression='zip')\n",
    "\n",
    "df_accidents = accidents_2018.append([accidents_2017, accidents_2016, accidents_2015, accidents_2014], sort=False)\n",
    "df_vehicles = vehicles_2018.append([vehicles_2017, vehicles_2016, vehicles_2015, vehicles_2014], sort=False)\n",
    "df_casualties = casualties_2018.append([casualties_2017, casualties_2016, casualties_2015, casualties_2014], sort=False)\n",
    "\n",
    "df_accidents.set_index(\"Accident_Index\", inplace=True)"
   ]
  },
  {
   "cell_type": "code",
   "execution_count": 4,
   "metadata": {},
   "outputs": [
    {
     "name": "stderr",
     "output_type": "stream",
     "text": [
      "C:\\ProgramData\\Anaconda3\\lib\\site-packages\\numpy\\lib\\arraysetops.py:472: FutureWarning: elementwise comparison failed; returning scalar instead, but in the future will perform elementwise comparison\n",
      "  mask |= (ar1 == a)\n"
     ]
    }
   ],
   "source": [
    "df_accidents = pd.read_csv(r\"C:\\Projects\\0_Training\\AU_MLAI\\IndividualProject\\data\\df_accidents.csv\", low_memory=False, index_col=\"Accident_Index\")\n",
    "df_casualties= pd.read_csv(r\"C:\\Projects\\0_Training\\AU_MLAI\\IndividualProject\\data\\df_casualties.csv\", low_memory=False, index_col=\"Unnamed: 0\")\n",
    "df_vehicles= pd.read_csv(r\"C:\\Projects\\0_Training\\AU_MLAI\\IndividualProject\\data\\df_vehicles.csv\", low_memory=False, index_col=\"Unnamed: 0\")"
   ]
  },
  {
   "cell_type": "code",
   "execution_count": null,
   "metadata": {},
   "outputs": [],
   "source": [
    "df_accidents[\"Time stamp\"] = pd.DatetimeIndex(df_accidents[\"Date\"] +\" \" + df_accidents[\"Time\"],dayfirst=True, normalize=True)\n",
    "\n",
    "df_accidents[\"Year\"] = df_accidents[\"Time stamp\"].dt.year\n",
    "df_accidents[\"Month\"] = df_accidents[\"Time stamp\"].dt.month\n",
    "df_accidents[\"Hour\"] = df_accidents[\"Time stamp\"].dt.hour\n",
    "\n",
    "df_vehicles = df_vehicles.join(df_accidents[\"Time stamp\"],on=\"Accident_Index\",how='left')\n",
    "df_casualties = df_casualties.join(df_accidents[[\"Time stamp\", \"1st_Road_Class\", \"2nd_Road_Class\"]],on=\"Accident_Index\",how='left')\n",
    "\n",
    "df_casualties = df_casualties.join(df_accidents[[\"Location_Easting_OSGR\", \"Location_Northing_OSGR\"]],on=\"Accident_Index\",how='left')"
   ]
  },
  {
   "cell_type": "markdown",
   "metadata": {},
   "source": [
    "# Data Analytics\n",
    " - Accidents no by year, month, day of the week, hour of the day\n",
    " - No of Fatal casualties by year, month, day of the week, hour of the day\n",
    " - No of Serious casualties by year, month, day of the week, hour of the day\n",
    " - No of Slight casualties by year, month, day of the week, hour of the day\n",
    " \n",
    " - No of Vehicles invoved in an accident by vehicle type\n",
    " \n",
    " - Sex of drivers :)\n",
    " - No of Accidents by road type\n",
    " - No of Accidents by location\n",
    " \n",
    " https://matplotlib.org/3.1.1/gallery/lines_bars_and_markers/step_demo.html#sphx-glr-gallery-lines-bars-and-markers-step-demo-py\n",
    " "
   ]
  },
  {
   "cell_type": "code",
   "execution_count": null,
   "metadata": {},
   "outputs": [],
   "source": [
    "from matplotlib import rcParams\n",
    "rcParams['font.family'] = 'sans-serif'\n",
    "rcParams['font.sans-serif'] = ['Times New Roman']"
   ]
  },
  {
   "cell_type": "code",
   "execution_count": null,
   "metadata": {},
   "outputs": [],
   "source": [
    "#df_accidents.groupby([\"Year\"]).size().values"
   ]
  },
  {
   "cell_type": "code",
   "execution_count": null,
   "metadata": {},
   "outputs": [],
   "source": [
    "years = df_accidents.groupby([\"Year\"]).size().keys()\n",
    "accidents_by_year=df_accidents.groupby([\"Year\"]).size().values\n",
    "\n",
    "fatalities_by_year=[]\n",
    "for y in years:\n",
    "    fatalities_by_year.append(df_casualties[(df_casualties[\"Time stamp\"].dt.year == y) & (df_casualties[\"Casualty_Severity\"]==1) \n",
    "                                          ].count()[0])\n",
    "    \n",
    "serious_by_year=[]\n",
    "for y in years:\n",
    "    serious_by_year.append(df_casualties[(df_casualties[\"Time stamp\"].dt.year == y) & (df_casualties[\"Casualty_Severity\"]==2) \n",
    "                                          ].count()[0])\n",
    "\n",
    "slight_by_year=[]\n",
    "for y in years:\n",
    "    slight_by_year.append(df_casualties[(df_casualties[\"Time stamp\"].dt.year == y) & (df_casualties[\"Casualty_Severity\"]==3) \n",
    "                                          ].count()[0])\n",
    "\n",
    "years_int = map(int, years)\n",
    "accidents_by_year_str = map(str, accidents_by_year)\n",
    "fatalities_by_year_str = map(str, fatalities_by_year)"
   ]
  },
  {
   "cell_type": "code",
   "execution_count": null,
   "metadata": {},
   "outputs": [],
   "source": [
    "slight_by_year"
   ]
  },
  {
   "cell_type": "code",
   "execution_count": null,
   "metadata": {},
   "outputs": [],
   "source": [
    "\n",
    "fig, ax = plt.subplots()\n",
    "\n",
    "ax.get_yaxis().set_major_formatter(plt.FuncFormatter(lambda x, loc: \"{:,}\".format(int(x))))\n",
    "\n",
    "ax.spines['bottom'].set_position(('data', 0))\n",
    "#ax.spines['left'].set_position(('data', 0))\n",
    "\n",
    "ax.spines['right'].set_color('none')\n",
    "ax.spines['top'].set_color('none')\n",
    "ax.tick_params(labelsize=14)\n",
    "ax.grid(axis='x')\n",
    "\n",
    "\n",
    "plt.plot(years, accidents_by_year, color='#37474F')\n",
    "\n",
    "plt.ylim(0,175000)\n",
    "plt.xlim(2014,2018)\n",
    "\n",
    "plt.xlabel('Year', fontsize=18)\n",
    "plt.ylabel('Number of accidents', fontsize=18)\n"
   ]
  },
  {
   "cell_type": "code",
   "execution_count": null,
   "metadata": {},
   "outputs": [],
   "source": [
    "fig, ax = plt.subplots()\n",
    "#ax.get_yaxis().set_major_formatter(plt.FuncFormatter(lambda x, loc: \"{:,}\".format(int(x))))\n",
    "\n",
    "#ax.spines['bottom'].set_position(('data', 0))\n",
    "#ax.spines['left'].set_position(('data', 0))\n",
    "\n",
    "#ax.spines['right'].set_color('none')\n",
    "#ax.spines['top'].set_color('none')\n",
    "ax.tick_params(labelsize=18)\n",
    "ax.grid(axis='x')\n",
    "\n",
    "plt.plot(years, accidents_by_year, color='#37474F')\n",
    "plt.plot(years, fatalities_by_year, color='#e91e63')\n",
    "\n",
    "\n",
    "#plt.ylim(0,175000)\n",
    "#plt.xlim(2014,2018)\n",
    "plt.yscale(\"log\")\n",
    "\n",
    "plt.xlabel('Year', fontsize=18)\n",
    "plt.ylabel('Number of accidents', fontsize=18)"
   ]
  },
  {
   "cell_type": "code",
   "execution_count": null,
   "metadata": {},
   "outputs": [],
   "source": [
    "fig, ax = plt.subplots()\n",
    "ax.get_yaxis().set_major_formatter(plt.FuncFormatter(lambda x, loc: \"{:,}\".format(int(x))))\n",
    "\n",
    "ax.spines['bottom'].set_position(('data', 0))\n",
    "#ax.spines['left'].set_position(('data', 0))\n",
    "\n",
    "ax.spines['right'].set_color('none')\n",
    "ax.spines['top'].set_color('none')\n",
    "ax.tick_params(labelsize=14)\n",
    "ax.grid(axis='x')\n",
    "\n",
    "plt.plot(years, fatalities_by_year, color='#e91e63')\n",
    "#plt.plot(years, serious_by_year, color='#e91e63')\n",
    "#plt.plot(years, slight_by_year, color='#e91e63')\n",
    "\n",
    "plt.ylim(0,2000)\n",
    "plt.xlim(2014,2018)\n",
    "\n",
    "plt.xlabel('Year', fontsize=18)\n",
    "plt.ylabel('Number of Fatal Casualties', fontsize=18)"
   ]
  },
  {
   "cell_type": "code",
   "execution_count": null,
   "metadata": {},
   "outputs": [],
   "source": [
    "fig, ax = plt.subplots()\n",
    "ax.get_yaxis().set_major_formatter(plt.FuncFormatter(lambda x, loc: \"{:,}\".format(int(x))))\n",
    "\n",
    "ax.spines['bottom'].set_position(('data', 0))\n",
    "#ax.spines['left'].set_position(('data', 0))\n",
    "\n",
    "ax.spines['right'].set_color('none')\n",
    "ax.spines['top'].set_color('none')\n",
    "ax.tick_params(labelsize=14)\n",
    "ax.grid(axis='x')\n",
    "\n",
    "plt.plot(years, serious_by_year, color='#e91e63')\n",
    "#plt.plot(years, serious_by_year, color='#e91e63')\n",
    "#plt.plot(years, slight_by_year, color='#e91e63')\n",
    "\n",
    "plt.ylim(0,30000)\n",
    "plt.xlim(2014,2018)\n",
    "\n",
    "plt.xlabel('Year', fontsize=18)\n",
    "plt.ylabel('Number of Serious Casualties', fontsize=18)"
   ]
  },
  {
   "cell_type": "code",
   "execution_count": null,
   "metadata": {},
   "outputs": [],
   "source": [
    "serious_by_year\n",
    "\n",
    "(serious_by_year[-1]-serious_by_year[0])/serious_by_year[0]*100"
   ]
  },
  {
   "cell_type": "code",
   "execution_count": null,
   "metadata": {},
   "outputs": [],
   "source": [
    "month = df_accidents.groupby([\"Month\"]).size().keys()\n",
    "accidents_by_month=df_accidents.groupby([\"Month\"]).size().values\n",
    "\n",
    "plt.bar(month, accidents_by_month, color='#e91e63')\n",
    "plt.xlabel('Month')\n",
    "plt.ylabel('Number of accidents')"
   ]
  },
  {
   "cell_type": "code",
   "execution_count": null,
   "metadata": {},
   "outputs": [],
   "source": [
    "hours = df_accidents.groupby([\"Hour\"]).size().keys()\n",
    "accidents_by_hour=df_accidents.groupby([\"Hour\"]).size().values\n",
    "\n",
    "plt.bar(hours, accidents_by_hour, color='#e91e63')\n",
    "plt.xlabel('Hour')\n",
    "plt.ylabel('Number of accidents')\n",
    "#ax.get_yaxis().set_major_formatter(plt.FuncFormatter(lambda x, loc: \"{:,}\".format(int(x))))"
   ]
  },
  {
   "cell_type": "code",
   "execution_count": null,
   "metadata": {},
   "outputs": [],
   "source": [
    "# casaualty_severity = df_casualties.groupby(['Accident_Index','Casualty_Severity']).size().unstack(fill_value=0)\n",
    "# casaualty_severity.rename(columns={1: \"Fatal\", 2: \"Serious\", 3: \"Slight\"}, inplace=True)\n",
    "# \n",
    "# accidents_s1 = pd.merge(df_accidents, casaualty_severity, on=\"Accident_Index\")\n",
    "# #accidents_s1.rename({1: \"Fatal\", 2: \"Serious\", 3: \"Slight\"}, axis='columns')\n",
    "# accidents_s1.columns\n",
    "# \n",
    "# vehicles_type = df_vehicles.groupby(['Accident_Index','Vehicle_Type']).size().unstack(fill_value=0)\n",
    "# vehicles_type.rename(columns={1:\"Pedal cycle\", 2:\"Motorcycle 50cc and under\",3:\"Motorcycle 125cc and under\",\n",
    "#                               4:\"Motorcycle over 125cc and up to 500cc\",5:\"Motorcycle over 500cc\",8:\"Taxi/Private hire car\",\n",
    "#                               9:\"Car\",10:\"Minibus (8 - 16 passenger seats)\",11:\"Bus or coach (17 or more pass seats)\",\n",
    "#                               16:\"Ridden horse\",17:\"Agricultural vehicle\",18:\"Tram\",19:\"Van / Goods 3.5 tonnes mgw or under\",\n",
    "#                               20:\"Goods over 3.5t. and under 7.5t\",21:\"Goods 7.5 tonnes mgw and over\", 22:\"Mobility scooter\",\n",
    "#                               23:\"Electric motorcycle\",90:\"Other vehicle\",97:\"Motorcycle - unknown cc\",\n",
    "#                               98:\"Goods vehicle - unknown weight\",-1:\"Data missing or out of range\"}, inplace=True)\n",
    "# \n",
    "# accidents_s2 = pd.merge(accidents_s1, vehicles_type, on=\"Accident_Index\")\n",
    "# accidents_s2.head().transpose()\n",
    "\n",
    "casualty_by_vehicle = pd.merge(df_casualties, df_vehicles , on=[\"Accident_Index\",\"Vehicle_Reference\"], how='left')\n",
    "casualty_by_vehicle.head(1)"
   ]
  },
  {
   "cell_type": "code",
   "execution_count": null,
   "metadata": {},
   "outputs": [],
   "source": [
    "casualty_by_vehicle[\"Vehicle Category\"] = casualty_by_vehicle[\"Vehicle_Type\"].map({1:\"Pedal cycle\", 2:\"Motorcycle\",3:\"Motorcycle\",\n",
    "                               4:\"Motorcycle\",5:\"Motorcycle\",8:\"Taxi/Private hire car\",\n",
    "                               9:\"Car\",10:\"Minibus (8 - 16 passenger seats)\",11:\"Bus or coach (17 or more pass seats)\",\n",
    "                               16:\"Ridden horse\",17:\"Agricultural vehicle\",18:\"Tram\",19:\"Van / Goods 3.5 tonnes mgw or under\",\n",
    "                               20:\"Goods over 3.5t\",21:\"Goods over 3.5t\", 22:\"Mobility scooter\",\n",
    "                               23:\"Electric motorcycle\",90:\"Other vehicle\",97:\"Motorcycle\",\n",
    "                               98:\"Goods vehicle - unknown weight\",-1:\"Data missing or out of range\"})\n",
    "\n",
    "#casualty_by_vehicle[casualty_by_vehicle[\"Casualty_Class\"]==3].head().transpose()\n",
    "#df_vehicles.head()\n",
    "casualty_by_vehicle_type = casualty_by_vehicle[casualty_by_vehicle['Casualty_Severity']==1 & \n",
    "                                               (casualty_by_vehicle['Time stamp_y'].dt.year==2018)].groupby(by=\"Vehicle Category\").count()"
   ]
  },
  {
   "cell_type": "code",
   "execution_count": null,
   "metadata": {},
   "outputs": [],
   "source": [
    "\n",
    "\n",
    "fig, ax = plt.subplots()\n",
    "\n",
    "casualty_by_vehicle_type.sort_values(ascending=False, inplace=True, by=\"Accident_Index\")\n",
    "\n",
    "\n",
    "plt.bar(casualty_by_vehicle_type[\"Accident_Index\"].index, casualty_by_vehicle_type[\"Accident_Index\"].values,\n",
    "       color='#e91e63', zorder=3)\n",
    "plt.grid(which='major', axis='y', zorder=0)\n",
    "\n",
    "plt.xticks(rotation='vertical')\n",
    "plt.yscale(\"log\")\n",
    "plt.ylabel('Number of Fatal Casualties', fontsize=18)\n",
    "#plt.xlabel('Vehicle Category',fontsize=18)\n",
    "ax.tick_params(labelsize=14)\n",
    "ax.get_yaxis().set_major_formatter(plt.FuncFormatter(lambda x, loc: \"{:,}\".format(int(x))))\n"
   ]
  },
  {
   "cell_type": "code",
   "execution_count": null,
   "metadata": {},
   "outputs": [],
   "source": [
    "df_vehicles = df_vehicles.join(df_accidents[[\"Accident_Severity\"]],on=\"Accident_Index\",how='left')"
   ]
  },
  {
   "cell_type": "code",
   "execution_count": null,
   "metadata": {},
   "outputs": [],
   "source": [
    "df_vehicles_age = df_vehicles.drop(df_vehicles[df_vehicles[\"Age_of_Driver\"]<0].index)\n",
    "df_vehicles_age[\"Age_of_Driver\"].min()"
   ]
  },
  {
   "cell_type": "code",
   "execution_count": null,
   "metadata": {},
   "outputs": [],
   "source": [
    "sns.set_style({\n",
    "    'axes.spines.right': False,\n",
    "    'axes.spines.top': False,\n",
    "})\n",
    "\n",
    "bins=[0,16,25,35,45,55,65,75,85,95,105,115]\n",
    "plt.rcParams[\"axes.labelsize\"] = 14\n",
    "\n",
    "\n",
    "plt.figure(figsize=(20,10))\n",
    "\n",
    "\n",
    "b = sns.distplot(df_vehicles_age[\"Age_of_Driver\"], color='#37474F', bins=bins, norm_hist=True, label=\"Age of driver across all accidents\")\n",
    "b = sns.distplot(df_vehicles_age[df_vehicles_age['Accident_Severity']==1][\"Age_of_Driver\"], color='#e91e63',\n",
    "              bins=bins, norm_hist=True, label=\"Age of driver across fatal accidents\")\n",
    "\n",
    "#b.axes.set_title(\"Title\",fontsize=50)\n",
    "b.set_xlabel(\"Age\",fontsize=16)\n",
    "b.set_ylabel(\"Relative occurence\",fontsize=16)\n",
    "b.tick_params(labelsize=15)\n",
    "\n",
    "b.spines['left'].set_position(('data', 0))\n",
    "#b.xlim(0,110)\n",
    "b.set_xticks(bins)\n",
    "b.set_xticklabels(labels=['0','16','25','35','45','55','65','75','85','95','105','115'])\n",
    "b.set_xlim(0,115)\n",
    "#ax.spines['left'].set_position(('data', -1))\n",
    "\n",
    "\n",
    "#sns.plt.show()"
   ]
  },
  {
   "cell_type": "code",
   "execution_count": null,
   "metadata": {},
   "outputs": [],
   "source": [
    "plt.figure(figsize=(20,10))\n",
    "\n",
    "\n",
    "b = sns.distplot(df_casualties[df_casualties['Casualty_Severity']==1][\"Age_of_Casualty\"],\n",
    "                 color='#e91e63', bins=bins, label=\"Age of Fatal Casualties\")\n",
    "#b.axes.set_title(\"Title\",fontsize=50)\n",
    "b.set_xlabel(\"Age\",fontsize=16)\n",
    "b.set_ylabel(\"Relative occurence\",fontsize=16)\n",
    "b.tick_params(labelsize=15)\n",
    "\n",
    "b.spines['left'].set_position(('data', 0))\n",
    "#b.xlim(0,110)\n",
    "b.set_xticks(bins)\n",
    "b.set_xticklabels(labels=['0','16','25','35','45','55','65','75','85','95','105','115'])\n",
    "b.set_xlim(0,115)"
   ]
  },
  {
   "cell_type": "code",
   "execution_count": null,
   "metadata": {},
   "outputs": [],
   "source": [
    "df_casualties.head(1)"
   ]
  },
  {
   "cell_type": "code",
   "execution_count": null,
   "metadata": {},
   "outputs": [],
   "source": [
    "years = np.sort(df_casualties[\"Time stamp\"].dt.year.unique())\n",
    "\n",
    "\n",
    "\n",
    "plt.bar(years, fatalities_by_year, color='#e91e63')\n",
    "plt.xlabel('Year')\n",
    "plt.ylabel('Number of fatalities')\n"
   ]
  },
  {
   "cell_type": "code",
   "execution_count": null,
   "metadata": {},
   "outputs": [],
   "source": [
    "sum(fatalities_by_year)/len(fatalities_by_year)"
   ]
  },
  {
   "cell_type": "markdown",
   "metadata": {},
   "source": [
    "__Add:__\n",
    " - accidents by Road category\n",
    " - fatalities by road category\n",
    " - In Junction vs Not in junction"
   ]
  },
  {
   "cell_type": "code",
   "execution_count": null,
   "metadata": {},
   "outputs": [],
   "source": [
    "#pd.pivot_table(df_accidents, index='1st_Road_Class', )\n",
    "df_accidents.groupby(by='1st_Road_Class').count()\n",
    "#df_accidents.groupby(by='2nd_Road_Class').count()"
   ]
  },
  {
   "cell_type": "code",
   "execution_count": null,
   "metadata": {},
   "outputs": [],
   "source": [
    "df_casualties.groupby(by='1st_Road_Class').count()"
   ]
  },
  {
   "cell_type": "code",
   "execution_count": null,
   "metadata": {},
   "outputs": [],
   "source": [
    "df_casualties = df_casualties.head()"
   ]
  },
  {
   "cell_type": "code",
   "execution_count": null,
   "metadata": {},
   "outputs": [],
   "source": [
    "sns.set_palette(sns.color_palette(['#f44336','#e91e63',\n",
    "                                   '#9c27b0', '#ffc107', '#2196F3', '#03A9F4', '#00BCD4', '#009688']))\n",
    "\n",
    "df_accidents['Accident index']=df_accidents.index\n",
    "daily_accidents = df_accidents.resample('D', on='Time stamp').count()\n",
    "daily_accidents['Day_of_Week'] = daily_accidents.index.dayofweek\n",
    "daily_accidents.head()\n",
    "\n",
    "plt.figure(figsize=(16, 6))\n",
    "sns.catplot(x=\"Day_of_Week\", y=\"Accident index\", kind=\"swarm\", data=daily_accidents);\n"
   ]
  },
  {
   "cell_type": "code",
   "execution_count": null,
   "metadata": {},
   "outputs": [],
   "source": [
    "sns.color_palette()"
   ]
  },
  {
   "cell_type": "code",
   "execution_count": null,
   "metadata": {},
   "outputs": [],
   "source": [
    "sns.color_palette(['#f44336','#e91e63', '#9c27b0', '#ffc107', '#2196F3', '#03A9F4', '#00BCD4', '#009688'])"
   ]
  },
  {
   "cell_type": "markdown",
   "metadata": {},
   "source": [
    "## Animation\n",
    "\n",
    "Scatter plot"
   ]
  },
  {
   "cell_type": "code",
   "execution_count": null,
   "metadata": {},
   "outputs": [],
   "source": [
    "df_casualties = df_casualties.join(df_accidents[[\"Location_Easting_OSGR\", \"Location_Northing_OSGR\"]],on=\"Accident_Index\",how='left')"
   ]
  },
  {
   "cell_type": "code",
   "execution_count": null,
   "metadata": {},
   "outputs": [],
   "source": [
    "df_casualties.head(2)"
   ]
  },
  {
   "cell_type": "code",
   "execution_count": null,
   "metadata": {},
   "outputs": [],
   "source": [
    "df_accidents.head().transpose()"
   ]
  },
  {
   "cell_type": "code",
   "execution_count": 1,
   "metadata": {},
   "outputs": [
    {
     "ename": "NameError",
     "evalue": "name 'plt' is not defined",
     "output_type": "error",
     "traceback": [
      "\u001b[1;31m---------------------------------------------------------------------------\u001b[0m",
      "\u001b[1;31mNameError\u001b[0m                                 Traceback (most recent call last)",
      "\u001b[1;32m<ipython-input-1-14bd91b36587>\u001b[0m in \u001b[0;36m<module>\u001b[1;34m\u001b[0m\n\u001b[1;32m----> 1\u001b[1;33m \u001b[0mplt\u001b[0m\u001b[1;33m.\u001b[0m\u001b[0mfigure\u001b[0m\u001b[1;33m(\u001b[0m\u001b[0mfigsize\u001b[0m\u001b[1;33m=\u001b[0m\u001b[1;33m[\u001b[0m\u001b[1;36m25\u001b[0m\u001b[1;33m,\u001b[0m\u001b[1;36m25\u001b[0m\u001b[1;33m]\u001b[0m\u001b[1;33m)\u001b[0m\u001b[1;33m\u001b[0m\u001b[0m\n\u001b[0m\u001b[0;32m      2\u001b[0m \u001b[1;33m\u001b[0m\u001b[0m\n\u001b[0;32m      3\u001b[0m \u001b[0mplt\u001b[0m\u001b[1;33m.\u001b[0m\u001b[0maxis\u001b[0m\u001b[1;33m(\u001b[0m\u001b[1;34m'equal'\u001b[0m\u001b[1;33m)\u001b[0m\u001b[1;33m\u001b[0m\u001b[0m\n\u001b[0;32m      4\u001b[0m \u001b[0mplt\u001b[0m\u001b[1;33m.\u001b[0m\u001b[0mgrid\u001b[0m\u001b[1;33m(\u001b[0m\u001b[1;33m)\u001b[0m\u001b[1;33m\u001b[0m\u001b[0m\n\u001b[0;32m      5\u001b[0m \u001b[1;33m\u001b[0m\u001b[0m\n",
      "\u001b[1;31mNameError\u001b[0m: name 'plt' is not defined"
     ]
    }
   ],
   "source": [
    "plt.figure(figsize=[25,25])\n",
    "\n",
    "plt.axis('equal')\n",
    "plt.grid()\n",
    "\n",
    "\n",
    "plt.scatter(df_accidents[df_accidents[\"Accident_Severity\"]>1][\"Location_Easting_OSGR\"],\n",
    "           df_accidents[df_accidents[\"Accident_Severity\"]>1][\"Location_Northing_OSGR\"],\n",
    "            c='#37474F', s=0.3, alpha=0.4)\n",
    "plt.scatter(df_accidents[df_accidents[\"Accident_Severity\"]==1][\"Location_Easting_OSGR\"],\n",
    "           df_accidents[df_accidents[\"Accident_Severity\"]==1][\"Location_Northing_OSGR\"],\n",
    "            c='#e91e63', s=4*df_accidents[df_accidents[\"Accident_Severity\"]==1][\"Number_of_Casualties\"],\n",
    "            alpha=1)\n",
    "\n",
    "\n",
    "plt.title('Accidents')\n",
    "\n",
    "plt.ylim(0,200000)\n",
    "plt.xlim(100000,350000)\n",
    "\n",
    "plt.xlabel('OSGR Easting [m]')\n",
    "plt.ylabel('OSGR Northing [m]')\n",
    "plt.yticks([50000,100000,150000,200000,250000,300000])\n",
    "#plt.grid(linestyle=':')\n",
    "plt.grid(False)\n",
    "\n"
   ]
  },
  {
   "cell_type": "code",
   "execution_count": null,
   "metadata": {},
   "outputs": [],
   "source": [
    "plt.figure(figsize=[15,8])\n",
    "\n",
    "plt.axis('equal')\n",
    "plt.grid()\n",
    "plt.plot(accidents_s2_swp[\"Location_Easting_OSGR\"],\n",
    "           accidents_s2_swp[\"Location_Northing_OSGR\"], c='#e91e63',markersize=0.4, alpha=0.4, marker='o', linestyle='')\n",
    "\n",
    "plt.title('Accidents')\n",
    "\n",
    "plt.xlabel('OSGR Easting [m]')\n",
    "plt.ylabel('OSGR Northing [m]')\n",
    "plt.yticks([50000,100000,150000,200000])\n",
    "plt.grid(linestyle=':')"
   ]
  },
  {
   "cell_type": "code",
   "execution_count": null,
   "metadata": {},
   "outputs": [],
   "source": []
  },
  {
   "cell_type": "code",
   "execution_count": null,
   "metadata": {},
   "outputs": [],
   "source": [
    "from matplotlib.animation import FuncAnimation\n",
    "from IPython import display"
   ]
  },
  {
   "cell_type": "code",
   "execution_count": null,
   "metadata": {},
   "outputs": [],
   "source": []
  },
  {
   "cell_type": "code",
   "execution_count": null,
   "metadata": {},
   "outputs": [],
   "source": [
    "\n",
    "fig = plt.figure()\n",
    "x = []\n",
    "y = []\n",
    "lines = plt.plot(x, y, c='#e91e63',markersize=0.4, alpha=0.4, marker='o', linestyle='')\n",
    "line = lines[0]\n",
    "\n",
    "plt.figure(figsize=[15,8])\n",
    "\n",
    "\n",
    "\n",
    "plt.axis('equal')\n",
    "plt.grid()\n",
    "plt.title('Accidents')\n",
    "plt.xlabel('OSGR Easting [m]')\n",
    "plt.ylabel('OSGR Northing [m]')\n",
    "plt.yticks([50000,100000,150000,200000])\n",
    "plt.xticks([100000,150000,200000,250000,300000,350000,400000,450000])\n",
    "plt.grid(linestyle=':')\n",
    "\n",
    "\n",
    "\n",
    "\n",
    "def animate(i):\n",
    "    #\n",
    "    x.append(accidents_s2_swp[accidents_s2_swp[\"Time stamp\"].dt.dayofyear==i][\"Location_Easting_OSGR\"])\n",
    "    y.append(accidents_s2_swp[accidents_s2_swp[\"Time stamp\"].dt.dayofyear==i][\"Location_Northing_OSGR\"])\n",
    "    line.set_data(x,y)\n",
    "\n",
    "ani = FuncAnimation(fig, animate,frames=365, interval=365, repeat=True) \n",
    "\n",
    "# video = ani.to_html5_video()\n",
    "# html = display.HTML(video)\n",
    "# display.display(html)\n",
    "# plt.close()\n",
    "plt.show()"
   ]
  },
  {
   "cell_type": "code",
   "execution_count": null,
   "metadata": {},
   "outputs": [],
   "source": [
    "y[0]"
   ]
  },
  {
   "cell_type": "code",
   "execution_count": null,
   "metadata": {},
   "outputs": [],
   "source": [
    "\n",
    "plt.plot([x, y], c='#e91e63',markersize=0.4, alpha=0.4, marker='o', linestyle='')"
   ]
  },
  {
   "cell_type": "code",
   "execution_count": null,
   "metadata": {},
   "outputs": [],
   "source": [
    "# Fixing random state for reproducibility\n",
    "np.random.seed(19680801)\n",
    "\n",
    "\n",
    "# Create new Figure and an Axes which fills it.\n",
    "fig = plt.figure(figsize=(7, 7))\n",
    "ax = fig.add_axes([0, 0, 1, 1], frameon=False)\n",
    "ax.set_xlim(0, 1), ax.set_xticks([])\n",
    "ax.set_ylim(0, 1), ax.set_yticks([])\n",
    "\n",
    "# Create rain data\n",
    "n_drops = 50\n",
    "rain_drops = np.zeros(n_drops, dtype=[('position', float, 2),\n",
    "                                      ('size',     float, 1),\n",
    "                                      ('growth',   float, 1),\n",
    "                                      ('color',    float, 4)])\n",
    "\n",
    "# Initialize the raindrops in random positions and with\n",
    "# random growth rates.\n",
    "rain_drops['position'] = np.random.uniform(0, 1, (n_drops, 2))\n",
    "rain_drops['growth'] = np.random.uniform(50, 200, n_drops)\n",
    "\n",
    "# Construct the scatter which we will update during animation\n",
    "# as the raindrops develop.\n",
    "scat = ax.scatter(rain_drops['position'][:, 0], rain_drops['position'][:, 1],\n",
    "                  s=rain_drops['size'], lw=0.5, edgecolors=rain_drops['color'],\n",
    "                  facecolors='none')\n",
    "\n",
    "\n",
    "def update(frame_number):\n",
    "    # Get an index which we can use to re-spawn the oldest raindrop.\n",
    "    current_index = frame_number % n_drops\n",
    "\n",
    "    # Make all colors more transparent as time progresses.\n",
    "    rain_drops['color'][:, 3] -= 1.0/len(rain_drops)\n",
    "    rain_drops['color'][:, 3] = np.clip(rain_drops['color'][:, 3], 0, 1)\n",
    "\n",
    "    # Make all circles bigger.\n",
    "    rain_drops['size'] += rain_drops['growth']\n",
    "\n",
    "    # Pick a new position for oldest rain drop, resetting its size,\n",
    "    # color and growth factor.\n",
    "    rain_drops['position'][current_index] = np.random.uniform(0, 1, 2)\n",
    "    rain_drops['size'][current_index] = 5\n",
    "    rain_drops['color'][current_index] = (0, 0, 0, 1)\n",
    "    rain_drops['growth'][current_index] = np.random.uniform(50, 200)\n",
    "\n",
    "    # Update the scatter collection, with the new colors, sizes and positions.\n",
    "    scat.set_edgecolors(rain_drops['color'])\n",
    "    scat.set_sizes(rain_drops['size'])\n",
    "    scat.set_offsets(rain_drops['position'])\n",
    "\n",
    "\n",
    "# Construct the animation, using the update function as the animation director.\n",
    "animation = FuncAnimation(fig, update, interval=10)\n",
    "plt.show()"
   ]
  },
  {
   "cell_type": "code",
   "execution_count": null,
   "metadata": {},
   "outputs": [],
   "source": []
  }
 ],
 "metadata": {
  "kernelspec": {
   "display_name": "Python 3",
   "language": "python",
   "name": "python3"
  },
  "language_info": {
   "codemirror_mode": {
    "name": "ipython",
    "version": 3
   },
   "file_extension": ".py",
   "mimetype": "text/x-python",
   "name": "python",
   "nbconvert_exporter": "python",
   "pygments_lexer": "ipython3",
   "version": "3.6.5"
  }
 },
 "nbformat": 4,
 "nbformat_minor": 2
}
